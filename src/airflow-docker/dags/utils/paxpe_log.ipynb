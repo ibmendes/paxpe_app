{
 "cells": [
  {
   "cell_type": "markdown",
   "id": "0a130c5d",
   "metadata": {
    "papermill": {
     "duration": 0.009507,
     "end_time": "2024-10-25T21:39:36.593293",
     "exception": false,
     "start_time": "2024-10-25T21:39:36.583786",
     "status": "completed"
    },
    "tags": []
   },
   "source": [
    "# PAXPE - Ingestão de dados para banco de dados SQL do Azure usando serviços do Azure\n",
    "\n",
    "## Visão geral\n",
    "\n",
    "Este notebook demonstra como agendar um script Python para ingerir dados em um Banco de Dados SQL do Postgres, orquestrado pelo airflow.\n",
    "\n",
    "# Documentação do Processo de Criação de Tabelas com Dados do Yahoo Finance\n",
    "\n",
    "## Objetivo\n",
    "O objetivo deste processo é obter dados financeiros, de mercado, dividendos, valuation e informações gerais de empresas listadas na bolsa, utilizando a API do Yahoo Finance. Os dados são coletados para um ou mais tickers e organizados em DataFrames utilizando PySpark para garantir performance e escalabilidade, especialmente ao lidar com uma grande quantidade de tickers.\n",
    "\n",
    "1. **Coleta de Dados**: \n",
    "   - Para cada ticker fornecido, as informações relevantes foram extraídas da API do Yahoo Finance utilizando a biblioteca `yfinance`. Os dados foram organizados em dicionários para posterior conversão em DataFrames.\n",
    "\n",
    "2. **Criação dos DataFrames**:\n",
    "   - **Tabela Geral** (`df_geral`): Contém informações gerais da empresa, como setor, indústria, número de empregados, localização e resumo das atividades.\n",
    "   - **Tabela Financeira** (`df_financeira`): Contém dados financeiros da empresa, como capitalização de mercado, receita, lucro líquido, EBITDA, dívida total, entre outros.\n",
    "   - **Tabela de Mercado** (`df_mercado`): Inclui dados relacionados ao mercado, como preço atual, preço de abertura, volume de negociação, beta, entre outros.\n",
    "   - **Tabela de Dividendos** (`df_dividendos`): Contém informações sobre dividendos, incluindo taxa de dividendos, data ex-dividendo e índice de distribuição.\n",
    "   - **Tabela de Valuation** (`df_valuation`): Inclui dados de valuation da empresa, como índices P/E (Price to Earnings), P/B (Price to Book) e PEG (Price/Earnings to Growth).\n",
    "   - **Tabela de Retorno Mensal** (`df_retorno_mensal`): Retorno mensal da ação com base em preço da ação, dividendos e percentual\n",
    "\n",
    "## Considerações Finais\n",
    "Este processo permite a coleta eficiente e escalável de dados financeiros de várias empresas, facilitando análises complexas em grandes volumes de dados. O uso do PySpark garante que mesmo listas extensas de tickers possam ser processadas rapidamente, gerando tabelas estruturadas e prontas para análise.\n",
    "\n",
    "\n",
    "# Changelog\n",
    "\n",
    "| Responsável | Data       | Change Log                                                                                      |\n",
    "|-------------|------------|--------------------------------------------------------------------------------------------------|\n",
    "| IGOR MENDES | 10-08-24 | Criação do script em spark                   |\n",
    "| IGOR MENDES | 28-08-24 | Criação da logica de upsert com o postgresSQL                |\n",
    "| IGOR MENDES | 20-10-24 | Sprint 3 - adicionando indices a um dataframe               |"
   ]
  },
  {
   "cell_type": "code",
   "execution_count": 1,
   "id": "bed259b7",
   "metadata": {
    "execution": {
     "iopub.execute_input": "2024-10-25T21:39:36.604208Z",
     "iopub.status.busy": "2024-10-25T21:39:36.603924Z",
     "iopub.status.idle": "2024-10-25T21:39:49.874819Z",
     "shell.execute_reply": "2024-10-25T21:39:49.874194Z"
    },
    "jupyter": {
     "source_hidden": true
    },
    "papermill": {
     "duration": 13.277852,
     "end_time": "2024-10-25T21:39:49.876227",
     "exception": false,
     "start_time": "2024-10-25T21:39:36.598375",
     "status": "completed"
    },
    "tags": []
   },
   "outputs": [
    {
     "name": "stdout",
     "output_type": "stream",
     "text": [
      "Defaulting to user installation because normal site-packages is not writeable\r\n"
     ]
    },
    {
     "name": "stdout",
     "output_type": "stream",
     "text": [
      "Requirement already satisfied: yahoofinance in /home/airflow/.local/lib/python3.8/site-packages (0.0.2)\r\n",
      "Requirement already satisfied: pandas>=0.23.4 in /home/airflow/.local/lib/python3.8/site-packages (from yahoofinance) (2.0.3)\r\n",
      "Requirement already satisfied: beautifulsoup4>=4.6.3 in /home/airflow/.local/lib/python3.8/site-packages (from yahoofinance) (4.12.2)\r\n",
      "Requirement already satisfied: requests>=2.20.1 in /home/airflow/.local/lib/python3.8/site-packages (from yahoofinance) (2.31.0)\r\n",
      "Requirement already satisfied: soupsieve>1.2 in /home/airflow/.local/lib/python3.8/site-packages (from beautifulsoup4>=4.6.3->yahoofinance) (2.5)\r\n"
     ]
    },
    {
     "name": "stdout",
     "output_type": "stream",
     "text": [
      "Requirement already satisfied: numpy>=1.20.3 in /home/airflow/.local/lib/python3.8/site-packages (from pandas>=0.23.4->yahoofinance) (1.24.4)\r\n",
      "Requirement already satisfied: python-dateutil>=2.8.2 in /home/airflow/.local/lib/python3.8/site-packages (from pandas>=0.23.4->yahoofinance) (2.8.2)\r\n",
      "Requirement already satisfied: tzdata>=2022.1 in /home/airflow/.local/lib/python3.8/site-packages (from pandas>=0.23.4->yahoofinance) (2023.3)\r\n",
      "Requirement already satisfied: pytz>=2020.1 in /home/airflow/.local/lib/python3.8/site-packages (from pandas>=0.23.4->yahoofinance) (2023.3.post1)\r\n"
     ]
    },
    {
     "name": "stdout",
     "output_type": "stream",
     "text": [
      "Requirement already satisfied: charset-normalizer<4,>=2 in /home/airflow/.local/lib/python3.8/site-packages (from requests>=2.20.1->yahoofinance) (3.3.2)\r\n",
      "Requirement already satisfied: urllib3<3,>=1.21.1 in /home/airflow/.local/lib/python3.8/site-packages (from requests>=2.20.1->yahoofinance) (1.26.18)\r\n",
      "Requirement already satisfied: idna<4,>=2.5 in /home/airflow/.local/lib/python3.8/site-packages (from requests>=2.20.1->yahoofinance) (3.4)\r\n",
      "Requirement already satisfied: certifi>=2017.4.17 in /home/airflow/.local/lib/python3.8/site-packages (from requests>=2.20.1->yahoofinance) (2023.7.22)\r\n",
      "Requirement already satisfied: six>=1.5 in /home/airflow/.local/lib/python3.8/site-packages (from python-dateutil>=2.8.2->pandas>=0.23.4->yahoofinance) (1.16.0)\r\n"
     ]
    },
    {
     "name": "stdout",
     "output_type": "stream",
     "text": [
      "\r\n",
      "\u001b[1m[\u001b[0m\u001b[34;49mnotice\u001b[0m\u001b[1;39;49m]\u001b[0m\u001b[39;49m A new release of pip is available: \u001b[0m\u001b[31;49m23.0.1\u001b[0m\u001b[39;49m -> \u001b[0m\u001b[32;49m24.2\u001b[0m\r\n",
      "\u001b[1m[\u001b[0m\u001b[34;49mnotice\u001b[0m\u001b[1;39;49m]\u001b[0m\u001b[39;49m To update, run: \u001b[0m\u001b[32;49mpip install --upgrade pip\u001b[0m\r\n"
     ]
    },
    {
     "name": "stdout",
     "output_type": "stream",
     "text": [
      "Defaulting to user installation because normal site-packages is not writeable\r\n"
     ]
    },
    {
     "name": "stdout",
     "output_type": "stream",
     "text": [
      "Requirement already satisfied: yahooquery in /home/airflow/.local/lib/python3.8/site-packages (2.3.7)\r\n",
      "Requirement already satisfied: pandas<3.0.0,>=2.0.3 in /home/airflow/.local/lib/python3.8/site-packages (from yahooquery) (2.0.3)\r\n",
      "Requirement already satisfied: requests<3.0.0,>=2.31.0 in /home/airflow/.local/lib/python3.8/site-packages (from yahooquery) (2.31.0)\r\n",
      "Requirement already satisfied: lxml<5.0.0,>=4.9.3 in /home/airflow/.local/lib/python3.8/site-packages (from yahooquery) (4.9.3)\r\n",
      "Requirement already satisfied: tqdm<5.0.0,>=4.65.0 in /home/airflow/.local/lib/python3.8/site-packages (from yahooquery) (4.66.5)\r\n",
      "Requirement already satisfied: requests-futures<2.0.0,>=1.0.1 in /home/airflow/.local/lib/python3.8/site-packages (from yahooquery) (1.0.1)\r\n",
      "Requirement already satisfied: beautifulsoup4<5.0.0,>=4.12.2 in /home/airflow/.local/lib/python3.8/site-packages (from yahooquery) (4.12.2)\r\n",
      "Requirement already satisfied: soupsieve>1.2 in /home/airflow/.local/lib/python3.8/site-packages (from beautifulsoup4<5.0.0,>=4.12.2->yahooquery) (2.5)\r\n"
     ]
    },
    {
     "name": "stdout",
     "output_type": "stream",
     "text": [
      "Requirement already satisfied: pytz>=2020.1 in /home/airflow/.local/lib/python3.8/site-packages (from pandas<3.0.0,>=2.0.3->yahooquery) (2023.3.post1)\r\n",
      "Requirement already satisfied: tzdata>=2022.1 in /home/airflow/.local/lib/python3.8/site-packages (from pandas<3.0.0,>=2.0.3->yahooquery) (2023.3)\r\n",
      "Requirement already satisfied: numpy>=1.20.3 in /home/airflow/.local/lib/python3.8/site-packages (from pandas<3.0.0,>=2.0.3->yahooquery) (1.24.4)\r\n",
      "Requirement already satisfied: python-dateutil>=2.8.2 in /home/airflow/.local/lib/python3.8/site-packages (from pandas<3.0.0,>=2.0.3->yahooquery) (2.8.2)\r\n",
      "Requirement already satisfied: idna<4,>=2.5 in /home/airflow/.local/lib/python3.8/site-packages (from requests<3.0.0,>=2.31.0->yahooquery) (3.4)\r\n",
      "Requirement already satisfied: urllib3<3,>=1.21.1 in /home/airflow/.local/lib/python3.8/site-packages (from requests<3.0.0,>=2.31.0->yahooquery) (1.26.18)\r\n",
      "Requirement already satisfied: charset-normalizer<4,>=2 in /home/airflow/.local/lib/python3.8/site-packages (from requests<3.0.0,>=2.31.0->yahooquery) (3.3.2)\r\n",
      "Requirement already satisfied: certifi>=2017.4.17 in /home/airflow/.local/lib/python3.8/site-packages (from requests<3.0.0,>=2.31.0->yahooquery) (2023.7.22)\r\n"
     ]
    },
    {
     "name": "stdout",
     "output_type": "stream",
     "text": [
      "Requirement already satisfied: six>=1.5 in /home/airflow/.local/lib/python3.8/site-packages (from python-dateutil>=2.8.2->pandas<3.0.0,>=2.0.3->yahooquery) (1.16.0)\r\n"
     ]
    },
    {
     "name": "stdout",
     "output_type": "stream",
     "text": [
      "\r\n",
      "\u001b[1m[\u001b[0m\u001b[34;49mnotice\u001b[0m\u001b[1;39;49m]\u001b[0m\u001b[39;49m A new release of pip is available: \u001b[0m\u001b[31;49m23.0.1\u001b[0m\u001b[39;49m -> \u001b[0m\u001b[32;49m24.2\u001b[0m\r\n",
      "\u001b[1m[\u001b[0m\u001b[34;49mnotice\u001b[0m\u001b[1;39;49m]\u001b[0m\u001b[39;49m To update, run: \u001b[0m\u001b[32;49mpip install --upgrade pip\u001b[0m\r\n"
     ]
    },
    {
     "name": "stdout",
     "output_type": "stream",
     "text": [
      "Defaulting to user installation because normal site-packages is not writeable\r\n"
     ]
    },
    {
     "name": "stdout",
     "output_type": "stream",
     "text": [
      "Requirement already satisfied: yfinance in /home/airflow/.local/lib/python3.8/site-packages (0.2.43)\r\n",
      "Requirement already satisfied: pandas>=1.3.0 in /home/airflow/.local/lib/python3.8/site-packages (from yfinance) (2.0.3)\r\n",
      "Requirement already satisfied: peewee>=3.16.2 in /home/airflow/.local/lib/python3.8/site-packages (from yfinance) (3.17.6)\r\n",
      "Requirement already satisfied: lxml>=4.9.1 in /home/airflow/.local/lib/python3.8/site-packages (from yfinance) (4.9.3)\r\n",
      "Requirement already satisfied: platformdirs>=2.0.0 in /home/airflow/.local/lib/python3.8/site-packages (from yfinance) (3.11.0)\r\n",
      "Requirement already satisfied: frozendict>=2.3.4 in /home/airflow/.local/lib/python3.8/site-packages (from yfinance) (2.4.4)\r\n",
      "Requirement already satisfied: pytz>=2022.5 in /home/airflow/.local/lib/python3.8/site-packages (from yfinance) (2023.3.post1)\r\n",
      "Requirement already satisfied: html5lib>=1.1 in /home/airflow/.local/lib/python3.8/site-packages (from yfinance) (1.1)\r\n",
      "Requirement already satisfied: requests>=2.31 in /home/airflow/.local/lib/python3.8/site-packages (from yfinance) (2.31.0)\r\n",
      "Requirement already satisfied: multitasking>=0.0.7 in /home/airflow/.local/lib/python3.8/site-packages (from yfinance) (0.0.11)\r\n",
      "Requirement already satisfied: beautifulsoup4>=4.11.1 in /home/airflow/.local/lib/python3.8/site-packages (from yfinance) (4.12.2)\r\n",
      "Requirement already satisfied: numpy>=1.16.5 in /home/airflow/.local/lib/python3.8/site-packages (from yfinance) (1.24.4)\r\n",
      "Requirement already satisfied: soupsieve>1.2 in /home/airflow/.local/lib/python3.8/site-packages (from beautifulsoup4>=4.11.1->yfinance) (2.5)\r\n",
      "Requirement already satisfied: webencodings in /home/airflow/.local/lib/python3.8/site-packages (from html5lib>=1.1->yfinance) (0.5.1)\r\n",
      "Requirement already satisfied: six>=1.9 in /home/airflow/.local/lib/python3.8/site-packages (from html5lib>=1.1->yfinance) (1.16.0)\r\n"
     ]
    },
    {
     "name": "stdout",
     "output_type": "stream",
     "text": [
      "Requirement already satisfied: tzdata>=2022.1 in /home/airflow/.local/lib/python3.8/site-packages (from pandas>=1.3.0->yfinance) (2023.3)\r\n",
      "Requirement already satisfied: python-dateutil>=2.8.2 in /home/airflow/.local/lib/python3.8/site-packages (from pandas>=1.3.0->yfinance) (2.8.2)\r\n",
      "Requirement already satisfied: charset-normalizer<4,>=2 in /home/airflow/.local/lib/python3.8/site-packages (from requests>=2.31->yfinance) (3.3.2)\r\n",
      "Requirement already satisfied: certifi>=2017.4.17 in /home/airflow/.local/lib/python3.8/site-packages (from requests>=2.31->yfinance) (2023.7.22)\r\n",
      "Requirement already satisfied: urllib3<3,>=1.21.1 in /home/airflow/.local/lib/python3.8/site-packages (from requests>=2.31->yfinance) (1.26.18)\r\n",
      "Requirement already satisfied: idna<4,>=2.5 in /home/airflow/.local/lib/python3.8/site-packages (from requests>=2.31->yfinance) (3.4)\r\n"
     ]
    },
    {
     "name": "stdout",
     "output_type": "stream",
     "text": [
      "\r\n",
      "\u001b[1m[\u001b[0m\u001b[34;49mnotice\u001b[0m\u001b[1;39;49m]\u001b[0m\u001b[39;49m A new release of pip is available: \u001b[0m\u001b[31;49m23.0.1\u001b[0m\u001b[39;49m -> \u001b[0m\u001b[32;49m24.2\u001b[0m\r\n",
      "\u001b[1m[\u001b[0m\u001b[34;49mnotice\u001b[0m\u001b[1;39;49m]\u001b[0m\u001b[39;49m To update, run: \u001b[0m\u001b[32;49mpip install --upgrade pip\u001b[0m\r\n"
     ]
    },
    {
     "name": "stdout",
     "output_type": "stream",
     "text": [
      "Defaulting to user installation because normal site-packages is not writeable\r\n"
     ]
    },
    {
     "name": "stdout",
     "output_type": "stream",
     "text": [
      "Requirement already satisfied: psycopg2-binary in /home/airflow/.local/lib/python3.8/site-packages (2.9.9)\r\n"
     ]
    },
    {
     "name": "stdout",
     "output_type": "stream",
     "text": [
      "\r\n",
      "\u001b[1m[\u001b[0m\u001b[34;49mnotice\u001b[0m\u001b[1;39;49m]\u001b[0m\u001b[39;49m A new release of pip is available: \u001b[0m\u001b[31;49m23.0.1\u001b[0m\u001b[39;49m -> \u001b[0m\u001b[32;49m24.2\u001b[0m\r\n",
      "\u001b[1m[\u001b[0m\u001b[34;49mnotice\u001b[0m\u001b[1;39;49m]\u001b[0m\u001b[39;49m To update, run: \u001b[0m\u001b[32;49mpip install --upgrade pip\u001b[0m\r\n"
     ]
    }
   ],
   "source": [
    "#fontes - yahoo finance api\n",
    "!pip install yahoofinance\n",
    "!pip install yahooquery\n",
    "!pip install yfinance\n",
    "!pip install psycopg2-binary"
   ]
  },
  {
   "cell_type": "code",
   "execution_count": 2,
   "id": "9188cf5f",
   "metadata": {
    "execution": {
     "iopub.execute_input": "2024-10-25T21:39:49.889473Z",
     "iopub.status.busy": "2024-10-25T21:39:49.888916Z",
     "iopub.status.idle": "2024-10-25T21:39:53.485395Z",
     "shell.execute_reply": "2024-10-25T21:39:53.484738Z"
    },
    "jupyter": {
     "source_hidden": true
    },
    "papermill": {
     "duration": 3.604108,
     "end_time": "2024-10-25T21:39:53.486604",
     "exception": false,
     "start_time": "2024-10-25T21:39:49.882496",
     "status": "completed"
    },
    "tags": []
   },
   "outputs": [
    {
     "name": "stderr",
     "output_type": "stream",
     "text": [
      "/home/airflow/.local/lib/python3.8/site-packages/pyspark/bin/load-spark-env.sh: line 68: ps: command not found\n"
     ]
    },
    {
     "name": "stderr",
     "output_type": "stream",
     "text": [
      "24/10/25 21:39:51 WARN NativeCodeLoader: Unable to load native-hadoop library for your platform... using builtin-java classes where applicable\n",
      "Setting default log level to \"WARN\".\n",
      "To adjust logging level use sc.setLogLevel(newLevel). For SparkR, use setLogLevel(newLevel).\n"
     ]
    },
    {
     "data": {
      "text/html": [
       "\n",
       "            <div>\n",
       "                <p><b>SparkSession - in-memory</b></p>\n",
       "                \n",
       "        <div>\n",
       "            <p><b>SparkContext</b></p>\n",
       "\n",
       "            <p><a href=\"http://454ddca74d4f:4040\">Spark UI</a></p>\n",
       "\n",
       "            <dl>\n",
       "              <dt>Version</dt>\n",
       "                <dd><code>v3.5.2</code></dd>\n",
       "              <dt>Master</dt>\n",
       "                <dd><code>local[*]</code></dd>\n",
       "              <dt>AppName</dt>\n",
       "                <dd><code>PAXPE</code></dd>\n",
       "            </dl>\n",
       "        </div>\n",
       "        \n",
       "            </div>\n",
       "        "
      ],
      "text/plain": [
       "<pyspark.sql.session.SparkSession at 0x7f06bdd874f0>"
      ]
     },
     "execution_count": 2,
     "metadata": {},
     "output_type": "execute_result"
    }
   ],
   "source": [
    "import findspark\n",
    "findspark.init()  # Inicializa o Spark\n",
    "findspark.find()  # Verifica se o Spark está corretamente configurado\n",
    "\n",
    "from pyspark import SparkContext, SparkConf\n",
    "from pyspark.sql import SparkSession\n",
    "\n",
    "spark = (\n",
    "    SparkSession\n",
    "    .builder\n",
    "    .appName(\"PAXPE\")\n",
    "    .config(\"spark.sql.session.timeZone\", \"America/Sao_Paulo\")  # Define o fuso horário para São Paulo\n",
    "    .config(\"spark.driver.memory\", \"16g\")  # Memória do driver\n",
    "    .config(\"spark.executor.memory\", \"12g\")  # Memória para cada executor (ajuste conforme a carga)\n",
    "    .config(\"spark.executor.cores\", \"8\")  # Núcleos por executor\n",
    "    .config(\"spark.cores.max\", \"24\")  # Total de núcleos disponíveis\n",
    "    .config(\"spark.dynamicAllocation.enabled\", \"true\")\n",
    "    .config(\"spark.dynamicAllocation.minExecutors\", \"2\")\n",
    "    .config(\"spark.dynamicAllocation.maxExecutors\", \"10\")\n",
    "    .config(\"spark.dynamicAllocation.initialExecutors\", \"4\")\n",
    "    .config(\"spark.default.parallelism\", \"24\")  # Nível de paralelismo\n",
    "    .config(\"spark.memory.fraction\", \"0.8\")  # Memória usada para armazenamento e execução\n",
    "    .config(\"spark.memory.storageFraction\", \"0.5\")  # Memória usada para armazenamento\n",
    "    .config(\"spark.jars\", \"/opt/airflow/jars/postgresql-42.7.4.jar\")\n",
    "    .getOrCreate()\n",
    ")\n",
    "\n",
    "\n",
    "spark"
   ]
  },
  {
   "cell_type": "code",
   "execution_count": 3,
   "id": "3ec888c3",
   "metadata": {
    "execution": {
     "iopub.execute_input": "2024-10-25T21:39:53.500169Z",
     "iopub.status.busy": "2024-10-25T21:39:53.499872Z",
     "iopub.status.idle": "2024-10-25T21:39:54.353851Z",
     "shell.execute_reply": "2024-10-25T21:39:54.353267Z"
    },
    "jupyter": {
     "source_hidden": true
    },
    "papermill": {
     "duration": 0.862358,
     "end_time": "2024-10-25T21:39:54.355107",
     "exception": false,
     "start_time": "2024-10-25T21:39:53.492749",
     "status": "completed"
    },
    "tags": []
   },
   "outputs": [],
   "source": [
    "import pandas as pd\n",
    "\n",
    "import yfinance as yf\n",
    "from yfinance import Ticker\n",
    "#api yahoo\n",
    "from yahooquery import Screener, Ticker\n",
    "\n",
    "\n",
    "#criar timestamps e automatizar a safra de tempo da análise\n",
    "# apagar depois que tiver usando a api do spark sql\n",
    "from datetime import datetime, timedelta\n",
    "\n",
    "from pyspark.sql.functions import col, lit, when, lag, current_timestamp , date_format, from_utc_timestamp\n",
    "from pyspark.sql.types import StructType, StructField, StringType, FloatType, LongType, DateType, DoubleType,IntegerType\n",
    "from pyspark.sql.window import Window\n",
    "\n",
    "\n",
    "import psycopg2\n",
    "from psycopg2 import OperationalError\n",
    "import sys\n"
   ]
  },
  {
   "cell_type": "code",
   "execution_count": 4,
   "id": "d49678bc",
   "metadata": {
    "execution": {
     "iopub.execute_input": "2024-10-25T21:39:54.368047Z",
     "iopub.status.busy": "2024-10-25T21:39:54.367450Z",
     "iopub.status.idle": "2024-10-25T21:39:54.372712Z",
     "shell.execute_reply": "2024-10-25T21:39:54.372063Z"
    },
    "jupyter": {
     "source_hidden": true
    },
    "papermill": {
     "duration": 0.012462,
     "end_time": "2024-10-25T21:39:54.373694",
     "exception": false,
     "start_time": "2024-10-25T21:39:54.361232",
     "status": "completed"
    },
    "tags": []
   },
   "outputs": [],
   "source": [
    "def obter_empresas_ativas():\n",
    "    screener = Screener()\n",
    "    dados = screener.get_screeners('most_actives', count=200)\n",
    "    # print(dados)  # Linha de depuração para inspecionar a estrutura dos dados retornados\n",
    "    empresas = dados['most_actives']['quotes']\n",
    "    \n",
    "    # Criar um DataFrame a partir dos dados\n",
    "    df = spark.createDataFrame(empresas)\n",
    "    \n",
    "    # Colunas para corresponder ao site\n",
    "    colunas = [\n",
    "        'symbol', 'shortName', 'displayName', 'regularMarketPrice', 'regularMarketChange', \n",
    "        'regularMarketChangePercent', 'regularMarketVolume', 'marketCap', \n",
    "        'fullExchangeName', 'quoteSourceName'\n",
    "    ]\n",
    "    df = df.select(*colunas)\n",
    "    \n",
    "    # Renomear colunas para português\n",
    "    df = df.withColumnRenamed('symbol', 'ticker') \\\n",
    "           .withColumnRenamed('shortName', 'nome_curto') \\\n",
    "           .withColumnRenamed('displayName', 'nome_exibicao') \\\n",
    "           .withColumnRenamed('regularMarketPrice', 'preco_mercado_regular') \\\n",
    "           .withColumnRenamed('regularMarketChange', 'mudanca_mercado_regular') \\\n",
    "           .withColumnRenamed('regularMarketChangePercent', 'mudanca_percentual_mercado_regular') \\\n",
    "           .withColumnRenamed('regularMarketVolume', 'volume_mercado_regular') \\\n",
    "           .withColumnRenamed('marketCap', 'capitalizacao_mercado') \\\n",
    "           .withColumnRenamed('fullExchangeName', 'nome_exchange_completa') \\\n",
    "           .withColumnRenamed('quoteSourceName', 'nome_fonte_cotacao')\n",
    "    \n",
    "    # Adicionar coluna com data e hora atual\n",
    "    df = df.withColumn('dt_ptcao', date_format(current_timestamp(), 'yyyy-MM-dd'))\n",
    "    df = df.withColumn('dthr_igtao', current_timestamp())\n",
    "    \n",
    "    # Garantir que 'ticker' não tenha valores nulos\n",
    "    df = df.withColumn('ticker', col('ticker').cast('string'))\n",
    "    df = df.dropna(subset=['ticker'])\n",
    "\n",
    "    # Ordenar por capitalizacaoMercado\n",
    "    df = df.orderBy(col('capitalizacao_mercado').desc())\n",
    "    \n",
    "    return df"
   ]
  },
  {
   "cell_type": "code",
   "execution_count": 5,
   "id": "f6732709",
   "metadata": {
    "execution": {
     "iopub.execute_input": "2024-10-25T21:39:54.386657Z",
     "iopub.status.busy": "2024-10-25T21:39:54.386281Z",
     "iopub.status.idle": "2024-10-25T21:39:54.389641Z",
     "shell.execute_reply": "2024-10-25T21:39:54.389104Z"
    },
    "jupyter": {
     "source_hidden": true
    },
    "papermill": {
     "duration": 0.010906,
     "end_time": "2024-10-25T21:39:54.390596",
     "exception": false,
     "start_time": "2024-10-25T21:39:54.379690",
     "status": "completed"
    },
    "tags": []
   },
   "outputs": [],
   "source": [
    "def obter_dados_historicos(symbols, start_date, end_date):\n",
    "    dados = {}\n",
    "    for symbol in symbols:\n",
    "        ticker = yf.Ticker(symbol)\n",
    "        historico = ticker.history(start=start_date, end=end_date, interval='1mo')\n",
    "        dados[symbol] = historico\n",
    "    \n",
    "    return dados"
   ]
  },
  {
   "cell_type": "code",
   "execution_count": 6,
   "id": "9db3f135",
   "metadata": {
    "execution": {
     "iopub.execute_input": "2024-10-25T21:39:54.403230Z",
     "iopub.status.busy": "2024-10-25T21:39:54.402774Z",
     "iopub.status.idle": "2024-10-25T21:39:54.406724Z",
     "shell.execute_reply": "2024-10-25T21:39:54.406263Z"
    },
    "jupyter": {
     "source_hidden": true
    },
    "papermill": {
     "duration": 0.011005,
     "end_time": "2024-10-25T21:39:54.407661",
     "exception": false,
     "start_time": "2024-10-25T21:39:54.396656",
     "status": "completed"
    },
    "tags": []
   },
   "outputs": [],
   "source": [
    "\n",
    "from concurrent.futures import ThreadPoolExecutor, as_completed\n",
    "\n",
    "def obter_dados_historicos_ticker(symbol, start_date, end_date):\n",
    "    ticker = yf.Ticker(symbol)\n",
    "    historico = ticker.history(start=start_date, end=end_date, interval='1mo')\n",
    "    return (symbol, historico)\n",
    "\n",
    "def obter_dados_historicos(symbols, start_date, end_date):\n",
    "    dados = {}\n",
    "    \n",
    "    # Usar ThreadPoolExecutor para executar as solicitações em paralelo\n",
    "    with ThreadPoolExecutor(max_workers=10) as executor:\n",
    "        # Submit tarefas para o executor\n",
    "        futuros = [executor.submit(obter_dados_historicos_ticker, symbol, start_date, end_date) for symbol in symbols]\n",
    "        \n",
    "        # Coletar os resultados conforme as tarefas são concluídas\n",
    "        for futuro in as_completed(futuros):\n",
    "            symbol, historico = futuro.result()\n",
    "            dados[symbol] = historico\n",
    "    \n",
    "    return dados"
   ]
  },
  {
   "cell_type": "code",
   "execution_count": 7,
   "id": "c4de3eb2",
   "metadata": {
    "execution": {
     "iopub.execute_input": "2024-10-25T21:39:54.420176Z",
     "iopub.status.busy": "2024-10-25T21:39:54.419826Z",
     "iopub.status.idle": "2024-10-25T21:39:54.425755Z",
     "shell.execute_reply": "2024-10-25T21:39:54.425227Z"
    },
    "jupyter": {
     "source_hidden": true
    },
    "papermill": {
     "duration": 0.013524,
     "end_time": "2024-10-25T21:39:54.426757",
     "exception": false,
     "start_time": "2024-10-25T21:39:54.413233",
     "status": "completed"
    },
    "tags": []
   },
   "outputs": [],
   "source": [
    "def retorno_mensal(dados):\n",
    "    # Inicializar uma lista vazia para armazenar dados estruturados\n",
    "    dados_estruturados = []\n",
    "    \n",
    "    # Iterar sobre os dados históricos de cada símbolo\n",
    "    for symbol, df in dados.items():\n",
    "        # Converter DataFrame do Pandas para PySpark\n",
    "        df['symbol'] = symbol\n",
    "\n",
    "        df_spark = spark.createDataFrame(df.reset_index())\n",
    "        \n",
    "        \n",
    "        # Renomear colunas para português\n",
    "        df_spark = df_spark.withColumnRenamed('symbol', 'ticker') \\\n",
    "                        .withColumnRenamed('Date', 'data') \\\n",
    "                        .withColumnRenamed('Open', 'abertura') \\\n",
    "                        .withColumnRenamed('High', 'alta') \\\n",
    "                        .withColumnRenamed('Low', 'baixa') \\\n",
    "                        .withColumnRenamed('Close', 'fechamento') \\\n",
    "                        .withColumnRenamed('Volume', 'volume') \\\n",
    "                        .withColumnRenamed('Dividends', 'dividendos') \\\n",
    "                        .withColumnRenamed('Stock Splits', 'desdobramentos')\n",
    "\n",
    "        janela = Window.partitionBy('ticker').orderBy('Data')\n",
    "\n",
    "\n",
    "        # Calcular preço de fechamento do mês anterior (deslocar uma linha para cima)\n",
    "        df_spark = df_spark.withColumn('fechamento_mes_anterior', lag('fechamento').over(janela))\n",
    "\n",
    "        # Calcular Retorno em valor (diferença absoluta)\n",
    "        df_spark = df_spark.withColumn('valor_retorno', col('fechamento') - col('fechamento_mes_anterior'))\n",
    "\n",
    "        # Calcular Retorno em porcentagem\n",
    "        df_spark = df_spark.withColumn('porcentagem_retorno', (col('valor_retorno') / col('fechamento_mes_anterior')) * 100)\n",
    "\n",
    "        # Adicionar coluna com data atual no formato desejado\n",
    "        df_spark = df_spark.withColumn('dt_ptcao', date_format(current_timestamp(), 'yyyy-MM-dd'))\n",
    "        df_spark = df_spark.withColumn('dthr_igtao', current_timestamp())\n",
    "\n",
    "        # Reordenar colunas\n",
    "        df_spark = df_spark.select(\n",
    "            'ticker',               # 'symbol' traduzido para 'ticker'\n",
    "            'data',                 # 'date' traduzido para 'Data'\n",
    "            'abertura',             # 'open' traduzido para 'Abertura'\n",
    "            'alta',                 # 'high' traduzido para 'Alta'\n",
    "            'baixa',                # 'low' traduzido para 'Baixa'\n",
    "            'fechamento',           # 'close' traduzido para 'Fechamento'\n",
    "            'volume',               # 'volume' mantido como 'Volume'\n",
    "            'dividendos',           # 'dividends' traduzido para 'Dividendos'\n",
    "            'desdobramentos',       # 'splits' traduzido para 'Desdobramentos'\n",
    "            'fechamento_mes_anterior', # 'Close_Last_Month' traduzido para 'Fechamento_Mes_Anterior'\n",
    "            'valor_retorno',        # 'Return_Value' traduzido para 'Valor_Retorno'\n",
    "            'porcentagem_retorno',  # 'Return_Percentage' traduzido para 'Porcentagem_Retorno'\n",
    "            'dt_ptcao',             # 'dt_ptcao' mantido como está\n",
    "            'dthr_igtao'            # 'DTHR_IGTAO' mantido como está\n",
    "        )\n",
    "        \n",
    "        # Adicionar o DataFrame à lista de dados estruturados\n",
    "        dados_estruturados.append(df_spark)\n",
    "\n",
    "    # Unir todos os DataFrames em um único DataFrame\n",
    "    df_final = dados_estruturados[0]\n",
    "    for df in dados_estruturados[1:]:\n",
    "        df_final = df_final.union(df)\n",
    "    \n",
    "    return df_final"
   ]
  },
  {
   "cell_type": "markdown",
   "id": "d82ae9fb",
   "metadata": {
    "papermill": {
     "duration": 0.005841,
     "end_time": "2024-10-25T21:39:54.438269",
     "exception": false,
     "start_time": "2024-10-25T21:39:54.432428",
     "status": "completed"
    },
    "tags": []
   },
   "source": [
    "# Tabela fato -  maiores empresas segundo a api do yahoo finance"
   ]
  },
  {
   "cell_type": "code",
   "execution_count": 8,
   "id": "761d0a3a",
   "metadata": {
    "execution": {
     "iopub.execute_input": "2024-10-25T21:39:54.451113Z",
     "iopub.status.busy": "2024-10-25T21:39:54.450794Z",
     "iopub.status.idle": "2024-10-25T21:39:59.418573Z",
     "shell.execute_reply": "2024-10-25T21:39:59.418013Z"
    },
    "jupyter": {
     "source_hidden": true
    },
    "papermill": {
     "duration": 4.975508,
     "end_time": "2024-10-25T21:39:59.419631",
     "exception": false,
     "start_time": "2024-10-25T21:39:54.444123",
     "status": "completed"
    },
    "tags": []
   },
   "outputs": [
    {
     "name": "stderr",
     "output_type": "stream",
     "text": [
      "24/10/25 21:39:57 WARN SparkStringUtils: Truncated the string representation of a plan since it was too large. This behavior can be adjusted by setting 'spark.sql.debug.maxToStringFields'.\n"
     ]
    },
    {
     "name": "stderr",
     "output_type": "stream",
     "text": [
      "\r",
      "[Stage 0:>                                                        (0 + 24) / 24]\r",
      "\r",
      "[Stage 0:==>                                                      (1 + 23) / 24]\r"
     ]
    },
    {
     "name": "stderr",
     "output_type": "stream",
     "text": [
      "\r",
      "                                                                                \r"
     ]
    },
    {
     "name": "stdout",
     "output_type": "stream",
     "text": [
      "+------+--------------------+--------------------+---------------------+-----------------------+----------------------------------+----------------------+---------------------+----------------------+--------------------+----------+--------------------+\n",
      "|ticker|          nome_curto|       nome_exibicao|preco_mercado_regular|mudanca_mercado_regular|mudanca_percentual_mercado_regular|volume_mercado_regular|capitalizacao_mercado|nome_exchange_completa|  nome_fonte_cotacao|  dt_ptcao|          dthr_igtao|\n",
      "+------+--------------------+--------------------+---------------------+-----------------------+----------------------------------+----------------------+---------------------+----------------------+--------------------+----------+--------------------+\n",
      "|  AAPL|          Apple Inc.|               Apple|               231.41|             0.83999634|                        0.36431292|              37918358|        3521296728064|              NasdaqGS|Nasdaq Real Time ...|2024-10-25|2024-10-25 18:39:...|\n",
      "|  NVDA|  NVIDIA Corporation|              NVIDIA|               141.54|              1.1299896|                         0.8047786|             203385650|        3471975907328|              NasdaqGS|Nasdaq Real Time ...|2024-10-25|2024-10-25 18:39:...|\n",
      "|  MSFT|Microsoft Corpora...|           Microsoft|               428.15|               3.419983|                         0.8052134|              17007704|        3182455947264|              NasdaqGS|Nasdaq Real Time ...|2024-10-25|2024-10-25 18:39:...|\n",
      "| GOOGL|       Alphabet Inc.|                NULL|               165.27|               2.550003|                          1.567111|              19202678|        2044869214208|              NasdaqGS|Nasdaq Real Time ...|2024-10-25|2024-10-25 18:39:...|\n",
      "|  GOOG|       Alphabet Inc.|            Alphabet|               166.99|              2.4600067|                         1.4951721|              14224995|        2043423358976|              NasdaqGS|Nasdaq Real Time ...|2024-10-25|2024-10-25 18:39:...|\n",
      "|  AMZN|    Amazon.com, Inc.|          Amazon.com|               187.83|               1.449997|                        0.77797884|              28807294|        1971388547072|              NasdaqGS|Nasdaq Real Time ...|2024-10-25|2024-10-25 18:39:...|\n",
      "|  META|Meta Platforms, Inc.|      Meta Platforms|               573.25|              5.4699707|                        0.96339613|              11285408|        1439768903680|              NasdaqGS|Nasdaq Real Time ...|2024-10-25|2024-10-25 18:39:...|\n",
      "|   TSM|Taiwan Semiconduc...|Taiwan Semiconduc...|               203.44|                5.51001|                           2.78382|              13398313|        1055056068608|                  NYSE|Nasdaq Real Time ...|2024-10-25|2024-10-25 18:39:...|\n",
      "|  TSLA|         Tesla, Inc.|               Tesla|               269.19|               8.709991|                         3.3438232|             160034757|         864116080640|              NasdaqGS|Nasdaq Real Time ...|2024-10-25|2024-10-25 18:39:...|\n",
      "|  AVGO|       Broadcom Inc.|            Broadcom|                173.0|              1.6499939|                         0.9629377|              19086134|         818194874368|              NasdaqGS|Nasdaq Real Time ...|2024-10-25|2024-10-25 18:39:...|\n",
      "|   WMT|        Walmart Inc.|             Walmart|                82.51|              -0.529999|                         -0.638245|               6746568|         665073549312|                  NYSE|Nasdaq Real Time ...|2024-10-25|2024-10-25 18:39:...|\n",
      "|   JPM|JP Morgan Chase &...|    JPMorgan Chase &|               222.31|                  -2.67|                          -1.18677|               6323086|         625869389824|                  NYSE|Nasdaq Real Time ...|2024-10-25|2024-10-25 18:39:...|\n",
      "|   XOM|Exxon Mobil Corpo...|         Exxon Mobil|               119.49|             -0.0999985|                        -0.0836178|              10688513|         533892038656|                  NYSE|Nasdaq Real Time ...|2024-10-25|2024-10-25 18:39:...|\n",
      "|   JNJ|   Johnson & Johnson|                NULL|               160.88|               -2.78999|                          -1.70465|               6394796|         392521482240|                  NYSE|Nasdaq Real Time ...|2024-10-25|2024-10-25 18:39:...|\n",
      "|   BAC|Bank of America C...|     Bank of America|                41.89|              -0.760002|                          -1.78195|              20993405|         322082570240|                  NYSE|Nasdaq Real Time ...|2024-10-25|2024-10-25 18:39:...|\n",
      "|    KO|Coca-Cola Company...|                NULL|                66.92|              -0.380005|                         -0.564643|               8143955|         291468017664|                  NYSE|Nasdaq Real Time ...|2024-10-25|2024-10-25 18:39:...|\n",
      "|   MRK|Merck & Company, ...|             Merck &|               103.98|               -1.89999|                          -1.79448|               9604970|         264814182400|                  NYSE|Nasdaq Real Time ...|2024-10-25|2024-10-25 18:39:...|\n",
      "|   AMD|Advanced Micro De...|Advanced Micro De...|               156.23|              2.7899933|                          1.818296|              29452139|         252855123968|              NasdaqGS|Nasdaq Real Time ...|2024-10-25|2024-10-25 18:39:...|\n",
      "|  BABA|Alibaba Group Hol...|Alibaba Group Hol...|                97.42|                   1.06|                           1.10004|              16774270|         242482266112|                  NYSE|Nasdaq Real Time ...|2024-10-25|2024-10-25 18:39:...|\n",
      "|  CSCO| Cisco Systems, Inc.|       Cisco Systems|                55.74|             -0.2199974|                       -0.39313334|              14391219|         223451070464|              NasdaqGS|Nasdaq Real Time ...|2024-10-25|2024-10-25 18:39:...|\n",
      "+------+--------------------+--------------------+---------------------+-----------------------+----------------------------------+----------------------+---------------------+----------------------+--------------------+----------+--------------------+\n",
      "only showing top 20 rows\n",
      "\n",
      "root\n",
      " |-- ticker: string (nullable = true)\n",
      " |-- nome_curto: string (nullable = true)\n",
      " |-- nome_exibicao: string (nullable = true)\n",
      " |-- preco_mercado_regular: double (nullable = true)\n",
      " |-- mudanca_mercado_regular: double (nullable = true)\n",
      " |-- mudanca_percentual_mercado_regular: double (nullable = true)\n",
      " |-- volume_mercado_regular: long (nullable = true)\n",
      " |-- capitalizacao_mercado: long (nullable = true)\n",
      " |-- nome_exchange_completa: string (nullable = true)\n",
      " |-- nome_fonte_cotacao: string (nullable = true)\n",
      " |-- dt_ptcao: string (nullable = false)\n",
      " |-- dthr_igtao: timestamp (nullable = false)\n",
      "\n"
     ]
    }
   ],
   "source": [
    "df_ativas = obter_empresas_ativas()\n",
    "\n",
    "df_ativas.show()\n",
    "df_ativas.printSchema()"
   ]
  },
  {
   "cell_type": "markdown",
   "id": "0c2fa981",
   "metadata": {
    "papermill": {
     "duration": 0.006049,
     "end_time": "2024-10-25T21:39:59.432086",
     "exception": false,
     "start_time": "2024-10-25T21:39:59.426037",
     "status": "completed"
    },
    "tags": []
   },
   "source": [
    "# Dimensão - Retornos mensais 10 anos"
   ]
  },
  {
   "cell_type": "code",
   "execution_count": 9,
   "id": "f13a9222",
   "metadata": {
    "execution": {
     "iopub.execute_input": "2024-10-25T21:39:59.445370Z",
     "iopub.status.busy": "2024-10-25T21:39:59.444990Z",
     "iopub.status.idle": "2024-10-25T21:39:59.448767Z",
     "shell.execute_reply": "2024-10-25T21:39:59.448205Z"
    },
    "jupyter": {
     "source_hidden": true
    },
    "papermill": {
     "duration": 0.011987,
     "end_time": "2024-10-25T21:39:59.449923",
     "exception": false,
     "start_time": "2024-10-25T21:39:59.437936",
     "status": "completed"
    },
    "tags": []
   },
   "outputs": [
    {
     "name": "stdout",
     "output_type": "stream",
     "text": [
      "start_date: 2014-10-28\n",
      "end_date: 2024-10-25\n"
     ]
    }
   ],
   "source": [
    "# 10 anos passados\n",
    "start_date = datetime.today() - timedelta(days=10*365)\n",
    "\n",
    "# hoje\n",
    "end_date = datetime.today()\n",
    "\n",
    "# 'YYYY-MM-DD'\n",
    "start_date_str = start_date.strftime('%Y-%m-%d')\n",
    "end_date_str = end_date.strftime('%Y-%m-%d')\n",
    "\n",
    "print(f\"start_date: {start_date_str}\")\n",
    "print(f\"end_date: {end_date_str}\")\n"
   ]
  },
  {
   "cell_type": "code",
   "execution_count": 10,
   "id": "c3fcdfa1",
   "metadata": {
    "execution": {
     "iopub.execute_input": "2024-10-25T21:39:59.465288Z",
     "iopub.status.busy": "2024-10-25T21:39:59.464754Z",
     "iopub.status.idle": "2024-10-25T21:40:00.069634Z",
     "shell.execute_reply": "2024-10-25T21:40:00.069037Z"
    },
    "jupyter": {
     "source_hidden": true
    },
    "papermill": {
     "duration": 0.613672,
     "end_time": "2024-10-25T21:40:00.070770",
     "exception": false,
     "start_time": "2024-10-25T21:39:59.457098",
     "status": "completed"
    },
    "tags": []
   },
   "outputs": [
    {
     "name": "stdout",
     "output_type": "stream",
     "text": [
      "('AAPL', 'NVDA', 'MSFT', 'GOOGL', 'GOOG', 'AMZN', 'META', 'TSM', 'TSLA', 'AVGO', 'WMT', 'JPM', 'XOM', 'JNJ', 'BAC', 'KO', 'MRK', 'AMD', 'BABA', 'CSCO', 'WFC', 'IBM', 'MCD', 'ABT', 'TXN', 'MS', 'VZ', 'DIS', 'PDD', 'UBER', 'PFE', 'CMCSA', 'T', 'BSX', 'MU', 'NKE', 'C', 'SBUX', 'LRCX', 'PLTR', 'INTC', 'BA', 'INFY', 'PBR', 'PBR-A', 'APH', 'PYPL', 'CL', 'CARR', 'CRWD', 'CVS', 'MRVL', 'NU', 'FCX', 'NEM', 'CSX', 'WMB', 'JD', 'COF', 'DLR', 'SLB', 'GM', 'TFC', 'ET', 'ITUB', 'KMI', 'KDP', 'COIN', 'OXY', 'VALE', 'BCS', 'LYG', 'KVUE', 'F', 'MSTR', 'KHC', 'VRT', 'EW', 'LVS', 'XEL', 'ABEV', 'GOLD', 'DOW', 'DAL', 'CNC', 'OWL', 'LI', 'ON', 'DXCM', 'FITB', 'CCL', 'ERIC', 'SMCI', 'BEKE', 'NOK', 'DVN', 'BBD', 'DECK', 'HPE', 'HAL', 'UAL', 'WDC', 'HOOD', 'HBAN', 'ASX', 'EQT', 'RF', 'TEVA', 'UMC', 'LUV', 'WBD', 'DKNG', 'CTRA', 'SNAP', 'KEY', 'GRAB', 'ONON', 'AMCR', 'DOC', 'AVTR', 'CNH', 'KGC', 'AES', 'TPR', 'SOFI', 'NIO', 'XPEV', 'ALAB', 'PR', 'RIVN', 'AUR', 'GME', 'BILI', 'FHN', 'SKX', 'VKTX', 'CX', 'AAL', 'ASTS', 'AGNC', 'WBA', 'DJT', 'SMAR', 'U', 'CELH', 'VFC', 'BZ', 'ADT', 'BBWI', 'LUMN', 'LCID', 'GGB', 'TAL', 'NOV', 'CLF', 'ALTM', 'PSLV', 'RKLB', 'LYFT', 'MARA', 'NYCB', 'BTG', 'HL', 'WU', 'AQN', 'VRN', 'JOBY', 'AEO', 'NBIS', 'IBRX', 'NWL', 'RIG', 'IONQ', 'UAA', 'SBSW', 'CORZ', 'IAG', 'IOVA', 'RUN', 'PTEN', 'UEC', 'RIOT', 'CLSK', 'QS', 'CDE', 'MPW', 'EQX', 'JBLU', 'CPRI', 'WULF', 'GERN', 'PCT', 'IQ', 'PTON', 'BTE', 'OKLO', 'AG', 'NGD', 'VZIO', 'BE')\n"
     ]
    }
   ],
   "source": [
    "# Selecionar a coluna 'symbol' e coletar os valores como uma lista\n",
    "#100 maiores para dimensão das 100 maiores e retornos\n",
    "symbol_list = df_ativas.select('ticker').rdd.flatMap(lambda x: x).collect()\n",
    "\n",
    "# Converter a lista para uma tupla\n",
    "df_tickers = tuple(symbol_list)\n",
    "\n",
    "print(df_tickers)\n"
   ]
  },
  {
   "cell_type": "code",
   "execution_count": 11,
   "id": "0ad2d754",
   "metadata": {
    "execution": {
     "iopub.execute_input": "2024-10-25T21:40:00.084839Z",
     "iopub.status.busy": "2024-10-25T21:40:00.084566Z",
     "iopub.status.idle": "2024-10-25T21:40:37.819542Z",
     "shell.execute_reply": "2024-10-25T21:40:37.818964Z"
    },
    "jupyter": {
     "source_hidden": true
    },
    "papermill": {
     "duration": 37.743209,
     "end_time": "2024-10-25T21:40:37.820706",
     "exception": false,
     "start_time": "2024-10-25T21:40:00.077497",
     "status": "completed"
    },
    "tags": []
   },
   "outputs": [
    {
     "name": "stderr",
     "output_type": "stream",
     "text": [
      "\r",
      "[Stage 10:========>      (13 + 11) / 24][Stage 11:>               (1 + 13) / 24]\r"
     ]
    },
    {
     "name": "stderr",
     "output_type": "stream",
     "text": [
      "\r",
      "[Stage 13:> (4 + 20) / 24][Stage 14:>  (0 + 8) / 24][Stage 15:>  (0 + 0) / 24]\r"
     ]
    },
    {
     "name": "stderr",
     "output_type": "stream",
     "text": [
      "\r",
      "[Stage 16:> (9 + 15) / 24][Stage 17:>  (0 + 9) / 24][Stage 18:>  (0 + 0) / 24]\r",
      "\r",
      "[Stage 18:>(12 + 12) / 24][Stage 19:> (0 + 12) / 24][Stage 20:>  (0 + 0) / 24]\r"
     ]
    },
    {
     "name": "stderr",
     "output_type": "stream",
     "text": [
      "\r",
      "[Stage 20:=>(22 + 2) / 24][Stage 21:> (5 + 19) / 24][Stage 22:>  (0 + 5) / 24]\r"
     ]
    },
    {
     "name": "stderr",
     "output_type": "stream",
     "text": [
      "\r",
      "[Stage 23:=>(21 + 3) / 24][Stage 24:> (0 + 21) / 24][Stage 25:>  (0 + 0) / 24]\r",
      "\r",
      "[Stage 25:=>(15 + 9) / 24][Stage 26:> (4 + 19) / 24][Stage 27:>  (0 + 0) / 24]\r"
     ]
    },
    {
     "name": "stderr",
     "output_type": "stream",
     "text": [
      "\r",
      "[Stage 28:>(14 + 10) / 24][Stage 29:> (0 + 13) / 24][Stage 30:>  (0 + 0) / 24]\r"
     ]
    },
    {
     "name": "stderr",
     "output_type": "stream",
     "text": [
      "\r",
      "[Stage 30:=>(17 + 7) / 24][Stage 31:> (0 + 18) / 24][Stage 32:>  (0 + 0) / 24]\r"
     ]
    },
    {
     "name": "stderr",
     "output_type": "stream",
     "text": [
      "\r",
      "[Stage 33:=>(19 + 5) / 24][Stage 34:> (0 + 19) / 24][Stage 35:>  (0 + 0) / 24]\r"
     ]
    },
    {
     "name": "stderr",
     "output_type": "stream",
     "text": [
      "\r",
      "[Stage 35:=>(21 + 3) / 24][Stage 36:> (1 + 23) / 24][Stage 37:>  (0 + 5) / 24]\r",
      "\r",
      "[Stage 38:=>(21 + 3) / 24][Stage 39:> (1 + 23) / 24][Stage 40:>  (0 + 0) / 24]\r"
     ]
    },
    {
     "name": "stderr",
     "output_type": "stream",
     "text": [
      "\r",
      "[Stage 42:> (8 + 16) / 24][Stage 43:>  (0 + 8) / 24][Stage 44:>  (0 + 0) / 24]\r"
     ]
    },
    {
     "name": "stderr",
     "output_type": "stream",
     "text": [
      "\r",
      "[Stage 44:=>(18 + 6) / 24][Stage 45:> (0 + 18) / 24][Stage 46:>  (0 + 0) / 24]\r",
      "\r",
      "[Stage 47:=>(22 + 2) / 24][Stage 48:> (0 + 22) / 24][Stage 49:>  (0 + 0) / 24]\r"
     ]
    },
    {
     "name": "stderr",
     "output_type": "stream",
     "text": [
      "\r",
      "[Stage 51:>(13 + 11) / 24][Stage 52:> (0 + 13) / 24][Stage 53:>  (0 + 0) / 24]\r",
      "\r",
      "[Stage 54:=>(21 + 3) / 24][Stage 55:> (0 + 21) / 24][Stage 56:>  (0 + 0) / 24]\r"
     ]
    },
    {
     "name": "stderr",
     "output_type": "stream",
     "text": [
      "\r",
      "[Stage 58:>(11 + 13) / 24][Stage 59:> (0 + 11) / 24][Stage 60:>  (0 + 0) / 24]\r",
      "\r",
      "[Stage 62:> (5 + 19) / 24][Stage 63:>  (0 + 5) / 24][Stage 64:>  (0 + 0) / 24]\r"
     ]
    },
    {
     "name": "stderr",
     "output_type": "stream",
     "text": [
      "\r",
      "[Stage 65:>(11 + 13) / 24][Stage 66:> (0 + 11) / 24][Stage 67:>  (0 + 0) / 24]\r",
      "\r",
      "[Stage 69:> (1 + 23) / 24][Stage 70:>  (0 + 1) / 24][Stage 71:>  (0 + 0) / 24]\r"
     ]
    },
    {
     "name": "stderr",
     "output_type": "stream",
     "text": [
      "\r",
      "[Stage 72:> (5 + 19) / 24][Stage 73:>  (0 + 6) / 24][Stage 74:>  (0 + 0) / 24]\r",
      "\r",
      "[Stage 75:=>(15 + 9) / 24][Stage 76:> (0 + 17) / 24][Stage 77:>  (0 + 0) / 24]\r"
     ]
    },
    {
     "name": "stderr",
     "output_type": "stream",
     "text": [
      "\r",
      "[Stage 78:=>(22 + 2) / 24][Stage 79:> (4 + 20) / 24][Stage 80:>  (0 + 4) / 24]\r",
      "\r",
      "[Stage 82:=>(18 + 6) / 24][Stage 83:> (0 + 18) / 24][Stage 84:>  (0 + 0) / 24]\r"
     ]
    },
    {
     "name": "stderr",
     "output_type": "stream",
     "text": [
      "\r",
      "[Stage 85:> (8 + 16) / 24][Stage 86:> (0 + 10) / 24][Stage 87:>  (0 + 0) / 24]\r",
      "\r",
      "[Stage 88:>(12 + 12) / 24][Stage 89:> (0 + 12) / 24][Stage 90:>  (0 + 0) / 24]\r"
     ]
    },
    {
     "name": "stderr",
     "output_type": "stream",
     "text": [
      "\r",
      "[Stage 92:> (0 + 24) / 24][Stage 93:>  (0 + 0) / 24][Stage 94:>  (0 + 0) / 24]\r",
      "\r",
      "[Stage 95:>(12 + 12) / 24][Stage 96:> (0 + 12) / 24][Stage 97:>  (0 + 0) / 24]\r"
     ]
    },
    {
     "name": "stderr",
     "output_type": "stream",
     "text": [
      "\r",
      "[Stage 98:=>(19 + 5) / 24][Stage 99:> (0 + 19) / 24][Stage 100:> (0 + 0) / 24]\r",
      "\r",
      "[Stage 101:(12 + 12) / 24][Stage 102:>(0 + 19) / 24][Stage 103:> (0 + 0) / 24]\r"
     ]
    },
    {
     "name": "stderr",
     "output_type": "stream",
     "text": [
      "\r",
      "[Stage 105:>(3 + 21) / 24][Stage 106:> (0 + 3) / 24][Stage 107:> (0 + 0) / 24]\r",
      "\r",
      "[Stage 108:>(15 + 9) / 24][Stage 109:>(0 + 15) / 24][Stage 110:> (0 + 0) / 24]\r"
     ]
    },
    {
     "name": "stderr",
     "output_type": "stream",
     "text": [
      "\r",
      "[Stage 111:>(20 + 4) / 24][Stage 112:>(5 + 19) / 24][Stage 113:> (0 + 2) / 24]\r",
      "\r",
      "[Stage 115:>(3 + 21) / 24][Stage 116:> (0 + 3) / 24][Stage 117:> (0 + 0) / 24]\r"
     ]
    },
    {
     "name": "stderr",
     "output_type": "stream",
     "text": [
      "\r",
      "[Stage 118:(13 + 11) / 24][Stage 119:>(0 + 13) / 24][Stage 120:> (0 + 0) / 24]\r",
      "\r",
      "[Stage 121:>(22 + 2) / 24][Stage 122:>(6 + 18) / 24][Stage 123:> (0 + 4) / 24]\r"
     ]
    },
    {
     "name": "stderr",
     "output_type": "stream",
     "text": [
      "\r",
      "[Stage 125:(14 + 10) / 24][Stage 126:>(0 + 14) / 24][Stage 127:> (0 + 0) / 24]\r",
      "\r",
      "[Stage 129:>(3 + 21) / 24][Stage 130:> (0 + 3) / 24][Stage 131:> (0 + 0) / 24]\r"
     ]
    },
    {
     "name": "stderr",
     "output_type": "stream",
     "text": [
      "\r",
      "[Stage 133:>(3 + 21) / 24][Stage 134:> (0 + 3) / 24][Stage 135:> (0 + 0) / 24]\r",
      "\r",
      "[Stage 137:>(0 + 24) / 24][Stage 138:> (0 + 0) / 24][Stage 139:> (0 + 0) / 24]\r"
     ]
    },
    {
     "name": "stderr",
     "output_type": "stream",
     "text": [
      "\r",
      "[Stage 140:>(20 + 4) / 24][Stage 141:>(0 + 20) / 24][Stage 142:> (0 + 0) / 24]\r",
      "\r",
      "[Stage 144:>(20 + 4) / 24][Stage 145:>(0 + 20) / 24][Stage 146:> (0 + 0) / 24]\r"
     ]
    },
    {
     "name": "stderr",
     "output_type": "stream",
     "text": [
      "\r",
      "[Stage 148:>(17 + 7) / 24][Stage 149:>(0 + 17) / 24][Stage 150:> (0 + 0) / 24]\r",
      "\r",
      "[Stage 152:>(17 + 7) / 24][Stage 153:>(0 + 19) / 24][Stage 154:> (0 + 0) / 24]\r"
     ]
    },
    {
     "name": "stderr",
     "output_type": "stream",
     "text": [
      "\r",
      "[Stage 156:(13 + 11) / 24][Stage 157:>(0 + 14) / 24][Stage 158:> (0 + 0) / 24]\r",
      "\r",
      "[Stage 160:(13 + 11) / 24][Stage 161:>(0 + 15) / 24][Stage 162:> (0 + 0) / 24]\r"
     ]
    },
    {
     "name": "stderr",
     "output_type": "stream",
     "text": [
      "\r",
      "[Stage 164:>(9 + 15) / 24][Stage 165:>(0 + 12) / 24][Stage 166:> (0 + 0) / 24]\r",
      "\r",
      "[Stage 168:(12 + 12) / 24][Stage 169:>(0 + 12) / 24][Stage 170:> (0 + 0) / 24]\r"
     ]
    },
    {
     "name": "stderr",
     "output_type": "stream",
     "text": [
      "\r",
      "[Stage 172:>(9 + 15) / 24][Stage 173:>(0 + 10) / 24][Stage 174:> (0 + 0) / 24]\r",
      "\r",
      "[Stage 176:>(9 + 15) / 24][Stage 177:> (0 + 9) / 24][Stage 178:> (0 + 0) / 24]\r"
     ]
    },
    {
     "name": "stderr",
     "output_type": "stream",
     "text": [
      "\r",
      "[Stage 180:>(0 + 24) / 24][Stage 181:> (0 + 2) / 24][Stage 182:> (0 + 0) / 24]\r",
      "\r",
      "[Stage 183:(12 + 12) / 24][Stage 184:>(0 + 13) / 24][Stage 185:> (0 + 0) / 24]\r"
     ]
    },
    {
     "name": "stderr",
     "output_type": "stream",
     "text": [
      "\r",
      "[Stage 187:>(4 + 20) / 24][Stage 188:> (0 + 4) / 24][Stage 189:> (0 + 0) / 24]\r",
      "\r",
      "[Stage 190:>(19 + 5) / 24][Stage 191:>(1 + 19) / 24][Stage 192:> (0 + 0) / 24]\r"
     ]
    },
    {
     "name": "stderr",
     "output_type": "stream",
     "text": [
      "\r",
      "[Stage 193:>(18 + 6) / 24][Stage 194:>(2 + 18) / 24][Stage 195:> (0 + 0) / 24]\r",
      "\r",
      "[Stage 197:>(15 + 9) / 24][Stage 198:>(0 + 16) / 24][Stage 199:> (0 + 0) / 24]\r"
     ]
    },
    {
     "name": "stderr",
     "output_type": "stream",
     "text": [
      "\r",
      "[Stage 200:>(22 + 2) / 24][Stage 201:>(0 + 24) / 24][Stage 202:> (0 + 0) / 24]\r",
      "\r",
      "[Stage 204:====================================>                  (16 + 8) / 24]\r"
     ]
    },
    {
     "name": "stdout",
     "output_type": "stream",
     "text": [
      "+------+-------------------+------------------+------------------+------------------+------------------+----------+----------+--------------+-----------------------+--------------------+--------------------+----------+--------------------+\n",
      "|ticker|               data|          abertura|              alta|             baixa|        fechamento|    volume|dividendos|desdobramentos|fechamento_mes_anterior|       valor_retorno| porcentagem_retorno|  dt_ptcao|          dthr_igtao|\n",
      "+------+-------------------+------------------+------------------+------------------+------------------+----------+----------+--------------+-----------------------+--------------------+--------------------+----------+--------------------+\n",
      "|  TSLA|2014-11-01 02:00:00|16.200000762939453|17.332666397094727|15.233332633972168|16.301332473754883|1615827000|       0.0|           0.0|                   NULL|                NULL|                NULL|2024-10-25|2024-10-25 18:40:...|\n",
      "|  TSLA|2014-12-01 03:00:00|16.077333450317383|  16.1646671295166| 12.84333324432373|14.827333450317383|1904193000|       0.0|           0.0|     16.301332473754883|    -1.4739990234375|  -9.042199622703457|2024-10-25|2024-10-25 18:40:...|\n",
      "|  TSLA|2015-01-01 03:00:00|14.857999801635742|14.883333206176758|12.333333015441895|13.573332786560059|1353076500|       0.0|           0.0|     14.827333450317383| -1.2540006637573242|  -8.457357946114593|2024-10-25|2024-10-25 18:40:...|\n",
      "|  TSLA|2015-02-01 03:00:00|13.597999572753906|15.031999588012695|12.885333061218262|13.555999755859375|1600762500|       0.0|           0.0|     13.573332786560059|-0.01733303070068...|-0.12769915077781255|2024-10-25|2024-10-25 18:40:...|\n",
      "|  TSLA|2015-03-01 02:00:00|13.513333320617676|13.746000289916992| 12.09333324432373|12.584667205810547|1844851500|       0.0|           0.0|     13.555999755859375| -0.9713325500488281|  -7.165333192256694|2024-10-25|2024-10-25 18:40:...|\n",
      "|  TSLA|2015-04-01 01:00:00|12.579999923706055|15.916666984558105|12.403332710266113|15.069999694824219|1484176500|       0.0|           0.0|     12.584667205810547|   2.485332489013672|   19.74889322354232|2024-10-25|2024-10-25 18:40:...|\n",
      "|  TSLA|2015-05-01 01:00:00|15.329333305358887|16.857999801635742|14.683333396911621|16.719999313354492|1336917000|       0.0|           0.0|     15.069999694824219|  1.6499996185302734|  10.948902799891659|2024-10-25|2024-10-25 18:40:...|\n",
      "|  TSLA|2015-06-01 01:00:00| 16.76066780090332|  18.0939998626709|  16.3786678314209|17.884000778198242| 982096500|       0.0|           0.0|     16.719999313354492|    1.16400146484375|  6.9617315349651125|2024-10-25|2024-10-25 18:40:...|\n",
      "|  TSLA|2015-07-01 01:00:00|18.073999404907227|19.110000610351562| 16.71933364868164| 17.74333381652832|1200915000|       0.0|           0.0|     17.884000778198242|-0.14066696166992188| -0.7865519769010749|2024-10-25|2024-10-25 18:40:...|\n",
      "|  TSLA|2015-08-01 01:00:00|17.752666473388672|18.066667556762695|              13.0|16.604000091552734|1728961500|       0.0|           0.0|      17.74333381652832|  -1.139333724975586|  -6.421193090073471|2024-10-25|2024-10-25 18:40:...|\n",
      "|  TSLA|2015-09-01 01:00:00|16.022666931152344| 18.10466766357422| 15.79800033569336|16.559999465942383|1204321500|       0.0|           0.0|     16.604000091552734|-0.04400062561035156|-0.26500015278087613|2024-10-25|2024-10-25 18:40:...|\n",
      "|  TSLA|2015-10-01 01:00:00|16.500667572021484|  16.6560001373291|13.466667175292969|13.795332908630371|1512180000|       0.0|           0.0|     16.559999465942383| -2.7646665573120117|  -16.69484689898619|2024-10-25|2024-10-25 18:40:...|\n",
      "|  TSLA|2015-11-01 02:00:00|13.928000450134277|15.638667106628418|13.720000267028809|15.350666999816895|1177326000|       0.0|           0.0|     13.795332908630371|  1.5553340911865234|  11.274349821695894|2024-10-25|2024-10-25 18:40:...|\n",
      "|  TSLA|2015-12-01 03:00:00|15.404000282287598|16.242000579833984|14.324666976928711|16.000667572021484| 897682500|       0.0|           0.0|     15.350666999816895|  0.6500005722045898|   4.234347420944921|2024-10-25|2024-10-25 18:40:...|\n",
      "|  TSLA|2016-01-01 03:00:00|15.381333351135254|15.425333023071289|12.160667419433594| 12.74666690826416|1188708000|       0.0|           0.0|     16.000667572021484|  -3.254000663757324| -20.336655637088658|2024-10-25|2024-10-25 18:40:...|\n",
      "|  TSLA|2016-02-01 03:00:00|12.583999633789062|  13.3013334274292| 9.403332710266113|12.795332908630371|2005587000|       0.0|           0.0|      12.74666690826416| 0.04866600036621094|  0.3817939286909496|2024-10-25|2024-10-25 18:40:...|\n",
      "|  TSLA|2016-03-01 02:00:00|12.949999809265137|15.991999626159668|12.100000381469727|15.317999839782715|1543830000|       0.0|           0.0|     12.795332908630371|  2.5226669311523438|   19.71552400524742|2024-10-25|2024-10-25 18:40:...|\n",
      "|  TSLA|2016-04-01 01:00:00| 16.32200050354004| 17.95599937438965|15.550000190734863| 16.05066680908203|2032609500|       0.0|           0.0|     15.317999839782715|  0.7326669692993164|   4.783045939173409|2024-10-25|2024-10-25 18:40:...|\n",
      "|  TSLA|2016-05-01 01:00:00|16.100000381469727| 16.21266746520996|13.577333450317383|14.881999969482422|1549612500|       0.0|           0.0|      16.05066680908203| -1.1686668395996094|  -7.281110831721562|2024-10-25|2024-10-25 18:40:...|\n",
      "|  TSLA|2016-06-01 01:00:00| 14.76533317565918| 16.05666732788086|12.524666786193848|14.152000427246094|1825092000|       0.0|           0.0|     14.881999969482422| -0.7299995422363281|  -4.905251604174789|2024-10-25|2024-10-25 18:40:...|\n",
      "+------+-------------------+------------------+------------------+------------------+------------------+----------+----------+--------------+-----------------------+--------------------+--------------------+----------+--------------------+\n",
      "only showing top 20 rows\n",
      "\n"
     ]
    },
    {
     "name": "stderr",
     "output_type": "stream",
     "text": [
      "24/10/25 21:40:37 WARN DAGScheduler: Broadcasting large task binary with size 3.8 MiB\n",
      "\r",
      "                                                                                \r"
     ]
    }
   ],
   "source": [
    "historical_data = obter_dados_historicos(df_tickers, start_date_str, end_date_str)\n",
    "df_retorno_mensal = retorno_mensal(historical_data)\n",
    "\n",
    "# Mostrar o DataFrame final\n",
    "df_retorno_mensal.show()"
   ]
  },
  {
   "cell_type": "markdown",
   "id": "f5230bc4",
   "metadata": {
    "papermill": {
     "duration": 0.010579,
     "end_time": "2024-10-25T21:40:37.840131",
     "exception": false,
     "start_time": "2024-10-25T21:40:37.829552",
     "status": "completed"
    },
    "tags": []
   },
   "source": [
    "# dimensões gerais \n",
    "\n",
    "2. **Criação dos DataFrames**:\n",
    "   - **Tabela Geral** (`df_financeira`): Contém informações gerais da empresa, como setor, indústria, número de empregados, localização e resumo das atividades.\n",
    "   - **Tabela Financeira** (`df_financeira`): Contém dados financeiros da empresa, como capitalização de mercado, receita, lucro líquido, EBITDA, dívida total, entre outros.\n",
    "   - **Tabela de Mercado** (`df_mercado`): Inclui dados relacionados ao mercado, como preço atual, preço de abertura, volume de negociação, beta, entre outros.\n",
    "   - **Tabela de Dividendos** (`df_dividendos`): Contém informações sobre dividendos, incluindo taxa de dividendos, data ex-dividendo e índice de distribuição.\n",
    "   - **Tabela de Valuation** (`df_valuation`): Inclui dados de valuation da empresa, como índices P/E (Price to Earnings), P/B (Price to Book) e PEG (Price/Earnings to Growth).\n",
    "   - **Tabela de Retorno Mensal** (`df_retorno_mensal`): Retorno mensal da ação com base em preço da ação, dividendos e percentual"
   ]
  },
  {
   "cell_type": "code",
   "execution_count": 12,
   "id": "ac3f238a",
   "metadata": {
    "execution": {
     "iopub.execute_input": "2024-10-25T21:40:37.860836Z",
     "iopub.status.busy": "2024-10-25T21:40:37.860388Z",
     "iopub.status.idle": "2024-10-25T21:40:37.881246Z",
     "shell.execute_reply": "2024-10-25T21:40:37.880549Z"
    },
    "jupyter": {
     "source_hidden": true
    },
    "papermill": {
     "duration": 0.03274,
     "end_time": "2024-10-25T21:40:37.882394",
     "exception": false,
     "start_time": "2024-10-25T21:40:37.849654",
     "status": "completed"
    },
    "tags": []
   },
   "outputs": [],
   "source": [
    "from pyspark.sql.functions import from_unixtime, col\n",
    "\n",
    "def criar_tabelas_spark(tickers):\n",
    "    if isinstance(tickers, str):\n",
    "        tickers = (tickers,)\n",
    "    \n",
    "    # Esquema para a tabela geral\n",
    "    schema_geral = StructType([\n",
    "        StructField('ticker', StringType(), False),\n",
    "        StructField('setor', StringType(), True),\n",
    "        StructField('industria', StringType(), True),\n",
    "        StructField('funcionarios', IntegerType(), True),\n",
    "        StructField('cidade', StringType(), True),\n",
    "        StructField('estado', StringType(), True),\n",
    "        StructField('pais', StringType(), True),\n",
    "        StructField('website', StringType(), True),\n",
    "        StructField('resumo_negocios', StringType(), True),\n",
    "        StructField('exchange', StringType(), True)\n",
    "    ])\n",
    "    \n",
    "    # Esquema para a tabela financeira\n",
    "    schema_financeira = StructType([\n",
    "        StructField('ticker', StringType(), False),\n",
    "        StructField('capitalizacao_mercado', LongType(), True),\n",
    "        StructField('valor_empresa', LongType(), True),\n",
    "        StructField('receita', LongType(), True),\n",
    "        StructField('lucros_brutos', LongType(), True),\n",
    "        StructField('lucro_liquido', LongType(), True),\n",
    "        StructField('ebitda', LongType(), True),\n",
    "        StructField('divida_total', LongType(), True),\n",
    "        StructField('caixa_total', LongType(), True),\n",
    "        StructField('dividend_yield', DoubleType(), True)\n",
    "    ])\n",
    "    \n",
    "    # Esquema para a tabela de mercado\n",
    "    schema_mercado = StructType([\n",
    "        StructField('ticker', StringType(), False),\n",
    "        StructField('preco_atual', DoubleType(), True),\n",
    "        StructField('fechamento_anterior', DoubleType(), True),\n",
    "        StructField('abertura', DoubleType(), True),\n",
    "        StructField('minimo_dia', DoubleType(), True),\n",
    "        StructField('maximo_dia', DoubleType(), True),\n",
    "        StructField('minimo_52_semanas', DoubleType(), True),\n",
    "        StructField('maximo_52_semanas', DoubleType(), True),\n",
    "        StructField('volume', LongType(), True),\n",
    "        StructField('volume_medio', LongType(), True),\n",
    "        StructField('beta', DoubleType(), True)\n",
    "    ])\n",
    "    \n",
    "    # Esquema para a tabela de dividendos\n",
    "    schema_dividendos = StructType([\n",
    "        StructField('ticker', StringType(), False),\n",
    "        StructField('taxa_dividendo', DoubleType(), True),\n",
    "        StructField('data_exdividendo', StringType(), True),  # Temporariamente como StringType\n",
    "        StructField('indice_distribuicao', DoubleType(), True)\n",
    "    ])\n",
    "    \n",
    "    # Esquema para a tabela de valuation\n",
    "    schema_valuation = StructType([\n",
    "        StructField('ticker', StringType(), False),\n",
    "        StructField('pl_futuro', DoubleType(), True),\n",
    "        StructField('pl_retroativo', DoubleType(), True),\n",
    "        StructField('preco_booking', DoubleType(), True),\n",
    "        StructField('indice_preco_lucro_cresc', DoubleType(), True)\n",
    "    ])\n",
    "    \n",
    "    # Inicializa as listas de dicionários para cada tabela\n",
    "    geral = []\n",
    "    financeira = []\n",
    "    mercado = []\n",
    "    dividendos = []\n",
    "    valuation = []\n",
    "    \n",
    "    for ticker in tickers:\n",
    "        try:\n",
    "            empresa = yf.Ticker(ticker)\n",
    "            info = empresa.info\n",
    "            \n",
    "            # Filtra e trata valores infinitos\n",
    "            def safe_get(key, default=None):\n",
    "                value = info.get(key)\n",
    "                if isinstance(value, str) and value in ('Infinity', '-Infinity'):\n",
    "                    return default\n",
    "                return value\n",
    "            \n",
    "            # Preencher dados da tabela geral\n",
    "            geral.append({\n",
    "                'ticker': ticker,\n",
    "                'setor': info.get('sector'),\n",
    "                'industria': info.get('industry'),\n",
    "                'funcionarios': info.get('fullTimeEmployees'),\n",
    "                'cidade': info.get('city'),\n",
    "                'estado': info.get('state'),\n",
    "                'pais': info.get('country'),\n",
    "                'website': info.get('website'),\n",
    "                'resumo_negocios': info.get('longBusinessSummary'),\n",
    "                'exchange': info.get('exchange')\n",
    "            })\n",
    "            \n",
    "            # Preencher dados da tabela financeira\n",
    "            financeira.append({\n",
    "                'ticker': ticker,\n",
    "                'capitalizacao_mercado': safe_get('marketCap', 0),\n",
    "                'valor_empresa': safe_get('enterpriseValue', 0),\n",
    "                'receita': safe_get('revenue', 0),\n",
    "                'lucros_brutos': safe_get('grossProfits', 0),\n",
    "                'lucro_liquido': safe_get('netIncome', 0),\n",
    "                'ebitda': safe_get('ebitda', 0),\n",
    "                'divida_total': safe_get('totalDebt', 0),\n",
    "                'caixa_total': safe_get('totalCash', 0),\n",
    "                'dividend_yield': safe_get('dividendYield', 0.0)\n",
    "            })\n",
    "            \n",
    "            # Preencher dados da tabela de mercado\n",
    "            mercado.append({\n",
    "                'ticker': ticker,\n",
    "                'preco_atual': safe_get('currentPrice', 0.0),\n",
    "                'fechamento_anterior': safe_get('previousClose', 0.0),\n",
    "                'abertura': safe_get('open', 0.0),\n",
    "                'minimo_dia': safe_get('dayLow', 0.0),\n",
    "                'maximo_dia': safe_get('dayHigh', 0.0),\n",
    "                'minimo_52_semanas': safe_get('fiftyTwoWeekLow', 0.0),\n",
    "                'maximo_52_semanas': safe_get('fiftyTwoWeekHigh', 0.0),\n",
    "                'volume': safe_get('volume', 0),\n",
    "                'volume_medio': safe_get('averageVolume', 0),\n",
    "                'beta': safe_get('beta', 0.0)\n",
    "            })\n",
    "            \n",
    "            # Preencher dados da tabela de dividendos\n",
    "            dividendos.append({\n",
    "                'ticker': ticker,\n",
    "                'taxa_dividendo': safe_get('dividendRate', 0.0),\n",
    "                'data_exdividendo': safe_get('exDividendDate'),  # Unix timestamp\n",
    "                'indice_distribuicao': safe_get('payoutRatio', 0.0)\n",
    "            })\n",
    "            \n",
    "            # Preencher dados da tabela de valuation\n",
    "            valuation.append({\n",
    "                'ticker': ticker,\n",
    "                'pl_futuro': safe_get('forwardPE', 0.0),\n",
    "                'pl_retroativo': safe_get('trailingPE', 0.0),\n",
    "                'preco_booking': safe_get('priceToBook', 0.0),\n",
    "                'indice_preco_lucro_cresc': safe_get('pegRatio', 0.0)\n",
    "            })\n",
    "            \n",
    "        except Exception as e:\n",
    "            print(f\"Erro ao processar o ticker {ticker}: {e}\")\n",
    "    \n",
    "    # Criar DataFrames Spark com esquema definido\n",
    "    df_geral = spark.createDataFrame(geral, schema=schema_geral)\n",
    "    df_financeira = spark.createDataFrame(financeira, schema=schema_financeira)\n",
    "    df_mercado = spark.createDataFrame(mercado, schema=schema_mercado)\n",
    "    df_dividendos = spark.createDataFrame(dividendos, schema=schema_dividendos)\n",
    "    df_valuation = spark.createDataFrame(valuation, schema=schema_valuation)\n",
    "\n",
    "    # Converter Unix timestamp para data legível\n",
    "    df_dividendos = df_dividendos.withColumn('data_exdividendo', from_unixtime(col('data_exdividendo').cast('bigint')))\n",
    "    \n",
    "    # Adicionar colunas de timestamp\n",
    "    df_geral = df_geral.withColumn('dt_ptcao', date_format(current_timestamp(), 'yyyy-MM-dd'))\n",
    "    df_geral = df_geral.withColumn('dthr_igtao', current_timestamp())\n",
    "\n",
    "    df_financeira = df_financeira.withColumn('dt_ptcao', date_format(current_timestamp(), 'yyyy-MM-dd'))\n",
    "    df_financeira = df_financeira.withColumn('dthr_igtao', current_timestamp())\n",
    "\n",
    "    df_mercado = df_mercado.withColumn('dt_ptcao', date_format(current_timestamp(), 'yyyy-MM-dd'))\n",
    "    df_mercado = df_mercado.withColumn('dthr_igtao', current_timestamp())\n",
    "\n",
    "    df_dividendos = df_dividendos.withColumn('dt_ptcao', date_format(current_timestamp(), 'yyyy-MM-dd'))\n",
    "    df_dividendos = df_dividendos.withColumn('dthr_igtao', current_timestamp())\n",
    "\n",
    "    df_valuation = df_valuation.withColumn('dt_ptcao', date_format(current_timestamp(), 'yyyy-MM-dd'))\n",
    "    df_valuation = df_valuation.withColumn('dthr_igtao', current_timestamp())\n",
    "    \n",
    "    return df_geral, df_financeira, df_mercado, df_dividendos, df_valuation\n"
   ]
  },
  {
   "cell_type": "code",
   "execution_count": 13,
   "id": "9ba34055",
   "metadata": {
    "execution": {
     "iopub.execute_input": "2024-10-25T21:40:37.900703Z",
     "iopub.status.busy": "2024-10-25T21:40:37.900259Z",
     "iopub.status.idle": "2024-10-25T21:41:36.845009Z",
     "shell.execute_reply": "2024-10-25T21:41:36.844343Z"
    },
    "jupyter": {
     "source_hidden": true
    },
    "papermill": {
     "duration": 58.95556,
     "end_time": "2024-10-25T21:41:36.846116",
     "exception": false,
     "start_time": "2024-10-25T21:40:37.890556",
     "status": "completed"
    },
    "tags": []
   },
   "outputs": [
    {
     "name": "stdout",
     "output_type": "stream",
     "text": [
      "+------+--------------------+--------------------+------------+-------------+------+-------------+--------------------+--------------------+--------+----------+--------------------+\n",
      "|ticker|               setor|           industria|funcionarios|       cidade|estado|         pais|             website|     resumo_negocios|exchange|  dt_ptcao|          dthr_igtao|\n",
      "+------+--------------------+--------------------+------------+-------------+------+-------------+--------------------+--------------------+--------+----------+--------------------+\n",
      "|  AAPL|          Technology|Consumer Electronics|      161000|    Cupertino|    CA|United States|https://www.apple...|Apple Inc. design...|     NMS|2024-10-25|2024-10-25 18:41:...|\n",
      "|  NVDA|          Technology|      Semiconductors|       29600|  Santa Clara|    CA|United States|https://www.nvidi...|NVIDIA Corporatio...|     NMS|2024-10-25|2024-10-25 18:41:...|\n",
      "|  MSFT|          Technology|Software - Infras...|      228000|      Redmond|    WA|United States|https://www.micro...|Microsoft Corpora...|     NMS|2024-10-25|2024-10-25 18:41:...|\n",
      "| GOOGL|Communication Ser...|Internet Content ...|      179582|Mountain View|    CA|United States|     https://abc.xyz|Alphabet Inc. off...|     NMS|2024-10-25|2024-10-25 18:41:...|\n",
      "|  GOOG|Communication Ser...|Internet Content ...|      179582|Mountain View|    CA|United States|     https://abc.xyz|Alphabet Inc. off...|     NMS|2024-10-25|2024-10-25 18:41:...|\n",
      "|  AMZN|   Consumer Cyclical|     Internet Retail|     1525000|      Seattle|    WA|United States|https://www.about...|Amazon.com, Inc. ...|     NMS|2024-10-25|2024-10-25 18:41:...|\n",
      "|  META|Communication Ser...|Internet Content ...|       70799|   Menlo Park|    CA|United States|https://investor....|Meta Platforms, I...|     NMS|2024-10-25|2024-10-25 18:41:...|\n",
      "|   TSM|          Technology|      Semiconductors|        NULL| Hsinchu City|  NULL|       Taiwan|https://www.tsmc.com|Taiwan Semiconduc...|     NYQ|2024-10-25|2024-10-25 18:41:...|\n",
      "|  TSLA|   Consumer Cyclical|  Auto Manufacturers|      140473|       Austin|    TX|United States|https://www.tesla...|Tesla, Inc. desig...|     NMS|2024-10-25|2024-10-25 18:41:...|\n",
      "|  AVGO|          Technology|      Semiconductors|       20000|    Palo Alto|    CA|United States|https://www.broad...|Broadcom Inc. des...|     NMS|2024-10-25|2024-10-25 18:41:...|\n",
      "|   WMT|  Consumer Defensive|     Discount Stores|     2100000|  Bentonville|    AR|United States|https://corporate...|Walmart Inc. enga...|     NYQ|2024-10-25|2024-10-25 18:41:...|\n",
      "|   JPM|  Financial Services| Banks - Diversified|      316043|     New York|    NY|United States|https://www.jpmor...|JPMorgan Chase & ...|     NYQ|2024-10-25|2024-10-25 18:41:...|\n",
      "|   XOM|              Energy|Oil & Gas Integrated|       62000|       Spring|    TX|United States|https://corporate...|Exxon Mobil Corpo...|     NYQ|2024-10-25|2024-10-25 18:41:...|\n",
      "|   JNJ|          Healthcare|Drug Manufacturer...|      131900|New Brunswick|    NJ|United States| https://www.jnj.com|Johnson & Johnson...|     NYQ|2024-10-25|2024-10-25 18:41:...|\n",
      "|   BAC|  Financial Services| Banks - Diversified|      213491|    Charlotte|    NC|United States|https://www.banko...|Bank of America C...|     NYQ|2024-10-25|2024-10-25 18:41:...|\n",
      "|    KO|  Consumer Defensive|Beverages - Non-A...|       79100|      Atlanta|    GA|United States|https://www.coca-...|The Coca-Cola Com...|     NYQ|2024-10-25|2024-10-25 18:41:...|\n",
      "|   MRK|          Healthcare|Drug Manufacturer...|       70000|       Rahway|    NJ|United States|https://www.merck...|Merck & Co., Inc....|     NYQ|2024-10-25|2024-10-25 18:41:...|\n",
      "|   AMD|          Technology|      Semiconductors|       26000|  Santa Clara|    CA|United States| https://www.amd.com|Advanced Micro De...|     NMS|2024-10-25|2024-10-25 18:41:...|\n",
      "|  BABA|   Consumer Cyclical|     Internet Retail|      198162|     Hangzhou|  NULL|        China|https://www.aliba...|Alibaba Group Hol...|     NYQ|2024-10-25|2024-10-25 18:41:...|\n",
      "|  CSCO|          Technology|Communication Equ...|       90400|     San Jose|    CA|United States|https://www.cisco...|Cisco Systems, In...|     NMS|2024-10-25|2024-10-25 18:41:...|\n",
      "+------+--------------------+--------------------+------------+-------------+------+-------------+--------------------+--------------------+--------+----------+--------------------+\n",
      "only showing top 20 rows\n",
      "\n",
      "+------+---------------------+-------------+-------+-------------+-------------+-------------+------------+-------------+--------------+----------+--------------------+\n",
      "|ticker|capitalizacao_mercado|valor_empresa|receita|lucros_brutos|lucro_liquido|       ebitda|divida_total|  caixa_total|dividend_yield|  dt_ptcao|          dthr_igtao|\n",
      "+------+---------------------+-------------+-------+-------------+-------------+-------------+------------+-------------+--------------+----------+--------------------+\n",
      "|  AAPL|        3521296728064|3545120899072|   NULL|         NULL|         NULL| 131781001216|101304000512|  61801000960|        0.0043|2024-10-25|2024-10-25 18:41:...|\n",
      "|  NVDA|        3471975907328|3419472396288|   NULL|         NULL|         NULL|  61184000000| 10014999552|  34800001024|  2.9999999E-4|2024-10-25|2024-10-25 18:41:...|\n",
      "|  MSFT|        3182455947264|3179355308032|   NULL|         NULL|         NULL| 129433001984| 97851998208|  75531001856|        0.0078|2024-10-25|2024-10-25 18:41:...|\n",
      "| GOOGL|        2044869214208|1931077222400|   NULL|         NULL|         NULL| 115478003712| 28718999552| 100724998144|        0.0049|2024-10-25|2024-10-25 18:41:...|\n",
      "|  GOOG|        2043423358976|1953358282752|   NULL|         NULL|         NULL| 115478003712| 28718999552| 100724998144|        0.0049|2024-10-25|2024-10-25 18:41:...|\n",
      "|  AMZN|        1971388547072|2024913764352|   NULL|         NULL|         NULL| 104049000448|157841997824|  89091997696|          NULL|2024-10-25|2024-10-25 18:41:...|\n",
      "|  META|        1439768903680|1416290369536|   NULL|         NULL|         NULL|  74774003712| 37990998016|  58080002048|  0.0034999999|2024-10-25|2024-10-25 18:41:...|\n",
      "|   TSM|        1055056068608|3964741091328|   NULL|         NULL|         NULL|1797362417664|968509030400|2167600054272|        0.0125|2024-10-25|2024-10-25 18:41:...|\n",
      "|  TSLA|         864116080640| 816070328320|   NULL|         NULL|         NULL|  13244000256| 12782999552|  33648001024|          NULL|2024-10-25|2024-10-25 18:41:...|\n",
      "|  AVGO|         818194874368|  99803848704|   NULL|         NULL|         NULL|  22958000128| 40456998912|  11105000448|        0.0124|2024-10-25|2024-10-25 18:41:...|\n",
      "|   WMT|         665073549312| 728180391936|   NULL|         NULL|         NULL|  40779001856| 63146000384|   8810999808|          0.01|2024-10-25|2024-10-25 18:41:...|\n",
      "|   JPM|         625869389824| -43042807808|   NULL|         NULL|         NULL|         NULL|914490982400|1612570034176|        0.0222|2024-10-25|2024-10-25 18:41:...|\n",
      "|   XOM|         533892038656| 555904598016|   NULL|         NULL|         NULL|  70902996992| 43185999872|  26460000256|        0.0318|2024-10-25|2024-10-25 18:41:...|\n",
      "|   JNJ|         392521482240| 409509658624|   NULL|         NULL|         NULL|  29981999104| 35750998016|  20297000960|   0.030299999|2024-10-25|2024-10-25 18:41:...|\n",
      "|   BAC|         322082570240| 111429951488|   NULL|         NULL|         NULL|         NULL|776455979008|1017505972224|   0.024400001|2024-10-25|2024-10-25 18:41:...|\n",
      "|    KO|         291468017664| 319799001088|   NULL|         NULL|         NULL|  14862999552| 46264000512|  18164000768|   0.028800001|2024-10-25|2024-10-25 18:41:...|\n",
      "|   MRK|         264814182400| 294885621760|   NULL|         NULL|         NULL|  23631998976| 37788000256|  11354000384|        0.0291|2024-10-25|2024-10-25 18:41:...|\n",
      "|   AMD|         252855123968| 245244854272|   NULL|         NULL|         NULL|   4046000128|  2244999936|   5340000256|          NULL|2024-10-25|2024-10-25 18:41:...|\n",
      "|  BABA|         242482266112|1739685625856|   NULL|         NULL|         NULL| 176592994304|240122003456| 448923992064|        0.0208|2024-10-25|2024-10-25 18:41:...|\n",
      "|  CSCO|         223451070464| 236960514048|   NULL|         NULL|         NULL|  15281999872| 32242999296|  18603999232|        0.0286|2024-10-25|2024-10-25 18:41:...|\n",
      "+------+---------------------+-------------+-------+-------------+-------------+-------------+------------+-------------+--------------+----------+--------------------+\n",
      "only showing top 20 rows\n",
      "\n"
     ]
    },
    {
     "name": "stdout",
     "output_type": "stream",
     "text": [
      "+------+-----------+-------------------+--------+----------+----------+-----------------+-----------------+---------+------------+-----+----------+--------------------+\n",
      "|ticker|preco_atual|fechamento_anterior|abertura|minimo_dia|maximo_dia|minimo_52_semanas|maximo_52_semanas|   volume|volume_medio| beta|  dt_ptcao|          dthr_igtao|\n",
      "+------+-----------+-------------------+--------+----------+----------+-----------------+-----------------+---------+------------+-----+----------+--------------------+\n",
      "|  AAPL|     231.41|             230.57|  229.74|    229.57|     233.2|           164.08|           237.49| 37918358|    50521101|1.239|2024-10-25|2024-10-25 18:41:...|\n",
      "|  NVDA|     141.54|             140.41|  140.94|     140.8|    144.06|            39.23|           144.42|203385650|   320637379|1.669|2024-10-25|2024-10-25 18:41:...|\n",
      "|  MSFT|     428.15|             424.73|   426.9|     426.6|     432.5|            328.4|           468.35| 17007704|    19542334|0.896|2024-10-25|2024-10-25 18:41:...|\n",
      "| GOOGL|     165.27|             162.72|  163.67|    163.42|    165.59|           120.21|           191.75| 19202678|    24237060|1.038|2024-10-25|2024-10-25 18:41:...|\n",
      "|  GOOG|     166.99|             164.53| 165.365|    165.23|     167.4|           121.46|           193.31| 14224995|    16904714|1.038|2024-10-25|2024-10-25 18:41:...|\n",
      "|  AMZN|     187.83|             186.38|  187.85|    187.53|    190.45|           125.52|            201.2| 28807294|    37625334|1.147|2024-10-25|2024-10-25 18:41:...|\n",
      "|  META|     573.25|             567.78| 573.955|    571.72|  581.2816|           292.97|           602.95| 11285408|    12624060|1.216|2024-10-25|2024-10-25 18:41:...|\n",
      "|   TSM|     203.44|             197.93|  200.25|     200.0|     205.2|            84.95|            212.6| 13398313|    14963400|1.268|2024-10-25|2024-10-25 18:41:...|\n",
      "|  TSLA|     269.19|             260.48|  255.99|    255.32|    269.49|            138.8|            271.0|160034757|    79079650|2.297|2024-10-25|2024-10-25 18:41:...|\n",
      "|  AVGO|      173.0|             171.35|  174.19|    172.72|   176.796|           82.715|           186.42| 19086134|    26201067|1.184|2024-10-25|2024-10-25 18:41:...|\n",
      "|   WMT|      82.51|              83.04|    83.2|    82.435|      83.3|         49.84667|            83.34|  6746568|    16242268|0.516|2024-10-25|2024-10-25 18:41:...|\n",
      "|   JPM|     222.31|             224.98|   225.0|   220.875|  225.6117|           135.19|           225.92|  6323086|     8672035|1.102|2024-10-25|2024-10-25 18:41:...|\n",
      "|   XOM|     119.49|             119.59|   120.2|    119.32|    120.42|            95.77|           126.34| 10688513|    13834640|0.877|2024-10-25|2024-10-25 18:41:...|\n",
      "|   JNJ|     160.88|             163.67|  163.68|    160.61|    163.92|           143.13|           168.85|  6394796|     6280848|0.518|2024-10-25|2024-10-25 18:41:...|\n",
      "|   BAC|      41.89|              42.65|   42.92|     41.79|    42.975|            24.96|            44.44| 20993405|    38366589|1.338|2024-10-25|2024-10-25 18:41:...|\n",
      "|    KO|      66.92|               67.3|   67.07|     66.79|      67.7|             55.1|            73.53|  8143955|    14087023|0.608|2024-10-25|2024-10-25 18:41:...|\n",
      "|   MRK|     103.98|             105.88|  106.49|    103.86|    106.49|             99.8|           134.63|  9604970|     9870128|0.399|2024-10-25|2024-10-25 18:41:...|\n",
      "|   AMD|     156.23|             153.44|  155.31|   155.085|    158.91|            94.07|            227.3| 29452139|    41764850|1.695|2024-10-25|2024-10-25 18:41:...|\n",
      "|  BABA|      97.42|              96.36|    98.3|     97.14|     98.89|            66.63|           117.82| 16774270|    19757028|0.341|2024-10-25|2024-10-25 18:41:...|\n",
      "|  CSCO|      55.74|              55.96|   56.15|   55.6656|   56.6253|             44.5|            57.06| 14391219|    17990234|0.822|2024-10-25|2024-10-25 18:41:...|\n",
      "+------+-----------+-------------------+--------+----------+----------+-----------------+-----------------+---------+------------+-----+----------+--------------------+\n",
      "only showing top 20 rows\n",
      "\n",
      "+------+--------------+-------------------+-------------------+----------+--------------------+\n",
      "|ticker|taxa_dividendo|   data_exdividendo|indice_distribuicao|  dt_ptcao|          dthr_igtao|\n",
      "+------+--------------+-------------------+-------------------+----------+--------------------+\n",
      "|  AAPL|           1.0|2024-08-11 21:00:00|             0.1476|2024-10-25|2024-10-25 18:41:...|\n",
      "|  NVDA|          0.04|2024-09-11 21:00:00|        0.010299999|2024-10-25|2024-10-25 18:41:...|\n",
      "|  MSFT|          3.32|2024-11-20 21:00:00|             0.2483|2024-10-25|2024-10-25 18:41:...|\n",
      "| GOOGL|           0.8|2024-09-08 21:00:00|             0.0287|2024-10-25|2024-10-25 18:41:...|\n",
      "|  GOOG|           0.8|2024-09-08 21:00:00|             0.0287|2024-10-25|2024-10-25 18:41:...|\n",
      "|  AMZN|          NULL|               NULL|               NULL|2024-10-25|2024-10-25 18:41:...|\n",
      "|  META|           2.0|2024-09-15 21:00:00|             0.0512|2024-10-25|2024-10-25 18:41:...|\n",
      "|   TSM|          2.47|2024-12-11 21:00:00|         0.35900003|2024-10-25|2024-10-25 18:41:...|\n",
      "|  TSLA|          NULL|               NULL|               NULL|2024-10-25|2024-10-25 18:41:...|\n",
      "|  AVGO|          2.12|2024-09-18 21:00:00|             1.6438|2024-10-25|2024-10-25 18:41:...|\n",
      "|   WMT|          0.83|2024-12-11 21:00:00|             0.4141|2024-10-25|2024-10-25 18:41:...|\n",
      "|   JPM|           5.0|2024-10-03 21:00:00|             0.2557|2024-10-25|2024-10-25 18:41:...|\n",
      "|   XOM|           3.8|2024-08-14 21:00:00|         0.44979998|2024-10-25|2024-10-25 18:41:...|\n",
      "|   JNJ|          4.96|2024-11-25 21:00:00|             0.8033|2024-10-25|2024-10-25 18:41:...|\n",
      "|   BAC|          1.04|2024-12-05 21:00:00|         0.35509998|2024-10-25|2024-10-25 18:41:...|\n",
      "|    KO|          1.94|2024-11-28 21:00:00|             0.7946|2024-10-25|2024-10-25 18:41:...|\n",
      "|   MRK|          3.08|2024-09-15 21:00:00|         0.56299996|2024-10-25|2024-10-25 18:41:...|\n",
      "|   AMD|          NULL|1995-04-26 21:00:00|               NULL|2024-10-25|2024-10-25 18:41:...|\n",
      "|  BABA|           2.0|2024-06-12 21:00:00|             0.5142|2024-10-25|2024-10-25 18:41:...|\n",
      "|  CSCO|           1.6|2024-10-01 21:00:00|              0.622|2024-10-25|2024-10-25 18:41:...|\n",
      "+------+--------------+-------------------+-------------------+----------+--------------------+\n",
      "only showing top 20 rows\n",
      "\n"
     ]
    },
    {
     "name": "stdout",
     "output_type": "stream",
     "text": [
      "+------+---------+-------------+-------------+------------------------+----------+--------------------+\n",
      "|ticker|pl_futuro|pl_retroativo|preco_booking|indice_preco_lucro_cresc|  dt_ptcao|          dthr_igtao|\n",
      "+------+---------+-------------+-------------+------------------------+----------+--------------------+\n",
      "|  AAPL|30.978582|     35.22222|     52.80922|                    3.11|2024-10-25|2024-10-25 18:41:...|\n",
      "|  NVDA| 34.86207|      66.4507|    59.771957|                    0.86|2024-10-25|2024-10-25 18:41:...|\n",
      "|  MSFT|28.149244|    36.253174|    11.855185|                    2.17|2024-10-25|2024-10-25 18:41:...|\n",
      "| GOOGL|18.996553|     23.74569|    6.7711406|                    1.03|2024-10-25|2024-10-25 18:41:...|\n",
      "|  GOOG|19.216343|     23.92407|    6.8416095|                    1.04|2024-10-25|2024-10-25 18:41:...|\n",
      "|  AMZN| 32.49654|    44.828163|     8.333185|                    1.24|2024-10-25|2024-10-25 18:41:...|\n",
      "|  META|  23.4554|    29.352278|       9.2627|                    1.95|2024-10-25|2024-10-25 18:41:...|\n",
      "|   TSM|25.178219|    36.070923|    1.3220004|                    1.45|2024-10-25|2024-10-25 18:41:...|\n",
      "|  TSLA| 85.18671|     73.75069|    12.344768|                   51.68|2024-10-25|2024-10-25 18:41:...|\n",
      "|  AVGO|28.038898|     140.6504|     2.921261|                    1.79|2024-10-25|2024-10-25 18:41:...|\n",
      "|   WMT|30.334558|     42.97396|    7.8528605|                    3.33|2024-10-25|2024-10-25 18:41:...|\n",
      "|   JPM|13.288105|    12.350555|    1.9305954|                    4.58|2024-10-25|2024-10-25 18:41:...|\n",
      "|   XOM|14.344538|    14.293062|    1.9778856|                    4.35|2024-10-25|2024-10-25 18:41:...|\n",
      "|   JNJ|15.134525|    26.547855|     5.520176|                    5.48|2024-10-25|2024-10-25 18:41:...|\n",
      "|   BAC|11.508242|    15.177536|    1.1843035|                     1.3|2024-10-25|2024-10-25 18:41:...|\n",
      "|    KO|22.306665|    27.767633|    10.875996|                    4.14|2024-10-25|2024-10-25 18:41:...|\n",
      "|   MRK|10.708549|    19.255556|    6.0495696|                    0.16|2024-10-25|2024-10-25 18:41:...|\n",
      "|   AMD|28.666056|     185.9881|    4.4709954|                    1.37|2024-10-25|2024-10-25 18:41:...|\n",
      "|  BABA| 9.870314|     24.85204|   0.24697055|                   63.08|2024-10-25|2024-10-25 18:41:...|\n",
      "|  CSCO|14.329049|    21.944883|     4.913611|                    3.88|2024-10-25|2024-10-25 18:41:...|\n",
      "+------+---------+-------------+-------------+------------------------+----------+--------------------+\n",
      "only showing top 20 rows\n",
      "\n"
     ]
    }
   ],
   "source": [
    "df_geral, df_financeira, df_mercado, df_dividendos, df_valuation = criar_tabelas_spark(df_tickers)\n",
    "# Exibir os DataFrames\n",
    "df_geral.show()\n",
    "df_financeira.show()\n",
    "df_mercado.show()\n",
    "df_dividendos.show()\n",
    "df_valuation.show()"
   ]
  },
  {
   "cell_type": "code",
   "execution_count": 14,
   "id": "57f98747",
   "metadata": {
    "execution": {
     "iopub.execute_input": "2024-10-25T21:41:36.863647Z",
     "iopub.status.busy": "2024-10-25T21:41:36.863131Z",
     "iopub.status.idle": "2024-10-25T21:41:36.868398Z",
     "shell.execute_reply": "2024-10-25T21:41:36.867862Z"
    },
    "jupyter": {
     "source_hidden": true
    },
    "papermill": {
     "duration": 0.015107,
     "end_time": "2024-10-25T21:41:36.869350",
     "exception": false,
     "start_time": "2024-10-25T21:41:36.854243",
     "status": "completed"
    },
    "tags": []
   },
   "outputs": [
    {
     "name": "stdout",
     "output_type": "stream",
     "text": [
      "root\n",
      " |-- ticker: string (nullable = true)\n",
      " |-- data: timestamp (nullable = true)\n",
      " |-- abertura: double (nullable = true)\n",
      " |-- alta: double (nullable = true)\n",
      " |-- baixa: double (nullable = true)\n",
      " |-- fechamento: double (nullable = true)\n",
      " |-- volume: long (nullable = true)\n",
      " |-- dividendos: double (nullable = true)\n",
      " |-- desdobramentos: double (nullable = true)\n",
      " |-- fechamento_mes_anterior: double (nullable = true)\n",
      " |-- valor_retorno: double (nullable = true)\n",
      " |-- porcentagem_retorno: double (nullable = true)\n",
      " |-- dt_ptcao: string (nullable = false)\n",
      " |-- dthr_igtao: timestamp (nullable = false)\n",
      "\n",
      "root\n",
      " |-- ticker: string (nullable = true)\n",
      " |-- nome_curto: string (nullable = true)\n",
      " |-- nome_exibicao: string (nullable = true)\n",
      " |-- preco_mercado_regular: double (nullable = true)\n",
      " |-- mudanca_mercado_regular: double (nullable = true)\n",
      " |-- mudanca_percentual_mercado_regular: double (nullable = true)\n",
      " |-- volume_mercado_regular: long (nullable = true)\n",
      " |-- capitalizacao_mercado: long (nullable = true)\n",
      " |-- nome_exchange_completa: string (nullable = true)\n",
      " |-- nome_fonte_cotacao: string (nullable = true)\n",
      " |-- dt_ptcao: string (nullable = false)\n",
      " |-- dthr_igtao: timestamp (nullable = false)\n",
      "\n",
      "root\n",
      " |-- ticker: string (nullable = false)\n",
      " |-- setor: string (nullable = true)\n",
      " |-- industria: string (nullable = true)\n",
      " |-- funcionarios: integer (nullable = true)\n",
      " |-- cidade: string (nullable = true)\n",
      " |-- estado: string (nullable = true)\n",
      " |-- pais: string (nullable = true)\n",
      " |-- website: string (nullable = true)\n",
      " |-- resumo_negocios: string (nullable = true)\n",
      " |-- exchange: string (nullable = true)\n",
      " |-- dt_ptcao: string (nullable = false)\n",
      " |-- dthr_igtao: timestamp (nullable = false)\n",
      "\n",
      "root\n",
      " |-- ticker: string (nullable = false)\n",
      " |-- capitalizacao_mercado: long (nullable = true)\n",
      " |-- valor_empresa: long (nullable = true)\n",
      " |-- receita: long (nullable = true)\n",
      " |-- lucros_brutos: long (nullable = true)\n",
      " |-- lucro_liquido: long (nullable = true)\n",
      " |-- ebitda: long (nullable = true)\n",
      " |-- divida_total: long (nullable = true)\n",
      " |-- caixa_total: long (nullable = true)\n",
      " |-- dividend_yield: double (nullable = true)\n",
      " |-- dt_ptcao: string (nullable = false)\n",
      " |-- dthr_igtao: timestamp (nullable = false)\n",
      "\n",
      "root\n",
      " |-- ticker: string (nullable = false)\n",
      " |-- preco_atual: double (nullable = true)\n",
      " |-- fechamento_anterior: double (nullable = true)\n",
      " |-- abertura: double (nullable = true)\n",
      " |-- minimo_dia: double (nullable = true)\n",
      " |-- maximo_dia: double (nullable = true)\n",
      " |-- minimo_52_semanas: double (nullable = true)\n",
      " |-- maximo_52_semanas: double (nullable = true)\n",
      " |-- volume: long (nullable = true)\n",
      " |-- volume_medio: long (nullable = true)\n",
      " |-- beta: double (nullable = true)\n",
      " |-- dt_ptcao: string (nullable = false)\n",
      " |-- dthr_igtao: timestamp (nullable = false)\n",
      "\n",
      "root\n",
      " |-- ticker: string (nullable = false)\n",
      " |-- taxa_dividendo: double (nullable = true)\n",
      " |-- data_exdividendo: string (nullable = true)\n",
      " |-- indice_distribuicao: double (nullable = true)\n",
      " |-- dt_ptcao: string (nullable = false)\n",
      " |-- dthr_igtao: timestamp (nullable = false)\n",
      "\n",
      "root\n",
      " |-- ticker: string (nullable = false)\n",
      " |-- pl_futuro: double (nullable = true)\n",
      " |-- pl_retroativo: double (nullable = true)\n",
      " |-- preco_booking: double (nullable = true)\n",
      " |-- indice_preco_lucro_cresc: double (nullable = true)\n",
      " |-- dt_ptcao: string (nullable = false)\n",
      " |-- dthr_igtao: timestamp (nullable = false)\n",
      "\n"
     ]
    }
   ],
   "source": [
    "df_retorno_mensal.printSchema()\n",
    "df_ativas.printSchema()\n",
    "df_geral.printSchema()\n",
    "df_financeira.printSchema()\n",
    "df_mercado.printSchema()\n",
    "df_dividendos.printSchema()\n",
    "df_valuation.printSchema()\n"
   ]
  },
  {
   "cell_type": "markdown",
   "id": "b30ae720",
   "metadata": {
    "papermill": {
     "duration": 0.008047,
     "end_time": "2024-10-25T21:41:36.885333",
     "exception": false,
     "start_time": "2024-10-25T21:41:36.877286",
     "status": "completed"
    },
    "tags": []
   },
   "source": [
    "# Sprint 3 - Indices"
   ]
  },
  {
   "cell_type": "code",
   "execution_count": 15,
   "id": "39f72db2",
   "metadata": {
    "execution": {
     "iopub.execute_input": "2024-10-25T21:41:36.903976Z",
     "iopub.status.busy": "2024-10-25T21:41:36.903364Z",
     "iopub.status.idle": "2024-10-25T21:41:41.155247Z",
     "shell.execute_reply": "2024-10-25T21:41:41.154558Z"
    },
    "jupyter": {
     "source_hidden": true
    },
    "papermill": {
     "duration": 4.262541,
     "end_time": "2024-10-25T21:41:41.156333",
     "exception": false,
     "start_time": "2024-10-25T21:41:36.893792",
     "status": "completed"
    },
    "tags": []
   },
   "outputs": [
    {
     "name": "stderr",
     "output_type": "stream",
     "text": [
      "\r",
      "[*********************100%***********************]  1 of 1 completed"
     ]
    },
    {
     "name": "stderr",
     "output_type": "stream",
     "text": [
      "\n"
     ]
    },
    {
     "name": "stderr",
     "output_type": "stream",
     "text": [
      "\r",
      "[*********************100%***********************]  1 of 1 completed"
     ]
    },
    {
     "name": "stderr",
     "output_type": "stream",
     "text": [
      "\n"
     ]
    },
    {
     "name": "stderr",
     "output_type": "stream",
     "text": [
      "\r",
      "[*********************100%***********************]  1 of 1 completed"
     ]
    },
    {
     "name": "stderr",
     "output_type": "stream",
     "text": [
      "\n"
     ]
    },
    {
     "name": "stderr",
     "output_type": "stream",
     "text": [
      "\r",
      "[*********************100%***********************]  1 of 1 completed"
     ]
    },
    {
     "name": "stderr",
     "output_type": "stream",
     "text": [
      "\n"
     ]
    },
    {
     "name": "stderr",
     "output_type": "stream",
     "text": [
      "\r",
      "[*********************100%***********************]  1 of 1 completed"
     ]
    },
    {
     "name": "stderr",
     "output_type": "stream",
     "text": [
      "\n"
     ]
    },
    {
     "name": "stderr",
     "output_type": "stream",
     "text": [
      "\r",
      "[*********************100%***********************]  1 of 1 completed"
     ]
    },
    {
     "name": "stderr",
     "output_type": "stream",
     "text": [
      "\n"
     ]
    },
    {
     "name": "stderr",
     "output_type": "stream",
     "text": [
      "\r",
      "[*********************100%***********************]  1 of 1 completed"
     ]
    },
    {
     "name": "stderr",
     "output_type": "stream",
     "text": [
      "\n"
     ]
    },
    {
     "name": "stderr",
     "output_type": "stream",
     "text": [
      "\r",
      "[*********************100%***********************]  1 of 1 completed"
     ]
    },
    {
     "name": "stderr",
     "output_type": "stream",
     "text": [
      "\n"
     ]
    },
    {
     "name": "stdout",
     "output_type": "stream",
     "text": [
      "+---------+------------------+------------------+------------------+------------------+-------------------+-------+-----------+----------+-----------------------+--------------------+--------------------+----------+--------------------+\n",
      "|   indice|          abertura|              alta|             baixa|        fechamento|fechamento_ajustado| volume|nome_indice|      data|fechamento_mes_anterior|       valor_retorno| porcentagem_retorno|  dt_ptcao|          dthr_igtao|\n",
      "+---------+------------------+------------------+------------------+------------------+-------------------+-------+-----------+----------+-----------------------+--------------------+--------------------+----------+--------------------+\n",
      "|BOVA11.SA| 49.79999923706055|              51.0|49.790000915527344| 50.81999969482422|  50.81999969482422|3486240|     BOVA11|2014-10-28|                   NULL|                NULL|                NULL|2024-10-25|2024-10-25 18:41:...|\n",
      "|BOVA11.SA| 50.97999954223633| 50.97999954223633| 49.41999816894531| 49.41999816894531|  49.41999816894531|1615260|     BOVA11|2014-10-29|      50.81999969482422| -1.4000015258789062|  -2.754823955698469|2024-10-25|2024-10-25 18:41:...|\n",
      "|BOVA11.SA| 49.11000061035156|51.099998474121094| 49.11000061035156|  50.7599983215332|   50.7599983215332|2623280|     BOVA11|2014-10-30|      49.41999816894531|  1.3400001525878906|  2.7114532623150196|2024-10-25|2024-10-25 18:41:...|\n",
      "|BOVA11.SA|51.209999084472656| 52.97999954223633| 51.02000045776367| 52.97999954223633|  52.97999954223633|2390880|     BOVA11|2014-10-31|       50.7599983215332|   2.220001220703125|  4.3735250080994685|2024-10-25|2024-10-25 18:41:...|\n",
      "|BOVA11.SA|52.529998779296875| 52.70000076293945|51.560001373291016|52.310001373291016| 52.310001373291016|3361390|     BOVA11|2014-11-03|      52.97999954223633| -0.6699981689453125| -1.2646247163727917|2024-10-25|2024-10-25 18:41:...|\n",
      "|BOVA11.SA|52.720001220703125|52.939998626708984|51.900001525878906|52.880001068115234| 52.880001068115234|3100740|     BOVA11|2014-11-04|     52.310001373291016|  0.5699996948242188|  1.0896571972090505|2024-10-25|2024-10-25 18:41:...|\n",
      "|BOVA11.SA|52.689998626708984| 52.70000076293945|52.060001373291016|52.209999084472656| 52.209999084472656|1294850|     BOVA11|2014-11-05|     52.880001068115234| -0.6700019836425781| -1.2670233927936994|2024-10-25|2024-10-25 18:41:...|\n",
      "|BOVA11.SA|  51.9900016784668|  51.9900016784668| 50.97999954223633|51.220001220703125| 51.220001220703125|1899370|     BOVA11|2014-11-06|     52.209999084472656| -0.9899978637695312|  -1.896184411280632|2024-10-25|2024-10-25 18:41:...|\n",
      "|BOVA11.SA| 52.29999923706055| 52.29999923706055| 50.70000076293945| 51.79999923706055|  51.79999923706055|1890980|     BOVA11|2014-11-07|     51.220001220703125|  0.5799980163574219|   1.132366268126887|2024-10-25|2024-10-25 18:41:...|\n",
      "|BOVA11.SA|              52.0| 52.34000015258789| 51.22999954223633| 51.22999954223633|  51.22999954223633| 453140|     BOVA11|2014-11-10|      51.79999923706055| -0.5699996948242188| -1.1003855274507608|2024-10-25|2024-10-25 18:41:...|\n",
      "|BOVA11.SA|51.209999084472656|  51.2400016784668| 50.54999923706055|50.939998626708984| 50.939998626708984|1104720|     BOVA11|2014-11-11|      51.22999954223633|-0.29000091552734375| -0.5660763578345416|2024-10-25|2024-10-25 18:41:...|\n",
      "|BOVA11.SA|50.869998931884766|  52.0099983215332| 50.43000030517578|51.349998474121094| 51.349998474121094|1425660|     BOVA11|2014-11-12|     50.939998626708984|  0.4099998474121094|  0.8048681948670828|2024-10-25|2024-10-25 18:41:...|\n",
      "|BOVA11.SA| 51.79999923706055|51.900001525878906|50.349998474121094|50.349998474121094| 50.349998474121094|1340420|     BOVA11|2014-11-13|     51.349998474121094|                -1.0| -1.9474197268067515|2024-10-25|2024-10-25 18:41:...|\n",
      "|BOVA11.SA| 49.63999938964844| 50.52000045776367|49.099998474121094| 50.34000015258789|  50.34000015258789|1939130|     BOVA11|2014-11-14|     50.349998474121094|-0.00999832153320...|-0.01985764019107...|2024-10-25|2024-10-25 18:41:...|\n",
      "|BOVA11.SA|50.349998474121094| 50.81999969482422|49.650001525878906| 49.81999969482422|  49.81999969482422| 964740|     BOVA11|2014-11-17|      50.34000015258789| -0.5200004577636719| -1.0329766710120671|2024-10-25|2024-10-25 18:41:...|\n",
      "|BOVA11.SA|50.290000915527344| 50.72999954223633| 49.70000076293945| 50.63999938964844|  50.63999938964844|1141660|     BOVA11|2014-11-18|      49.81999969482422|  0.8199996948242188|  1.6459247287177488|2024-10-25|2024-10-25 18:41:...|\n",
      "|BOVA11.SA|50.599998474121094| 51.93000030517578|50.599998474121094| 51.93000030517578|  51.93000030517578|3915840|     BOVA11|2014-11-19|      50.63999938964844|  1.2900009155273438|  2.5473952035454386|2024-10-25|2024-10-25 18:41:...|\n",
      "|BOVA11.SA| 52.95000076293945|  54.7599983215332|  52.5099983215332| 54.66999816894531|  54.66999816894531|5867650|     BOVA11|2014-11-21|      51.93000030517578|  2.7399978637695312|   5.276329381219819|2024-10-25|2024-10-25 18:41:...|\n",
      "|BOVA11.SA|55.279998779296875|             55.75|53.709999084472656| 53.83000183105469|  53.83000183105469|3743220|     BOVA11|2014-11-24|      54.66999816894531|  -0.839996337890625|  -1.536485030225912|2024-10-25|2024-10-25 18:41:...|\n",
      "|BOVA11.SA|  53.9900016784668|54.849998474121094| 53.61000061035156|54.029998779296875| 54.029998779296875|3653790|     BOVA11|2014-11-25|      53.83000183105469|  0.1999969482421875|  0.3715343515496755|2024-10-25|2024-10-25 18:41:...|\n",
      "+---------+------------------+------------------+------------------+------------------+-------------------+-------+-----------+----------+-----------------------+--------------------+--------------------+----------+--------------------+\n",
      "only showing top 20 rows\n",
      "\n"
     ]
    }
   ],
   "source": [
    "indices = {\n",
    "    '^BVSP': 'Ibovespa',\n",
    "    'BOVA11.SA': 'BOVA11',\n",
    "    '^GSPC': 'S&P 500',\n",
    "    '^DJI': 'Dow Jones',\n",
    "    '^IXIC': 'NASDAQ',\n",
    "    '^FTSE': 'FTSE 100',\n",
    "    '^GDAXI': 'DAX 30',\n",
    "    '^N225': 'Nikkei 225'\n",
    "}\n",
    "\n",
    "# Definindo o esquema do DataFrame\n",
    "schema = StructType([\n",
    "    StructField(\"indice\", StringType(), True),\n",
    "    StructField(\"abertura\", DoubleType(), True),\n",
    "    StructField(\"alta\", DoubleType(), True),\n",
    "    StructField(\"baixa\", DoubleType(), True),\n",
    "    StructField(\"fechamento\", DoubleType(), True),\n",
    "    StructField(\"fechamento_ajustado\", DoubleType(), True),\n",
    "    StructField(\"volume\", LongType(), True),  # Alterado para LongType\n",
    "    StructField(\"nome_indice\", StringType(), True),\n",
    "    StructField(\"data\", DateType(), True)\n",
    "])\n",
    "\n",
    "# Criar uma lista para armazenar os dados\n",
    "data_list = []\n",
    "\n",
    "# Adicionando dados históricos (exemplo)\n",
    "for ticker, name in indices.items():\n",
    "    try:\n",
    "        data = yf.download(ticker, start=start_date_str, end=end_date_str)\n",
    "        if not data.empty:\n",
    "            for index, row in data.iterrows():\n",
    "                # Converter os valores para float ou inteiro antes de adicionar à lista\n",
    "                data_list.append((ticker, float(row['Open']), float(row['High']), float(row['Low']), \n",
    "                                  float(row['Close']), float(row['Adj Close']), int(row['Volume']),  # Converte para inteiro\n",
    "                                  name, index.date()))  # Usa index.date() para pegar apenas a parte da data\n",
    "    except Exception as e:\n",
    "        print(f\"Falha ao baixar dados para {ticker}: {e}\")\n",
    "\n",
    "# Criar um DataFrame Spark\n",
    "df_indices = spark.createDataFrame(data_list, schema)\n",
    "\n",
    "janela = Window.partitionBy('indice').orderBy('data')\n",
    "\n",
    "# Calcular preço de fechamento do mês anterior (deslocar uma linha para cima)\n",
    "df_indices = df_indices.withColumn('fechamento_mes_anterior', lag('fechamento').over(janela))\n",
    "\n",
    "# Calcular Retorno em valor (diferença absoluta)\n",
    "df_indices = df_indices.withColumn('valor_retorno', col('fechamento') - col('fechamento_mes_anterior'))\n",
    "\n",
    "# Calcular Retorno em porcentagem\n",
    "df_indices = df_indices.withColumn('porcentagem_retorno', (col('valor_retorno') / col('fechamento_mes_anterior')) * 100)\n",
    "\n",
    "# Adicionar colunas dt_ptcao e dthr_igtao\n",
    "df_indices = df_indices.withColumn('dt_ptcao', date_format(current_timestamp(), 'yyyy-MM-dd'))\n",
    "df_indices = df_indices.withColumn('dthr_igtao', current_timestamp())\n",
    "\n",
    "# Exibir o DataFrame final\n",
    "df_indices = df_indices.orderBy('indice','data')\n",
    "df_indices.show()"
   ]
  },
  {
   "cell_type": "markdown",
   "id": "8e95b51c",
   "metadata": {
    "papermill": {
     "duration": 0.009344,
     "end_time": "2024-10-25T21:41:41.174809",
     "exception": false,
     "start_time": "2024-10-25T21:41:41.165465",
     "status": "completed"
    },
    "tags": []
   },
   "source": [
    "# Postgres upsert"
   ]
  },
  {
   "cell_type": "code",
   "execution_count": 16,
   "id": "0c337c9c",
   "metadata": {
    "execution": {
     "iopub.execute_input": "2024-10-25T21:41:41.194423Z",
     "iopub.status.busy": "2024-10-25T21:41:41.194068Z",
     "iopub.status.idle": "2024-10-25T21:41:41.197652Z",
     "shell.execute_reply": "2024-10-25T21:41:41.197065Z"
    },
    "jupyter": {
     "source_hidden": true
    },
    "papermill": {
     "duration": 0.015084,
     "end_time": "2024-10-25T21:41:41.199056",
     "exception": false,
     "start_time": "2024-10-25T21:41:41.183972",
     "status": "completed"
    },
    "tags": []
   },
   "outputs": [],
   "source": [
    "SRVNAME = \"postgres\"\n",
    "USER = \"airflow\"\n",
    "PASSWORD = \"airflow\"\n",
    "HOST = \"postgres\"\n",
    "PORT = \"5432\"\n",
    "DBNAME = \"paxpedb\"\n",
    "\n",
    "# Parâmetros de conexão usando as variáveis\n",
    "conn_params = {\n",
    "    'dbname': DBNAME,\n",
    "    'user': USER,\n",
    "    'password': PASSWORD,\n",
    "    'host': HOST,\n",
    "    'port': PORT\n",
    "}"
   ]
  },
  {
   "cell_type": "code",
   "execution_count": 17,
   "id": "4df85111",
   "metadata": {
    "execution": {
     "iopub.execute_input": "2024-10-25T21:41:41.218530Z",
     "iopub.status.busy": "2024-10-25T21:41:41.218185Z",
     "iopub.status.idle": "2024-10-25T21:41:41.224858Z",
     "shell.execute_reply": "2024-10-25T21:41:41.224203Z"
    },
    "jupyter": {
     "source_hidden": true
    },
    "papermill": {
     "duration": 0.017901,
     "end_time": "2024-10-25T21:41:41.225956",
     "exception": false,
     "start_time": "2024-10-25T21:41:41.208055",
     "status": "completed"
    },
    "tags": []
   },
   "outputs": [
    {
     "name": "stdout",
     "output_type": "stream",
     "text": [
      "Conexão com postgres sucedida\n"
     ]
    }
   ],
   "source": [
    "def test_connection():\n",
    "    try:\n",
    "        # Connect to the PostgreSQL server using variables\n",
    "        connection = psycopg2.connect(\n",
    "            dbname=SRVNAME,\n",
    "            user=USER,\n",
    "            password=PASSWORD,\n",
    "            host=HOST,\n",
    "            port=PORT\n",
    "        )\n",
    "        print(\"Conexão com postgres sucedida\")\n",
    "        return True\n",
    "    except OperationalError as e:\n",
    "        print(f\"Error: {e}\")\n",
    "        return False\n",
    "    finally:\n",
    "        if connection:\n",
    "            connection.close()\n",
    "if not test_connection():\n",
    "    sys.exit(1)"
   ]
  },
  {
   "cell_type": "markdown",
   "id": "0a04a974",
   "metadata": {
    "papermill": {
     "duration": 0.00904,
     "end_time": "2024-10-25T21:41:41.243898",
     "exception": false,
     "start_time": "2024-10-25T21:41:41.234858",
     "status": "completed"
    },
    "tags": []
   },
   "source": [
    "### para inserir no postgres é necessário\n",
    "> 1. alimentar as tabelas em stage --- temp_nometabela\n",
    "> 2. realizar o upsert comparando as tabelas"
   ]
  },
  {
   "cell_type": "code",
   "execution_count": 18,
   "id": "9f7e275e",
   "metadata": {
    "execution": {
     "iopub.execute_input": "2024-10-25T21:41:41.262909Z",
     "iopub.status.busy": "2024-10-25T21:41:41.262585Z",
     "iopub.status.idle": "2024-10-25T21:41:41.266278Z",
     "shell.execute_reply": "2024-10-25T21:41:41.265613Z"
    },
    "jupyter": {
     "source_hidden": true
    },
    "papermill": {
     "duration": 0.014446,
     "end_time": "2024-10-25T21:41:41.267278",
     "exception": false,
     "start_time": "2024-10-25T21:41:41.252832",
     "status": "completed"
    },
    "tags": []
   },
   "outputs": [],
   "source": [
    "def write_to_postgres(df, table_name, schema_name=\"paxpestg\"):\n",
    "  \n",
    "    df.write \\\n",
    "        .format(\"jdbc\") \\\n",
    "        .option(\"url\", f\"jdbc:postgresql://{HOST}:{PORT}/{DBNAME}\") \\\n",
    "        .option(\"dbtable\", f\"{schema_name}.{table_name}\") \\\n",
    "        .option(\"user\", USER) \\\n",
    "        .option(\"password\", PASSWORD) \\\n",
    "        .option(\"driver\", \"org.postgresql.Driver\") \\\n",
    "        .mode(\"overwrite\") \\\n",
    "        .save()"
   ]
  },
  {
   "cell_type": "code",
   "execution_count": 19,
   "id": "63dd861b",
   "metadata": {
    "execution": {
     "iopub.execute_input": "2024-10-25T21:41:41.286844Z",
     "iopub.status.busy": "2024-10-25T21:41:41.286352Z",
     "iopub.status.idle": "2024-10-25T21:41:59.418096Z",
     "shell.execute_reply": "2024-10-25T21:41:59.417497Z"
    },
    "jupyter": {
     "source_hidden": true
    },
    "papermill": {
     "duration": 18.143172,
     "end_time": "2024-10-25T21:41:59.419436",
     "exception": false,
     "start_time": "2024-10-25T21:41:41.276264",
     "status": "completed"
    },
    "tags": []
   },
   "outputs": [
    {
     "name": "stderr",
     "output_type": "stream",
     "text": [
      "\r",
      "[Stage 427:(12 + 12) / 24][Stage 428:>(0 + 12) / 24][Stage 429:> (0 + 0) / 24]\r",
      "\r",
      "[Stage 430:>(4 + 20) / 24][Stage 431:> (0 + 4) / 24][Stage 432:> (0 + 0) / 24]\r"
     ]
    },
    {
     "name": "stderr",
     "output_type": "stream",
     "text": [
      "\r",
      "[Stage 433:>(15 + 9) / 24][Stage 434:>(0 + 15) / 24][Stage 435:> (0 + 0) / 24]\r"
     ]
    },
    {
     "name": "stderr",
     "output_type": "stream",
     "text": [
      "\r",
      "[Stage 435:>(15 + 9) / 24][Stage 436:>(0 + 19) / 24][Stage 437:> (0 + 0) / 24]\r",
      "\r",
      "[Stage 438:>(16 + 8) / 24][Stage 439:>(0 + 16) / 24][Stage 440:> (0 + 0) / 24]\r"
     ]
    },
    {
     "name": "stderr",
     "output_type": "stream",
     "text": [
      "\r",
      "[Stage 442:>(9 + 15) / 24][Stage 443:> (0 + 9) / 24][Stage 444:> (0 + 0) / 24]\r",
      "\r",
      "[Stage 445:>(22 + 2) / 24][Stage 446:>(0 + 22) / 24][Stage 447:> (0 + 0) / 24]\r"
     ]
    },
    {
     "name": "stderr",
     "output_type": "stream",
     "text": [
      "\r",
      "[Stage 449:(13 + 11) / 24][Stage 450:>(0 + 13) / 24][Stage 451:> (0 + 0) / 24]\r",
      "\r",
      "[Stage 451:>(18 + 6) / 24][Stage 452:>(4 + 18) / 24][Stage 453:> (0 + 0) / 24]\r"
     ]
    },
    {
     "name": "stderr",
     "output_type": "stream",
     "text": [
      "\r",
      "[Stage 454:>(18 + 6) / 24][Stage 455:>(0 + 18) / 24][Stage 456:> (0 + 0) / 24]\r",
      "\r",
      "[Stage 458:(11 + 13) / 24][Stage 459:>(0 + 11) / 24][Stage 460:> (0 + 0) / 24]\r"
     ]
    },
    {
     "name": "stderr",
     "output_type": "stream",
     "text": [
      "\r",
      "[Stage 461:>(22 + 2) / 24][Stage 462:>(2 + 22) / 24][Stage 463:> (0 + 1) / 24]\r",
      "\r",
      "[Stage 465:>(17 + 7) / 24][Stage 466:>(0 + 17) / 24][Stage 467:> (0 + 0) / 24]\r"
     ]
    },
    {
     "name": "stderr",
     "output_type": "stream",
     "text": [
      "\r",
      "[Stage 469:>(8 + 16) / 24][Stage 470:> (0 + 8) / 24][Stage 471:> (0 + 0) / 24]\r",
      "\r",
      "[Stage 472:>(20 + 4) / 24][Stage 473:>(0 + 20) / 24][Stage 474:> (0 + 0) / 24]\r"
     ]
    },
    {
     "name": "stderr",
     "output_type": "stream",
     "text": [
      "\r",
      "[Stage 475:>(23 + 1) / 24][Stage 476:>(9 + 15) / 24][Stage 477:> (0 + 9) / 24]\r",
      "\r",
      "[Stage 479:>(20 + 4) / 24][Stage 480:>(0 + 20) / 24][Stage 481:> (0 + 0) / 24]\r"
     ]
    },
    {
     "name": "stderr",
     "output_type": "stream",
     "text": [
      "\r",
      "[Stage 483:>(6 + 18) / 24][Stage 484:> (0 + 6) / 24][Stage 485:> (0 + 0) / 24]\r",
      "\r",
      "[Stage 486:>(20 + 4) / 24][Stage 487:>(0 + 20) / 24][Stage 488:> (0 + 0) / 24]\r"
     ]
    },
    {
     "name": "stderr",
     "output_type": "stream",
     "text": [
      "\r",
      "[Stage 490:>(8 + 16) / 24][Stage 491:> (0 + 8) / 24][Stage 492:> (0 + 0) / 24]\r",
      "\r",
      "[Stage 493:>(23 + 1) / 24][Stage 494:>(1 + 23) / 24][Stage 495:> (0 + 0) / 24]\r"
     ]
    },
    {
     "name": "stderr",
     "output_type": "stream",
     "text": [
      "\r",
      "[Stage 497:>(9 + 15) / 24][Stage 498:> (0 + 9) / 24][Stage 499:> (0 + 0) / 24]\r",
      "\r",
      "[Stage 501:>(2 + 22) / 24][Stage 502:> (0 + 2) / 24][Stage 503:> (0 + 0) / 24]\r"
     ]
    },
    {
     "name": "stderr",
     "output_type": "stream",
     "text": [
      "\r",
      "[Stage 504:>(23 + 1) / 24][Stage 505:>(0 + 24) / 24][Stage 506:> (0 + 0) / 24]\r",
      "\r",
      "[Stage 508:>(6 + 18) / 24][Stage 509:> (0 + 6) / 24][Stage 510:> (0 + 0) / 24]\r"
     ]
    },
    {
     "name": "stderr",
     "output_type": "stream",
     "text": [
      "\r",
      "[Stage 512:>(5 + 19) / 24][Stage 513:> (0 + 5) / 24][Stage 514:> (0 + 0) / 24]\r",
      "\r",
      "[Stage 515:>(20 + 4) / 24][Stage 516:>(0 + 24) / 24][Stage 517:> (0 + 0) / 24]\r"
     ]
    },
    {
     "name": "stderr",
     "output_type": "stream",
     "text": [
      "\r",
      "[Stage 519:>(9 + 15) / 24][Stage 520:> (0 + 9) / 24][Stage 521:> (0 + 0) / 24]\r",
      "\r",
      "[Stage 522:>(15 + 9) / 24][Stage 523:>(0 + 15) / 24][Stage 524:> (0 + 0) / 24]\r"
     ]
    },
    {
     "name": "stderr",
     "output_type": "stream",
     "text": [
      "\r",
      "[Stage 526:>(6 + 18) / 24][Stage 527:> (0 + 6) / 24][Stage 528:> (0 + 0) / 24]\r",
      "\r",
      "[Stage 529:>(23 + 1) / 24][Stage 530:>(0 + 23) / 24][Stage 531:> (0 + 0) / 24]\r"
     ]
    },
    {
     "name": "stderr",
     "output_type": "stream",
     "text": [
      "\r",
      "[Stage 533:>(9 + 15) / 24][Stage 534:> (0 + 9) / 24][Stage 535:> (0 + 0) / 24]\r",
      "\r",
      "[Stage 536:>(18 + 6) / 24][Stage 537:>(0 + 18) / 24][Stage 538:> (0 + 0) / 24]\r"
     ]
    },
    {
     "name": "stderr",
     "output_type": "stream",
     "text": [
      "\r",
      "[Stage 540:(10 + 14) / 24][Stage 541:>(0 + 12) / 24][Stage 542:> (0 + 0) / 24]\r",
      "\r",
      "[Stage 543:>(20 + 4) / 24][Stage 544:>(0 + 20) / 24][Stage 545:> (0 + 0) / 24]\r"
     ]
    },
    {
     "name": "stderr",
     "output_type": "stream",
     "text": [
      "\r",
      "[Stage 547:>(15 + 9) / 24][Stage 548:>(0 + 15) / 24][Stage 549:> (0 + 0) / 24]\r",
      "\r",
      "[Stage 550:>(22 + 2) / 24][Stage 551:>(0 + 22) / 24][Stage 552:> (0 + 0) / 24]\r"
     ]
    },
    {
     "name": "stderr",
     "output_type": "stream",
     "text": [
      "\r",
      "[Stage 554:>(19 + 5) / 24][Stage 555:>(0 + 19) / 24][Stage 556:> (0 + 0) / 24]\r",
      "\r",
      "[Stage 558:>(1 + 23) / 24][Stage 559:> (0 + 1) / 24][Stage 560:> (0 + 0) / 24]\r"
     ]
    },
    {
     "name": "stderr",
     "output_type": "stream",
     "text": [
      "\r",
      "[Stage 561:>(16 + 8) / 24][Stage 562:>(0 + 16) / 24][Stage 563:> (0 + 0) / 24]\r",
      "\r",
      "[Stage 565:>(7 + 17) / 24][Stage 566:> (0 + 7) / 24][Stage 567:> (0 + 0) / 24]\r"
     ]
    },
    {
     "name": "stderr",
     "output_type": "stream",
     "text": [
      "\r",
      "[Stage 568:>(21 + 3) / 24][Stage 569:>(0 + 21) / 24][Stage 570:> (0 + 0) / 24]\r",
      "\r",
      "[Stage 572:>(21 + 3) / 24][Stage 573:>(0 + 21) / 24][Stage 574:> (0 + 0) / 24]\r"
     ]
    },
    {
     "name": "stderr",
     "output_type": "stream",
     "text": [
      "\r",
      "[Stage 576:>(2 + 22) / 24][Stage 577:> (0 + 2) / 24][Stage 578:> (0 + 0) / 24]\r",
      "\r",
      "[Stage 579:(11 + 13) / 24][Stage 580:>(0 + 11) / 24][Stage 581:> (0 + 0) / 24]\r"
     ]
    },
    {
     "name": "stderr",
     "output_type": "stream",
     "text": [
      "\r",
      "[Stage 583:(10 + 14) / 24][Stage 584:>(0 + 10) / 24][Stage 585:> (0 + 0) / 24]\r",
      "\r",
      "[Stage 586:>(19 + 5) / 24][Stage 587:>(0 + 19) / 24][Stage 588:> (0 + 0) / 24]\r"
     ]
    },
    {
     "name": "stderr",
     "output_type": "stream",
     "text": [
      "\r",
      "[Stage 590:>(18 + 6) / 24][Stage 591:>(0 + 18) / 24][Stage 592:> (0 + 0) / 24]\r",
      "\r",
      "[Stage 593:>(23 + 1) / 24][Stage 594:>(0 + 23) / 24][Stage 595:> (0 + 0) / 24]\r"
     ]
    },
    {
     "name": "stderr",
     "output_type": "stream",
     "text": [
      "\r",
      "[Stage 597:(10 + 14) / 24][Stage 598:>(0 + 10) / 24][Stage 599:> (0 + 0) / 24]\r",
      "\r",
      "[Stage 601:>(3 + 21) / 24][Stage 602:> (0 + 3) / 24][Stage 603:> (0 + 0) / 24]\r"
     ]
    },
    {
     "name": "stderr",
     "output_type": "stream",
     "text": [
      "\r",
      "[Stage 604:>(16 + 8) / 24][Stage 605:>(0 + 16) / 24][Stage 606:> (0 + 0) / 24]\r",
      "\r",
      "[Stage 608:>(0 + 24) / 24][Stage 609:> (0 + 0) / 24][Stage 610:> (0 + 0) / 24]\r"
     ]
    },
    {
     "name": "stderr",
     "output_type": "stream",
     "text": [
      "\r",
      "[Stage 611:>(18 + 6) / 24][Stage 612:>(0 + 18) / 24][Stage 613:> (0 + 0) / 24]\r",
      "\r",
      "[Stage 614:>(19 + 5) / 24][Stage 615:>(0 + 19) / 24][Stage 616:> (0 + 0) / 24]\r"
     ]
    },
    {
     "name": "stderr",
     "output_type": "stream",
     "text": [
      "\r",
      "[Stage 618:===============================>                      (14 + 10) / 24]\r"
     ]
    },
    {
     "name": "stderr",
     "output_type": "stream",
     "text": [
      "24/10/25 21:41:55 WARN DAGScheduler: Broadcasting large task binary with size 3.8 MiB\n"
     ]
    },
    {
     "name": "stderr",
     "output_type": "stream",
     "text": [
      "\r",
      "[Stage 819:======>                                              (23 + 25) / 200]\r",
      "\r",
      "[Stage 819:============>                                        (47 + 24) / 200]\r"
     ]
    },
    {
     "name": "stderr",
     "output_type": "stream",
     "text": [
      "\r",
      "[Stage 819:===================>                                 (73 + 24) / 200]\r",
      "\r",
      "[Stage 819:=========================>                           (95 + 25) / 200]\r"
     ]
    },
    {
     "name": "stderr",
     "output_type": "stream",
     "text": [
      "\r",
      "[Stage 819:=============================>                      (113 + 24) / 200]\r",
      "\r",
      "[Stage 819:===================================>                (135 + 28) / 200]\r"
     ]
    },
    {
     "name": "stderr",
     "output_type": "stream",
     "text": [
      "\r",
      "[Stage 819:=========================================>          (160 + 29) / 200]\r",
      "\r",
      "[Stage 819:=============================================>      (175 + 25) / 200]\r"
     ]
    },
    {
     "name": "stderr",
     "output_type": "stream",
     "text": [
      "\r",
      "                                                                                \r"
     ]
    }
   ],
   "source": [
    "# escrita das tabelas em stage\n",
    "write_to_postgres(df_retorno_mensal, \"temp_retorno_mensal\")\n",
    "write_to_postgres(df_ativas, \"temp_captacao_mercado\")\n",
    "write_to_postgres(df_geral, \"temp_cadastro\")\n",
    "write_to_postgres(df_financeira, \"temp_financas\")\n",
    "write_to_postgres(df_mercado, \"temp_mercado\")\n",
    "write_to_postgres(df_dividendos, \"temp_dividendos\")\n",
    "write_to_postgres(df_valuation, \"temp_valuation\")\n",
    "write_to_postgres(df_indices, \"temp_indices\")"
   ]
  },
  {
   "cell_type": "code",
   "execution_count": 20,
   "id": "3fb2cbab",
   "metadata": {
    "execution": {
     "iopub.execute_input": "2024-10-25T21:41:59.441150Z",
     "iopub.status.busy": "2024-10-25T21:41:59.440636Z",
     "iopub.status.idle": "2024-10-25T21:41:59.447518Z",
     "shell.execute_reply": "2024-10-25T21:41:59.446900Z"
    },
    "jupyter": {
     "source_hidden": true
    },
    "papermill": {
     "duration": 0.018711,
     "end_time": "2024-10-25T21:41:59.448685",
     "exception": false,
     "start_time": "2024-10-25T21:41:59.429974",
     "status": "completed"
    },
    "tags": []
   },
   "outputs": [],
   "source": [
    "def upsert_data(table_name, temp_table_name, key_columns):\n",
    "    try:\n",
    "        # Conectar ao PostgreSQL\n",
    "        connection = psycopg2.connect(**conn_params)\n",
    "        cursor = connection.cursor()\n",
    "        \n",
    "        # Definir o fuso horário da sessão para UTC-3\n",
    "        cursor.execute(\"SET TIME ZONE 'America/Sao_Paulo';\")\n",
    "\n",
    "        # Definir esquemas\n",
    "        schema_fact = \"paxpe\"\n",
    "        schema_stg = \"paxpestg\"\n",
    "        \n",
    "        # Obter todas as colunas da tabela\n",
    "        cursor.execute(f\"\"\"\n",
    "        SELECT column_name\n",
    "        FROM information_schema.columns\n",
    "        WHERE table_schema = '{schema_fact}' AND table_name = '{table_name}'\n",
    "        \"\"\")\n",
    "        all_columns = [row[0] for row in cursor.fetchall()]\n",
    "\n",
    "        # Identificar colunas não chave e colunas de referência\n",
    "        non_key_columns = [col for col in all_columns if col not in key_columns and col not in ['dt_ptcao', 'dthr_igtao']]\n",
    "        reference_columns = ['dthr_igtao']\n",
    "\n",
    "        # Construir a declaração SQL de atualização col1, col2\n",
    "        key_columns_str = ', '.join(key_columns)\n",
    "        update_set_non_key = ', '.join([\n",
    "            f\"{col} = EXCLUDED.{col}\" \n",
    "            for col in non_key_columns\n",
    "        ])\n",
    "        \n",
    "        # Atualizar apenas as colunas não-chave se houver uma mudança\n",
    "        where_condition = ' OR '.join([\n",
    "            f\"target.{col} IS DISTINCT FROM EXCLUDED.{col}\" \n",
    "            for col in non_key_columns\n",
    "        ])\n",
    "        \n",
    "        # Para atualizar as colunas de referência se houver uma atualização nas colunas não-chave\n",
    "        update_set_reference = ', '.join([\n",
    "            f\"{col} = EXCLUDED.{col}\" \n",
    "            for col in reference_columns\n",
    "        ])\n",
    "        \n",
    "        sql = f\"\"\"\n",
    "        INSERT INTO {schema_fact}.{table_name} \n",
    "        (SELECT * FROM {schema_stg}.{temp_table_name})\n",
    "        ON CONFLICT ({key_columns_str}) \n",
    "        DO UPDATE SET\n",
    "        {update_set_non_key},\n",
    "        {update_set_reference}\n",
    "        WHERE EXISTS (\n",
    "            SELECT 1\n",
    "            FROM {schema_fact}.{table_name} AS target\n",
    "            WHERE { ' AND '.join([f\"target.{key} = EXCLUDED.{key}\" for key in key_columns]) }\n",
    "            AND ({where_condition})\n",
    "        );\n",
    "        \"\"\"\n",
    "        \n",
    "        # Executar a declaração SQL de upsert\n",
    "        cursor.execute(sql)\n",
    "        connection.commit()\n",
    "        print(f\"Upsert de {schema_stg}.{temp_table_name} realizado para {schema_fact}.{table_name}.\")\n",
    "    \n",
    "    except Exception as e:\n",
    "        print(f\"Error: {e}\")\n",
    "    \n",
    "    finally:\n",
    "        if connection:\n",
    "            cursor.close()\n",
    "            connection.close()"
   ]
  },
  {
   "cell_type": "code",
   "execution_count": 21,
   "id": "0cff2de2",
   "metadata": {
    "execution": {
     "iopub.execute_input": "2024-10-25T21:41:59.470659Z",
     "iopub.status.busy": "2024-10-25T21:41:59.470110Z",
     "iopub.status.idle": "2024-10-25T21:41:59.473571Z",
     "shell.execute_reply": "2024-10-25T21:41:59.472956Z"
    },
    "jupyter": {
     "source_hidden": true
    },
    "papermill": {
     "duration": 0.015496,
     "end_time": "2024-10-25T21:41:59.474791",
     "exception": false,
     "start_time": "2024-10-25T21:41:59.459295",
     "status": "completed"
    },
    "tags": []
   },
   "outputs": [],
   "source": [
    "# colunas chave para cada tabela\n",
    "key_columns_retorno_mensal = [\"ticker\", \"data\"]\n",
    "key_columns_cadastro = [\"ticker\"]\n",
    "key_columns_cap_mercado = [\"ticker\"]\n",
    "key_columns_financas = [\"ticker\"]\n",
    "key_columns_mercado = [\"ticker\"]\n",
    "key_columns_dividendos = [\"ticker\",\"data_exdividendo\"]\n",
    "key_columns_valuation = [\"ticker\"]\n",
    "key_columns_indices = [\"indice\",\"data\"]"
   ]
  },
  {
   "cell_type": "code",
   "execution_count": 22,
   "id": "abe54468",
   "metadata": {
    "execution": {
     "iopub.execute_input": "2024-10-25T21:41:59.496273Z",
     "iopub.status.busy": "2024-10-25T21:41:59.495748Z",
     "iopub.status.idle": "2024-10-25T21:41:59.862887Z",
     "shell.execute_reply": "2024-10-25T21:41:59.861839Z"
    },
    "jupyter": {
     "source_hidden": true
    },
    "papermill": {
     "duration": 0.379896,
     "end_time": "2024-10-25T21:41:59.864838",
     "exception": false,
     "start_time": "2024-10-25T21:41:59.484942",
     "status": "completed"
    },
    "tags": []
   },
   "outputs": [
    {
     "name": "stdout",
     "output_type": "stream",
     "text": [
      "Upsert de paxpestg.temp_retorno_mensal realizado para paxpe.retorno_mensal.\n",
      "Upsert de paxpestg.temp_cadastro realizado para paxpe.cadastro.\n",
      "Upsert de paxpestg.temp_captacao_mercado realizado para paxpe.captacao_mercado.\n",
      "Upsert de paxpestg.temp_financas realizado para paxpe.financas.\n",
      "Upsert de paxpestg.temp_mercado realizado para paxpe.mercado.\n",
      "Upsert de paxpestg.temp_dividendos realizado para paxpe.dividendos.\n",
      "Upsert de paxpestg.temp_valuation realizado para paxpe.valuation.\n",
      "Upsert de paxpestg.temp_indices realizado para paxpe.indices.\n"
     ]
    }
   ],
   "source": [
    "# realiza o upsert\n",
    "upsert_data(\"retorno_mensal\", \"temp_retorno_mensal\", key_columns_retorno_mensal)\n",
    "upsert_data(\"cadastro\", \"temp_cadastro\", key_columns_cadastro)\n",
    "upsert_data(\"captacao_mercado\", \"temp_captacao_mercado\", key_columns_cap_mercado)\n",
    "upsert_data(\"financas\", \"temp_financas\", key_columns_financas)\n",
    "upsert_data(\"mercado\", \"temp_mercado\", key_columns_mercado)\n",
    "upsert_data(\"dividendos\", \"temp_dividendos\", key_columns_dividendos)\n",
    "upsert_data(\"valuation\", \"temp_valuation\", key_columns_valuation)\n",
    "upsert_data(\"indices\", \"temp_indices\", key_columns_indices)"
   ]
  }
 ],
 "metadata": {
  "kernelspec": {
   "display_name": "Python 3",
   "language": "python",
   "name": "python3"
  },
  "language_info": {
   "codemirror_mode": {
    "name": "ipython",
    "version": 3
   },
   "file_extension": ".py",
   "mimetype": "text/x-python",
   "name": "python",
   "nbconvert_exporter": "python",
   "pygments_lexer": "ipython3",
   "version": "3.8.18"
  },
  "papermill": {
   "default_parameters": {},
   "duration": 146.940994,
   "end_time": "2024-10-25T21:42:02.493589",
   "environment_variables": {},
   "exception": null,
   "input_path": "/opt/airflow/dags/utils/paxpe.ipynb",
   "output_path": "/opt/airflow/dags/utils/paxpe_log.ipynb",
   "parameters": {},
   "start_time": "2024-10-25T21:39:35.552595",
   "version": "2.6.0"
  }
 },
 "nbformat": 4,
 "nbformat_minor": 5
}