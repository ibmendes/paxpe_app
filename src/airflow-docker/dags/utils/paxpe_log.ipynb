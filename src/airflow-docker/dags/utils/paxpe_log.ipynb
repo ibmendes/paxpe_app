{
 "cells": [
  {
   "cell_type": "markdown",
   "id": "e55c6557",
   "metadata": {
    "papermill": {
     "duration": 0.006059,
     "end_time": "2024-08-27T03:20:43.557513",
     "exception": false,
     "start_time": "2024-08-27T03:20:43.551454",
     "status": "completed"
    },
    "tags": []
   },
   "source": [
    "# PAXPE - Ingestão de dados para banco de dados SQL do Azure usando serviços do Azure\n",
    "\n",
    "## Visão geral\n",
    "\n",
    "Este notebook demonstra como agendar um script Python para ingerir dados em um Banco de Dados SQL do Postgres, orquestrado pelo airflow.\n",
    "\n",
    "# Documentação do Processo de Criação de Tabelas com Dados do Yahoo Finance\n",
    "\n",
    "## Objetivo\n",
    "O objetivo deste processo é obter dados financeiros, de mercado, dividendos, valuation e informações gerais de empresas listadas na bolsa, utilizando a API do Yahoo Finance. Os dados são coletados para um ou mais tickers e organizados em DataFrames utilizando PySpark para garantir performance e escalabilidade, especialmente ao lidar com uma grande quantidade de tickers.\n",
    "\n",
    "1. **Coleta de Dados**: \n",
    "   - Para cada ticker fornecido, as informações relevantes foram extraídas da API do Yahoo Finance utilizando a biblioteca `yfinance`. Os dados foram organizados em dicionários para posterior conversão em DataFrames.\n",
    "\n",
    "2. **Criação dos DataFrames**:\n",
    "   - **Tabela Geral** (`df_geral`): Contém informações gerais da empresa, como setor, indústria, número de empregados, localização e resumo das atividades.\n",
    "   - **Tabela Financeira** (`df_financeira`): Contém dados financeiros da empresa, como capitalização de mercado, receita, lucro líquido, EBITDA, dívida total, entre outros.\n",
    "   - **Tabela de Mercado** (`df_mercado`): Inclui dados relacionados ao mercado, como preço atual, preço de abertura, volume de negociação, beta, entre outros.\n",
    "   - **Tabela de Dividendos** (`df_dividendos`): Contém informações sobre dividendos, incluindo taxa de dividendos, data ex-dividendo e índice de distribuição.\n",
    "   - **Tabela de Valuation** (`df_valuation`): Inclui dados de valuation da empresa, como índices P/E (Price to Earnings), P/B (Price to Book) e PEG (Price/Earnings to Growth).\n",
    "   - **Tabela de Retorno Mensal** (`df_retorno_mensal`): Retorno mensal da ação com base em preço da ação, dividendos e percentual\n",
    "\n",
    "## Considerações Finais\n",
    "Este processo permite a coleta eficiente e escalável de dados financeiros de várias empresas, facilitando análises complexas em grandes volumes de dados. O uso do PySpark garante que mesmo listas extensas de tickers possam ser processadas rapidamente, gerando tabelas estruturadas e prontas para análise.\n",
    "\n",
    "\n",
    "# Changelog\n",
    "\n",
    "| Responsável | Data       | Change Log                                                                                      |\n",
    "|-------------|------------|--------------------------------------------------------------------------------------------------|\n",
    "| IGOR MENDES | 10-08-24 | Criação do script em spark                   |\n"
   ]
  },
  {
   "cell_type": "code",
   "execution_count": 1,
   "id": "3db1e364",
   "metadata": {
    "execution": {
     "iopub.execute_input": "2024-08-27T03:20:43.568181Z",
     "iopub.status.busy": "2024-08-27T03:20:43.567880Z",
     "iopub.status.idle": "2024-08-27T03:20:56.209224Z",
     "shell.execute_reply": "2024-08-27T03:20:56.208488Z"
    },
    "jupyter": {
     "source_hidden": true
    },
    "papermill": {
     "duration": 12.648163,
     "end_time": "2024-08-27T03:20:56.210416",
     "exception": false,
     "start_time": "2024-08-27T03:20:43.562253",
     "status": "completed"
    },
    "tags": []
   },
   "outputs": [
    {
     "name": "stdout",
     "output_type": "stream",
     "text": [
      "Defaulting to user installation because normal site-packages is not writeable\r\n"
     ]
    },
    {
     "name": "stdout",
     "output_type": "stream",
     "text": [
      "Requirement already satisfied: yahoofinance in /home/airflow/.local/lib/python3.8/site-packages (0.0.2)\r\n",
      "Requirement already satisfied: pandas>=0.23.4 in /home/airflow/.local/lib/python3.8/site-packages (from yahoofinance) (2.0.3)\r\n",
      "Requirement already satisfied: requests>=2.20.1 in /home/airflow/.local/lib/python3.8/site-packages (from yahoofinance) (2.31.0)\r\n",
      "Requirement already satisfied: beautifulsoup4>=4.6.3 in /home/airflow/.local/lib/python3.8/site-packages (from yahoofinance) (4.12.2)\r\n",
      "Requirement already satisfied: soupsieve>1.2 in /home/airflow/.local/lib/python3.8/site-packages (from beautifulsoup4>=4.6.3->yahoofinance) (2.5)\r\n"
     ]
    },
    {
     "name": "stdout",
     "output_type": "stream",
     "text": [
      "Requirement already satisfied: python-dateutil>=2.8.2 in /home/airflow/.local/lib/python3.8/site-packages (from pandas>=0.23.4->yahoofinance) (2.8.2)\r\n",
      "Requirement already satisfied: numpy>=1.20.3 in /home/airflow/.local/lib/python3.8/site-packages (from pandas>=0.23.4->yahoofinance) (1.24.4)\r\n",
      "Requirement already satisfied: pytz>=2020.1 in /home/airflow/.local/lib/python3.8/site-packages (from pandas>=0.23.4->yahoofinance) (2023.3.post1)\r\n",
      "Requirement already satisfied: tzdata>=2022.1 in /home/airflow/.local/lib/python3.8/site-packages (from pandas>=0.23.4->yahoofinance) (2023.3)\r\n",
      "Requirement already satisfied: urllib3<3,>=1.21.1 in /home/airflow/.local/lib/python3.8/site-packages (from requests>=2.20.1->yahoofinance) (1.26.18)\r\n",
      "Requirement already satisfied: certifi>=2017.4.17 in /home/airflow/.local/lib/python3.8/site-packages (from requests>=2.20.1->yahoofinance) (2023.7.22)\r\n",
      "Requirement already satisfied: idna<4,>=2.5 in /home/airflow/.local/lib/python3.8/site-packages (from requests>=2.20.1->yahoofinance) (3.4)\r\n",
      "Requirement already satisfied: charset-normalizer<4,>=2 in /home/airflow/.local/lib/python3.8/site-packages (from requests>=2.20.1->yahoofinance) (3.3.2)\r\n",
      "Requirement already satisfied: six>=1.5 in /home/airflow/.local/lib/python3.8/site-packages (from python-dateutil>=2.8.2->pandas>=0.23.4->yahoofinance) (1.16.0)\r\n"
     ]
    },
    {
     "name": "stdout",
     "output_type": "stream",
     "text": [
      "\r\n",
      "\u001b[1m[\u001b[0m\u001b[34;49mnotice\u001b[0m\u001b[1;39;49m]\u001b[0m\u001b[39;49m A new release of pip is available: \u001b[0m\u001b[31;49m23.0.1\u001b[0m\u001b[39;49m -> \u001b[0m\u001b[32;49m24.2\u001b[0m\r\n",
      "\u001b[1m[\u001b[0m\u001b[34;49mnotice\u001b[0m\u001b[1;39;49m]\u001b[0m\u001b[39;49m To update, run: \u001b[0m\u001b[32;49mpip install --upgrade pip\u001b[0m\r\n"
     ]
    },
    {
     "name": "stdout",
     "output_type": "stream",
     "text": [
      "Defaulting to user installation because normal site-packages is not writeable\r\n"
     ]
    },
    {
     "name": "stdout",
     "output_type": "stream",
     "text": [
      "Requirement already satisfied: yahooquery in /home/airflow/.local/lib/python3.8/site-packages (2.3.7)\r\n",
      "Requirement already satisfied: tqdm<5.0.0,>=4.65.0 in /home/airflow/.local/lib/python3.8/site-packages (from yahooquery) (4.66.5)\r\n",
      "Requirement already satisfied: lxml<5.0.0,>=4.9.3 in /home/airflow/.local/lib/python3.8/site-packages (from yahooquery) (4.9.3)\r\n",
      "Requirement already satisfied: beautifulsoup4<5.0.0,>=4.12.2 in /home/airflow/.local/lib/python3.8/site-packages (from yahooquery) (4.12.2)\r\n",
      "Requirement already satisfied: pandas<3.0.0,>=2.0.3 in /home/airflow/.local/lib/python3.8/site-packages (from yahooquery) (2.0.3)\r\n",
      "Requirement already satisfied: requests-futures<2.0.0,>=1.0.1 in /home/airflow/.local/lib/python3.8/site-packages (from yahooquery) (1.0.1)\r\n",
      "Requirement already satisfied: requests<3.0.0,>=2.31.0 in /home/airflow/.local/lib/python3.8/site-packages (from yahooquery) (2.31.0)\r\n"
     ]
    },
    {
     "name": "stdout",
     "output_type": "stream",
     "text": [
      "Requirement already satisfied: soupsieve>1.2 in /home/airflow/.local/lib/python3.8/site-packages (from beautifulsoup4<5.0.0,>=4.12.2->yahooquery) (2.5)\r\n"
     ]
    },
    {
     "name": "stdout",
     "output_type": "stream",
     "text": [
      "Requirement already satisfied: python-dateutil>=2.8.2 in /home/airflow/.local/lib/python3.8/site-packages (from pandas<3.0.0,>=2.0.3->yahooquery) (2.8.2)\r\n",
      "Requirement already satisfied: tzdata>=2022.1 in /home/airflow/.local/lib/python3.8/site-packages (from pandas<3.0.0,>=2.0.3->yahooquery) (2023.3)\r\n",
      "Requirement already satisfied: numpy>=1.20.3 in /home/airflow/.local/lib/python3.8/site-packages (from pandas<3.0.0,>=2.0.3->yahooquery) (1.24.4)\r\n",
      "Requirement already satisfied: pytz>=2020.1 in /home/airflow/.local/lib/python3.8/site-packages (from pandas<3.0.0,>=2.0.3->yahooquery) (2023.3.post1)\r\n",
      "Requirement already satisfied: idna<4,>=2.5 in /home/airflow/.local/lib/python3.8/site-packages (from requests<3.0.0,>=2.31.0->yahooquery) (3.4)\r\n",
      "Requirement already satisfied: certifi>=2017.4.17 in /home/airflow/.local/lib/python3.8/site-packages (from requests<3.0.0,>=2.31.0->yahooquery) (2023.7.22)\r\n",
      "Requirement already satisfied: charset-normalizer<4,>=2 in /home/airflow/.local/lib/python3.8/site-packages (from requests<3.0.0,>=2.31.0->yahooquery) (3.3.2)\r\n",
      "Requirement already satisfied: urllib3<3,>=1.21.1 in /home/airflow/.local/lib/python3.8/site-packages (from requests<3.0.0,>=2.31.0->yahooquery) (1.26.18)\r\n",
      "Requirement already satisfied: six>=1.5 in /home/airflow/.local/lib/python3.8/site-packages (from python-dateutil>=2.8.2->pandas<3.0.0,>=2.0.3->yahooquery) (1.16.0)\r\n"
     ]
    },
    {
     "name": "stdout",
     "output_type": "stream",
     "text": [
      "\r\n",
      "\u001b[1m[\u001b[0m\u001b[34;49mnotice\u001b[0m\u001b[1;39;49m]\u001b[0m\u001b[39;49m A new release of pip is available: \u001b[0m\u001b[31;49m23.0.1\u001b[0m\u001b[39;49m -> \u001b[0m\u001b[32;49m24.2\u001b[0m\r\n",
      "\u001b[1m[\u001b[0m\u001b[34;49mnotice\u001b[0m\u001b[1;39;49m]\u001b[0m\u001b[39;49m To update, run: \u001b[0m\u001b[32;49mpip install --upgrade pip\u001b[0m\r\n"
     ]
    },
    {
     "name": "stdout",
     "output_type": "stream",
     "text": [
      "Defaulting to user installation because normal site-packages is not writeable\r\n"
     ]
    },
    {
     "name": "stdout",
     "output_type": "stream",
     "text": [
      "Requirement already satisfied: yfinance in /home/airflow/.local/lib/python3.8/site-packages (0.2.43)\r\n",
      "Requirement already satisfied: requests>=2.31 in /home/airflow/.local/lib/python3.8/site-packages (from yfinance) (2.31.0)\r\n",
      "Requirement already satisfied: peewee>=3.16.2 in /home/airflow/.local/lib/python3.8/site-packages (from yfinance) (3.17.6)\r\n",
      "Requirement already satisfied: pandas>=1.3.0 in /home/airflow/.local/lib/python3.8/site-packages (from yfinance) (2.0.3)\r\n",
      "Requirement already satisfied: frozendict>=2.3.4 in /home/airflow/.local/lib/python3.8/site-packages (from yfinance) (2.4.4)\r\n",
      "Requirement already satisfied: multitasking>=0.0.7 in /home/airflow/.local/lib/python3.8/site-packages (from yfinance) (0.0.11)\r\n",
      "Requirement already satisfied: platformdirs>=2.0.0 in /home/airflow/.local/lib/python3.8/site-packages (from yfinance) (3.11.0)\r\n",
      "Requirement already satisfied: pytz>=2022.5 in /home/airflow/.local/lib/python3.8/site-packages (from yfinance) (2023.3.post1)\r\n",
      "Requirement already satisfied: beautifulsoup4>=4.11.1 in /home/airflow/.local/lib/python3.8/site-packages (from yfinance) (4.12.2)\r\n",
      "Requirement already satisfied: numpy>=1.16.5 in /home/airflow/.local/lib/python3.8/site-packages (from yfinance) (1.24.4)\r\n",
      "Requirement already satisfied: lxml>=4.9.1 in /home/airflow/.local/lib/python3.8/site-packages (from yfinance) (4.9.3)\r\n",
      "Requirement already satisfied: html5lib>=1.1 in /home/airflow/.local/lib/python3.8/site-packages (from yfinance) (1.1)\r\n",
      "Requirement already satisfied: soupsieve>1.2 in /home/airflow/.local/lib/python3.8/site-packages (from beautifulsoup4>=4.11.1->yfinance) (2.5)\r\n",
      "Requirement already satisfied: six>=1.9 in /home/airflow/.local/lib/python3.8/site-packages (from html5lib>=1.1->yfinance) (1.16.0)\r\n",
      "Requirement already satisfied: webencodings in /home/airflow/.local/lib/python3.8/site-packages (from html5lib>=1.1->yfinance) (0.5.1)\r\n"
     ]
    },
    {
     "name": "stdout",
     "output_type": "stream",
     "text": [
      "Requirement already satisfied: tzdata>=2022.1 in /home/airflow/.local/lib/python3.8/site-packages (from pandas>=1.3.0->yfinance) (2023.3)\r\n",
      "Requirement already satisfied: python-dateutil>=2.8.2 in /home/airflow/.local/lib/python3.8/site-packages (from pandas>=1.3.0->yfinance) (2.8.2)\r\n"
     ]
    },
    {
     "name": "stdout",
     "output_type": "stream",
     "text": [
      "Requirement already satisfied: idna<4,>=2.5 in /home/airflow/.local/lib/python3.8/site-packages (from requests>=2.31->yfinance) (3.4)\r\n",
      "Requirement already satisfied: urllib3<3,>=1.21.1 in /home/airflow/.local/lib/python3.8/site-packages (from requests>=2.31->yfinance) (1.26.18)\r\n",
      "Requirement already satisfied: charset-normalizer<4,>=2 in /home/airflow/.local/lib/python3.8/site-packages (from requests>=2.31->yfinance) (3.3.2)\r\n",
      "Requirement already satisfied: certifi>=2017.4.17 in /home/airflow/.local/lib/python3.8/site-packages (from requests>=2.31->yfinance) (2023.7.22)\r\n"
     ]
    },
    {
     "name": "stdout",
     "output_type": "stream",
     "text": [
      "\r\n",
      "\u001b[1m[\u001b[0m\u001b[34;49mnotice\u001b[0m\u001b[1;39;49m]\u001b[0m\u001b[39;49m A new release of pip is available: \u001b[0m\u001b[31;49m23.0.1\u001b[0m\u001b[39;49m -> \u001b[0m\u001b[32;49m24.2\u001b[0m\r\n",
      "\u001b[1m[\u001b[0m\u001b[34;49mnotice\u001b[0m\u001b[1;39;49m]\u001b[0m\u001b[39;49m To update, run: \u001b[0m\u001b[32;49mpip install --upgrade pip\u001b[0m\r\n"
     ]
    },
    {
     "name": "stdout",
     "output_type": "stream",
     "text": [
      "Defaulting to user installation because normal site-packages is not writeable\r\n"
     ]
    },
    {
     "name": "stdout",
     "output_type": "stream",
     "text": [
      "Requirement already satisfied: psycopg2-binary in /home/airflow/.local/lib/python3.8/site-packages (2.9.9)\r\n"
     ]
    },
    {
     "name": "stdout",
     "output_type": "stream",
     "text": [
      "\r\n",
      "\u001b[1m[\u001b[0m\u001b[34;49mnotice\u001b[0m\u001b[1;39;49m]\u001b[0m\u001b[39;49m A new release of pip is available: \u001b[0m\u001b[31;49m23.0.1\u001b[0m\u001b[39;49m -> \u001b[0m\u001b[32;49m24.2\u001b[0m\r\n",
      "\u001b[1m[\u001b[0m\u001b[34;49mnotice\u001b[0m\u001b[1;39;49m]\u001b[0m\u001b[39;49m To update, run: \u001b[0m\u001b[32;49mpip install --upgrade pip\u001b[0m\r\n"
     ]
    }
   ],
   "source": [
    "#fontes - yahoo finance api\n",
    "!pip install yahoofinance\n",
    "!pip install yahooquery\n",
    "!pip install yfinance\n",
    "\n",
    "\n",
    "!pip install psycopg2-binary\n"
   ]
  },
  {
   "cell_type": "code",
   "execution_count": 2,
   "id": "5285b8b5",
   "metadata": {
    "execution": {
     "iopub.execute_input": "2024-08-27T03:20:56.222840Z",
     "iopub.status.busy": "2024-08-27T03:20:56.222528Z",
     "iopub.status.idle": "2024-08-27T03:20:58.631557Z",
     "shell.execute_reply": "2024-08-27T03:20:58.631009Z"
    },
    "jupyter": {
     "source_hidden": true
    },
    "papermill": {
     "duration": 2.41656,
     "end_time": "2024-08-27T03:20:58.632552",
     "exception": false,
     "start_time": "2024-08-27T03:20:56.215992",
     "status": "completed"
    },
    "tags": []
   },
   "outputs": [
    {
     "name": "stderr",
     "output_type": "stream",
     "text": [
      "/home/airflow/.local/lib/python3.8/site-packages/pyspark/bin/load-spark-env.sh: line 68: ps: command not found\n"
     ]
    },
    {
     "name": "stderr",
     "output_type": "stream",
     "text": [
      "24/08/27 03:20:57 WARN NativeCodeLoader: Unable to load native-hadoop library for your platform... using builtin-java classes where applicable\n",
      "Setting default log level to \"WARN\".\n",
      "To adjust logging level use sc.setLogLevel(newLevel). For SparkR, use setLogLevel(newLevel).\n"
     ]
    },
    {
     "data": {
      "text/html": [
       "\n",
       "            <div>\n",
       "                <p><b>SparkSession - in-memory</b></p>\n",
       "                \n",
       "        <div>\n",
       "            <p><b>SparkContext</b></p>\n",
       "\n",
       "            <p><a href=\"http://f13bd865382e:4040\">Spark UI</a></p>\n",
       "\n",
       "            <dl>\n",
       "              <dt>Version</dt>\n",
       "                <dd><code>v3.5.2</code></dd>\n",
       "              <dt>Master</dt>\n",
       "                <dd><code>local[*]</code></dd>\n",
       "              <dt>AppName</dt>\n",
       "                <dd><code>PAXPE</code></dd>\n",
       "            </dl>\n",
       "        </div>\n",
       "        \n",
       "            </div>\n",
       "        "
      ],
      "text/plain": [
       "<pyspark.sql.session.SparkSession at 0x7fae30919550>"
      ]
     },
     "execution_count": 2,
     "metadata": {},
     "output_type": "execute_result"
    }
   ],
   "source": [
    "import findspark\n",
    "findspark.init()  # Inicializa o Spark\n",
    "findspark.find()  # Verifica se o Spark está corretamente configurado\n",
    "\n",
    "from pyspark import SparkContext, SparkConf\n",
    "from pyspark.sql import SparkSession\n",
    "\n",
    "spark = (\n",
    "    SparkSession\n",
    "    .builder\n",
    "    .appName(\"PAXPE\")\n",
    "    .config(\"spark.sql.session.timeZone\", \"-03:00\")\n",
    "    .config(\"spark.driver.memory\", \"16g\")  # Memória do driver\n",
    "    .config(\"spark.executor.memory\", \"12g\")  # Memória para cada executor (ajuste conforme a carga)\n",
    "    .config(\"spark.executor.cores\", \"8\")  # Núcleos por executor\n",
    "    .config(\"spark.cores.max\", \"24\")  # Total de núcleos disponíveis\n",
    "    .config(\"spark.dynamicAllocation.enabled\", \"true\")\n",
    "    .config(\"spark.dynamicAllocation.minExecutors\", \"2\")\n",
    "    .config(\"spark.dynamicAllocation.maxExecutors\", \"10\")\n",
    "    .config(\"spark.dynamicAllocation.initialExecutors\", \"4\")\n",
    "    .config(\"spark.default.parallelism\", \"24\")  # Nível de paralelismo\n",
    "    .config(\"spark.memory.fraction\", \"0.8\")  # Memória usada para armazenamento e execução\n",
    "    .config(\"spark.memory.storageFraction\", \"0.5\")  # Memória usada para armazenamento\n",
    "    .config(\"spark.jars\", \"/opt/airflow/jars/postgresql-42.7.4.jar\")\n",
    "    .getOrCreate()\n",
    ")\n",
    "\n",
    "\n",
    "spark"
   ]
  },
  {
   "cell_type": "code",
   "execution_count": 3,
   "id": "5b827a89",
   "metadata": {
    "execution": {
     "iopub.execute_input": "2024-08-27T03:20:58.645053Z",
     "iopub.status.busy": "2024-08-27T03:20:58.644415Z",
     "iopub.status.idle": "2024-08-27T03:20:58.977127Z",
     "shell.execute_reply": "2024-08-27T03:20:58.976515Z"
    },
    "jupyter": {
     "source_hidden": true
    },
    "papermill": {
     "duration": 0.340106,
     "end_time": "2024-08-27T03:20:58.978205",
     "exception": false,
     "start_time": "2024-08-27T03:20:58.638099",
     "status": "completed"
    },
    "tags": []
   },
   "outputs": [],
   "source": [
    "import pandas as pd\n",
    "\n",
    "import yfinance as yf\n",
    "from yfinance import Ticker\n",
    "#api yahoo\n",
    "from yahooquery import Screener, Ticker\n",
    "\n",
    "\n",
    "#criar timestamps e automatizar a safra de tempo da análise\n",
    "# apagar depois que tiver usando a api do spark sql\n",
    "from datetime import datetime, timedelta\n",
    "\n",
    "from pyspark.sql.functions import col, lit, when, lag, current_timestamp , date_format, from_utc_timestamp\n",
    "from pyspark.sql.types import StructType, StructField, StringType, FloatType, LongType, DateType, DoubleType,IntegerType\n",
    "from pyspark.sql.window import Window\n",
    "\n",
    "\n",
    "import psycopg2\n",
    "from psycopg2 import OperationalError\n",
    "import sys\n"
   ]
  },
  {
   "cell_type": "code",
   "execution_count": 4,
   "id": "edffc6a9",
   "metadata": {
    "execution": {
     "iopub.execute_input": "2024-08-27T03:20:58.991439Z",
     "iopub.status.busy": "2024-08-27T03:20:58.990996Z",
     "iopub.status.idle": "2024-08-27T03:20:58.995965Z",
     "shell.execute_reply": "2024-08-27T03:20:58.995377Z"
    },
    "jupyter": {
     "source_hidden": true
    },
    "papermill": {
     "duration": 0.012589,
     "end_time": "2024-08-27T03:20:58.996971",
     "exception": false,
     "start_time": "2024-08-27T03:20:58.984382",
     "status": "completed"
    },
    "tags": []
   },
   "outputs": [],
   "source": [
    "def obter_empresas_ativas():\n",
    "    screener = Screener()\n",
    "    dados = screener.get_screeners('most_actives', count=200)\n",
    "    # print(dados)  # Linha de depuração para inspecionar a estrutura dos dados retornados\n",
    "    empresas = dados['most_actives']['quotes']\n",
    "    \n",
    "    # Criar um DataFrame a partir dos dados\n",
    "    df = spark.createDataFrame(empresas)\n",
    "    \n",
    "    # Colunas para corresponder ao site\n",
    "    colunas = [\n",
    "        'symbol', 'shortName', 'displayName', 'regularMarketPrice', 'regularMarketChange', \n",
    "        'regularMarketChangePercent', 'regularMarketVolume', 'marketCap', \n",
    "        'fullExchangeName', 'quoteSourceName'\n",
    "    ]\n",
    "    df = df.select(*colunas)\n",
    "    \n",
    "    # Renomear colunas para português\n",
    "    df = df.withColumnRenamed('symbol', 'ticker') \\\n",
    "           .withColumnRenamed('shortName', 'nome_curto') \\\n",
    "           .withColumnRenamed('displayName', 'nome_exibicao') \\\n",
    "           .withColumnRenamed('regularMarketPrice', 'preco_mercado_regular') \\\n",
    "           .withColumnRenamed('regularMarketChange', 'mudanca_mercado_regular') \\\n",
    "           .withColumnRenamed('regularMarketChangePercent', 'mudanca_percentual_mercado_regular') \\\n",
    "           .withColumnRenamed('regularMarketVolume', 'volume_mercado_regular') \\\n",
    "           .withColumnRenamed('marketCap', 'capitalizacao_mercado') \\\n",
    "           .withColumnRenamed('fullExchangeName', 'nome_exchange_completa') \\\n",
    "           .withColumnRenamed('quoteSourceName', 'nome_fonte_cotacao')\n",
    "    \n",
    "    # Adicionar coluna com data e hora atual\n",
    "    df = df.withColumn('dt_ptcao', date_format(current_timestamp(), 'yyyy-MM-dd'))\n",
    "    df = df.withColumn('dthr_igtao', current_timestamp())\n",
    "    \n",
    "    # Garantir que 'ticker' não tenha valores nulos\n",
    "    df = df.withColumn('ticker', col('ticker').cast('string'))\n",
    "    df = df.dropna(subset=['ticker'])\n",
    "\n",
    "    # Ordenar por capitalizacaoMercado\n",
    "    df = df.orderBy(col('capitalizacao_mercado').desc())\n",
    "    \n",
    "    return df"
   ]
  },
  {
   "cell_type": "code",
   "execution_count": 5,
   "id": "7238f375",
   "metadata": {
    "execution": {
     "iopub.execute_input": "2024-08-27T03:20:59.009235Z",
     "iopub.status.busy": "2024-08-27T03:20:59.008889Z",
     "iopub.status.idle": "2024-08-27T03:20:59.012003Z",
     "shell.execute_reply": "2024-08-27T03:20:59.011458Z"
    },
    "jupyter": {
     "source_hidden": true
    },
    "papermill": {
     "duration": 0.010287,
     "end_time": "2024-08-27T03:20:59.013063",
     "exception": false,
     "start_time": "2024-08-27T03:20:59.002776",
     "status": "completed"
    },
    "tags": []
   },
   "outputs": [],
   "source": [
    "def obter_dados_historicos(symbols, start_date, end_date):\n",
    "    dados = {}\n",
    "    for symbol in symbols:\n",
    "        ticker = yf.Ticker(symbol)\n",
    "        historico = ticker.history(start=start_date, end=end_date, interval='1mo')\n",
    "        dados[symbol] = historico\n",
    "    \n",
    "    return dados"
   ]
  },
  {
   "cell_type": "code",
   "execution_count": 6,
   "id": "4c83748b",
   "metadata": {
    "execution": {
     "iopub.execute_input": "2024-08-27T03:20:59.027210Z",
     "iopub.status.busy": "2024-08-27T03:20:59.026616Z",
     "iopub.status.idle": "2024-08-27T03:20:59.030772Z",
     "shell.execute_reply": "2024-08-27T03:20:59.030214Z"
    },
    "jupyter": {
     "source_hidden": true
    },
    "papermill": {
     "duration": 0.012989,
     "end_time": "2024-08-27T03:20:59.031788",
     "exception": false,
     "start_time": "2024-08-27T03:20:59.018799",
     "status": "completed"
    },
    "tags": []
   },
   "outputs": [],
   "source": [
    "\n",
    "from concurrent.futures import ThreadPoolExecutor, as_completed\n",
    "\n",
    "def obter_dados_historicos_ticker(symbol, start_date, end_date):\n",
    "    ticker = yf.Ticker(symbol)\n",
    "    historico = ticker.history(start=start_date, end=end_date, interval='1mo')\n",
    "    return (symbol, historico)\n",
    "\n",
    "def obter_dados_historicos(symbols, start_date, end_date):\n",
    "    dados = {}\n",
    "    \n",
    "    # Usar ThreadPoolExecutor para executar as solicitações em paralelo\n",
    "    with ThreadPoolExecutor(max_workers=10) as executor:\n",
    "        # Submit tarefas para o executor\n",
    "        futuros = [executor.submit(obter_dados_historicos_ticker, symbol, start_date, end_date) for symbol in symbols]\n",
    "        \n",
    "        # Coletar os resultados conforme as tarefas são concluídas\n",
    "        for futuro in as_completed(futuros):\n",
    "            symbol, historico = futuro.result()\n",
    "            dados[symbol] = historico\n",
    "    \n",
    "    return dados"
   ]
  },
  {
   "cell_type": "code",
   "execution_count": 7,
   "id": "ebef0352",
   "metadata": {
    "execution": {
     "iopub.execute_input": "2024-08-27T03:20:59.045033Z",
     "iopub.status.busy": "2024-08-27T03:20:59.044459Z",
     "iopub.status.idle": "2024-08-27T03:20:59.051076Z",
     "shell.execute_reply": "2024-08-27T03:20:59.050405Z"
    },
    "jupyter": {
     "source_hidden": true
    },
    "papermill": {
     "duration": 0.014518,
     "end_time": "2024-08-27T03:20:59.052116",
     "exception": false,
     "start_time": "2024-08-27T03:20:59.037598",
     "status": "completed"
    },
    "tags": []
   },
   "outputs": [],
   "source": [
    "def retorno_mensal(dados):\n",
    "    # Inicializar uma lista vazia para armazenar dados estruturados\n",
    "    dados_estruturados = []\n",
    "    \n",
    "    # Iterar sobre os dados históricos de cada símbolo\n",
    "    for symbol, df in dados.items():\n",
    "        # Converter DataFrame do Pandas para PySpark\n",
    "        df['symbol'] = symbol\n",
    "\n",
    "        df_spark = spark.createDataFrame(df.reset_index())\n",
    "        \n",
    "        \n",
    "        # Renomear colunas para português\n",
    "        df_spark = df_spark.withColumnRenamed('symbol', 'ticker') \\\n",
    "                        .withColumnRenamed('Date', 'data') \\\n",
    "                        .withColumnRenamed('Open', 'abertura') \\\n",
    "                        .withColumnRenamed('High', 'alta') \\\n",
    "                        .withColumnRenamed('Low', 'baixa') \\\n",
    "                        .withColumnRenamed('Close', 'fechamento') \\\n",
    "                        .withColumnRenamed('Volume', 'volume') \\\n",
    "                        .withColumnRenamed('Dividends', 'dividendos') \\\n",
    "                        .withColumnRenamed('Stock Splits', 'desdobramentos')\n",
    "\n",
    "        janela = Window.partitionBy('ticker').orderBy('Data')\n",
    "\n",
    "\n",
    "        # Calcular preço de fechamento do mês anterior (deslocar uma linha para cima)\n",
    "        df_spark = df_spark.withColumn('fechamento_mes_anterior', lag('fechamento').over(janela))\n",
    "\n",
    "        # Calcular Retorno em valor (diferença absoluta)\n",
    "        df_spark = df_spark.withColumn('valor_retorno', col('fechamento') - col('fechamento_mes_anterior'))\n",
    "\n",
    "        # Calcular Retorno em porcentagem\n",
    "        df_spark = df_spark.withColumn('porcentagem_retorno', (col('valor_retorno') / col('fechamento_mes_anterior')) * 100)\n",
    "\n",
    "        # Adicionar coluna com data atual no formato desejado\n",
    "        df_spark = df_spark.withColumn('dt_ptcao', date_format(current_timestamp(), 'yyyy-MM-dd'))\n",
    "        df_spark = df_spark.withColumn('dthr_igtao', current_timestamp())\n",
    "\n",
    "        # Reordenar colunas\n",
    "        df_spark = df_spark.select(\n",
    "            'ticker',               # 'symbol' traduzido para 'ticker'\n",
    "            'data',                 # 'date' traduzido para 'Data'\n",
    "            'abertura',             # 'open' traduzido para 'Abertura'\n",
    "            'alta',                 # 'high' traduzido para 'Alta'\n",
    "            'baixa',                # 'low' traduzido para 'Baixa'\n",
    "            'fechamento',           # 'close' traduzido para 'Fechamento'\n",
    "            'volume',               # 'volume' mantido como 'Volume'\n",
    "            'dividendos',           # 'dividends' traduzido para 'Dividendos'\n",
    "            'desdobramentos',       # 'splits' traduzido para 'Desdobramentos'\n",
    "            'fechamento_mes_anterior', # 'Close_Last_Month' traduzido para 'Fechamento_Mes_Anterior'\n",
    "            'valor_retorno',        # 'Return_Value' traduzido para 'Valor_Retorno'\n",
    "            'porcentagem_retorno',  # 'Return_Percentage' traduzido para 'Porcentagem_Retorno'\n",
    "            'dt_ptcao',             # 'dt_ptcao' mantido como está\n",
    "            'dthr_igtao'            # 'DTHR_IGTAO' mantido como está\n",
    "        )\n",
    "        \n",
    "        # Adicionar o DataFrame à lista de dados estruturados\n",
    "        dados_estruturados.append(df_spark)\n",
    "\n",
    "    # Unir todos os DataFrames em um único DataFrame\n",
    "    df_final = dados_estruturados[0]\n",
    "    for df in dados_estruturados[1:]:\n",
    "        df_final = df_final.union(df)\n",
    "    \n",
    "    return df_final"
   ]
  },
  {
   "cell_type": "markdown",
   "id": "42d0d701",
   "metadata": {
    "papermill": {
     "duration": 0.006272,
     "end_time": "2024-08-27T03:20:59.064355",
     "exception": false,
     "start_time": "2024-08-27T03:20:59.058083",
     "status": "completed"
    },
    "tags": []
   },
   "source": [
    "# Tabela fato -  maiores empresas segundo a api do yahoo finance"
   ]
  },
  {
   "cell_type": "code",
   "execution_count": 8,
   "id": "cbcbe805",
   "metadata": {
    "execution": {
     "iopub.execute_input": "2024-08-27T03:20:59.076913Z",
     "iopub.status.busy": "2024-08-27T03:20:59.076559Z",
     "iopub.status.idle": "2024-08-27T03:21:03.820857Z",
     "shell.execute_reply": "2024-08-27T03:21:03.820280Z"
    },
    "jupyter": {
     "source_hidden": true
    },
    "papermill": {
     "duration": 4.751586,
     "end_time": "2024-08-27T03:21:03.821974",
     "exception": false,
     "start_time": "2024-08-27T03:20:59.070388",
     "status": "completed"
    },
    "tags": []
   },
   "outputs": [
    {
     "name": "stderr",
     "output_type": "stream",
     "text": [
      "24/08/27 03:21:02 WARN SparkStringUtils: Truncated the string representation of a plan since it was too large. This behavior can be adjusted by setting 'spark.sql.debug.maxToStringFields'.\n"
     ]
    },
    {
     "name": "stderr",
     "output_type": "stream",
     "text": [
      "\r",
      "[Stage 0:>                                                        (0 + 24) / 24]\r"
     ]
    },
    {
     "name": "stderr",
     "output_type": "stream",
     "text": [
      "\r",
      "                                                                                \r"
     ]
    },
    {
     "name": "stdout",
     "output_type": "stream",
     "text": [
      "+------+--------------------+--------------------+---------------------+-----------------------+----------------------------------+----------------------+---------------------+----------------------+--------------------+----------+--------------------+\n",
      "|ticker|          nome_curto|       nome_exibicao|preco_mercado_regular|mudanca_mercado_regular|mudanca_percentual_mercado_regular|volume_mercado_regular|capitalizacao_mercado|nome_exchange_completa|  nome_fonte_cotacao|  dt_ptcao|          dthr_igtao|\n",
      "+------+--------------------+--------------------+---------------------+-----------------------+----------------------------------+----------------------+---------------------+----------------------+--------------------+----------+--------------------+\n",
      "|  AAPL|          Apple Inc.|               Apple|               227.18|             0.33999634|                        0.14988378|              29834257|        3454067277824|              NasdaqGS|Nasdaq Real Time ...|2024-08-27|2024-08-27 00:21:...|\n",
      "|  NVDA|  NVIDIA Corporation|              NVIDIA|               126.46|              -2.909996|                        -2.2493594|             327535169|        3182542979072|              NasdaqGS|Nasdaq Real Time ...|2024-08-27|2024-08-27 00:21:...|\n",
      "|  MSFT|Microsoft Corpora...|           Microsoft|               413.49|             -3.3000183|                       -0.79177004|              13122851|        3097118638080|              NasdaqGS|Nasdaq Real Time ...|2024-08-27|2024-08-27 00:21:...|\n",
      "| GOOGL|       Alphabet Inc.|                NULL|               166.16|             0.54000854|                        0.32605276|              14151327|        2048885784576|              NasdaqGS|Nasdaq Real Time ...|2024-08-27|2024-08-27 00:21:...|\n",
      "|  GOOG|       Alphabet Inc.|            Alphabet|               167.93|                    0.5|                         0.2986323|              11634952|        2048158203904|              NasdaqGS|Nasdaq Real Time ...|2024-08-27|2024-08-27 00:21:...|\n",
      "|  AMZN|    Amazon.com, Inc.|          Amazon.com|                175.5|             -1.5399933|                        -0.8698561|              21904019|        1858141421568|              NasdaqGS|Nasdaq Real Time ...|2024-08-27|2024-08-27 00:21:...|\n",
      "|  META|Meta Platforms, Inc.|      Meta Platforms|               521.12|              -6.880005|                        -1.3030312|               9547234|        1335640981504|              NasdaqGS|Nasdaq Real Time ...|2024-08-27|2024-08-27 00:21:...|\n",
      "|   TSM|Taiwan Semiconduc...|Taiwan Semiconduc...|               169.07|               -2.20999|                          -1.29028|               9566454|         876810534912|                  NYSE|       Delayed Quote|2024-08-27|2024-08-27 00:21:...|\n",
      "|  AVGO|       Broadcom Inc.|            Broadcom|               159.62|             -6.7400055|                         -4.051458|              18464648|         773901582336|              NasdaqGS|Nasdaq Real Time ...|2024-08-27|2024-08-27 00:21:...|\n",
      "|  TSLA|         Tesla, Inc.|               Tesla|               213.21|             -7.1100006|                        -3.2271245|              58984295|         703842484224|              NasdaqGS|Nasdaq Real Time ...|2024-08-27|2024-08-27 00:21:...|\n",
      "|   WMT|        Walmart Inc.|             Walmart|                76.03|               0.330002|                          0.435934|               7828507|         611550363648|                  NYSE|       Delayed Quote|2024-08-27|2024-08-27 00:21:...|\n",
      "|   XOM|Exxon Mobil Corpo...|         Exxon Mobil|               118.81|                   2.49|                           2.14064|              13661876|         527852601344|                  NYSE|       Delayed Quote|2024-08-27|2024-08-27 00:21:...|\n",
      "|   BAC|Bank of America C...|     Bank of America|                39.92|               0.149998|                          0.377163|              38807530|         309762424832|                  NYSE|       Delayed Quote|2024-08-27|2024-08-27 00:21:...|\n",
      "|    KO|Coca-Cola Company...|                NULL|                70.84|                   1.05|                           1.50451|              12907485|         305311186944|                  NYSE|Nasdaq Real Time ...|2024-08-27|2024-08-27 00:21:...|\n",
      "|   CVX| Chevron Corporation|             Chevron|                148.5|               0.880005|                          0.596129|               5090354|         269490372608|                  NYSE|Nasdaq Real Time ...|2024-08-27|2024-08-27 00:21:...|\n",
      "|   AMD|Advanced Micro De...|Advanced Micro De...|               149.99|               -4.98999|                         -3.219764|              49766371|         250816299008|              NasdaqGS|Nasdaq Real Time ...|2024-08-27|2024-08-27 00:21:...|\n",
      "|  CSCO| Cisco Systems, Inc.|       Cisco Systems|                50.79|            0.049999237|                       0.098540075|              11970585|         204623265792|              NasdaqGS|Nasdaq Real Time ...|2024-08-27|2024-08-27 00:21:...|\n",
      "|  BABA|Alibaba Group Hol...|Alibaba Group Hol...|                81.76|                  -3.65|                          -4.27351|              28476630|         198685802496|                  NYSE|       Delayed Quote|2024-08-27|2024-08-27 00:21:...|\n",
      "|   PDD|   PDD Holdings Inc.|                 PDD|                100.0|             -39.869995|                         -28.50504|             102367839|         194247000064|              NasdaqGS|Nasdaq Real Time ...|2024-08-27|2024-08-27 00:21:...|\n",
      "|  QCOM|QUALCOMM Incorpor...|                NULL|               169.49|             -4.0099945|                        -2.3112361|               7211342|         193279606784|              NasdaqGS|Nasdaq Real Time ...|2024-08-27|2024-08-27 00:21:...|\n",
      "+------+--------------------+--------------------+---------------------+-----------------------+----------------------------------+----------------------+---------------------+----------------------+--------------------+----------+--------------------+\n",
      "only showing top 20 rows\n",
      "\n",
      "root\n",
      " |-- ticker: string (nullable = true)\n",
      " |-- nome_curto: string (nullable = true)\n",
      " |-- nome_exibicao: string (nullable = true)\n",
      " |-- preco_mercado_regular: double (nullable = true)\n",
      " |-- mudanca_mercado_regular: double (nullable = true)\n",
      " |-- mudanca_percentual_mercado_regular: double (nullable = true)\n",
      " |-- volume_mercado_regular: long (nullable = true)\n",
      " |-- capitalizacao_mercado: long (nullable = true)\n",
      " |-- nome_exchange_completa: string (nullable = true)\n",
      " |-- nome_fonte_cotacao: string (nullable = true)\n",
      " |-- dt_ptcao: string (nullable = false)\n",
      " |-- dthr_igtao: timestamp (nullable = false)\n",
      "\n"
     ]
    }
   ],
   "source": [
    "df_ativas = obter_empresas_ativas()\n",
    "\n",
    "df_ativas.show()\n",
    "df_ativas.printSchema()"
   ]
  },
  {
   "cell_type": "markdown",
   "id": "4bbe9d33",
   "metadata": {
    "papermill": {
     "duration": 0.00578,
     "end_time": "2024-08-27T03:21:03.833471",
     "exception": false,
     "start_time": "2024-08-27T03:21:03.827691",
     "status": "completed"
    },
    "tags": []
   },
   "source": [
    "# Dimensão - Retornos mensais 10 anos"
   ]
  },
  {
   "cell_type": "code",
   "execution_count": 9,
   "id": "22df8c23",
   "metadata": {
    "execution": {
     "iopub.execute_input": "2024-08-27T03:21:03.845823Z",
     "iopub.status.busy": "2024-08-27T03:21:03.845640Z",
     "iopub.status.idle": "2024-08-27T03:21:03.849346Z",
     "shell.execute_reply": "2024-08-27T03:21:03.848710Z"
    },
    "jupyter": {
     "source_hidden": true
    },
    "papermill": {
     "duration": 0.011252,
     "end_time": "2024-08-27T03:21:03.850385",
     "exception": false,
     "start_time": "2024-08-27T03:21:03.839133",
     "status": "completed"
    },
    "tags": []
   },
   "outputs": [
    {
     "name": "stdout",
     "output_type": "stream",
     "text": [
      "start_date: 2014-08-30\n",
      "end_date: 2024-08-27\n"
     ]
    }
   ],
   "source": [
    "# 10 anos passados\n",
    "start_date = datetime.today() - timedelta(days=10*365)\n",
    "\n",
    "# hoje\n",
    "end_date = datetime.today()\n",
    "\n",
    "# 'YYYY-MM-DD'\n",
    "start_date_str = start_date.strftime('%Y-%m-%d')\n",
    "end_date_str = end_date.strftime('%Y-%m-%d')\n",
    "\n",
    "print(f\"start_date: {start_date_str}\")\n",
    "print(f\"end_date: {end_date_str}\")\n"
   ]
  },
  {
   "cell_type": "code",
   "execution_count": 10,
   "id": "1017c5eb",
   "metadata": {
    "execution": {
     "iopub.execute_input": "2024-08-27T03:21:03.862311Z",
     "iopub.status.busy": "2024-08-27T03:21:03.862027Z",
     "iopub.status.idle": "2024-08-27T03:21:04.416830Z",
     "shell.execute_reply": "2024-08-27T03:21:04.416279Z"
    },
    "jupyter": {
     "source_hidden": true
    },
    "papermill": {
     "duration": 0.561944,
     "end_time": "2024-08-27T03:21:04.417786",
     "exception": false,
     "start_time": "2024-08-27T03:21:03.855842",
     "status": "completed"
    },
    "tags": []
   },
   "outputs": [
    {
     "name": "stdout",
     "output_type": "stream",
     "text": [
      "('AAPL', 'NVDA', 'MSFT', 'GOOGL', 'GOOG', 'AMZN', 'META', 'TSM', 'AVGO', 'TSLA', 'WMT', 'XOM', 'BAC', 'KO', 'CVX', 'AMD', 'CSCO', 'BABA', 'PDD', 'QCOM', 'WFC', 'VZ', 'AMAT', 'DIS', 'NEE', 'PFE', 'UBER', 'CMCSA', 'ARM', 'T', 'COP', 'NKE', 'C', 'SCHW', 'MDT', 'MU', 'SBUX', 'PBR-A', 'PBR', 'MO', 'INTC', 'DELL', 'CMG', 'CVS', 'PYPL', 'PLTR', 'NU', 'FCX', 'SLB', 'MRVL', 'ITUB', 'TFC', 'ET', 'GM', 'OXY', 'PCG', 'SE', 'KMI', 'VALE', 'F', 'BCS', 'MCHP', 'KHC', 'EW', 'KVUE', 'JD', 'SNOW', 'ABEV', 'SMCI', 'GOLD', 'CVE', 'HPQ', 'ON', 'MSTR', 'BBD', 'HPE', 'HST', 'ERIC', 'NOK', 'LI', 'CCL', 'UMC', 'ZM', 'HBAN', 'RF', 'ASX', 'WBD', 'EQT', 'HOOD', 'CNP', 'DKNG', 'TME', 'LUV', 'MRO', 'KEY', 'SNAP', 'CAVA', 'RIVN', 'ONON', 'VTRS', 'Z', 'GRAB', 'SIRI', 'PR', 'CHWY', 'KGC', 'BEN', 'XP', 'LCID', 'AFRM', 'CX', 'GPS', 'WBA', 'ASTS', 'NIO', 'SOFI', 'PARA', 'AGNC', 'BBWI', 'S', 'YMM', 'NCLH', 'IEP', 'AUR', 'PATH', 'U', 'SWN', 'AAL', 'VIPS', 'XPEV', 'CLF', 'LUMN', 'QXO', 'BILI', 'MARA', 'RUN', 'LYFT', 'AEO', 'RIG', 'HL', 'UPST', 'BTG', 'PAGS', 'UAA', 'HIMS', 'NXE', 'RKLB', 'CLSK', 'ALTM', 'BTE', 'IAG', 'CORZ', 'COMP', 'MPW', 'RIOT', 'CDE', 'KOS', 'IQ', 'KSS', 'UEC', 'PSNY', 'INND')\n"
     ]
    }
   ],
   "source": [
    "# Selecionar a coluna 'symbol' e coletar os valores como uma lista\n",
    "#100 maiores para dimensão das 100 maiores e retornos\n",
    "symbol_list = df_ativas.select('ticker').rdd.flatMap(lambda x: x).collect()\n",
    "\n",
    "# Converter a lista para uma tupla\n",
    "df_tickers = tuple(symbol_list)\n",
    "\n",
    "print(df_tickers)\n"
   ]
  },
  {
   "cell_type": "code",
   "execution_count": 11,
   "id": "cd98c3cd",
   "metadata": {
    "execution": {
     "iopub.execute_input": "2024-08-27T03:21:04.430411Z",
     "iopub.status.busy": "2024-08-27T03:21:04.430083Z",
     "iopub.status.idle": "2024-08-27T03:21:30.246408Z",
     "shell.execute_reply": "2024-08-27T03:21:30.245859Z"
    },
    "jupyter": {
     "source_hidden": true
    },
    "papermill": {
     "duration": 25.824073,
     "end_time": "2024-08-27T03:21:30.247792",
     "exception": false,
     "start_time": "2024-08-27T03:21:04.423719",
     "status": "completed"
    },
    "tags": []
   },
   "outputs": [
    {
     "name": "stderr",
     "output_type": "stream",
     "text": [
      "\r",
      "[Stage 20:> (7 + 17) / 24][Stage 21:> (0 + 15) / 24][Stage 22:>  (0 + 0) / 24]\r",
      "\r",
      "[Stage 23:>(13 + 11) / 24][Stage 24:> (0 + 24) / 24][Stage 25:>  (0 + 0) / 24]\r"
     ]
    },
    {
     "name": "stderr",
     "output_type": "stream",
     "text": [
      "\r",
      "[Stage 27:=>(23 + 1) / 24][Stage 28:> (1 + 23) / 24][Stage 29:>  (0 + 8) / 24]\r",
      "\r",
      "[Stage 31:==(24 + 0) / 24][Stage 32:> (3 + 21) / 24][Stage 33:> (0 + 10) / 24]\r"
     ]
    },
    {
     "name": "stderr",
     "output_type": "stream",
     "text": [
      "\r",
      "[Stage 35:=>(19 + 5) / 24][Stage 36:> (1 + 23) / 24][Stage 37:>  (0 + 4) / 24]\r",
      "\r",
      "[Stage 40:> (1 + 23) / 24][Stage 41:>  (0 + 9) / 24][Stage 42:>  (0 + 0) / 24]\r"
     ]
    },
    {
     "name": "stderr",
     "output_type": "stream",
     "text": [
      "\r",
      "[Stage 44:> (4 + 20) / 24][Stage 45:> (0 + 13) / 24][Stage 46:>  (0 + 0) / 24]\r"
     ]
    },
    {
     "name": "stderr",
     "output_type": "stream",
     "text": [
      "\r",
      "[Stage 47:=>(23 + 1) / 24][Stage 48:> (6 + 18) / 24][Stage 49:> (0 + 15) / 24]\r",
      "\r",
      "[Stage 53:> (2 + 22) / 24][Stage 54:> (0 + 10) / 24][Stage 55:>  (0 + 0) / 24]\r"
     ]
    },
    {
     "name": "stderr",
     "output_type": "stream",
     "text": [
      "\r",
      "[Stage 57:=>(15 + 9) / 24][Stage 58:> (0 + 23) / 24][Stage 59:>  (0 + 0) / 24]\r",
      "\r",
      "[Stage 62:>(13 + 11) / 24][Stage 63:> (0 + 21) / 24][Stage 64:>  (0 + 0) / 24]\r"
     ]
    },
    {
     "name": "stderr",
     "output_type": "stream",
     "text": [
      "\r",
      "[Stage 66:=>(19 + 5) / 24][Stage 67:> (0 + 24) / 24][Stage 68:>  (0 + 3) / 24]\r",
      "\r",
      "[Stage 71:> (6 + 18) / 24][Stage 72:> (0 + 14) / 24][Stage 73:>  (0 + 0) / 24]\r"
     ]
    },
    {
     "name": "stderr",
     "output_type": "stream",
     "text": [
      "\r",
      "[Stage 75:=>(23 + 1) / 24][Stage 76:> (0 + 24) / 24][Stage 77:>  (0 + 7) / 24]\r",
      "\r",
      "[Stage 80:=>(20 + 4) / 24][Stage 81:> (0 + 24) / 24][Stage 82:>  (0 + 4) / 24]\r"
     ]
    },
    {
     "name": "stderr",
     "output_type": "stream",
     "text": [
      "\r",
      "[Stage 84:=>(18 + 6) / 24][Stage 85:> (0 + 24) / 24][Stage 86:>  (0 + 2) / 24]\r",
      "\r",
      "[Stage 88:=>(23 + 1) / 24][Stage 89:> (8 + 16) / 24][Stage 90:> (0 + 23) / 24]\r"
     ]
    },
    {
     "name": "stderr",
     "output_type": "stream",
     "text": [
      "\r",
      "[Stage 94:> (1 + 23) / 24][Stage 95:>  (0 + 9) / 24][Stage 96:>  (0 + 0) / 24]\r",
      "\r",
      "[Stage 98:=>(15 + 9) / 24][Stage 99:> (0 + 23) / 24][Stage 100:> (0 + 0) / 24]\r"
     ]
    },
    {
     "name": "stderr",
     "output_type": "stream",
     "text": [
      "\r",
      "[Stage 103:(12 + 12) / 24][Stage 104:>(0 + 20) / 24][Stage 105:> (0 + 0) / 24]\r",
      "\r",
      "[Stage 107:>(20 + 4) / 24][Stage 108:>(0 + 24) / 24][Stage 109:> (0 + 4) / 24]\r"
     ]
    },
    {
     "name": "stderr",
     "output_type": "stream",
     "text": [
      "\r",
      "[Stage 112:>(1 + 23) / 24][Stage 113:> (0 + 9) / 24][Stage 114:> (0 + 0) / 24]\r",
      "\r",
      "[Stage 116:(10 + 14) / 24][Stage 117:>(0 + 18) / 24][Stage 118:> (0 + 0) / 24]\r"
     ]
    },
    {
     "name": "stderr",
     "output_type": "stream",
     "text": [
      "\r",
      "[Stage 120:>(17 + 7) / 24][Stage 121:>(1 + 23) / 24][Stage 122:> (0 + 2) / 24]\r",
      "\r",
      "[Stage 125:(14 + 10) / 24][Stage 126:>(0 + 22) / 24][Stage 127:> (0 + 0) / 24]\r"
     ]
    },
    {
     "name": "stderr",
     "output_type": "stream",
     "text": [
      "\r",
      "[Stage 130:>(6 + 18) / 24][Stage 131:>(0 + 14) / 24][Stage 132:> (0 + 0) / 24]\r",
      "\r",
      "[Stage 135:>(3 + 21) / 24][Stage 136:>(0 + 11) / 24][Stage 137:> (0 + 0) / 24]\r"
     ]
    },
    {
     "name": "stderr",
     "output_type": "stream",
     "text": [
      "\r",
      "[Stage 139:>(16 + 8) / 24][Stage 140:>(0 + 24) / 24][Stage 141:> (0 + 0) / 24]\r"
     ]
    },
    {
     "name": "stderr",
     "output_type": "stream",
     "text": [
      "\r",
      "[Stage 144:>(8 + 16) / 24][Stage 145:>(0 + 16) / 24][Stage 146:> (0 + 0) / 24]\r",
      "\r",
      "[Stage 149:(10 + 14) / 24][Stage 150:>(0 + 18) / 24][Stage 151:> (0 + 0) / 24]\r"
     ]
    },
    {
     "name": "stderr",
     "output_type": "stream",
     "text": [
      "\r",
      "[Stage 154:>(18 + 6) / 24][Stage 155:>(0 + 24) / 24][Stage 156:> (0 + 2) / 24]\r",
      "\r",
      "[Stage 159:(13 + 11) / 24][Stage 160:>(0 + 21) / 24][Stage 161:> (0 + 0) / 24]\r"
     ]
    },
    {
     "name": "stderr",
     "output_type": "stream",
     "text": [
      "\r",
      "[Stage 164:>(9 + 15) / 24][Stage 165:>(0 + 17) / 24][Stage 166:> (0 + 0) / 24]\r"
     ]
    },
    {
     "name": "stdout",
     "output_type": "stream",
     "text": [
      "+------+-------------------+------------------+------------------+------------------+------------------+----------+----------+--------------+-----------------------+--------------------+-------------------+----------+--------------------+\n",
      "|ticker|               data|          abertura|              alta|             baixa|        fechamento|    volume|dividendos|desdobramentos|fechamento_mes_anterior|       valor_retorno|porcentagem_retorno|  dt_ptcao|          dthr_igtao|\n",
      "+------+-------------------+------------------+------------------+------------------+------------------+----------+----------+--------------+-----------------------+--------------------+-------------------+----------+--------------------+\n",
      "| GOOGL|2014-09-01 01:00:00|29.114084406480686|30.235298944773426|28.817425908295125| 29.38677215576172| 708502000|       0.0|           0.0|                   NULL|                NULL|               NULL|2024-08-27|2024-08-27 00:21:...|\n",
      "| GOOGL|2014-10-01 01:00:00| 29.30636622645479|29.586045934151326|25.890785821706388|28.360950469970703|1109632000|       0.0|           0.0|      29.38677215576172| -1.0258216857910156|-3.4907599934887297|2024-08-27|2024-08-27 00:21:...|\n",
      "| GOOGL|2014-11-01 01:00:00|28.144198889618302| 28.32499114805872| 26.92859309350217|27.422527313232422| 595410000|       0.0|           0.0|     28.360950469970703| -0.9384231567382812| -3.308856512872894|2024-08-27|2024-08-27 00:21:...|\n",
      "| GOOGL|2014-12-01 02:00:00|27.223255846568964| 27.40804514086515| 24.83100283731482| 26.50258445739746|1088686000|       0.0|           0.0|     27.422527313232422| -0.9199428558349609| -3.354697564257884|2024-08-27|2024-08-27 00:21:...|\n",
      "| GOOGL|2015-01-01 02:00:00|26.599471576794972| 27.23923835394572|24.517361805768886|26.846689224243164|1056926000|       0.0|           0.0|      26.50258445739746|  0.3441047668457031| 1.2983819272374995|2024-08-27|2024-08-27 00:21:...|\n",
      "| GOOGL|2015-02-01 02:00:00|26.685372857303747|28.438362023461938|26.056095916350863| 28.09925079345703| 808386000|       0.0|           0.0|     26.846689224243164|  1.2525615692138672| 4.6656090766036655|2024-08-27|2024-08-27 00:21:...|\n",
      "| GOOGL|2015-03-01 02:00:00|28.317499841872035| 29.12657072159351|27.484955460635163|27.703205108642578| 864144000|       0.0|           0.0|      28.09925079345703| -0.3960456848144531|-1.4094528274991347|2024-08-27|2024-08-27 00:21:...|\n",
      "| GOOGL|2015-04-01 01:00:00|27.709699422943793|29.201487107401455|26.419679840753968|27.407045364379883| 874900000|       0.0|           0.0|     27.703205108642578| -0.2961597442626953| -1.069045054899811|2024-08-27|2024-08-27 00:21:...|\n",
      "| GOOGL|2015-05-01 01:00:00| 27.49394422637053|27.880002455136047| 26.58149162661002|27.234743118286133| 648434000|       0.0|           0.0|     27.407045364379883|   -0.17230224609375|-0.6286786620117981|2024-08-27|2024-08-27 00:21:...|\n",
      "| GOOGL|2015-06-01 01:00:00|27.405048089643078|28.248080413775405|26.911613010879172|26.971046447753906| 704328000|       0.0|           0.0|     27.234743118286133|-0.26369667053222656|-0.9682363053212483|2024-08-27|2024-08-27 00:21:...|\n",
      "| GOOGL|2015-07-01 01:00:00|27.151840044600053| 35.62561473432714|26.957063882563222| 32.83731460571289|1370858000|       0.0|           0.0|     26.971046447753906|   5.866268157958984| 21.750243059062008|2024-08-27|2024-08-27 00:21:...|\n",
      "| GOOGL|2015-08-01 01:00:00| 32.84530313933335|35.159648327411446|29.620503848408095| 32.35386657714844|1106942000|       0.0|           0.0|      32.83731460571289| -0.4834480285644531|-1.4722520229481402|2024-08-27|2024-08-27 00:21:...|\n",
      "| GOOGL|2015-09-01 01:00:00|31.654171057495805|34.060407930877524| 30.85658637708576| 31.88191032409668| 871504000|       0.0|           0.0|      32.35386657714844| -0.4719562530517578|-1.4587321485250264|2024-08-27|2024-08-27 00:21:...|\n",
      "| GOOGL|2015-10-01 01:00:00|31.860432940293638|37.581867055322036|31.519824255747018|36.827232360839844|1005286000|       0.0|           0.0|      31.88191032409668|   4.945322036743164| 15.511373021476189|2024-08-27|2024-08-27 00:21:...|\n",
      "| GOOGL|2015-11-01 01:00:00|  36.6844006146451|39.100127199093066|  36.5305740104278|38.098777770996094| 751482000|       0.0|           0.0|     36.827232360839844|    1.27154541015625|  3.452731385561151|2024-08-27|2024-08-27 00:21:...|\n",
      "| GOOGL|2015-12-01 02:00:00| 38.30304082020515| 39.88872250467363|36.770798933563114| 38.85590744018555| 872694000|       0.0|           0.0|     38.098777770996094|  0.7571296691894531| 1.9872807304748819|2024-08-27|2024-08-27 00:21:...|\n",
      "| GOOGL|2016-01-01 02:00:00|38.066311752656084|38.415908992631685| 34.34957679279425|38.023860931396484|1039984000|       0.0|           0.0|      38.85590744018555| -0.8320465087890625|-2.1413642444714687|2024-08-27|2024-08-27 00:21:...|\n",
      "| GOOGL|2016-02-01 02:00:00| 38.51879116486798|40.471052632530096|34.061405443516115|35.819889068603516|1352946000|       0.0|           0.0|     38.023860931396484| -2.2039718627929688| -5.796286354953341|2024-08-27|2024-08-27 00:21:...|\n",
      "| GOOGL|2016-03-01 02:00:00|36.023655181327065| 38.82094757611652|  35.1596489158744| 38.10127258300781| 853314000|       0.0|           0.0|     35.819889068603516|   2.281383514404297|  6.369041260945591|2024-08-27|2024-08-27 00:21:...|\n",
      "| GOOGL|2016-04-01 01:00:00| 37.81460403686395| 39.50216621901566|35.119694969281944| 35.35342788696289| 933228000|       0.0|           0.0|      38.10127258300781|  -2.747844696044922| -7.211949915999368|2024-08-27|2024-08-27 00:21:...|\n",
      "+------+-------------------+------------------+------------------+------------------+------------------+----------+----------+--------------+-----------------------+--------------------+-------------------+----------+--------------------+\n",
      "only showing top 20 rows\n",
      "\n"
     ]
    },
    {
     "name": "stderr",
     "output_type": "stream",
     "text": [
      "24/08/27 03:21:30 WARN DAGScheduler: Broadcasting large task binary with size 3.1 MiB\n",
      "\r",
      "                                                                                \r"
     ]
    }
   ],
   "source": [
    "historical_data = obter_dados_historicos(df_tickers, start_date_str, end_date_str)\n",
    "df_retorno_mensal = retorno_mensal(historical_data)\n",
    "\n",
    "# Mostrar o DataFrame final\n",
    "df_retorno_mensal.show()"
   ]
  },
  {
   "cell_type": "markdown",
   "id": "a6f4996a",
   "metadata": {
    "papermill": {
     "duration": 0.007603,
     "end_time": "2024-08-27T03:21:30.263416",
     "exception": false,
     "start_time": "2024-08-27T03:21:30.255813",
     "status": "completed"
    },
    "tags": []
   },
   "source": [
    "# dimensões gerais \n",
    "\n",
    "2. **Criação dos DataFrames**:\n",
    "   - **Tabela Geral** (`df_financeira`): Contém informações gerais da empresa, como setor, indústria, número de empregados, localização e resumo das atividades.\n",
    "   - **Tabela Financeira** (`df_financeira`): Contém dados financeiros da empresa, como capitalização de mercado, receita, lucro líquido, EBITDA, dívida total, entre outros.\n",
    "   - **Tabela de Mercado** (`df_mercado`): Inclui dados relacionados ao mercado, como preço atual, preço de abertura, volume de negociação, beta, entre outros.\n",
    "   - **Tabela de Dividendos** (`df_dividendos`): Contém informações sobre dividendos, incluindo taxa de dividendos, data ex-dividendo e índice de distribuição.\n",
    "   - **Tabela de Valuation** (`df_valuation`): Inclui dados de valuation da empresa, como índices P/E (Price to Earnings), P/B (Price to Book) e PEG (Price/Earnings to Growth).\n",
    "   - **Tabela de Retorno Mensal** (`df_retorno_mensal`): Retorno mensal da ação com base em preço da ação, dividendos e percentual"
   ]
  },
  {
   "cell_type": "code",
   "execution_count": 12,
   "id": "b415bc3e",
   "metadata": {
    "execution": {
     "iopub.execute_input": "2024-08-27T03:21:30.281504Z",
     "iopub.status.busy": "2024-08-27T03:21:30.281250Z",
     "iopub.status.idle": "2024-08-27T03:21:30.294810Z",
     "shell.execute_reply": "2024-08-27T03:21:30.294091Z"
    },
    "jupyter": {
     "source_hidden": true
    },
    "papermill": {
     "duration": 0.023491,
     "end_time": "2024-08-27T03:21:30.295925",
     "exception": false,
     "start_time": "2024-08-27T03:21:30.272434",
     "status": "completed"
    },
    "tags": []
   },
   "outputs": [],
   "source": [
    "from pyspark.sql.functions import from_unixtime, col\n",
    "\n",
    "def criar_tabelas_spark(tickers):\n",
    "    if isinstance(tickers, str):\n",
    "        tickers = (tickers,)\n",
    "    \n",
    "    # Esquema para a tabela geral\n",
    "    schema_geral = StructType([\n",
    "        StructField('ticker', StringType(), False),\n",
    "        StructField('setor', StringType(), True),\n",
    "        StructField('industria', StringType(), True),\n",
    "        StructField('funcionarios', IntegerType(), True),\n",
    "        StructField('cidade', StringType(), True),\n",
    "        StructField('estado', StringType(), True),\n",
    "        StructField('pais', StringType(), True),\n",
    "        StructField('website', StringType(), True),\n",
    "        StructField('resumo_negocios', StringType(), True),\n",
    "        StructField('exchange', StringType(), True)\n",
    "    ])\n",
    "    \n",
    "    # Esquema para a tabela financeira\n",
    "    schema_financeira = StructType([\n",
    "        StructField('ticker', StringType(), False),\n",
    "        StructField('capitalizacao_mercado', LongType(), True),\n",
    "        StructField('valor_empresa', LongType(), True),\n",
    "        StructField('receita', LongType(), True),\n",
    "        StructField('lucros_brutos', LongType(), True),\n",
    "        StructField('lucro_liquido', LongType(), True),\n",
    "        StructField('ebitda', LongType(), True),\n",
    "        StructField('divida_total', LongType(), True),\n",
    "        StructField('caixa_total', LongType(), True),\n",
    "        StructField('dividend_yield', DoubleType(), True)\n",
    "    ])\n",
    "    \n",
    "    # Esquema para a tabela de mercado\n",
    "    schema_mercado = StructType([\n",
    "        StructField('ticker', StringType(), False),\n",
    "        StructField('preco_atual', DoubleType(), True),\n",
    "        StructField('fechamento_anterior', DoubleType(), True),\n",
    "        StructField('abertura', DoubleType(), True),\n",
    "        StructField('minimo_dia', DoubleType(), True),\n",
    "        StructField('maximo_dia', DoubleType(), True),\n",
    "        StructField('minimo_52_semanas', DoubleType(), True),\n",
    "        StructField('maximo_52_semanas', DoubleType(), True),\n",
    "        StructField('volume', LongType(), True),\n",
    "        StructField('volume_medio', LongType(), True),\n",
    "        StructField('beta', DoubleType(), True)\n",
    "    ])\n",
    "    \n",
    "    # Esquema para a tabela de dividendos\n",
    "    schema_dividendos = StructType([\n",
    "        StructField('ticker', StringType(), False),\n",
    "        StructField('taxa_dividendo', DoubleType(), True),\n",
    "        StructField('data_exdividendo', StringType(), True),  # Temporariamente como StringType\n",
    "        StructField('indice_distribuicao', DoubleType(), True)\n",
    "    ])\n",
    "    \n",
    "    # Esquema para a tabela de valuation\n",
    "    schema_valuation = StructType([\n",
    "        StructField('ticker', StringType(), False),\n",
    "        StructField('pe_forward', DoubleType(), True),\n",
    "        StructField('pe_trailing', DoubleType(), True),\n",
    "        StructField('booking_price', DoubleType(), True),\n",
    "        StructField('peg_ratio', DoubleType(), True)\n",
    "    ])\n",
    "    \n",
    "    # Inicializa as listas de dicionários para cada tabela\n",
    "    geral = []\n",
    "    financeira = []\n",
    "    mercado = []\n",
    "    dividendos = []\n",
    "    valuation = []\n",
    "    \n",
    "    for ticker in tickers:\n",
    "        try:\n",
    "            empresa = yf.Ticker(ticker)\n",
    "            info = empresa.info\n",
    "            \n",
    "            # Filtra e trata valores infinitos\n",
    "            def safe_get(key, default=None):\n",
    "                value = info.get(key)\n",
    "                if isinstance(value, str) and value in ('Infinity', '-Infinity'):\n",
    "                    return default\n",
    "                return value\n",
    "            \n",
    "            # Preencher dados da tabela geral\n",
    "            geral.append({\n",
    "                'ticker': ticker,\n",
    "                'setor': info.get('sector'),\n",
    "                'industria': info.get('industry'),\n",
    "                'funcionarios': info.get('fullTimeEmployees'),\n",
    "                'cidade': info.get('city'),\n",
    "                'estado': info.get('state'),\n",
    "                'pais': info.get('country'),\n",
    "                'website': info.get('website'),\n",
    "                'resumo_negocios': info.get('longBusinessSummary'),\n",
    "                'exchange': info.get('exchange')\n",
    "            })\n",
    "            \n",
    "            # Preencher dados da tabela financeira\n",
    "            financeira.append({\n",
    "                'ticker': ticker,\n",
    "                'capitalizacao_mercado': safe_get('marketCap', 0),\n",
    "                'valor_empresa': safe_get('enterpriseValue', 0),\n",
    "                'receita': safe_get('revenue', 0),\n",
    "                'lucros_brutos': safe_get('grossProfits', 0),\n",
    "                'lucro_liquido': safe_get('netIncome', 0),\n",
    "                'ebitda': safe_get('ebitda', 0),\n",
    "                'divida_total': safe_get('totalDebt', 0),\n",
    "                'caixa_total': safe_get('totalCash', 0),\n",
    "                'dividend_yield': safe_get('dividendYield', 0.0)\n",
    "            })\n",
    "            \n",
    "            # Preencher dados da tabela de mercado\n",
    "            mercado.append({\n",
    "                'ticker': ticker,\n",
    "                'preco_atual': safe_get('currentPrice', 0.0),\n",
    "                'fechamento_anterior': safe_get('previousClose', 0.0),\n",
    "                'abertura': safe_get('open', 0.0),\n",
    "                'minimo_dia': safe_get('dayLow', 0.0),\n",
    "                'maximo_dia': safe_get('dayHigh', 0.0),\n",
    "                'minimo_52_semanas': safe_get('fiftyTwoWeekLow', 0.0),\n",
    "                'maximo_52_semanas': safe_get('fiftyTwoWeekHigh', 0.0),\n",
    "                'volume': safe_get('volume', 0),\n",
    "                'volume_medio': safe_get('averageVolume', 0),\n",
    "                'beta': safe_get('beta', 0.0)\n",
    "            })\n",
    "            \n",
    "            # Preencher dados da tabela de dividendos\n",
    "            dividendos.append({\n",
    "                'ticker': ticker,\n",
    "                'taxa_dividendo': safe_get('dividendRate', 0.0),\n",
    "                'data_exdividendo': safe_get('exDividendDate'),  # Unix timestamp\n",
    "                'indice_distribuicao': safe_get('payoutRatio', 0.0)\n",
    "            })\n",
    "            \n",
    "            # Preencher dados da tabela de valuation\n",
    "            valuation.append({\n",
    "                'ticker': ticker,\n",
    "                'pe_forward': safe_get('forwardPE', 0.0),\n",
    "                'pe_trailing': safe_get('trailingPE', 0.0),\n",
    "                'booking_price': safe_get('priceToBook', 0.0),\n",
    "                'peg_ratio': safe_get('pegRatio', 0.0)\n",
    "            })\n",
    "            \n",
    "        except Exception as e:\n",
    "            print(f\"Erro ao processar o ticker {ticker}: {e}\")\n",
    "    \n",
    "    # Criar DataFrames Spark com esquema definido\n",
    "    df_geral = spark.createDataFrame(geral, schema=schema_geral)\n",
    "    df_financeira = spark.createDataFrame(financeira, schema=schema_financeira)\n",
    "    df_mercado = spark.createDataFrame(mercado, schema=schema_mercado)\n",
    "    df_dividendos = spark.createDataFrame(dividendos, schema=schema_dividendos)\n",
    "    df_valuation = spark.createDataFrame(valuation, schema=schema_valuation)\n",
    "\n",
    "    # Converter Unix timestamp para data legível\n",
    "    df_dividendos = df_dividendos.withColumn('data_exdividendo', from_unixtime(col('data_exdividendo').cast('bigint')))\n",
    "    \n",
    "    # Adicionar colunas de timestamp\n",
    "    df_geral = df_geral.withColumn('dt_ptcao', date_format(current_timestamp(), 'yyyy-MM-dd'))\n",
    "    df_geral = df_geral.withColumn('dthr_igtao', current_timestamp())\n",
    "\n",
    "    df_financeira = df_financeira.withColumn('dt_ptcao', date_format(current_timestamp(), 'yyyy-MM-dd'))\n",
    "    df_financeira = df_financeira.withColumn('dthr_igtao', current_timestamp())\n",
    "\n",
    "    df_mercado = df_mercado.withColumn('dt_ptcao', date_format(current_timestamp(), 'yyyy-MM-dd'))\n",
    "    df_mercado = df_mercado.withColumn('dthr_igtao', current_timestamp())\n",
    "\n",
    "    df_dividendos = df_dividendos.withColumn('dt_ptcao', date_format(current_timestamp(), 'yyyy-MM-dd'))\n",
    "    df_dividendos = df_dividendos.withColumn('dthr_igtao', current_timestamp())\n",
    "\n",
    "    df_valuation = df_valuation.withColumn('dt_ptcao', date_format(current_timestamp(), 'yyyy-MM-dd'))\n",
    "    df_valuation = df_valuation.withColumn('dthr_igtao', current_timestamp())\n",
    "    \n",
    "    return df_geral, df_financeira, df_mercado, df_dividendos, df_valuation\n"
   ]
  },
  {
   "cell_type": "code",
   "execution_count": 13,
   "id": "af3da0ab",
   "metadata": {
    "execution": {
     "iopub.execute_input": "2024-08-27T03:21:30.309890Z",
     "iopub.status.busy": "2024-08-27T03:21:30.309388Z",
     "iopub.status.idle": "2024-08-27T03:22:43.271886Z",
     "shell.execute_reply": "2024-08-27T03:22:43.271346Z"
    },
    "jupyter": {
     "source_hidden": true
    },
    "papermill": {
     "duration": 72.971483,
     "end_time": "2024-08-27T03:22:43.273891",
     "exception": false,
     "start_time": "2024-08-27T03:21:30.302408",
     "status": "completed"
    },
    "tags": []
   },
   "outputs": [
    {
     "name": "stdout",
     "output_type": "stream",
     "text": [
      "+------+--------------------+--------------------+------------+-------------+------+-------------+--------------------+--------------------+--------+----------+--------------------+\n",
      "|ticker|               setor|           industria|funcionarios|       cidade|estado|         pais|             website|     resumo_negocios|exchange|  dt_ptcao|          dthr_igtao|\n",
      "+------+--------------------+--------------------+------------+-------------+------+-------------+--------------------+--------------------+--------+----------+--------------------+\n",
      "|  AAPL|          Technology|Consumer Electronics|      161000|    Cupertino|    CA|United States|https://www.apple...|Apple Inc. design...|     NMS|2024-08-27|2024-08-27 00:22:...|\n",
      "|  NVDA|          Technology|      Semiconductors|       29600|  Santa Clara|    CA|United States|https://www.nvidi...|NVIDIA Corporatio...|     NMS|2024-08-27|2024-08-27 00:22:...|\n",
      "|  MSFT|          Technology|Software - Infras...|      228000|      Redmond|    WA|United States|https://www.micro...|Microsoft Corpora...|     NMS|2024-08-27|2024-08-27 00:22:...|\n",
      "| GOOGL|Communication Ser...|Internet Content ...|      179582|Mountain View|    CA|United States|     https://abc.xyz|Alphabet Inc. off...|     NMS|2024-08-27|2024-08-27 00:22:...|\n",
      "|  GOOG|Communication Ser...|Internet Content ...|      179582|Mountain View|    CA|United States|     https://abc.xyz|Alphabet Inc. off...|     NMS|2024-08-27|2024-08-27 00:22:...|\n",
      "|  AMZN|   Consumer Cyclical|     Internet Retail|     1525000|      Seattle|    WA|United States|https://www.about...|Amazon.com, Inc. ...|     NMS|2024-08-27|2024-08-27 00:22:...|\n",
      "|  META|Communication Ser...|Internet Content ...|       70799|   Menlo Park|    CA|United States|https://investor....|Meta Platforms, I...|     NMS|2024-08-27|2024-08-27 00:22:...|\n",
      "|   TSM|          Technology|      Semiconductors|        NULL| Hsinchu City|  NULL|       Taiwan|https://www.tsmc.com|Taiwan Semiconduc...|     NYQ|2024-08-27|2024-08-27 00:22:...|\n",
      "|  AVGO|          Technology|      Semiconductors|       20000|    Palo Alto|    CA|United States|https://www.broad...|Broadcom Inc. des...|     NMS|2024-08-27|2024-08-27 00:22:...|\n",
      "|  TSLA|   Consumer Cyclical|  Auto Manufacturers|      140473|       Austin|    TX|United States|https://www.tesla...|Tesla, Inc. desig...|     NMS|2024-08-27|2024-08-27 00:22:...|\n",
      "|   WMT|  Consumer Defensive|     Discount Stores|     2100000|  Bentonville|    AR|United States|https://corporate...|Walmart Inc. enga...|     NYQ|2024-08-27|2024-08-27 00:22:...|\n",
      "|   XOM|              Energy|Oil & Gas Integrated|       62000|       Spring|    TX|United States|https://corporate...|Exxon Mobil Corpo...|     NYQ|2024-08-27|2024-08-27 00:22:...|\n",
      "|   BAC|  Financial Services| Banks - Diversified|      212000|    Charlotte|    NC|United States|https://www.banko...|Bank of America C...|     NYQ|2024-08-27|2024-08-27 00:22:...|\n",
      "|    KO|  Consumer Defensive|Beverages - Non-A...|       79100|      Atlanta|    GA|United States|https://www.coca-...|The Coca-Cola Com...|     NYQ|2024-08-27|2024-08-27 00:22:...|\n",
      "|   CVX|              Energy|Oil & Gas Integrated|       45600|    San Ramon|    CA|United States|https://www.chevr...|Chevron Corporati...|     NYQ|2024-08-27|2024-08-27 00:22:...|\n",
      "|   AMD|          Technology|      Semiconductors|       26000|  Santa Clara|    CA|United States| https://www.amd.com|Advanced Micro De...|     NMS|2024-08-27|2024-08-27 00:22:...|\n",
      "|  CSCO|          Technology|Communication Equ...|        NULL|     San Jose|    CA|United States|https://www.cisco...|Cisco Systems, In...|     NMS|2024-08-27|2024-08-27 00:22:...|\n",
      "|  BABA|   Consumer Cyclical|     Internet Retail|      198162|     Hangzhou|  NULL|        China|https://www.aliba...|Alibaba Group Hol...|     NYQ|2024-08-27|2024-08-27 00:22:...|\n",
      "|   PDD|   Consumer Cyclical|     Internet Retail|       17403|       Dublin|  NULL|      Ireland|https://www.pddho...|PDD Holdings Inc....|     NMS|2024-08-27|2024-08-27 00:22:...|\n",
      "|  QCOM|          Technology|      Semiconductors|       50000|    San Diego|    CA|United States|https://www.qualc...|QUALCOMM Incorpor...|     NMS|2024-08-27|2024-08-27 00:22:...|\n",
      "+------+--------------------+--------------------+------------+-------------+------+-------------+--------------------+--------------------+--------+----------+--------------------+\n",
      "only showing top 20 rows\n",
      "\n",
      "+------+---------------------+-------------+-------+-------------+-------------+-------------+-------------+-------------+--------------+----------+--------------------+\n",
      "|ticker|capitalizacao_mercado|valor_empresa|receita|lucros_brutos|lucro_liquido|       ebitda| divida_total|  caixa_total|dividend_yield|  dt_ptcao|          dthr_igtao|\n",
      "+------+---------------------+-------------+-------+-------------+-------------+-------------+-------------+-------------+--------------+----------+--------------------+\n",
      "|  AAPL|        3454067277824|3493578932224|   NULL|         NULL|         NULL| 131781001216| 101304000512|  61801000960|        0.0044|2024-08-27|2024-08-27 00:22:...|\n",
      "|  NVDA|        3182542979072|3090714984448|   NULL|         NULL|         NULL|  49274998784|  11237000192|  31438000128|  2.9999999E-4|2024-08-27|2024-08-27 00:22:...|\n",
      "|  MSFT|        3097118638080|3095807918080|   NULL|         NULL|         NULL| 129433001984|  97851998208|  75531001856|        0.0073|2024-08-27|2024-08-27 00:22:...|\n",
      "| GOOGL|        2048885784576|1973423570944|   NULL|         NULL|         NULL| 115478003712|  28718999552| 100724998144|  0.0047999998|2024-08-27|2024-08-27 00:22:...|\n",
      "|  GOOG|        2048158203904|1995212324864|   NULL|         NULL|         NULL| 115478003712|  28718999552| 100724998144|  0.0047999998|2024-08-27|2024-08-27 00:22:...|\n",
      "|  AMZN|        1858141421568|1910722002944|   NULL|         NULL|         NULL| 104049000448| 157841997824|  89091997696|          NULL|2024-08-27|2024-08-27 00:22:...|\n",
      "|  META|        1335640981504|1298249154560|   NULL|         NULL|         NULL|  74774003712|  37990998016|  58080002048|        0.0038|2024-08-27|2024-08-27 00:22:...|\n",
      "|   TSM|         876810534912|3392186351616|   NULL|         NULL|         NULL|1638037716992|1028265410560|2048635568128|        0.0146|2024-08-27|2024-08-27 00:22:...|\n",
      "|  AVGO|         773901582336|  94982823936|   NULL|         NULL|         NULL|  21290999808|  40456998912|  11105000448|        0.0126|2024-08-27|2024-08-27 00:22:...|\n",
      "|  TSLA|         703842484224| 663799136256|   NULL|         NULL|         NULL|  12177999872|  12515000320|  30720000000|          NULL|2024-08-27|2024-08-27 00:22:...|\n",
      "|   WMT|         611550363648| 670428299264|   NULL|         NULL|         NULL|  40933998592|  61304999936|   8810999808|        0.0109|2024-08-27|2024-08-27 00:22:...|\n",
      "|   XOM|         527852601344| 552439250944|   NULL|         NULL|         NULL|  70902996992|  43185999872|  26460000256|         0.032|2024-08-27|2024-08-27 00:22:...|\n",
      "|   BAC|         309762424832| 247072325632|   NULL|         NULL|         NULL|         NULL| 761600016384| 850838028288|   0.026099999|2024-08-27|2024-08-27 00:22:...|\n",
      "|    KO|         305311186944| 332932055040|   NULL|         NULL|         NULL|  14906999808|  45063000064|  19000000512|        0.0274|2024-08-27|2024-08-27 00:22:...|\n",
      "|   CVX|         269490372608| 291800186880|   NULL|         NULL|         NULL|  41003999232|  23183998976|   4008000000|   0.043899998|2024-08-27|2024-08-27 00:22:...|\n",
      "|   AMD|         250816299008| 239661088768|   NULL|         NULL|         NULL|   4046000128|   2244999936|   5340000256|          NULL|2024-08-27|2024-08-27 00:22:...|\n",
      "|  CSCO|         204623265792| 217182224384|   NULL|         NULL|         NULL|  15511000064|  30961999872|  17853999104|        0.0315|2024-08-27|2024-08-27 00:22:...|\n",
      "|  BABA|         198685802496|1461935276032|   NULL|         NULL|         NULL| 176592994304| 240122003456| 448923992064|   0.024500001|2024-08-27|2024-08-27 00:22:...|\n",
      "|   PDD|         194247000064| 537987284992|   NULL|         NULL|         NULL|  78170144768|   9479670784| 242131615744|          NULL|2024-08-27|2024-08-27 00:22:...|\n",
      "|  QCOM|         193279606784| 190333861888|   NULL|         NULL|         NULL|  11564999680|  14554000384|  13031999488|        0.0201|2024-08-27|2024-08-27 00:22:...|\n",
      "+------+---------------------+-------------+-------+-------------+-------------+-------------+-------------+-------------+--------------+----------+--------------------+\n",
      "only showing top 20 rows\n",
      "\n"
     ]
    },
    {
     "name": "stdout",
     "output_type": "stream",
     "text": [
      "+------+-----------+-------------------+--------+----------+----------+-----------------+-----------------+---------+------------+-----+----------+--------------------+\n",
      "|ticker|preco_atual|fechamento_anterior|abertura|minimo_dia|maximo_dia|minimo_52_semanas|maximo_52_semanas|   volume|volume_medio| beta|  dt_ptcao|          dthr_igtao|\n",
      "+------+-----------+-------------------+--------+----------+----------+-----------------+-----------------+---------+------------+-----+----------+--------------------+\n",
      "|  AAPL|     227.18|             226.84|  227.21|  223.8905|    227.28|           164.08|           237.23| 29834257|    64305695|1.244|2024-08-27|2024-08-27 00:22:...|\n",
      "|  NVDA|     126.46|             129.37|   129.6|    124.37|    131.26|            39.23|           140.76|327535169|   360717912| 1.68|2024-08-27|2024-08-27 00:22:...|\n",
      "|  MSFT|     413.49|             416.79|  416.75|    411.34|  417.2799|           309.45|           468.35| 13122851|    20200739|0.894|2024-08-27|2024-08-27 00:22:...|\n",
      "| GOOGL|     166.16|             165.62|  166.73|   164.455|    167.55|           120.21|           191.75| 14151327|    24959522|1.046|2024-08-27|2024-08-27 00:22:...|\n",
      "|  GOOG|     167.93|             167.43|  168.32|    166.44|    169.38|           121.46|           193.31| 11634952|    17597174|1.046|2024-08-27|2024-08-27 00:22:...|\n",
      "|  AMZN|      175.5|             177.04| 176.755|     174.3|  177.4682|           118.35|            201.2| 21904019|    42439109|1.155|2024-08-27|2024-08-27 00:22:...|\n",
      "|  META|     521.12|              528.0|  527.68|    514.95|    527.75|            279.4|           544.23|  9547234|    14103466|1.212|2024-08-27|2024-08-27 00:22:...|\n",
      "|   TSM|     169.07|             171.28|  170.38|    167.82|    171.05|            84.02|           193.47|  9566454|    17646490|1.289|2024-08-27|2024-08-27 00:22:...|\n",
      "|  AVGO|     159.62|             166.36|  164.96|    158.69|     165.7|           79.509|          185.162| 18464648|    37237376|1.188|2024-08-27|2024-08-27 00:22:...|\n",
      "|  TSLA|     213.21|             220.32|  218.68|    211.01|    219.09|            138.8|           278.98| 58984295|    94895804|2.313|2024-08-27|2024-08-27 00:22:...|\n",
      "|   WMT|      76.03|               75.7|    75.9|     75.57|    76.205|         49.84667|            76.22|  7828507|    15571649|0.501|2024-08-27|2024-08-27 00:22:...|\n",
      "|   XOM|     118.81|             116.32|  117.76|    116.92|    118.94|            95.77|           123.75| 13661876|    14873974|0.893|2024-08-27|2024-08-27 00:22:...|\n",
      "|   BAC|      39.92|              39.77|    40.0|     39.66|      40.2|            24.96|            44.44| 38807530|    39197449|1.356|2024-08-27|2024-08-27 00:22:...|\n",
      "|    KO|      70.84|              69.79|   69.83|     69.73|     70.92|            51.55|            70.92| 12907485|    12358203|0.592|2024-08-27|2024-08-27 00:22:...|\n",
      "|   CVX|      148.5|             147.62|  148.97|    147.55|    150.09|           139.62|            171.7|  5090354|     7257790| 1.09|2024-08-27|2024-08-27 00:22:...|\n",
      "|   AMD|     149.99|             154.98|   154.7|  148.9101|    158.28|            93.12|            227.3| 49766371|    54078498|1.681|2024-08-27|2024-08-27 00:22:...|\n",
      "|  CSCO|      50.79|              50.74|   50.75|   50.7242|    51.015|             44.5|            58.19| 11970585|    20611171|0.844|2024-08-27|2024-08-27 00:22:...|\n",
      "|  BABA|      81.76|              85.41|   81.89|   80.3703|    82.305|            66.63|            96.68| 28476630|    13351417|0.318|2024-08-27|2024-08-27 00:22:...|\n",
      "|   PDD|      100.0|             139.87| 110.135|     95.86|    111.67|             89.5|           164.69|102367839|     8770392|0.615|2024-08-27|2024-08-27 00:22:...|\n",
      "|  QCOM|     169.49|              173.5|  172.01|    168.53|    172.38|           104.33|           230.63|  7211342|    10175176|1.272|2024-08-27|2024-08-27 00:22:...|\n",
      "+------+-----------+-------------------+--------+----------+----------+-----------------+-----------------+---------+------------+-----+----------+--------------------+\n",
      "only showing top 20 rows\n",
      "\n",
      "+------+--------------+-------------------+-------------------+----------+--------------------+\n",
      "|ticker|taxa_dividendo|   data_exdividendo|indice_distribuicao|  dt_ptcao|          dthr_igtao|\n",
      "+------+--------------+-------------------+-------------------+----------+--------------------+\n",
      "|  AAPL|           1.0|2024-08-11 21:00:00|             0.1476|2024-08-27|2024-08-27 00:22:...|\n",
      "|  NVDA|          0.04|2024-06-10 21:00:00|             0.0094|2024-08-27|2024-08-27 00:22:...|\n",
      "|  MSFT|           3.0|2024-08-14 21:00:00|             0.2483|2024-08-27|2024-08-27 00:22:...|\n",
      "| GOOGL|           0.8|2024-09-08 21:00:00|             0.0287|2024-08-27|2024-08-27 00:22:...|\n",
      "|  GOOG|           0.8|2024-09-08 21:00:00|             0.0287|2024-08-27|2024-08-27 00:22:...|\n",
      "|  AMZN|          NULL|               NULL|               NULL|2024-08-27|2024-08-27 00:22:...|\n",
      "|  META|           2.0|2024-06-13 21:00:00|             0.0512|2024-08-27|2024-08-27 00:22:...|\n",
      "|   TSM|          2.47|2024-09-11 21:00:00|         0.35900003|2024-08-27|2024-08-27 00:22:...|\n",
      "|  AVGO|           2.1|2024-06-23 21:00:00|         0.84879994|2024-08-27|2024-08-27 00:22:...|\n",
      "|  TSLA|          NULL|               NULL|               NULL|2024-08-27|2024-08-27 00:22:...|\n",
      "|   WMT|          0.83|2024-12-11 21:00:00|             0.4141|2024-08-27|2024-08-27 00:22:...|\n",
      "|   XOM|           3.8|2024-08-14 21:00:00|         0.44979998|2024-08-27|2024-08-27 00:22:...|\n",
      "|   BAC|          1.04|2024-09-05 21:00:00|             0.3368|2024-08-27|2024-08-27 00:22:...|\n",
      "|    KO|          1.94|2024-09-12 21:00:00|             0.7683|2024-08-27|2024-08-27 00:22:...|\n",
      "|   CVX|          6.52|2024-08-18 21:00:00|             0.6218|2024-08-27|2024-08-27 00:22:...|\n",
      "|   AMD|          NULL|1995-04-26 21:00:00|               NULL|2024-08-27|2024-08-27 00:22:...|\n",
      "|  CSCO|           1.6|2024-10-01 21:00:00|              0.622|2024-08-27|2024-08-27 00:22:...|\n",
      "|  BABA|           2.0|2024-06-12 21:00:00|             0.5142|2024-08-27|2024-08-27 00:22:...|\n",
      "|   PDD|          NULL|               NULL|               NULL|2024-08-27|2024-08-27 00:22:...|\n",
      "|  QCOM|           3.4|2024-09-04 21:00:00|             0.4156|2024-08-27|2024-08-27 00:22:...|\n",
      "+------+--------------+-------------------+-------------------+----------+--------------------+\n",
      "only showing top 20 rows\n",
      "\n"
     ]
    },
    {
     "name": "stdout",
     "output_type": "stream",
     "text": [
      "+------+----------+-----------+-------------+---------+----------+--------------------+\n",
      "|ticker|pe_forward|pe_trailing|booking_price|peg_ratio|  dt_ptcao|          dthr_igtao|\n",
      "+------+----------+-----------+-------------+---------+----------+--------------------+\n",
      "|  AAPL| 30.371656|  34.578384|    51.843906|     3.05|2024-08-27|2024-08-27 00:22:...|\n",
      "|  NVDA|   33.1916|   73.95322|    63.293293|     1.02|2024-08-27|2024-08-27 00:22:...|\n",
      "|  MSFT| 27.149704|  35.071247|    11.449259|     2.18|2024-08-27|2024-08-27 00:22:...|\n",
      "| GOOGL| 19.076923|  23.873564|     6.807604|     1.04|2024-08-27|2024-08-27 00:22:...|\n",
      "|  GOOG| 19.280136|  24.093256|    6.8801208|     1.05|2024-08-27|2024-08-27 00:22:...|\n",
      "|  AMZN| 30.206541|   41.88544|    7.7861576|     1.23|2024-08-27|2024-08-27 00:22:...|\n",
      "|  META| 21.623236|  26.669395|     8.420372|     1.83|2024-08-27|2024-08-27 00:22:...|\n",
      "|   TSM| 20.443773|  30.030195|    1.1562476|     1.18|2024-08-27|2024-08-27 00:22:...|\n",
      "|  AVGO| 26.383469|   71.25893|    2.6953275|     1.91|2024-08-27|2024-08-27 00:22:...|\n",
      "|  TSLA| 67.685715|  59.890453|    10.245556|    31.66|2024-08-27|2024-08-27 00:22:...|\n",
      "|   WMT| 27.952206|  39.598957|     7.244402|     3.04|2024-08-27|2024-08-27 00:22:...|\n",
      "|   XOM|  12.91413|  14.211722|    1.9666297|     2.62|2024-08-27|2024-08-27 00:22:...|\n",
      "|   BAC| 10.877383|  14.007017|    1.1609374|     1.25|2024-08-27|2024-08-27 00:22:...|\n",
      "|    KO| 23.379538|  28.796745|    11.806666|     4.03|2024-08-27|2024-08-27 00:22:...|\n",
      "|   CVX|  11.23298|   14.70297|    1.7056417|     3.58|2024-08-27|2024-08-27 00:22:...|\n",
      "|   AMD| 27.622469|  178.55954|     4.292419|     1.39|2024-08-27|2024-08-27 00:22:...|\n",
      "|  CSCO| 13.090206|  19.996063|    4.4895253|     3.52|2024-08-27|2024-08-27 00:22:...|\n",
      "|  BABA|  8.300508|  20.857143|   0.20727071|    55.32|2024-08-27|2024-08-27 00:22:...|\n",
      "|   PDD|  6.361323|  13.054831|    0.7348132|    13.25|2024-08-27|2024-08-27 00:22:...|\n",
      "|  QCOM| 15.241907|  21.701666|     7.667149|     1.57|2024-08-27|2024-08-27 00:22:...|\n",
      "+------+----------+-----------+-------------+---------+----------+--------------------+\n",
      "only showing top 20 rows\n",
      "\n"
     ]
    }
   ],
   "source": [
    "df_geral, df_financeira, df_mercado, df_dividendos, df_valuation = criar_tabelas_spark(df_tickers)\n",
    "# Exibir os DataFrames\n",
    "df_geral.show()\n",
    "df_financeira.show()\n",
    "df_mercado.show()\n",
    "df_dividendos.show()\n",
    "df_valuation.show()"
   ]
  },
  {
   "cell_type": "markdown",
   "id": "a4c26724",
   "metadata": {
    "papermill": {
     "duration": 0.008492,
     "end_time": "2024-08-27T03:22:43.289768",
     "exception": false,
     "start_time": "2024-08-27T03:22:43.281276",
     "status": "completed"
    },
    "tags": []
   },
   "source": [
    "# --------- dev test"
   ]
  },
  {
   "cell_type": "code",
   "execution_count": 14,
   "id": "037bd148",
   "metadata": {
    "execution": {
     "iopub.execute_input": "2024-08-27T03:22:43.305180Z",
     "iopub.status.busy": "2024-08-27T03:22:43.304930Z",
     "iopub.status.idle": "2024-08-27T03:22:43.309771Z",
     "shell.execute_reply": "2024-08-27T03:22:43.309272Z"
    },
    "jupyter": {
     "source_hidden": true
    },
    "papermill": {
     "duration": 0.013495,
     "end_time": "2024-08-27T03:22:43.310597",
     "exception": false,
     "start_time": "2024-08-27T03:22:43.297102",
     "status": "completed"
    },
    "tags": []
   },
   "outputs": [
    {
     "name": "stdout",
     "output_type": "stream",
     "text": [
      "root\n",
      " |-- ticker: string (nullable = true)\n",
      " |-- data: timestamp (nullable = true)\n",
      " |-- abertura: double (nullable = true)\n",
      " |-- alta: double (nullable = true)\n",
      " |-- baixa: double (nullable = true)\n",
      " |-- fechamento: double (nullable = true)\n",
      " |-- volume: long (nullable = true)\n",
      " |-- dividendos: double (nullable = true)\n",
      " |-- desdobramentos: double (nullable = true)\n",
      " |-- fechamento_mes_anterior: double (nullable = true)\n",
      " |-- valor_retorno: double (nullable = true)\n",
      " |-- porcentagem_retorno: double (nullable = true)\n",
      " |-- dt_ptcao: string (nullable = false)\n",
      " |-- dthr_igtao: timestamp (nullable = false)\n",
      "\n",
      "root\n",
      " |-- ticker: string (nullable = true)\n",
      " |-- nome_curto: string (nullable = true)\n",
      " |-- nome_exibicao: string (nullable = true)\n",
      " |-- preco_mercado_regular: double (nullable = true)\n",
      " |-- mudanca_mercado_regular: double (nullable = true)\n",
      " |-- mudanca_percentual_mercado_regular: double (nullable = true)\n",
      " |-- volume_mercado_regular: long (nullable = true)\n",
      " |-- capitalizacao_mercado: long (nullable = true)\n",
      " |-- nome_exchange_completa: string (nullable = true)\n",
      " |-- nome_fonte_cotacao: string (nullable = true)\n",
      " |-- dt_ptcao: string (nullable = false)\n",
      " |-- dthr_igtao: timestamp (nullable = false)\n",
      "\n",
      "root\n",
      " |-- ticker: string (nullable = false)\n",
      " |-- setor: string (nullable = true)\n",
      " |-- industria: string (nullable = true)\n",
      " |-- funcionarios: integer (nullable = true)\n",
      " |-- cidade: string (nullable = true)\n",
      " |-- estado: string (nullable = true)\n",
      " |-- pais: string (nullable = true)\n",
      " |-- website: string (nullable = true)\n",
      " |-- resumo_negocios: string (nullable = true)\n",
      " |-- exchange: string (nullable = true)\n",
      " |-- dt_ptcao: string (nullable = false)\n",
      " |-- dthr_igtao: timestamp (nullable = false)\n",
      "\n",
      "root\n",
      " |-- ticker: string (nullable = false)\n",
      " |-- capitalizacao_mercado: long (nullable = true)\n",
      " |-- valor_empresa: long (nullable = true)\n",
      " |-- receita: long (nullable = true)\n",
      " |-- lucros_brutos: long (nullable = true)\n",
      " |-- lucro_liquido: long (nullable = true)\n",
      " |-- ebitda: long (nullable = true)\n",
      " |-- divida_total: long (nullable = true)\n",
      " |-- caixa_total: long (nullable = true)\n",
      " |-- dividend_yield: double (nullable = true)\n",
      " |-- dt_ptcao: string (nullable = false)\n",
      " |-- dthr_igtao: timestamp (nullable = false)\n",
      "\n",
      "root\n",
      " |-- ticker: string (nullable = false)\n",
      " |-- preco_atual: double (nullable = true)\n",
      " |-- fechamento_anterior: double (nullable = true)\n",
      " |-- abertura: double (nullable = true)\n",
      " |-- minimo_dia: double (nullable = true)\n",
      " |-- maximo_dia: double (nullable = true)\n",
      " |-- minimo_52_semanas: double (nullable = true)\n",
      " |-- maximo_52_semanas: double (nullable = true)\n",
      " |-- volume: long (nullable = true)\n",
      " |-- volume_medio: long (nullable = true)\n",
      " |-- beta: double (nullable = true)\n",
      " |-- dt_ptcao: string (nullable = false)\n",
      " |-- dthr_igtao: timestamp (nullable = false)\n",
      "\n",
      "root\n",
      " |-- ticker: string (nullable = false)\n",
      " |-- taxa_dividendo: double (nullable = true)\n",
      " |-- data_exdividendo: string (nullable = true)\n",
      " |-- indice_distribuicao: double (nullable = true)\n",
      " |-- dt_ptcao: string (nullable = false)\n",
      " |-- dthr_igtao: timestamp (nullable = false)\n",
      "\n",
      "root\n",
      " |-- ticker: string (nullable = false)\n",
      " |-- pe_forward: double (nullable = true)\n",
      " |-- pe_trailing: double (nullable = true)\n",
      " |-- booking_price: double (nullable = true)\n",
      " |-- peg_ratio: double (nullable = true)\n",
      " |-- dt_ptcao: string (nullable = false)\n",
      " |-- dthr_igtao: timestamp (nullable = false)\n",
      "\n"
     ]
    }
   ],
   "source": [
    "df_retorno_mensal.printSchema()\n",
    "df_ativas.printSchema()\n",
    "df_geral.printSchema()\n",
    "df_financeira.printSchema()\n",
    "df_mercado.printSchema()\n",
    "df_dividendos.printSchema()\n",
    "df_valuation.printSchema()\n"
   ]
  },
  {
   "cell_type": "markdown",
   "id": "c3b17fa5",
   "metadata": {
    "papermill": {
     "duration": 0.006562,
     "end_time": "2024-08-27T03:22:43.323762",
     "exception": false,
     "start_time": "2024-08-27T03:22:43.317200",
     "status": "completed"
    },
    "tags": []
   },
   "source": [
    "## postgree upsert"
   ]
  },
  {
   "cell_type": "code",
   "execution_count": 15,
   "id": "d885285f",
   "metadata": {
    "execution": {
     "iopub.execute_input": "2024-08-27T03:22:43.338408Z",
     "iopub.status.busy": "2024-08-27T03:22:43.337827Z",
     "iopub.status.idle": "2024-08-27T03:22:43.341022Z",
     "shell.execute_reply": "2024-08-27T03:22:43.340500Z"
    },
    "jupyter": {
     "source_hidden": true
    },
    "papermill": {
     "duration": 0.011828,
     "end_time": "2024-08-27T03:22:43.342049",
     "exception": false,
     "start_time": "2024-08-27T03:22:43.330221",
     "status": "completed"
    },
    "tags": []
   },
   "outputs": [],
   "source": [
    "SRVNAME = \"postgres\"\n",
    "USER = \"airflow\"\n",
    "PASSWORD = \"airflow\"\n",
    "HOST = \"postgres\"\n",
    "PORT = \"5432\"\n",
    "DBNAME = \"paxpedb\"\n",
    "\n",
    "# Parâmetros de conexão usando as variáveis\n",
    "conn_params = {\n",
    "    'dbname': DBNAME,\n",
    "    'user': USER,\n",
    "    'password': PASSWORD,\n",
    "    'host': HOST,\n",
    "    'port': PORT\n",
    "}"
   ]
  },
  {
   "cell_type": "code",
   "execution_count": 16,
   "id": "02145003",
   "metadata": {
    "execution": {
     "iopub.execute_input": "2024-08-27T03:22:43.356398Z",
     "iopub.status.busy": "2024-08-27T03:22:43.356087Z",
     "iopub.status.idle": "2024-08-27T03:22:43.361555Z",
     "shell.execute_reply": "2024-08-27T03:22:43.361059Z"
    },
    "jupyter": {
     "source_hidden": true
    },
    "papermill": {
     "duration": 0.013693,
     "end_time": "2024-08-27T03:22:43.362458",
     "exception": false,
     "start_time": "2024-08-27T03:22:43.348765",
     "status": "completed"
    },
    "tags": []
   },
   "outputs": [
    {
     "name": "stdout",
     "output_type": "stream",
     "text": [
      "Conexão com postgres sucedida\n"
     ]
    }
   ],
   "source": [
    "def test_connection():\n",
    "    try:\n",
    "        # Connect to the PostgreSQL server using variables\n",
    "        connection = psycopg2.connect(\n",
    "            dbname=SRVNAME,\n",
    "            user=USER,\n",
    "            password=PASSWORD,\n",
    "            host=HOST,\n",
    "            port=PORT\n",
    "        )\n",
    "        print(\"Conexão com postgres sucedida\")\n",
    "        return True\n",
    "    except OperationalError as e:\n",
    "        print(f\"Error: {e}\")\n",
    "        return False\n",
    "    finally:\n",
    "        if connection:\n",
    "            connection.close()\n",
    "if not test_connection():\n",
    "    sys.exit(1)"
   ]
  },
  {
   "cell_type": "markdown",
   "id": "7de24f9b",
   "metadata": {
    "papermill": {
     "duration": 0.006554,
     "end_time": "2024-08-27T03:22:43.376108",
     "exception": false,
     "start_time": "2024-08-27T03:22:43.369554",
     "status": "completed"
    },
    "tags": []
   },
   "source": [
    "### para inserir no postgres é necessário\n",
    "> 1. alimentar as tabelas em stage --- temp_nometabela\n",
    "> 2. realizar o upsert comparando as tabelas"
   ]
  },
  {
   "cell_type": "code",
   "execution_count": 17,
   "id": "546aaaed",
   "metadata": {
    "execution": {
     "iopub.execute_input": "2024-08-27T03:22:43.391072Z",
     "iopub.status.busy": "2024-08-27T03:22:43.390524Z",
     "iopub.status.idle": "2024-08-27T03:22:43.394073Z",
     "shell.execute_reply": "2024-08-27T03:22:43.393544Z"
    },
    "jupyter": {
     "source_hidden": true
    },
    "papermill": {
     "duration": 0.012183,
     "end_time": "2024-08-27T03:22:43.394955",
     "exception": false,
     "start_time": "2024-08-27T03:22:43.382772",
     "status": "completed"
    },
    "tags": []
   },
   "outputs": [],
   "source": [
    "def write_to_postgres(df, table_name, schema_name=\"paxpestg\"):\n",
    "    df.write \\\n",
    "        .format(\"jdbc\") \\\n",
    "        .option(\"url\", f\"jdbc:postgresql://{HOST}:{PORT}/{DBNAME}\") \\\n",
    "        .option(\"dbtable\", f\"{schema_name}.{table_name}\") \\\n",
    "        .option(\"user\", USER) \\\n",
    "        .option(\"password\", PASSWORD) \\\n",
    "        .option(\"driver\", \"org.postgresql.Driver\") \\\n",
    "        .mode(\"overwrite\") \\\n",
    "        .save()"
   ]
  },
  {
   "cell_type": "code",
   "execution_count": 18,
   "id": "380dd959",
   "metadata": {
    "execution": {
     "iopub.execute_input": "2024-08-27T03:22:43.410123Z",
     "iopub.status.busy": "2024-08-27T03:22:43.409809Z",
     "iopub.status.idle": "2024-08-27T03:22:54.693592Z",
     "shell.execute_reply": "2024-08-27T03:22:54.692917Z"
    },
    "jupyter": {
     "source_hidden": true
    },
    "papermill": {
     "duration": 11.292862,
     "end_time": "2024-08-27T03:22:54.694812",
     "exception": false,
     "start_time": "2024-08-27T03:22:43.401950",
     "status": "completed"
    },
    "tags": []
   },
   "outputs": [
    {
     "name": "stderr",
     "output_type": "stream",
     "text": [
      "\r",
      "[Stage 352:>(20 + 4) / 24][Stage 353:>(0 + 24) / 24][Stage 354:> (0 + 4) / 24]\r",
      "\r",
      "[Stage 357:(14 + 10) / 24][Stage 358:>(0 + 22) / 24][Stage 359:> (0 + 0) / 24]\r"
     ]
    },
    {
     "name": "stderr",
     "output_type": "stream",
     "text": [
      "\r",
      "[Stage 362:(11 + 13) / 24][Stage 363:>(0 + 22) / 24][Stage 364:> (0 + 0) / 24]\r",
      "\r",
      "[Stage 366:>(22 + 2) / 24][Stage 367:>(0 + 24) / 24][Stage 368:> (0 + 6) / 24]\r"
     ]
    },
    {
     "name": "stderr",
     "output_type": "stream",
     "text": [
      "\r",
      "[Stage 370:>(23 + 1) / 24][Stage 371:>(0 + 24) / 24][Stage 372:> (0 + 7) / 24]\r",
      "\r",
      "[Stage 375:>(20 + 4) / 24][Stage 376:>(0 + 24) / 24][Stage 377:> (0 + 4) / 24]\r"
     ]
    },
    {
     "name": "stderr",
     "output_type": "stream",
     "text": [
      "\r",
      "[Stage 380:>(8 + 16) / 24][Stage 381:>(0 + 16) / 24][Stage 382:> (0 + 0) / 24]\r"
     ]
    },
    {
     "name": "stderr",
     "output_type": "stream",
     "text": [
      "\r",
      "[Stage 385:>(4 + 20) / 24][Stage 386:>(0 + 12) / 24][Stage 387:> (0 + 0) / 24]\r",
      "\r",
      "[Stage 389:>(20 + 4) / 24][Stage 390:>(0 + 24) / 24][Stage 391:> (0 + 4) / 24]\r"
     ]
    },
    {
     "name": "stderr",
     "output_type": "stream",
     "text": [
      "\r",
      "[Stage 394:>(18 + 6) / 24][Stage 395:>(0 + 24) / 24][Stage 396:> (0 + 2) / 24]\r",
      "\r",
      "[Stage 399:>(9 + 15) / 24][Stage 400:>(0 + 17) / 24][Stage 401:> (0 + 0) / 24]\r"
     ]
    },
    {
     "name": "stderr",
     "output_type": "stream",
     "text": [
      "\r",
      "[Stage 403:>(19 + 5) / 24][Stage 404:>(0 + 24) / 24][Stage 405:> (0 + 3) / 24]\r",
      "\r",
      "[Stage 408:(11 + 13) / 24][Stage 409:>(0 + 19) / 24][Stage 410:> (0 + 0) / 24]\r"
     ]
    },
    {
     "name": "stderr",
     "output_type": "stream",
     "text": [
      "\r",
      "[Stage 413:>(4 + 20) / 24][Stage 414:>(0 + 12) / 24][Stage 415:> (0 + 0) / 24]\r",
      "\r",
      "[Stage 417:>(19 + 5) / 24][Stage 418:>(4 + 20) / 24][Stage 419:>(0 + 12) / 24]\r"
     ]
    },
    {
     "name": "stderr",
     "output_type": "stream",
     "text": [
      "\r",
      "[Stage 422:>(20 + 4) / 24][Stage 423:>(0 + 24) / 24][Stage 424:> (0 + 4) / 24]\r",
      "\r",
      "[Stage 427:>(9 + 15) / 24][Stage 428:>(0 + 17) / 24][Stage 429:> (0 + 0) / 24]\r"
     ]
    },
    {
     "name": "stderr",
     "output_type": "stream",
     "text": [
      "\r",
      "[Stage 431:>(23 + 1) / 24][Stage 432:>(0 + 24) / 24][Stage 433:> (0 + 7) / 24]\r",
      "\r",
      "[Stage 436:>(21 + 3) / 24][Stage 437:>(0 + 24) / 24][Stage 438:> (0 + 5) / 24]\r"
     ]
    },
    {
     "name": "stderr",
     "output_type": "stream",
     "text": [
      "\r",
      "[Stage 441:(11 + 13) / 24][Stage 442:>(0 + 19) / 24][Stage 443:> (0 + 0) / 24]\r",
      "\r",
      "[Stage 446:>(5 + 19) / 24][Stage 447:>(0 + 13) / 24][Stage 448:> (0 + 0) / 24]\r"
     ]
    },
    {
     "name": "stderr",
     "output_type": "stream",
     "text": [
      "\r",
      "[Stage 450:=(24 + 0) / 24][Stage 451:>(3 + 21) / 24][Stage 452:>(0 + 11) / 24]\r",
      "\r",
      "[Stage 456:>(0 + 24) / 24][Stage 457:> (0 + 8) / 24][Stage 458:> (0 + 0) / 24]\r"
     ]
    },
    {
     "name": "stderr",
     "output_type": "stream",
     "text": [
      "\r",
      "[Stage 460:(10 + 14) / 24][Stage 461:>(0 + 18) / 24][Stage 462:> (0 + 0) / 24]\r",
      "\r",
      "[Stage 464:>(18 + 6) / 24][Stage 465:>(0 + 24) / 24][Stage 466:> (0 + 2) / 24]\r"
     ]
    },
    {
     "name": "stderr",
     "output_type": "stream",
     "text": [
      "\r",
      "[Stage 469:(12 + 12) / 24][Stage 470:>(0 + 22) / 24][Stage 471:> (0 + 0) / 24]\r",
      "\r",
      "[Stage 473:>(23 + 1) / 24][Stage 474:>(0 + 24) / 24][Stage 475:> (0 + 7) / 24]\r"
     ]
    },
    {
     "name": "stderr",
     "output_type": "stream",
     "text": [
      "\r",
      "[Stage 478:>(15 + 9) / 24][Stage 479:>(0 + 23) / 24][Stage 480:> (0 + 0) / 24]\r",
      "\r",
      "[Stage 483:>(7 + 17) / 24][Stage 484:>(0 + 15) / 24][Stage 485:> (0 + 0) / 24]\r"
     ]
    },
    {
     "name": "stderr",
     "output_type": "stream",
     "text": [
      "\r",
      "[Stage 487:>(22 + 2) / 24][Stage 488:>(2 + 22) / 24][Stage 489:> (0 + 8) / 24]\r",
      "\r",
      "[Stage 492:>(22 + 2) / 24][Stage 493:>(0 + 24) / 24][Stage 494:> (0 + 6) / 24]\r"
     ]
    },
    {
     "name": "stderr",
     "output_type": "stream",
     "text": [
      "\r",
      "[Stage 497:>(6 + 18) / 24][Stage 498:>(0 + 14) / 24][Stage 499:> (0 + 0) / 24]\r",
      "\r",
      "[Stage 501:====================================>                  (16 + 8) / 24]\r"
     ]
    },
    {
     "name": "stderr",
     "output_type": "stream",
     "text": [
      "24/08/27 03:22:52 WARN DAGScheduler: Broadcasting large task binary with size 3.1 MiB\n"
     ]
    },
    {
     "name": "stderr",
     "output_type": "stream",
     "text": [
      "\r",
      "[Stage 664:=============>                                       (40 + 32) / 162]\r"
     ]
    },
    {
     "name": "stderr",
     "output_type": "stream",
     "text": [
      "\r",
      "[Stage 664:========================>                            (75 + 32) / 162]\r",
      "\r",
      "[Stage 664:===================================>                (111 + 32) / 162]\r"
     ]
    },
    {
     "name": "stderr",
     "output_type": "stream",
     "text": [
      "\r",
      "                                                                                \r"
     ]
    }
   ],
   "source": [
    "# Write DataFrames to temporary tables\n",
    "write_to_postgres(df_retorno_mensal, \"temp_retorno_mensal\")\n",
    "write_to_postgres(df_ativas, \"temp_captacao_mercado\")\n",
    "write_to_postgres(df_geral, \"temp_cadastro\")\n",
    "write_to_postgres(df_financeira, \"temp_financas\")\n",
    "write_to_postgres(df_mercado, \"temp_mercado\")\n",
    "write_to_postgres(df_dividendos, \"temp_dividendos\")\n",
    "write_to_postgres(df_valuation, \"temp_valuation\")"
   ]
  },
  {
   "cell_type": "code",
   "execution_count": 19,
   "id": "00314abb",
   "metadata": {
    "execution": {
     "iopub.execute_input": "2024-08-27T03:22:54.712094Z",
     "iopub.status.busy": "2024-08-27T03:22:54.711534Z",
     "iopub.status.idle": "2024-08-27T03:22:54.716751Z",
     "shell.execute_reply": "2024-08-27T03:22:54.716202Z"
    },
    "jupyter": {
     "source_hidden": true
    },
    "papermill": {
     "duration": 0.015486,
     "end_time": "2024-08-27T03:22:54.717833",
     "exception": false,
     "start_time": "2024-08-27T03:22:54.702347",
     "status": "completed"
    },
    "tags": []
   },
   "outputs": [],
   "source": [
    "def upsert_data(table_name, temp_table_name, key_columns):\n",
    "    try:\n",
    "        # Conectar ao PostgreSQL\n",
    "        connection = psycopg2.connect(**conn_params)\n",
    "        cursor = connection.cursor()\n",
    "        \n",
    "        # Definir esquemas\n",
    "        schema_fact = \"paxpe\"\n",
    "        schema_stg = \"paxpestg\"\n",
    "        \n",
    "        # Obter todas as colunas da tabela\n",
    "        cursor.execute(f\"\"\"\n",
    "        SELECT column_name\n",
    "        FROM information_schema.columns\n",
    "        WHERE table_schema = '{schema_fact}' AND table_name = '{table_name}'\n",
    "        \"\"\")\n",
    "        #tupla com lista de colunas da base\n",
    "        all_columns = [row[0] for row in cursor.fetchall()]\n",
    "\n",
    "        # Identificar colunas não chave para remoção da analise upsert\n",
    "        non_key_columns = [col for col in all_columns if col not in key_columns]\n",
    "        \n",
    "        # Construir a declaração SQL de atualização col1,col2\n",
    "        key_columns_str = ', '.join(key_columns)\n",
    "        update_set = ', '.join([\n",
    "            f\"{col} = EXCLUDED.{col}\" \n",
    "            for col in non_key_columns\n",
    "        ])\n",
    "        \n",
    "        sql = f\"\"\"\n",
    "        INSERT INTO {schema_fact}.{table_name} \n",
    "        (SELECT * FROM {schema_stg}.{temp_table_name})\n",
    "        ON CONFLICT ({key_columns_str}) \n",
    "        DO UPDATE SET\n",
    "        {update_set}\n",
    "        WHERE (\n",
    "            SELECT EXISTS (\n",
    "                SELECT 1 \n",
    "                FROM {schema_fact}.{table_name} AS target\n",
    "                JOIN {schema_stg}.{temp_table_name} AS source\n",
    "                ON ({' AND '.join([f\"target.{key} = source.{key}\" for key in key_columns])})\n",
    "                WHERE \n",
    "                { ' OR '.join([f\"target.{col} IS DISTINCT FROM source.{col}\" for col in non_key_columns]) }\n",
    "            )\n",
    "        );\n",
    "        \"\"\"\n",
    "        \n",
    "        # Executar a declaração SQL de upsert\n",
    "        cursor.execute(sql)\n",
    "        connection.commit()\n",
    "        print(f\"Data from {schema_stg}.{temp_table_name} upserted into {schema_fact}.{table_name}.\")\n",
    "    \n",
    "    except Exception as e:\n",
    "        print(f\"Error: {e}\")\n",
    "    \n",
    "    finally:\n",
    "        if connection:\n",
    "            cursor.close()\n",
    "            connection.close()\n"
   ]
  },
  {
   "cell_type": "code",
   "execution_count": 20,
   "id": "913b8716",
   "metadata": {
    "execution": {
     "iopub.execute_input": "2024-08-27T03:22:54.733781Z",
     "iopub.status.busy": "2024-08-27T03:22:54.733249Z",
     "iopub.status.idle": "2024-08-27T03:22:54.736316Z",
     "shell.execute_reply": "2024-08-27T03:22:54.735769Z"
    },
    "jupyter": {
     "source_hidden": true
    },
    "papermill": {
     "duration": 0.011776,
     "end_time": "2024-08-27T03:22:54.737193",
     "exception": false,
     "start_time": "2024-08-27T03:22:54.725417",
     "status": "completed"
    },
    "tags": []
   },
   "outputs": [],
   "source": [
    "# Define key columns for each table\n",
    "key_columns_retorno_mensal = [\"ticker\", \"data\"]\n",
    "key_columns_cadastro = [\"ticker\"]\n",
    "key_columns_cap_mercado = [\"ticker\"]\n",
    "key_columns_financas = [\"ticker\"]\n",
    "key_columns_mercado = [\"ticker\"]\n",
    "key_columns_dividendos = [\"ticker\",\"data_exdividendo\"]\n",
    "key_columns_valuation = [\"ticker\"]"
   ]
  },
  {
   "cell_type": "code",
   "execution_count": 21,
   "id": "663fcf2f",
   "metadata": {
    "execution": {
     "iopub.execute_input": "2024-08-27T03:22:54.754352Z",
     "iopub.status.busy": "2024-08-27T03:22:54.753754Z",
     "iopub.status.idle": "2024-08-27T03:22:54.867504Z",
     "shell.execute_reply": "2024-08-27T03:22:54.866975Z"
    },
    "jupyter": {
     "source_hidden": true
    },
    "papermill": {
     "duration": 0.123388,
     "end_time": "2024-08-27T03:22:54.868495",
     "exception": false,
     "start_time": "2024-08-27T03:22:54.745107",
     "status": "completed"
    },
    "tags": []
   },
   "outputs": [
    {
     "name": "stdout",
     "output_type": "stream",
     "text": [
      "Data from paxpestg.temp_retorno_mensal upserted into paxpe.retorno_mensal.\n",
      "Data from paxpestg.temp_cadastro upserted into paxpe.cadastro.\n",
      "Data from paxpestg.temp_captacao_mercado upserted into paxpe.captacao_mercado.\n",
      "Data from paxpestg.temp_financas upserted into paxpe.financas.\n",
      "Data from paxpestg.temp_mercado upserted into paxpe.mercado.\n",
      "Data from paxpestg.temp_dividendos upserted into paxpe.dividendos.\n",
      "Data from paxpestg.temp_valuation upserted into paxpe.valuation.\n"
     ]
    }
   ],
   "source": [
    "# Perform upsert for each table\n",
    "upsert_data(\"retorno_mensal\", \"temp_retorno_mensal\", key_columns_retorno_mensal)\n",
    "upsert_data(\"cadastro\", \"temp_cadastro\", key_columns_cadastro)\n",
    "upsert_data(\"captacao_mercado\", \"temp_captacao_mercado\", key_columns_cap_mercado)\n",
    "upsert_data(\"financas\", \"temp_financas\", key_columns_financas)\n",
    "upsert_data(\"mercado\", \"temp_mercado\", key_columns_mercado)\n",
    "upsert_data(\"dividendos\", \"temp_dividendos\", key_columns_dividendos)\n",
    "upsert_data(\"valuation\", \"temp_valuation\", key_columns_valuation)"
   ]
  }
 ],
 "metadata": {
  "kernelspec": {
   "display_name": "Python 3",
   "language": "python",
   "name": "python3"
  },
  "language_info": {
   "codemirror_mode": {
    "name": "ipython",
    "version": 3
   },
   "file_extension": ".py",
   "mimetype": "text/x-python",
   "name": "python",
   "nbconvert_exporter": "python",
   "pygments_lexer": "ipython3",
   "version": "3.8.18"
  },
  "papermill": {
   "default_parameters": {},
   "duration": 135.063785,
   "end_time": "2024-08-27T03:22:57.492138",
   "environment_variables": {},
   "exception": null,
   "input_path": "/opt/airflow/dags/utils/paxpe.ipynb",
   "output_path": "/opt/airflow/dags/utils/paxpe_log.ipynb",
   "parameters": {},
   "start_time": "2024-08-27T03:20:42.428353",
   "version": "2.6.0"
  }
 },
 "nbformat": 4,
 "nbformat_minor": 5
}