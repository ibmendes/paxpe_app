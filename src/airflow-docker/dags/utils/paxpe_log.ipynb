{
 "cells": [
  {
   "cell_type": "markdown",
   "id": "0f148d6c",
   "metadata": {
    "papermill": {
     "duration": 0.005806,
     "end_time": "2024-08-27T20:07:20.221652",
     "exception": false,
     "start_time": "2024-08-27T20:07:20.215846",
     "status": "completed"
    },
    "tags": []
   },
   "source": [
    "# PAXPE - Ingestão de dados para banco de dados SQL do Azure usando serviços do Azure\n",
    "\n",
    "## Visão geral\n",
    "\n",
    "Este notebook demonstra como agendar um script Python para ingerir dados em um Banco de Dados SQL do Postgres, orquestrado pelo airflow.\n",
    "\n",
    "# Documentação do Processo de Criação de Tabelas com Dados do Yahoo Finance\n",
    "\n",
    "## Objetivo\n",
    "O objetivo deste processo é obter dados financeiros, de mercado, dividendos, valuation e informações gerais de empresas listadas na bolsa, utilizando a API do Yahoo Finance. Os dados são coletados para um ou mais tickers e organizados em DataFrames utilizando PySpark para garantir performance e escalabilidade, especialmente ao lidar com uma grande quantidade de tickers.\n",
    "\n",
    "1. **Coleta de Dados**: \n",
    "   - Para cada ticker fornecido, as informações relevantes foram extraídas da API do Yahoo Finance utilizando a biblioteca `yfinance`. Os dados foram organizados em dicionários para posterior conversão em DataFrames.\n",
    "\n",
    "2. **Criação dos DataFrames**:\n",
    "   - **Tabela Geral** (`df_geral`): Contém informações gerais da empresa, como setor, indústria, número de empregados, localização e resumo das atividades.\n",
    "   - **Tabela Financeira** (`df_financeira`): Contém dados financeiros da empresa, como capitalização de mercado, receita, lucro líquido, EBITDA, dívida total, entre outros.\n",
    "   - **Tabela de Mercado** (`df_mercado`): Inclui dados relacionados ao mercado, como preço atual, preço de abertura, volume de negociação, beta, entre outros.\n",
    "   - **Tabela de Dividendos** (`df_dividendos`): Contém informações sobre dividendos, incluindo taxa de dividendos, data ex-dividendo e índice de distribuição.\n",
    "   - **Tabela de Valuation** (`df_valuation`): Inclui dados de valuation da empresa, como índices P/E (Price to Earnings), P/B (Price to Book) e PEG (Price/Earnings to Growth).\n",
    "   - **Tabela de Retorno Mensal** (`df_retorno_mensal`): Retorno mensal da ação com base em preço da ação, dividendos e percentual\n",
    "\n",
    "## Considerações Finais\n",
    "Este processo permite a coleta eficiente e escalável de dados financeiros de várias empresas, facilitando análises complexas em grandes volumes de dados. O uso do PySpark garante que mesmo listas extensas de tickers possam ser processadas rapidamente, gerando tabelas estruturadas e prontas para análise.\n",
    "\n",
    "\n",
    "# Changelog\n",
    "\n",
    "| Responsável | Data       | Change Log                                                                                      |\n",
    "|-------------|------------|--------------------------------------------------------------------------------------------------|\n",
    "| IGOR MENDES | 10-08-24 | Criação do script em spark                   |\n"
   ]
  },
  {
   "cell_type": "code",
   "execution_count": 1,
   "id": "220ed1e5",
   "metadata": {
    "execution": {
     "iopub.execute_input": "2024-08-27T20:07:20.232098Z",
     "iopub.status.busy": "2024-08-27T20:07:20.231645Z",
     "iopub.status.idle": "2024-08-27T20:07:32.721390Z",
     "shell.execute_reply": "2024-08-27T20:07:32.720801Z"
    },
    "jupyter": {
     "source_hidden": true
    },
    "papermill": {
     "duration": 12.496534,
     "end_time": "2024-08-27T20:07:32.723011",
     "exception": false,
     "start_time": "2024-08-27T20:07:20.226477",
     "status": "completed"
    },
    "tags": []
   },
   "outputs": [
    {
     "name": "stdout",
     "output_type": "stream",
     "text": [
      "Defaulting to user installation because normal site-packages is not writeable\r\n"
     ]
    },
    {
     "name": "stdout",
     "output_type": "stream",
     "text": [
      "Requirement already satisfied: yahoofinance in /home/airflow/.local/lib/python3.8/site-packages (0.0.2)\r\n",
      "Requirement already satisfied: beautifulsoup4>=4.6.3 in /home/airflow/.local/lib/python3.8/site-packages (from yahoofinance) (4.12.2)\r\n",
      "Requirement already satisfied: requests>=2.20.1 in /home/airflow/.local/lib/python3.8/site-packages (from yahoofinance) (2.31.0)\r\n",
      "Requirement already satisfied: pandas>=0.23.4 in /home/airflow/.local/lib/python3.8/site-packages (from yahoofinance) (2.0.3)\r\n",
      "Requirement already satisfied: soupsieve>1.2 in /home/airflow/.local/lib/python3.8/site-packages (from beautifulsoup4>=4.6.3->yahoofinance) (2.5)\r\n"
     ]
    },
    {
     "name": "stdout",
     "output_type": "stream",
     "text": [
      "Requirement already satisfied: numpy>=1.20.3 in /home/airflow/.local/lib/python3.8/site-packages (from pandas>=0.23.4->yahoofinance) (1.24.4)\r\n",
      "Requirement already satisfied: tzdata>=2022.1 in /home/airflow/.local/lib/python3.8/site-packages (from pandas>=0.23.4->yahoofinance) (2023.3)\r\n",
      "Requirement already satisfied: pytz>=2020.1 in /home/airflow/.local/lib/python3.8/site-packages (from pandas>=0.23.4->yahoofinance) (2023.3.post1)\r\n",
      "Requirement already satisfied: python-dateutil>=2.8.2 in /home/airflow/.local/lib/python3.8/site-packages (from pandas>=0.23.4->yahoofinance) (2.8.2)\r\n",
      "Requirement already satisfied: certifi>=2017.4.17 in /home/airflow/.local/lib/python3.8/site-packages (from requests>=2.20.1->yahoofinance) (2023.7.22)\r\n",
      "Requirement already satisfied: charset-normalizer<4,>=2 in /home/airflow/.local/lib/python3.8/site-packages (from requests>=2.20.1->yahoofinance) (3.3.2)\r\n",
      "Requirement already satisfied: idna<4,>=2.5 in /home/airflow/.local/lib/python3.8/site-packages (from requests>=2.20.1->yahoofinance) (3.4)\r\n",
      "Requirement already satisfied: urllib3<3,>=1.21.1 in /home/airflow/.local/lib/python3.8/site-packages (from requests>=2.20.1->yahoofinance) (1.26.18)\r\n",
      "Requirement already satisfied: six>=1.5 in /home/airflow/.local/lib/python3.8/site-packages (from python-dateutil>=2.8.2->pandas>=0.23.4->yahoofinance) (1.16.0)\r\n"
     ]
    },
    {
     "name": "stdout",
     "output_type": "stream",
     "text": [
      "\r\n",
      "\u001b[1m[\u001b[0m\u001b[34;49mnotice\u001b[0m\u001b[1;39;49m]\u001b[0m\u001b[39;49m A new release of pip is available: \u001b[0m\u001b[31;49m23.0.1\u001b[0m\u001b[39;49m -> \u001b[0m\u001b[32;49m24.2\u001b[0m\r\n",
      "\u001b[1m[\u001b[0m\u001b[34;49mnotice\u001b[0m\u001b[1;39;49m]\u001b[0m\u001b[39;49m To update, run: \u001b[0m\u001b[32;49mpip install --upgrade pip\u001b[0m\r\n"
     ]
    },
    {
     "name": "stdout",
     "output_type": "stream",
     "text": [
      "Defaulting to user installation because normal site-packages is not writeable\r\n"
     ]
    },
    {
     "name": "stdout",
     "output_type": "stream",
     "text": [
      "Requirement already satisfied: yahooquery in /home/airflow/.local/lib/python3.8/site-packages (2.3.7)\r\n",
      "Requirement already satisfied: lxml<5.0.0,>=4.9.3 in /home/airflow/.local/lib/python3.8/site-packages (from yahooquery) (4.9.3)\r\n",
      "Requirement already satisfied: pandas<3.0.0,>=2.0.3 in /home/airflow/.local/lib/python3.8/site-packages (from yahooquery) (2.0.3)\r\n",
      "Requirement already satisfied: requests-futures<2.0.0,>=1.0.1 in /home/airflow/.local/lib/python3.8/site-packages (from yahooquery) (1.0.1)\r\n",
      "Requirement already satisfied: requests<3.0.0,>=2.31.0 in /home/airflow/.local/lib/python3.8/site-packages (from yahooquery) (2.31.0)\r\n",
      "Requirement already satisfied: beautifulsoup4<5.0.0,>=4.12.2 in /home/airflow/.local/lib/python3.8/site-packages (from yahooquery) (4.12.2)\r\n",
      "Requirement already satisfied: tqdm<5.0.0,>=4.65.0 in /home/airflow/.local/lib/python3.8/site-packages (from yahooquery) (4.66.5)\r\n",
      "Requirement already satisfied: soupsieve>1.2 in /home/airflow/.local/lib/python3.8/site-packages (from beautifulsoup4<5.0.0,>=4.12.2->yahooquery) (2.5)\r\n"
     ]
    },
    {
     "name": "stdout",
     "output_type": "stream",
     "text": [
      "Requirement already satisfied: python-dateutil>=2.8.2 in /home/airflow/.local/lib/python3.8/site-packages (from pandas<3.0.0,>=2.0.3->yahooquery) (2.8.2)\r\n",
      "Requirement already satisfied: tzdata>=2022.1 in /home/airflow/.local/lib/python3.8/site-packages (from pandas<3.0.0,>=2.0.3->yahooquery) (2023.3)\r\n",
      "Requirement already satisfied: numpy>=1.20.3 in /home/airflow/.local/lib/python3.8/site-packages (from pandas<3.0.0,>=2.0.3->yahooquery) (1.24.4)\r\n",
      "Requirement already satisfied: pytz>=2020.1 in /home/airflow/.local/lib/python3.8/site-packages (from pandas<3.0.0,>=2.0.3->yahooquery) (2023.3.post1)\r\n",
      "Requirement already satisfied: idna<4,>=2.5 in /home/airflow/.local/lib/python3.8/site-packages (from requests<3.0.0,>=2.31.0->yahooquery) (3.4)\r\n",
      "Requirement already satisfied: charset-normalizer<4,>=2 in /home/airflow/.local/lib/python3.8/site-packages (from requests<3.0.0,>=2.31.0->yahooquery) (3.3.2)\r\n",
      "Requirement already satisfied: certifi>=2017.4.17 in /home/airflow/.local/lib/python3.8/site-packages (from requests<3.0.0,>=2.31.0->yahooquery) (2023.7.22)\r\n",
      "Requirement already satisfied: urllib3<3,>=1.21.1 in /home/airflow/.local/lib/python3.8/site-packages (from requests<3.0.0,>=2.31.0->yahooquery) (1.26.18)\r\n",
      "Requirement already satisfied: six>=1.5 in /home/airflow/.local/lib/python3.8/site-packages (from python-dateutil>=2.8.2->pandas<3.0.0,>=2.0.3->yahooquery) (1.16.0)\r\n"
     ]
    },
    {
     "name": "stdout",
     "output_type": "stream",
     "text": [
      "\r\n",
      "\u001b[1m[\u001b[0m\u001b[34;49mnotice\u001b[0m\u001b[1;39;49m]\u001b[0m\u001b[39;49m A new release of pip is available: \u001b[0m\u001b[31;49m23.0.1\u001b[0m\u001b[39;49m -> \u001b[0m\u001b[32;49m24.2\u001b[0m\r\n",
      "\u001b[1m[\u001b[0m\u001b[34;49mnotice\u001b[0m\u001b[1;39;49m]\u001b[0m\u001b[39;49m To update, run: \u001b[0m\u001b[32;49mpip install --upgrade pip\u001b[0m\r\n"
     ]
    },
    {
     "name": "stdout",
     "output_type": "stream",
     "text": [
      "Defaulting to user installation because normal site-packages is not writeable\r\n"
     ]
    },
    {
     "name": "stdout",
     "output_type": "stream",
     "text": [
      "Requirement already satisfied: yfinance in /home/airflow/.local/lib/python3.8/site-packages (0.2.43)\r\n",
      "Requirement already satisfied: numpy>=1.16.5 in /home/airflow/.local/lib/python3.8/site-packages (from yfinance) (1.24.4)\r\n",
      "Requirement already satisfied: requests>=2.31 in /home/airflow/.local/lib/python3.8/site-packages (from yfinance) (2.31.0)\r\n",
      "Requirement already satisfied: lxml>=4.9.1 in /home/airflow/.local/lib/python3.8/site-packages (from yfinance) (4.9.3)\r\n",
      "Requirement already satisfied: pytz>=2022.5 in /home/airflow/.local/lib/python3.8/site-packages (from yfinance) (2023.3.post1)\r\n",
      "Requirement already satisfied: platformdirs>=2.0.0 in /home/airflow/.local/lib/python3.8/site-packages (from yfinance) (3.11.0)\r\n",
      "Requirement already satisfied: frozendict>=2.3.4 in /home/airflow/.local/lib/python3.8/site-packages (from yfinance) (2.4.4)\r\n",
      "Requirement already satisfied: html5lib>=1.1 in /home/airflow/.local/lib/python3.8/site-packages (from yfinance) (1.1)\r\n",
      "Requirement already satisfied: beautifulsoup4>=4.11.1 in /home/airflow/.local/lib/python3.8/site-packages (from yfinance) (4.12.2)\r\n",
      "Requirement already satisfied: multitasking>=0.0.7 in /home/airflow/.local/lib/python3.8/site-packages (from yfinance) (0.0.11)\r\n",
      "Requirement already satisfied: pandas>=1.3.0 in /home/airflow/.local/lib/python3.8/site-packages (from yfinance) (2.0.3)\r\n",
      "Requirement already satisfied: peewee>=3.16.2 in /home/airflow/.local/lib/python3.8/site-packages (from yfinance) (3.17.6)\r\n",
      "Requirement already satisfied: soupsieve>1.2 in /home/airflow/.local/lib/python3.8/site-packages (from beautifulsoup4>=4.11.1->yfinance) (2.5)\r\n",
      "Requirement already satisfied: six>=1.9 in /home/airflow/.local/lib/python3.8/site-packages (from html5lib>=1.1->yfinance) (1.16.0)\r\n",
      "Requirement already satisfied: webencodings in /home/airflow/.local/lib/python3.8/site-packages (from html5lib>=1.1->yfinance) (0.5.1)\r\n"
     ]
    },
    {
     "name": "stdout",
     "output_type": "stream",
     "text": [
      "Requirement already satisfied: tzdata>=2022.1 in /home/airflow/.local/lib/python3.8/site-packages (from pandas>=1.3.0->yfinance) (2023.3)\r\n",
      "Requirement already satisfied: python-dateutil>=2.8.2 in /home/airflow/.local/lib/python3.8/site-packages (from pandas>=1.3.0->yfinance) (2.8.2)\r\n",
      "Requirement already satisfied: charset-normalizer<4,>=2 in /home/airflow/.local/lib/python3.8/site-packages (from requests>=2.31->yfinance) (3.3.2)\r\n",
      "Requirement already satisfied: urllib3<3,>=1.21.1 in /home/airflow/.local/lib/python3.8/site-packages (from requests>=2.31->yfinance) (1.26.18)\r\n",
      "Requirement already satisfied: certifi>=2017.4.17 in /home/airflow/.local/lib/python3.8/site-packages (from requests>=2.31->yfinance) (2023.7.22)\r\n",
      "Requirement already satisfied: idna<4,>=2.5 in /home/airflow/.local/lib/python3.8/site-packages (from requests>=2.31->yfinance) (3.4)\r\n"
     ]
    },
    {
     "name": "stdout",
     "output_type": "stream",
     "text": [
      "\r\n",
      "\u001b[1m[\u001b[0m\u001b[34;49mnotice\u001b[0m\u001b[1;39;49m]\u001b[0m\u001b[39;49m A new release of pip is available: \u001b[0m\u001b[31;49m23.0.1\u001b[0m\u001b[39;49m -> \u001b[0m\u001b[32;49m24.2\u001b[0m\r\n",
      "\u001b[1m[\u001b[0m\u001b[34;49mnotice\u001b[0m\u001b[1;39;49m]\u001b[0m\u001b[39;49m To update, run: \u001b[0m\u001b[32;49mpip install --upgrade pip\u001b[0m\r\n"
     ]
    },
    {
     "name": "stdout",
     "output_type": "stream",
     "text": [
      "Defaulting to user installation because normal site-packages is not writeable\r\n"
     ]
    },
    {
     "name": "stdout",
     "output_type": "stream",
     "text": [
      "Requirement already satisfied: psycopg2-binary in /home/airflow/.local/lib/python3.8/site-packages (2.9.9)\r\n"
     ]
    },
    {
     "name": "stdout",
     "output_type": "stream",
     "text": [
      "\r\n",
      "\u001b[1m[\u001b[0m\u001b[34;49mnotice\u001b[0m\u001b[1;39;49m]\u001b[0m\u001b[39;49m A new release of pip is available: \u001b[0m\u001b[31;49m23.0.1\u001b[0m\u001b[39;49m -> \u001b[0m\u001b[32;49m24.2\u001b[0m\r\n",
      "\u001b[1m[\u001b[0m\u001b[34;49mnotice\u001b[0m\u001b[1;39;49m]\u001b[0m\u001b[39;49m To update, run: \u001b[0m\u001b[32;49mpip install --upgrade pip\u001b[0m\r\n"
     ]
    }
   ],
   "source": [
    "#fontes - yahoo finance api\n",
    "!pip install yahoofinance\n",
    "!pip install yahooquery\n",
    "!pip install yfinance\n",
    "\n",
    "\n",
    "!pip install psycopg2-binary\n"
   ]
  },
  {
   "cell_type": "code",
   "execution_count": 2,
   "id": "847e59ed",
   "metadata": {
    "execution": {
     "iopub.execute_input": "2024-08-27T20:07:32.735084Z",
     "iopub.status.busy": "2024-08-27T20:07:32.734707Z",
     "iopub.status.idle": "2024-08-27T20:07:35.190895Z",
     "shell.execute_reply": "2024-08-27T20:07:35.190340Z"
    },
    "jupyter": {
     "source_hidden": true
    },
    "papermill": {
     "duration": 2.463286,
     "end_time": "2024-08-27T20:07:35.191870",
     "exception": false,
     "start_time": "2024-08-27T20:07:32.728584",
     "status": "completed"
    },
    "tags": []
   },
   "outputs": [
    {
     "name": "stderr",
     "output_type": "stream",
     "text": [
      "/home/airflow/.local/lib/python3.8/site-packages/pyspark/bin/load-spark-env.sh: line 68: ps: command not found\n"
     ]
    },
    {
     "name": "stderr",
     "output_type": "stream",
     "text": [
      "24/08/27 20:07:33 WARN NativeCodeLoader: Unable to load native-hadoop library for your platform... using builtin-java classes where applicable\n",
      "Setting default log level to \"WARN\".\n",
      "To adjust logging level use sc.setLogLevel(newLevel). For SparkR, use setLogLevel(newLevel).\n"
     ]
    },
    {
     "data": {
      "text/html": [
       "\n",
       "            <div>\n",
       "                <p><b>SparkSession - in-memory</b></p>\n",
       "                \n",
       "        <div>\n",
       "            <p><b>SparkContext</b></p>\n",
       "\n",
       "            <p><a href=\"http://278b6dc079b3:4040\">Spark UI</a></p>\n",
       "\n",
       "            <dl>\n",
       "              <dt>Version</dt>\n",
       "                <dd><code>v3.5.2</code></dd>\n",
       "              <dt>Master</dt>\n",
       "                <dd><code>local[*]</code></dd>\n",
       "              <dt>AppName</dt>\n",
       "                <dd><code>PAXPE</code></dd>\n",
       "            </dl>\n",
       "        </div>\n",
       "        \n",
       "            </div>\n",
       "        "
      ],
      "text/plain": [
       "<pyspark.sql.session.SparkSession at 0x7fe585965550>"
      ]
     },
     "execution_count": 2,
     "metadata": {},
     "output_type": "execute_result"
    }
   ],
   "source": [
    "import findspark\n",
    "findspark.init()  # Inicializa o Spark\n",
    "findspark.find()  # Verifica se o Spark está corretamente configurado\n",
    "\n",
    "from pyspark import SparkContext, SparkConf\n",
    "from pyspark.sql import SparkSession\n",
    "\n",
    "spark = (\n",
    "    SparkSession\n",
    "    .builder\n",
    "    .appName(\"PAXPE\")\n",
    "    .config(\"spark.sql.session.timeZone\", \"-03:00\")\n",
    "    .config(\"spark.driver.memory\", \"16g\")  # Memória do driver\n",
    "    .config(\"spark.executor.memory\", \"12g\")  # Memória para cada executor (ajuste conforme a carga)\n",
    "    .config(\"spark.executor.cores\", \"8\")  # Núcleos por executor\n",
    "    .config(\"spark.cores.max\", \"24\")  # Total de núcleos disponíveis\n",
    "    .config(\"spark.dynamicAllocation.enabled\", \"true\")\n",
    "    .config(\"spark.dynamicAllocation.minExecutors\", \"2\")\n",
    "    .config(\"spark.dynamicAllocation.maxExecutors\", \"10\")\n",
    "    .config(\"spark.dynamicAllocation.initialExecutors\", \"4\")\n",
    "    .config(\"spark.default.parallelism\", \"24\")  # Nível de paralelismo\n",
    "    .config(\"spark.memory.fraction\", \"0.8\")  # Memória usada para armazenamento e execução\n",
    "    .config(\"spark.memory.storageFraction\", \"0.5\")  # Memória usada para armazenamento\n",
    "    .config(\"spark.jars\", \"/opt/airflow/jars/postgresql-42.7.4.jar\")\n",
    "    .getOrCreate()\n",
    ")\n",
    "\n",
    "\n",
    "spark"
   ]
  },
  {
   "cell_type": "code",
   "execution_count": 3,
   "id": "a65ed6b6",
   "metadata": {
    "execution": {
     "iopub.execute_input": "2024-08-27T20:07:35.204252Z",
     "iopub.status.busy": "2024-08-27T20:07:35.203896Z",
     "iopub.status.idle": "2024-08-27T20:07:35.948164Z",
     "shell.execute_reply": "2024-08-27T20:07:35.947516Z"
    },
    "jupyter": {
     "source_hidden": true
    },
    "papermill": {
     "duration": 0.751387,
     "end_time": "2024-08-27T20:07:35.949314",
     "exception": false,
     "start_time": "2024-08-27T20:07:35.197927",
     "status": "completed"
    },
    "tags": []
   },
   "outputs": [],
   "source": [
    "import pandas as pd\n",
    "\n",
    "import yfinance as yf\n",
    "from yfinance import Ticker\n",
    "#api yahoo\n",
    "from yahooquery import Screener, Ticker\n",
    "\n",
    "\n",
    "#criar timestamps e automatizar a safra de tempo da análise\n",
    "# apagar depois que tiver usando a api do spark sql\n",
    "from datetime import datetime, timedelta\n",
    "\n",
    "from pyspark.sql.functions import col, lit, when, lag, current_timestamp , date_format, from_utc_timestamp\n",
    "from pyspark.sql.types import StructType, StructField, StringType, FloatType, LongType, DateType, DoubleType,IntegerType\n",
    "from pyspark.sql.window import Window\n",
    "\n",
    "\n",
    "import psycopg2\n",
    "from psycopg2 import OperationalError\n",
    "import sys\n"
   ]
  },
  {
   "cell_type": "code",
   "execution_count": 4,
   "id": "4ec6d56c",
   "metadata": {
    "execution": {
     "iopub.execute_input": "2024-08-27T20:07:35.962495Z",
     "iopub.status.busy": "2024-08-27T20:07:35.962011Z",
     "iopub.status.idle": "2024-08-27T20:07:35.966815Z",
     "shell.execute_reply": "2024-08-27T20:07:35.966279Z"
    },
    "jupyter": {
     "source_hidden": true
    },
    "papermill": {
     "duration": 0.012312,
     "end_time": "2024-08-27T20:07:35.967888",
     "exception": false,
     "start_time": "2024-08-27T20:07:35.955576",
     "status": "completed"
    },
    "tags": []
   },
   "outputs": [],
   "source": [
    "def obter_empresas_ativas():\n",
    "    screener = Screener()\n",
    "    dados = screener.get_screeners('most_actives', count=200)\n",
    "    # print(dados)  # Linha de depuração para inspecionar a estrutura dos dados retornados\n",
    "    empresas = dados['most_actives']['quotes']\n",
    "    \n",
    "    # Criar um DataFrame a partir dos dados\n",
    "    df = spark.createDataFrame(empresas)\n",
    "    \n",
    "    # Colunas para corresponder ao site\n",
    "    colunas = [\n",
    "        'symbol', 'shortName', 'displayName', 'regularMarketPrice', 'regularMarketChange', \n",
    "        'regularMarketChangePercent', 'regularMarketVolume', 'marketCap', \n",
    "        'fullExchangeName', 'quoteSourceName'\n",
    "    ]\n",
    "    df = df.select(*colunas)\n",
    "    \n",
    "    # Renomear colunas para português\n",
    "    df = df.withColumnRenamed('symbol', 'ticker') \\\n",
    "           .withColumnRenamed('shortName', 'nome_curto') \\\n",
    "           .withColumnRenamed('displayName', 'nome_exibicao') \\\n",
    "           .withColumnRenamed('regularMarketPrice', 'preco_mercado_regular') \\\n",
    "           .withColumnRenamed('regularMarketChange', 'mudanca_mercado_regular') \\\n",
    "           .withColumnRenamed('regularMarketChangePercent', 'mudanca_percentual_mercado_regular') \\\n",
    "           .withColumnRenamed('regularMarketVolume', 'volume_mercado_regular') \\\n",
    "           .withColumnRenamed('marketCap', 'capitalizacao_mercado') \\\n",
    "           .withColumnRenamed('fullExchangeName', 'nome_exchange_completa') \\\n",
    "           .withColumnRenamed('quoteSourceName', 'nome_fonte_cotacao')\n",
    "    \n",
    "    # Adicionar coluna com data e hora atual\n",
    "    df = df.withColumn('dt_ptcao', date_format(current_timestamp(), 'yyyy-MM-dd'))\n",
    "    df = df.withColumn('dthr_igtao', current_timestamp())\n",
    "    \n",
    "    # Garantir que 'ticker' não tenha valores nulos\n",
    "    df = df.withColumn('ticker', col('ticker').cast('string'))\n",
    "    df = df.dropna(subset=['ticker'])\n",
    "\n",
    "    # Ordenar por capitalizacaoMercado\n",
    "    df = df.orderBy(col('capitalizacao_mercado').desc())\n",
    "    \n",
    "    return df"
   ]
  },
  {
   "cell_type": "code",
   "execution_count": 5,
   "id": "6d0743e5",
   "metadata": {
    "execution": {
     "iopub.execute_input": "2024-08-27T20:07:35.979358Z",
     "iopub.status.busy": "2024-08-27T20:07:35.978881Z",
     "iopub.status.idle": "2024-08-27T20:07:35.982019Z",
     "shell.execute_reply": "2024-08-27T20:07:35.981504Z"
    },
    "jupyter": {
     "source_hidden": true
    },
    "papermill": {
     "duration": 0.009912,
     "end_time": "2024-08-27T20:07:35.982988",
     "exception": false,
     "start_time": "2024-08-27T20:07:35.973076",
     "status": "completed"
    },
    "tags": []
   },
   "outputs": [],
   "source": [
    "def obter_dados_historicos(symbols, start_date, end_date):\n",
    "    dados = {}\n",
    "    for symbol in symbols:\n",
    "        ticker = yf.Ticker(symbol)\n",
    "        historico = ticker.history(start=start_date, end=end_date, interval='1mo')\n",
    "        dados[symbol] = historico\n",
    "    \n",
    "    return dados"
   ]
  },
  {
   "cell_type": "code",
   "execution_count": 6,
   "id": "21ed3075",
   "metadata": {
    "execution": {
     "iopub.execute_input": "2024-08-27T20:07:35.995083Z",
     "iopub.status.busy": "2024-08-27T20:07:35.994763Z",
     "iopub.status.idle": "2024-08-27T20:07:35.998906Z",
     "shell.execute_reply": "2024-08-27T20:07:35.998279Z"
    },
    "jupyter": {
     "source_hidden": true
    },
    "papermill": {
     "duration": 0.011206,
     "end_time": "2024-08-27T20:07:35.999974",
     "exception": false,
     "start_time": "2024-08-27T20:07:35.988768",
     "status": "completed"
    },
    "tags": []
   },
   "outputs": [],
   "source": [
    "\n",
    "from concurrent.futures import ThreadPoolExecutor, as_completed\n",
    "\n",
    "def obter_dados_historicos_ticker(symbol, start_date, end_date):\n",
    "    ticker = yf.Ticker(symbol)\n",
    "    historico = ticker.history(start=start_date, end=end_date, interval='1mo')\n",
    "    return (symbol, historico)\n",
    "\n",
    "def obter_dados_historicos(symbols, start_date, end_date):\n",
    "    dados = {}\n",
    "    \n",
    "    # Usar ThreadPoolExecutor para executar as solicitações em paralelo\n",
    "    with ThreadPoolExecutor(max_workers=10) as executor:\n",
    "        # Submit tarefas para o executor\n",
    "        futuros = [executor.submit(obter_dados_historicos_ticker, symbol, start_date, end_date) for symbol in symbols]\n",
    "        \n",
    "        # Coletar os resultados conforme as tarefas são concluídas\n",
    "        for futuro in as_completed(futuros):\n",
    "            symbol, historico = futuro.result()\n",
    "            dados[symbol] = historico\n",
    "    \n",
    "    return dados"
   ]
  },
  {
   "cell_type": "code",
   "execution_count": 7,
   "id": "e172d2b6",
   "metadata": {
    "execution": {
     "iopub.execute_input": "2024-08-27T20:07:36.011243Z",
     "iopub.status.busy": "2024-08-27T20:07:36.010905Z",
     "iopub.status.idle": "2024-08-27T20:07:36.016691Z",
     "shell.execute_reply": "2024-08-27T20:07:36.016139Z"
    },
    "jupyter": {
     "source_hidden": true
    },
    "papermill": {
     "duration": 0.012517,
     "end_time": "2024-08-27T20:07:36.017688",
     "exception": false,
     "start_time": "2024-08-27T20:07:36.005171",
     "status": "completed"
    },
    "tags": []
   },
   "outputs": [],
   "source": [
    "def retorno_mensal(dados):\n",
    "    # Inicializar uma lista vazia para armazenar dados estruturados\n",
    "    dados_estruturados = []\n",
    "    \n",
    "    # Iterar sobre os dados históricos de cada símbolo\n",
    "    for symbol, df in dados.items():\n",
    "        # Converter DataFrame do Pandas para PySpark\n",
    "        df['symbol'] = symbol\n",
    "\n",
    "        df_spark = spark.createDataFrame(df.reset_index())\n",
    "        \n",
    "        \n",
    "        # Renomear colunas para português\n",
    "        df_spark = df_spark.withColumnRenamed('symbol', 'ticker') \\\n",
    "                        .withColumnRenamed('Date', 'data') \\\n",
    "                        .withColumnRenamed('Open', 'abertura') \\\n",
    "                        .withColumnRenamed('High', 'alta') \\\n",
    "                        .withColumnRenamed('Low', 'baixa') \\\n",
    "                        .withColumnRenamed('Close', 'fechamento') \\\n",
    "                        .withColumnRenamed('Volume', 'volume') \\\n",
    "                        .withColumnRenamed('Dividends', 'dividendos') \\\n",
    "                        .withColumnRenamed('Stock Splits', 'desdobramentos')\n",
    "\n",
    "        janela = Window.partitionBy('ticker').orderBy('Data')\n",
    "\n",
    "\n",
    "        # Calcular preço de fechamento do mês anterior (deslocar uma linha para cima)\n",
    "        df_spark = df_spark.withColumn('fechamento_mes_anterior', lag('fechamento').over(janela))\n",
    "\n",
    "        # Calcular Retorno em valor (diferença absoluta)\n",
    "        df_spark = df_spark.withColumn('valor_retorno', col('fechamento') - col('fechamento_mes_anterior'))\n",
    "\n",
    "        # Calcular Retorno em porcentagem\n",
    "        df_spark = df_spark.withColumn('porcentagem_retorno', (col('valor_retorno') / col('fechamento_mes_anterior')) * 100)\n",
    "\n",
    "        # Adicionar coluna com data atual no formato desejado\n",
    "        df_spark = df_spark.withColumn('dt_ptcao', date_format(current_timestamp(), 'yyyy-MM-dd'))\n",
    "        df_spark = df_spark.withColumn('dthr_igtao', current_timestamp())\n",
    "\n",
    "        # Reordenar colunas\n",
    "        df_spark = df_spark.select(\n",
    "            'ticker',               # 'symbol' traduzido para 'ticker'\n",
    "            'data',                 # 'date' traduzido para 'Data'\n",
    "            'abertura',             # 'open' traduzido para 'Abertura'\n",
    "            'alta',                 # 'high' traduzido para 'Alta'\n",
    "            'baixa',                # 'low' traduzido para 'Baixa'\n",
    "            'fechamento',           # 'close' traduzido para 'Fechamento'\n",
    "            'volume',               # 'volume' mantido como 'Volume'\n",
    "            'dividendos',           # 'dividends' traduzido para 'Dividendos'\n",
    "            'desdobramentos',       # 'splits' traduzido para 'Desdobramentos'\n",
    "            'fechamento_mes_anterior', # 'Close_Last_Month' traduzido para 'Fechamento_Mes_Anterior'\n",
    "            'valor_retorno',        # 'Return_Value' traduzido para 'Valor_Retorno'\n",
    "            'porcentagem_retorno',  # 'Return_Percentage' traduzido para 'Porcentagem_Retorno'\n",
    "            'dt_ptcao',             # 'dt_ptcao' mantido como está\n",
    "            'dthr_igtao'            # 'DTHR_IGTAO' mantido como está\n",
    "        )\n",
    "        \n",
    "        # Adicionar o DataFrame à lista de dados estruturados\n",
    "        dados_estruturados.append(df_spark)\n",
    "\n",
    "    # Unir todos os DataFrames em um único DataFrame\n",
    "    df_final = dados_estruturados[0]\n",
    "    for df in dados_estruturados[1:]:\n",
    "        df_final = df_final.union(df)\n",
    "    \n",
    "    return df_final"
   ]
  },
  {
   "cell_type": "markdown",
   "id": "5e801e68",
   "metadata": {
    "papermill": {
     "duration": 0.006703,
     "end_time": "2024-08-27T20:07:36.029753",
     "exception": false,
     "start_time": "2024-08-27T20:07:36.023050",
     "status": "completed"
    },
    "tags": []
   },
   "source": [
    "# Tabela fato -  maiores empresas segundo a api do yahoo finance"
   ]
  },
  {
   "cell_type": "code",
   "execution_count": 8,
   "id": "473a4e25",
   "metadata": {
    "execution": {
     "iopub.execute_input": "2024-08-27T20:07:36.041616Z",
     "iopub.status.busy": "2024-08-27T20:07:36.041130Z",
     "iopub.status.idle": "2024-08-27T20:07:41.065935Z",
     "shell.execute_reply": "2024-08-27T20:07:41.065443Z"
    },
    "jupyter": {
     "source_hidden": true
    },
    "papermill": {
     "duration": 5.031903,
     "end_time": "2024-08-27T20:07:41.066997",
     "exception": false,
     "start_time": "2024-08-27T20:07:36.035094",
     "status": "completed"
    },
    "tags": []
   },
   "outputs": [
    {
     "name": "stderr",
     "output_type": "stream",
     "text": [
      "24/08/27 20:07:39 WARN SparkStringUtils: Truncated the string representation of a plan since it was too large. This behavior can be adjusted by setting 'spark.sql.debug.maxToStringFields'.\n"
     ]
    },
    {
     "name": "stderr",
     "output_type": "stream",
     "text": [
      "\r",
      "[Stage 0:>                                                        (0 + 24) / 24]\r"
     ]
    },
    {
     "name": "stderr",
     "output_type": "stream",
     "text": [
      "\r",
      "                                                                                \r"
     ]
    },
    {
     "name": "stdout",
     "output_type": "stream",
     "text": [
      "+------+--------------------+--------------------+---------------------+-----------------------+----------------------------------+----------------------+---------------------+----------------------+--------------------+----------+--------------------+\n",
      "|ticker|          nome_curto|       nome_exibicao|preco_mercado_regular|mudanca_mercado_regular|mudanca_percentual_mercado_regular|volume_mercado_regular|capitalizacao_mercado|nome_exchange_completa|  nome_fonte_cotacao|  dt_ptcao|          dthr_igtao|\n",
      "+------+--------------------+--------------------+---------------------+-----------------------+----------------------------------+----------------------+---------------------+----------------------+--------------------+----------+--------------------+\n",
      "|  AAPL|          Apple Inc.|               Apple|               228.03|              0.8500061|                        0.37415534|              33154213|        3466990977024|              NasdaqGS|Nasdaq Real Time ...|2024-08-27|2024-08-27 17:07:...|\n",
      "|  NVDA|  NVIDIA Corporation|              NVIDIA|                128.3|               1.840004|                         1.4550087|             290027464|        3155962101760|              NasdaqGS|Nasdaq Real Time ...|2024-08-27|2024-08-27 17:07:...|\n",
      "|  MSFT|Microsoft Corpora...|           Microsoft|               413.84|              0.3500061|                        0.08464681|              11680076|        3076089184256|              NasdaqGS|Nasdaq Real Time ...|2024-08-27|2024-08-27 17:07:...|\n",
      "| GOOGL|       Alphabet Inc.|                NULL|               164.68|              -1.480011|                        -0.8907143|              11577446|        2037338472448|              NasdaqGS|Nasdaq Real Time ...|2024-08-27|2024-08-27 17:07:...|\n",
      "|  GOOG|       Alphabet Inc.|            Alphabet|               166.38|             -1.5499878|                       -0.92299634|              13157355|        2035942162432|              NasdaqGS|Nasdaq Real Time ...|2024-08-27|2024-08-27 17:07:...|\n",
      "|  AMZN|    Amazon.com, Inc.|          Amazon.com|               173.12|              -2.380005|                        -1.3561281|              29024176|        1816998182912|              NasdaqGS|Nasdaq Real Time ...|2024-08-27|2024-08-27 17:07:...|\n",
      "|  META|Meta Platforms, Inc.|      Meta Platforms|                519.1|             -2.0200195|                        -0.3876304|               6216121|        1313229504512|              NasdaqGS|Nasdaq Real Time ...|2024-08-27|2024-08-27 17:07:...|\n",
      "|   TSM|Taiwan Semiconduc...|Taiwan Semiconduc...|               170.57|                    1.5|                        0.88720644|               8673022|         884589658112|                  NYSE|Nasdaq Real Time ...|2024-08-27|2024-08-27 17:07:...|\n",
      "|  AVGO|       Broadcom Inc.|            Broadcom|               161.39|              1.7700043|                         1.1088862|              16424160|         751251030016|              NasdaqGS|Nasdaq Real Time ...|2024-08-27|2024-08-27 17:07:...|\n",
      "|  TSLA|         Tesla, Inc.|               Tesla|               209.21|                   -4.0|                        -1.8760846|              61650346|         668350611456|              NasdaqGS|Nasdaq Real Time ...|2024-08-27|2024-08-27 17:07:...|\n",
      "|   WMT|        Walmart Inc.|             Walmart|                76.13|            0.099998474|                        0.13152502|               9352591|         612354686976|                  NYSE|Nasdaq Real Time ...|2024-08-27|2024-08-27 17:07:...|\n",
      "|   XOM|Exxon Mobil Corpo...|         Exxon Mobil|                117.7|             -1.1100006|                        -0.9342653|               7316001|         522921050112|                  NYSE|Nasdaq Real Time ...|2024-08-27|2024-08-27 17:07:...|\n",
      "|    KO|Coca-Cola Company...|                NULL|                71.49|              0.6500015|                         0.9175629|              12516345|         308112588800|                  NYSE|Nasdaq Real Time ...|2024-08-27|2024-08-27 17:07:...|\n",
      "|   BAC|Bank of America C...|     Bank of America|                39.67|                  -0.25|                       -0.62625253|              27337791|         307822526464|                  NYSE|Nasdaq Real Time ...|2024-08-27|2024-08-27 17:07:...|\n",
      "|   AMD|Advanced Micro De...|Advanced Micro De...|                150.5|              0.5099945|                        0.34001902|              33956119|         243581239296|              NasdaqGS|Nasdaq Real Time ...|2024-08-27|2024-08-27 17:07:...|\n",
      "|  CSCO| Cisco Systems, Inc.|       Cisco Systems|                50.71|            -0.08000183|                       -0.15751493|               9986975|         204300943360|              NasdaqGS|Nasdaq Real Time ...|2024-08-27|2024-08-27 17:07:...|\n",
      "|  BABA|Alibaba Group Hol...|Alibaba Group Hol...|              81.4637|             -0.2963028|                       -0.36240557|               8516375|         199520075776|                  NYSE|Nasdaq Real Time ...|2024-08-27|2024-08-27 17:07:...|\n",
      "|  QCOM|QUALCOMM Incorpor...|                NULL|               173.93|               4.439987|                          2.619616|               6442835|         193758019584|              NasdaqGS|Nasdaq Real Time ...|2024-08-27|2024-08-27 17:07:...|\n",
      "|   WFC|Wells Fargo & Com...|                NULL|                56.28|            -0.44000244|                        -0.7757448|               5777111|         191564185600|                  NYSE|Nasdaq Real Time ...|2024-08-27|2024-08-27 17:07:...|\n",
      "|    VZ|Verizon Communica...|Verizon Communica...|                41.46|           -0.030002594|                       -0.07231283|               7147959|         174526693376|                  NYSE|Nasdaq Real Time ...|2024-08-27|2024-08-27 17:07:...|\n",
      "+------+--------------------+--------------------+---------------------+-----------------------+----------------------------------+----------------------+---------------------+----------------------+--------------------+----------+--------------------+\n",
      "only showing top 20 rows\n",
      "\n",
      "root\n",
      " |-- ticker: string (nullable = true)\n",
      " |-- nome_curto: string (nullable = true)\n",
      " |-- nome_exibicao: string (nullable = true)\n",
      " |-- preco_mercado_regular: double (nullable = true)\n",
      " |-- mudanca_mercado_regular: double (nullable = true)\n",
      " |-- mudanca_percentual_mercado_regular: double (nullable = true)\n",
      " |-- volume_mercado_regular: long (nullable = true)\n",
      " |-- capitalizacao_mercado: long (nullable = true)\n",
      " |-- nome_exchange_completa: string (nullable = true)\n",
      " |-- nome_fonte_cotacao: string (nullable = true)\n",
      " |-- dt_ptcao: string (nullable = false)\n",
      " |-- dthr_igtao: timestamp (nullable = false)\n",
      "\n"
     ]
    }
   ],
   "source": [
    "df_ativas = obter_empresas_ativas()\n",
    "\n",
    "df_ativas.show()\n",
    "df_ativas.printSchema()"
   ]
  },
  {
   "cell_type": "markdown",
   "id": "d3ae7852",
   "metadata": {
    "papermill": {
     "duration": 0.028778,
     "end_time": "2024-08-27T20:07:41.102141",
     "exception": false,
     "start_time": "2024-08-27T20:07:41.073363",
     "status": "completed"
    },
    "tags": []
   },
   "source": [
    "# Dimensão - Retornos mensais 10 anos"
   ]
  },
  {
   "cell_type": "code",
   "execution_count": 9,
   "id": "f1e6c910",
   "metadata": {
    "execution": {
     "iopub.execute_input": "2024-08-27T20:07:41.116017Z",
     "iopub.status.busy": "2024-08-27T20:07:41.115481Z",
     "iopub.status.idle": "2024-08-27T20:07:41.118968Z",
     "shell.execute_reply": "2024-08-27T20:07:41.118508Z"
    },
    "jupyter": {
     "source_hidden": true
    },
    "papermill": {
     "duration": 0.011186,
     "end_time": "2024-08-27T20:07:41.119818",
     "exception": false,
     "start_time": "2024-08-27T20:07:41.108632",
     "status": "completed"
    },
    "tags": []
   },
   "outputs": [
    {
     "name": "stdout",
     "output_type": "stream",
     "text": [
      "start_date: 2014-08-30\n",
      "end_date: 2024-08-27\n"
     ]
    }
   ],
   "source": [
    "# 10 anos passados\n",
    "start_date = datetime.today() - timedelta(days=10*365)\n",
    "\n",
    "# hoje\n",
    "end_date = datetime.today()\n",
    "\n",
    "# 'YYYY-MM-DD'\n",
    "start_date_str = start_date.strftime('%Y-%m-%d')\n",
    "end_date_str = end_date.strftime('%Y-%m-%d')\n",
    "\n",
    "print(f\"start_date: {start_date_str}\")\n",
    "print(f\"end_date: {end_date_str}\")\n"
   ]
  },
  {
   "cell_type": "code",
   "execution_count": 10,
   "id": "d910308a",
   "metadata": {
    "execution": {
     "iopub.execute_input": "2024-08-27T20:07:41.132617Z",
     "iopub.status.busy": "2024-08-27T20:07:41.132115Z",
     "iopub.status.idle": "2024-08-27T20:07:41.755231Z",
     "shell.execute_reply": "2024-08-27T20:07:41.754719Z"
    },
    "jupyter": {
     "source_hidden": true
    },
    "papermill": {
     "duration": 0.629942,
     "end_time": "2024-08-27T20:07:41.756166",
     "exception": false,
     "start_time": "2024-08-27T20:07:41.126224",
     "status": "completed"
    },
    "tags": []
   },
   "outputs": [
    {
     "name": "stdout",
     "output_type": "stream",
     "text": [
      "('AAPL', 'NVDA', 'MSFT', 'GOOGL', 'GOOG', 'AMZN', 'META', 'TSM', 'AVGO', 'TSLA', 'WMT', 'XOM', 'KO', 'BAC', 'AMD', 'CSCO', 'BABA', 'QCOM', 'WFC', 'VZ', 'DIS', 'PFE', 'AMAT', 'CMCSA', 'UBER', 'T', 'PDD', 'NKE', 'MUFG', 'C', 'SCHW', 'SBUX', 'MU', 'INFY', 'GSK', 'PBR', 'INTC', 'APH', 'DELL', 'CMG', 'PYPL', 'NU', 'PLTR', 'CSX', 'FCX', 'MRVL', 'ITUB', 'TFC', 'ING', 'GM', 'ET', 'OXY', 'PCG', 'COIN', 'LYG', 'KMI', 'VALE', 'BCS', 'F', 'JD', 'KVUE', 'SNOW', 'ABEV', 'GOLD', 'CVE', 'SMCI', 'TCOM', 'VRT', 'BBD', 'MSTR', 'VOD', 'HPE', 'ERIC', 'HST', 'NOK', 'LI', 'CCL', 'UMC', 'HBAN', 'ASX', 'WBD', 'HOOD', 'CNP', 'TME', 'LUV', 'SNAP', 'KEY', 'ONON', 'RIVN', 'CAVA', 'GRAB', 'SIRI', 'CHWY', 'KGC', 'AFRM', 'LCID', 'GPS', 'CX', 'ASTS', 'NIO', 'SOFI', 'WBA', 'AGNC', 'NCLH', 'BBWI', 'S', 'XPEV', 'PARA', 'PATH', 'SWN', 'VKTX', 'AAL', 'CLF', 'LUMN', 'MARA', 'LYFT', 'RUN', 'RIG', 'UPST', 'HL', 'BTG', 'UAA', 'PAGS', 'HIMS', 'RKLB', 'IAG', 'BTE', 'ALTM', 'CLSK', 'GERN', 'COMP', 'MPW', 'RIOT', 'PSNY', 'HBI', 'KOS', 'KSS', 'UEC', 'IQ', 'NGD', 'INND')\n"
     ]
    }
   ],
   "source": [
    "# Selecionar a coluna 'symbol' e coletar os valores como uma lista\n",
    "#100 maiores para dimensão das 100 maiores e retornos\n",
    "symbol_list = df_ativas.select('ticker').rdd.flatMap(lambda x: x).collect()\n",
    "\n",
    "# Converter a lista para uma tupla\n",
    "df_tickers = tuple(symbol_list)\n",
    "\n",
    "print(df_tickers)\n"
   ]
  },
  {
   "cell_type": "code",
   "execution_count": 11,
   "id": "16dc25b8",
   "metadata": {
    "execution": {
     "iopub.execute_input": "2024-08-27T20:07:41.792984Z",
     "iopub.status.busy": "2024-08-27T20:07:41.792540Z",
     "iopub.status.idle": "2024-08-27T20:08:09.365199Z",
     "shell.execute_reply": "2024-08-27T20:08:09.364197Z"
    },
    "jupyter": {
     "source_hidden": true
    },
    "papermill": {
     "duration": 27.580961,
     "end_time": "2024-08-27T20:08:09.366294",
     "exception": false,
     "start_time": "2024-08-27T20:07:41.785333",
     "status": "completed"
    },
    "tags": []
   },
   "outputs": [
    {
     "name": "stderr",
     "output_type": "stream",
     "text": [
      "\r",
      "[Stage 17:>(11 + 13) / 24][Stage 18:> (0 + 24) / 24][Stage 19:>  (0 + 3) / 24]\r"
     ]
    },
    {
     "name": "stderr",
     "output_type": "stream",
     "text": [
      "\r",
      "[Stage 21:=>(18 + 6) / 24][Stage 22:> (0 + 24) / 24][Stage 23:>  (0 + 2) / 24]\r"
     ]
    },
    {
     "name": "stderr",
     "output_type": "stream",
     "text": [
      "\r",
      "[Stage 23:=>(17 + 7) / 24][Stage 24:>(10 + 14) / 24][Stage 25:> (0 + 24) / 24]\r",
      "\r",
      "[Stage 28:>(10 + 14) / 24][Stage 29:> (0 + 18) / 24][Stage 30:>  (0 + 0) / 24]\r"
     ]
    },
    {
     "name": "stderr",
     "output_type": "stream",
     "text": [
      "\r",
      "[Stage 31:=>(22 + 2) / 24][Stage 32:> (5 + 19) / 24][Stage 33:> (0 + 11) / 24]\r",
      "\r",
      "[Stage 36:> (8 + 16) / 24][Stage 37:> (0 + 16) / 24][Stage 38:>  (0 + 0) / 24]\r"
     ]
    },
    {
     "name": "stderr",
     "output_type": "stream",
     "text": [
      "\r",
      "[Stage 40:=>(18 + 6) / 24][Stage 41:> (1 + 23) / 24][Stage 42:>  (0 + 3) / 24]\r",
      "\r",
      "[Stage 44:=>(23 + 1) / 24][Stage 45:> (2 + 22) / 24][Stage 46:>  (0 + 9) / 24]\r"
     ]
    },
    {
     "name": "stderr",
     "output_type": "stream",
     "text": [
      "\r",
      "[Stage 49:> (5 + 19) / 24][Stage 50:> (0 + 15) / 24][Stage 51:>  (0 + 0) / 24]\r",
      "\r",
      "[Stage 53:=>(16 + 8) / 24][Stage 54:> (0 + 24) / 24][Stage 55:>  (0 + 0) / 24]\r"
     ]
    },
    {
     "name": "stderr",
     "output_type": "stream",
     "text": [
      "\r",
      "[Stage 58:>(10 + 14) / 24][Stage 59:> (0 + 18) / 24][Stage 60:>  (0 + 0) / 24]\r",
      "\r",
      "[Stage 63:> (7 + 17) / 24][Stage 64:> (0 + 15) / 24][Stage 65:>  (0 + 0) / 24]\r"
     ]
    },
    {
     "name": "stderr",
     "output_type": "stream",
     "text": [
      "\r",
      "[Stage 68:> (8 + 16) / 24][Stage 69:> (0 + 16) / 24][Stage 70:>  (0 + 0) / 24]\r",
      "\r",
      "[Stage 72:=>(20 + 4) / 24][Stage 73:> (0 + 24) / 24][Stage 74:>  (0 + 4) / 24]\r"
     ]
    },
    {
     "name": "stderr",
     "output_type": "stream",
     "text": [
      "\r",
      "[Stage 77:>(11 + 13) / 24][Stage 78:> (0 + 19) / 24][Stage 79:>  (0 + 0) / 24]\r",
      "\r",
      "[Stage 81:=>(16 + 8) / 24][Stage 82:> (0 + 24) / 24][Stage 83:>  (0 + 0) / 24]\r"
     ]
    },
    {
     "name": "stderr",
     "output_type": "stream",
     "text": [
      "\r",
      "[Stage 86:> (3 + 21) / 24][Stage 87:> (0 + 11) / 24][Stage 88:>  (0 + 0) / 24]\r",
      "\r",
      "[Stage 90:=>(23 + 1) / 24][Stage 91:> (6 + 18) / 24][Stage 92:> (0 + 13) / 24]\r"
     ]
    },
    {
     "name": "stderr",
     "output_type": "stream",
     "text": [
      "\r",
      "[Stage 95:=>(18 + 6) / 24][Stage 96:> (0 + 24) / 24][Stage 97:>  (0 + 2) / 24]\r",
      "\r",
      "[Stage 100:>(16 + 8) / 24][Stage 101:>(0 + 24) / 24][Stage 102:> (0 + 0) / 24]\r"
     ]
    },
    {
     "name": "stderr",
     "output_type": "stream",
     "text": [
      "\r",
      "[Stage 104:>(19 + 5) / 24][Stage 105:>(1 + 23) / 24][Stage 106:> (0 + 4) / 24]\r",
      "\r",
      "[Stage 109:(11 + 13) / 24][Stage 110:>(0 + 19) / 24][Stage 111:> (0 + 0) / 24]\r"
     ]
    },
    {
     "name": "stderr",
     "output_type": "stream",
     "text": [
      "\r",
      "[Stage 114:>(1 + 23) / 24][Stage 115:>(0 + 10) / 24][Stage 116:> (0 + 0) / 24]\r",
      "\r",
      "[Stage 118:>(17 + 7) / 24][Stage 119:>(0 + 24) / 24][Stage 120:> (0 + 1) / 24]\r"
     ]
    },
    {
     "name": "stderr",
     "output_type": "stream",
     "text": [
      "\r",
      "[Stage 123:>(20 + 4) / 24][Stage 124:>(0 + 24) / 24][Stage 125:> (0 + 4) / 24]\r",
      "\r",
      "[Stage 128:>(21 + 3) / 24][Stage 129:>(0 + 24) / 24][Stage 130:> (0 + 5) / 24]\r"
     ]
    },
    {
     "name": "stderr",
     "output_type": "stream",
     "text": [
      "\r",
      "[Stage 133:>(9 + 15) / 24][Stage 134:>(0 + 17) / 24][Stage 135:> (0 + 0) / 24]\r",
      "\r",
      "[Stage 138:(10 + 14) / 24][Stage 139:>(0 + 18) / 24][Stage 140:> (0 + 0) / 24]\r"
     ]
    },
    {
     "name": "stderr",
     "output_type": "stream",
     "text": [
      "\r",
      "[Stage 143:>(1 + 23) / 24][Stage 144:> (0 + 9) / 24][Stage 145:> (0 + 0) / 24]\r"
     ]
    },
    {
     "name": "stdout",
     "output_type": "stream",
     "text": [
      "+------+-------------------+------------------+------------------+------------------+------------------+----------+----------+--------------+-----------------------+--------------------+-------------------+----------+--------------------+\n",
      "|ticker|               data|          abertura|              alta|             baixa|        fechamento|    volume|dividendos|desdobramentos|fechamento_mes_anterior|       valor_retorno|porcentagem_retorno|  dt_ptcao|          dthr_igtao|\n",
      "+------+-------------------+------------------+------------------+------------------+------------------+----------+----------+--------------+-----------------------+--------------------+-------------------+----------+--------------------+\n",
      "|  GOOG|2014-09-01 01:00:00|28.481803374091676|29.708535876366245| 28.30050828595755|28.756237030029297| 670345396|       0.0|           0.0|                   NULL|                NULL|               NULL|2024-08-27|2024-08-27 17:08:...|\n",
      "|  GOOG|2014-10-01 01:00:00| 28.68899903589852|28.937533662601638|25.306644182167823|27.845775604248047|1043268450|       0.0|           0.0|     28.756237030029297|   -0.91046142578125|-3.1661354885567325|2024-08-27|2024-08-27 17:08:...|\n",
      "|  GOOG|2014-11-01 01:00:00| 27.66746860970765|27.787003449401357|26.401388478709386|26.986614227294922| 570413781|       0.0|           0.0|     27.845775604248047|  -0.859161376953125|-3.0854280705402743|2024-08-27|2024-08-27 17:08:...|\n",
      "|  GOOG|2014-12-01 02:00:00| 26.84068214745019| 26.96569629086728|24.355341610889628|26.218101501464844| 917297545|       0.0|           0.0|     26.986614227294922| -0.7685127258300781| -2.847755258800808|2024-08-27|2024-08-27 17:08:...|\n",
      "|  GOOG|2015-01-01 02:00:00|26.348096327028568|27.003548973256287| 24.28361967805154|26.622529983520508|1004562476|       0.0|           0.0|     26.218101501464844| 0.40442848205566406| 1.5425544142968097|2024-08-27|2024-08-27 17:08:...|\n",
      "|  GOOG|2015-02-01 02:00:00|26.483569156902654|  28.1261854108508|25.827120119968107|27.811906814575195| 651908915|       0.0|           0.0|     26.622529983520508|  1.1893768310546875|  4.467557485298799|2024-08-27|2024-08-27 17:08:...|\n",
      "|  GOOG|2015-03-01 02:00:00| 27.91799481783108|28.783630780140932| 27.10565247306527|27.293920516967773| 772972385|       0.0|           0.0|     27.811906814575195| -0.5179862976074219|-1.8624623657086479|2024-08-27|2024-08-27 17:08:...|\n",
      "|  GOOG|2015-04-01 01:00:00|27.323803416182226|28.446440629500295|25.949644255825522|26.836462020874023| 847552576|       0.0|     1.0027455|     27.293920516967773|   -0.45745849609375|-1.6760453882371438|2024-08-27|2024-08-27 17:08:...|\n",
      "|  GOOG|2015-05-01 01:00:00|26.890899059885736|27.178571812763263| 26.02463627859909|26.575258255004883| 637318000|       0.0|           0.0|     26.836462020874023| -0.2612037658691406|-0.9733166975064383|2024-08-27|2024-08-27 17:08:...|\n",
      "|  GOOG|2015-06-01 01:00:00|26.808992181419363|27.156097028529647|25.995417209269156| 25.99591636657715| 686410000|       0.0|           0.0|     26.575258255004883| -0.5793418884277344|-2.1800047354897396|2024-08-27|2024-08-27 17:08:...|\n",
      "|  GOOG|2015-07-01 01:00:00|26.206678148516428| 33.89343050262056|25.729721888136268|31.244945526123047|1266380000|       0.0|           0.0|      25.99591636657715|   5.249029159545898| 20.191745063061347|2024-08-27|2024-08-27 17:08:...|\n",
      "|  GOOG|2015-08-01 01:00:00| 31.23146007409526| 33.70664215164081|28.220386887928466|30.877363204956055|1074348000|       0.0|           0.0|     31.244945526123047| -0.3675823211669922|-1.1764537110799782|2024-08-27|2024-08-27 17:08:...|\n",
      "|  GOOG|2015-09-01 01:00:00| 30.08376611446178| 32.50800558197995| 29.43550363893344| 30.38642120361328| 959100000|       0.0|           0.0|     30.877363204956055|-0.49094200134277344|-1.5899738526376939|2024-08-27|2024-08-27 17:08:...|\n",
      "|  GOOG|2015-10-01 01:00:00|30.383925254187847| 36.45851172659417|29.958408879072067| 35.50010299682617| 988772000|       0.0|           0.0|      30.38642120361328|   5.113681793212891| 16.828838641270522|2024-08-27|2024-08-27 17:08:...|\n",
      "|  GOOG|2015-11-01 01:00:00|35.512588174655455| 38.09205021477804| 35.25238242651977| 37.08779525756836| 678696000|       0.0|           0.0|      35.50010299682617|  1.5876922607421875|  4.472359589728887|2024-08-27|2024-08-27 17:08:...|\n",
      "|  GOOG|2015-12-01 02:00:00|37.313039218678014| 38.95467241817517| 36.16734359393251| 37.90087127685547| 862006000|       0.0|           0.0|      37.08779525756836|  0.8130760192871094|  2.192300765360778|2024-08-27|2024-08-27 17:08:...|\n",
      "|  GOOG|2016-01-01 02:00:00| 37.10777379736624|37.557259242292645| 33.62473408397156| 37.10527420043945| 931224000|       0.0|           0.0|      37.90087127685547| -0.7955970764160156| -2.099152472259535|2024-08-27|2024-08-27 17:08:...|\n",
      "|  GOOG|2016-02-01 02:00:00| 37.48034659497787|39.448607681940295| 33.11531502015918| 34.84884262084961|1287340000|       0.0|           0.0|      37.10527420043945| -2.2564315795898438| -6.081161312542247|2024-08-27|2024-08-27 17:08:...|\n",
      "|  GOOG|2016-03-01 02:00:00|35.141009428297735| 37.85092680443063| 34.22804691113099|37.205162048339844| 834848000|       0.0|           0.0|      34.84884262084961|  2.3563194274902344|  6.761542852733017|2024-08-27|2024-08-27 17:08:...|\n",
      "|  GOOG|2016-04-01 01:00:00|36.888022480614865| 38.45124219486116| 34.41084191982546|34.611114501953125| 843080000|       0.0|           0.0|     37.205162048339844| -2.5940475463867188| -6.972278586010002|2024-08-27|2024-08-27 17:08:...|\n",
      "+------+-------------------+------------------+------------------+------------------+------------------+----------+----------+--------------+-----------------------+--------------------+-------------------+----------+--------------------+\n",
      "only showing top 20 rows\n",
      "\n"
     ]
    },
    {
     "name": "stderr",
     "output_type": "stream",
     "text": [
      "24/08/27 20:08:09 WARN DAGScheduler: Broadcasting large task binary with size 2.7 MiB\n",
      "\r",
      "                                                                                \r"
     ]
    }
   ],
   "source": [
    "historical_data = obter_dados_historicos(df_tickers, start_date_str, end_date_str)\n",
    "df_retorno_mensal = retorno_mensal(historical_data)\n",
    "\n",
    "# Mostrar o DataFrame final\n",
    "df_retorno_mensal.show()"
   ]
  },
  {
   "cell_type": "markdown",
   "id": "b4e2d9ba",
   "metadata": {
    "papermill": {
     "duration": 0.006632,
     "end_time": "2024-08-27T20:08:09.380261",
     "exception": false,
     "start_time": "2024-08-27T20:08:09.373629",
     "status": "completed"
    },
    "tags": []
   },
   "source": [
    "# dimensões gerais \n",
    "\n",
    "2. **Criação dos DataFrames**:\n",
    "   - **Tabela Geral** (`df_financeira`): Contém informações gerais da empresa, como setor, indústria, número de empregados, localização e resumo das atividades.\n",
    "   - **Tabela Financeira** (`df_financeira`): Contém dados financeiros da empresa, como capitalização de mercado, receita, lucro líquido, EBITDA, dívida total, entre outros.\n",
    "   - **Tabela de Mercado** (`df_mercado`): Inclui dados relacionados ao mercado, como preço atual, preço de abertura, volume de negociação, beta, entre outros.\n",
    "   - **Tabela de Dividendos** (`df_dividendos`): Contém informações sobre dividendos, incluindo taxa de dividendos, data ex-dividendo e índice de distribuição.\n",
    "   - **Tabela de Valuation** (`df_valuation`): Inclui dados de valuation da empresa, como índices P/E (Price to Earnings), P/B (Price to Book) e PEG (Price/Earnings to Growth).\n",
    "   - **Tabela de Retorno Mensal** (`df_retorno_mensal`): Retorno mensal da ação com base em preço da ação, dividendos e percentual"
   ]
  },
  {
   "cell_type": "code",
   "execution_count": 12,
   "id": "8c9ef375",
   "metadata": {
    "execution": {
     "iopub.execute_input": "2024-08-27T20:08:09.394881Z",
     "iopub.status.busy": "2024-08-27T20:08:09.394428Z",
     "iopub.status.idle": "2024-08-27T20:08:09.409260Z",
     "shell.execute_reply": "2024-08-27T20:08:09.408666Z"
    },
    "jupyter": {
     "source_hidden": true
    },
    "papermill": {
     "duration": 0.023254,
     "end_time": "2024-08-27T20:08:09.410290",
     "exception": false,
     "start_time": "2024-08-27T20:08:09.387036",
     "status": "completed"
    },
    "tags": []
   },
   "outputs": [],
   "source": [
    "from pyspark.sql.functions import from_unixtime, col\n",
    "\n",
    "def criar_tabelas_spark(tickers):\n",
    "    if isinstance(tickers, str):\n",
    "        tickers = (tickers,)\n",
    "    \n",
    "    # Esquema para a tabela geral\n",
    "    schema_geral = StructType([\n",
    "        StructField('ticker', StringType(), False),\n",
    "        StructField('setor', StringType(), True),\n",
    "        StructField('industria', StringType(), True),\n",
    "        StructField('funcionarios', IntegerType(), True),\n",
    "        StructField('cidade', StringType(), True),\n",
    "        StructField('estado', StringType(), True),\n",
    "        StructField('pais', StringType(), True),\n",
    "        StructField('website', StringType(), True),\n",
    "        StructField('resumo_negocios', StringType(), True),\n",
    "        StructField('exchange', StringType(), True)\n",
    "    ])\n",
    "    \n",
    "    # Esquema para a tabela financeira\n",
    "    schema_financeira = StructType([\n",
    "        StructField('ticker', StringType(), False),\n",
    "        StructField('capitalizacao_mercado', LongType(), True),\n",
    "        StructField('valor_empresa', LongType(), True),\n",
    "        StructField('receita', LongType(), True),\n",
    "        StructField('lucros_brutos', LongType(), True),\n",
    "        StructField('lucro_liquido', LongType(), True),\n",
    "        StructField('ebitda', LongType(), True),\n",
    "        StructField('divida_total', LongType(), True),\n",
    "        StructField('caixa_total', LongType(), True),\n",
    "        StructField('dividend_yield', DoubleType(), True)\n",
    "    ])\n",
    "    \n",
    "    # Esquema para a tabela de mercado\n",
    "    schema_mercado = StructType([\n",
    "        StructField('ticker', StringType(), False),\n",
    "        StructField('preco_atual', DoubleType(), True),\n",
    "        StructField('fechamento_anterior', DoubleType(), True),\n",
    "        StructField('abertura', DoubleType(), True),\n",
    "        StructField('minimo_dia', DoubleType(), True),\n",
    "        StructField('maximo_dia', DoubleType(), True),\n",
    "        StructField('minimo_52_semanas', DoubleType(), True),\n",
    "        StructField('maximo_52_semanas', DoubleType(), True),\n",
    "        StructField('volume', LongType(), True),\n",
    "        StructField('volume_medio', LongType(), True),\n",
    "        StructField('beta', DoubleType(), True)\n",
    "    ])\n",
    "    \n",
    "    # Esquema para a tabela de dividendos\n",
    "    schema_dividendos = StructType([\n",
    "        StructField('ticker', StringType(), False),\n",
    "        StructField('taxa_dividendo', DoubleType(), True),\n",
    "        StructField('data_exdividendo', StringType(), True),  # Temporariamente como StringType\n",
    "        StructField('indice_distribuicao', DoubleType(), True)\n",
    "    ])\n",
    "    \n",
    "    # Esquema para a tabela de valuation\n",
    "    schema_valuation = StructType([\n",
    "        StructField('ticker', StringType(), False),\n",
    "        StructField('pe_forward', DoubleType(), True),\n",
    "        StructField('pe_trailing', DoubleType(), True),\n",
    "        StructField('booking_price', DoubleType(), True),\n",
    "        StructField('peg_ratio', DoubleType(), True)\n",
    "    ])\n",
    "    \n",
    "    # Inicializa as listas de dicionários para cada tabela\n",
    "    geral = []\n",
    "    financeira = []\n",
    "    mercado = []\n",
    "    dividendos = []\n",
    "    valuation = []\n",
    "    \n",
    "    for ticker in tickers:\n",
    "        try:\n",
    "            empresa = yf.Ticker(ticker)\n",
    "            info = empresa.info\n",
    "            \n",
    "            # Filtra e trata valores infinitos\n",
    "            def safe_get(key, default=None):\n",
    "                value = info.get(key)\n",
    "                if isinstance(value, str) and value in ('Infinity', '-Infinity'):\n",
    "                    return default\n",
    "                return value\n",
    "            \n",
    "            # Preencher dados da tabela geral\n",
    "            geral.append({\n",
    "                'ticker': ticker,\n",
    "                'setor': info.get('sector'),\n",
    "                'industria': info.get('industry'),\n",
    "                'funcionarios': info.get('fullTimeEmployees'),\n",
    "                'cidade': info.get('city'),\n",
    "                'estado': info.get('state'),\n",
    "                'pais': info.get('country'),\n",
    "                'website': info.get('website'),\n",
    "                'resumo_negocios': info.get('longBusinessSummary'),\n",
    "                'exchange': info.get('exchange')\n",
    "            })\n",
    "            \n",
    "            # Preencher dados da tabela financeira\n",
    "            financeira.append({\n",
    "                'ticker': ticker,\n",
    "                'capitalizacao_mercado': safe_get('marketCap', 0),\n",
    "                'valor_empresa': safe_get('enterpriseValue', 0),\n",
    "                'receita': safe_get('revenue', 0),\n",
    "                'lucros_brutos': safe_get('grossProfits', 0),\n",
    "                'lucro_liquido': safe_get('netIncome', 0),\n",
    "                'ebitda': safe_get('ebitda', 0),\n",
    "                'divida_total': safe_get('totalDebt', 0),\n",
    "                'caixa_total': safe_get('totalCash', 0),\n",
    "                'dividend_yield': safe_get('dividendYield', 0.0)\n",
    "            })\n",
    "            \n",
    "            # Preencher dados da tabela de mercado\n",
    "            mercado.append({\n",
    "                'ticker': ticker,\n",
    "                'preco_atual': safe_get('currentPrice', 0.0),\n",
    "                'fechamento_anterior': safe_get('previousClose', 0.0),\n",
    "                'abertura': safe_get('open', 0.0),\n",
    "                'minimo_dia': safe_get('dayLow', 0.0),\n",
    "                'maximo_dia': safe_get('dayHigh', 0.0),\n",
    "                'minimo_52_semanas': safe_get('fiftyTwoWeekLow', 0.0),\n",
    "                'maximo_52_semanas': safe_get('fiftyTwoWeekHigh', 0.0),\n",
    "                'volume': safe_get('volume', 0),\n",
    "                'volume_medio': safe_get('averageVolume', 0),\n",
    "                'beta': safe_get('beta', 0.0)\n",
    "            })\n",
    "            \n",
    "            # Preencher dados da tabela de dividendos\n",
    "            dividendos.append({\n",
    "                'ticker': ticker,\n",
    "                'taxa_dividendo': safe_get('dividendRate', 0.0),\n",
    "                'data_exdividendo': safe_get('exDividendDate'),  # Unix timestamp\n",
    "                'indice_distribuicao': safe_get('payoutRatio', 0.0)\n",
    "            })\n",
    "            \n",
    "            # Preencher dados da tabela de valuation\n",
    "            valuation.append({\n",
    "                'ticker': ticker,\n",
    "                'pe_forward': safe_get('forwardPE', 0.0),\n",
    "                'pe_trailing': safe_get('trailingPE', 0.0),\n",
    "                'booking_price': safe_get('priceToBook', 0.0),\n",
    "                'peg_ratio': safe_get('pegRatio', 0.0)\n",
    "            })\n",
    "            \n",
    "        except Exception as e:\n",
    "            print(f\"Erro ao processar o ticker {ticker}: {e}\")\n",
    "    \n",
    "    # Criar DataFrames Spark com esquema definido\n",
    "    df_geral = spark.createDataFrame(geral, schema=schema_geral)\n",
    "    df_financeira = spark.createDataFrame(financeira, schema=schema_financeira)\n",
    "    df_mercado = spark.createDataFrame(mercado, schema=schema_mercado)\n",
    "    df_dividendos = spark.createDataFrame(dividendos, schema=schema_dividendos)\n",
    "    df_valuation = spark.createDataFrame(valuation, schema=schema_valuation)\n",
    "\n",
    "    # Converter Unix timestamp para data legível\n",
    "    df_dividendos = df_dividendos.withColumn('data_exdividendo', from_unixtime(col('data_exdividendo').cast('bigint')))\n",
    "    \n",
    "    # Adicionar colunas de timestamp\n",
    "    df_geral = df_geral.withColumn('dt_ptcao', date_format(current_timestamp(), 'yyyy-MM-dd'))\n",
    "    df_geral = df_geral.withColumn('dthr_igtao', current_timestamp())\n",
    "\n",
    "    df_financeira = df_financeira.withColumn('dt_ptcao', date_format(current_timestamp(), 'yyyy-MM-dd'))\n",
    "    df_financeira = df_financeira.withColumn('dthr_igtao', current_timestamp())\n",
    "\n",
    "    df_mercado = df_mercado.withColumn('dt_ptcao', date_format(current_timestamp(), 'yyyy-MM-dd'))\n",
    "    df_mercado = df_mercado.withColumn('dthr_igtao', current_timestamp())\n",
    "\n",
    "    df_dividendos = df_dividendos.withColumn('dt_ptcao', date_format(current_timestamp(), 'yyyy-MM-dd'))\n",
    "    df_dividendos = df_dividendos.withColumn('dthr_igtao', current_timestamp())\n",
    "\n",
    "    df_valuation = df_valuation.withColumn('dt_ptcao', date_format(current_timestamp(), 'yyyy-MM-dd'))\n",
    "    df_valuation = df_valuation.withColumn('dthr_igtao', current_timestamp())\n",
    "    \n",
    "    return df_geral, df_financeira, df_mercado, df_dividendos, df_valuation\n"
   ]
  },
  {
   "cell_type": "code",
   "execution_count": 13,
   "id": "888e5dfc",
   "metadata": {
    "execution": {
     "iopub.execute_input": "2024-08-27T20:08:09.424154Z",
     "iopub.status.busy": "2024-08-27T20:08:09.423622Z",
     "iopub.status.idle": "2024-08-27T20:09:15.971279Z",
     "shell.execute_reply": "2024-08-27T20:09:15.970637Z"
    },
    "jupyter": {
     "source_hidden": true
    },
    "papermill": {
     "duration": 66.555804,
     "end_time": "2024-08-27T20:09:15.972640",
     "exception": false,
     "start_time": "2024-08-27T20:08:09.416836",
     "status": "completed"
    },
    "tags": []
   },
   "outputs": [
    {
     "name": "stdout",
     "output_type": "stream",
     "text": [
      "+------+--------------------+--------------------+------------+-------------+------+-------------+--------------------+--------------------+--------+----------+--------------------+\n",
      "|ticker|               setor|           industria|funcionarios|       cidade|estado|         pais|             website|     resumo_negocios|exchange|  dt_ptcao|          dthr_igtao|\n",
      "+------+--------------------+--------------------+------------+-------------+------+-------------+--------------------+--------------------+--------+----------+--------------------+\n",
      "|  AAPL|          Technology|Consumer Electronics|      161000|    Cupertino|    CA|United States|https://www.apple...|Apple Inc. design...|     NMS|2024-08-27|2024-08-27 17:09:...|\n",
      "|  NVDA|          Technology|      Semiconductors|       29600|  Santa Clara|    CA|United States|https://www.nvidi...|NVIDIA Corporatio...|     NMS|2024-08-27|2024-08-27 17:09:...|\n",
      "|  MSFT|          Technology|Software - Infras...|      228000|      Redmond|    WA|United States|https://www.micro...|Microsoft Corpora...|     NMS|2024-08-27|2024-08-27 17:09:...|\n",
      "| GOOGL|Communication Ser...|Internet Content ...|      179582|Mountain View|    CA|United States|     https://abc.xyz|Alphabet Inc. off...|     NMS|2024-08-27|2024-08-27 17:09:...|\n",
      "|  GOOG|Communication Ser...|Internet Content ...|      179582|Mountain View|    CA|United States|     https://abc.xyz|Alphabet Inc. off...|     NMS|2024-08-27|2024-08-27 17:09:...|\n",
      "|  AMZN|   Consumer Cyclical|     Internet Retail|     1525000|      Seattle|    WA|United States|https://www.about...|Amazon.com, Inc. ...|     NMS|2024-08-27|2024-08-27 17:09:...|\n",
      "|  META|Communication Ser...|Internet Content ...|       70799|   Menlo Park|    CA|United States|https://investor....|Meta Platforms, I...|     NMS|2024-08-27|2024-08-27 17:09:...|\n",
      "|   TSM|          Technology|      Semiconductors|        NULL| Hsinchu City|  NULL|       Taiwan|https://www.tsmc.com|Taiwan Semiconduc...|     NYQ|2024-08-27|2024-08-27 17:09:...|\n",
      "|  AVGO|          Technology|      Semiconductors|       20000|    Palo Alto|    CA|United States|https://www.broad...|Broadcom Inc. des...|     NMS|2024-08-27|2024-08-27 17:09:...|\n",
      "|  TSLA|   Consumer Cyclical|  Auto Manufacturers|      140473|       Austin|    TX|United States|https://www.tesla...|Tesla, Inc. desig...|     NMS|2024-08-27|2024-08-27 17:09:...|\n",
      "|   WMT|  Consumer Defensive|     Discount Stores|     2100000|  Bentonville|    AR|United States|https://corporate...|Walmart Inc. enga...|     NYQ|2024-08-27|2024-08-27 17:09:...|\n",
      "|   XOM|              Energy|Oil & Gas Integrated|       62000|       Spring|    TX|United States|https://corporate...|Exxon Mobil Corpo...|     NYQ|2024-08-27|2024-08-27 17:09:...|\n",
      "|    KO|  Consumer Defensive|Beverages - Non-A...|       79100|      Atlanta|    GA|United States|https://www.coca-...|The Coca-Cola Com...|     NYQ|2024-08-27|2024-08-27 17:09:...|\n",
      "|   BAC|  Financial Services| Banks - Diversified|      212000|    Charlotte|    NC|United States|https://www.banko...|Bank of America C...|     NYQ|2024-08-27|2024-08-27 17:09:...|\n",
      "|   AMD|          Technology|      Semiconductors|       26000|  Santa Clara|    CA|United States| https://www.amd.com|Advanced Micro De...|     NMS|2024-08-27|2024-08-27 17:09:...|\n",
      "|  CSCO|          Technology|Communication Equ...|        NULL|     San Jose|    CA|United States|https://www.cisco...|Cisco Systems, In...|     NMS|2024-08-27|2024-08-27 17:09:...|\n",
      "|  BABA|   Consumer Cyclical|     Internet Retail|      198162|     Hangzhou|  NULL|        China|https://www.aliba...|Alibaba Group Hol...|     NYQ|2024-08-27|2024-08-27 17:09:...|\n",
      "|  QCOM|          Technology|      Semiconductors|       50000|    San Diego|    CA|United States|https://www.qualc...|QUALCOMM Incorpor...|     NMS|2024-08-27|2024-08-27 17:09:...|\n",
      "|   WFC|  Financial Services| Banks - Diversified|      222544|San Francisco|    CA|United States|https://www.wells...|Wells Fargo & Com...|     NYQ|2024-08-27|2024-08-27 17:09:...|\n",
      "|    VZ|Communication Ser...|    Telecom Services|      103900|     New York|    NY|United States|https://www.veriz...|Verizon Communica...|     NYQ|2024-08-27|2024-08-27 17:09:...|\n",
      "+------+--------------------+--------------------+------------+-------------+------+-------------+--------------------+--------------------+--------+----------+--------------------+\n",
      "only showing top 20 rows\n",
      "\n",
      "+------+---------------------+-------------+-------+-------------+-------------+-------------+-------------+-------------+--------------+----------+--------------------+\n",
      "|ticker|capitalizacao_mercado|valor_empresa|receita|lucros_brutos|lucro_liquido|       ebitda| divida_total|  caixa_total|dividend_yield|  dt_ptcao|          dthr_igtao|\n",
      "+------+---------------------+-------------+-------+-------------+-------------+-------------+-------------+-------------+--------------+----------+--------------------+\n",
      "|  AAPL|        3466990977024|3493578932224|   NULL|         NULL|         NULL| 131781001216| 101304000512|  61801000960|        0.0044|2024-08-27|2024-08-27 17:09:...|\n",
      "|  NVDA|        3155962101760|3090714984448|   NULL|         NULL|         NULL|  49274998784|  11237000192|  31438000128|  2.9999999E-4|2024-08-27|2024-08-27 17:09:...|\n",
      "|  MSFT|        3076089184256|3095807918080|   NULL|         NULL|         NULL| 129433001984|  97851998208|  75531001856|        0.0073|2024-08-27|2024-08-27 17:09:...|\n",
      "| GOOGL|        2037338472448|1973423570944|   NULL|         NULL|         NULL| 115478003712|  28718999552| 100724998144|  0.0047999998|2024-08-27|2024-08-27 17:09:...|\n",
      "|  GOOG|        2035942162432|1995212324864|   NULL|         NULL|         NULL| 115478003712|  28718999552| 100724998144|  0.0047999998|2024-08-27|2024-08-27 17:09:...|\n",
      "|  AMZN|        1816998182912|1910722002944|   NULL|         NULL|         NULL| 104049000448| 157841997824|  89091997696|          NULL|2024-08-27|2024-08-27 17:09:...|\n",
      "|  META|        1313229504512|1298249154560|   NULL|         NULL|         NULL|  74774003712|  37990998016|  58080002048|        0.0038|2024-08-27|2024-08-27 17:09:...|\n",
      "|   TSM|         884589658112|3392186351616|   NULL|         NULL|         NULL|1638037716992|1028265410560|2048635568128|        0.0146|2024-08-27|2024-08-27 17:09:...|\n",
      "|  AVGO|         751251030016|  94982823936|   NULL|         NULL|         NULL|  21290999808|  40456998912|  11105000448|   0.013099999|2024-08-27|2024-08-27 17:09:...|\n",
      "|  TSLA|         668350611456| 663719313408|   NULL|         NULL|         NULL|  12177999872|  12515000320|  30720000000|          NULL|2024-08-27|2024-08-27 17:09:...|\n",
      "|   WMT|         612354686976| 670428299264|   NULL|         NULL|         NULL|  40933998592|  61304999936|   8810999808|        0.0109|2024-08-27|2024-08-27 17:09:...|\n",
      "|   XOM|         522921050112| 552439250944|   NULL|         NULL|         NULL|  70902996992|  43185999872|  26460000256|         0.032|2024-08-27|2024-08-27 17:09:...|\n",
      "|    KO|         308112588800| 332932055040|   NULL|         NULL|         NULL|  14906999808|  45063000064|  19000000512|        0.0274|2024-08-27|2024-08-27 17:09:...|\n",
      "|   BAC|         307822526464| 247072325632|   NULL|         NULL|         NULL|         NULL| 761600016384| 850838028288|   0.026099999|2024-08-27|2024-08-27 17:09:...|\n",
      "|   AMD|         243581239296| 239661088768|   NULL|         NULL|         NULL|   4046000128|   2244999936|   5340000256|          NULL|2024-08-27|2024-08-27 17:09:...|\n",
      "|  CSCO|         204300943360| 217182224384|   NULL|         NULL|         NULL|  15511000064|  30961999872|  17853999104|        0.0315|2024-08-27|2024-08-27 17:09:...|\n",
      "|  BABA|         199520075776|1461935276032|   NULL|         NULL|         NULL| 176592994304| 240122003456| 448923992064|   0.024500001|2024-08-27|2024-08-27 17:09:...|\n",
      "|  QCOM|         193758019584| 190333861888|   NULL|         NULL|         NULL|  11564999680|  14554000384|  13031999488|        0.0201|2024-08-27|2024-08-27 17:09:...|\n",
      "|   WFC|         191564185600| 140656852992|   NULL|         NULL|         NULL|         NULL| 318618992640| 389349998592|   0.028199999|2024-08-27|2024-08-27 17:09:...|\n",
      "|    VZ|         174526693376| 351862980608|   NULL|         NULL|         NULL|  48111001600| 178329993216|   2487000064|        0.0641|2024-08-27|2024-08-27 17:09:...|\n",
      "+------+---------------------+-------------+-------+-------------+-------------+-------------+-------------+-------------+--------------+----------+--------------------+\n",
      "only showing top 20 rows\n",
      "\n"
     ]
    },
    {
     "name": "stdout",
     "output_type": "stream",
     "text": [
      "+------+-----------+-------------------+--------+----------+----------+-----------------+-----------------+---------+------------+-----+----------+--------------------+\n",
      "|ticker|preco_atual|fechamento_anterior|abertura|minimo_dia|maximo_dia|minimo_52_semanas|maximo_52_semanas|   volume|volume_medio| beta|  dt_ptcao|          dthr_igtao|\n",
      "+------+-----------+-------------------+--------+----------+----------+-----------------+-----------------+---------+------------+-----+----------+--------------------+\n",
      "|  AAPL|     228.03|             227.18|  226.21|    224.89|   228.846|           164.08|           237.23| 33154213|    64305695|1.244|2024-08-27|2024-08-27 17:09:...|\n",
      "|  NVDA|      128.3|             126.46|  125.03|    123.88|     129.2|            39.23|           140.76|290027464|   360717912| 1.68|2024-08-27|2024-08-27 17:09:...|\n",
      "|  MSFT|     413.84|             413.49|   413.0|    410.25|    414.36|           309.45|           468.35| 11680076|    20200739|0.894|2024-08-27|2024-08-27 17:09:...|\n",
      "| GOOGL|     164.68|             166.16|  165.76|    164.46|  166.4426|           120.21|           191.75| 11577446|    24959522|1.046|2024-08-27|2024-08-27 17:09:...|\n",
      "|  GOOG|     166.38|             167.93|  167.93|    166.16|   168.245|           121.46|           193.31| 13157355|    17597174|1.046|2024-08-27|2024-08-27 17:09:...|\n",
      "|  AMZN|     173.12|              175.5|  174.15|    172.25|    174.89|           118.35|            201.2| 29024176|    42439109|1.155|2024-08-27|2024-08-27 17:09:...|\n",
      "|  META|      519.1|             521.12|  519.08|    515.31|     524.0|            279.4|           544.23|  6216121|    14103466|1.212|2024-08-27|2024-08-27 17:09:...|\n",
      "|   TSM|     170.57|             169.07|  166.42|    165.04|    170.58|            84.02|           193.47|  8673022|    17646490|1.289|2024-08-27|2024-08-27 17:09:...|\n",
      "|  AVGO|     161.39|             159.62|   157.5|    155.83|    162.03|           79.509|          185.162| 16424160|    37237376|1.188|2024-08-27|2024-08-27 17:09:...|\n",
      "|  TSLA|     209.21|             213.21|  213.22|  206.9401|    215.65|            138.8|           278.98| 61650346|    94895804|2.313|2024-08-27|2024-08-27 17:09:...|\n",
      "|   WMT|      76.13|              76.03|   76.45|   75.7701|    76.445|         49.84667|           76.445|  9352591|    15571649|0.501|2024-08-27|2024-08-27 17:09:...|\n",
      "|   XOM|      117.7|             118.81|  118.96|     117.4|  119.4095|            95.77|           123.75|  7316001|    14873974|0.893|2024-08-27|2024-08-27 17:09:...|\n",
      "|    KO|      71.49|              70.84|   71.32|     71.05|     71.53|            51.55|            71.53| 12516345|    12358203|0.592|2024-08-27|2024-08-27 17:09:...|\n",
      "|   BAC|      39.67|              39.92|    40.0|     39.61|    40.121|            24.96|            44.44| 27337791|    39197449|1.356|2024-08-27|2024-08-27 17:09:...|\n",
      "|   AMD|      150.5|             149.99|   150.1|  148.4401|     151.7|            93.12|            227.3| 33956119|    54078498|1.681|2024-08-27|2024-08-27 17:09:...|\n",
      "|  CSCO|      50.71|              50.79|   50.64|      50.4|     50.84|             44.5|            58.19|  9986975|    20611171|0.844|2024-08-27|2024-08-27 17:09:...|\n",
      "|  BABA|    81.4637|              81.76|   82.27|     81.27|     82.64|            66.63|            96.68|  8516375|    13351417|0.318|2024-08-27|2024-08-27 17:09:...|\n",
      "|  QCOM|     173.93|             169.49|  169.17|   168.265|    174.44|           104.33|           230.63|  6442835|    10175176|1.272|2024-08-27|2024-08-27 17:09:...|\n",
      "|   WFC|      56.28|              56.72|   56.71|    56.155|     56.92|            38.39|            62.55|  5777111|    17201603|1.168|2024-08-27|2024-08-27 17:09:...|\n",
      "|    VZ|      41.46|              41.49|   41.55|    41.175|     41.64|            30.14|            43.42|  7147959|    17313373|0.393|2024-08-27|2024-08-27 17:09:...|\n",
      "+------+-----------+-------------------+--------+----------+----------+-----------------+-----------------+---------+------------+-----+----------+--------------------+\n",
      "only showing top 20 rows\n",
      "\n",
      "+------+--------------+-------------------+-------------------+----------+--------------------+\n",
      "|ticker|taxa_dividendo|   data_exdividendo|indice_distribuicao|  dt_ptcao|          dthr_igtao|\n",
      "+------+--------------+-------------------+-------------------+----------+--------------------+\n",
      "|  AAPL|           1.0|2024-08-11 21:00:00|             0.1476|2024-08-27|2024-08-27 17:09:...|\n",
      "|  NVDA|          0.04|2024-06-10 21:00:00|             0.0094|2024-08-27|2024-08-27 17:09:...|\n",
      "|  MSFT|           3.0|2024-08-14 21:00:00|             0.2483|2024-08-27|2024-08-27 17:09:...|\n",
      "| GOOGL|           0.8|2024-09-08 21:00:00|             0.0287|2024-08-27|2024-08-27 17:09:...|\n",
      "|  GOOG|           0.8|2024-09-08 21:00:00|             0.0287|2024-08-27|2024-08-27 17:09:...|\n",
      "|  AMZN|          NULL|               NULL|               NULL|2024-08-27|2024-08-27 17:09:...|\n",
      "|  META|           2.0|2024-06-13 21:00:00|             0.0512|2024-08-27|2024-08-27 17:09:...|\n",
      "|   TSM|          2.47|2024-09-11 21:00:00|         0.35900003|2024-08-27|2024-08-27 17:09:...|\n",
      "|  AVGO|           2.1|2024-06-23 21:00:00|         0.84879994|2024-08-27|2024-08-27 17:09:...|\n",
      "|  TSLA|          NULL|               NULL|               NULL|2024-08-27|2024-08-27 17:09:...|\n",
      "|   WMT|          0.83|2024-12-11 21:00:00|             0.4141|2024-08-27|2024-08-27 17:09:...|\n",
      "|   XOM|           3.8|2024-08-14 21:00:00|         0.44979998|2024-08-27|2024-08-27 17:09:...|\n",
      "|    KO|          1.94|2024-09-12 21:00:00|             0.7683|2024-08-27|2024-08-27 17:09:...|\n",
      "|   BAC|          1.04|2024-09-05 21:00:00|             0.3368|2024-08-27|2024-08-27 17:09:...|\n",
      "|   AMD|          NULL|1995-04-26 21:00:00|               NULL|2024-08-27|2024-08-27 17:09:...|\n",
      "|  CSCO|           1.6|2024-10-01 21:00:00|              0.622|2024-08-27|2024-08-27 17:09:...|\n",
      "|  BABA|           2.0|2024-06-12 21:00:00|             0.5142|2024-08-27|2024-08-27 17:09:...|\n",
      "|  QCOM|           3.4|2024-09-04 21:00:00|             0.4156|2024-08-27|2024-08-27 17:09:...|\n",
      "|   WFC|           1.6|2024-08-08 21:00:00|             0.2869|2024-08-27|2024-08-27 17:09:...|\n",
      "|    VZ|          2.66|2024-07-09 21:00:00|                1.0|2024-08-27|2024-08-27 17:09:...|\n",
      "+------+--------------+-------------------+-------------------+----------+--------------------+\n",
      "only showing top 20 rows\n",
      "\n"
     ]
    },
    {
     "name": "stdout",
     "output_type": "stream",
     "text": [
      "+------+----------+-----------+-------------+---------+----------+--------------------+\n",
      "|ticker|pe_forward|pe_trailing|booking_price|peg_ratio|  dt_ptcao|          dthr_igtao|\n",
      "+------+----------+-----------+-------------+---------+----------+--------------------+\n",
      "|  AAPL| 30.485294|   34.70776|    52.037884|     3.05|2024-08-27|2024-08-27 17:09:...|\n",
      "|  NVDA|  33.67454|   75.02924|     64.21422|      1.0|2024-08-27|2024-08-27 17:09:...|\n",
      "|  MSFT| 27.172686|  35.100933|     11.45895|     2.17|2024-08-27|2024-08-27 17:09:...|\n",
      "| GOOGL| 18.907003|   23.66092|     6.746968|     1.06|2024-08-27|2024-08-27 17:09:...|\n",
      "|  GOOG| 19.102182|  23.870876|    6.8166175|     1.07|2024-08-27|2024-08-27 17:09:...|\n",
      "|  AMZN| 29.796902|   41.31742|    7.6805673|     1.22|2024-08-27|2024-08-27 17:09:...|\n",
      "|  META| 21.539417|  26.566015|    8.3877325|     1.81|2024-08-27|2024-08-27 17:09:...|\n",
      "|   TSM|  20.62515|  30.296625|    1.1665059|     1.18|2024-08-27|2024-08-27 17:09:...|\n",
      "|  AVGO| 26.676033|   69.56466|    2.7252157|     1.88|2024-08-27|2024-08-27 17:09:...|\n",
      "|  TSLA|  66.41587|  58.766857|     10.05334|    30.63|2024-08-27|2024-08-27 17:09:...|\n",
      "|   WMT|  27.98897|  39.651043|      7.25393|     3.05|2024-08-27|2024-08-27 17:09:...|\n",
      "|   XOM|   12.8074|  14.078948|    1.9482561|     2.67|2024-08-27|2024-08-27 17:09:...|\n",
      "|    KO| 23.594059|  29.060974|       11.915|      4.1|2024-08-27|2024-08-27 17:09:...|\n",
      "|   BAC| 10.809263|  13.919298|    1.1536671|     1.25|2024-08-27|2024-08-27 17:09:...|\n",
      "|   AMD|  27.71639|  179.16667|     4.307014|     1.34|2024-08-27|2024-08-27 17:09:...|\n",
      "|  CSCO| 13.069587|  19.964567|     4.482454|     3.52|2024-08-27|2024-08-27 17:09:...|\n",
      "|  BABA|  8.270426|  20.781555|   0.20651954|    52.93|2024-08-27|2024-08-27 17:09:...|\n",
      "|  QCOM| 15.641187|  22.270166|     7.867999|     1.53|2024-08-27|2024-08-27 17:09:...|\n",
      "|   WFC| 10.214155|  11.532786|    1.1982371|     1.31|2024-08-27|2024-08-27 17:09:...|\n",
      "|    VZ|  8.858974|  15.586465|    1.8147596|    11.07|2024-08-27|2024-08-27 17:09:...|\n",
      "+------+----------+-----------+-------------+---------+----------+--------------------+\n",
      "only showing top 20 rows\n",
      "\n"
     ]
    }
   ],
   "source": [
    "df_geral, df_financeira, df_mercado, df_dividendos, df_valuation = criar_tabelas_spark(df_tickers)\n",
    "# Exibir os DataFrames\n",
    "df_geral.show()\n",
    "df_financeira.show()\n",
    "df_mercado.show()\n",
    "df_dividendos.show()\n",
    "df_valuation.show()"
   ]
  },
  {
   "cell_type": "code",
   "execution_count": 14,
   "id": "8e565471",
   "metadata": {
    "execution": {
     "iopub.execute_input": "2024-08-27T20:09:15.987210Z",
     "iopub.status.busy": "2024-08-27T20:09:15.986892Z",
     "iopub.status.idle": "2024-08-27T20:09:15.991702Z",
     "shell.execute_reply": "2024-08-27T20:09:15.991184Z"
    },
    "jupyter": {
     "source_hidden": true
    },
    "papermill": {
     "duration": 0.013107,
     "end_time": "2024-08-27T20:09:15.992646",
     "exception": false,
     "start_time": "2024-08-27T20:09:15.979539",
     "status": "completed"
    },
    "tags": []
   },
   "outputs": [
    {
     "name": "stdout",
     "output_type": "stream",
     "text": [
      "root\n",
      " |-- ticker: string (nullable = true)\n",
      " |-- data: timestamp (nullable = true)\n",
      " |-- abertura: double (nullable = true)\n",
      " |-- alta: double (nullable = true)\n",
      " |-- baixa: double (nullable = true)\n",
      " |-- fechamento: double (nullable = true)\n",
      " |-- volume: long (nullable = true)\n",
      " |-- dividendos: double (nullable = true)\n",
      " |-- desdobramentos: double (nullable = true)\n",
      " |-- fechamento_mes_anterior: double (nullable = true)\n",
      " |-- valor_retorno: double (nullable = true)\n",
      " |-- porcentagem_retorno: double (nullable = true)\n",
      " |-- dt_ptcao: string (nullable = false)\n",
      " |-- dthr_igtao: timestamp (nullable = false)\n",
      "\n",
      "root\n",
      " |-- ticker: string (nullable = true)\n",
      " |-- nome_curto: string (nullable = true)\n",
      " |-- nome_exibicao: string (nullable = true)\n",
      " |-- preco_mercado_regular: double (nullable = true)\n",
      " |-- mudanca_mercado_regular: double (nullable = true)\n",
      " |-- mudanca_percentual_mercado_regular: double (nullable = true)\n",
      " |-- volume_mercado_regular: long (nullable = true)\n",
      " |-- capitalizacao_mercado: long (nullable = true)\n",
      " |-- nome_exchange_completa: string (nullable = true)\n",
      " |-- nome_fonte_cotacao: string (nullable = true)\n",
      " |-- dt_ptcao: string (nullable = false)\n",
      " |-- dthr_igtao: timestamp (nullable = false)\n",
      "\n",
      "root\n",
      " |-- ticker: string (nullable = false)\n",
      " |-- setor: string (nullable = true)\n",
      " |-- industria: string (nullable = true)\n",
      " |-- funcionarios: integer (nullable = true)\n",
      " |-- cidade: string (nullable = true)\n",
      " |-- estado: string (nullable = true)\n",
      " |-- pais: string (nullable = true)\n",
      " |-- website: string (nullable = true)\n",
      " |-- resumo_negocios: string (nullable = true)\n",
      " |-- exchange: string (nullable = true)\n",
      " |-- dt_ptcao: string (nullable = false)\n",
      " |-- dthr_igtao: timestamp (nullable = false)\n",
      "\n",
      "root\n",
      " |-- ticker: string (nullable = false)\n",
      " |-- capitalizacao_mercado: long (nullable = true)\n",
      " |-- valor_empresa: long (nullable = true)\n",
      " |-- receita: long (nullable = true)\n",
      " |-- lucros_brutos: long (nullable = true)\n",
      " |-- lucro_liquido: long (nullable = true)\n",
      " |-- ebitda: long (nullable = true)\n",
      " |-- divida_total: long (nullable = true)\n",
      " |-- caixa_total: long (nullable = true)\n",
      " |-- dividend_yield: double (nullable = true)\n",
      " |-- dt_ptcao: string (nullable = false)\n",
      " |-- dthr_igtao: timestamp (nullable = false)\n",
      "\n",
      "root\n",
      " |-- ticker: string (nullable = false)\n",
      " |-- preco_atual: double (nullable = true)\n",
      " |-- fechamento_anterior: double (nullable = true)\n",
      " |-- abertura: double (nullable = true)\n",
      " |-- minimo_dia: double (nullable = true)\n",
      " |-- maximo_dia: double (nullable = true)\n",
      " |-- minimo_52_semanas: double (nullable = true)\n",
      " |-- maximo_52_semanas: double (nullable = true)\n",
      " |-- volume: long (nullable = true)\n",
      " |-- volume_medio: long (nullable = true)\n",
      " |-- beta: double (nullable = true)\n",
      " |-- dt_ptcao: string (nullable = false)\n",
      " |-- dthr_igtao: timestamp (nullable = false)\n",
      "\n",
      "root\n",
      " |-- ticker: string (nullable = false)\n",
      " |-- taxa_dividendo: double (nullable = true)\n",
      " |-- data_exdividendo: string (nullable = true)\n",
      " |-- indice_distribuicao: double (nullable = true)\n",
      " |-- dt_ptcao: string (nullable = false)\n",
      " |-- dthr_igtao: timestamp (nullable = false)\n",
      "\n",
      "root\n",
      " |-- ticker: string (nullable = false)\n",
      " |-- pe_forward: double (nullable = true)\n",
      " |-- pe_trailing: double (nullable = true)\n",
      " |-- booking_price: double (nullable = true)\n",
      " |-- peg_ratio: double (nullable = true)\n",
      " |-- dt_ptcao: string (nullable = false)\n",
      " |-- dthr_igtao: timestamp (nullable = false)\n",
      "\n"
     ]
    }
   ],
   "source": [
    "df_retorno_mensal.printSchema()\n",
    "df_ativas.printSchema()\n",
    "df_geral.printSchema()\n",
    "df_financeira.printSchema()\n",
    "df_mercado.printSchema()\n",
    "df_dividendos.printSchema()\n",
    "df_valuation.printSchema()\n"
   ]
  },
  {
   "cell_type": "markdown",
   "id": "b6da2d7d",
   "metadata": {
    "papermill": {
     "duration": 0.007257,
     "end_time": "2024-08-27T20:09:16.007220",
     "exception": false,
     "start_time": "2024-08-27T20:09:15.999963",
     "status": "completed"
    },
    "tags": []
   },
   "source": [
    "## postgree upsert"
   ]
  },
  {
   "cell_type": "code",
   "execution_count": 15,
   "id": "a5e89235",
   "metadata": {
    "execution": {
     "iopub.execute_input": "2024-08-27T20:09:16.022148Z",
     "iopub.status.busy": "2024-08-27T20:09:16.021598Z",
     "iopub.status.idle": "2024-08-27T20:09:16.025094Z",
     "shell.execute_reply": "2024-08-27T20:09:16.024455Z"
    },
    "jupyter": {
     "source_hidden": true
    },
    "papermill": {
     "duration": 0.011998,
     "end_time": "2024-08-27T20:09:16.026038",
     "exception": false,
     "start_time": "2024-08-27T20:09:16.014040",
     "status": "completed"
    },
    "tags": []
   },
   "outputs": [],
   "source": [
    "SRVNAME = \"postgres\"\n",
    "USER = \"airflow\"\n",
    "PASSWORD = \"airflow\"\n",
    "HOST = \"postgres\"\n",
    "PORT = \"5432\"\n",
    "DBNAME = \"paxpedb\"\n",
    "\n",
    "# Parâmetros de conexão usando as variáveis\n",
    "conn_params = {\n",
    "    'dbname': DBNAME,\n",
    "    'user': USER,\n",
    "    'password': PASSWORD,\n",
    "    'host': HOST,\n",
    "    'port': PORT\n",
    "}"
   ]
  },
  {
   "cell_type": "code",
   "execution_count": 16,
   "id": "12f22ce3",
   "metadata": {
    "execution": {
     "iopub.execute_input": "2024-08-27T20:09:16.041066Z",
     "iopub.status.busy": "2024-08-27T20:09:16.040770Z",
     "iopub.status.idle": "2024-08-27T20:09:16.046328Z",
     "shell.execute_reply": "2024-08-27T20:09:16.045819Z"
    },
    "jupyter": {
     "source_hidden": true
    },
    "papermill": {
     "duration": 0.013637,
     "end_time": "2024-08-27T20:09:16.047153",
     "exception": false,
     "start_time": "2024-08-27T20:09:16.033516",
     "status": "completed"
    },
    "tags": []
   },
   "outputs": [
    {
     "name": "stdout",
     "output_type": "stream",
     "text": [
      "Conexão com postgres sucedida\n"
     ]
    }
   ],
   "source": [
    "def test_connection():\n",
    "    try:\n",
    "        # Connect to the PostgreSQL server using variables\n",
    "        connection = psycopg2.connect(\n",
    "            dbname=SRVNAME,\n",
    "            user=USER,\n",
    "            password=PASSWORD,\n",
    "            host=HOST,\n",
    "            port=PORT\n",
    "        )\n",
    "        print(\"Conexão com postgres sucedida\")\n",
    "        return True\n",
    "    except OperationalError as e:\n",
    "        print(f\"Error: {e}\")\n",
    "        return False\n",
    "    finally:\n",
    "        if connection:\n",
    "            connection.close()\n",
    "if not test_connection():\n",
    "    sys.exit(1)"
   ]
  },
  {
   "cell_type": "markdown",
   "id": "519ef62e",
   "metadata": {
    "papermill": {
     "duration": 0.021667,
     "end_time": "2024-08-27T20:09:16.075471",
     "exception": false,
     "start_time": "2024-08-27T20:09:16.053804",
     "status": "completed"
    },
    "tags": []
   },
   "source": [
    "### para inserir no postgres é necessário\n",
    "> 1. alimentar as tabelas em stage --- temp_nometabela\n",
    "> 2. realizar o upsert comparando as tabelas"
   ]
  },
  {
   "cell_type": "code",
   "execution_count": 17,
   "id": "ffe26430",
   "metadata": {
    "execution": {
     "iopub.execute_input": "2024-08-27T20:09:16.092576Z",
     "iopub.status.busy": "2024-08-27T20:09:16.092200Z",
     "iopub.status.idle": "2024-08-27T20:09:16.095456Z",
     "shell.execute_reply": "2024-08-27T20:09:16.094929Z"
    },
    "jupyter": {
     "source_hidden": true
    },
    "papermill": {
     "duration": 0.012334,
     "end_time": "2024-08-27T20:09:16.096388",
     "exception": false,
     "start_time": "2024-08-27T20:09:16.084054",
     "status": "completed"
    },
    "tags": []
   },
   "outputs": [],
   "source": [
    "def write_to_postgres(df, table_name, schema_name=\"paxpestg\"):\n",
    "    df.write \\\n",
    "        .format(\"jdbc\") \\\n",
    "        .option(\"url\", f\"jdbc:postgresql://{HOST}:{PORT}/{DBNAME}\") \\\n",
    "        .option(\"dbtable\", f\"{schema_name}.{table_name}\") \\\n",
    "        .option(\"user\", USER) \\\n",
    "        .option(\"password\", PASSWORD) \\\n",
    "        .option(\"driver\", \"org.postgresql.Driver\") \\\n",
    "        .mode(\"overwrite\") \\\n",
    "        .save()"
   ]
  },
  {
   "cell_type": "code",
   "execution_count": 18,
   "id": "ce6e8c56",
   "metadata": {
    "execution": {
     "iopub.execute_input": "2024-08-27T20:09:16.112409Z",
     "iopub.status.busy": "2024-08-27T20:09:16.112127Z",
     "iopub.status.idle": "2024-08-27T20:09:25.868879Z",
     "shell.execute_reply": "2024-08-27T20:09:25.868243Z"
    },
    "jupyter": {
     "source_hidden": true
    },
    "papermill": {
     "duration": 9.766647,
     "end_time": "2024-08-27T20:09:25.870040",
     "exception": false,
     "start_time": "2024-08-27T20:09:16.103393",
     "status": "completed"
    },
    "tags": []
   },
   "outputs": [
    {
     "name": "stderr",
     "output_type": "stream",
     "text": [
      "\r",
      "[Stage 311:>(15 + 9) / 24][Stage 312:>(0 + 24) / 24][Stage 313:> (0 + 0) / 24]\r",
      "\r",
      "[Stage 315:>(15 + 9) / 24][Stage 316:>(0 + 23) / 24][Stage 317:> (0 + 0) / 24]\r"
     ]
    },
    {
     "name": "stderr",
     "output_type": "stream",
     "text": [
      "\r",
      "[Stage 319:>(19 + 5) / 24][Stage 320:>(0 + 24) / 24][Stage 321:> (0 + 3) / 24]\r"
     ]
    },
    {
     "name": "stderr",
     "output_type": "stream",
     "text": [
      "\r",
      "[Stage 324:>(6 + 18) / 24][Stage 325:>(0 + 14) / 24][Stage 326:> (0 + 0) / 24]\r",
      "\r",
      "[Stage 328:>(21 + 3) / 24][Stage 329:>(0 + 24) / 24][Stage 330:> (0 + 5) / 24]\r"
     ]
    },
    {
     "name": "stderr",
     "output_type": "stream",
     "text": [
      "\r",
      "[Stage 333:>(4 + 20) / 24][Stage 334:>(0 + 12) / 24][Stage 335:> (0 + 0) / 24]\r",
      "\r",
      "[Stage 338:>(3 + 21) / 24][Stage 339:>(0 + 11) / 24][Stage 340:> (0 + 0) / 24]\r"
     ]
    },
    {
     "name": "stderr",
     "output_type": "stream",
     "text": [
      "\r",
      "[Stage 342:>(23 + 1) / 24][Stage 343:>(0 + 24) / 24][Stage 344:> (0 + 7) / 24]\r",
      "\r",
      "[Stage 347:>(17 + 7) / 24][Stage 348:>(0 + 24) / 24][Stage 349:> (0 + 2) / 24]\r"
     ]
    },
    {
     "name": "stderr",
     "output_type": "stream",
     "text": [
      "\r",
      "[Stage 352:(13 + 11) / 24][Stage 353:>(0 + 21) / 24][Stage 354:> (0 + 0) / 24]\r",
      "\r",
      "[Stage 356:>(23 + 1) / 24][Stage 357:>(9 + 15) / 24][Stage 358:>(0 + 18) / 24]\r"
     ]
    },
    {
     "name": "stderr",
     "output_type": "stream",
     "text": [
      "\r",
      "[Stage 361:>(23 + 1) / 24][Stage 362:>(0 + 24) / 24][Stage 363:>(0 + 10) / 24]\r",
      "\r",
      "[Stage 367:>(0 + 24) / 24][Stage 368:> (0 + 8) / 24][Stage 369:> (0 + 0) / 24]\r"
     ]
    },
    {
     "name": "stderr",
     "output_type": "stream",
     "text": [
      "\r",
      "[Stage 371:>(6 + 18) / 24][Stage 372:>(1 + 15) / 24][Stage 373:> (0 + 0) / 24]\r",
      "\r",
      "[Stage 376:>(15 + 9) / 24][Stage 377:>(0 + 23) / 24][Stage 378:> (0 + 0) / 24]\r"
     ]
    },
    {
     "name": "stderr",
     "output_type": "stream",
     "text": [
      "\r",
      "[Stage 381:>(5 + 19) / 24][Stage 382:>(0 + 13) / 24][Stage 383:> (0 + 0) / 24]\r",
      "\r",
      "[Stage 385:>(20 + 4) / 24][Stage 386:>(0 + 24) / 24][Stage 387:> (0 + 5) / 24]\r"
     ]
    },
    {
     "name": "stderr",
     "output_type": "stream",
     "text": [
      "\r",
      "[Stage 391:>(5 + 19) / 24][Stage 392:>(0 + 13) / 24][Stage 393:> (0 + 0) / 24]\r",
      "\r",
      "[Stage 396:(10 + 14) / 24][Stage 397:>(0 + 20) / 24][Stage 398:> (0 + 0) / 24]\r"
     ]
    },
    {
     "name": "stderr",
     "output_type": "stream",
     "text": [
      "\r",
      "[Stage 401:>(0 + 24) / 24][Stage 402:> (0 + 8) / 24][Stage 403:> (0 + 0) / 24]\r",
      "\r",
      "[Stage 405:>(7 + 17) / 24][Stage 406:>(0 + 16) / 24][Stage 407:> (0 + 0) / 24]\r"
     ]
    },
    {
     "name": "stderr",
     "output_type": "stream",
     "text": [
      "\r",
      "[Stage 409:>(18 + 6) / 24][Stage 410:>(3 + 21) / 24][Stage 411:> (0 + 5) / 24]\r",
      "\r",
      "[Stage 414:(11 + 13) / 24][Stage 415:>(0 + 22) / 24][Stage 416:> (0 + 0) / 24]\r"
     ]
    },
    {
     "name": "stderr",
     "output_type": "stream",
     "text": [
      "\r",
      "[Stage 419:>(5 + 19) / 24][Stage 420:>(0 + 13) / 24][Stage 421:> (0 + 0) / 24]\r",
      "\r",
      "[Stage 423:(13 + 11) / 24][Stage 424:>(0 + 21) / 24][Stage 425:> (0 + 0) / 24]\r"
     ]
    },
    {
     "name": "stderr",
     "output_type": "stream",
     "text": [
      "\r",
      "[Stage 428:(13 + 11) / 24][Stage 429:>(0 + 22) / 24][Stage 430:> (0 + 0) / 24]\r",
      "\r",
      "[Stage 433:>(6 + 18) / 24][Stage 434:>(0 + 14) / 24][Stage 435:> (0 + 0) / 24]\r"
     ]
    },
    {
     "name": "stderr",
     "output_type": "stream",
     "text": [
      "\r",
      "[Stage 437:===========>   (19 + 5) / 24][Stage 438:>              (0 + 24) / 24]\r"
     ]
    },
    {
     "name": "stderr",
     "output_type": "stream",
     "text": [
      "24/08/27 20:09:24 WARN DAGScheduler: Broadcasting large task binary with size 2.7 MiB\n"
     ]
    },
    {
     "name": "stderr",
     "output_type": "stream",
     "text": [
      "\r",
      "[Stage 580:====================>                                (54 + 32) / 141]\r"
     ]
    },
    {
     "name": "stderr",
     "output_type": "stream",
     "text": [
      "\r",
      "[Stage 580:================================>                    (86 + 35) / 141]\r",
      "\r",
      "                                                                                \r"
     ]
    }
   ],
   "source": [
    "# Write DataFrames to temporary tables\n",
    "write_to_postgres(df_retorno_mensal, \"temp_retorno_mensal\")\n",
    "write_to_postgres(df_ativas, \"temp_captacao_mercado\")\n",
    "write_to_postgres(df_geral, \"temp_cadastro\")\n",
    "write_to_postgres(df_financeira, \"temp_financas\")\n",
    "write_to_postgres(df_mercado, \"temp_mercado\")\n",
    "write_to_postgres(df_dividendos, \"temp_dividendos\")\n",
    "write_to_postgres(df_valuation, \"temp_valuation\")"
   ]
  },
  {
   "cell_type": "code",
   "execution_count": 19,
   "id": "af41e4d9",
   "metadata": {
    "execution": {
     "iopub.execute_input": "2024-08-27T20:09:25.887371Z",
     "iopub.status.busy": "2024-08-27T20:09:25.886893Z",
     "iopub.status.idle": "2024-08-27T20:09:25.892625Z",
     "shell.execute_reply": "2024-08-27T20:09:25.891980Z"
    },
    "jupyter": {
     "source_hidden": true
    },
    "papermill": {
     "duration": 0.015871,
     "end_time": "2024-08-27T20:09:25.893863",
     "exception": false,
     "start_time": "2024-08-27T20:09:25.877992",
     "status": "completed"
    },
    "tags": []
   },
   "outputs": [],
   "source": [
    "def upsert_data(table_name, temp_table_name, key_columns):\n",
    "    try:\n",
    "        # Conectar ao PostgreSQL\n",
    "        connection = psycopg2.connect(**conn_params)\n",
    "        cursor = connection.cursor()\n",
    "        \n",
    "        # Definir esquemas\n",
    "        schema_fact = \"paxpe\"\n",
    "        schema_stg = \"paxpestg\"\n",
    "        \n",
    "        # Obter todas as colunas da tabela\n",
    "        cursor.execute(f\"\"\"\n",
    "        SELECT column_name\n",
    "        FROM information_schema.columns\n",
    "        WHERE table_schema = '{schema_fact}' AND table_name = '{table_name}'\n",
    "        \"\"\")\n",
    "        #tupla com lista de colunas da base\n",
    "        all_columns = [row[0] for row in cursor.fetchall()]\n",
    "\n",
    "        # Identificar colunas não chave para remoção da analise upsert\n",
    "        non_key_columns = [col for col in all_columns if col not in key_columns]\n",
    "        \n",
    "        # Construir a declaração SQL de atualização col1,col2\n",
    "        key_columns_str = ', '.join(key_columns)\n",
    "        update_set = ', '.join([\n",
    "            f\"{col} = EXCLUDED.{col}\" \n",
    "            for col in non_key_columns\n",
    "        ])\n",
    "        \n",
    "        sql = f\"\"\"\n",
    "        INSERT INTO {schema_fact}.{table_name} \n",
    "        (SELECT * FROM {schema_stg}.{temp_table_name})\n",
    "        ON CONFLICT ({key_columns_str}) \n",
    "        DO UPDATE SET\n",
    "        {update_set}\n",
    "        WHERE (\n",
    "            SELECT EXISTS (\n",
    "                SELECT 1 \n",
    "                FROM {schema_fact}.{table_name} AS target\n",
    "                JOIN {schema_stg}.{temp_table_name} AS source\n",
    "                ON ({' AND '.join([f\"target.{key} = source.{key}\" for key in key_columns])})\n",
    "                WHERE \n",
    "                { ' OR '.join([f\"target.{col} IS DISTINCT FROM source.{col}\" for col in non_key_columns]) }\n",
    "            )\n",
    "        );\n",
    "        \"\"\"\n",
    "        \n",
    "        # Executar a declaração SQL de upsert\n",
    "        cursor.execute(sql)\n",
    "        connection.commit()\n",
    "        print(f\"Data from {schema_stg}.{temp_table_name} upserted into {schema_fact}.{table_name}.\")\n",
    "    \n",
    "    except Exception as e:\n",
    "        print(f\"Error: {e}\")\n",
    "    \n",
    "    finally:\n",
    "        if connection:\n",
    "            cursor.close()\n",
    "            connection.close()\n"
   ]
  },
  {
   "cell_type": "code",
   "execution_count": 20,
   "id": "e32cfe3b",
   "metadata": {
    "execution": {
     "iopub.execute_input": "2024-08-27T20:09:25.910038Z",
     "iopub.status.busy": "2024-08-27T20:09:25.909772Z",
     "iopub.status.idle": "2024-08-27T20:09:25.913148Z",
     "shell.execute_reply": "2024-08-27T20:09:25.912603Z"
    },
    "jupyter": {
     "source_hidden": true
    },
    "papermill": {
     "duration": 0.0126,
     "end_time": "2024-08-27T20:09:25.914018",
     "exception": false,
     "start_time": "2024-08-27T20:09:25.901418",
     "status": "completed"
    },
    "tags": []
   },
   "outputs": [],
   "source": [
    "# Define key columns for each table\n",
    "key_columns_retorno_mensal = [\"ticker\", \"data\"]\n",
    "key_columns_cadastro = [\"ticker\"]\n",
    "key_columns_cap_mercado = [\"ticker\"]\n",
    "key_columns_financas = [\"ticker\"]\n",
    "key_columns_mercado = [\"ticker\"]\n",
    "key_columns_dividendos = [\"ticker\",\"data_exdividendo\"]\n",
    "key_columns_valuation = [\"ticker\"]"
   ]
  },
  {
   "cell_type": "code",
   "execution_count": 21,
   "id": "f7aedc65",
   "metadata": {
    "execution": {
     "iopub.execute_input": "2024-08-27T20:09:25.930908Z",
     "iopub.status.busy": "2024-08-27T20:09:25.930596Z",
     "iopub.status.idle": "2024-08-27T20:09:26.072763Z",
     "shell.execute_reply": "2024-08-27T20:09:26.072127Z"
    },
    "jupyter": {
     "source_hidden": true
    },
    "papermill": {
     "duration": 0.15152,
     "end_time": "2024-08-27T20:09:26.073882",
     "exception": false,
     "start_time": "2024-08-27T20:09:25.922362",
     "status": "completed"
    },
    "tags": []
   },
   "outputs": [
    {
     "name": "stdout",
     "output_type": "stream",
     "text": [
      "Data from paxpestg.temp_retorno_mensal upserted into paxpe.retorno_mensal.\n",
      "Data from paxpestg.temp_cadastro upserted into paxpe.cadastro.\n",
      "Data from paxpestg.temp_captacao_mercado upserted into paxpe.captacao_mercado.\n",
      "Data from paxpestg.temp_financas upserted into paxpe.financas.\n",
      "Data from paxpestg.temp_mercado upserted into paxpe.mercado.\n",
      "Data from paxpestg.temp_dividendos upserted into paxpe.dividendos.\n",
      "Data from paxpestg.temp_valuation upserted into paxpe.valuation.\n"
     ]
    }
   ],
   "source": [
    "# Perform upsert for each table\n",
    "upsert_data(\"retorno_mensal\", \"temp_retorno_mensal\", key_columns_retorno_mensal)\n",
    "upsert_data(\"cadastro\", \"temp_cadastro\", key_columns_cadastro)\n",
    "upsert_data(\"captacao_mercado\", \"temp_captacao_mercado\", key_columns_cap_mercado)\n",
    "upsert_data(\"financas\", \"temp_financas\", key_columns_financas)\n",
    "upsert_data(\"mercado\", \"temp_mercado\", key_columns_mercado)\n",
    "upsert_data(\"dividendos\", \"temp_dividendos\", key_columns_dividendos)\n",
    "upsert_data(\"valuation\", \"temp_valuation\", key_columns_valuation)"
   ]
  }
 ],
 "metadata": {
  "kernelspec": {
   "display_name": "Python 3",
   "language": "python",
   "name": "python3"
  },
  "language_info": {
   "codemirror_mode": {
    "name": "ipython",
    "version": 3
   },
   "file_extension": ".py",
   "mimetype": "text/x-python",
   "name": "python",
   "nbconvert_exporter": "python",
   "pygments_lexer": "ipython3",
   "version": "3.8.18"
  },
  "papermill": {
   "default_parameters": {},
   "duration": 129.595959,
   "end_time": "2024-08-27T20:09:28.697841",
   "environment_variables": {},
   "exception": null,
   "input_path": "/opt/airflow/dags/utils/paxpe.ipynb",
   "output_path": "/opt/airflow/dags/utils/paxpe_log.ipynb",
   "parameters": {},
   "start_time": "2024-08-27T20:07:19.101882",
   "version": "2.6.0"
  }
 },
 "nbformat": 4,
 "nbformat_minor": 5
}