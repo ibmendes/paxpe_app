{
 "cells": [
  {
   "cell_type": "markdown",
   "id": "38815e90",
   "metadata": {
    "papermill": {
     "duration": 0.00549,
     "end_time": "2025-04-06T15:10:05.142706",
     "exception": false,
     "start_time": "2025-04-06T15:10:05.137216",
     "status": "completed"
    },
    "tags": []
   },
   "source": [
    "# PAXPE - Ingestão de dados para banco de dados SQL do Azure usando serviços do Azure\n",
    "\n",
    "## Visão geral\n",
    "\n",
    "Este notebook demonstra como agendar um script Python para ingerir dados em um Banco de Dados SQL do Postgres, orquestrado pelo airflow.\n",
    "\n",
    "# Documentação do Processo de Criação de Tabelas com Dados do Yahoo Finance\n",
    "\n",
    "## Objetivo\n",
    "O objetivo deste processo é obter dados financeiros, de mercado, dividendos, valuation e informações gerais de empresas listadas na bolsa, utilizando a API do Yahoo Finance. Os dados são coletados para um ou mais tickers e organizados em DataFrames utilizando PySpark para garantir performance e escalabilidade, especialmente ao lidar com uma grande quantidade de tickers.\n",
    "\n",
    "1. **Coleta de Dados**: \n",
    "   - Para cada ticker fornecido, as informações relevantes foram extraídas da API do Yahoo Finance utilizando a biblioteca `yfinance`. Os dados foram organizados em dicionários para posterior conversão em DataFrames.\n",
    "\n",
    "2. **Criação dos DataFrames**:\n",
    "   - **Tabela Geral** (`df_geral`): Contém informações gerais da empresa, como setor, indústria, número de empregados, localização e resumo das atividades.\n",
    "   - **Tabela Financeira** (`df_financeira`): Contém dados financeiros da empresa, como capitalização de mercado, receita, lucro líquido, EBITDA, dívida total, entre outros.\n",
    "   - **Tabela de Mercado** (`df_mercado`): Inclui dados relacionados ao mercado, como preço atual, preço de abertura, volume de negociação, beta, entre outros.\n",
    "   - **Tabela de Dividendos** (`df_dividendos`): Contém informações sobre dividendos, incluindo taxa de dividendos, data ex-dividendo e índice de distribuição.\n",
    "   - **Tabela de Valuation** (`df_valuation`): Inclui dados de valuation da empresa, como índices P/E (Price to Earnings), P/B (Price to Book) e PEG (Price/Earnings to Growth).\n",
    "   - **Tabela de Retorno Mensal** (`df_retorno_mensal`): Retorno mensal da ação com base em preço da ação, dividendos e percentual\n",
    "\n",
    "## Considerações Finais\n",
    "Este processo permite a coleta eficiente e escalável de dados financeiros de várias empresas, facilitando análises complexas em grandes volumes de dados. O uso do PySpark garante que mesmo listas extensas de tickers possam ser processadas rapidamente, gerando tabelas estruturadas e prontas para análise.\n",
    "\n",
    "\n",
    "# Changelog\n",
    "\n",
    "| Responsável | Data       | Change Log                                                                                      |\n",
    "|-------------|------------|--------------------------------------------------------------------------------------------------|\n",
    "| IGOR MENDES | 10-08-24 | Criação do script em spark                   |\n",
    "| IGOR MENDES | 28-08-24 | Criação da logica de upsert com o postgresSQL                |\n",
    "| IGOR MENDES | 20-10-24 | Sprint 3 - adicionando indices a um dataframe               |"
   ]
  },
  {
   "cell_type": "code",
   "execution_count": 1,
   "id": "080d7e0b",
   "metadata": {
    "execution": {
     "iopub.execute_input": "2025-04-06T15:10:05.152542Z",
     "iopub.status.busy": "2025-04-06T15:10:05.152023Z",
     "iopub.status.idle": "2025-04-06T15:10:19.063524Z",
     "shell.execute_reply": "2025-04-06T15:10:19.062908Z"
    },
    "jupyter": {
     "source_hidden": true
    },
    "papermill": {
     "duration": 13.917908,
     "end_time": "2025-04-06T15:10:19.064975",
     "exception": false,
     "start_time": "2025-04-06T15:10:05.147067",
     "status": "completed"
    },
    "tags": []
   },
   "outputs": [
    {
     "name": "stdout",
     "output_type": "stream",
     "text": [
      "Defaulting to user installation because normal site-packages is not writeable\r\n"
     ]
    },
    {
     "name": "stdout",
     "output_type": "stream",
     "text": [
      "Requirement already satisfied: yahoofinance in /home/airflow/.local/lib/python3.8/site-packages (0.0.2)\r\n",
      "Requirement already satisfied: beautifulsoup4>=4.6.3 in /home/airflow/.local/lib/python3.8/site-packages (from yahoofinance) (4.12.2)\r\n",
      "Requirement already satisfied: requests>=2.20.1 in /home/airflow/.local/lib/python3.8/site-packages (from yahoofinance) (2.31.0)\r\n",
      "Requirement already satisfied: pandas>=0.23.4 in /home/airflow/.local/lib/python3.8/site-packages (from yahoofinance) (2.0.3)\r\n",
      "Requirement already satisfied: soupsieve>1.2 in /home/airflow/.local/lib/python3.8/site-packages (from beautifulsoup4>=4.6.3->yahoofinance) (2.5)\r\n"
     ]
    },
    {
     "name": "stdout",
     "output_type": "stream",
     "text": [
      "Requirement already satisfied: tzdata>=2022.1 in /home/airflow/.local/lib/python3.8/site-packages (from pandas>=0.23.4->yahoofinance) (2023.3)\r\n",
      "Requirement already satisfied: numpy>=1.20.3 in /home/airflow/.local/lib/python3.8/site-packages (from pandas>=0.23.4->yahoofinance) (1.24.4)\r\n",
      "Requirement already satisfied: pytz>=2020.1 in /home/airflow/.local/lib/python3.8/site-packages (from pandas>=0.23.4->yahoofinance) (2023.3.post1)\r\n",
      "Requirement already satisfied: python-dateutil>=2.8.2 in /home/airflow/.local/lib/python3.8/site-packages (from pandas>=0.23.4->yahoofinance) (2.8.2)\r\n",
      "Requirement already satisfied: idna<4,>=2.5 in /home/airflow/.local/lib/python3.8/site-packages (from requests>=2.20.1->yahoofinance) (3.4)\r\n",
      "Requirement already satisfied: certifi>=2017.4.17 in /home/airflow/.local/lib/python3.8/site-packages (from requests>=2.20.1->yahoofinance) (2023.7.22)\r\n",
      "Requirement already satisfied: charset-normalizer<4,>=2 in /home/airflow/.local/lib/python3.8/site-packages (from requests>=2.20.1->yahoofinance) (3.3.2)\r\n",
      "Requirement already satisfied: urllib3<3,>=1.21.1 in /home/airflow/.local/lib/python3.8/site-packages (from requests>=2.20.1->yahoofinance) (1.26.18)\r\n",
      "Requirement already satisfied: six>=1.5 in /home/airflow/.local/lib/python3.8/site-packages (from python-dateutil>=2.8.2->pandas>=0.23.4->yahoofinance) (1.16.0)\r\n"
     ]
    },
    {
     "name": "stdout",
     "output_type": "stream",
     "text": [
      "\r\n",
      "\u001b[1m[\u001b[0m\u001b[34;49mnotice\u001b[0m\u001b[1;39;49m]\u001b[0m\u001b[39;49m A new release of pip is available: \u001b[0m\u001b[31;49m23.0.1\u001b[0m\u001b[39;49m -> \u001b[0m\u001b[32;49m25.0.1\u001b[0m\r\n",
      "\u001b[1m[\u001b[0m\u001b[34;49mnotice\u001b[0m\u001b[1;39;49m]\u001b[0m\u001b[39;49m To update, run: \u001b[0m\u001b[32;49mpip install --upgrade pip\u001b[0m\r\n"
     ]
    },
    {
     "name": "stdout",
     "output_type": "stream",
     "text": [
      "Defaulting to user installation because normal site-packages is not writeable\r\n"
     ]
    },
    {
     "name": "stdout",
     "output_type": "stream",
     "text": [
      "Requirement already satisfied: yahooquery in /home/airflow/.local/lib/python3.8/site-packages (2.3.7)\r\n",
      "Requirement already satisfied: beautifulsoup4<5.0.0,>=4.12.2 in /home/airflow/.local/lib/python3.8/site-packages (from yahooquery) (4.12.2)\r\n",
      "Requirement already satisfied: requests-futures<2.0.0,>=1.0.1 in /home/airflow/.local/lib/python3.8/site-packages (from yahooquery) (1.0.1)\r\n",
      "Requirement already satisfied: tqdm<5.0.0,>=4.65.0 in /home/airflow/.local/lib/python3.8/site-packages (from yahooquery) (4.66.5)\r\n",
      "Requirement already satisfied: lxml<5.0.0,>=4.9.3 in /home/airflow/.local/lib/python3.8/site-packages (from yahooquery) (4.9.3)\r\n",
      "Requirement already satisfied: requests<3.0.0,>=2.31.0 in /home/airflow/.local/lib/python3.8/site-packages (from yahooquery) (2.31.0)\r\n",
      "Requirement already satisfied: pandas<3.0.0,>=2.0.3 in /home/airflow/.local/lib/python3.8/site-packages (from yahooquery) (2.0.3)\r\n",
      "Requirement already satisfied: soupsieve>1.2 in /home/airflow/.local/lib/python3.8/site-packages (from beautifulsoup4<5.0.0,>=4.12.2->yahooquery) (2.5)\r\n"
     ]
    },
    {
     "name": "stdout",
     "output_type": "stream",
     "text": [
      "Requirement already satisfied: tzdata>=2022.1 in /home/airflow/.local/lib/python3.8/site-packages (from pandas<3.0.0,>=2.0.3->yahooquery) (2023.3)\r\n",
      "Requirement already satisfied: pytz>=2020.1 in /home/airflow/.local/lib/python3.8/site-packages (from pandas<3.0.0,>=2.0.3->yahooquery) (2023.3.post1)\r\n",
      "Requirement already satisfied: python-dateutil>=2.8.2 in /home/airflow/.local/lib/python3.8/site-packages (from pandas<3.0.0,>=2.0.3->yahooquery) (2.8.2)\r\n",
      "Requirement already satisfied: numpy>=1.20.3 in /home/airflow/.local/lib/python3.8/site-packages (from pandas<3.0.0,>=2.0.3->yahooquery) (1.24.4)\r\n",
      "Requirement already satisfied: urllib3<3,>=1.21.1 in /home/airflow/.local/lib/python3.8/site-packages (from requests<3.0.0,>=2.31.0->yahooquery) (1.26.18)\r\n",
      "Requirement already satisfied: certifi>=2017.4.17 in /home/airflow/.local/lib/python3.8/site-packages (from requests<3.0.0,>=2.31.0->yahooquery) (2023.7.22)\r\n",
      "Requirement already satisfied: charset-normalizer<4,>=2 in /home/airflow/.local/lib/python3.8/site-packages (from requests<3.0.0,>=2.31.0->yahooquery) (3.3.2)\r\n",
      "Requirement already satisfied: idna<4,>=2.5 in /home/airflow/.local/lib/python3.8/site-packages (from requests<3.0.0,>=2.31.0->yahooquery) (3.4)\r\n"
     ]
    },
    {
     "name": "stdout",
     "output_type": "stream",
     "text": [
      "Requirement already satisfied: six>=1.5 in /home/airflow/.local/lib/python3.8/site-packages (from python-dateutil>=2.8.2->pandas<3.0.0,>=2.0.3->yahooquery) (1.16.0)\r\n"
     ]
    },
    {
     "name": "stdout",
     "output_type": "stream",
     "text": [
      "\r\n",
      "\u001b[1m[\u001b[0m\u001b[34;49mnotice\u001b[0m\u001b[1;39;49m]\u001b[0m\u001b[39;49m A new release of pip is available: \u001b[0m\u001b[31;49m23.0.1\u001b[0m\u001b[39;49m -> \u001b[0m\u001b[32;49m25.0.1\u001b[0m\r\n",
      "\u001b[1m[\u001b[0m\u001b[34;49mnotice\u001b[0m\u001b[1;39;49m]\u001b[0m\u001b[39;49m To update, run: \u001b[0m\u001b[32;49mpip install --upgrade pip\u001b[0m\r\n"
     ]
    },
    {
     "name": "stdout",
     "output_type": "stream",
     "text": [
      "Defaulting to user installation because normal site-packages is not writeable\r\n"
     ]
    },
    {
     "name": "stdout",
     "output_type": "stream",
     "text": [
      "Requirement already satisfied: yfinance in /home/airflow/.local/lib/python3.8/site-packages (0.2.55)\r\n"
     ]
    },
    {
     "name": "stdout",
     "output_type": "stream",
     "text": [
      "Requirement already satisfied: pytz>=2022.5 in /home/airflow/.local/lib/python3.8/site-packages (from yfinance) (2023.3.post1)\r\n",
      "Requirement already satisfied: platformdirs>=2.0.0 in /home/airflow/.local/lib/python3.8/site-packages (from yfinance) (3.11.0)\r\n",
      "Requirement already satisfied: beautifulsoup4>=4.11.1 in /home/airflow/.local/lib/python3.8/site-packages (from yfinance) (4.12.2)\r\n",
      "Requirement already satisfied: multitasking>=0.0.7 in /home/airflow/.local/lib/python3.8/site-packages (from yfinance) (0.0.11)\r\n",
      "Requirement already satisfied: pandas>=1.3.0 in /home/airflow/.local/lib/python3.8/site-packages (from yfinance) (2.0.3)\r\n",
      "Requirement already satisfied: frozendict>=2.3.4 in /home/airflow/.local/lib/python3.8/site-packages (from yfinance) (2.4.4)\r\n",
      "Requirement already satisfied: numpy>=1.16.5 in /home/airflow/.local/lib/python3.8/site-packages (from yfinance) (1.24.4)\r\n",
      "Requirement already satisfied: peewee>=3.16.2 in /home/airflow/.local/lib/python3.8/site-packages (from yfinance) (3.17.6)\r\n",
      "Requirement already satisfied: requests>=2.31 in /home/airflow/.local/lib/python3.8/site-packages (from yfinance) (2.31.0)\r\n",
      "Requirement already satisfied: soupsieve>1.2 in /home/airflow/.local/lib/python3.8/site-packages (from beautifulsoup4>=4.11.1->yfinance) (2.5)\r\n"
     ]
    },
    {
     "name": "stdout",
     "output_type": "stream",
     "text": [
      "Requirement already satisfied: tzdata>=2022.1 in /home/airflow/.local/lib/python3.8/site-packages (from pandas>=1.3.0->yfinance) (2023.3)\r\n",
      "Requirement already satisfied: python-dateutil>=2.8.2 in /home/airflow/.local/lib/python3.8/site-packages (from pandas>=1.3.0->yfinance) (2.8.2)\r\n",
      "Requirement already satisfied: idna<4,>=2.5 in /home/airflow/.local/lib/python3.8/site-packages (from requests>=2.31->yfinance) (3.4)\r\n",
      "Requirement already satisfied: charset-normalizer<4,>=2 in /home/airflow/.local/lib/python3.8/site-packages (from requests>=2.31->yfinance) (3.3.2)\r\n",
      "Requirement already satisfied: certifi>=2017.4.17 in /home/airflow/.local/lib/python3.8/site-packages (from requests>=2.31->yfinance) (2023.7.22)\r\n",
      "Requirement already satisfied: urllib3<3,>=1.21.1 in /home/airflow/.local/lib/python3.8/site-packages (from requests>=2.31->yfinance) (1.26.18)\r\n",
      "Requirement already satisfied: six>=1.5 in /home/airflow/.local/lib/python3.8/site-packages (from python-dateutil>=2.8.2->pandas>=1.3.0->yfinance) (1.16.0)\r\n"
     ]
    },
    {
     "name": "stdout",
     "output_type": "stream",
     "text": [
      "\r\n",
      "\u001b[1m[\u001b[0m\u001b[34;49mnotice\u001b[0m\u001b[1;39;49m]\u001b[0m\u001b[39;49m A new release of pip is available: \u001b[0m\u001b[31;49m23.0.1\u001b[0m\u001b[39;49m -> \u001b[0m\u001b[32;49m25.0.1\u001b[0m\r\n",
      "\u001b[1m[\u001b[0m\u001b[34;49mnotice\u001b[0m\u001b[1;39;49m]\u001b[0m\u001b[39;49m To update, run: \u001b[0m\u001b[32;49mpip install --upgrade pip\u001b[0m\r\n"
     ]
    },
    {
     "name": "stdout",
     "output_type": "stream",
     "text": [
      "Defaulting to user installation because normal site-packages is not writeable\r\n"
     ]
    },
    {
     "name": "stdout",
     "output_type": "stream",
     "text": [
      "Requirement already satisfied: psycopg2-binary in /home/airflow/.local/lib/python3.8/site-packages (2.9.9)\r\n"
     ]
    },
    {
     "name": "stdout",
     "output_type": "stream",
     "text": [
      "\r\n",
      "\u001b[1m[\u001b[0m\u001b[34;49mnotice\u001b[0m\u001b[1;39;49m]\u001b[0m\u001b[39;49m A new release of pip is available: \u001b[0m\u001b[31;49m23.0.1\u001b[0m\u001b[39;49m -> \u001b[0m\u001b[32;49m25.0.1\u001b[0m\r\n",
      "\u001b[1m[\u001b[0m\u001b[34;49mnotice\u001b[0m\u001b[1;39;49m]\u001b[0m\u001b[39;49m To update, run: \u001b[0m\u001b[32;49mpip install --upgrade pip\u001b[0m\r\n"
     ]
    }
   ],
   "source": [
    "#fontes - yahoo finance api\n",
    "!pip install yahoofinance\n",
    "!pip install yahooquery\n",
    "!pip install --upgrade yfinance\n",
    "!pip install psycopg2-binary"
   ]
  },
  {
   "cell_type": "code",
   "execution_count": 2,
   "id": "3eb874e4",
   "metadata": {
    "execution": {
     "iopub.execute_input": "2025-04-06T15:10:19.094504Z",
     "iopub.status.busy": "2025-04-06T15:10:19.093918Z",
     "iopub.status.idle": "2025-04-06T15:10:21.652563Z",
     "shell.execute_reply": "2025-04-06T15:10:21.651917Z"
    },
    "jupyter": {
     "source_hidden": true
    },
    "papermill": {
     "duration": 2.569471,
     "end_time": "2025-04-06T15:10:21.653683",
     "exception": false,
     "start_time": "2025-04-06T15:10:19.084212",
     "status": "completed"
    },
    "tags": []
   },
   "outputs": [
    {
     "name": "stderr",
     "output_type": "stream",
     "text": [
      "/home/airflow/.local/lib/python3.8/site-packages/pyspark/bin/load-spark-env.sh: line 68: ps: command not found\n"
     ]
    },
    {
     "name": "stderr",
     "output_type": "stream",
     "text": [
      "25/04/06 15:10:20 WARN NativeCodeLoader: Unable to load native-hadoop library for your platform... using builtin-java classes where applicable\n",
      "Setting default log level to \"WARN\".\n",
      "To adjust logging level use sc.setLogLevel(newLevel). For SparkR, use setLogLevel(newLevel).\n"
     ]
    },
    {
     "data": {
      "text/html": [
       "\n",
       "            <div>\n",
       "                <p><b>SparkSession - in-memory</b></p>\n",
       "                \n",
       "        <div>\n",
       "            <p><b>SparkContext</b></p>\n",
       "\n",
       "            <p><a href=\"http://2277100172d4:4040\">Spark UI</a></p>\n",
       "\n",
       "            <dl>\n",
       "              <dt>Version</dt>\n",
       "                <dd><code>v3.5.2</code></dd>\n",
       "              <dt>Master</dt>\n",
       "                <dd><code>local[*]</code></dd>\n",
       "              <dt>AppName</dt>\n",
       "                <dd><code>PAXPE</code></dd>\n",
       "            </dl>\n",
       "        </div>\n",
       "        \n",
       "            </div>\n",
       "        "
      ],
      "text/plain": [
       "<pyspark.sql.session.SparkSession at 0x7f8a96d924f0>"
      ]
     },
     "execution_count": 2,
     "metadata": {},
     "output_type": "execute_result"
    }
   ],
   "source": [
    "import findspark\n",
    "findspark.init()  # Inicializa o Spark\n",
    "findspark.find()  # Verifica se o Spark está corretamente configurado\n",
    "\n",
    "from pyspark import SparkContext, SparkConf\n",
    "from pyspark.sql import SparkSession\n",
    "\n",
    "spark = (\n",
    "    SparkSession\n",
    "    .builder\n",
    "    .appName(\"PAXPE\")\n",
    "    .config(\"spark.sql.session.timeZone\", \"America/Sao_Paulo\")  # Define o fuso horário para São Paulo\n",
    "    .config(\"spark.driver.memory\", \"16g\")  # Memória do driver\n",
    "    .config(\"spark.executor.memory\", \"12g\")  # Memória para cada executor (ajuste conforme a carga)\n",
    "    .config(\"spark.executor.cores\", \"8\")  # Núcleos por executor\n",
    "    .config(\"spark.cores.max\", \"24\")  # Total de núcleos disponíveis\n",
    "    .config(\"spark.dynamicAllocation.enabled\", \"true\")\n",
    "    .config(\"spark.dynamicAllocation.minExecutors\", \"2\")\n",
    "    .config(\"spark.dynamicAllocation.maxExecutors\", \"10\")\n",
    "    .config(\"spark.dynamicAllocation.initialExecutors\", \"4\")\n",
    "    .config(\"spark.default.parallelism\", \"24\")  # Nível de paralelismo\n",
    "    .config(\"spark.memory.fraction\", \"0.8\")  # Memória usada para armazenamento e execução\n",
    "    .config(\"spark.memory.storageFraction\", \"0.5\")  # Memória usada para armazenamento\n",
    "    .config(\"spark.jars\", \"/opt/airflow/jars/postgresql-42.7.4.jar\")\n",
    "    .getOrCreate()\n",
    ")\n",
    "\n",
    "\n",
    "spark"
   ]
  },
  {
   "cell_type": "code",
   "execution_count": 3,
   "id": "593e9f46",
   "metadata": {
    "execution": {
     "iopub.execute_input": "2025-04-06T15:10:21.664668Z",
     "iopub.status.busy": "2025-04-06T15:10:21.664090Z",
     "iopub.status.idle": "2025-04-06T15:10:21.986891Z",
     "shell.execute_reply": "2025-04-06T15:10:21.986324Z"
    },
    "jupyter": {
     "source_hidden": true
    },
    "papermill": {
     "duration": 0.329581,
     "end_time": "2025-04-06T15:10:21.988108",
     "exception": false,
     "start_time": "2025-04-06T15:10:21.658527",
     "status": "completed"
    },
    "tags": []
   },
   "outputs": [],
   "source": [
    "import pandas as pd\n",
    "\n",
    "import yfinance as yf\n",
    "from yfinance import Ticker\n",
    "#api yahoo\n",
    "from yahooquery import Screener, Ticker\n",
    "\n",
    "\n",
    "#criar timestamps e automatizar a safra de tempo da análise\n",
    "# apagar depois que tiver usando a api do spark sql\n",
    "from datetime import datetime, timedelta\n",
    "\n",
    "from pyspark.sql.functions import col, lit, when, lag, current_timestamp , date_format, from_utc_timestamp\n",
    "from pyspark.sql.types import StructType, StructField, StringType, FloatType, LongType, DateType, DoubleType,IntegerType\n",
    "from pyspark.sql.window import Window\n",
    "\n",
    "\n",
    "import psycopg2\n",
    "from psycopg2 import OperationalError\n",
    "import sys\n"
   ]
  },
  {
   "cell_type": "code",
   "execution_count": 4,
   "id": "300d7eb9",
   "metadata": {
    "execution": {
     "iopub.execute_input": "2025-04-06T15:10:22.000199Z",
     "iopub.status.busy": "2025-04-06T15:10:21.999776Z",
     "iopub.status.idle": "2025-04-06T15:10:22.005530Z",
     "shell.execute_reply": "2025-04-06T15:10:22.004885Z"
    },
    "jupyter": {
     "source_hidden": true
    },
    "papermill": {
     "duration": 0.012942,
     "end_time": "2025-04-06T15:10:22.006570",
     "exception": false,
     "start_time": "2025-04-06T15:10:21.993628",
     "status": "completed"
    },
    "tags": []
   },
   "outputs": [],
   "source": [
    "def obter_empresas_ativas():\n",
    "    screener = Screener()\n",
    "    dados = screener.get_screeners('most_actives', count=200)\n",
    "    # print(dados)  # Linha de depuração para inspecionar a estrutura dos dados retornados\n",
    "    empresas = dados['most_actives']['quotes']\n",
    "    \n",
    "    # Criar um DataFrame a partir dos dados\n",
    "    df = spark.createDataFrame(empresas)\n",
    "    \n",
    "    # Colunas para corresponder ao site\n",
    "    colunas = [\n",
    "        'symbol', 'shortName', 'displayName', 'regularMarketPrice', 'regularMarketChange', \n",
    "        'regularMarketChangePercent', 'regularMarketVolume', 'marketCap', \n",
    "        'fullExchangeName', 'quoteSourceName'\n",
    "    ]\n",
    "    df = df.select(*colunas)\n",
    "    \n",
    "    # Renomear colunas para português\n",
    "    df = df.withColumnRenamed('symbol', 'ticker') \\\n",
    "           .withColumnRenamed('shortName', 'nome_curto') \\\n",
    "           .withColumnRenamed('displayName', 'nome_exibicao') \\\n",
    "           .withColumnRenamed('regularMarketPrice', 'preco_mercado_regular') \\\n",
    "           .withColumnRenamed('regularMarketChange', 'mudanca_mercado_regular') \\\n",
    "           .withColumnRenamed('regularMarketChangePercent', 'mudanca_percentual_mercado_regular') \\\n",
    "           .withColumnRenamed('regularMarketVolume', 'volume_mercado_regular') \\\n",
    "           .withColumnRenamed('marketCap', 'capitalizacao_mercado') \\\n",
    "           .withColumnRenamed('fullExchangeName', 'nome_exchange_completa') \\\n",
    "           .withColumnRenamed('quoteSourceName', 'nome_fonte_cotacao')\n",
    "    \n",
    "    # Adicionar coluna com data e hora atual\n",
    "    df = df.withColumn('dt_ptcao', date_format(current_timestamp(), 'yyyy-MM-dd'))\n",
    "    df = df.withColumn('dthr_igtao', current_timestamp())\n",
    "    \n",
    "    # Garantir que 'ticker' não tenha valores nulos\n",
    "    df = df.withColumn('ticker', col('ticker').cast('string'))\n",
    "    df = df.dropna(subset=['ticker'])\n",
    "\n",
    "    # Ordenar por capitalizacaoMercado\n",
    "    df = df.orderBy(col('capitalizacao_mercado').desc())\n",
    "    \n",
    "    return df"
   ]
  },
  {
   "cell_type": "code",
   "execution_count": 5,
   "id": "0ed5067a",
   "metadata": {
    "execution": {
     "iopub.execute_input": "2025-04-06T15:10:22.018943Z",
     "iopub.status.busy": "2025-04-06T15:10:22.018655Z",
     "iopub.status.idle": "2025-04-06T15:10:22.022348Z",
     "shell.execute_reply": "2025-04-06T15:10:22.021765Z"
    },
    "jupyter": {
     "source_hidden": true
    },
    "papermill": {
     "duration": 0.011199,
     "end_time": "2025-04-06T15:10:22.023541",
     "exception": false,
     "start_time": "2025-04-06T15:10:22.012342",
     "status": "completed"
    },
    "tags": []
   },
   "outputs": [],
   "source": [
    "def obter_dados_historicos(symbols, start_date, end_date):\n",
    "    dados = {}\n",
    "    for symbol in symbols:\n",
    "        ticker = yf.Ticker(symbol)\n",
    "        historico = ticker.history(start=start_date, end=end_date, interval='1mo')\n",
    "        dados[symbol] = historico\n",
    "    \n",
    "    return dados"
   ]
  },
  {
   "cell_type": "code",
   "execution_count": 6,
   "id": "62c868f2",
   "metadata": {
    "execution": {
     "iopub.execute_input": "2025-04-06T15:10:22.046154Z",
     "iopub.status.busy": "2025-04-06T15:10:22.045849Z",
     "iopub.status.idle": "2025-04-06T15:10:22.050251Z",
     "shell.execute_reply": "2025-04-06T15:10:22.049592Z"
    },
    "jupyter": {
     "source_hidden": true
    },
    "papermill": {
     "duration": 0.015081,
     "end_time": "2025-04-06T15:10:22.051263",
     "exception": false,
     "start_time": "2025-04-06T15:10:22.036182",
     "status": "completed"
    },
    "tags": []
   },
   "outputs": [],
   "source": [
    "\n",
    "from concurrent.futures import ThreadPoolExecutor, as_completed\n",
    "\n",
    "def obter_dados_historicos_ticker(symbol, start_date, end_date):\n",
    "    ticker = yf.Ticker(symbol)\n",
    "    historico = ticker.history(start=start_date, end=end_date, interval='1mo')\n",
    "    return (symbol, historico)\n",
    "\n",
    "def obter_dados_historicos(symbols, start_date, end_date):\n",
    "    dados = {}\n",
    "    \n",
    "    # Usar ThreadPoolExecutor para executar as solicitações em paralelo\n",
    "    with ThreadPoolExecutor(max_workers=10) as executor:\n",
    "        # Submit tarefas para o executor\n",
    "        futuros = [executor.submit(obter_dados_historicos_ticker, symbol, start_date, end_date) for symbol in symbols]\n",
    "        \n",
    "        # Coletar os resultados conforme as tarefas são concluídas\n",
    "        for futuro in as_completed(futuros):\n",
    "            symbol, historico = futuro.result()\n",
    "            dados[symbol] = historico\n",
    "    \n",
    "    return dados"
   ]
  },
  {
   "cell_type": "code",
   "execution_count": 7,
   "id": "49aabd4b",
   "metadata": {
    "execution": {
     "iopub.execute_input": "2025-04-06T15:10:22.065291Z",
     "iopub.status.busy": "2025-04-06T15:10:22.065103Z",
     "iopub.status.idle": "2025-04-06T15:10:22.071219Z",
     "shell.execute_reply": "2025-04-06T15:10:22.070503Z"
    },
    "jupyter": {
     "source_hidden": true
    },
    "papermill": {
     "duration": 0.01419,
     "end_time": "2025-04-06T15:10:22.072492",
     "exception": false,
     "start_time": "2025-04-06T15:10:22.058302",
     "status": "completed"
    },
    "tags": []
   },
   "outputs": [],
   "source": [
    "def retorno_mensal(dados):\n",
    "    # Inicializar uma lista vazia para armazenar dados estruturados\n",
    "    dados_estruturados = []\n",
    "    \n",
    "    # Iterar sobre os dados históricos de cada símbolo\n",
    "    for symbol, df in dados.items():\n",
    "        # Converter DataFrame do Pandas para PySpark\n",
    "        df['symbol'] = symbol\n",
    "\n",
    "        df_spark = spark.createDataFrame(df.reset_index())\n",
    "        \n",
    "        \n",
    "        # Renomear colunas para português\n",
    "        df_spark = df_spark.withColumnRenamed('symbol', 'ticker') \\\n",
    "                        .withColumnRenamed('Date', 'data') \\\n",
    "                        .withColumnRenamed('Open', 'abertura') \\\n",
    "                        .withColumnRenamed('High', 'alta') \\\n",
    "                        .withColumnRenamed('Low', 'baixa') \\\n",
    "                        .withColumnRenamed('Close', 'fechamento') \\\n",
    "                        .withColumnRenamed('Volume', 'volume') \\\n",
    "                        .withColumnRenamed('Dividends', 'dividendos') \\\n",
    "                        .withColumnRenamed('Stock Splits', 'desdobramentos')\n",
    "\n",
    "        janela = Window.partitionBy('ticker').orderBy('Data')\n",
    "\n",
    "\n",
    "        # Calcular preço de fechamento do mês anterior (deslocar uma linha para cima)\n",
    "        df_spark = df_spark.withColumn('fechamento_mes_anterior', lag('fechamento').over(janela))\n",
    "\n",
    "        # Calcular Retorno em valor (diferença absoluta)\n",
    "        df_spark = df_spark.withColumn('valor_retorno', col('fechamento') - col('fechamento_mes_anterior'))\n",
    "\n",
    "        # Calcular Retorno em porcentagem\n",
    "        df_spark = df_spark.withColumn('porcentagem_retorno', (col('valor_retorno') / col('fechamento_mes_anterior')) * 100)\n",
    "\n",
    "        # Adicionar coluna com data atual no formato desejado\n",
    "        df_spark = df_spark.withColumn('dt_ptcao', date_format(current_timestamp(), 'yyyy-MM-dd'))\n",
    "        df_spark = df_spark.withColumn('dthr_igtao', current_timestamp())\n",
    "\n",
    "        # Reordenar colunas\n",
    "        df_spark = df_spark.select(\n",
    "            'ticker',               # 'symbol' traduzido para 'ticker'\n",
    "            'data',                 # 'date' traduzido para 'Data'\n",
    "            'abertura',             # 'open' traduzido para 'Abertura'\n",
    "            'alta',                 # 'high' traduzido para 'Alta'\n",
    "            'baixa',                # 'low' traduzido para 'Baixa'\n",
    "            'fechamento',           # 'close' traduzido para 'Fechamento'\n",
    "            'volume',               # 'volume' mantido como 'Volume'\n",
    "            'dividendos',           # 'dividends' traduzido para 'Dividendos'\n",
    "            'desdobramentos',       # 'splits' traduzido para 'Desdobramentos'\n",
    "            'fechamento_mes_anterior', # 'Close_Last_Month' traduzido para 'Fechamento_Mes_Anterior'\n",
    "            'valor_retorno',        # 'Return_Value' traduzido para 'Valor_Retorno'\n",
    "            'porcentagem_retorno',  # 'Return_Percentage' traduzido para 'Porcentagem_Retorno'\n",
    "            'dt_ptcao',             # 'dt_ptcao' mantido como está\n",
    "            'dthr_igtao'            # 'DTHR_IGTAO' mantido como está\n",
    "        )\n",
    "        \n",
    "        # Adicionar o DataFrame à lista de dados estruturados\n",
    "        dados_estruturados.append(df_spark)\n",
    "\n",
    "    # Unir todos os DataFrames em um único DataFrame\n",
    "    df_final = dados_estruturados[0]\n",
    "    for df in dados_estruturados[1:]:\n",
    "        df_final = df_final.union(df)\n",
    "    \n",
    "    return df_final"
   ]
  },
  {
   "cell_type": "markdown",
   "id": "66c09ce8",
   "metadata": {
    "papermill": {
     "duration": 0.009154,
     "end_time": "2025-04-06T15:10:22.087932",
     "exception": false,
     "start_time": "2025-04-06T15:10:22.078778",
     "status": "completed"
    },
    "tags": []
   },
   "source": [
    "# Tabela fato -  maiores empresas segundo a api do yahoo finance"
   ]
  },
  {
   "cell_type": "code",
   "execution_count": 8,
   "id": "c7bd66e0",
   "metadata": {
    "execution": {
     "iopub.execute_input": "2025-04-06T15:10:22.109109Z",
     "iopub.status.busy": "2025-04-06T15:10:22.108628Z",
     "iopub.status.idle": "2025-04-06T15:10:27.175573Z",
     "shell.execute_reply": "2025-04-06T15:10:27.174706Z"
    },
    "jupyter": {
     "source_hidden": true
    },
    "papermill": {
     "duration": 5.080561,
     "end_time": "2025-04-06T15:10:27.176576",
     "exception": false,
     "start_time": "2025-04-06T15:10:22.096015",
     "status": "completed"
    },
    "tags": []
   },
   "outputs": [
    {
     "name": "stderr",
     "output_type": "stream",
     "text": [
      "25/04/06 15:10:25 WARN SparkStringUtils: Truncated the string representation of a plan since it was too large. This behavior can be adjusted by setting 'spark.sql.debug.maxToStringFields'.\n"
     ]
    },
    {
     "name": "stderr",
     "output_type": "stream",
     "text": [
      "\r",
      "[Stage 0:>                                                         (0 + 8) / 24]\r"
     ]
    },
    {
     "name": "stderr",
     "output_type": "stream",
     "text": [
      "\r",
      "[Stage 0:==========================================>              (18 + 6) / 24]\r",
      "\r",
      "                                                                                \r"
     ]
    },
    {
     "name": "stdout",
     "output_type": "stream",
     "text": [
      "+------+--------------------+--------------------+---------------------+-----------------------+----------------------------------+----------------------+---------------------+----------------------+--------------------+----------+--------------------+\n",
      "|ticker|          nome_curto|       nome_exibicao|preco_mercado_regular|mudanca_mercado_regular|mudanca_percentual_mercado_regular|volume_mercado_regular|capitalizacao_mercado|nome_exchange_completa|  nome_fonte_cotacao|  dt_ptcao|          dthr_igtao|\n",
      "+------+--------------------+--------------------+---------------------+-----------------------+----------------------------------+----------------------+---------------------+----------------------+--------------------+----------+--------------------+\n",
      "|  AAPL|          Apple Inc.|               Apple|               188.38|             -14.809998|                        -7.2887435|             124921508|        2829863354368|              NasdaqGS|Nasdaq Real Time ...|2025-04-06|2025-04-06 12:10:...|\n",
      "|  MSFT|Microsoft Corpora...|           Microsoft|               359.84|             -13.269989|                        -3.5565891|              48685644|        2675043205120|              NasdaqGS|Nasdaq Real Time ...|2025-04-06|2025-04-06 12:10:...|\n",
      "|  NVDA|  NVIDIA Corporation|              NVIDIA|                94.31|             -7.4900055|                         -7.357569|             525608136|        2301163732992|              NasdaqGS|Nasdaq Real Time ...|2025-04-06|2025-04-06 12:10:...|\n",
      "|  AMZN|    Amazon.com, Inc.|          Amazon.com|                171.0|             -7.4100037|                        -4.1533566|             118861656|        1812206583808|              NasdaqGS|Nasdaq Real Time ...|2025-04-06|2025-04-06 12:10:...|\n",
      "|  GOOG|       Alphabet Inc.|            Alphabet|               147.74|             -4.8899994|                        -3.2038257|              39449871|        1786634698752|              NasdaqGS|Nasdaq Real Time ...|2025-04-06|2025-04-06 12:10:...|\n",
      "| GOOGL|       Alphabet Inc.|                NULL|                145.6|              -5.119995|                        -3.3970244|              62058272|        1786628538368|              NasdaqGS|Nasdaq Real Time ...|2025-04-06|2025-04-06 12:10:...|\n",
      "|  META|Meta Platforms, Inc.|      Meta Platforms|               504.73|             -26.889984|                         -5.058121|              38212100|        1278814191616|              NasdaqGS|Nasdaq Real Time ...|2025-04-06|2025-04-06 12:10:...|\n",
      "|  TSLA|         Tesla, Inc.|               Tesla|               239.43|             -27.850006|                        -10.419786|             179251800|         770131361792|              NasdaqGS|Nasdaq Real Time ...|2025-04-06|2025-04-06 12:10:...|\n",
      "|   TSM|Taiwan Semiconduc...|Taiwan Semiconduc...|                146.8|                 -10.58|                          -6.72258|              35071851|         761385517056|                  NYSE|Nasdaq Real Time ...|2025-04-06|2025-04-06 12:10:...|\n",
      "|  AVGO|       Broadcom Inc.|            Broadcom|               146.29|              -7.720001|                        -5.0126624|              71907529|         687848226816|              NasdaqGS|Nasdaq Real Time ...|2025-04-06|2025-04-06 12:10:...|\n",
      "|   WMT|        Walmart Inc.|             Walmart|                83.19|                  -4.07|                          -4.66422|              36160087|         666921795584|                  NYSE|       Delayed Quote|2025-04-06|2025-04-06 12:10:...|\n",
      "|   JPM|JP Morgan Chase &...|    JPMorgan Chase &|               210.28|                 -17.01|                          -7.48383|              27136867|         587966054400|                  NYSE|       Delayed Quote|2025-04-06|2025-04-06 12:10:...|\n",
      "|   XOM|Exxon Mobil Corpo...|         Exxon Mobil|               104.34|                  -8.09|                          -7.19559|              30821496|         452745854976|                  NYSE|Nasdaq Real Time ...|2025-04-06|2025-04-06 12:10:...|\n",
      "|  BABA|Alibaba Group Hol...|Alibaba Group Hol...|               116.54|                 -12.79|                          -9.88943|              55567147|         303513272320|                  NYSE|Nasdaq Real Time ...|2025-04-06|2025-04-06 12:10:...|\n",
      "|    KO|Coca-Cola Company...|                NULL|                69.93|                  -3.25|                           -4.4411|              26495980|         300948652032|                  NYSE|Nasdaq Real Time ...|2025-04-06|2025-04-06 12:10:...|\n",
      "|   BAC|Bank of America C...|     Bank of America|                34.39|                  -2.83|                          -7.60344|              95717260|         261460295680|                  NYSE|       Delayed Quote|2025-04-06|2025-04-06 12:10:...|\n",
      "|   CVX| Chevron Corporation|             Chevron|               143.28|                 -12.84|                          -8.22444|              17723299|         252258779136|                  NYSE|       Delayed Quote|2025-04-06|2025-04-06 12:10:...|\n",
      "|  CSCO| Cisco Systems, Inc.|       Cisco Systems|                54.54|             -2.7700005|                         -4.833363|              41246275|         216975933440|              NasdaqGS|Nasdaq Real Time ...|2025-04-06|2025-04-06 12:10:...|\n",
      "|   MRK|Merck & Company, ...|             Merck &|                81.47|                  -4.92|                           -5.6951|              17679807|         205796491264|                  NYSE|Nasdaq Real Time ...|2025-04-06|2025-04-06 12:10:...|\n",
      "|   WFC|Wells Fargo & Com...|                NULL|                60.98|                  -4.69|                          -7.14177|              31014999|         199109443584|                  NYSE|Nasdaq Real Time ...|2025-04-06|2025-04-06 12:10:...|\n",
      "+------+--------------------+--------------------+---------------------+-----------------------+----------------------------------+----------------------+---------------------+----------------------+--------------------+----------+--------------------+\n",
      "only showing top 20 rows\n",
      "\n",
      "root\n",
      " |-- ticker: string (nullable = true)\n",
      " |-- nome_curto: string (nullable = true)\n",
      " |-- nome_exibicao: string (nullable = true)\n",
      " |-- preco_mercado_regular: double (nullable = true)\n",
      " |-- mudanca_mercado_regular: double (nullable = true)\n",
      " |-- mudanca_percentual_mercado_regular: double (nullable = true)\n",
      " |-- volume_mercado_regular: long (nullable = true)\n",
      " |-- capitalizacao_mercado: long (nullable = true)\n",
      " |-- nome_exchange_completa: string (nullable = true)\n",
      " |-- nome_fonte_cotacao: string (nullable = true)\n",
      " |-- dt_ptcao: string (nullable = false)\n",
      " |-- dthr_igtao: timestamp (nullable = false)\n",
      "\n"
     ]
    }
   ],
   "source": [
    "df_ativas = obter_empresas_ativas()\n",
    "\n",
    "df_ativas.show()\n",
    "df_ativas.printSchema()"
   ]
  },
  {
   "cell_type": "markdown",
   "id": "6e22ef10",
   "metadata": {
    "papermill": {
     "duration": 0.005581,
     "end_time": "2025-04-06T15:10:27.187633",
     "exception": false,
     "start_time": "2025-04-06T15:10:27.182052",
     "status": "completed"
    },
    "tags": []
   },
   "source": [
    "# Dimensão - Retornos mensais 10 anos"
   ]
  },
  {
   "cell_type": "code",
   "execution_count": 9,
   "id": "111b041a",
   "metadata": {
    "execution": {
     "iopub.execute_input": "2025-04-06T15:10:27.199988Z",
     "iopub.status.busy": "2025-04-06T15:10:27.199676Z",
     "iopub.status.idle": "2025-04-06T15:10:27.203439Z",
     "shell.execute_reply": "2025-04-06T15:10:27.202879Z"
    },
    "jupyter": {
     "source_hidden": true
    },
    "papermill": {
     "duration": 0.011315,
     "end_time": "2025-04-06T15:10:27.204512",
     "exception": false,
     "start_time": "2025-04-06T15:10:27.193197",
     "status": "completed"
    },
    "tags": []
   },
   "outputs": [
    {
     "name": "stdout",
     "output_type": "stream",
     "text": [
      "start_date: 2015-04-09\n",
      "end_date: 2025-04-06\n"
     ]
    }
   ],
   "source": [
    "# 10 anos passados\n",
    "start_date = datetime.today() - timedelta(days=10*365)\n",
    "\n",
    "# hoje\n",
    "end_date = datetime.today()\n",
    "\n",
    "# 'YYYY-MM-DD'\n",
    "start_date_str = start_date.strftime('%Y-%m-%d')\n",
    "end_date_str = end_date.strftime('%Y-%m-%d')\n",
    "\n",
    "print(f\"start_date: {start_date_str}\")\n",
    "print(f\"end_date: {end_date_str}\")\n"
   ]
  },
  {
   "cell_type": "code",
   "execution_count": 10,
   "id": "d8a4cb7e",
   "metadata": {
    "execution": {
     "iopub.execute_input": "2025-04-06T15:10:27.216884Z",
     "iopub.status.busy": "2025-04-06T15:10:27.216427Z",
     "iopub.status.idle": "2025-04-06T15:10:28.110021Z",
     "shell.execute_reply": "2025-04-06T15:10:28.109186Z"
    },
    "jupyter": {
     "source_hidden": true
    },
    "papermill": {
     "duration": 0.90078,
     "end_time": "2025-04-06T15:10:28.111032",
     "exception": false,
     "start_time": "2025-04-06T15:10:27.210252",
     "status": "completed"
    },
    "tags": []
   },
   "outputs": [
    {
     "name": "stdout",
     "output_type": "stream",
     "text": [
      "('AAPL', 'MSFT', 'NVDA', 'AMZN', 'GOOG', 'GOOGL', 'META', 'TSLA', 'TSM', 'AVGO', 'WMT', 'JPM', 'XOM', 'BABA', 'KO', 'BAC', 'CVX', 'CSCO', 'MRK', 'WFC', 'T', 'VZ', 'GE', 'PLTR', 'MS', 'DIS', 'PDD', 'QCOM', 'AMD', 'NEE', 'UBER', 'BSX', 'MUFG', 'PFE', 'CMCSA', 'SCHW', 'BMY', 'C', 'BA', 'SHOP', 'MO', 'SBUX', 'INTC', 'PBR-A', 'PBR', 'KKR', 'NKE', 'BP', 'ANET', 'MSTR', 'LRCX', 'APP', 'MU', 'APH', 'INFY', 'EPD', 'WMB', 'CMG', 'SE', 'JD', 'PYPL', 'USB', 'ITUB', 'KMI', 'ET', 'LYG', 'CSX', 'BCS', 'DELL', 'NEM', 'SLB', 'HLN', 'NU', 'TFC', 'GM', 'TGT', 'MRVL', 'KVUE', 'FCX', 'VALE', 'ABEV', 'OXY', 'F', 'PCG', 'KHC', 'BKR', 'VST', 'GOLD', 'RKT', 'HOOD', 'STLA', 'GEHC', 'EQT', 'NOK', 'ERIC', 'OWL', 'DAL', 'VOD', 'TTD', 'VRT', 'BBD', 'CCL', 'HPQ', 'CVE', 'XPEV', 'DOW', 'WBD', 'ASX', 'MCHP', 'CTRA', 'DVN', 'UAL', 'HBAN', 'SMCI', 'PINS', 'TEVA', 'HAL', 'UMC', 'RF', 'HPE', 'DKNG', 'LUV', 'GRAB', 'KEY', 'KGC', 'ITCI', 'ARCC', 'SNAP', 'CNH', 'AMCR', 'ONON', 'RIVN', 'YMM', 'AFRM', 'NLY', 'WDC', 'GME', 'SOFI', 'AVTR', 'AUR', 'AEG', 'MRNA', 'HST', 'WBA', 'VTRS', 'PR', 'AGNC', 'BILI', 'CX', 'NIO', 'AES', 'RKLB', 'GAP', 'LCID', 'NCLH', 'ADT', 'PDI', 'AAL', 'HIMS', 'IVZ', 'GGB', 'CCCS', 'PATH', 'APA', 'PSLV', 'IONQ', 'NBIS', 'LYFT', 'VLY', 'VFC', 'JOBY', 'MARA', 'JWN', 'DNB', 'BE', 'AQN', 'BTG', 'CLF', 'VRN', 'ACHR', 'LUMN', 'W', 'IAG', 'M', 'MPW', 'HL', 'SBSW', 'SOUN', 'EQX', 'OKLO', 'RIOT', 'NGD', 'NXE', 'UAA', 'PTEN', 'RGTI', 'NWL', 'CORZ', 'CLSK', 'AEO')\n"
     ]
    }
   ],
   "source": [
    "# Selecionar a coluna 'symbol' e coletar os valores como uma lista\n",
    "#100 maiores para dimensão das 100 maiores e retornos\n",
    "symbol_list = df_ativas.select('ticker').rdd.flatMap(lambda x: x).collect()\n",
    "\n",
    "# Converter a lista para uma tupla\n",
    "df_tickers = tuple(symbol_list)\n",
    "\n",
    "print(df_tickers)\n"
   ]
  },
  {
   "cell_type": "code",
   "execution_count": 11,
   "id": "9e990db6",
   "metadata": {
    "execution": {
     "iopub.execute_input": "2025-04-06T15:10:28.124125Z",
     "iopub.status.busy": "2025-04-06T15:10:28.123810Z",
     "iopub.status.idle": "2025-04-06T15:11:32.461042Z",
     "shell.execute_reply": "2025-04-06T15:11:32.460001Z"
    },
    "jupyter": {
     "source_hidden": true
    },
    "papermill": {
     "duration": 64.348256,
     "end_time": "2025-04-06T15:11:32.464599",
     "exception": false,
     "start_time": "2025-04-06T15:10:28.116343",
     "status": "completed"
    },
    "tags": []
   },
   "outputs": [
    {
     "name": "stderr",
     "output_type": "stream",
     "text": [
      "\r",
      "[Stage 6:=>  (9 + 8) / 24][Stage 7:>   (0 + 0) / 24][Stage 8:>   (0 + 0) / 24]\r"
     ]
    },
    {
     "name": "stderr",
     "output_type": "stream",
     "text": [
      "\r",
      "[Stage 6:==>(21 + 3) / 24][Stage 7:>   (0 + 5) / 24][Stage 8:>   (0 + 0) / 24]\r"
     ]
    },
    {
     "name": "stderr",
     "output_type": "stream",
     "text": [
      "\r",
      "[Stage 7:==>(21 + 3) / 24][Stage 8:>   (0 + 5) / 24][Stage 9:>   (0 + 0) / 24]\r",
      "\r",
      "[Stage 8:==>(19 + 5) / 24][Stage 9:>   (0 + 3) / 24][Stage 10:>  (0 + 0) / 24]\r"
     ]
    },
    {
     "name": "stderr",
     "output_type": "stream",
     "text": [
      "\r",
      "[Stage 9:==>(20 + 4) / 24][Stage 10:>  (0 + 4) / 24][Stage 11:>  (0 + 0) / 24]\r",
      "\r",
      "[Stage 10:>  (6 + 9) / 24][Stage 11:>  (0 + 0) / 24][Stage 12:>  (0 + 0) / 24]\r"
     ]
    },
    {
     "name": "stderr",
     "output_type": "stream",
     "text": [
      "\r",
      "[Stage 10:> (10 + 8) / 24][Stage 11:>  (0 + 0) / 24][Stage 12:>  (0 + 0) / 24]\r"
     ]
    },
    {
     "name": "stderr",
     "output_type": "stream",
     "text": [
      "\r",
      "[Stage 10:=>(21 + 3) / 24][Stage 11:>  (1 + 6) / 24][Stage 12:>  (0 + 0) / 24]\r"
     ]
    },
    {
     "name": "stderr",
     "output_type": "stream",
     "text": [
      "\r",
      "[Stage 11:=>(17 + 7) / 24][Stage 12:>  (0 + 1) / 24][Stage 13:>  (0 + 0) / 24]\r",
      "\r",
      "[Stage 12:>  (6 + 8) / 24][Stage 13:>  (0 + 0) / 24][Stage 14:>  (0 + 0) / 24]\r"
     ]
    },
    {
     "name": "stderr",
     "output_type": "stream",
     "text": [
      "\r",
      "[Stage 12:=>(19 + 5) / 24][Stage 13:>  (0 + 3) / 24][Stage 14:>  (0 + 0) / 24]\r",
      "\r",
      "[Stage 13:=>(14 + 8) / 24][Stage 14:>  (0 + 0) / 24][Stage 15:>  (0 + 0) / 24]\r"
     ]
    },
    {
     "name": "stderr",
     "output_type": "stream",
     "text": [
      "\r",
      "[Stage 14:=> (9 + 8) / 24][Stage 15:>  (0 + 0) / 24][Stage 16:>  (0 + 0) / 24]\r"
     ]
    },
    {
     "name": "stderr",
     "output_type": "stream",
     "text": [
      "\r",
      "[Stage 15:> (7 + 10) / 24][Stage 16:>  (0 + 0) / 24][Stage 17:>  (0 + 0) / 24]\r",
      "\r",
      "[Stage 16:> (10 + 8) / 24][Stage 17:>  (0 + 0) / 24][Stage 18:>  (0 + 0) / 24]\r"
     ]
    },
    {
     "name": "stderr",
     "output_type": "stream",
     "text": [
      "\r",
      "[Stage 17:=> (8 + 9) / 24][Stage 18:>  (0 + 0) / 24][Stage 19:>  (0 + 0) / 24]\r"
     ]
    },
    {
     "name": "stderr",
     "output_type": "stream",
     "text": [
      "\r",
      "[Stage 18:>  (2 + 8) / 24][Stage 19:>  (0 + 0) / 24][Stage 20:>  (0 + 0) / 24]\r",
      "\r",
      "[Stage 19:>  (4 + 8) / 24][Stage 20:>  (0 + 0) / 24][Stage 21:>  (0 + 0) / 24]\r"
     ]
    },
    {
     "name": "stderr",
     "output_type": "stream",
     "text": [
      "\r",
      "[Stage 20:>  (7 + 8) / 24][Stage 21:>  (0 + 0) / 24][Stage 22:>  (0 + 0) / 24]\r"
     ]
    },
    {
     "name": "stderr",
     "output_type": "stream",
     "text": [
      "\r",
      "[Stage 21:>  (4 + 9) / 24][Stage 22:>  (0 + 0) / 24][Stage 23:>  (0 + 0) / 24]\r",
      "\r",
      "[Stage 22:> (3 + 10) / 24][Stage 23:>  (0 + 0) / 24][Stage 24:>  (0 + 0) / 24]\r"
     ]
    },
    {
     "name": "stderr",
     "output_type": "stream",
     "text": [
      "\r",
      "[Stage 23:>  (1 + 8) / 24][Stage 24:>  (0 + 0) / 24][Stage 25:>  (0 + 0) / 24]\r",
      "\r",
      "[Stage 24:>  (5 + 8) / 24][Stage 25:>  (0 + 0) / 24][Stage 26:>  (0 + 0) / 24]\r"
     ]
    },
    {
     "name": "stderr",
     "output_type": "stream",
     "text": [
      "\r",
      "[Stage 25:>  (5 + 8) / 24][Stage 26:>  (0 + 0) / 24][Stage 27:>  (0 + 0) / 24]\r",
      "\r",
      "[Stage 26:=>(12 + 8) / 24][Stage 27:>  (0 + 0) / 24][Stage 28:>  (0 + 0) / 24]\r"
     ]
    },
    {
     "name": "stderr",
     "output_type": "stream",
     "text": [
      "\r",
      "[Stage 27:=> (8 + 8) / 24][Stage 28:>  (0 + 0) / 24][Stage 29:>  (0 + 0) / 24]\r",
      "\r",
      "[Stage 28:> (10 + 8) / 24][Stage 29:>  (0 + 0) / 24][Stage 30:>  (0 + 0) / 24]\r"
     ]
    },
    {
     "name": "stderr",
     "output_type": "stream",
     "text": [
      "\r",
      "[Stage 29:=>(14 + 8) / 24][Stage 30:>  (0 + 0) / 24][Stage 31:>  (0 + 0) / 24]\r",
      "\r",
      "[Stage 30:=>(20 + 4) / 24][Stage 31:>  (0 + 4) / 24][Stage 32:>  (0 + 0) / 24]\r"
     ]
    },
    {
     "name": "stderr",
     "output_type": "stream",
     "text": [
      "\r",
      "[Stage 31:=>(19 + 5) / 24][Stage 32:>  (0 + 4) / 24][Stage 33:>  (0 + 0) / 24]\r",
      "\r",
      "[Stage 33:>  (2 + 8) / 24][Stage 34:>  (0 + 0) / 24][Stage 35:>  (0 + 0) / 24]\r"
     ]
    },
    {
     "name": "stderr",
     "output_type": "stream",
     "text": [
      "\r",
      "[Stage 33:=>(21 + 3) / 24][Stage 34:>  (0 + 6) / 24][Stage 35:>  (0 + 0) / 24]\r",
      "\r",
      "[Stage 34:=>(16 + 8) / 24][Stage 35:>  (0 + 0) / 24][Stage 36:>  (0 + 0) / 24]\r"
     ]
    },
    {
     "name": "stderr",
     "output_type": "stream",
     "text": [
      "\r",
      "[Stage 35:=>(20 + 4) / 24][Stage 36:>  (0 + 4) / 24][Stage 37:>  (0 + 0) / 24]\r",
      "\r",
      "[Stage 36:=>(20 + 4) / 24][Stage 37:>  (0 + 4) / 24][Stage 38:>  (0 + 0) / 24]\r"
     ]
    },
    {
     "name": "stderr",
     "output_type": "stream",
     "text": [
      "\r",
      "[Stage 37:=>(23 + 1) / 24][Stage 38:>  (0 + 7) / 24][Stage 39:>  (0 + 0) / 24]\r",
      "\r",
      "[Stage 39:>  (2 + 8) / 24][Stage 40:>  (0 + 0) / 24][Stage 41:>  (0 + 0) / 24]\r"
     ]
    },
    {
     "name": "stderr",
     "output_type": "stream",
     "text": [
      "\r",
      "[Stage 40:>  (2 + 8) / 24][Stage 41:>  (0 + 0) / 24][Stage 42:>  (0 + 0) / 24]\r"
     ]
    },
    {
     "name": "stderr",
     "output_type": "stream",
     "text": [
      "\r",
      "[Stage 41:>  (4 + 9) / 24][Stage 42:>  (0 + 0) / 24][Stage 43:>  (0 + 0) / 24]\r",
      "\r",
      "[Stage 42:>  (3 + 8) / 24][Stage 43:>  (0 + 0) / 24][Stage 44:>  (0 + 0) / 24]\r"
     ]
    },
    {
     "name": "stderr",
     "output_type": "stream",
     "text": [
      "\r",
      "[Stage 42:=>(23 + 1) / 24][Stage 43:>  (0 + 7) / 24][Stage 44:>  (0 + 0) / 24]\r",
      "\r",
      "[Stage 43:=>(23 + 1) / 24][Stage 44:>  (0 + 7) / 24][Stage 45:>  (0 + 0) / 24]\r"
     ]
    },
    {
     "name": "stderr",
     "output_type": "stream",
     "text": [
      "\r",
      "[Stage 45:>  (5 + 8) / 24][Stage 46:>  (0 + 0) / 24][Stage 47:>  (0 + 0) / 24]\r"
     ]
    },
    {
     "name": "stderr",
     "output_type": "stream",
     "text": [
      "\r",
      "[Stage 46:>  (5 + 8) / 24][Stage 47:>  (0 + 0) / 24][Stage 48:>  (0 + 0) / 24]\r",
      "\r",
      "[Stage 47:>  (0 + 8) / 24][Stage 48:>  (0 + 0) / 24][Stage 49:>  (0 + 0) / 24]\r"
     ]
    },
    {
     "name": "stderr",
     "output_type": "stream",
     "text": [
      "\r",
      "[Stage 47:=>(21 + 3) / 24][Stage 48:>  (0 + 5) / 24][Stage 49:>  (0 + 0) / 24]\r"
     ]
    },
    {
     "name": "stderr",
     "output_type": "stream",
     "text": [
      "\r",
      "[Stage 48:=>(22 + 2) / 24][Stage 49:>  (1 + 6) / 24][Stage 50:>  (0 + 0) / 24]\r"
     ]
    },
    {
     "name": "stderr",
     "output_type": "stream",
     "text": [
      "\r",
      "[Stage 50:>  (2 + 8) / 24][Stage 51:>  (0 + 0) / 24][Stage 52:>  (0 + 0) / 24]\r"
     ]
    },
    {
     "name": "stderr",
     "output_type": "stream",
     "text": [
      "\r",
      "[Stage 51:=> (9 + 8) / 24][Stage 52:>  (0 + 0) / 24][Stage 53:>  (0 + 0) / 24]\r"
     ]
    },
    {
     "name": "stderr",
     "output_type": "stream",
     "text": [
      "\r",
      "[Stage 52:=> (9 + 8) / 24][Stage 53:>  (0 + 0) / 24][Stage 54:>  (0 + 0) / 24]\r",
      "\r",
      "[Stage 53:=> (8 + 8) / 24][Stage 54:>  (0 + 0) / 24][Stage 55:>  (0 + 0) / 24]\r"
     ]
    },
    {
     "name": "stderr",
     "output_type": "stream",
     "text": [
      "\r",
      "[Stage 54:> (10 + 9) / 24][Stage 55:>  (0 + 0) / 24][Stage 56:>  (0 + 0) / 24]\r",
      "\r",
      "[Stage 55:=>(13 + 8) / 24][Stage 56:>  (0 + 0) / 24][Stage 57:>  (0 + 0) / 24]\r"
     ]
    },
    {
     "name": "stderr",
     "output_type": "stream",
     "text": [
      "\r",
      "[Stage 56:=>(17 + 7) / 24][Stage 57:>  (0 + 1) / 24][Stage 58:>  (0 + 0) / 24]\r",
      "\r",
      "[Stage 57:=>(21 + 3) / 24][Stage 58:>  (0 + 5) / 24][Stage 59:>  (0 + 0) / 24]\r"
     ]
    },
    {
     "name": "stderr",
     "output_type": "stream",
     "text": [
      "\r",
      "[Stage 59:> (0 + 10) / 24][Stage 60:>  (0 + 0) / 24][Stage 61:>  (0 + 0) / 24]\r",
      "\r",
      "[Stage 60:>  (5 + 8) / 24][Stage 61:>  (0 + 0) / 24][Stage 62:>  (0 + 0) / 24]\r"
     ]
    },
    {
     "name": "stderr",
     "output_type": "stream",
     "text": [
      "\r",
      "[Stage 61:> (10 + 8) / 24][Stage 62:>  (0 + 0) / 24][Stage 63:>  (0 + 0) / 24]\r",
      "\r",
      "[Stage 62:=>(17 + 7) / 24][Stage 63:>  (0 + 1) / 24][Stage 64:>  (0 + 0) / 24]\r"
     ]
    },
    {
     "name": "stderr",
     "output_type": "stream",
     "text": [
      "\r",
      "[Stage 63:=>(20 + 4) / 24][Stage 64:>  (0 + 4) / 24][Stage 65:>  (0 + 0) / 24]\r",
      "\r",
      "[Stage 65:>  (2 + 8) / 24][Stage 66:>  (0 + 0) / 24][Stage 67:>  (0 + 0) / 24]\r"
     ]
    },
    {
     "name": "stderr",
     "output_type": "stream",
     "text": [
      "\r",
      "[Stage 66:=> (9 + 8) / 24][Stage 67:>  (0 + 0) / 24][Stage 68:>  (0 + 0) / 24]\r",
      "\r",
      "[Stage 67:> (10 + 8) / 24][Stage 68:>  (0 + 0) / 24][Stage 69:>  (0 + 0) / 24]\r"
     ]
    },
    {
     "name": "stderr",
     "output_type": "stream",
     "text": [
      "\r",
      "[Stage 68:=>(17 + 7) / 24][Stage 69:>  (0 + 1) / 24][Stage 70:>  (0 + 0) / 24]\r",
      "\r",
      "[Stage 69:=>(20 + 4) / 24][Stage 70:>  (0 + 4) / 24][Stage 71:>  (0 + 0) / 24]\r"
     ]
    },
    {
     "name": "stderr",
     "output_type": "stream",
     "text": [
      "\r",
      "[Stage 71:>  (1 + 8) / 24][Stage 72:>  (0 + 0) / 24][Stage 73:>  (0 + 0) / 24]\r",
      "\r",
      "[Stage 72:>  (4 + 8) / 24][Stage 73:>  (0 + 0) / 24][Stage 74:>  (0 + 0) / 24]\r"
     ]
    },
    {
     "name": "stderr",
     "output_type": "stream",
     "text": [
      "\r",
      "[Stage 73:>  (4 + 9) / 24][Stage 74:>  (0 + 0) / 24][Stage 75:>  (0 + 0) / 24]\r",
      "\r",
      "[Stage 74:=>(16 + 8) / 24][Stage 75:>  (0 + 0) / 24][Stage 76:>  (0 + 0) / 24]\r"
     ]
    },
    {
     "name": "stderr",
     "output_type": "stream",
     "text": [
      "\r",
      "[Stage 75:=>(21 + 3) / 24][Stage 76:>  (0 + 5) / 24][Stage 77:>  (0 + 0) / 24]\r",
      "\r",
      "[Stage 77:>  (1 + 8) / 24][Stage 78:>  (0 + 0) / 24][Stage 79:>  (0 + 0) / 24]\r"
     ]
    },
    {
     "name": "stderr",
     "output_type": "stream",
     "text": [
      "\r",
      "[Stage 78:>  (7 + 8) / 24][Stage 79:>  (0 + 0) / 24][Stage 80:>  (0 + 0) / 24]\r",
      "\r",
      "[Stage 79:=>(12 + 8) / 24][Stage 80:>  (0 + 0) / 24][Stage 81:>  (0 + 0) / 24]\r"
     ]
    },
    {
     "name": "stderr",
     "output_type": "stream",
     "text": [
      "\r",
      "[Stage 80:=>(17 + 7) / 24][Stage 81:>  (0 + 1) / 24][Stage 82:>  (0 + 0) / 24]\r",
      "\r",
      "[Stage 81:=>(23 + 1) / 24][Stage 82:>  (0 + 7) / 24][Stage 83:>  (0 + 0) / 24]\r"
     ]
    },
    {
     "name": "stderr",
     "output_type": "stream",
     "text": [
      "\r",
      "[Stage 83:>  (6 + 8) / 24][Stage 84:>  (0 + 0) / 24][Stage 85:>  (0 + 0) / 24]\r",
      "\r",
      "[Stage 84:> (10 + 8) / 24][Stage 85:>  (0 + 0) / 24][Stage 86:>  (0 + 0) / 24]\r"
     ]
    },
    {
     "name": "stderr",
     "output_type": "stream",
     "text": [
      "\r",
      "[Stage 85:=>(15 + 8) / 24][Stage 86:>  (0 + 0) / 24][Stage 87:>  (0 + 0) / 24]\r"
     ]
    },
    {
     "name": "stderr",
     "output_type": "stream",
     "text": [
      "\r",
      "[Stage 86:=>(15 + 8) / 24][Stage 87:>  (0 + 0) / 24][Stage 88:>  (0 + 0) / 24]\r",
      "\r",
      "[Stage 87:=>(23 + 1) / 24][Stage 88:>  (0 + 7) / 24][Stage 89:>  (0 + 0) / 24]\r"
     ]
    },
    {
     "name": "stderr",
     "output_type": "stream",
     "text": [
      "\r",
      "[Stage 89:>  (2 + 8) / 24][Stage 90:>  (0 + 0) / 24][Stage 91:>  (0 + 0) / 24]\r",
      "\r",
      "[Stage 90:> (10 + 8) / 24][Stage 91:>  (0 + 0) / 24][Stage 92:>  (0 + 0) / 24]\r"
     ]
    },
    {
     "name": "stderr",
     "output_type": "stream",
     "text": [
      "\r",
      "[Stage 91:=>(16 + 8) / 24][Stage 92:>  (0 + 0) / 24][Stage 93:>  (0 + 0) / 24]\r",
      "\r",
      "[Stage 92:=>(22 + 2) / 24][Stage 93:>  (0 + 6) / 24][Stage 94:>  (0 + 0) / 24]\r"
     ]
    },
    {
     "name": "stderr",
     "output_type": "stream",
     "text": [
      "\r",
      "[Stage 93:=>(23 + 1) / 24][Stage 94:>  (0 + 7) / 24][Stage 95:>  (0 + 0) / 24]\r",
      "\r",
      "[Stage 95:>  (5 + 8) / 24][Stage 96:>  (0 + 0) / 24][Stage 97:>  (0 + 0) / 24]\r"
     ]
    },
    {
     "name": "stderr",
     "output_type": "stream",
     "text": [
      "\r",
      "[Stage 96:=>(12 + 8) / 24][Stage 97:>  (0 + 0) / 24][Stage 98:>  (0 + 0) / 24]\r",
      "\r",
      "[Stage 97:=>(16 + 8) / 24][Stage 98:>  (0 + 0) / 24][Stage 99:>  (0 + 0) / 24]\r"
     ]
    },
    {
     "name": "stderr",
     "output_type": "stream",
     "text": [
      "\r",
      "[Stage 99:>  (0 + 8) / 24][Stage 100:> (0 + 0) / 24][Stage 101:> (0 + 0) / 24]\r",
      "\r",
      "[Stage 100:> (2 + 8) / 24][Stage 101:> (0 + 0) / 24][Stage 102:> (0 + 0) / 24]\r"
     ]
    },
    {
     "name": "stderr",
     "output_type": "stream",
     "text": [
      "\r",
      "[Stage 101:> (8 + 8) / 24][Stage 102:> (0 + 0) / 24][Stage 103:> (0 + 0) / 24]\r",
      "\r",
      "[Stage 102:>(12 + 8) / 24][Stage 103:> (0 + 0) / 24][Stage 104:> (0 + 0) / 24]\r"
     ]
    },
    {
     "name": "stderr",
     "output_type": "stream",
     "text": [
      "\r",
      "[Stage 103:>(14 + 8) / 24][Stage 104:> (0 + 0) / 24][Stage 105:> (0 + 0) / 24]\r",
      "\r",
      "[Stage 104:>(20 + 4) / 24][Stage 105:> (0 + 5) / 24][Stage 106:> (0 + 0) / 24]\r"
     ]
    },
    {
     "name": "stderr",
     "output_type": "stream",
     "text": [
      "\r",
      "[Stage 106:> (1 + 9) / 24][Stage 107:> (0 + 0) / 24][Stage 108:> (0 + 0) / 24]\r",
      "\r",
      "[Stage 107:> (8 + 8) / 24][Stage 108:> (0 + 0) / 24][Stage 109:> (0 + 0) / 24]\r"
     ]
    },
    {
     "name": "stderr",
     "output_type": "stream",
     "text": [
      "\r",
      "[Stage 108:>(12 + 8) / 24][Stage 109:> (0 + 0) / 24][Stage 110:> (0 + 0) / 24]\r",
      "\r",
      "[Stage 109:>(16 + 8) / 24][Stage 110:> (0 + 0) / 24][Stage 111:> (0 + 0) / 24]\r"
     ]
    },
    {
     "name": "stderr",
     "output_type": "stream",
     "text": [
      "\r",
      "[Stage 110:>(20 + 4) / 24][Stage 111:> (0 + 5) / 24][Stage 112:> (0 + 0) / 24]\r",
      "\r",
      "[Stage 112:> (1 + 8) / 24][Stage 113:> (0 + 0) / 24][Stage 114:> (0 + 0) / 24]\r"
     ]
    },
    {
     "name": "stderr",
     "output_type": "stream",
     "text": [
      "\r",
      "[Stage 113:> (7 + 8) / 24][Stage 114:> (0 + 0) / 24][Stage 115:> (0 + 0) / 24]\r"
     ]
    },
    {
     "name": "stderr",
     "output_type": "stream",
     "text": [
      "\r",
      "[Stage 114:>(15 + 8) / 24][Stage 115:> (0 + 0) / 24][Stage 116:> (0 + 0) / 24]\r",
      "\r",
      "[Stage 115:>(23 + 1) / 24][Stage 116:> (0 + 7) / 24][Stage 117:> (0 + 0) / 24]\r"
     ]
    },
    {
     "name": "stderr",
     "output_type": "stream",
     "text": [
      "\r",
      "[Stage 117:> (8 + 8) / 24][Stage 118:> (0 + 0) / 24][Stage 119:> (0 + 0) / 24]\r"
     ]
    },
    {
     "name": "stderr",
     "output_type": "stream",
     "text": [
      "\r",
      "[Stage 118:(13 + 10) / 24][Stage 119:> (0 + 0) / 24][Stage 120:> (0 + 0) / 24]\r",
      "\r",
      "[Stage 120:> (0 + 8) / 24][Stage 121:> (0 + 0) / 24][Stage 122:> (0 + 0) / 24]\r"
     ]
    },
    {
     "name": "stderr",
     "output_type": "stream",
     "text": [
      "\r",
      "[Stage 121:> (5 + 8) / 24][Stage 122:> (0 + 0) / 24][Stage 123:> (0 + 0) / 24]\r",
      "\r",
      "[Stage 122:> (8 + 8) / 24][Stage 123:> (0 + 0) / 24][Stage 124:> (0 + 0) / 24]\r"
     ]
    },
    {
     "name": "stderr",
     "output_type": "stream",
     "text": [
      "\r",
      "[Stage 123:>(13 + 8) / 24][Stage 124:> (0 + 0) / 24][Stage 125:> (0 + 0) / 24]\r",
      "\r",
      "[Stage 124:>(20 + 4) / 24][Stage 125:> (0 + 4) / 24][Stage 126:> (0 + 0) / 24]\r"
     ]
    },
    {
     "name": "stderr",
     "output_type": "stream",
     "text": [
      "\r",
      "[Stage 125:>(22 + 2) / 24][Stage 126:> (1 + 6) / 24][Stage 127:> (0 + 0) / 24]\r",
      "\r",
      "[Stage 127:> (5 + 8) / 24][Stage 128:> (0 + 0) / 24][Stage 129:> (0 + 0) / 24]\r"
     ]
    },
    {
     "name": "stderr",
     "output_type": "stream",
     "text": [
      "\r",
      "[Stage 128:>(10 + 8) / 24][Stage 129:> (0 + 0) / 24][Stage 130:> (0 + 0) / 24]\r",
      "\r",
      "[Stage 129:>(14 + 8) / 24][Stage 130:> (0 + 0) / 24][Stage 131:> (0 + 0) / 24]\r"
     ]
    },
    {
     "name": "stderr",
     "output_type": "stream",
     "text": [
      "\r",
      "[Stage 130:>(19 + 5) / 24][Stage 131:> (0 + 3) / 24][Stage 132:> (0 + 0) / 24]\r",
      "\r",
      "[Stage 132:> (2 + 8) / 24][Stage 133:> (0 + 0) / 24][Stage 134:> (0 + 0) / 24]\r"
     ]
    },
    {
     "name": "stderr",
     "output_type": "stream",
     "text": [
      "\r",
      "[Stage 133:> (8 + 8) / 24][Stage 134:> (0 + 0) / 24][Stage 135:> (0 + 0) / 24]\r",
      "\r",
      "[Stage 134:>(16 + 8) / 24][Stage 135:> (0 + 0) / 24][Stage 136:> (0 + 0) / 24]\r"
     ]
    },
    {
     "name": "stderr",
     "output_type": "stream",
     "text": [
      "\r",
      "[Stage 135:>(21 + 3) / 24][Stage 136:> (0 + 5) / 24][Stage 137:> (0 + 0) / 24]\r",
      "\r",
      "[Stage 137:> (7 + 9) / 24][Stage 138:> (0 + 0) / 24][Stage 139:> (0 + 0) / 24]\r"
     ]
    },
    {
     "name": "stderr",
     "output_type": "stream",
     "text": [
      "\r",
      "[Stage 138:>(12 + 8) / 24][Stage 139:> (0 + 0) / 24][Stage 140:> (0 + 0) / 24]\r",
      "\r",
      "[Stage 139:>(17 + 7) / 24][Stage 140:> (0 + 1) / 24][Stage 141:> (0 + 0) / 24]\r"
     ]
    },
    {
     "name": "stderr",
     "output_type": "stream",
     "text": [
      "\r",
      "[Stage 140:>(21 + 3) / 24][Stage 141:> (0 + 5) / 24][Stage 142:> (0 + 0) / 24]\r",
      "\r",
      "[Stage 142:> (3 + 8) / 24][Stage 143:> (0 + 0) / 24][Stage 144:> (0 + 0) / 24]\r"
     ]
    },
    {
     "name": "stderr",
     "output_type": "stream",
     "text": [
      "\r",
      "[Stage 143:> (7 + 8) / 24][Stage 144:> (0 + 0) / 24][Stage 145:> (0 + 0) / 24]\r",
      "\r",
      "[Stage 144:> (9 + 8) / 24][Stage 145:> (0 + 0) / 24][Stage 146:> (0 + 0) / 24]\r"
     ]
    },
    {
     "name": "stderr",
     "output_type": "stream",
     "text": [
      "\r",
      "[Stage 145:>(14 + 8) / 24][Stage 146:> (0 + 0) / 24][Stage 147:> (0 + 0) / 24]\r",
      "\r",
      "[Stage 146:>(22 + 2) / 24][Stage 147:> (0 + 6) / 24][Stage 148:> (0 + 0) / 24]\r"
     ]
    },
    {
     "name": "stderr",
     "output_type": "stream",
     "text": [
      "\r",
      "[Stage 148:> (0 + 8) / 24][Stage 149:> (0 + 0) / 24][Stage 150:> (0 + 0) / 24]\r",
      "\r",
      "[Stage 149:> (7 + 8) / 24][Stage 150:> (0 + 0) / 24][Stage 151:> (0 + 0) / 24]\r"
     ]
    },
    {
     "name": "stderr",
     "output_type": "stream",
     "text": [
      "\r",
      "[Stage 150:>(11 + 8) / 24][Stage 151:> (0 + 0) / 24][Stage 152:> (0 + 0) / 24]\r",
      "\r",
      "[Stage 151:>(11 + 8) / 24][Stage 152:> (0 + 0) / 24][Stage 153:> (0 + 0) / 24]\r"
     ]
    },
    {
     "name": "stderr",
     "output_type": "stream",
     "text": [
      "\r",
      "[Stage 152:>(15 + 8) / 24][Stage 153:> (0 + 0) / 24][Stage 154:> (0 + 0) / 24]\r",
      "\r",
      "[Stage 153:>(19 + 5) / 24][Stage 154:> (0 + 3) / 24][Stage 155:> (0 + 0) / 24]\r"
     ]
    },
    {
     "name": "stderr",
     "output_type": "stream",
     "text": [
      "\r",
      "[Stage 154:>(20 + 4) / 24][Stage 155:> (0 + 6) / 24][Stage 156:> (0 + 0) / 24]\r",
      "\r",
      "[Stage 156:> (3 + 8) / 24][Stage 157:> (0 + 0) / 24][Stage 158:> (0 + 0) / 24]\r"
     ]
    },
    {
     "name": "stderr",
     "output_type": "stream",
     "text": [
      "\r",
      "[Stage 157:>(10 + 8) / 24][Stage 158:> (0 + 0) / 24][Stage 159:> (0 + 0) / 24]\r",
      "\r",
      "[Stage 158:>(15 + 8) / 24][Stage 159:> (0 + 0) / 24][Stage 160:> (0 + 0) / 24]\r"
     ]
    },
    {
     "name": "stderr",
     "output_type": "stream",
     "text": [
      "\r",
      "[Stage 159:>(20 + 4) / 24][Stage 160:> (0 + 4) / 24][Stage 161:> (0 + 0) / 24]\r",
      "\r",
      "[Stage 160:=(24 + 0) / 24][Stage 161:> (0 + 8) / 24][Stage 162:> (0 + 0) / 24]\r"
     ]
    },
    {
     "name": "stderr",
     "output_type": "stream",
     "text": [
      "\r",
      "[Stage 162:> (7 + 8) / 24][Stage 163:> (0 + 0) / 24][Stage 164:> (0 + 0) / 24]\r",
      "\r",
      "[Stage 163:>(15 + 8) / 24][Stage 164:> (0 + 0) / 24][Stage 165:> (0 + 0) / 24]\r"
     ]
    },
    {
     "name": "stderr",
     "output_type": "stream",
     "text": [
      "\r",
      "[Stage 164:>(23 + 1) / 24][Stage 165:> (0 + 7) / 24][Stage 166:> (0 + 0) / 24]\r",
      "\r",
      "[Stage 165:>(23 + 1) / 24][Stage 166:> (0 + 7) / 24][Stage 167:> (0 + 0) / 24]\r"
     ]
    },
    {
     "name": "stderr",
     "output_type": "stream",
     "text": [
      "\r",
      "[Stage 167:> (7 + 8) / 24][Stage 168:> (0 + 0) / 24][Stage 169:> (0 + 0) / 24]\r",
      "\r",
      "[Stage 168:>(10 + 9) / 24][Stage 169:> (0 + 0) / 24][Stage 170:> (0 + 0) / 24]\r"
     ]
    },
    {
     "name": "stderr",
     "output_type": "stream",
     "text": [
      "\r",
      "[Stage 169:>(17 + 7) / 24][Stage 170:> (0 + 2) / 24][Stage 171:> (0 + 0) / 24]\r",
      "\r",
      "[Stage 171:> (1 + 8) / 24][Stage 172:> (0 + 0) / 24][Stage 173:> (0 + 0) / 24]\r"
     ]
    },
    {
     "name": "stderr",
     "output_type": "stream",
     "text": [
      "\r",
      "[Stage 172:> (9 + 8) / 24][Stage 173:> (0 + 0) / 24][Stage 174:> (0 + 0) / 24]\r"
     ]
    },
    {
     "name": "stderr",
     "output_type": "stream",
     "text": [
      "\r",
      "[Stage 173:>(17 + 7) / 24][Stage 174:> (0 + 1) / 24][Stage 175:> (0 + 0) / 24]\r",
      "\r",
      "[Stage 175:> (1 + 8) / 24][Stage 176:> (0 + 0) / 24][Stage 177:> (0 + 0) / 24]\r"
     ]
    },
    {
     "name": "stderr",
     "output_type": "stream",
     "text": [
      "\r",
      "[Stage 176:> (7 + 8) / 24][Stage 177:> (0 + 0) / 24][Stage 178:> (0 + 0) / 24]\r",
      "\r",
      "[Stage 177:>(15 + 8) / 24][Stage 178:> (0 + 0) / 24][Stage 179:> (0 + 0) / 24]\r"
     ]
    },
    {
     "name": "stderr",
     "output_type": "stream",
     "text": [
      "\r",
      "[Stage 178:>(22 + 2) / 24][Stage 179:> (0 + 6) / 24][Stage 180:> (0 + 0) / 24]\r",
      "\r",
      "[Stage 180:> (1 + 8) / 24][Stage 181:> (0 + 0) / 24][Stage 182:> (0 + 0) / 24]\r"
     ]
    },
    {
     "name": "stderr",
     "output_type": "stream",
     "text": [
      "\r",
      "[Stage 181:> (7 + 8) / 24][Stage 182:> (0 + 0) / 24][Stage 183:> (0 + 0) / 24]\r",
      "\r",
      "[Stage 182:> (8 + 8) / 24][Stage 183:> (0 + 0) / 24][Stage 184:> (0 + 0) / 24]\r"
     ]
    },
    {
     "name": "stderr",
     "output_type": "stream",
     "text": [
      "\r",
      "[Stage 183:>(13 + 8) / 24][Stage 184:> (0 + 0) / 24][Stage 185:> (0 + 0) / 24]\r",
      "\r",
      "[Stage 184:>(17 + 7) / 24][Stage 185:> (0 + 1) / 24][Stage 186:> (0 + 0) / 24]\r"
     ]
    },
    {
     "name": "stderr",
     "output_type": "stream",
     "text": [
      "\r",
      "[Stage 185:>(23 + 1) / 24][Stage 186:> (0 + 7) / 24][Stage 187:> (0 + 0) / 24]\r",
      "\r",
      "[Stage 187:> (1 + 8) / 24][Stage 188:> (0 + 0) / 24][Stage 189:> (0 + 0) / 24]\r"
     ]
    },
    {
     "name": "stderr",
     "output_type": "stream",
     "text": [
      "\r",
      "[Stage 188:> (3 + 8) / 24][Stage 189:> (0 + 0) / 24][Stage 190:> (0 + 0) / 24]\r",
      "\r",
      "[Stage 189:>(10 + 8) / 24][Stage 190:> (0 + 0) / 24][Stage 191:> (0 + 0) / 24]\r"
     ]
    },
    {
     "name": "stderr",
     "output_type": "stream",
     "text": [
      "\r",
      "[Stage 190:>(16 + 8) / 24][Stage 191:> (0 + 0) / 24][Stage 192:> (0 + 0) / 24]\r",
      "\r",
      "[Stage 191:>(18 + 6) / 24][Stage 192:> (0 + 2) / 24][Stage 193:> (0 + 0) / 24]\r"
     ]
    },
    {
     "name": "stderr",
     "output_type": "stream",
     "text": [
      "\r",
      "[Stage 192:>(19 + 5) / 24][Stage 193:> (0 + 3) / 24][Stage 194:> (0 + 0) / 24]\r",
      "\r",
      "[Stage 193:>(15 + 8) / 24][Stage 194:> (0 + 0) / 24][Stage 195:> (0 + 0) / 24]\r"
     ]
    },
    {
     "name": "stderr",
     "output_type": "stream",
     "text": [
      "\r",
      "[Stage 194:>(18 + 6) / 24][Stage 195:> (0 + 2) / 24][Stage 196:> (0 + 0) / 24]\r"
     ]
    },
    {
     "name": "stderr",
     "output_type": "stream",
     "text": [
      "\r",
      "[Stage 195:>(23 + 1) / 24][Stage 196:> (1 + 7) / 24][Stage 197:> (0 + 0) / 24]\r",
      "\r",
      "[Stage 196:>(18 + 6) / 24][Stage 197:> (0 + 4) / 24][Stage 198:> (0 + 0) / 24]\r"
     ]
    },
    {
     "name": "stderr",
     "output_type": "stream",
     "text": [
      "\r",
      "[Stage 197:>(23 + 1) / 24][Stage 198:> (0 + 7) / 24][Stage 199:> (0 + 0) / 24]\r",
      "\r",
      "[Stage 199:> (4 + 8) / 24][Stage 200:> (0 + 0) / 24][Stage 201:> (0 + 0) / 24]\r"
     ]
    },
    {
     "name": "stderr",
     "output_type": "stream",
     "text": [
      "\r",
      "[Stage 200:> (3 + 8) / 24][Stage 201:> (0 + 0) / 24][Stage 202:> (0 + 0) / 24]\r",
      "\r",
      "[Stage 201:> (7 + 8) / 24][Stage 202:> (0 + 0) / 24][Stage 203:> (0 + 0) / 24]\r"
     ]
    },
    {
     "name": "stderr",
     "output_type": "stream",
     "text": [
      "\r",
      "[Stage 202:> (9 + 8) / 24][Stage 203:> (0 + 0) / 24][Stage 204:> (0 + 0) / 24]\r",
      "\r",
      "[Stage 203:=======>       (12 + 8) / 24][Stage 204:>               (0 + 0) / 24]\r"
     ]
    },
    {
     "name": "stderr",
     "output_type": "stream",
     "text": [
      "\r",
      "[Stage 204:================================>                      (14 + 8) / 24]\r"
     ]
    },
    {
     "name": "stderr",
     "output_type": "stream",
     "text": [
      "25/04/06 15:11:32 WARN DAGScheduler: Broadcasting large task binary with size 3.8 MiB\n",
      "\r",
      "                                                                                \r"
     ]
    },
    {
     "name": "stdout",
     "output_type": "stream",
     "text": [
      "+------+-------------------+------------------+------------------+------------------+------------------+----------+----------+--------------+-----------------------+--------------------+--------------------+----------+--------------------+\n",
      "|ticker|               data|          abertura|              alta|             baixa|        fechamento|    volume|dividendos|desdobramentos|fechamento_mes_anterior|       valor_retorno| porcentagem_retorno|  dt_ptcao|          dthr_igtao|\n",
      "+------+-------------------+------------------+------------------+------------------+------------------+----------+----------+--------------+-----------------------+--------------------+--------------------+----------+--------------------+\n",
      "|  AMZN|2015-05-01 01:00:00| 21.19099998474121|21.950000762939453|20.727500915527344| 21.46150016784668|1039660000|       0.0|           0.0|                   NULL|                NULL|                NULL|2025-04-06|2025-04-06 12:10:...|\n",
      "|  AMZN|2015-06-01 01:00:00|21.520000457763672|22.351999282836914|20.957000732421875|21.704500198364258|1099750000|       0.0|           0.0|      21.46150016784668| 0.24300003051757812|  1.1322602269977258|2025-04-06|2025-04-06 12:10:...|\n",
      "|  AMZN|2015-07-01 01:00:00|21.967500686645508|29.028499603271484|21.278499603271484|  26.8075008392334|2041400000|       0.0|           0.0|     21.704500198364258|   5.103000640869141|  23.511256164533677|2025-04-06|2025-04-06 12:10:...|\n",
      "|  AMZN|2015-08-01 01:00:00|26.872499465942383|27.136999130249023|22.549999237060547|25.644500732421875|1657264000|       0.0|           0.0|       26.8075008392334| -1.1630001068115234|  -4.338338414259959|2025-04-06|2025-04-06 12:10:...|\n",
      "|  AMZN|2015-09-01 01:00:00|24.957000732421875| 27.48900032043457|24.524999618530273|25.594499588012695|1535378000|       0.0|           0.0|     25.644500732421875|-0.05000114440917969| -0.1949780381021969|2025-04-06|2025-04-06 12:10:...|\n",
      "|  AMZN|2015-10-01 01:00:00|25.549999237060547|31.535999298095703|25.299999237060547|31.295000076293945|1942522000|       0.0|           0.0|     25.594499588012695|    5.70050048828125|  22.272365469302265|2025-04-06|2025-04-06 12:10:...|\n",
      "|  AMZN|2015-11-01 02:00:00| 31.35650062561035| 34.13850021362305| 31.02050018310547|  33.2400016784668|1746098000|       0.0|           0.0|     31.295000076293945|  1.9450016021728516|   6.215055431957631|2025-04-06|2025-04-06 12:10:...|\n",
      "|  AMZN|2015-12-01 03:00:00|           33.6875|34.821998596191406|31.763500213623047|33.794498443603516|1803750000|       0.0|           0.0|       33.2400016784668|  0.5544967651367188|  1.6681610623862493|2025-04-06|2025-04-06 12:10:...|\n",
      "|  AMZN|2016-01-01 03:00:00| 32.81449890136719| 32.88600158691406|27.358999252319336|29.350000381469727|2604018000|       0.0|           0.0|     33.794498443603516|  -4.444498062133789| -13.151543200295743|2025-04-06|2025-04-06 12:10:...|\n",
      "|  AMZN|2016-02-01 03:00:00|28.907499313354492| 29.09000015258789|23.700000762939453|27.625999450683594|2482896000|       0.0|           0.0|     29.350000381469727| -1.7240009307861328| -5.8739383590420315|2025-04-06|2025-04-06 12:10:...|\n",
      "|  AMZN|2016-03-01 02:00:00| 27.81450080871582| 30.16200065612793|26.929000854492188| 29.68199920654297|1880190000|       0.0|           0.0|     27.625999450683594|   2.055999755859375|  7.4422637976578265|2025-04-06|2025-04-06 12:10:...|\n",
      "|  AMZN|2016-04-01 01:00:00|29.524499893188477|33.499000549316406|29.262500762939453| 32.97949981689453|1569284000|       0.0|           0.0|      29.68199920654297|  3.2975006103515625|   11.10942894178326|2025-04-06|2025-04-06 12:10:...|\n",
      "|  AMZN|2016-05-01 01:00:00| 33.19599914550781| 36.21149826049805| 32.79999923706055| 36.13949966430664|1812290000|       0.0|           0.0|      32.97949981689453|  3.1599998474121094|   9.581709440582008|2025-04-06|2025-04-06 12:10:...|\n",
      "|  AMZN|2016-06-01 01:00:00| 36.04499816894531| 36.57500076293945| 34.10599899291992| 35.78099822998047|1490818000|       0.0|           0.0|      36.13949966430664| -0.3585014343261719| -0.9919933525816009|2025-04-06|2025-04-06 12:10:...|\n",
      "|  AMZN|2016-07-01 01:00:00| 35.86600112915039| 38.29999923706055| 35.82699966430664| 37.94049835205078|1372710000|       0.0|           0.0|      35.78099822998047|  2.1595001220703125|   6.035326650727406|2025-04-06|2025-04-06 12:10:...|\n",
      "|  AMZN|2016-08-01 01:00:00|37.993499755859375|38.749000549316406| 37.51750183105469| 38.45800018310547|1000008000|       0.0|           0.0|      37.94049835205078|  0.5175018310546875|  1.3639826927226306|2025-04-06|2025-04-06 12:10:...|\n",
      "|  AMZN|2016-09-01 01:00:00| 38.54499816894531|41.997501373291016| 37.79999923706055|41.865501403808594|1346714000|       0.0|           0.0|      38.45800018310547|   3.407501220703125|    8.86031828092828|2025-04-06|2025-04-06 12:10:...|\n",
      "|  AMZN|2016-10-01 01:00:00| 41.79999923706055| 42.36050033569336|38.730499267578125| 39.49100112915039|1541276000|       0.0|           0.0|     41.865501403808594|  -2.374500274658203|   -5.67173494891474|2025-04-06|2025-04-06 12:10:...|\n",
      "|  AMZN|2016-11-01 02:00:00| 39.95000076293945| 40.04199981689453|35.505001068115234|37.528499603271484|2201718000|       0.0|           0.0|      39.49100112915039| -1.9625015258789062|  -4.969490440267113|2025-04-06|2025-04-06 12:10:...|\n",
      "|  AMZN|2016-12-01 03:00:00| 37.62049865722656| 39.12300109863281|36.834999084472656|37.493499755859375|1473204000|       0.0|           0.0|     37.528499603271484|-0.03499984741210...|-0.09326204826227139|2025-04-06|2025-04-06 12:10:...|\n",
      "+------+-------------------+------------------+------------------+------------------+------------------+----------+----------+--------------+-----------------------+--------------------+--------------------+----------+--------------------+\n",
      "only showing top 20 rows\n",
      "\n"
     ]
    }
   ],
   "source": [
    "historical_data = obter_dados_historicos(df_tickers, start_date_str, end_date_str)\n",
    "df_retorno_mensal = retorno_mensal(historical_data)\n",
    "\n",
    "# Mostrar o DataFrame final\n",
    "df_retorno_mensal.show()"
   ]
  },
  {
   "cell_type": "markdown",
   "id": "2ddbf8d8",
   "metadata": {
    "papermill": {
     "duration": 0.028474,
     "end_time": "2025-04-06T15:11:32.511859",
     "exception": false,
     "start_time": "2025-04-06T15:11:32.483385",
     "status": "completed"
    },
    "tags": []
   },
   "source": [
    "# dimensões gerais \n",
    "\n",
    "2. **Criação dos DataFrames**:\n",
    "   - **Tabela Geral** (`df_financeira`): Contém informações gerais da empresa, como setor, indústria, número de empregados, localização e resumo das atividades.\n",
    "   - **Tabela Financeira** (`df_financeira`): Contém dados financeiros da empresa, como capitalização de mercado, receita, lucro líquido, EBITDA, dívida total, entre outros.\n",
    "   - **Tabela de Mercado** (`df_mercado`): Inclui dados relacionados ao mercado, como preço atual, preço de abertura, volume de negociação, beta, entre outros.\n",
    "   - **Tabela de Dividendos** (`df_dividendos`): Contém informações sobre dividendos, incluindo taxa de dividendos, data ex-dividendo e índice de distribuição.\n",
    "   - **Tabela de Valuation** (`df_valuation`): Inclui dados de valuation da empresa, como índices P/E (Price to Earnings), P/B (Price to Book) e PEG (Price/Earnings to Growth).\n",
    "   - **Tabela de Retorno Mensal** (`df_retorno_mensal`): Retorno mensal da ação com base em preço da ação, dividendos e percentual"
   ]
  },
  {
   "cell_type": "code",
   "execution_count": 12,
   "id": "a294824f",
   "metadata": {
    "execution": {
     "iopub.execute_input": "2025-04-06T15:11:32.585949Z",
     "iopub.status.busy": "2025-04-06T15:11:32.585670Z",
     "iopub.status.idle": "2025-04-06T15:11:32.605398Z",
     "shell.execute_reply": "2025-04-06T15:11:32.604744Z"
    },
    "jupyter": {
     "source_hidden": true
    },
    "papermill": {
     "duration": 0.061333,
     "end_time": "2025-04-06T15:11:32.606492",
     "exception": false,
     "start_time": "2025-04-06T15:11:32.545159",
     "status": "completed"
    },
    "tags": []
   },
   "outputs": [],
   "source": [
    "from pyspark.sql.functions import from_unixtime, col\n",
    "\n",
    "def criar_tabelas_spark(tickers):\n",
    "    if isinstance(tickers, str):\n",
    "        tickers = (tickers,)\n",
    "    \n",
    "    # Esquema para a tabela geral\n",
    "    schema_geral = StructType([\n",
    "        StructField('ticker', StringType(), False),\n",
    "        StructField('setor', StringType(), True),\n",
    "        StructField('industria', StringType(), True),\n",
    "        StructField('funcionarios', IntegerType(), True),\n",
    "        StructField('cidade', StringType(), True),\n",
    "        StructField('estado', StringType(), True),\n",
    "        StructField('pais', StringType(), True),\n",
    "        StructField('website', StringType(), True),\n",
    "        StructField('resumo_negocios', StringType(), True),\n",
    "        StructField('exchange', StringType(), True)\n",
    "    ])\n",
    "    \n",
    "    # Esquema para a tabela financeira\n",
    "    schema_financeira = StructType([\n",
    "        StructField('ticker', StringType(), False),\n",
    "        StructField('capitalizacao_mercado', LongType(), True),\n",
    "        StructField('valor_empresa', LongType(), True),\n",
    "        StructField('receita', LongType(), True),\n",
    "        StructField('lucros_brutos', LongType(), True),\n",
    "        StructField('lucro_liquido', LongType(), True),\n",
    "        StructField('ebitda', LongType(), True),\n",
    "        StructField('divida_total', LongType(), True),\n",
    "        StructField('caixa_total', LongType(), True),\n",
    "        StructField('dividend_yield', DoubleType(), True)\n",
    "    ])\n",
    "    \n",
    "    # Esquema para a tabela de mercado\n",
    "    schema_mercado = StructType([\n",
    "        StructField('ticker', StringType(), False),\n",
    "        StructField('preco_atual', DoubleType(), True),\n",
    "        StructField('fechamento_anterior', DoubleType(), True),\n",
    "        StructField('abertura', DoubleType(), True),\n",
    "        StructField('minimo_dia', DoubleType(), True),\n",
    "        StructField('maximo_dia', DoubleType(), True),\n",
    "        StructField('minimo_52_semanas', DoubleType(), True),\n",
    "        StructField('maximo_52_semanas', DoubleType(), True),\n",
    "        StructField('volume', LongType(), True),\n",
    "        StructField('volume_medio', LongType(), True),\n",
    "        StructField('beta', DoubleType(), True)\n",
    "    ])\n",
    "    \n",
    "    # Esquema para a tabela de dividendos\n",
    "    schema_dividendos = StructType([\n",
    "        StructField('ticker', StringType(), False),\n",
    "        StructField('taxa_dividendo', DoubleType(), True),\n",
    "        StructField('data_exdividendo', StringType(), True),  # Temporariamente como StringType\n",
    "        StructField('indice_distribuicao', DoubleType(), True)\n",
    "    ])\n",
    "    \n",
    "    # Esquema para a tabela de valuation\n",
    "    schema_valuation = StructType([\n",
    "        StructField('ticker', StringType(), False),\n",
    "        StructField('pl_futuro', DoubleType(), True),\n",
    "        StructField('pl_retroativo', DoubleType(), True),\n",
    "        StructField('preco_booking', DoubleType(), True),\n",
    "        StructField('indice_preco_lucro_cresc', DoubleType(), True)\n",
    "    ])\n",
    "    \n",
    "    # Inicializa as listas de dicionários para cada tabela\n",
    "    geral = []\n",
    "    financeira = []\n",
    "    mercado = []\n",
    "    dividendos = []\n",
    "    valuation = []\n",
    "    \n",
    "    for ticker in tickers:\n",
    "        try:\n",
    "            empresa = yf.Ticker(ticker)\n",
    "            info = empresa.info\n",
    "            \n",
    "            # Filtra e trata valores infinitos\n",
    "            def safe_get(key, default=None):\n",
    "                value = info.get(key)\n",
    "                if isinstance(value, str) and value in ('Infinity', '-Infinity'):\n",
    "                    return default\n",
    "                return value\n",
    "            \n",
    "            # Preencher dados da tabela geral\n",
    "            geral.append({\n",
    "                'ticker': ticker,\n",
    "                'setor': info.get('sector'),\n",
    "                'industria': info.get('industry'),\n",
    "                'funcionarios': info.get('fullTimeEmployees'),\n",
    "                'cidade': info.get('city'),\n",
    "                'estado': info.get('state'),\n",
    "                'pais': info.get('country'),\n",
    "                'website': info.get('website'),\n",
    "                'resumo_negocios': info.get('longBusinessSummary'),\n",
    "                'exchange': info.get('exchange')\n",
    "            })\n",
    "            \n",
    "            # Preencher dados da tabela financeira\n",
    "            financeira.append({\n",
    "                'ticker': ticker,\n",
    "                'capitalizacao_mercado': safe_get('marketCap', 0),\n",
    "                'valor_empresa': safe_get('enterpriseValue', 0),\n",
    "                'receita': safe_get('revenue', 0),\n",
    "                'lucros_brutos': safe_get('grossProfits', 0),\n",
    "                'lucro_liquido': safe_get('netIncome', 0),\n",
    "                'ebitda': safe_get('ebitda', 0),\n",
    "                'divida_total': safe_get('totalDebt', 0),\n",
    "                'caixa_total': safe_get('totalCash', 0),\n",
    "                'dividend_yield': safe_get('dividendYield', 0.0)\n",
    "            })\n",
    "            \n",
    "            # Preencher dados da tabela de mercado\n",
    "            mercado.append({\n",
    "                'ticker': ticker,\n",
    "                'preco_atual': safe_get('currentPrice', 0.0),\n",
    "                'fechamento_anterior': safe_get('previousClose', 0.0),\n",
    "                'abertura': safe_get('open', 0.0),\n",
    "                'minimo_dia': safe_get('dayLow', 0.0),\n",
    "                'maximo_dia': safe_get('dayHigh', 0.0),\n",
    "                'minimo_52_semanas': safe_get('fiftyTwoWeekLow', 0.0),\n",
    "                'maximo_52_semanas': safe_get('fiftyTwoWeekHigh', 0.0),\n",
    "                'volume': safe_get('volume', 0),\n",
    "                'volume_medio': safe_get('averageVolume', 0),\n",
    "                'beta': safe_get('beta', 0.0)\n",
    "            })\n",
    "            \n",
    "            # Preencher dados da tabela de dividendos\n",
    "            dividendos.append({\n",
    "                'ticker': ticker,\n",
    "                'taxa_dividendo': safe_get('dividendRate', 0.0),\n",
    "                'data_exdividendo': safe_get('exDividendDate'),  # Unix timestamp\n",
    "                'indice_distribuicao': safe_get('payoutRatio', 0.0)\n",
    "            })\n",
    "            \n",
    "            # Preencher dados da tabela de valuation\n",
    "            valuation.append({\n",
    "                'ticker': ticker,\n",
    "                'pl_futuro': safe_get('forwardPE', 0.0),\n",
    "                'pl_retroativo': safe_get('trailingPE', 0.0),\n",
    "                'preco_booking': safe_get('priceToBook', 0.0),\n",
    "                'indice_preco_lucro_cresc': safe_get('pegRatio', 0.0)\n",
    "            })\n",
    "            \n",
    "        except Exception as e:\n",
    "            print(f\"Erro ao processar o ticker {ticker}: {e}\")\n",
    "    \n",
    "    # Criar DataFrames Spark com esquema definido\n",
    "    df_geral = spark.createDataFrame(geral, schema=schema_geral)\n",
    "    df_financeira = spark.createDataFrame(financeira, schema=schema_financeira)\n",
    "    df_mercado = spark.createDataFrame(mercado, schema=schema_mercado)\n",
    "    df_dividendos = spark.createDataFrame(dividendos, schema=schema_dividendos)\n",
    "    df_valuation = spark.createDataFrame(valuation, schema=schema_valuation)\n",
    "\n",
    "    # Converter Unix timestamp para data legível\n",
    "    df_dividendos = df_dividendos.withColumn('data_exdividendo', from_unixtime(col('data_exdividendo').cast('bigint')))\n",
    "    \n",
    "    # Adicionar colunas de timestamp\n",
    "    df_geral = df_geral.withColumn('dt_ptcao', date_format(current_timestamp(), 'yyyy-MM-dd'))\n",
    "    df_geral = df_geral.withColumn('dthr_igtao', current_timestamp())\n",
    "\n",
    "    df_financeira = df_financeira.withColumn('dt_ptcao', date_format(current_timestamp(), 'yyyy-MM-dd'))\n",
    "    df_financeira = df_financeira.withColumn('dthr_igtao', current_timestamp())\n",
    "\n",
    "    df_mercado = df_mercado.withColumn('dt_ptcao', date_format(current_timestamp(), 'yyyy-MM-dd'))\n",
    "    df_mercado = df_mercado.withColumn('dthr_igtao', current_timestamp())\n",
    "\n",
    "    df_dividendos = df_dividendos.withColumn('dt_ptcao', date_format(current_timestamp(), 'yyyy-MM-dd'))\n",
    "    df_dividendos = df_dividendos.withColumn('dthr_igtao', current_timestamp())\n",
    "\n",
    "    df_valuation = df_valuation.withColumn('dt_ptcao', date_format(current_timestamp(), 'yyyy-MM-dd'))\n",
    "    df_valuation = df_valuation.withColumn('dthr_igtao', current_timestamp())\n",
    "    \n",
    "    return df_geral, df_financeira, df_mercado, df_dividendos, df_valuation\n"
   ]
  },
  {
   "cell_type": "code",
   "execution_count": 13,
   "id": "b2d23b4b",
   "metadata": {
    "execution": {
     "iopub.execute_input": "2025-04-06T15:11:32.626820Z",
     "iopub.status.busy": "2025-04-06T15:11:32.626296Z",
     "iopub.status.idle": "2025-04-06T15:13:27.181470Z",
     "shell.execute_reply": "2025-04-06T15:13:27.180863Z"
    },
    "jupyter": {
     "source_hidden": true
    },
    "papermill": {
     "duration": 114.56646,
     "end_time": "2025-04-06T15:13:27.182508",
     "exception": false,
     "start_time": "2025-04-06T15:11:32.616048",
     "status": "completed"
    },
    "tags": []
   },
   "outputs": [
    {
     "name": "stdout",
     "output_type": "stream",
     "text": [
      "+------+--------------------+--------------------+------------+-------------+------+-------------+--------------------+--------------------+--------+----------+--------------------+\n",
      "|ticker|               setor|           industria|funcionarios|       cidade|estado|         pais|             website|     resumo_negocios|exchange|  dt_ptcao|          dthr_igtao|\n",
      "+------+--------------------+--------------------+------------+-------------+------+-------------+--------------------+--------------------+--------+----------+--------------------+\n",
      "|  AAPL|          Technology|Consumer Electronics|      150000|    Cupertino|    CA|United States|https://www.apple...|Apple Inc. design...|     NMS|2025-04-06|2025-04-06 12:13:...|\n",
      "|  MSFT|          Technology|Software - Infras...|      228000|      Redmond|    WA|United States|https://www.micro...|Microsoft Corpora...|     NMS|2025-04-06|2025-04-06 12:13:...|\n",
      "|  NVDA|          Technology|      Semiconductors|       36000|  Santa Clara|    CA|United States|https://www.nvidi...|NVIDIA Corporatio...|     NMS|2025-04-06|2025-04-06 12:13:...|\n",
      "|  AMZN|   Consumer Cyclical|     Internet Retail|     1556000|      Seattle|    WA|United States|https://www.about...|Amazon.com, Inc. ...|     NMS|2025-04-06|2025-04-06 12:13:...|\n",
      "|  GOOG|Communication Ser...|Internet Content ...|      183323|Mountain View|    CA|United States|     https://abc.xyz|Alphabet Inc. off...|     NMS|2025-04-06|2025-04-06 12:13:...|\n",
      "| GOOGL|Communication Ser...|Internet Content ...|      183323|Mountain View|    CA|United States|     https://abc.xyz|Alphabet Inc. off...|     NMS|2025-04-06|2025-04-06 12:13:...|\n",
      "|  META|Communication Ser...|Internet Content ...|       74067|   Menlo Park|    CA|United States|https://investor....|Meta Platforms, I...|     NMS|2025-04-06|2025-04-06 12:13:...|\n",
      "|  TSLA|   Consumer Cyclical|  Auto Manufacturers|      125665|       Austin|    TX|United States|https://www.tesla...|Tesla, Inc. desig...|     NMS|2025-04-06|2025-04-06 12:13:...|\n",
      "|   TSM|          Technology|      Semiconductors|        NULL| Hsinchu City|  NULL|       Taiwan|https://www.tsmc.com|Taiwan Semiconduc...|     NYQ|2025-04-06|2025-04-06 12:13:...|\n",
      "|  AVGO|          Technology|      Semiconductors|       37000|    Palo Alto|    CA|United States|https://www.broad...|Broadcom Inc. des...|     NMS|2025-04-06|2025-04-06 12:13:...|\n",
      "|   WMT|  Consumer Defensive|     Discount Stores|     2100000|  Bentonville|    AR|United States|https://corporate...|Walmart Inc. enga...|     NYQ|2025-04-06|2025-04-06 12:13:...|\n",
      "|   JPM|  Financial Services| Banks - Diversified|      317233|     New York|    NY|United States|https://www.jpmor...|JPMorgan Chase & ...|     NYQ|2025-04-06|2025-04-06 12:13:...|\n",
      "|   XOM|              Energy|Oil & Gas Integrated|       61000|       Spring|    TX|United States|https://corporate...|Exxon Mobil Corpo...|     NYQ|2025-04-06|2025-04-06 12:13:...|\n",
      "|  BABA|   Consumer Cyclical|     Internet Retail|      194320|     Hangzhou|  NULL|        China|https://www.aliba...|Alibaba Group Hol...|     NYQ|2025-04-06|2025-04-06 12:13:...|\n",
      "|    KO|  Consumer Defensive|Beverages - Non-A...|       69700|      Atlanta|    GA|United States|https://www.coca-...|The Coca-Cola Com...|     NYQ|2025-04-06|2025-04-06 12:13:...|\n",
      "|   BAC|  Financial Services| Banks - Diversified|      213000|    Charlotte|    NC|United States|https://www.banko...|Bank of America C...|     NYQ|2025-04-06|2025-04-06 12:13:...|\n",
      "|   CVX|              Energy|Oil & Gas Integrated|       45298|      Houston|    TX|United States|https://www.chevr...|Chevron Corporati...|     NYQ|2025-04-06|2025-04-06 12:13:...|\n",
      "|  CSCO|          Technology|Communication Equ...|       90400|     San Jose|    CA|United States|https://www.cisco...|Cisco Systems, In...|     NMS|2025-04-06|2025-04-06 12:13:...|\n",
      "|   MRK|          Healthcare|Drug Manufacturer...|       73000|       Rahway|    NJ|United States|https://www.merck...|Merck & Co., Inc....|     NYQ|2025-04-06|2025-04-06 12:13:...|\n",
      "|   WFC|  Financial Services| Banks - Diversified|      217000|San Francisco|    CA|United States|https://www.wells...|Wells Fargo & Com...|     NYQ|2025-04-06|2025-04-06 12:13:...|\n",
      "+------+--------------------+--------------------+------------+-------------+------+-------------+--------------------+--------------------+--------+----------+--------------------+\n",
      "only showing top 20 rows\n",
      "\n",
      "+------+---------------------+-------------+-------+-------------+-------------+-------------+-------------+-------------+--------------+----------+--------------------+\n",
      "|ticker|capitalizacao_mercado|valor_empresa|receita|lucros_brutos|lucro_liquido|       ebitda| divida_total|  caixa_total|dividend_yield|  dt_ptcao|          dthr_igtao|\n",
      "+------+---------------------+-------------+-------+-------------+-------------+-------------+-------------+-------------+--------------+----------+--------------------+\n",
      "|  AAPL|        2829863354368|2872882233344|   NULL| 184102993920|         NULL| 137352003584|  96798998528|  53774999552|          0.53|2025-04-06|2025-04-06 12:13:...|\n",
      "|  MSFT|        2675043205120|2706398248960|   NULL| 181714993152|         NULL| 142041006080| 102909001728|  71554998272|          0.92|2025-04-06|2025-04-06 12:13:...|\n",
      "|  NVDA|        2301163732992|2268224028672|   NULL|  97858002944|         NULL|  83316998144|  10270000128|  43209998336|          0.04|2025-04-06|2025-04-06 12:13:...|\n",
      "|  AMZN|        1812206583808|1866410754048|   NULL| 311670996992|         NULL| 120467996672| 155400994816| 101202001920|          NULL|2025-04-06|2025-04-06 12:13:...|\n",
      "|  GOOG|        1786634698752|1733430607872|   NULL| 203712004096|         NULL| 129496997888|  28137000960|  95657000960|          0.54|2025-04-06|2025-04-06 12:13:...|\n",
      "| GOOGL|        1786628538368|1707344003072|   NULL| 203712004096|         NULL| 129496997888|  28137000960|  95657000960|          0.55|2025-04-06|2025-04-06 12:13:...|\n",
      "|  META|        1278814191616|1250767798272|   NULL| 134371000320|         NULL|  83716997120|  49769000960|  77814996992|          0.42|2025-04-06|2025-04-06 12:13:...|\n",
      "|  TSLA|         770131361792| 747957649408|   NULL|  17450000384|         NULL|  13027000320|  13623000064|  36563001344|          NULL|2025-04-06|2025-04-06 12:13:...|\n",
      "|   TSM|         761385517056|2470027460608|   NULL|1624353538048|         NULL|1976850448384|1050091126784|2422019719168|          1.87|2025-04-06|2025-04-06 12:13:...|\n",
      "|  AVGO|         687848226816|  89504186368|   NULL|  41581998080|         NULL|  28841000960|  40456998912|  11105000448|          1.61|2025-04-06|2025-04-06 12:13:...|\n",
      "|   WMT|         666921795584| 726676733952|   NULL| 169232007168|         NULL|  42221998080|  62113001472|   9036999680|          1.13|2025-04-06|2025-04-06 12:13:...|\n",
      "|   JPM|         587966054400| 202413195264|   NULL| 166774996992|         NULL|         NULL| 832929988608|1238531964928|          2.66|2025-04-06|2025-04-06 12:13:...|\n",
      "|   XOM|         452745854976| 484927209472|   NULL| 104666996736|         NULL|  64293998592|  48308998144|  23029000192|           3.8|2025-04-06|2025-04-06 12:13:...|\n",
      "|  BABA|         303513272320|2062660141056|   NULL| 381009985536|         NULL| 190467997696| 264301002752| 453278007296|          1.72|2025-04-06|2025-04-06 12:13:...|\n",
      "|    KO|         300948652032| 334370963456|   NULL|  28736999424|         NULL|  15376000000|  46656999424|  14570999808|          2.92|2025-04-06|2025-04-06 12:13:...|\n",
      "|   BAC|         261460295680| 253255843840|   NULL|  96066002944|         NULL|         NULL| 717446971392| 748875022336|          3.02|2025-04-06|2025-04-06 12:13:...|\n",
      "|   CVX|         252258779136| 275923566592|   NULL|  77298999296|         NULL|  40080998400|  29610999808|   6784999936|          4.77|2025-04-06|2025-04-06 12:13:...|\n",
      "|  CSCO|         216975933440| 231754072064|   NULL|  35285999616|         NULL|  14588999680|  32422000640|  17643999232|          3.01|2025-04-06|2025-04-06 12:13:...|\n",
      "|   MRK|         205796491264| 230436175872|   NULL|  49470001152|         NULL|  29134000128|  38270001152|  13688999936|          3.98|2025-04-06|2025-04-06 12:13:...|\n",
      "|   WFC|         199109443584| 141896613888|   NULL|  77962002432|         NULL|         NULL| 302642003968| 381812998144|          2.62|2025-04-06|2025-04-06 12:13:...|\n",
      "+------+---------------------+-------------+-------+-------------+-------------+-------------+-------------+-------------+--------------+----------+--------------------+\n",
      "only showing top 20 rows\n",
      "\n"
     ]
    },
    {
     "name": "stdout",
     "output_type": "stream",
     "text": [
      "+------+-----------+-------------------+--------+----------+----------+-----------------+-----------------+---------+------------+-----+----------+--------------------+\n",
      "|ticker|preco_atual|fechamento_anterior|abertura|minimo_dia|maximo_dia|minimo_52_semanas|maximo_52_semanas|   volume|volume_medio| beta|  dt_ptcao|          dthr_igtao|\n",
      "+------+-----------+-------------------+--------+----------+----------+-----------------+-----------------+---------+------------+-----+----------+--------------------+\n",
      "|  AAPL|     188.38|             203.19| 193.925|   187.345|    199.88|           164.08|            260.1|124921508|    54722618|1.259|2025-04-06|2025-04-06 12:13:...|\n",
      "|  MSFT|     359.84|             373.11| 364.125|    359.49|    374.59|           359.48|           468.35| 48685644|    23734163|  1.0|2025-04-06|2025-04-06 12:13:...|\n",
      "|  NVDA|      94.31|              101.8|   98.94|     92.11|  100.1241|           75.606|           153.13|525608136|   286926860|1.958|2025-04-06|2025-04-06 12:13:...|\n",
      "|  AMZN|      171.0|             178.41| 167.145|     166.0|  178.1436|           151.61|           242.52|118861321|    43001542|1.393|2025-04-06|2025-04-06 12:13:...|\n",
      "|  GOOG|     147.74|             152.63|   149.9|    147.55|    153.09|           147.54|            208.7| 39449871|    20547327|1.035|2025-04-06|2025-04-06 12:13:...|\n",
      "| GOOGL|      145.6|             150.72| 148.175|    145.38|    151.05|           145.38|           207.05| 62058272|    32100175|1.035|2025-04-06|2025-04-06 12:13:...|\n",
      "|  META|     504.73|             531.62|  506.62|     494.2|     518.0|            414.5|           740.91| 38212100|    17060565|1.279|2025-04-06|2025-04-06 12:13:...|\n",
      "|  TSLA|     239.43|             267.28|  255.37|     236.0|     261.0|            138.8|           488.54|179251800|   101585827| 2.58|2025-04-06|2025-04-06 12:13:...|\n",
      "|   TSM|      146.8|             157.38|  150.89|    144.84|    151.31|           125.78|            226.4| 35071851|    17436118|1.307|2025-04-06|2025-04-06 12:13:...|\n",
      "|  AVGO|     146.29|             154.01| 148.225|  139.1701|     152.8|          119.756|           251.88| 71907529|    31339952|1.068|2025-04-06|2025-04-06 12:13:...|\n",
      "|   WMT|      83.19|              87.26|   85.64|     82.65|     87.39|            58.56|            105.3| 36160087|    21240798|0.693|2025-04-06|2025-04-06 12:13:...|\n",
      "|   JPM|     210.28|             227.29| 215.305|    208.93|     217.7|            179.2|           280.25| 27136867|    10871619|1.005|2025-04-06|2025-04-06 12:13:...|\n",
      "|   XOM|     104.34|             112.43| 109.865|    103.84|    110.83|           103.67|           126.34| 30821496|    16438824|0.579|2025-04-06|2025-04-06 12:13:...|\n",
      "|  BABA|     116.54|             129.33|  117.57|  111.3004|     118.8|            68.36|           148.43| 55567147|    29376473|0.235|2025-04-06|2025-04-06 12:13:...|\n",
      "|    KO|      69.93|              73.18|   72.42|     69.79|     73.01|            57.93|            73.95| 26495980|    18565624|0.454|2025-04-06|2025-04-06 12:13:...|\n",
      "|   BAC|      34.39|              37.22|   35.29|     33.67|     35.79|            33.67|            48.08| 95717260|    41370196|1.254|2025-04-06|2025-04-06 12:13:...|\n",
      "|   CVX|     143.28|             156.12| 151.755|    142.76|    152.46|           135.37|           168.96| 17723299|     8438518|0.913|2025-04-06|2025-04-06 12:13:...|\n",
      "|  CSCO|      54.54|              57.31|  56.656|     54.44|     57.47|             44.5|             66.5| 41238578|    21997529|0.854|2025-04-06|2025-04-06 12:13:...|\n",
      "|   MRK|      81.47|              86.39|   86.12|     81.09|     86.26|            81.04|           134.63| 17679807|    16405790|0.416|2025-04-06|2025-04-06 12:13:...|\n",
      "|   WFC|      60.98|              65.67|   62.75|   59.7101|     63.57|            50.15|             81.5| 31014999|    16495826|1.012|2025-04-06|2025-04-06 12:13:...|\n",
      "+------+-----------+-------------------+--------+----------+----------+-----------------+-----------------+---------+------------+-----+----------+--------------------+\n",
      "only showing top 20 rows\n",
      "\n",
      "+------+--------------+-------------------+-------------------+----------+--------------------+\n",
      "|ticker|taxa_dividendo|   data_exdividendo|indice_distribuicao|  dt_ptcao|          dthr_igtao|\n",
      "+------+--------------+-------------------+-------------------+----------+--------------------+\n",
      "|  AAPL|           1.0|2025-02-09 21:00:00|             0.1571|2025-04-06|2025-04-06 12:13:...|\n",
      "|  MSFT|          3.32|2025-05-14 21:00:00|             0.2482|2025-04-06|2025-04-06 12:13:...|\n",
      "|  NVDA|          0.04|2025-03-11 21:00:00|             0.0116|2025-04-06|2025-04-06 12:13:...|\n",
      "|  AMZN|          NULL|               NULL|                0.0|2025-04-06|2025-04-06 12:13:...|\n",
      "|  GOOG|           0.8|2025-03-09 21:00:00|             0.0746|2025-04-06|2025-04-06 12:13:...|\n",
      "| GOOGL|           0.8|2025-03-09 21:00:00|             0.0746|2025-04-06|2025-04-06 12:13:...|\n",
      "|  META|           2.1|2025-03-13 21:00:00|             0.0838|2025-04-06|2025-04-06 12:13:...|\n",
      "|  TSLA|          NULL|               NULL|                0.0|2025-04-06|2025-04-06 12:13:...|\n",
      "|   TSM|          2.74|2025-06-11 21:00:00|         0.33060002|2025-04-06|2025-04-06 12:13:...|\n",
      "|  AVGO|          2.36|2025-03-19 21:00:00|             1.0046|2025-04-06|2025-04-06 12:13:...|\n",
      "|   WMT|          0.94|2025-05-08 21:00:00|             0.3444|2025-04-06|2025-04-06 12:13:...|\n",
      "|   JPM|           5.6|2025-04-03 21:00:00|         0.24299999|2025-04-06|2025-04-06 12:13:...|\n",
      "|   XOM|          3.96|2025-02-11 21:00:00|             0.4898|2025-04-06|2025-04-06 12:13:...|\n",
      "|  BABA|           2.0|2024-06-12 21:00:00|             0.1458|2025-04-06|2025-04-06 12:13:...|\n",
      "|    KO|          2.04|2025-03-13 21:00:00|             0.7886|2025-04-06|2025-04-06 12:13:...|\n",
      "|   BAC|          1.04|2025-03-06 21:00:00|         0.31149998|2025-04-06|2025-04-06 12:13:...|\n",
      "|   CVX|          6.84|2025-02-13 21:00:00|         0.67080003|2025-04-06|2025-04-06 12:13:...|\n",
      "|  CSCO|          1.64|2025-04-02 21:00:00|             0.7018|2025-04-06|2025-04-06 12:13:...|\n",
      "|   MRK|          3.24|2025-03-16 21:00:00|             0.4629|2025-04-06|2025-04-06 12:13:...|\n",
      "|   WFC|           1.6|2025-02-06 21:00:00|             0.2793|2025-04-06|2025-04-06 12:13:...|\n",
      "+------+--------------+-------------------+-------------------+----------+--------------------+\n",
      "only showing top 20 rows\n",
      "\n"
     ]
    },
    {
     "name": "stdout",
     "output_type": "stream",
     "text": [
      "+------+---------+-------------+-------------+------------------------+----------+--------------------+\n",
      "|ticker|pl_futuro|pl_retroativo|preco_booking|indice_preco_lucro_cresc|  dt_ptcao|          dthr_igtao|\n",
      "+------+---------+-------------+-------------+------------------------+----------+--------------------+\n",
      "|  AAPL|22.669073|    29.949127|     42.44705|                    NULL|2025-04-06|2025-04-06 12:13:...|\n",
      "|  MSFT|24.069565|    28.995972|     8.838671|                    NULL|2025-04-06|2025-04-06 12:13:...|\n",
      "|  NVDA|22.890778|    32.078228|    29.099043|                    NULL|2025-04-06|2025-04-06 12:13:...|\n",
      "|  AMZN|27.804878|     30.97826|     6.334272|                    NULL|2025-04-06|2025-04-06 12:13:...|\n",
      "|  GOOG|16.507263|    18.375622|     5.549546|                    NULL|2025-04-06|2025-04-06 12:13:...|\n",
      "| GOOGL|    16.25|    18.109453|     5.469161|                    NULL|2025-04-06|2025-04-06 12:13:...|\n",
      "|  META|19.949804|     21.14495|     7.002845|                    NULL|2025-04-06|2025-04-06 12:13:...|\n",
      "|  TSLA| 73.89815|   117.367645|    10.560602|                    NULL|2025-04-06|2025-04-06 12:13:...|\n",
      "|   TSM|18.168318|    21.588236|   0.88769567|                    NULL|2025-04-06|2025-04-06 12:13:...|\n",
      "|  AVGO|23.709885|     67.41474|    2.4702384|                    NULL|2025-04-06|2025-04-06 12:13:...|\n",
      "|   WMT|30.584558|    34.518673|    7.3340387|                    NULL|2025-04-06|2025-04-06 12:13:...|\n",
      "|   JPM|12.561529|    10.647089|    1.8117278|                    NULL|2025-04-06|2025-04-06 12:13:...|\n",
      "|   XOM|13.257941|    13.308673|    1.7223505|                    NULL|2025-04-06|2025-04-06 12:13:...|\n",
      "|  BABA|11.807498|     17.01314|   0.26944232|                    NULL|2025-04-06|2025-04-06 12:13:...|\n",
      "|    KO|23.545454|    28.426828|    12.102804|                    NULL|2025-04-06|2025-04-06 12:13:...|\n",
      "|   BAC| 9.396174|    10.713395|    0.9608561|                    NULL|2025-04-06|2025-04-06 12:13:...|\n",
      "|   CVX|12.978261|    14.755921|    1.6640536|                    NULL|2025-04-06|2025-04-06 12:13:...|\n",
      "|  CSCO|13.984615|    23.921053|     4.764151|                    NULL|2025-04-06|2025-04-06 12:13:...|\n",
      "|   MRK| 8.667022|    12.087538|    4.4463243|                    NULL|2025-04-06|2025-04-06 12:13:...|\n",
      "|   WFC|11.107469|   11.3556795|    1.2494878|                    NULL|2025-04-06|2025-04-06 12:13:...|\n",
      "+------+---------+-------------+-------------+------------------------+----------+--------------------+\n",
      "only showing top 20 rows\n",
      "\n"
     ]
    }
   ],
   "source": [
    "df_geral, df_financeira, df_mercado, df_dividendos, df_valuation = criar_tabelas_spark(df_tickers)\n",
    "# Exibir os DataFrames\n",
    "df_geral.show()\n",
    "df_financeira.show()\n",
    "df_mercado.show()\n",
    "df_dividendos.show()\n",
    "df_valuation.show()"
   ]
  },
  {
   "cell_type": "code",
   "execution_count": 14,
   "id": "ab4dacf0",
   "metadata": {
    "execution": {
     "iopub.execute_input": "2025-04-06T15:13:27.201743Z",
     "iopub.status.busy": "2025-04-06T15:13:27.201157Z",
     "iopub.status.idle": "2025-04-06T15:13:27.206216Z",
     "shell.execute_reply": "2025-04-06T15:13:27.205710Z"
    },
    "jupyter": {
     "source_hidden": true
    },
    "papermill": {
     "duration": 0.015877,
     "end_time": "2025-04-06T15:13:27.207152",
     "exception": false,
     "start_time": "2025-04-06T15:13:27.191275",
     "status": "completed"
    },
    "tags": []
   },
   "outputs": [
    {
     "name": "stdout",
     "output_type": "stream",
     "text": [
      "root\n",
      " |-- ticker: string (nullable = true)\n",
      " |-- data: timestamp (nullable = true)\n",
      " |-- abertura: double (nullable = true)\n",
      " |-- alta: double (nullable = true)\n",
      " |-- baixa: double (nullable = true)\n",
      " |-- fechamento: double (nullable = true)\n",
      " |-- volume: long (nullable = true)\n",
      " |-- dividendos: double (nullable = true)\n",
      " |-- desdobramentos: double (nullable = true)\n",
      " |-- fechamento_mes_anterior: double (nullable = true)\n",
      " |-- valor_retorno: double (nullable = true)\n",
      " |-- porcentagem_retorno: double (nullable = true)\n",
      " |-- dt_ptcao: string (nullable = false)\n",
      " |-- dthr_igtao: timestamp (nullable = false)\n",
      "\n",
      "root\n",
      " |-- ticker: string (nullable = true)\n",
      " |-- nome_curto: string (nullable = true)\n",
      " |-- nome_exibicao: string (nullable = true)\n",
      " |-- preco_mercado_regular: double (nullable = true)\n",
      " |-- mudanca_mercado_regular: double (nullable = true)\n",
      " |-- mudanca_percentual_mercado_regular: double (nullable = true)\n",
      " |-- volume_mercado_regular: long (nullable = true)\n",
      " |-- capitalizacao_mercado: long (nullable = true)\n",
      " |-- nome_exchange_completa: string (nullable = true)\n",
      " |-- nome_fonte_cotacao: string (nullable = true)\n",
      " |-- dt_ptcao: string (nullable = false)\n",
      " |-- dthr_igtao: timestamp (nullable = false)\n",
      "\n",
      "root\n",
      " |-- ticker: string (nullable = false)\n",
      " |-- setor: string (nullable = true)\n",
      " |-- industria: string (nullable = true)\n",
      " |-- funcionarios: integer (nullable = true)\n",
      " |-- cidade: string (nullable = true)\n",
      " |-- estado: string (nullable = true)\n",
      " |-- pais: string (nullable = true)\n",
      " |-- website: string (nullable = true)\n",
      " |-- resumo_negocios: string (nullable = true)\n",
      " |-- exchange: string (nullable = true)\n",
      " |-- dt_ptcao: string (nullable = false)\n",
      " |-- dthr_igtao: timestamp (nullable = false)\n",
      "\n",
      "root\n",
      " |-- ticker: string (nullable = false)\n",
      " |-- capitalizacao_mercado: long (nullable = true)\n",
      " |-- valor_empresa: long (nullable = true)\n",
      " |-- receita: long (nullable = true)\n",
      " |-- lucros_brutos: long (nullable = true)\n",
      " |-- lucro_liquido: long (nullable = true)\n",
      " |-- ebitda: long (nullable = true)\n",
      " |-- divida_total: long (nullable = true)\n",
      " |-- caixa_total: long (nullable = true)\n",
      " |-- dividend_yield: double (nullable = true)\n",
      " |-- dt_ptcao: string (nullable = false)\n",
      " |-- dthr_igtao: timestamp (nullable = false)\n",
      "\n",
      "root\n",
      " |-- ticker: string (nullable = false)\n",
      " |-- preco_atual: double (nullable = true)\n",
      " |-- fechamento_anterior: double (nullable = true)\n",
      " |-- abertura: double (nullable = true)\n",
      " |-- minimo_dia: double (nullable = true)\n",
      " |-- maximo_dia: double (nullable = true)\n",
      " |-- minimo_52_semanas: double (nullable = true)\n",
      " |-- maximo_52_semanas: double (nullable = true)\n",
      " |-- volume: long (nullable = true)\n",
      " |-- volume_medio: long (nullable = true)\n",
      " |-- beta: double (nullable = true)\n",
      " |-- dt_ptcao: string (nullable = false)\n",
      " |-- dthr_igtao: timestamp (nullable = false)\n",
      "\n",
      "root\n",
      " |-- ticker: string (nullable = false)\n",
      " |-- taxa_dividendo: double (nullable = true)\n",
      " |-- data_exdividendo: string (nullable = true)\n",
      " |-- indice_distribuicao: double (nullable = true)\n",
      " |-- dt_ptcao: string (nullable = false)\n",
      " |-- dthr_igtao: timestamp (nullable = false)\n",
      "\n",
      "root\n",
      " |-- ticker: string (nullable = false)\n",
      " |-- pl_futuro: double (nullable = true)\n",
      " |-- pl_retroativo: double (nullable = true)\n",
      " |-- preco_booking: double (nullable = true)\n",
      " |-- indice_preco_lucro_cresc: double (nullable = true)\n",
      " |-- dt_ptcao: string (nullable = false)\n",
      " |-- dthr_igtao: timestamp (nullable = false)\n",
      "\n"
     ]
    }
   ],
   "source": [
    "df_retorno_mensal.printSchema()\n",
    "df_ativas.printSchema()\n",
    "df_geral.printSchema()\n",
    "df_financeira.printSchema()\n",
    "df_mercado.printSchema()\n",
    "df_dividendos.printSchema()\n",
    "df_valuation.printSchema()\n"
   ]
  },
  {
   "cell_type": "markdown",
   "id": "26d880d9",
   "metadata": {
    "papermill": {
     "duration": 0.009051,
     "end_time": "2025-04-06T15:13:27.225186",
     "exception": false,
     "start_time": "2025-04-06T15:13:27.216135",
     "status": "completed"
    },
    "tags": []
   },
   "source": [
    "# Sprint 3 - Indices"
   ]
  },
  {
   "cell_type": "code",
   "execution_count": 15,
   "id": "d38c4e50",
   "metadata": {
    "execution": {
     "iopub.execute_input": "2025-04-06T15:13:27.245729Z",
     "iopub.status.busy": "2025-04-06T15:13:27.245459Z",
     "iopub.status.idle": "2025-04-06T15:13:29.939859Z",
     "shell.execute_reply": "2025-04-06T15:13:29.939163Z"
    },
    "jupyter": {
     "source_hidden": true
    },
    "papermill": {
     "duration": 2.706326,
     "end_time": "2025-04-06T15:13:29.941053",
     "exception": false,
     "start_time": "2025-04-06T15:13:27.234727",
     "status": "completed"
    },
    "tags": []
   },
   "outputs": [
    {
     "name": "stdout",
     "output_type": "stream",
     "text": [
      "YF.download() has changed argument auto_adjust default to True\n"
     ]
    },
    {
     "name": "stderr",
     "output_type": "stream",
     "text": [
      "\r",
      "[*********************100%***********************]  1 of 1 completed"
     ]
    },
    {
     "name": "stderr",
     "output_type": "stream",
     "text": [
      "\n",
      "/tmp/ipykernel_33179/2153010229.py:35: FutureWarning: Calling float on a single element Series is deprecated and will raise a TypeError in the future. Use float(ser.iloc[0]) instead\n",
      "  data_list.append((ticker, float(row['Open']), float(row['High']), float(row['Low']),\n",
      "/tmp/ipykernel_33179/2153010229.py:36: FutureWarning: Calling float on a single element Series is deprecated and will raise a TypeError in the future. Use float(ser.iloc[0]) instead\n",
      "  float(row['Close']), float(row['Adj Close']), int(row['Volume']),  # Converte para inteiro\n"
     ]
    },
    {
     "name": "stdout",
     "output_type": "stream",
     "text": [
      "Falha ao baixar dados para ^BVSP: 'Adj Close'\n"
     ]
    },
    {
     "name": "stderr",
     "output_type": "stream",
     "text": [
      "\r",
      "[*********************100%***********************]  1 of 1 completed"
     ]
    },
    {
     "name": "stderr",
     "output_type": "stream",
     "text": [
      "\n",
      "/tmp/ipykernel_33179/2153010229.py:35: FutureWarning: Calling float on a single element Series is deprecated and will raise a TypeError in the future. Use float(ser.iloc[0]) instead\n",
      "  data_list.append((ticker, float(row['Open']), float(row['High']), float(row['Low']),\n",
      "/tmp/ipykernel_33179/2153010229.py:36: FutureWarning: Calling float on a single element Series is deprecated and will raise a TypeError in the future. Use float(ser.iloc[0]) instead\n",
      "  float(row['Close']), float(row['Adj Close']), int(row['Volume']),  # Converte para inteiro\n"
     ]
    },
    {
     "name": "stdout",
     "output_type": "stream",
     "text": [
      "Falha ao baixar dados para BOVA11.SA: 'Adj Close'\n"
     ]
    },
    {
     "name": "stderr",
     "output_type": "stream",
     "text": [
      "\r",
      "[*********************100%***********************]  1 of 1 completed"
     ]
    },
    {
     "name": "stderr",
     "output_type": "stream",
     "text": [
      "\n",
      "/tmp/ipykernel_33179/2153010229.py:35: FutureWarning: Calling float on a single element Series is deprecated and will raise a TypeError in the future. Use float(ser.iloc[0]) instead\n",
      "  data_list.append((ticker, float(row['Open']), float(row['High']), float(row['Low']),\n",
      "/tmp/ipykernel_33179/2153010229.py:36: FutureWarning: Calling float on a single element Series is deprecated and will raise a TypeError in the future. Use float(ser.iloc[0]) instead\n",
      "  float(row['Close']), float(row['Adj Close']), int(row['Volume']),  # Converte para inteiro\n"
     ]
    },
    {
     "name": "stdout",
     "output_type": "stream",
     "text": [
      "Falha ao baixar dados para ^GSPC: 'Adj Close'\n"
     ]
    },
    {
     "name": "stderr",
     "output_type": "stream",
     "text": [
      "\r",
      "[*********************100%***********************]  1 of 1 completed"
     ]
    },
    {
     "name": "stderr",
     "output_type": "stream",
     "text": [
      "\n",
      "/tmp/ipykernel_33179/2153010229.py:35: FutureWarning: Calling float on a single element Series is deprecated and will raise a TypeError in the future. Use float(ser.iloc[0]) instead\n",
      "  data_list.append((ticker, float(row['Open']), float(row['High']), float(row['Low']),\n",
      "/tmp/ipykernel_33179/2153010229.py:36: FutureWarning: Calling float on a single element Series is deprecated and will raise a TypeError in the future. Use float(ser.iloc[0]) instead\n",
      "  float(row['Close']), float(row['Adj Close']), int(row['Volume']),  # Converte para inteiro\n"
     ]
    },
    {
     "name": "stdout",
     "output_type": "stream",
     "text": [
      "Falha ao baixar dados para ^DJI: 'Adj Close'\n"
     ]
    },
    {
     "name": "stderr",
     "output_type": "stream",
     "text": [
      "\r",
      "[*********************100%***********************]  1 of 1 completed"
     ]
    },
    {
     "name": "stderr",
     "output_type": "stream",
     "text": [
      "\n",
      "/tmp/ipykernel_33179/2153010229.py:35: FutureWarning: Calling float on a single element Series is deprecated and will raise a TypeError in the future. Use float(ser.iloc[0]) instead\n",
      "  data_list.append((ticker, float(row['Open']), float(row['High']), float(row['Low']),\n",
      "/tmp/ipykernel_33179/2153010229.py:36: FutureWarning: Calling float on a single element Series is deprecated and will raise a TypeError in the future. Use float(ser.iloc[0]) instead\n",
      "  float(row['Close']), float(row['Adj Close']), int(row['Volume']),  # Converte para inteiro\n"
     ]
    },
    {
     "name": "stdout",
     "output_type": "stream",
     "text": [
      "Falha ao baixar dados para ^IXIC: 'Adj Close'\n"
     ]
    },
    {
     "name": "stderr",
     "output_type": "stream",
     "text": [
      "\r",
      "[*********************100%***********************]  1 of 1 completed"
     ]
    },
    {
     "name": "stderr",
     "output_type": "stream",
     "text": [
      "\n",
      "/tmp/ipykernel_33179/2153010229.py:35: FutureWarning: Calling float on a single element Series is deprecated and will raise a TypeError in the future. Use float(ser.iloc[0]) instead\n",
      "  data_list.append((ticker, float(row['Open']), float(row['High']), float(row['Low']),\n",
      "/tmp/ipykernel_33179/2153010229.py:36: FutureWarning: Calling float on a single element Series is deprecated and will raise a TypeError in the future. Use float(ser.iloc[0]) instead\n",
      "  float(row['Close']), float(row['Adj Close']), int(row['Volume']),  # Converte para inteiro\n"
     ]
    },
    {
     "name": "stdout",
     "output_type": "stream",
     "text": [
      "Falha ao baixar dados para ^FTSE: 'Adj Close'\n"
     ]
    },
    {
     "name": "stderr",
     "output_type": "stream",
     "text": [
      "\r",
      "[*********************100%***********************]  1 of 1 completed"
     ]
    },
    {
     "name": "stderr",
     "output_type": "stream",
     "text": [
      "\n",
      "/tmp/ipykernel_33179/2153010229.py:35: FutureWarning: Calling float on a single element Series is deprecated and will raise a TypeError in the future. Use float(ser.iloc[0]) instead\n",
      "  data_list.append((ticker, float(row['Open']), float(row['High']), float(row['Low']),\n",
      "/tmp/ipykernel_33179/2153010229.py:36: FutureWarning: Calling float on a single element Series is deprecated and will raise a TypeError in the future. Use float(ser.iloc[0]) instead\n",
      "  float(row['Close']), float(row['Adj Close']), int(row['Volume']),  # Converte para inteiro\n"
     ]
    },
    {
     "name": "stdout",
     "output_type": "stream",
     "text": [
      "Falha ao baixar dados para ^GDAXI: 'Adj Close'\n"
     ]
    },
    {
     "name": "stderr",
     "output_type": "stream",
     "text": [
      "\r",
      "[*********************100%***********************]  1 of 1 completed"
     ]
    },
    {
     "name": "stderr",
     "output_type": "stream",
     "text": [
      "\n",
      "/tmp/ipykernel_33179/2153010229.py:35: FutureWarning: Calling float on a single element Series is deprecated and will raise a TypeError in the future. Use float(ser.iloc[0]) instead\n",
      "  data_list.append((ticker, float(row['Open']), float(row['High']), float(row['Low']),\n",
      "/tmp/ipykernel_33179/2153010229.py:36: FutureWarning: Calling float on a single element Series is deprecated and will raise a TypeError in the future. Use float(ser.iloc[0]) instead\n",
      "  float(row['Close']), float(row['Adj Close']), int(row['Volume']),  # Converte para inteiro\n"
     ]
    },
    {
     "name": "stdout",
     "output_type": "stream",
     "text": [
      "Falha ao baixar dados para ^N225: 'Adj Close'\n"
     ]
    },
    {
     "name": "stdout",
     "output_type": "stream",
     "text": [
      "+------+--------+----+-----+----------+-------------------+------+-----------+----+-----------------------+-------------+-------------------+--------+----------+\n",
      "|indice|abertura|alta|baixa|fechamento|fechamento_ajustado|volume|nome_indice|data|fechamento_mes_anterior|valor_retorno|porcentagem_retorno|dt_ptcao|dthr_igtao|\n",
      "+------+--------+----+-----+----------+-------------------+------+-----------+----+-----------------------+-------------+-------------------+--------+----------+\n",
      "+------+--------+----+-----+----------+-------------------+------+-----------+----+-----------------------+-------------+-------------------+--------+----------+\n",
      "\n"
     ]
    }
   ],
   "source": [
    "indices = {\n",
    "    '^BVSP': 'Ibovespa',\n",
    "    'BOVA11.SA': 'BOVA11',\n",
    "    '^GSPC': 'S&P 500',\n",
    "    '^DJI': 'Dow Jones',\n",
    "    '^IXIC': 'NASDAQ',\n",
    "    '^FTSE': 'FTSE 100',\n",
    "    '^GDAXI': 'DAX 30',\n",
    "    '^N225': 'Nikkei 225'\n",
    "}\n",
    "\n",
    "# Definindo o esquema do DataFrame\n",
    "schema = StructType([\n",
    "    StructField(\"indice\", StringType(), True),\n",
    "    StructField(\"abertura\", DoubleType(), True),\n",
    "    StructField(\"alta\", DoubleType(), True),\n",
    "    StructField(\"baixa\", DoubleType(), True),\n",
    "    StructField(\"fechamento\", DoubleType(), True),\n",
    "    StructField(\"fechamento_ajustado\", DoubleType(), True),\n",
    "    StructField(\"volume\", LongType(), True),  # Alterado para LongType\n",
    "    StructField(\"nome_indice\", StringType(), True),\n",
    "    StructField(\"data\", DateType(), True)\n",
    "])\n",
    "\n",
    "# Criar uma lista para armazenar os dados\n",
    "data_list = []\n",
    "\n",
    "# Adicionando dados históricos (exemplo)\n",
    "for ticker, name in indices.items():\n",
    "    try:\n",
    "        data = yf.download(ticker, start=start_date_str, end=end_date_str)\n",
    "        if not data.empty:\n",
    "            for index, row in data.iterrows():\n",
    "                # Converter os valores para float ou inteiro antes de adicionar à lista\n",
    "                data_list.append((ticker, float(row['Open']), float(row['High']), float(row['Low']), \n",
    "                                  float(row['Close']), float(row['Adj Close']), int(row['Volume']),  # Converte para inteiro\n",
    "                                  name, index.date()))  # Usa index.date() para pegar apenas a parte da data\n",
    "    except Exception as e:\n",
    "        print(f\"Falha ao baixar dados para {ticker}: {e}\")\n",
    "\n",
    "# Criar um DataFrame Spark\n",
    "df_indices = spark.createDataFrame(data_list, schema)\n",
    "\n",
    "janela = Window.partitionBy('indice').orderBy('data')\n",
    "\n",
    "# Calcular preço de fechamento do mês anterior (deslocar uma linha para cima)\n",
    "df_indices = df_indices.withColumn('fechamento_mes_anterior', lag('fechamento').over(janela))\n",
    "\n",
    "# Calcular Retorno em valor (diferença absoluta)\n",
    "df_indices = df_indices.withColumn('valor_retorno', col('fechamento') - col('fechamento_mes_anterior'))\n",
    "\n",
    "# Calcular Retorno em porcentagem\n",
    "df_indices = df_indices.withColumn('porcentagem_retorno', (col('valor_retorno') / col('fechamento_mes_anterior')) * 100)\n",
    "\n",
    "# Adicionar colunas dt_ptcao e dthr_igtao\n",
    "df_indices = df_indices.withColumn('dt_ptcao', date_format(current_timestamp(), 'yyyy-MM-dd'))\n",
    "df_indices = df_indices.withColumn('dthr_igtao', current_timestamp())\n",
    "\n",
    "# Exibir o DataFrame final\n",
    "df_indices = df_indices.orderBy('indice','data')\n",
    "df_indices.show()"
   ]
  },
  {
   "cell_type": "markdown",
   "id": "5221d42e",
   "metadata": {
    "papermill": {
     "duration": 0.010243,
     "end_time": "2025-04-06T15:13:29.961326",
     "exception": false,
     "start_time": "2025-04-06T15:13:29.951083",
     "status": "completed"
    },
    "tags": []
   },
   "source": [
    "# Postgres upsert"
   ]
  },
  {
   "cell_type": "code",
   "execution_count": 16,
   "id": "bbb4bbeb",
   "metadata": {
    "execution": {
     "iopub.execute_input": "2025-04-06T15:13:29.983295Z",
     "iopub.status.busy": "2025-04-06T15:13:29.982990Z",
     "iopub.status.idle": "2025-04-06T15:13:29.986158Z",
     "shell.execute_reply": "2025-04-06T15:13:29.985656Z"
    },
    "jupyter": {
     "source_hidden": true
    },
    "papermill": {
     "duration": 0.01568,
     "end_time": "2025-04-06T15:13:29.987071",
     "exception": false,
     "start_time": "2025-04-06T15:13:29.971391",
     "status": "completed"
    },
    "tags": []
   },
   "outputs": [],
   "source": [
    "SRVNAME = \"postgres\"\n",
    "USER = \"airflow\"\n",
    "PASSWORD = \"airflow\"\n",
    "HOST = \"postgres\"\n",
    "PORT = \"5432\"\n",
    "DBNAME = \"paxpedb\"\n",
    "\n",
    "# Parâmetros de conexão usando as variáveis\n",
    "conn_params = {\n",
    "    'dbname': DBNAME,\n",
    "    'user': USER,\n",
    "    'password': PASSWORD,\n",
    "    'host': HOST,\n",
    "    'port': PORT\n",
    "}"
   ]
  },
  {
   "cell_type": "code",
   "execution_count": 17,
   "id": "baf3de1c",
   "metadata": {
    "execution": {
     "iopub.execute_input": "2025-04-06T15:13:30.007358Z",
     "iopub.status.busy": "2025-04-06T15:13:30.006987Z",
     "iopub.status.idle": "2025-04-06T15:13:30.012544Z",
     "shell.execute_reply": "2025-04-06T15:13:30.012030Z"
    },
    "jupyter": {
     "source_hidden": true
    },
    "papermill": {
     "duration": 0.016934,
     "end_time": "2025-04-06T15:13:30.013517",
     "exception": false,
     "start_time": "2025-04-06T15:13:29.996583",
     "status": "completed"
    },
    "tags": []
   },
   "outputs": [
    {
     "name": "stdout",
     "output_type": "stream",
     "text": [
      "Conexão com postgres sucedida\n"
     ]
    }
   ],
   "source": [
    "def test_connection():\n",
    "    try:\n",
    "        # Connect to the PostgreSQL server using variables\n",
    "        connection = psycopg2.connect(\n",
    "            dbname=SRVNAME,\n",
    "            user=USER,\n",
    "            password=PASSWORD,\n",
    "            host=HOST,\n",
    "            port=PORT\n",
    "        )\n",
    "        print(\"Conexão com postgres sucedida\")\n",
    "        return True\n",
    "    except OperationalError as e:\n",
    "        print(f\"Error: {e}\")\n",
    "        return False\n",
    "    finally:\n",
    "        if connection:\n",
    "            connection.close()\n",
    "if not test_connection():\n",
    "    sys.exit(1)"
   ]
  },
  {
   "cell_type": "markdown",
   "id": "d3a561a5",
   "metadata": {
    "papermill": {
     "duration": 0.010027,
     "end_time": "2025-04-06T15:13:30.033315",
     "exception": false,
     "start_time": "2025-04-06T15:13:30.023288",
     "status": "completed"
    },
    "tags": []
   },
   "source": [
    "### para inserir no postgres é necessário\n",
    "> 1. alimentar as tabelas em stage --- temp_nometabela\n",
    "> 2. realizar o upsert comparando as tabelas"
   ]
  },
  {
   "cell_type": "code",
   "execution_count": 18,
   "id": "9899538c",
   "metadata": {
    "execution": {
     "iopub.execute_input": "2025-04-06T15:13:30.057030Z",
     "iopub.status.busy": "2025-04-06T15:13:30.056780Z",
     "iopub.status.idle": "2025-04-06T15:13:30.060030Z",
     "shell.execute_reply": "2025-04-06T15:13:30.059490Z"
    },
    "jupyter": {
     "source_hidden": true
    },
    "papermill": {
     "duration": 0.017808,
     "end_time": "2025-04-06T15:13:30.060952",
     "exception": false,
     "start_time": "2025-04-06T15:13:30.043144",
     "status": "completed"
    },
    "tags": []
   },
   "outputs": [],
   "source": [
    "def write_to_postgres(df, table_name, schema_name=\"paxpestg\"):\n",
    "  \n",
    "    df.write \\\n",
    "        .format(\"jdbc\") \\\n",
    "        .option(\"url\", f\"jdbc:postgresql://{HOST}:{PORT}/{DBNAME}\") \\\n",
    "        .option(\"dbtable\", f\"{schema_name}.{table_name}\") \\\n",
    "        .option(\"user\", USER) \\\n",
    "        .option(\"password\", PASSWORD) \\\n",
    "        .option(\"driver\", \"org.postgresql.Driver\") \\\n",
    "        .mode(\"overwrite\") \\\n",
    "        .save()"
   ]
  },
  {
   "cell_type": "code",
   "execution_count": 19,
   "id": "69b86e03",
   "metadata": {
    "execution": {
     "iopub.execute_input": "2025-04-06T15:13:30.081075Z",
     "iopub.status.busy": "2025-04-06T15:13:30.080850Z",
     "iopub.status.idle": "2025-04-06T15:14:11.538310Z",
     "shell.execute_reply": "2025-04-06T15:14:11.537688Z"
    },
    "jupyter": {
     "source_hidden": true
    },
    "papermill": {
     "duration": 41.468886,
     "end_time": "2025-04-06T15:14:11.539503",
     "exception": false,
     "start_time": "2025-04-06T15:13:30.070617",
     "status": "completed"
    },
    "tags": []
   },
   "outputs": [
    {
     "name": "stderr",
     "output_type": "stream",
     "text": [
      "\r",
      "[Stage 420:>(14 + 8) / 24][Stage 421:> (0 + 0) / 24][Stage 422:> (0 + 0) / 24]\r",
      "\r",
      "[Stage 421:>(15 + 8) / 24][Stage 422:> (0 + 0) / 24][Stage 423:> (0 + 0) / 24]\r"
     ]
    },
    {
     "name": "stderr",
     "output_type": "stream",
     "text": [
      "\r",
      "[Stage 422:>(19 + 5) / 24][Stage 423:> (0 + 3) / 24][Stage 424:> (0 + 0) / 24]\r",
      "\r",
      "[Stage 423:>(22 + 2) / 24][Stage 424:> (0 + 6) / 24][Stage 425:> (0 + 0) / 24]\r"
     ]
    },
    {
     "name": "stderr",
     "output_type": "stream",
     "text": [
      "\r",
      "[Stage 425:> (6 + 8) / 24][Stage 426:> (0 + 0) / 24][Stage 427:> (0 + 0) / 24]\r",
      "\r",
      "[Stage 426:> (1 + 8) / 24][Stage 427:> (0 + 0) / 24][Stage 428:> (0 + 0) / 24]\r"
     ]
    },
    {
     "name": "stderr",
     "output_type": "stream",
     "text": [
      "\r",
      "[Stage 427:> (4 + 9) / 24][Stage 428:> (0 + 0) / 24][Stage 429:> (0 + 0) / 24]\r",
      "\r",
      "[Stage 428:>(11 + 8) / 24][Stage 429:> (0 + 0) / 24][Stage 430:> (0 + 0) / 24]\r"
     ]
    },
    {
     "name": "stderr",
     "output_type": "stream",
     "text": [
      "\r",
      "[Stage 429:>(16 + 8) / 24][Stage 430:> (0 + 0) / 24][Stage 431:> (0 + 0) / 24]\r",
      "\r",
      "[Stage 430:>(20 + 4) / 24][Stage 431:> (0 + 4) / 24][Stage 432:> (0 + 0) / 24]\r"
     ]
    },
    {
     "name": "stderr",
     "output_type": "stream",
     "text": [
      "\r",
      "[Stage 432:> (1 + 8) / 24][Stage 433:> (0 + 0) / 24][Stage 434:> (0 + 0) / 24]\r",
      "\r",
      "[Stage 433:> (7 + 8) / 24][Stage 434:> (0 + 0) / 24][Stage 435:> (0 + 0) / 24]\r"
     ]
    },
    {
     "name": "stderr",
     "output_type": "stream",
     "text": [
      "\r",
      "[Stage 434:>(15 + 8) / 24][Stage 435:> (0 + 0) / 24][Stage 436:> (0 + 0) / 24]\r",
      "\r",
      "[Stage 435:>(21 + 3) / 24][Stage 436:> (0 + 5) / 24][Stage 437:> (0 + 0) / 24]\r"
     ]
    },
    {
     "name": "stderr",
     "output_type": "stream",
     "text": [
      "\r",
      "[Stage 436:>(21 + 3) / 24][Stage 437:> (0 + 5) / 24][Stage 438:> (0 + 0) / 24]\r"
     ]
    },
    {
     "name": "stderr",
     "output_type": "stream",
     "text": [
      "\r",
      "[Stage 438:> (4 + 8) / 24][Stage 439:> (0 + 0) / 24][Stage 440:> (0 + 0) / 24]\r"
     ]
    },
    {
     "name": "stderr",
     "output_type": "stream",
     "text": [
      "\r",
      "[Stage 439:> (7 + 9) / 24][Stage 440:> (0 + 0) / 24][Stage 441:> (0 + 0) / 24]\r",
      "\r",
      "[Stage 440:>(14 + 8) / 24][Stage 441:> (0 + 0) / 24][Stage 442:> (0 + 0) / 24]\r"
     ]
    },
    {
     "name": "stderr",
     "output_type": "stream",
     "text": [
      "\r",
      "[Stage 441:>(19 + 5) / 24][Stage 442:> (0 + 3) / 24][Stage 443:> (0 + 0) / 24]\r",
      "\r",
      "[Stage 443:> (2 + 8) / 24][Stage 444:> (0 + 0) / 24][Stage 445:> (0 + 0) / 24]\r"
     ]
    },
    {
     "name": "stderr",
     "output_type": "stream",
     "text": [
      "\r",
      "[Stage 444:> (5 + 8) / 24][Stage 445:> (0 + 0) / 24][Stage 446:> (0 + 0) / 24]\r",
      "\r",
      "[Stage 445:>(10 + 8) / 24][Stage 446:> (0 + 0) / 24][Stage 447:> (0 + 0) / 24]\r"
     ]
    },
    {
     "name": "stderr",
     "output_type": "stream",
     "text": [
      "\r",
      "[Stage 446:>(16 + 8) / 24][Stage 447:> (0 + 0) / 24][Stage 448:> (0 + 0) / 24]\r",
      "\r",
      "[Stage 447:>(20 + 4) / 24][Stage 448:> (0 + 4) / 24][Stage 449:> (0 + 0) / 24]\r"
     ]
    },
    {
     "name": "stderr",
     "output_type": "stream",
     "text": [
      "\r",
      "[Stage 448:>(23 + 1) / 24][Stage 449:> (0 + 7) / 24][Stage 450:> (0 + 0) / 24]\r",
      "\r",
      "[Stage 450:> (3 + 8) / 24][Stage 451:> (0 + 0) / 24][Stage 452:> (0 + 0) / 24]\r"
     ]
    },
    {
     "name": "stderr",
     "output_type": "stream",
     "text": [
      "\r",
      "[Stage 451:> (6 + 8) / 24][Stage 452:> (0 + 0) / 24][Stage 453:> (0 + 0) / 24]\r",
      "\r",
      "[Stage 452:>(11 + 8) / 24][Stage 453:> (0 + 0) / 24][Stage 454:> (0 + 0) / 24]\r"
     ]
    },
    {
     "name": "stderr",
     "output_type": "stream",
     "text": [
      "\r",
      "[Stage 453:>(14 + 9) / 24][Stage 454:> (0 + 0) / 24][Stage 455:> (0 + 0) / 24]\r"
     ]
    },
    {
     "name": "stderr",
     "output_type": "stream",
     "text": [
      "\r",
      "[Stage 454:>(20 + 4) / 24][Stage 455:> (0 + 4) / 24][Stage 456:> (0 + 0) / 24]\r",
      "\r",
      "[Stage 456:> (1 + 8) / 24][Stage 457:> (0 + 0) / 24][Stage 458:> (0 + 0) / 24]\r"
     ]
    },
    {
     "name": "stderr",
     "output_type": "stream",
     "text": [
      "\r",
      "[Stage 457:> (5 + 8) / 24][Stage 458:> (0 + 0) / 24][Stage 459:> (0 + 0) / 24]\r",
      "\r",
      "[Stage 458:>(12 + 8) / 24][Stage 459:> (0 + 0) / 24][Stage 460:> (0 + 0) / 24]\r"
     ]
    },
    {
     "name": "stderr",
     "output_type": "stream",
     "text": [
      "\r",
      "[Stage 459:>(15 + 8) / 24][Stage 460:> (0 + 0) / 24][Stage 461:> (0 + 0) / 24]\r",
      "\r",
      "[Stage 460:>(19 + 5) / 24][Stage 461:> (0 + 3) / 24][Stage 462:> (0 + 0) / 24]\r"
     ]
    },
    {
     "name": "stderr",
     "output_type": "stream",
     "text": [
      "\r",
      "[Stage 462:> (1 + 8) / 24][Stage 463:> (0 + 0) / 24][Stage 464:> (0 + 0) / 24]\r"
     ]
    },
    {
     "name": "stderr",
     "output_type": "stream",
     "text": [
      "\r",
      "[Stage 463:>(5 + 10) / 24][Stage 464:> (0 + 0) / 24][Stage 465:> (0 + 0) / 24]\r",
      "\r",
      "[Stage 464:>(11 + 8) / 24][Stage 465:> (0 + 0) / 24][Stage 466:> (0 + 0) / 24]\r"
     ]
    },
    {
     "name": "stderr",
     "output_type": "stream",
     "text": [
      "\r",
      "[Stage 465:>(18 + 6) / 24][Stage 466:> (0 + 2) / 24][Stage 467:> (0 + 0) / 24]\r",
      "\r",
      "[Stage 466:>(23 + 1) / 24][Stage 467:> (1 + 8) / 24][Stage 468:> (0 + 0) / 24]\r"
     ]
    },
    {
     "name": "stderr",
     "output_type": "stream",
     "text": [
      "\r",
      "[Stage 468:> (5 + 8) / 24][Stage 469:> (0 + 0) / 24][Stage 470:> (0 + 0) / 24]\r",
      "\r",
      "[Stage 469:>(13 + 8) / 24][Stage 470:> (0 + 0) / 24][Stage 471:> (0 + 0) / 24]\r"
     ]
    },
    {
     "name": "stderr",
     "output_type": "stream",
     "text": [
      "\r",
      "[Stage 470:>(20 + 4) / 24][Stage 471:> (0 + 4) / 24][Stage 472:> (0 + 0) / 24]\r",
      "\r",
      "[Stage 472:> (1 + 8) / 24][Stage 473:> (0 + 0) / 24][Stage 474:> (0 + 0) / 24]\r"
     ]
    },
    {
     "name": "stderr",
     "output_type": "stream",
     "text": [
      "\r",
      "[Stage 473:> (5 + 8) / 24][Stage 474:> (0 + 0) / 24][Stage 475:> (0 + 0) / 24]\r",
      "\r",
      "[Stage 474:>(10 + 8) / 24][Stage 475:> (0 + 0) / 24][Stage 476:> (0 + 0) / 24]\r"
     ]
    },
    {
     "name": "stderr",
     "output_type": "stream",
     "text": [
      "\r",
      "[Stage 475:(14 + 10) / 24][Stage 476:> (0 + 1) / 24][Stage 477:> (0 + 0) / 24]\r",
      "\r",
      "[Stage 476:>(21 + 3) / 24][Stage 477:> (0 + 5) / 24][Stage 478:> (0 + 0) / 24]\r"
     ]
    },
    {
     "name": "stderr",
     "output_type": "stream",
     "text": [
      "\r",
      "[Stage 478:> (3 + 8) / 24][Stage 479:> (0 + 0) / 24][Stage 480:> (0 + 0) / 24]\r",
      "\r",
      "[Stage 479:> (5 + 8) / 24][Stage 480:> (0 + 0) / 24][Stage 481:> (0 + 0) / 24]\r"
     ]
    },
    {
     "name": "stderr",
     "output_type": "stream",
     "text": [
      "\r",
      "[Stage 480:>(13 + 8) / 24][Stage 481:> (0 + 0) / 24][Stage 482:> (0 + 0) / 24]\r",
      "\r",
      "[Stage 481:>(20 + 4) / 24][Stage 482:> (0 + 4) / 24][Stage 483:> (0 + 0) / 24]\r"
     ]
    },
    {
     "name": "stderr",
     "output_type": "stream",
     "text": [
      "\r",
      "[Stage 482:>(23 + 1) / 24][Stage 483:> (0 + 7) / 24][Stage 484:> (0 + 0) / 24]\r",
      "\r",
      "[Stage 484:> (5 + 8) / 24][Stage 485:> (0 + 0) / 24][Stage 486:> (0 + 0) / 24]\r"
     ]
    },
    {
     "name": "stderr",
     "output_type": "stream",
     "text": [
      "\r",
      "[Stage 485:>(10 + 8) / 24][Stage 486:> (0 + 0) / 24][Stage 487:> (0 + 0) / 24]\r",
      "\r",
      "[Stage 486:>(16 + 8) / 24][Stage 487:> (0 + 0) / 24][Stage 488:> (0 + 0) / 24]\r"
     ]
    },
    {
     "name": "stderr",
     "output_type": "stream",
     "text": [
      "\r",
      "[Stage 487:>(19 + 5) / 24][Stage 488:> (0 + 3) / 24][Stage 489:> (0 + 0) / 24]\r",
      "\r",
      "[Stage 489:> (0 + 8) / 24][Stage 490:> (0 + 0) / 24][Stage 491:> (0 + 0) / 24]\r"
     ]
    },
    {
     "name": "stderr",
     "output_type": "stream",
     "text": [
      "\r",
      "[Stage 490:> (7 + 8) / 24][Stage 491:> (0 + 0) / 24][Stage 492:> (0 + 0) / 24]\r",
      "\r",
      "[Stage 491:>(12 + 8) / 24][Stage 492:> (0 + 0) / 24][Stage 493:> (0 + 0) / 24]\r"
     ]
    },
    {
     "name": "stderr",
     "output_type": "stream",
     "text": [
      "\r",
      "[Stage 492:>(16 + 8) / 24][Stage 493:> (0 + 0) / 24][Stage 494:> (0 + 0) / 24]\r",
      "\r",
      "[Stage 493:>(23 + 1) / 24][Stage 494:> (0 + 7) / 24][Stage 495:> (0 + 0) / 24]\r"
     ]
    },
    {
     "name": "stderr",
     "output_type": "stream",
     "text": [
      "\r",
      "[Stage 495:> (7 + 8) / 24][Stage 496:> (0 + 0) / 24][Stage 497:> (0 + 0) / 24]\r",
      "\r",
      "[Stage 496:>(11 + 8) / 24][Stage 497:> (0 + 0) / 24][Stage 498:> (0 + 0) / 24]\r"
     ]
    },
    {
     "name": "stderr",
     "output_type": "stream",
     "text": [
      "\r",
      "[Stage 497:>(16 + 8) / 24][Stage 498:> (0 + 0) / 24][Stage 499:> (0 + 0) / 24]\r",
      "\r",
      "[Stage 498:>(23 + 1) / 24][Stage 499:> (0 + 7) / 24][Stage 500:> (0 + 0) / 24]\r"
     ]
    },
    {
     "name": "stderr",
     "output_type": "stream",
     "text": [
      "\r",
      "[Stage 500:> (5 + 8) / 24][Stage 501:> (0 + 0) / 24][Stage 502:> (0 + 0) / 24]\r",
      "\r",
      "[Stage 501:> (8 + 8) / 24][Stage 502:> (0 + 0) / 24][Stage 503:> (0 + 0) / 24]\r"
     ]
    },
    {
     "name": "stderr",
     "output_type": "stream",
     "text": [
      "\r",
      "[Stage 502:>(16 + 8) / 24][Stage 503:> (0 + 0) / 24][Stage 504:> (0 + 0) / 24]\r",
      "\r",
      "[Stage 503:>(20 + 4) / 24][Stage 504:> (0 + 4) / 24][Stage 505:> (0 + 0) / 24]\r"
     ]
    },
    {
     "name": "stderr",
     "output_type": "stream",
     "text": [
      "\r",
      "[Stage 505:> (4 + 8) / 24][Stage 506:> (0 + 0) / 24][Stage 507:> (0 + 0) / 24]\r",
      "\r",
      "[Stage 506:> (7 + 9) / 24][Stage 507:> (0 + 0) / 24][Stage 508:> (0 + 0) / 24]\r"
     ]
    },
    {
     "name": "stderr",
     "output_type": "stream",
     "text": [
      "\r",
      "[Stage 507:>(14 + 8) / 24][Stage 508:> (0 + 0) / 24][Stage 509:> (0 + 0) / 24]\r",
      "\r",
      "[Stage 508:>(21 + 3) / 24][Stage 509:> (0 + 5) / 24][Stage 510:> (0 + 0) / 24]\r"
     ]
    },
    {
     "name": "stderr",
     "output_type": "stream",
     "text": [
      "\r",
      "[Stage 510:> (1 + 8) / 24][Stage 511:> (0 + 0) / 24][Stage 512:> (0 + 0) / 24]\r",
      "\r",
      "[Stage 511:> (8 + 8) / 24][Stage 512:> (0 + 0) / 24][Stage 513:> (0 + 0) / 24]\r"
     ]
    },
    {
     "name": "stderr",
     "output_type": "stream",
     "text": [
      "\r",
      "[Stage 512:> (9 + 8) / 24][Stage 513:> (0 + 0) / 24][Stage 514:> (0 + 0) / 24]\r",
      "\r",
      "[Stage 513:>(17 + 7) / 24][Stage 514:> (0 + 1) / 24][Stage 515:> (0 + 0) / 24]\r"
     ]
    },
    {
     "name": "stderr",
     "output_type": "stream",
     "text": [
      "\r",
      "[Stage 514:>(18 + 6) / 24][Stage 515:> (0 + 2) / 24][Stage 516:> (0 + 0) / 24]\r",
      "\r",
      "[Stage 516:> (1 + 8) / 24][Stage 517:> (0 + 0) / 24][Stage 518:> (0 + 0) / 24]\r"
     ]
    },
    {
     "name": "stderr",
     "output_type": "stream",
     "text": [
      "\r",
      "[Stage 517:> (2 + 8) / 24][Stage 518:> (0 + 0) / 24][Stage 519:> (0 + 0) / 24]\r",
      "\r",
      "[Stage 518:> (9 + 8) / 24][Stage 519:> (0 + 0) / 24][Stage 520:> (0 + 0) / 24]\r"
     ]
    },
    {
     "name": "stderr",
     "output_type": "stream",
     "text": [
      "\r",
      "[Stage 519:>(13 + 8) / 24][Stage 520:> (0 + 0) / 24][Stage 521:> (0 + 0) / 24]\r",
      "\r",
      "[Stage 520:>(17 + 7) / 24][Stage 521:> (0 + 1) / 24][Stage 522:> (0 + 0) / 24]\r"
     ]
    },
    {
     "name": "stderr",
     "output_type": "stream",
     "text": [
      "\r",
      "[Stage 521:>(21 + 3) / 24][Stage 522:> (0 + 5) / 24][Stage 523:> (0 + 0) / 24]\r",
      "\r",
      "[Stage 523:> (1 + 8) / 24][Stage 524:> (0 + 0) / 24][Stage 525:> (0 + 0) / 24]\r"
     ]
    },
    {
     "name": "stderr",
     "output_type": "stream",
     "text": [
      "\r",
      "[Stage 524:> (9 + 8) / 24][Stage 525:> (0 + 0) / 24][Stage 526:> (0 + 0) / 24]\r",
      "\r",
      "[Stage 525:>(14 + 8) / 24][Stage 526:> (0 + 0) / 24][Stage 527:> (0 + 0) / 24]\r"
     ]
    },
    {
     "name": "stderr",
     "output_type": "stream",
     "text": [
      "\r",
      "[Stage 526:>(17 + 7) / 24][Stage 527:> (0 + 1) / 24][Stage 528:> (0 + 0) / 24]\r",
      "\r",
      "[Stage 527:>(20 + 4) / 24][Stage 528:> (0 + 5) / 24][Stage 529:> (0 + 0) / 24]\r"
     ]
    },
    {
     "name": "stderr",
     "output_type": "stream",
     "text": [
      "\r",
      "[Stage 529:> (2 + 8) / 24][Stage 530:> (0 + 0) / 24][Stage 531:> (0 + 0) / 24]\r",
      "\r",
      "[Stage 530:> (8 + 8) / 24][Stage 531:> (0 + 0) / 24][Stage 532:> (0 + 0) / 24]\r"
     ]
    },
    {
     "name": "stderr",
     "output_type": "stream",
     "text": [
      "\r",
      "[Stage 531:>(16 + 8) / 24][Stage 532:> (0 + 0) / 24][Stage 533:> (0 + 0) / 24]\r",
      "\r",
      "[Stage 532:>(16 + 8) / 24][Stage 533:> (0 + 0) / 24][Stage 534:> (0 + 0) / 24]\r"
     ]
    },
    {
     "name": "stderr",
     "output_type": "stream",
     "text": [
      "\r",
      "[Stage 533:>(23 + 1) / 24][Stage 534:> (0 + 7) / 24][Stage 535:> (0 + 0) / 24]\r",
      "\r",
      "[Stage 535:> (5 + 8) / 24][Stage 536:> (0 + 0) / 24][Stage 537:> (0 + 0) / 24]\r"
     ]
    },
    {
     "name": "stderr",
     "output_type": "stream",
     "text": [
      "\r",
      "[Stage 536:>(11 + 8) / 24][Stage 537:> (0 + 0) / 24][Stage 538:> (0 + 0) / 24]\r",
      "\r",
      "[Stage 537:>(15 + 8) / 24][Stage 538:> (0 + 0) / 24][Stage 539:> (0 + 0) / 24]\r"
     ]
    },
    {
     "name": "stderr",
     "output_type": "stream",
     "text": [
      "\r",
      "[Stage 538:>(22 + 2) / 24][Stage 539:> (0 + 6) / 24][Stage 540:> (0 + 0) / 24]\r",
      "\r",
      "[Stage 540:> (4 + 8) / 24][Stage 541:> (0 + 0) / 24][Stage 542:> (0 + 0) / 24]\r"
     ]
    },
    {
     "name": "stderr",
     "output_type": "stream",
     "text": [
      "\r",
      "[Stage 541:> (6 + 8) / 24][Stage 542:> (0 + 0) / 24][Stage 543:> (0 + 0) / 24]\r",
      "\r",
      "[Stage 542:>(14 + 8) / 24][Stage 543:> (0 + 0) / 24][Stage 544:> (0 + 0) / 24]\r"
     ]
    },
    {
     "name": "stderr",
     "output_type": "stream",
     "text": [
      "\r",
      "[Stage 543:>(21 + 3) / 24][Stage 544:> (0 + 5) / 24][Stage 545:> (0 + 0) / 24]\r",
      "\r",
      "[Stage 545:> (4 + 8) / 24][Stage 546:> (0 + 0) / 24][Stage 547:> (0 + 0) / 24]\r"
     ]
    },
    {
     "name": "stderr",
     "output_type": "stream",
     "text": [
      "\r",
      "[Stage 546:>(12 + 8) / 24][Stage 547:> (0 + 0) / 24][Stage 548:> (0 + 0) / 24]\r",
      "\r",
      "[Stage 547:>(15 + 8) / 24][Stage 548:> (0 + 0) / 24][Stage 549:> (0 + 0) / 24]\r"
     ]
    },
    {
     "name": "stderr",
     "output_type": "stream",
     "text": [
      "\r",
      "[Stage 548:>(21 + 3) / 24][Stage 549:> (0 + 5) / 24][Stage 550:> (0 + 0) / 24]\r",
      "\r",
      "[Stage 550:> (5 + 9) / 24][Stage 551:> (0 + 0) / 24][Stage 552:> (0 + 0) / 24]\r"
     ]
    },
    {
     "name": "stderr",
     "output_type": "stream",
     "text": [
      "\r",
      "[Stage 551:> (7 + 8) / 24][Stage 552:> (0 + 0) / 24][Stage 553:> (0 + 0) / 24]\r",
      "\r",
      "[Stage 552:>(14 + 8) / 24][Stage 553:> (0 + 0) / 24][Stage 554:> (0 + 0) / 24]\r"
     ]
    },
    {
     "name": "stderr",
     "output_type": "stream",
     "text": [
      "\r",
      "[Stage 553:(14 + 10) / 24][Stage 554:> (0 + 1) / 24][Stage 555:> (0 + 0) / 24]\r",
      "\r",
      "[Stage 554:>(22 + 2) / 24][Stage 555:> (0 + 6) / 24][Stage 556:> (0 + 0) / 24]\r"
     ]
    },
    {
     "name": "stderr",
     "output_type": "stream",
     "text": [
      "\r",
      "[Stage 556:> (6 + 8) / 24][Stage 557:> (0 + 0) / 24][Stage 558:> (0 + 0) / 24]\r",
      "\r",
      "[Stage 557:>(12 + 8) / 24][Stage 558:> (0 + 0) / 24][Stage 559:> (0 + 0) / 24]\r"
     ]
    },
    {
     "name": "stderr",
     "output_type": "stream",
     "text": [
      "\r",
      "[Stage 558:>(16 + 8) / 24][Stage 559:> (0 + 0) / 24][Stage 560:> (0 + 0) / 24]\r",
      "\r",
      "[Stage 559:>(19 + 5) / 24][Stage 560:> (0 + 3) / 24][Stage 561:> (0 + 0) / 24]\r"
     ]
    },
    {
     "name": "stderr",
     "output_type": "stream",
     "text": [
      "\r",
      "[Stage 561:> (1 + 8) / 24][Stage 562:> (0 + 0) / 24][Stage 563:> (0 + 0) / 24]\r",
      "\r",
      "[Stage 562:> (6 + 8) / 24][Stage 563:> (0 + 0) / 24][Stage 564:> (0 + 0) / 24]\r"
     ]
    },
    {
     "name": "stderr",
     "output_type": "stream",
     "text": [
      "\r",
      "[Stage 563:> (8 + 8) / 24][Stage 564:> (0 + 0) / 24][Stage 565:> (0 + 0) / 24]\r",
      "\r",
      "[Stage 564:>(14 + 8) / 24][Stage 565:> (0 + 0) / 24][Stage 566:> (0 + 0) / 24]\r"
     ]
    },
    {
     "name": "stderr",
     "output_type": "stream",
     "text": [
      "\r",
      "[Stage 565:>(18 + 6) / 24][Stage 566:> (0 + 2) / 24][Stage 567:> (0 + 0) / 24]\r",
      "\r",
      "[Stage 567:> (0 + 8) / 24][Stage 568:> (0 + 0) / 24][Stage 569:> (0 + 0) / 24]\r"
     ]
    },
    {
     "name": "stderr",
     "output_type": "stream",
     "text": [
      "\r",
      "[Stage 568:> (2 + 8) / 24][Stage 569:> (0 + 0) / 24][Stage 570:> (0 + 0) / 24]\r",
      "\r",
      "[Stage 569:> (8 + 8) / 24][Stage 570:> (0 + 0) / 24][Stage 571:> (0 + 0) / 24]\r"
     ]
    },
    {
     "name": "stderr",
     "output_type": "stream",
     "text": [
      "\r",
      "[Stage 570:>(11 + 8) / 24][Stage 571:> (0 + 0) / 24][Stage 572:> (0 + 0) / 24]\r",
      "\r",
      "[Stage 571:>(16 + 8) / 24][Stage 572:> (0 + 0) / 24][Stage 573:> (0 + 0) / 24]\r"
     ]
    },
    {
     "name": "stderr",
     "output_type": "stream",
     "text": [
      "\r",
      "[Stage 573:> (0 + 8) / 24][Stage 574:> (0 + 0) / 24][Stage 575:> (0 + 0) / 24]\r",
      "\r",
      "[Stage 574:> (5 + 8) / 24][Stage 575:> (0 + 0) / 24][Stage 576:> (0 + 0) / 24]\r"
     ]
    },
    {
     "name": "stderr",
     "output_type": "stream",
     "text": [
      "\r",
      "[Stage 575:>(10 + 8) / 24][Stage 576:> (0 + 0) / 24][Stage 577:> (0 + 0) / 24]\r",
      "\r",
      "[Stage 576:>(14 + 8) / 24][Stage 577:> (0 + 0) / 24][Stage 578:> (0 + 0) / 24]\r"
     ]
    },
    {
     "name": "stderr",
     "output_type": "stream",
     "text": [
      "\r",
      "[Stage 577:>(18 + 6) / 24][Stage 578:> (0 + 2) / 24][Stage 579:> (0 + 0) / 24]\r",
      "\r",
      "[Stage 579:> (1 + 8) / 24][Stage 580:> (0 + 0) / 24][Stage 581:> (0 + 0) / 24]\r"
     ]
    },
    {
     "name": "stderr",
     "output_type": "stream",
     "text": [
      "\r",
      "[Stage 580:> (5 + 8) / 24][Stage 581:> (0 + 0) / 24][Stage 582:> (0 + 0) / 24]\r",
      "\r",
      "[Stage 581:>(10 + 8) / 24][Stage 582:> (0 + 0) / 24][Stage 583:> (0 + 0) / 24]\r"
     ]
    },
    {
     "name": "stderr",
     "output_type": "stream",
     "text": [
      "\r",
      "[Stage 582:>(16 + 8) / 24][Stage 583:> (0 + 0) / 24][Stage 584:> (0 + 0) / 24]\r",
      "\r",
      "[Stage 583:>(19 + 5) / 24][Stage 584:> (0 + 3) / 24][Stage 585:> (0 + 0) / 24]\r"
     ]
    },
    {
     "name": "stderr",
     "output_type": "stream",
     "text": [
      "\r",
      "[Stage 585:> (0 + 8) / 24][Stage 586:> (0 + 0) / 24][Stage 587:> (0 + 0) / 24]\r",
      "\r",
      "[Stage 586:> (7 + 8) / 24][Stage 587:> (0 + 0) / 24][Stage 588:> (0 + 0) / 24]\r"
     ]
    },
    {
     "name": "stderr",
     "output_type": "stream",
     "text": [
      "\r",
      "[Stage 587:>(12 + 8) / 24][Stage 588:> (0 + 0) / 24][Stage 589:> (0 + 0) / 24]\r",
      "\r",
      "[Stage 588:>(19 + 5) / 24][Stage 589:> (0 + 3) / 24][Stage 590:> (0 + 0) / 24]\r"
     ]
    },
    {
     "name": "stderr",
     "output_type": "stream",
     "text": [
      "\r",
      "[Stage 590:> (0 + 8) / 24][Stage 591:> (0 + 0) / 24][Stage 592:> (0 + 0) / 24]\r",
      "\r",
      "[Stage 591:> (8 + 8) / 24][Stage 592:> (0 + 0) / 24][Stage 593:> (0 + 0) / 24]\r"
     ]
    },
    {
     "name": "stderr",
     "output_type": "stream",
     "text": [
      "\r",
      "[Stage 592:>(13 + 8) / 24][Stage 593:> (0 + 0) / 24][Stage 594:> (0 + 0) / 24]\r",
      "\r",
      "[Stage 593:>(14 + 8) / 24][Stage 594:> (0 + 0) / 24][Stage 595:> (0 + 0) / 24]\r"
     ]
    },
    {
     "name": "stderr",
     "output_type": "stream",
     "text": [
      "\r",
      "[Stage 594:>(17 + 7) / 24][Stage 595:> (0 + 1) / 24][Stage 596:> (0 + 0) / 24]\r",
      "\r",
      "[Stage 595:>(23 + 1) / 24][Stage 596:> (0 + 7) / 24][Stage 597:> (0 + 0) / 24]\r"
     ]
    },
    {
     "name": "stderr",
     "output_type": "stream",
     "text": [
      "\r",
      "[Stage 597:> (6 + 8) / 24][Stage 598:> (0 + 0) / 24][Stage 599:> (0 + 0) / 24]\r",
      "\r",
      "[Stage 598:>(11 + 8) / 24][Stage 599:> (0 + 0) / 24][Stage 600:> (0 + 0) / 24]\r"
     ]
    },
    {
     "name": "stderr",
     "output_type": "stream",
     "text": [
      "\r",
      "[Stage 599:>(15 + 8) / 24][Stage 600:> (0 + 0) / 24][Stage 601:> (0 + 0) / 24]\r",
      "\r",
      "[Stage 600:>(21 + 3) / 24][Stage 601:> (0 + 5) / 24][Stage 602:> (0 + 0) / 24]\r"
     ]
    },
    {
     "name": "stderr",
     "output_type": "stream",
     "text": [
      "\r",
      "[Stage 602:> (1 + 8) / 24][Stage 603:> (0 + 0) / 24][Stage 604:> (0 + 0) / 24]\r",
      "\r",
      "[Stage 603:> (4 + 8) / 24][Stage 604:> (0 + 0) / 24][Stage 605:> (0 + 0) / 24]\r"
     ]
    },
    {
     "name": "stderr",
     "output_type": "stream",
     "text": [
      "\r",
      "[Stage 604:>(11 + 8) / 24][Stage 605:> (0 + 0) / 24][Stage 606:> (0 + 0) / 24]\r",
      "\r",
      "[Stage 605:>(18 + 6) / 24][Stage 606:> (0 + 2) / 24][Stage 607:> (0 + 0) / 24]\r"
     ]
    },
    {
     "name": "stderr",
     "output_type": "stream",
     "text": [
      "\r",
      "[Stage 606:>(20 + 4) / 24][Stage 607:> (0 + 4) / 24][Stage 608:> (0 + 0) / 24]\r",
      "\r",
      "[Stage 608:> (3 + 8) / 24][Stage 609:> (0 + 0) / 24][Stage 610:> (0 + 0) / 24]\r"
     ]
    },
    {
     "name": "stderr",
     "output_type": "stream",
     "text": [
      "\r",
      "[Stage 609:> (9 + 8) / 24][Stage 610:> (0 + 0) / 24][Stage 611:> (0 + 0) / 24]\r",
      "\r",
      "[Stage 610:>(15 + 8) / 24][Stage 611:> (0 + 0) / 24][Stage 612:> (0 + 0) / 24]\r"
     ]
    },
    {
     "name": "stderr",
     "output_type": "stream",
     "text": [
      "\r",
      "[Stage 611:>(19 + 5) / 24][Stage 612:> (0 + 3) / 24][Stage 613:> (0 + 0) / 24]\r",
      "\r",
      "[Stage 613:> (1 + 8) / 24][Stage 614:> (0 + 0) / 24][Stage 615:> (0 + 0) / 24]\r"
     ]
    },
    {
     "name": "stderr",
     "output_type": "stream",
     "text": [
      "\r",
      "[Stage 614:> (7 + 8) / 24][Stage 615:> (0 + 0) / 24][Stage 616:> (0 + 0) / 24]\r"
     ]
    },
    {
     "name": "stderr",
     "output_type": "stream",
     "text": [
      "\r",
      "[Stage 615:=======>       (12 + 8) / 24][Stage 616:>               (0 + 0) / 24]\r",
      "\r",
      "[Stage 616:======================================>                (17 + 7) / 24]\r"
     ]
    },
    {
     "name": "stderr",
     "output_type": "stream",
     "text": [
      "25/04/06 15:14:06 WARN DAGScheduler: Broadcasting large task binary with size 3.8 MiB\n"
     ]
    },
    {
     "name": "stderr",
     "output_type": "stream",
     "text": [
      "\r",
      "[Stage 817:=====>                                                (22 + 8) / 200]\r"
     ]
    },
    {
     "name": "stderr",
     "output_type": "stream",
     "text": [
      "\r",
      "[Stage 817:========>                                             (31 + 8) / 200]\r",
      "\r",
      "[Stage 817:===========>                                          (42 + 8) / 200]\r"
     ]
    },
    {
     "name": "stderr",
     "output_type": "stream",
     "text": [
      "\r",
      "[Stage 817:=============>                                        (51 + 8) / 200]\r",
      "\r",
      "[Stage 817:===============>                                      (59 + 8) / 200]\r"
     ]
    },
    {
     "name": "stderr",
     "output_type": "stream",
     "text": [
      "\r",
      "[Stage 817:==================>                                   (67 + 9) / 200]\r",
      "\r",
      "[Stage 817:===================>                                 (74 + 10) / 200]\r"
     ]
    },
    {
     "name": "stderr",
     "output_type": "stream",
     "text": [
      "\r",
      "[Stage 817:======================>                               (84 + 8) / 200]\r",
      "\r",
      "[Stage 817:=========================>                            (95 + 8) / 200]\r"
     ]
    },
    {
     "name": "stderr",
     "output_type": "stream",
     "text": [
      "\r",
      "[Stage 817:============================>                        (107 + 8) / 200]\r",
      "\r",
      "[Stage 817:================================>                    (123 + 8) / 200]\r"
     ]
    },
    {
     "name": "stderr",
     "output_type": "stream",
     "text": [
      "\r",
      "[Stage 817:=====================================>               (140 + 8) / 200]\r"
     ]
    },
    {
     "name": "stderr",
     "output_type": "stream",
     "text": [
      "\r",
      "[Stage 817:=======================================>            (152 + 10) / 200]\r",
      "\r",
      "[Stage 817:==============================================>      (175 + 8) / 200]\r"
     ]
    },
    {
     "name": "stderr",
     "output_type": "stream",
     "text": [
      "\r",
      "[Stage 817:==================================================>  (191 + 8) / 200]\r",
      "\r",
      "                                                                                \r"
     ]
    }
   ],
   "source": [
    "# escrita das tabelas em stage\n",
    "write_to_postgres(df_retorno_mensal, \"temp_retorno_mensal\")\n",
    "write_to_postgres(df_ativas, \"temp_captacao_mercado\")\n",
    "write_to_postgres(df_geral, \"temp_cadastro\")\n",
    "write_to_postgres(df_financeira, \"temp_financas\")\n",
    "write_to_postgres(df_mercado, \"temp_mercado\")\n",
    "write_to_postgres(df_dividendos, \"temp_dividendos\")\n",
    "write_to_postgres(df_valuation, \"temp_valuation\")\n",
    "write_to_postgres(df_indices, \"temp_indices\")"
   ]
  },
  {
   "cell_type": "code",
   "execution_count": 20,
   "id": "40cd2112",
   "metadata": {
    "execution": {
     "iopub.execute_input": "2025-04-06T15:14:11.567515Z",
     "iopub.status.busy": "2025-04-06T15:14:11.566981Z",
     "iopub.status.idle": "2025-04-06T15:14:11.573529Z",
     "shell.execute_reply": "2025-04-06T15:14:11.572919Z"
    },
    "jupyter": {
     "source_hidden": true
    },
    "papermill": {
     "duration": 0.022068,
     "end_time": "2025-04-06T15:14:11.574553",
     "exception": false,
     "start_time": "2025-04-06T15:14:11.552485",
     "status": "completed"
    },
    "tags": []
   },
   "outputs": [],
   "source": [
    "def upsert_data(table_name, temp_table_name, key_columns):\n",
    "    try:\n",
    "        # Conectar ao PostgreSQL\n",
    "        connection = psycopg2.connect(**conn_params)\n",
    "        cursor = connection.cursor()\n",
    "        \n",
    "        # Definir o fuso horário da sessão para UTC-3\n",
    "        cursor.execute(\"SET TIME ZONE 'America/Sao_Paulo';\")\n",
    "\n",
    "        # Definir esquemas\n",
    "        schema_fact = \"paxpe\"\n",
    "        schema_stg = \"paxpestg\"\n",
    "        \n",
    "        # Obter todas as colunas da tabela\n",
    "        cursor.execute(f\"\"\"\n",
    "        SELECT column_name\n",
    "        FROM information_schema.columns\n",
    "        WHERE table_schema = '{schema_fact}' AND table_name = '{table_name}'\n",
    "        \"\"\")\n",
    "        all_columns = [row[0] for row in cursor.fetchall()]\n",
    "\n",
    "        # Identificar colunas não chave e colunas de referência\n",
    "        non_key_columns = [col for col in all_columns if col not in key_columns and col not in ['dt_ptcao', 'dthr_igtao']]\n",
    "        reference_columns = ['dthr_igtao']\n",
    "\n",
    "        # Construir a declaração SQL de atualização col1, col2\n",
    "        key_columns_str = ', '.join(key_columns)\n",
    "        update_set_non_key = ', '.join([\n",
    "            f\"{col} = EXCLUDED.{col}\" \n",
    "            for col in non_key_columns\n",
    "        ])\n",
    "        \n",
    "        # Atualizar apenas as colunas não-chave se houver uma mudança\n",
    "        where_condition = ' OR '.join([\n",
    "            f\"target.{col} IS DISTINCT FROM EXCLUDED.{col}\" \n",
    "            for col in non_key_columns\n",
    "        ])\n",
    "        \n",
    "        # Para atualizar as colunas de referência se houver uma atualização nas colunas não-chave\n",
    "        update_set_reference = ', '.join([\n",
    "            f\"{col} = EXCLUDED.{col}\" \n",
    "            for col in reference_columns\n",
    "        ])\n",
    "        \n",
    "        sql = f\"\"\"\n",
    "        INSERT INTO {schema_fact}.{table_name} \n",
    "        (SELECT * FROM {schema_stg}.{temp_table_name})\n",
    "        ON CONFLICT ({key_columns_str}) \n",
    "        DO UPDATE SET\n",
    "        {update_set_non_key},\n",
    "        {update_set_reference}\n",
    "        WHERE EXISTS (\n",
    "            SELECT 1\n",
    "            FROM {schema_fact}.{table_name} AS target\n",
    "            WHERE { ' AND '.join([f\"target.{key} = EXCLUDED.{key}\" for key in key_columns]) }\n",
    "            AND ({where_condition})\n",
    "        );\n",
    "        \"\"\"\n",
    "        \n",
    "        # Executar a declaração SQL de upsert\n",
    "        cursor.execute(sql)\n",
    "        connection.commit()\n",
    "        print(f\"Upsert de {schema_stg}.{temp_table_name} realizado para {schema_fact}.{table_name}.\")\n",
    "    \n",
    "    except Exception as e:\n",
    "        print(f\"Error: {e}\")\n",
    "    \n",
    "    finally:\n",
    "        if connection:\n",
    "            cursor.close()\n",
    "            connection.close()"
   ]
  },
  {
   "cell_type": "code",
   "execution_count": 21,
   "id": "4b72a473",
   "metadata": {
    "execution": {
     "iopub.execute_input": "2025-04-06T15:14:11.602558Z",
     "iopub.status.busy": "2025-04-06T15:14:11.602196Z",
     "iopub.status.idle": "2025-04-06T15:14:11.605628Z",
     "shell.execute_reply": "2025-04-06T15:14:11.605029Z"
    },
    "jupyter": {
     "source_hidden": true
    },
    "papermill": {
     "duration": 0.019454,
     "end_time": "2025-04-06T15:14:11.606613",
     "exception": false,
     "start_time": "2025-04-06T15:14:11.587159",
     "status": "completed"
    },
    "tags": []
   },
   "outputs": [],
   "source": [
    "# colunas chave para cada tabela\n",
    "key_columns_retorno_mensal = [\"ticker\", \"data\"]\n",
    "key_columns_cadastro = [\"ticker\"]\n",
    "key_columns_cap_mercado = [\"ticker\"]\n",
    "key_columns_financas = [\"ticker\"]\n",
    "key_columns_mercado = [\"ticker\"]\n",
    "key_columns_dividendos = [\"ticker\",\"data_exdividendo\"]\n",
    "key_columns_valuation = [\"ticker\"]\n",
    "key_columns_indices = [\"indice\",\"data\"]"
   ]
  },
  {
   "cell_type": "code",
   "execution_count": 22,
   "id": "e97463cf",
   "metadata": {
    "execution": {
     "iopub.execute_input": "2025-04-06T15:14:11.633318Z",
     "iopub.status.busy": "2025-04-06T15:14:11.633045Z",
     "iopub.status.idle": "2025-04-06T15:14:11.796342Z",
     "shell.execute_reply": "2025-04-06T15:14:11.795701Z"
    },
    "jupyter": {
     "source_hidden": true
    },
    "papermill": {
     "duration": 0.178053,
     "end_time": "2025-04-06T15:14:11.797376",
     "exception": false,
     "start_time": "2025-04-06T15:14:11.619323",
     "status": "completed"
    },
    "tags": []
   },
   "outputs": [
    {
     "name": "stdout",
     "output_type": "stream",
     "text": [
      "Upsert de paxpestg.temp_retorno_mensal realizado para paxpe.retorno_mensal.\n",
      "Upsert de paxpestg.temp_cadastro realizado para paxpe.cadastro.\n",
      "Upsert de paxpestg.temp_captacao_mercado realizado para paxpe.captacao_mercado.\n",
      "Upsert de paxpestg.temp_financas realizado para paxpe.financas.\n",
      "Upsert de paxpestg.temp_mercado realizado para paxpe.mercado.\n",
      "Upsert de paxpestg.temp_dividendos realizado para paxpe.dividendos.\n",
      "Upsert de paxpestg.temp_valuation realizado para paxpe.valuation.\n",
      "Upsert de paxpestg.temp_indices realizado para paxpe.indices.\n"
     ]
    }
   ],
   "source": [
    "# realiza o upsert\n",
    "upsert_data(\"retorno_mensal\", \"temp_retorno_mensal\", key_columns_retorno_mensal)\n",
    "upsert_data(\"cadastro\", \"temp_cadastro\", key_columns_cadastro)\n",
    "upsert_data(\"captacao_mercado\", \"temp_captacao_mercado\", key_columns_cap_mercado)\n",
    "upsert_data(\"financas\", \"temp_financas\", key_columns_financas)\n",
    "upsert_data(\"mercado\", \"temp_mercado\", key_columns_mercado)\n",
    "upsert_data(\"dividendos\", \"temp_dividendos\", key_columns_dividendos)\n",
    "upsert_data(\"valuation\", \"temp_valuation\", key_columns_valuation)\n",
    "upsert_data(\"indices\", \"temp_indices\", key_columns_indices)"
   ]
  }
 ],
 "metadata": {
  "kernelspec": {
   "display_name": "Python 3",
   "language": "python",
   "name": "python3"
  },
  "language_info": {
   "codemirror_mode": {
    "name": "ipython",
    "version": 3
   },
   "file_extension": ".py",
   "mimetype": "text/x-python",
   "name": "python",
   "nbconvert_exporter": "python",
   "pygments_lexer": "ipython3",
   "version": "3.8.18"
  },
  "papermill": {
   "default_parameters": {},
   "duration": 250.270754,
   "end_time": "2025-04-06T15:14:14.427260",
   "environment_variables": {},
   "exception": null,
   "input_path": "/opt/airflow/dags/utils/paxpe.ipynb",
   "output_path": "/opt/airflow/dags/utils/paxpe_log.ipynb",
   "parameters": {},
   "start_time": "2025-04-06T15:10:04.156506",
   "version": "2.6.0"
  }
 },
 "nbformat": 4,
 "nbformat_minor": 5
}