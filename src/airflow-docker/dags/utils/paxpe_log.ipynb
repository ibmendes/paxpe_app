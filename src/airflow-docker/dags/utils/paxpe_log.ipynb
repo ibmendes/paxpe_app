{
 "cells": [
  {
   "cell_type": "markdown",
   "id": "1fbaf0eb",
   "metadata": {
    "papermill": {
     "duration": 0.006603,
     "end_time": "2024-10-20T04:10:42.893014",
     "exception": false,
     "start_time": "2024-10-20T04:10:42.886411",
     "status": "completed"
    },
    "tags": []
   },
   "source": [
    "# PAXPE - Ingestão de dados para banco de dados SQL do Azure usando serviços do Azure\n",
    "\n",
    "## Visão geral\n",
    "\n",
    "Este notebook demonstra como agendar um script Python para ingerir dados em um Banco de Dados SQL do Postgres, orquestrado pelo airflow.\n",
    "\n",
    "# Documentação do Processo de Criação de Tabelas com Dados do Yahoo Finance\n",
    "\n",
    "## Objetivo\n",
    "O objetivo deste processo é obter dados financeiros, de mercado, dividendos, valuation e informações gerais de empresas listadas na bolsa, utilizando a API do Yahoo Finance. Os dados são coletados para um ou mais tickers e organizados em DataFrames utilizando PySpark para garantir performance e escalabilidade, especialmente ao lidar com uma grande quantidade de tickers.\n",
    "\n",
    "1. **Coleta de Dados**: \n",
    "   - Para cada ticker fornecido, as informações relevantes foram extraídas da API do Yahoo Finance utilizando a biblioteca `yfinance`. Os dados foram organizados em dicionários para posterior conversão em DataFrames.\n",
    "\n",
    "2. **Criação dos DataFrames**:\n",
    "   - **Tabela Geral** (`df_geral`): Contém informações gerais da empresa, como setor, indústria, número de empregados, localização e resumo das atividades.\n",
    "   - **Tabela Financeira** (`df_financeira`): Contém dados financeiros da empresa, como capitalização de mercado, receita, lucro líquido, EBITDA, dívida total, entre outros.\n",
    "   - **Tabela de Mercado** (`df_mercado`): Inclui dados relacionados ao mercado, como preço atual, preço de abertura, volume de negociação, beta, entre outros.\n",
    "   - **Tabela de Dividendos** (`df_dividendos`): Contém informações sobre dividendos, incluindo taxa de dividendos, data ex-dividendo e índice de distribuição.\n",
    "   - **Tabela de Valuation** (`df_valuation`): Inclui dados de valuation da empresa, como índices P/E (Price to Earnings), P/B (Price to Book) e PEG (Price/Earnings to Growth).\n",
    "   - **Tabela de Retorno Mensal** (`df_retorno_mensal`): Retorno mensal da ação com base em preço da ação, dividendos e percentual\n",
    "\n",
    "## Considerações Finais\n",
    "Este processo permite a coleta eficiente e escalável de dados financeiros de várias empresas, facilitando análises complexas em grandes volumes de dados. O uso do PySpark garante que mesmo listas extensas de tickers possam ser processadas rapidamente, gerando tabelas estruturadas e prontas para análise.\n",
    "\n",
    "\n",
    "# Changelog\n",
    "\n",
    "| Responsável | Data       | Change Log                                                                                      |\n",
    "|-------------|------------|--------------------------------------------------------------------------------------------------|\n",
    "| IGOR MENDES | 10-08-24 | Criação do script em spark                   |\n",
    "| IGOR MENDES | 28-08-24 | Criação da logica de upsert com o postgresSQL                |\n"
   ]
  },
  {
   "cell_type": "code",
   "execution_count": 1,
   "id": "9f906632",
   "metadata": {
    "execution": {
     "iopub.execute_input": "2024-10-20T04:10:42.905776Z",
     "iopub.status.busy": "2024-10-20T04:10:42.905545Z",
     "iopub.status.idle": "2024-10-20T04:10:56.265167Z",
     "shell.execute_reply": "2024-10-20T04:10:56.264507Z"
    },
    "jupyter": {
     "source_hidden": true
    },
    "papermill": {
     "duration": 13.369056,
     "end_time": "2024-10-20T04:10:56.267045",
     "exception": false,
     "start_time": "2024-10-20T04:10:42.897989",
     "status": "completed"
    },
    "tags": []
   },
   "outputs": [
    {
     "name": "stdout",
     "output_type": "stream",
     "text": [
      "Defaulting to user installation because normal site-packages is not writeable\r\n"
     ]
    },
    {
     "name": "stdout",
     "output_type": "stream",
     "text": [
      "Requirement already satisfied: yahoofinance in /home/airflow/.local/lib/python3.8/site-packages (0.0.2)\r\n",
      "Requirement already satisfied: beautifulsoup4>=4.6.3 in /home/airflow/.local/lib/python3.8/site-packages (from yahoofinance) (4.12.2)\r\n",
      "Requirement already satisfied: pandas>=0.23.4 in /home/airflow/.local/lib/python3.8/site-packages (from yahoofinance) (2.0.3)\r\n",
      "Requirement already satisfied: requests>=2.20.1 in /home/airflow/.local/lib/python3.8/site-packages (from yahoofinance) (2.31.0)\r\n",
      "Requirement already satisfied: soupsieve>1.2 in /home/airflow/.local/lib/python3.8/site-packages (from beautifulsoup4>=4.6.3->yahoofinance) (2.5)\r\n"
     ]
    },
    {
     "name": "stdout",
     "output_type": "stream",
     "text": [
      "Requirement already satisfied: numpy>=1.20.3 in /home/airflow/.local/lib/python3.8/site-packages (from pandas>=0.23.4->yahoofinance) (1.24.4)\r\n",
      "Requirement already satisfied: tzdata>=2022.1 in /home/airflow/.local/lib/python3.8/site-packages (from pandas>=0.23.4->yahoofinance) (2023.3)\r\n",
      "Requirement already satisfied: pytz>=2020.1 in /home/airflow/.local/lib/python3.8/site-packages (from pandas>=0.23.4->yahoofinance) (2023.3.post1)\r\n",
      "Requirement already satisfied: python-dateutil>=2.8.2 in /home/airflow/.local/lib/python3.8/site-packages (from pandas>=0.23.4->yahoofinance) (2.8.2)\r\n",
      "Requirement already satisfied: charset-normalizer<4,>=2 in /home/airflow/.local/lib/python3.8/site-packages (from requests>=2.20.1->yahoofinance) (3.3.2)\r\n",
      "Requirement already satisfied: urllib3<3,>=1.21.1 in /home/airflow/.local/lib/python3.8/site-packages (from requests>=2.20.1->yahoofinance) (1.26.18)\r\n",
      "Requirement already satisfied: idna<4,>=2.5 in /home/airflow/.local/lib/python3.8/site-packages (from requests>=2.20.1->yahoofinance) (3.4)\r\n",
      "Requirement already satisfied: certifi>=2017.4.17 in /home/airflow/.local/lib/python3.8/site-packages (from requests>=2.20.1->yahoofinance) (2023.7.22)\r\n",
      "Requirement already satisfied: six>=1.5 in /home/airflow/.local/lib/python3.8/site-packages (from python-dateutil>=2.8.2->pandas>=0.23.4->yahoofinance) (1.16.0)\r\n"
     ]
    },
    {
     "name": "stdout",
     "output_type": "stream",
     "text": [
      "\r\n",
      "\u001b[1m[\u001b[0m\u001b[34;49mnotice\u001b[0m\u001b[1;39;49m]\u001b[0m\u001b[39;49m A new release of pip is available: \u001b[0m\u001b[31;49m23.0.1\u001b[0m\u001b[39;49m -> \u001b[0m\u001b[32;49m24.2\u001b[0m\r\n",
      "\u001b[1m[\u001b[0m\u001b[34;49mnotice\u001b[0m\u001b[1;39;49m]\u001b[0m\u001b[39;49m To update, run: \u001b[0m\u001b[32;49mpip install --upgrade pip\u001b[0m\r\n"
     ]
    },
    {
     "name": "stdout",
     "output_type": "stream",
     "text": [
      "Defaulting to user installation because normal site-packages is not writeable\r\n"
     ]
    },
    {
     "name": "stdout",
     "output_type": "stream",
     "text": [
      "Requirement already satisfied: yahooquery in /home/airflow/.local/lib/python3.8/site-packages (2.3.7)\r\n"
     ]
    },
    {
     "name": "stdout",
     "output_type": "stream",
     "text": [
      "Requirement already satisfied: tqdm<5.0.0,>=4.65.0 in /home/airflow/.local/lib/python3.8/site-packages (from yahooquery) (4.66.5)\r\n",
      "Requirement already satisfied: requests-futures<2.0.0,>=1.0.1 in /home/airflow/.local/lib/python3.8/site-packages (from yahooquery) (1.0.1)\r\n",
      "Requirement already satisfied: lxml<5.0.0,>=4.9.3 in /home/airflow/.local/lib/python3.8/site-packages (from yahooquery) (4.9.3)\r\n",
      "Requirement already satisfied: pandas<3.0.0,>=2.0.3 in /home/airflow/.local/lib/python3.8/site-packages (from yahooquery) (2.0.3)\r\n",
      "Requirement already satisfied: requests<3.0.0,>=2.31.0 in /home/airflow/.local/lib/python3.8/site-packages (from yahooquery) (2.31.0)\r\n",
      "Requirement already satisfied: beautifulsoup4<5.0.0,>=4.12.2 in /home/airflow/.local/lib/python3.8/site-packages (from yahooquery) (4.12.2)\r\n",
      "Requirement already satisfied: soupsieve>1.2 in /home/airflow/.local/lib/python3.8/site-packages (from beautifulsoup4<5.0.0,>=4.12.2->yahooquery) (2.5)\r\n"
     ]
    },
    {
     "name": "stdout",
     "output_type": "stream",
     "text": [
      "Requirement already satisfied: tzdata>=2022.1 in /home/airflow/.local/lib/python3.8/site-packages (from pandas<3.0.0,>=2.0.3->yahooquery) (2023.3)\r\n",
      "Requirement already satisfied: python-dateutil>=2.8.2 in /home/airflow/.local/lib/python3.8/site-packages (from pandas<3.0.0,>=2.0.3->yahooquery) (2.8.2)\r\n",
      "Requirement already satisfied: pytz>=2020.1 in /home/airflow/.local/lib/python3.8/site-packages (from pandas<3.0.0,>=2.0.3->yahooquery) (2023.3.post1)\r\n",
      "Requirement already satisfied: numpy>=1.20.3 in /home/airflow/.local/lib/python3.8/site-packages (from pandas<3.0.0,>=2.0.3->yahooquery) (1.24.4)\r\n",
      "Requirement already satisfied: certifi>=2017.4.17 in /home/airflow/.local/lib/python3.8/site-packages (from requests<3.0.0,>=2.31.0->yahooquery) (2023.7.22)\r\n",
      "Requirement already satisfied: urllib3<3,>=1.21.1 in /home/airflow/.local/lib/python3.8/site-packages (from requests<3.0.0,>=2.31.0->yahooquery) (1.26.18)\r\n",
      "Requirement already satisfied: idna<4,>=2.5 in /home/airflow/.local/lib/python3.8/site-packages (from requests<3.0.0,>=2.31.0->yahooquery) (3.4)\r\n",
      "Requirement already satisfied: charset-normalizer<4,>=2 in /home/airflow/.local/lib/python3.8/site-packages (from requests<3.0.0,>=2.31.0->yahooquery) (3.3.2)\r\n",
      "Requirement already satisfied: six>=1.5 in /home/airflow/.local/lib/python3.8/site-packages (from python-dateutil>=2.8.2->pandas<3.0.0,>=2.0.3->yahooquery) (1.16.0)\r\n"
     ]
    },
    {
     "name": "stdout",
     "output_type": "stream",
     "text": [
      "\r\n",
      "\u001b[1m[\u001b[0m\u001b[34;49mnotice\u001b[0m\u001b[1;39;49m]\u001b[0m\u001b[39;49m A new release of pip is available: \u001b[0m\u001b[31;49m23.0.1\u001b[0m\u001b[39;49m -> \u001b[0m\u001b[32;49m24.2\u001b[0m\r\n",
      "\u001b[1m[\u001b[0m\u001b[34;49mnotice\u001b[0m\u001b[1;39;49m]\u001b[0m\u001b[39;49m To update, run: \u001b[0m\u001b[32;49mpip install --upgrade pip\u001b[0m\r\n"
     ]
    },
    {
     "name": "stdout",
     "output_type": "stream",
     "text": [
      "Defaulting to user installation because normal site-packages is not writeable\r\n"
     ]
    },
    {
     "name": "stdout",
     "output_type": "stream",
     "text": [
      "Requirement already satisfied: yfinance in /home/airflow/.local/lib/python3.8/site-packages (0.2.43)\r\n",
      "Requirement already satisfied: lxml>=4.9.1 in /home/airflow/.local/lib/python3.8/site-packages (from yfinance) (4.9.3)\r\n",
      "Requirement already satisfied: numpy>=1.16.5 in /home/airflow/.local/lib/python3.8/site-packages (from yfinance) (1.24.4)\r\n",
      "Requirement already satisfied: html5lib>=1.1 in /home/airflow/.local/lib/python3.8/site-packages (from yfinance) (1.1)\r\n",
      "Requirement already satisfied: frozendict>=2.3.4 in /home/airflow/.local/lib/python3.8/site-packages (from yfinance) (2.4.4)\r\n",
      "Requirement already satisfied: beautifulsoup4>=4.11.1 in /home/airflow/.local/lib/python3.8/site-packages (from yfinance) (4.12.2)\r\n",
      "Requirement already satisfied: multitasking>=0.0.7 in /home/airflow/.local/lib/python3.8/site-packages (from yfinance) (0.0.11)\r\n",
      "Requirement already satisfied: pytz>=2022.5 in /home/airflow/.local/lib/python3.8/site-packages (from yfinance) (2023.3.post1)\r\n",
      "Requirement already satisfied: requests>=2.31 in /home/airflow/.local/lib/python3.8/site-packages (from yfinance) (2.31.0)\r\n",
      "Requirement already satisfied: pandas>=1.3.0 in /home/airflow/.local/lib/python3.8/site-packages (from yfinance) (2.0.3)\r\n",
      "Requirement already satisfied: peewee>=3.16.2 in /home/airflow/.local/lib/python3.8/site-packages (from yfinance) (3.17.6)\r\n",
      "Requirement already satisfied: platformdirs>=2.0.0 in /home/airflow/.local/lib/python3.8/site-packages (from yfinance) (3.11.0)\r\n",
      "Requirement already satisfied: soupsieve>1.2 in /home/airflow/.local/lib/python3.8/site-packages (from beautifulsoup4>=4.11.1->yfinance) (2.5)\r\n",
      "Requirement already satisfied: six>=1.9 in /home/airflow/.local/lib/python3.8/site-packages (from html5lib>=1.1->yfinance) (1.16.0)\r\n",
      "Requirement already satisfied: webencodings in /home/airflow/.local/lib/python3.8/site-packages (from html5lib>=1.1->yfinance) (0.5.1)\r\n"
     ]
    },
    {
     "name": "stdout",
     "output_type": "stream",
     "text": [
      "Requirement already satisfied: tzdata>=2022.1 in /home/airflow/.local/lib/python3.8/site-packages (from pandas>=1.3.0->yfinance) (2023.3)\r\n",
      "Requirement already satisfied: python-dateutil>=2.8.2 in /home/airflow/.local/lib/python3.8/site-packages (from pandas>=1.3.0->yfinance) (2.8.2)\r\n",
      "Requirement already satisfied: idna<4,>=2.5 in /home/airflow/.local/lib/python3.8/site-packages (from requests>=2.31->yfinance) (3.4)\r\n",
      "Requirement already satisfied: urllib3<3,>=1.21.1 in /home/airflow/.local/lib/python3.8/site-packages (from requests>=2.31->yfinance) (1.26.18)\r\n",
      "Requirement already satisfied: charset-normalizer<4,>=2 in /home/airflow/.local/lib/python3.8/site-packages (from requests>=2.31->yfinance) (3.3.2)\r\n",
      "Requirement already satisfied: certifi>=2017.4.17 in /home/airflow/.local/lib/python3.8/site-packages (from requests>=2.31->yfinance) (2023.7.22)\r\n"
     ]
    },
    {
     "name": "stdout",
     "output_type": "stream",
     "text": [
      "\r\n",
      "\u001b[1m[\u001b[0m\u001b[34;49mnotice\u001b[0m\u001b[1;39;49m]\u001b[0m\u001b[39;49m A new release of pip is available: \u001b[0m\u001b[31;49m23.0.1\u001b[0m\u001b[39;49m -> \u001b[0m\u001b[32;49m24.2\u001b[0m\r\n",
      "\u001b[1m[\u001b[0m\u001b[34;49mnotice\u001b[0m\u001b[1;39;49m]\u001b[0m\u001b[39;49m To update, run: \u001b[0m\u001b[32;49mpip install --upgrade pip\u001b[0m\r\n"
     ]
    },
    {
     "name": "stdout",
     "output_type": "stream",
     "text": [
      "Defaulting to user installation because normal site-packages is not writeable\r\n"
     ]
    },
    {
     "name": "stdout",
     "output_type": "stream",
     "text": [
      "Requirement already satisfied: psycopg2-binary in /home/airflow/.local/lib/python3.8/site-packages (2.9.9)\r\n"
     ]
    },
    {
     "name": "stdout",
     "output_type": "stream",
     "text": [
      "\r\n",
      "\u001b[1m[\u001b[0m\u001b[34;49mnotice\u001b[0m\u001b[1;39;49m]\u001b[0m\u001b[39;49m A new release of pip is available: \u001b[0m\u001b[31;49m23.0.1\u001b[0m\u001b[39;49m -> \u001b[0m\u001b[32;49m24.2\u001b[0m\r\n",
      "\u001b[1m[\u001b[0m\u001b[34;49mnotice\u001b[0m\u001b[1;39;49m]\u001b[0m\u001b[39;49m To update, run: \u001b[0m\u001b[32;49mpip install --upgrade pip\u001b[0m\r\n"
     ]
    }
   ],
   "source": [
    "#fontes - yahoo finance api\n",
    "!pip install yahoofinance\n",
    "!pip install yahooquery\n",
    "!pip install yfinance\n",
    "\n",
    "\n",
    "!pip install psycopg2-binary\n"
   ]
  },
  {
   "cell_type": "code",
   "execution_count": 2,
   "id": "6b901bbe",
   "metadata": {
    "execution": {
     "iopub.execute_input": "2024-10-20T04:10:56.304505Z",
     "iopub.status.busy": "2024-10-20T04:10:56.304155Z",
     "iopub.status.idle": "2024-10-20T04:11:00.074215Z",
     "shell.execute_reply": "2024-10-20T04:11:00.073427Z"
    },
    "jupyter": {
     "source_hidden": true
    },
    "papermill": {
     "duration": 3.803334,
     "end_time": "2024-10-20T04:11:00.076063",
     "exception": false,
     "start_time": "2024-10-20T04:10:56.272729",
     "status": "completed"
    },
    "tags": []
   },
   "outputs": [
    {
     "name": "stderr",
     "output_type": "stream",
     "text": [
      "/home/airflow/.local/lib/python3.8/site-packages/pyspark/bin/load-spark-env.sh: line 68: ps: command not found\n"
     ]
    },
    {
     "name": "stderr",
     "output_type": "stream",
     "text": [
      "24/10/20 04:10:58 WARN NativeCodeLoader: Unable to load native-hadoop library for your platform... using builtin-java classes where applicable\n",
      "Setting default log level to \"WARN\".\n",
      "To adjust logging level use sc.setLogLevel(newLevel). For SparkR, use setLogLevel(newLevel).\n"
     ]
    },
    {
     "name": "stderr",
     "output_type": "stream",
     "text": [
      "24/10/20 04:10:59 WARN Utils: Service 'SparkUI' could not bind on port 4040. Attempting port 4041.\n"
     ]
    },
    {
     "data": {
      "text/html": [
       "\n",
       "            <div>\n",
       "                <p><b>SparkSession - in-memory</b></p>\n",
       "                \n",
       "        <div>\n",
       "            <p><b>SparkContext</b></p>\n",
       "\n",
       "            <p><a href=\"http://05f50e423b3a:4041\">Spark UI</a></p>\n",
       "\n",
       "            <dl>\n",
       "              <dt>Version</dt>\n",
       "                <dd><code>v3.5.2</code></dd>\n",
       "              <dt>Master</dt>\n",
       "                <dd><code>local[*]</code></dd>\n",
       "              <dt>AppName</dt>\n",
       "                <dd><code>PAXPE</code></dd>\n",
       "            </dl>\n",
       "        </div>\n",
       "        \n",
       "            </div>\n",
       "        "
      ],
      "text/plain": [
       "<pyspark.sql.session.SparkSession at 0x7f5c37f49520>"
      ]
     },
     "execution_count": 2,
     "metadata": {},
     "output_type": "execute_result"
    }
   ],
   "source": [
    "import findspark\n",
    "findspark.init()  # Inicializa o Spark\n",
    "findspark.find()  # Verifica se o Spark está corretamente configurado\n",
    "\n",
    "from pyspark import SparkContext, SparkConf\n",
    "from pyspark.sql import SparkSession\n",
    "\n",
    "spark = (\n",
    "    SparkSession\n",
    "    .builder\n",
    "    .appName(\"PAXPE\")\n",
    "    .config(\"spark.sql.session.timeZone\", \"America/Sao_Paulo\")  # Define o fuso horário para São Paulo\n",
    "    .config(\"spark.driver.memory\", \"16g\")  # Memória do driver\n",
    "    .config(\"spark.executor.memory\", \"12g\")  # Memória para cada executor (ajuste conforme a carga)\n",
    "    .config(\"spark.executor.cores\", \"8\")  # Núcleos por executor\n",
    "    .config(\"spark.cores.max\", \"24\")  # Total de núcleos disponíveis\n",
    "    .config(\"spark.dynamicAllocation.enabled\", \"true\")\n",
    "    .config(\"spark.dynamicAllocation.minExecutors\", \"2\")\n",
    "    .config(\"spark.dynamicAllocation.maxExecutors\", \"10\")\n",
    "    .config(\"spark.dynamicAllocation.initialExecutors\", \"4\")\n",
    "    .config(\"spark.default.parallelism\", \"24\")  # Nível de paralelismo\n",
    "    .config(\"spark.memory.fraction\", \"0.8\")  # Memória usada para armazenamento e execução\n",
    "    .config(\"spark.memory.storageFraction\", \"0.5\")  # Memória usada para armazenamento\n",
    "    .config(\"spark.jars\", \"/opt/airflow/jars/postgresql-42.7.4.jar\")\n",
    "    .getOrCreate()\n",
    ")\n",
    "\n",
    "\n",
    "spark"
   ]
  },
  {
   "cell_type": "code",
   "execution_count": 3,
   "id": "62e6f142",
   "metadata": {
    "execution": {
     "iopub.execute_input": "2024-10-20T04:11:00.089650Z",
     "iopub.status.busy": "2024-10-20T04:11:00.089223Z",
     "iopub.status.idle": "2024-10-20T04:11:00.895859Z",
     "shell.execute_reply": "2024-10-20T04:11:00.895186Z"
    },
    "jupyter": {
     "source_hidden": true
    },
    "papermill": {
     "duration": 0.815279,
     "end_time": "2024-10-20T04:11:00.897263",
     "exception": false,
     "start_time": "2024-10-20T04:11:00.081984",
     "status": "completed"
    },
    "tags": []
   },
   "outputs": [],
   "source": [
    "import pandas as pd\n",
    "\n",
    "import yfinance as yf\n",
    "from yfinance import Ticker\n",
    "#api yahoo\n",
    "from yahooquery import Screener, Ticker\n",
    "\n",
    "\n",
    "#criar timestamps e automatizar a safra de tempo da análise\n",
    "# apagar depois que tiver usando a api do spark sql\n",
    "from datetime import datetime, timedelta\n",
    "\n",
    "from pyspark.sql.functions import col, lit, when, lag, current_timestamp , date_format, from_utc_timestamp\n",
    "from pyspark.sql.types import StructType, StructField, StringType, FloatType, LongType, DateType, DoubleType,IntegerType\n",
    "from pyspark.sql.window import Window\n",
    "\n",
    "\n",
    "import psycopg2\n",
    "from psycopg2 import OperationalError\n",
    "import sys\n"
   ]
  },
  {
   "cell_type": "code",
   "execution_count": 4,
   "id": "ecedb58b",
   "metadata": {
    "execution": {
     "iopub.execute_input": "2024-10-20T04:11:00.910653Z",
     "iopub.status.busy": "2024-10-20T04:11:00.910264Z",
     "iopub.status.idle": "2024-10-20T04:11:00.915779Z",
     "shell.execute_reply": "2024-10-20T04:11:00.915114Z"
    },
    "jupyter": {
     "source_hidden": true
    },
    "papermill": {
     "duration": 0.013621,
     "end_time": "2024-10-20T04:11:00.916829",
     "exception": false,
     "start_time": "2024-10-20T04:11:00.903208",
     "status": "completed"
    },
    "tags": []
   },
   "outputs": [],
   "source": [
    "def obter_empresas_ativas():\n",
    "    screener = Screener()\n",
    "    dados = screener.get_screeners('most_actives', count=200)\n",
    "    # print(dados)  # Linha de depuração para inspecionar a estrutura dos dados retornados\n",
    "    empresas = dados['most_actives']['quotes']\n",
    "    \n",
    "    # Criar um DataFrame a partir dos dados\n",
    "    df = spark.createDataFrame(empresas)\n",
    "    \n",
    "    # Colunas para corresponder ao site\n",
    "    colunas = [\n",
    "        'symbol', 'shortName', 'displayName', 'regularMarketPrice', 'regularMarketChange', \n",
    "        'regularMarketChangePercent', 'regularMarketVolume', 'marketCap', \n",
    "        'fullExchangeName', 'quoteSourceName'\n",
    "    ]\n",
    "    df = df.select(*colunas)\n",
    "    \n",
    "    # Renomear colunas para português\n",
    "    df = df.withColumnRenamed('symbol', 'ticker') \\\n",
    "           .withColumnRenamed('shortName', 'nome_curto') \\\n",
    "           .withColumnRenamed('displayName', 'nome_exibicao') \\\n",
    "           .withColumnRenamed('regularMarketPrice', 'preco_mercado_regular') \\\n",
    "           .withColumnRenamed('regularMarketChange', 'mudanca_mercado_regular') \\\n",
    "           .withColumnRenamed('regularMarketChangePercent', 'mudanca_percentual_mercado_regular') \\\n",
    "           .withColumnRenamed('regularMarketVolume', 'volume_mercado_regular') \\\n",
    "           .withColumnRenamed('marketCap', 'capitalizacao_mercado') \\\n",
    "           .withColumnRenamed('fullExchangeName', 'nome_exchange_completa') \\\n",
    "           .withColumnRenamed('quoteSourceName', 'nome_fonte_cotacao')\n",
    "    \n",
    "    # Adicionar coluna com data e hora atual\n",
    "    df = df.withColumn('dt_ptcao', date_format(current_timestamp(), 'yyyy-MM-dd'))\n",
    "    df = df.withColumn('dthr_igtao', current_timestamp())\n",
    "    \n",
    "    # Garantir que 'ticker' não tenha valores nulos\n",
    "    df = df.withColumn('ticker', col('ticker').cast('string'))\n",
    "    df = df.dropna(subset=['ticker'])\n",
    "\n",
    "    # Ordenar por capitalizacaoMercado\n",
    "    df = df.orderBy(col('capitalizacao_mercado').desc())\n",
    "    \n",
    "    return df"
   ]
  },
  {
   "cell_type": "code",
   "execution_count": 5,
   "id": "df354e01",
   "metadata": {
    "execution": {
     "iopub.execute_input": "2024-10-20T04:11:00.928592Z",
     "iopub.status.busy": "2024-10-20T04:11:00.928295Z",
     "iopub.status.idle": "2024-10-20T04:11:00.931732Z",
     "shell.execute_reply": "2024-10-20T04:11:00.931133Z"
    },
    "jupyter": {
     "source_hidden": true
    },
    "papermill": {
     "duration": 0.010608,
     "end_time": "2024-10-20T04:11:00.932992",
     "exception": false,
     "start_time": "2024-10-20T04:11:00.922384",
     "status": "completed"
    },
    "tags": []
   },
   "outputs": [],
   "source": [
    "def obter_dados_historicos(symbols, start_date, end_date):\n",
    "    dados = {}\n",
    "    for symbol in symbols:\n",
    "        ticker = yf.Ticker(symbol)\n",
    "        historico = ticker.history(start=start_date, end=end_date, interval='1mo')\n",
    "        dados[symbol] = historico\n",
    "    \n",
    "    return dados"
   ]
  },
  {
   "cell_type": "code",
   "execution_count": 6,
   "id": "cce9ee41",
   "metadata": {
    "execution": {
     "iopub.execute_input": "2024-10-20T04:11:00.945786Z",
     "iopub.status.busy": "2024-10-20T04:11:00.945496Z",
     "iopub.status.idle": "2024-10-20T04:11:00.950029Z",
     "shell.execute_reply": "2024-10-20T04:11:00.949369Z"
    },
    "jupyter": {
     "source_hidden": true
    },
    "papermill": {
     "duration": 0.012762,
     "end_time": "2024-10-20T04:11:00.951361",
     "exception": false,
     "start_time": "2024-10-20T04:11:00.938599",
     "status": "completed"
    },
    "tags": []
   },
   "outputs": [],
   "source": [
    "\n",
    "from concurrent.futures import ThreadPoolExecutor, as_completed\n",
    "\n",
    "def obter_dados_historicos_ticker(symbol, start_date, end_date):\n",
    "    ticker = yf.Ticker(symbol)\n",
    "    historico = ticker.history(start=start_date, end=end_date, interval='1mo')\n",
    "    return (symbol, historico)\n",
    "\n",
    "def obter_dados_historicos(symbols, start_date, end_date):\n",
    "    dados = {}\n",
    "    \n",
    "    # Usar ThreadPoolExecutor para executar as solicitações em paralelo\n",
    "    with ThreadPoolExecutor(max_workers=10) as executor:\n",
    "        # Submit tarefas para o executor\n",
    "        futuros = [executor.submit(obter_dados_historicos_ticker, symbol, start_date, end_date) for symbol in symbols]\n",
    "        \n",
    "        # Coletar os resultados conforme as tarefas são concluídas\n",
    "        for futuro in as_completed(futuros):\n",
    "            symbol, historico = futuro.result()\n",
    "            dados[symbol] = historico\n",
    "    \n",
    "    return dados"
   ]
  },
  {
   "cell_type": "code",
   "execution_count": 7,
   "id": "d9e0d065",
   "metadata": {
    "execution": {
     "iopub.execute_input": "2024-10-20T04:11:00.964688Z",
     "iopub.status.busy": "2024-10-20T04:11:00.964184Z",
     "iopub.status.idle": "2024-10-20T04:11:00.970697Z",
     "shell.execute_reply": "2024-10-20T04:11:00.970011Z"
    },
    "jupyter": {
     "source_hidden": true
    },
    "papermill": {
     "duration": 0.014308,
     "end_time": "2024-10-20T04:11:00.971762",
     "exception": false,
     "start_time": "2024-10-20T04:11:00.957454",
     "status": "completed"
    },
    "tags": []
   },
   "outputs": [],
   "source": [
    "def retorno_mensal(dados):\n",
    "    # Inicializar uma lista vazia para armazenar dados estruturados\n",
    "    dados_estruturados = []\n",
    "    \n",
    "    # Iterar sobre os dados históricos de cada símbolo\n",
    "    for symbol, df in dados.items():\n",
    "        # Converter DataFrame do Pandas para PySpark\n",
    "        df['symbol'] = symbol\n",
    "\n",
    "        df_spark = spark.createDataFrame(df.reset_index())\n",
    "        \n",
    "        \n",
    "        # Renomear colunas para português\n",
    "        df_spark = df_spark.withColumnRenamed('symbol', 'ticker') \\\n",
    "                        .withColumnRenamed('Date', 'data') \\\n",
    "                        .withColumnRenamed('Open', 'abertura') \\\n",
    "                        .withColumnRenamed('High', 'alta') \\\n",
    "                        .withColumnRenamed('Low', 'baixa') \\\n",
    "                        .withColumnRenamed('Close', 'fechamento') \\\n",
    "                        .withColumnRenamed('Volume', 'volume') \\\n",
    "                        .withColumnRenamed('Dividends', 'dividendos') \\\n",
    "                        .withColumnRenamed('Stock Splits', 'desdobramentos')\n",
    "\n",
    "        janela = Window.partitionBy('ticker').orderBy('Data')\n",
    "\n",
    "\n",
    "        # Calcular preço de fechamento do mês anterior (deslocar uma linha para cima)\n",
    "        df_spark = df_spark.withColumn('fechamento_mes_anterior', lag('fechamento').over(janela))\n",
    "\n",
    "        # Calcular Retorno em valor (diferença absoluta)\n",
    "        df_spark = df_spark.withColumn('valor_retorno', col('fechamento') - col('fechamento_mes_anterior'))\n",
    "\n",
    "        # Calcular Retorno em porcentagem\n",
    "        df_spark = df_spark.withColumn('porcentagem_retorno', (col('valor_retorno') / col('fechamento_mes_anterior')) * 100)\n",
    "\n",
    "        # Adicionar coluna com data atual no formato desejado\n",
    "        df_spark = df_spark.withColumn('dt_ptcao', date_format(current_timestamp(), 'yyyy-MM-dd'))\n",
    "        df_spark = df_spark.withColumn('dthr_igtao', current_timestamp())\n",
    "\n",
    "        # Reordenar colunas\n",
    "        df_spark = df_spark.select(\n",
    "            'ticker',               # 'symbol' traduzido para 'ticker'\n",
    "            'data',                 # 'date' traduzido para 'Data'\n",
    "            'abertura',             # 'open' traduzido para 'Abertura'\n",
    "            'alta',                 # 'high' traduzido para 'Alta'\n",
    "            'baixa',                # 'low' traduzido para 'Baixa'\n",
    "            'fechamento',           # 'close' traduzido para 'Fechamento'\n",
    "            'volume',               # 'volume' mantido como 'Volume'\n",
    "            'dividendos',           # 'dividends' traduzido para 'Dividendos'\n",
    "            'desdobramentos',       # 'splits' traduzido para 'Desdobramentos'\n",
    "            'fechamento_mes_anterior', # 'Close_Last_Month' traduzido para 'Fechamento_Mes_Anterior'\n",
    "            'valor_retorno',        # 'Return_Value' traduzido para 'Valor_Retorno'\n",
    "            'porcentagem_retorno',  # 'Return_Percentage' traduzido para 'Porcentagem_Retorno'\n",
    "            'dt_ptcao',             # 'dt_ptcao' mantido como está\n",
    "            'dthr_igtao'            # 'DTHR_IGTAO' mantido como está\n",
    "        )\n",
    "        \n",
    "        # Adicionar o DataFrame à lista de dados estruturados\n",
    "        dados_estruturados.append(df_spark)\n",
    "\n",
    "    # Unir todos os DataFrames em um único DataFrame\n",
    "    df_final = dados_estruturados[0]\n",
    "    for df in dados_estruturados[1:]:\n",
    "        df_final = df_final.union(df)\n",
    "    \n",
    "    return df_final"
   ]
  },
  {
   "cell_type": "markdown",
   "id": "4963984e",
   "metadata": {
    "papermill": {
     "duration": 0.005265,
     "end_time": "2024-10-20T04:11:00.982532",
     "exception": false,
     "start_time": "2024-10-20T04:11:00.977267",
     "status": "completed"
    },
    "tags": []
   },
   "source": [
    "# Tabela fato -  maiores empresas segundo a api do yahoo finance"
   ]
  },
  {
   "cell_type": "code",
   "execution_count": 8,
   "id": "a0d4cf08",
   "metadata": {
    "execution": {
     "iopub.execute_input": "2024-10-20T04:11:00.994476Z",
     "iopub.status.busy": "2024-10-20T04:11:00.994109Z",
     "iopub.status.idle": "2024-10-20T04:11:07.363727Z",
     "shell.execute_reply": "2024-10-20T04:11:07.363120Z"
    },
    "jupyter": {
     "source_hidden": true
    },
    "papermill": {
     "duration": 6.376897,
     "end_time": "2024-10-20T04:11:07.364843",
     "exception": false,
     "start_time": "2024-10-20T04:11:00.987946",
     "status": "completed"
    },
    "tags": []
   },
   "outputs": [
    {
     "name": "stderr",
     "output_type": "stream",
     "text": [
      "24/10/20 04:11:05 WARN SparkStringUtils: Truncated the string representation of a plan since it was too large. This behavior can be adjusted by setting 'spark.sql.debug.maxToStringFields'.\n"
     ]
    },
    {
     "name": "stderr",
     "output_type": "stream",
     "text": [
      "\r",
      "[Stage 0:>                                                        (0 + 24) / 24]\r"
     ]
    },
    {
     "name": "stderr",
     "output_type": "stream",
     "text": [
      "\r",
      "                                                                                \r"
     ]
    },
    {
     "name": "stdout",
     "output_type": "stream",
     "text": [
      "+------+--------------------+--------------------+---------------------+-----------------------+----------------------------------+----------------------+---------------------+----------------------+--------------------+----------+--------------------+\n",
      "|ticker|          nome_curto|       nome_exibicao|preco_mercado_regular|mudanca_mercado_regular|mudanca_percentual_mercado_regular|volume_mercado_regular|capitalizacao_mercado|nome_exchange_completa|  nome_fonte_cotacao|  dt_ptcao|          dthr_igtao|\n",
      "+------+--------------------+--------------------+---------------------+-----------------------+----------------------------------+----------------------+---------------------+----------------------+--------------------+----------+--------------------+\n",
      "|  AAPL|          Apple Inc.|               Apple|                235.0|               2.850006|                         1.2276572|              46355816|        3572963475456|              NasdaqGS|Nasdaq Real Time ...|2024-10-20|2024-10-20 01:11:...|\n",
      "|  NVDA|  NVIDIA Corporation|              NVIDIA|                138.0|              1.0700073|                        0.78142655|             169234338|        3385139920896|              NasdaqGS|Nasdaq Real Time ...|2024-10-20|2024-10-20 01:11:...|\n",
      "|  MSFT|Microsoft Corpora...|           Microsoft|               418.16|              1.4400024|                        0.34555635|              15820564|        3108199989248|              NasdaqGS|Nasdaq Real Time ...|2024-10-20|2024-10-20 01:11:...|\n",
      "|  GOOG|       Alphabet Inc.|            Alphabet|               165.05|             0.54000854|                        0.32825273|              12718667|        2020806230016|              NasdaqGS|Nasdaq Real Time ...|2024-10-20|2024-10-20 01:11:...|\n",
      "| GOOGL|       Alphabet Inc.|                NULL|               163.42|              0.4900055|                        0.30074602|              19738040|        2020802691072|              NasdaqGS|Nasdaq Real Time ...|2024-10-20|2024-10-20 01:11:...|\n",
      "|  AMZN|    Amazon.com, Inc.|          Amazon.com|               188.99|              1.4600067|                         0.7785457|              37345638|        1983563431936|              NasdaqGS|Nasdaq Real Time ...|2024-10-20|2024-10-20 01:11:...|\n",
      "|  META|Meta Platforms, Inc.|      Meta Platforms|               576.47|            -0.46002197|                       -0.07973618|               7664323|        1458365267968|              NasdaqGS|Nasdaq Real Time ...|2024-10-20|2024-10-20 01:11:...|\n",
      "|   TSM|Taiwan Semiconduc...|Taiwan Semiconduc...|               200.78|                  -5.06|                          -2.45822|              20971967|        1041261068288|                  NYSE|Nasdaq Real Time ...|2024-10-20|2024-10-20 01:11:...|\n",
      "| BRK-B|Berkshire Hathawa...|                NULL|                464.8|               -1.05002|                         -0.225398|               5621685|        1002383015936|                  NYSE|       Delayed Quote|2024-10-20|2024-10-20 01:11:...|\n",
      "|  AVGO|       Broadcom Inc.|            Broadcom|               179.89|             -1.6399994|                        -0.9034316|              17685598|         840190656512|              NasdaqGS|Nasdaq Real Time ...|2024-10-20|2024-10-20 01:11:...|\n",
      "|  TSLA|         Tesla, Inc.|               Tesla|                220.7|            -0.19000244|                       -0.08601677|              49126022|         705056997376|              NasdaqGS|Nasdaq Real Time ...|2024-10-20|2024-10-20 01:11:...|\n",
      "|   WMT|        Walmart Inc.|             Walmart|                81.31|               0.419998|                          0.519221|               9598132|         653590069248|                  NYSE|Nasdaq Real Time ...|2024-10-20|2024-10-20 01:11:...|\n",
      "|   JPM|JP Morgan Chase &...|    JPMorgan Chase &|               225.37|               0.949997|                          0.423312|               5364080|         634484162560|                  NYSE|Nasdaq Real Time ...|2024-10-20|2024-10-20 01:11:...|\n",
      "|     V|           Visa Inc.|                Visa|               290.62|                0.22998|                         0.0791971|               5347302|         565511651328|                  NYSE|Nasdaq Real Time ...|2024-10-20|2024-10-20 01:11:...|\n",
      "|   XOM|Exxon Mobil Corpo...|         Exxon Mobil|               120.01|              -0.339996|                         -0.282506|              12827832|         533184020480|                  NYSE|Nasdaq Real Time ...|2024-10-20|2024-10-20 01:11:...|\n",
      "|    PG|Procter & Gamble ...|                NULL|               171.28|             0.00650024|                        0.00379524|               6659210|         403371261952|                  NYSE|Nasdaq Real Time ...|2024-10-20|2024-10-20 01:11:...|\n",
      "|  NFLX|       Netflix, Inc.|             Netflix|               763.89|               76.23999|                         11.087034|              15827594|         327834861568|              NasdaqGS|Nasdaq Real Time ...|2024-10-20|2024-10-20 01:11:...|\n",
      "|   BAC|Bank of America C...|     Bank of America|                42.32|              -0.279999|                         -0.657274|              25717694|         325388730368|                  NYSE|Nasdaq Real Time ...|2024-10-20|2024-10-20 01:11:...|\n",
      "|    KO|Coca-Cola Company...|                NULL|                70.44|               0.540001|                          0.772533|               8988948|         303587262464|                  NYSE|       Delayed Quote|2024-10-20|2024-10-20 01:11:...|\n",
      "|   MRK|Merck & Company, ...|             Merck &|                108.7|                  -1.05|                         -0.956723|               9519439|         275533856768|                  NYSE|Nasdaq Real Time ...|2024-10-20|2024-10-20 01:11:...|\n",
      "+------+--------------------+--------------------+---------------------+-----------------------+----------------------------------+----------------------+---------------------+----------------------+--------------------+----------+--------------------+\n",
      "only showing top 20 rows\n",
      "\n",
      "root\n",
      " |-- ticker: string (nullable = true)\n",
      " |-- nome_curto: string (nullable = true)\n",
      " |-- nome_exibicao: string (nullable = true)\n",
      " |-- preco_mercado_regular: double (nullable = true)\n",
      " |-- mudanca_mercado_regular: double (nullable = true)\n",
      " |-- mudanca_percentual_mercado_regular: double (nullable = true)\n",
      " |-- volume_mercado_regular: long (nullable = true)\n",
      " |-- capitalizacao_mercado: long (nullable = true)\n",
      " |-- nome_exchange_completa: string (nullable = true)\n",
      " |-- nome_fonte_cotacao: string (nullable = true)\n",
      " |-- dt_ptcao: string (nullable = false)\n",
      " |-- dthr_igtao: timestamp (nullable = false)\n",
      "\n"
     ]
    }
   ],
   "source": [
    "df_ativas = obter_empresas_ativas()\n",
    "\n",
    "df_ativas.show()\n",
    "df_ativas.printSchema()"
   ]
  },
  {
   "cell_type": "markdown",
   "id": "a37dbcb9",
   "metadata": {
    "papermill": {
     "duration": 0.005837,
     "end_time": "2024-10-20T04:11:07.398968",
     "exception": false,
     "start_time": "2024-10-20T04:11:07.393131",
     "status": "completed"
    },
    "tags": []
   },
   "source": [
    "# Dimensão - Retornos mensais 10 anos"
   ]
  },
  {
   "cell_type": "code",
   "execution_count": 9,
   "id": "2fc3f9c0",
   "metadata": {
    "execution": {
     "iopub.execute_input": "2024-10-20T04:11:07.426398Z",
     "iopub.status.busy": "2024-10-20T04:11:07.425796Z",
     "iopub.status.idle": "2024-10-20T04:11:07.429610Z",
     "shell.execute_reply": "2024-10-20T04:11:07.429008Z"
    },
    "jupyter": {
     "source_hidden": true
    },
    "papermill": {
     "duration": 0.025778,
     "end_time": "2024-10-20T04:11:07.430935",
     "exception": false,
     "start_time": "2024-10-20T04:11:07.405157",
     "status": "completed"
    },
    "tags": []
   },
   "outputs": [
    {
     "name": "stdout",
     "output_type": "stream",
     "text": [
      "start_date: 2014-10-23\n",
      "end_date: 2024-10-20\n"
     ]
    }
   ],
   "source": [
    "# 10 anos passados\n",
    "start_date = datetime.today() - timedelta(days=10*365)\n",
    "\n",
    "# hoje\n",
    "end_date = datetime.today()\n",
    "\n",
    "# 'YYYY-MM-DD'\n",
    "start_date_str = start_date.strftime('%Y-%m-%d')\n",
    "end_date_str = end_date.strftime('%Y-%m-%d')\n",
    "\n",
    "print(f\"start_date: {start_date_str}\")\n",
    "print(f\"end_date: {end_date_str}\")\n"
   ]
  },
  {
   "cell_type": "code",
   "execution_count": 10,
   "id": "56c9e2e3",
   "metadata": {
    "execution": {
     "iopub.execute_input": "2024-10-20T04:11:07.445805Z",
     "iopub.status.busy": "2024-10-20T04:11:07.445483Z",
     "iopub.status.idle": "2024-10-20T04:11:08.484690Z",
     "shell.execute_reply": "2024-10-20T04:11:08.484064Z"
    },
    "jupyter": {
     "source_hidden": true
    },
    "papermill": {
     "duration": 1.048619,
     "end_time": "2024-10-20T04:11:08.485795",
     "exception": false,
     "start_time": "2024-10-20T04:11:07.437176",
     "status": "completed"
    },
    "tags": []
   },
   "outputs": [
    {
     "name": "stdout",
     "output_type": "stream",
     "text": [
      "('AAPL', 'NVDA', 'MSFT', 'GOOG', 'GOOGL', 'AMZN', 'META', 'TSM', 'BRK-B', 'AVGO', 'TSLA', 'WMT', 'JPM', 'V', 'XOM', 'PG', 'NFLX', 'BAC', 'KO', 'MRK', 'AMD', 'BABA', 'CSCO', 'WFC', 'MS', 'AXP', 'VZ', 'DIS', 'NEE', 'PDD', 'UBER', 'PFE', 'CMCSA', 'T', 'SCHW', 'BSX', 'NKE', 'MU', 'C', 'MDT', 'SBUX', 'BMY', 'INTC', 'PLTR', 'BA', 'LRCX', 'INFY', 'DELL', 'PBR', 'MO', 'PYPL', 'CMG', 'APH', 'USB', 'CVS', 'FCX', 'NU', 'CSX', 'NEM', 'JD', 'SLB', 'TFC', 'ITUB', 'ET', 'KMI', 'GM', 'COIN', 'PCG', 'KDP', 'OXY', 'BCS', 'VALE', 'VST', 'F', 'MSTR', 'KVUE', 'STLA', 'ED', 'GOLD', 'DAL', 'ABEV', 'OWL', 'FITB', 'CCL', 'ERIC', 'SMCI', 'LI', 'HPE', 'DVN', 'BBD', 'NOK', 'HST', 'CCJ', 'BEKE', 'HAL', 'UAL', 'HOOD', 'SW', 'HBAN', 'RF', 'EQT', 'MRNA', 'UMC', 'WBD', 'DKNG', 'LUV', 'SNAP', 'KEY', 'TOST', 'AMCR', 'GRAB', 'CNH', 'AFRM', 'RDDT', 'KGC', 'FUTU', 'NIO', 'PR', 'LW', 'ACI', 'SOFI', 'AUR', 'ALLY', 'NCLH', 'XPEV', 'RIVN', 'SIRI', 'WBA', 'YMM', 'FHN', 'ASTS', 'PAAS', 'U', 'BILI', 'AAL', 'AGNC', 'CELH', 'HMY', 'LCID', 'LUMN', 'COTY', 'CLF', 'ZETA', 'GGB', 'ALTM', 'DJT', 'LYFT', 'MARA', 'PSLV', 'RKLB', 'ACHC', 'HIMS', 'UPST', 'NXE', 'HL', 'BTG', 'JOBY', 'UAA', 'RIG', 'UEC', 'IAG', 'CORZ', 'CLSK', 'SBSW', 'PTEN', 'IOVA', 'MPW', 'RIOT', 'LBRT', 'IONQ', 'CDE', 'JBLU', 'ZIM', 'QS', 'EQX', 'RLX', 'GT', 'GERN', 'NGD', 'BTE', 'IQ', 'KSS', 'OKLO', 'AG', 'PTON', 'DNN', 'WOLF', 'WULF')\n"
     ]
    }
   ],
   "source": [
    "# Selecionar a coluna 'symbol' e coletar os valores como uma lista\n",
    "#100 maiores para dimensão das 100 maiores e retornos\n",
    "symbol_list = df_ativas.select('ticker').rdd.flatMap(lambda x: x).collect()\n",
    "\n",
    "# Converter a lista para uma tupla\n",
    "df_tickers = tuple(symbol_list)\n",
    "\n",
    "print(df_tickers)\n"
   ]
  },
  {
   "cell_type": "code",
   "execution_count": 11,
   "id": "78bc6d03",
   "metadata": {
    "execution": {
     "iopub.execute_input": "2024-10-20T04:11:08.520578Z",
     "iopub.status.busy": "2024-10-20T04:11:08.519997Z",
     "iopub.status.idle": "2024-10-20T04:11:49.258185Z",
     "shell.execute_reply": "2024-10-20T04:11:49.257136Z"
    },
    "jupyter": {
     "source_hidden": true
    },
    "papermill": {
     "duration": 40.747392,
     "end_time": "2024-10-20T04:11:49.259402",
     "exception": false,
     "start_time": "2024-10-20T04:11:08.512010",
     "status": "completed"
    },
    "tags": []
   },
   "outputs": [
    {
     "name": "stderr",
     "output_type": "stream",
     "text": [
      "\r",
      "[Stage 10:=====================================================>  (23 + 1) / 24]\r",
      "\r",
      "[Stage 12:=>(19 + 5) / 24][Stage 13:> (2 + 22) / 24][Stage 14:>  (0 + 0) / 24]\r"
     ]
    },
    {
     "name": "stderr",
     "output_type": "stream",
     "text": [
      "\r",
      "[Stage 15:=>(21 + 3) / 24][Stage 16:> (0 + 21) / 24][Stage 17:>  (0 + 0) / 24]\r",
      "\r",
      "[Stage 18:> (9 + 15) / 24][Stage 19:> (0 + 13) / 24][Stage 20:>  (0 + 0) / 24]\r"
     ]
    },
    {
     "name": "stderr",
     "output_type": "stream",
     "text": [
      "\r",
      "[Stage 20:=>(16 + 8) / 24][Stage 21:> (0 + 17) / 24][Stage 22:>  (0 + 0) / 24]\r"
     ]
    },
    {
     "name": "stderr",
     "output_type": "stream",
     "text": [
      "\r",
      "[Stage 22:=>(21 + 3) / 24][Stage 23:> (0 + 22) / 24][Stage 24:>  (0 + 0) / 24]\r"
     ]
    },
    {
     "name": "stderr",
     "output_type": "stream",
     "text": [
      "\r",
      "[Stage 25:> (8 + 16) / 24][Stage 26:>  (0 + 8) / 24][Stage 27:>  (0 + 0) / 24]\r",
      "\r",
      "[Stage 27:=>(19 + 5) / 24][Stage 28:> (0 + 19) / 24][Stage 29:>  (0 + 0) / 24]\r"
     ]
    },
    {
     "name": "stderr",
     "output_type": "stream",
     "text": [
      "\r",
      "[Stage 30:>(12 + 12) / 24][Stage 31:> (0 + 13) / 24][Stage 32:>  (0 + 0) / 24]\r"
     ]
    },
    {
     "name": "stderr",
     "output_type": "stream",
     "text": [
      "\r",
      "[Stage 33:> (2 + 22) / 24][Stage 34:>  (0 + 2) / 24][Stage 35:>  (0 + 0) / 24]\r"
     ]
    },
    {
     "name": "stderr",
     "output_type": "stream",
     "text": [
      "\r",
      "[Stage 35:> (4 + 20) / 24][Stage 36:>  (0 + 4) / 24][Stage 37:>  (0 + 0) / 24]\r",
      "\r",
      "[Stage 38:=>(15 + 9) / 24][Stage 39:> (0 + 15) / 24][Stage 40:>  (0 + 0) / 24]\r"
     ]
    },
    {
     "name": "stderr",
     "output_type": "stream",
     "text": [
      "\r",
      "[Stage 41:=>(22 + 2) / 24][Stage 42:> (0 + 22) / 24][Stage 43:>  (0 + 0) / 24]\r"
     ]
    },
    {
     "name": "stderr",
     "output_type": "stream",
     "text": [
      "\r",
      "[Stage 44:=>(23 + 1) / 24][Stage 45:> (7 + 17) / 24][Stage 46:>  (0 + 7) / 24]\r",
      "\r",
      "[Stage 47:>(12 + 12) / 24][Stage 48:> (0 + 13) / 24][Stage 49:>  (0 + 0) / 24]\r"
     ]
    },
    {
     "name": "stderr",
     "output_type": "stream",
     "text": [
      "\r",
      "[Stage 49:=>(23 + 1) / 24][Stage 50:>(11 + 13) / 24][Stage 51:> (0 + 11) / 24]\r",
      "\r",
      "[Stage 53:> (5 + 19) / 24][Stage 54:>  (0 + 8) / 24][Stage 55:>  (0 + 0) / 24]\r"
     ]
    },
    {
     "name": "stderr",
     "output_type": "stream",
     "text": [
      "\r",
      "[Stage 55:>(13 + 11) / 24][Stage 56:> (0 + 13) / 24][Stage 57:>  (0 + 0) / 24]\r"
     ]
    },
    {
     "name": "stderr",
     "output_type": "stream",
     "text": [
      "\r",
      "[Stage 57:> (1 + 23) / 24][Stage 58:>  (0 + 1) / 24][Stage 59:>  (0 + 0) / 24]\r",
      "\r",
      "[Stage 60:> (7 + 17) / 24][Stage 61:>  (0 + 7) / 24][Stage 62:>  (0 + 0) / 24]\r"
     ]
    },
    {
     "name": "stderr",
     "output_type": "stream",
     "text": [
      "\r",
      "[Stage 62:=>(19 + 5) / 24][Stage 63:> (0 + 19) / 24][Stage 64:>  (0 + 0) / 24]\r",
      "\r",
      "[Stage 65:=>(22 + 2) / 24][Stage 66:> (1 + 23) / 24][Stage 67:>  (0 + 0) / 24]\r"
     ]
    },
    {
     "name": "stderr",
     "output_type": "stream",
     "text": [
      "\r",
      "[Stage 69:> (3 + 21) / 24][Stage 70:>  (0 + 3) / 24][Stage 71:>  (0 + 0) / 24]\r",
      "\r",
      "[Stage 72:> (4 + 20) / 24][Stage 73:>  (0 + 4) / 24][Stage 74:>  (0 + 0) / 24]\r"
     ]
    },
    {
     "name": "stderr",
     "output_type": "stream",
     "text": [
      "\r",
      "[Stage 74:=>(18 + 6) / 24][Stage 75:> (1 + 22) / 24][Stage 76:>  (0 + 0) / 24]\r"
     ]
    },
    {
     "name": "stderr",
     "output_type": "stream",
     "text": [
      "\r",
      "[Stage 78:> (6 + 18) / 24][Stage 79:>  (0 + 6) / 24][Stage 80:>  (0 + 0) / 24]\r"
     ]
    },
    {
     "name": "stderr",
     "output_type": "stream",
     "text": [
      "\r",
      "[Stage 81:=>(22 + 2) / 24][Stage 82:> (0 + 22) / 24][Stage 83:>  (0 + 0) / 24]\r"
     ]
    },
    {
     "name": "stderr",
     "output_type": "stream",
     "text": [
      "\r",
      "[Stage 85:>(10 + 14) / 24][Stage 86:> (0 + 10) / 24][Stage 87:>  (0 + 0) / 24]\r",
      "\r",
      "[Stage 88:>(13 + 11) / 24][Stage 89:> (0 + 13) / 24][Stage 90:>  (0 + 0) / 24]\r"
     ]
    },
    {
     "name": "stderr",
     "output_type": "stream",
     "text": [
      "\r",
      "[Stage 92:> (1 + 23) / 24][Stage 93:>  (0 + 1) / 24][Stage 94:>  (0 + 0) / 24]\r",
      "\r",
      "[Stage 95:>(12 + 12) / 24][Stage 96:> (0 + 12) / 24][Stage 97:>  (0 + 0) / 24]\r"
     ]
    },
    {
     "name": "stderr",
     "output_type": "stream",
     "text": [
      "\r",
      "[Stage 98:=>(16 + 8) / 24][Stage 99:> (1 + 16) / 24][Stage 100:> (0 + 0) / 24]\r",
      "\r",
      "[Stage 102:(12 + 12) / 24][Stage 103:>(0 + 12) / 24][Stage 104:> (0 + 0) / 24]\r"
     ]
    },
    {
     "name": "stderr",
     "output_type": "stream",
     "text": [
      "\r",
      "[Stage 106:>(2 + 22) / 24][Stage 107:> (0 + 2) / 24][Stage 108:> (0 + 0) / 24]\r",
      "\r",
      "[Stage 109:>(15 + 9) / 24][Stage 110:>(0 + 15) / 24][Stage 111:> (0 + 0) / 24]\r"
     ]
    },
    {
     "name": "stderr",
     "output_type": "stream",
     "text": [
      "\r",
      "[Stage 112:(14 + 10) / 24][Stage 113:>(0 + 14) / 24][Stage 114:> (0 + 0) / 24]\r",
      "\r",
      "[Stage 114:>(23 + 1) / 24][Stage 115:>(2 + 22) / 24][Stage 116:> (0 + 3) / 24]\r"
     ]
    },
    {
     "name": "stderr",
     "output_type": "stream",
     "text": [
      "\r",
      "[Stage 118:>(2 + 22) / 24][Stage 119:> (0 + 2) / 24][Stage 120:> (0 + 0) / 24]\r",
      "\r",
      "[Stage 121:>(22 + 2) / 24][Stage 122:>(0 + 22) / 24][Stage 123:> (0 + 0) / 24]\r"
     ]
    },
    {
     "name": "stderr",
     "output_type": "stream",
     "text": [
      "\r",
      "[Stage 125:>(16 + 8) / 24][Stage 126:>(0 + 16) / 24][Stage 127:> (0 + 0) / 24]\r",
      "\r",
      "[Stage 129:>(4 + 20) / 24][Stage 130:> (0 + 4) / 24][Stage 131:> (0 + 0) / 24]\r"
     ]
    },
    {
     "name": "stderr",
     "output_type": "stream",
     "text": [
      "\r",
      "[Stage 132:>(18 + 6) / 24][Stage 133:>(0 + 18) / 24][Stage 134:> (0 + 0) / 24]\r",
      "\r",
      "[Stage 135:>(17 + 7) / 24][Stage 136:>(1 + 17) / 24][Stage 137:> (0 + 0) / 24]\r"
     ]
    },
    {
     "name": "stderr",
     "output_type": "stream",
     "text": [
      "\r",
      "[Stage 139:>(8 + 16) / 24][Stage 140:> (0 + 8) / 24][Stage 141:> (0 + 0) / 24]\r",
      "\r",
      "[Stage 142:>(21 + 3) / 24][Stage 143:>(0 + 21) / 24][Stage 144:> (0 + 0) / 24]\r"
     ]
    },
    {
     "name": "stderr",
     "output_type": "stream",
     "text": [
      "\r",
      "[Stage 145:>(22 + 2) / 24][Stage 146:>(8 + 16) / 24][Stage 147:> (0 + 6) / 24]\r",
      "\r",
      "[Stage 149:>(18 + 6) / 24][Stage 150:>(0 + 20) / 24][Stage 151:> (0 + 0) / 24]\r"
     ]
    },
    {
     "name": "stderr",
     "output_type": "stream",
     "text": [
      "\r",
      "[Stage 153:>(8 + 16) / 24][Stage 154:> (0 + 8) / 24][Stage 155:> (0 + 0) / 24]\r",
      "\r",
      "[Stage 157:>(0 + 24) / 24][Stage 158:> (0 + 0) / 24][Stage 159:> (0 + 0) / 24]\r"
     ]
    },
    {
     "name": "stderr",
     "output_type": "stream",
     "text": [
      "\r",
      "[Stage 159:>(18 + 6) / 24][Stage 160:>(2 + 19) / 24][Stage 161:> (0 + 0) / 24]\r",
      "\r",
      "[Stage 163:(11 + 13) / 24][Stage 164:>(0 + 13) / 24][Stage 165:> (0 + 0) / 24]\r"
     ]
    },
    {
     "name": "stderr",
     "output_type": "stream",
     "text": [
      "\r",
      "[Stage 166:>(19 + 5) / 24][Stage 167:>(0 + 19) / 24][Stage 168:> (0 + 0) / 24]\r",
      "\r",
      "[Stage 170:>(16 + 8) / 24][Stage 171:>(0 + 16) / 24][Stage 172:> (0 + 0) / 24]\r"
     ]
    },
    {
     "name": "stderr",
     "output_type": "stream",
     "text": [
      "\r",
      "[Stage 174:>(2 + 22) / 24][Stage 175:> (0 + 2) / 24][Stage 176:> (0 + 0) / 24]\r",
      "\r",
      "[Stage 177:>(8 + 16) / 24][Stage 178:> (0 + 8) / 24][Stage 179:> (0 + 0) / 24]\r"
     ]
    },
    {
     "name": "stderr",
     "output_type": "stream",
     "text": [
      "\r",
      "[Stage 181:>(1 + 23) / 24][Stage 182:> (0 + 3) / 24][Stage 183:> (0 + 0) / 24]\r",
      "\r",
      "[Stage 184:(13 + 11) / 24][Stage 185:>(0 + 13) / 24][Stage 186:> (0 + 0) / 24]\r"
     ]
    },
    {
     "name": "stderr",
     "output_type": "stream",
     "text": [
      "\r",
      "[Stage 187:>(23 + 1) / 24][Stage 188:>(2 + 22) / 24][Stage 189:> (0 + 1) / 24]\r",
      "\r",
      "[Stage 191:==========>    (17 + 7) / 24][Stage 192:>              (0 + 19) / 24]\r"
     ]
    },
    {
     "name": "stdout",
     "output_type": "stream",
     "text": [
      "+------+-------------------+------------------+------------------+------------------+------------------+----------+----------+--------------+-----------------------+--------------------+-------------------+----------+--------------------+\n",
      "|ticker|               data|          abertura|              alta|             baixa|        fechamento|    volume|dividendos|desdobramentos|fechamento_mes_anterior|       valor_retorno|porcentagem_retorno|  dt_ptcao|          dthr_igtao|\n",
      "+------+-------------------+------------------+------------------+------------------+------------------+----------+----------+--------------+-----------------------+--------------------+-------------------+----------+--------------------+\n",
      "| GOOGL|2014-11-01 02:00:00|  28.1069018069359| 28.28745447696814|26.892906948479236|27.386186599731445| 595410000|       0.0|           0.0|                   NULL|                NULL|               NULL|2024-10-20|2024-10-20 01:11:...|\n",
      "| GOOGL|2014-12-01 03:00:00| 27.18717887628042|27.371723282973242|24.798096143249808| 26.46746253967285|1088686000|       0.0|           0.0|     27.386186599731445| -0.9187240600585938| -3.354698751916059|2024-10-20|2024-10-20 01:11:...|\n",
      "| GOOGL|2015-01-01 03:00:00|26.564221420559807|27.203140365873615|24.484870903397674|26.811111450195312|1056926000|       0.0|           0.0|      26.46746253967285| 0.34364891052246094| 1.2983825329207723|2024-10-20|2024-10-20 01:11:...|\n",
      "| GOOGL|2015-02-01 03:00:00|26.650009363009442|28.400675465416306|26.021566340759133|28.062013626098633| 808386000|       0.0|           0.0|     26.811111450195312|  1.2509021759033203|  4.665611040508385|2024-10-20|2024-10-20 01:11:...|\n",
      "| GOOGL|2015-03-01 02:00:00|28.279973124045018|29.087971812549934|27.448532041413163|27.666492462158203| 864144000|       0.0|           0.0|     28.062013626098633| -0.3955211639404297|-1.4094539658144185|2024-10-20|2024-10-20 01:11:...|\n",
      "| GOOGL|2015-04-01 01:00:00|27.672976685633977|29.162787353797736|26.384666723224512|27.370723724365234| 874900000|       0.0|           0.0|     27.666492462158203|-0.29576873779296875|-1.0690503619044467|2024-10-20|2024-10-20 01:11:...|\n",
      "| GOOGL|2015-05-01 01:00:00|27.457509888235055|27.843056521576827| 26.54626644952756|27.198652267456055| 648434000|       0.0|           0.0|     27.370723724365234| -0.1720714569091797|-0.6286697372053879|2024-10-20|2024-10-20 01:11:...|\n",
      "| GOOGL|2015-06-01 01:00:00| 27.36873114825307|28.210646292973586|26.875949965544248|26.935304641723633| 704328000|       0.0|           0.0|     27.198652267456055| -0.2633476257324219|-0.9682377756912781|2024-10-20|2024-10-20 01:11:...|\n",
      "| GOOGL|2015-07-01 01:00:00|27.115859879466296| 35.57840557653057|26.921341824374064|32.793800354003906|1370858000|       0.0|           0.0|     26.935304641723633|   5.858495712280273| 21.750248568584148|2024-10-20|2024-10-20 01:11:...|\n",
      "| GOOGL|2015-08-01 01:00:00| 32.80177853482562|35.113056892965254| 29.58125255242058| 32.31099319458008|1106942000|       0.0|           0.0|     32.793800354003906| -0.4828071594238281|-1.4722513225426785|2024-10-20|2024-10-20 01:11:...|\n",
      "| GOOGL|2015-09-01 01:00:00|31.612223176377853|34.015271321862606| 30.81569544948254| 31.83966064453125| 871504000|       0.0|           0.0|      32.31099319458008| -0.4713325500488281|-1.4587374247842388|2024-10-20|2024-10-20 01:11:...|\n",
      "| GOOGL|2015-10-01 01:00:00|31.818213247497198| 37.53206563282518|31.478055918839317|  36.7784309387207|1005286000|       0.0|           0.0|      31.83966064453125|   4.938770294189453| 15.511378558105744|2024-10-20|2024-10-20 01:11:...|\n",
      "| GOOGL|2015-11-01 02:00:00| 36.63578739248675|39.048312718330074| 36.48216463532049| 38.04829025268555| 751482000|       0.0|           0.0|       36.7784309387207|  1.2698593139648438| 3.4527283561407267|2024-10-20|2024-10-20 01:11:...|\n",
      "| GOOGL|2015-12-01 03:00:00| 38.25227891978788|39.835859146668746| 36.72206766853143|38.804412841796875| 872694000|       0.0|           0.0|      38.04829025268555|  0.7561225891113281| 1.9872708710162317|2024-10-20|2024-10-20 01:11:...|\n",
      "| GOOGL|2016-01-01 03:00:00|38.015867161633395|  38.3650011234772|34.304057532499904|37.973472595214844|1039984000|       0.0|           0.0|     38.804412841796875| -0.8309402465820312|-2.1413550308562117|2024-10-20|2024-10-20 01:11:...|\n",
      "| GOOGL|2016-02-01 03:00:00| 38.46774436830714|  40.4174186131889| 34.01626577060142| 35.77241897583008|1352946000|       0.0|           0.0|     37.973472595214844| -2.2010536193847656| -5.796292698451095|2024-10-20|2024-10-20 01:11:...|\n",
      "| GOOGL|2016-03-01 02:00:00|35.975917081084965|38.769502538750004| 35.11305578599976|       38.05078125| 853314000|       0.0|           0.0|      35.77241897583008|   2.278362274169922|  6.369047269935297|2024-10-20|2024-10-20 01:11:...|\n",
      "| GOOGL|2016-04-01 01:00:00| 37.76449025264215|  39.4498159938946|35.073152611892446|35.306575775146484| 933228000|       0.0|           0.0|            38.05078125| -2.7442054748535156| -7.211955667410944|2024-10-20|2024-10-20 01:11:...|\n",
      "| GOOGL|2016-05-01 01:00:00| 35.50807803363078| 37.58094446067859|35.115548705763665| 37.35001754760742| 682046000|       0.0|           0.0|     35.306575775146484|  2.0434417724609375| 5.7877087414956465|2024-10-20|2024-10-20 01:11:...|\n",
      "| GOOGL|2016-06-01 01:00:00|37.331062517371045|37.475704818197926| 33.54992456486424|  35.0896110534668| 839330000|       0.0|           0.0|      37.35001754760742|  -2.260406494140625| -6.051955641679271|2024-10-20|2024-10-20 01:11:...|\n",
      "+------+-------------------+------------------+------------------+------------------+------------------+----------+----------+--------------+-----------------------+--------------------+-------------------+----------+--------------------+\n",
      "only showing top 20 rows\n",
      "\n"
     ]
    },
    {
     "name": "stderr",
     "output_type": "stream",
     "text": [
      "24/10/20 04:11:49 WARN DAGScheduler: Broadcasting large task binary with size 3.6 MiB\n",
      "\r",
      "                                                                                \r"
     ]
    }
   ],
   "source": [
    "historical_data = obter_dados_historicos(df_tickers, start_date_str, end_date_str)\n",
    "df_retorno_mensal = retorno_mensal(historical_data)\n",
    "\n",
    "# Mostrar o DataFrame final\n",
    "df_retorno_mensal.show()"
   ]
  },
  {
   "cell_type": "markdown",
   "id": "6ab2e8d3",
   "metadata": {
    "papermill": {
     "duration": 0.009904,
     "end_time": "2024-10-20T04:11:49.277859",
     "exception": false,
     "start_time": "2024-10-20T04:11:49.267955",
     "status": "completed"
    },
    "tags": []
   },
   "source": [
    "# dimensões gerais \n",
    "\n",
    "2. **Criação dos DataFrames**:\n",
    "   - **Tabela Geral** (`df_financeira`): Contém informações gerais da empresa, como setor, indústria, número de empregados, localização e resumo das atividades.\n",
    "   - **Tabela Financeira** (`df_financeira`): Contém dados financeiros da empresa, como capitalização de mercado, receita, lucro líquido, EBITDA, dívida total, entre outros.\n",
    "   - **Tabela de Mercado** (`df_mercado`): Inclui dados relacionados ao mercado, como preço atual, preço de abertura, volume de negociação, beta, entre outros.\n",
    "   - **Tabela de Dividendos** (`df_dividendos`): Contém informações sobre dividendos, incluindo taxa de dividendos, data ex-dividendo e índice de distribuição.\n",
    "   - **Tabela de Valuation** (`df_valuation`): Inclui dados de valuation da empresa, como índices P/E (Price to Earnings), P/B (Price to Book) e PEG (Price/Earnings to Growth).\n",
    "   - **Tabela de Retorno Mensal** (`df_retorno_mensal`): Retorno mensal da ação com base em preço da ação, dividendos e percentual"
   ]
  },
  {
   "cell_type": "code",
   "execution_count": 12,
   "id": "2b8bd6a1",
   "metadata": {
    "execution": {
     "iopub.execute_input": "2024-10-20T04:11:49.297790Z",
     "iopub.status.busy": "2024-10-20T04:11:49.297313Z",
     "iopub.status.idle": "2024-10-20T04:11:49.315508Z",
     "shell.execute_reply": "2024-10-20T04:11:49.314752Z"
    },
    "jupyter": {
     "source_hidden": true
    },
    "papermill": {
     "duration": 0.030031,
     "end_time": "2024-10-20T04:11:49.316678",
     "exception": false,
     "start_time": "2024-10-20T04:11:49.286647",
     "status": "completed"
    },
    "tags": []
   },
   "outputs": [],
   "source": [
    "from pyspark.sql.functions import from_unixtime, col\n",
    "\n",
    "def criar_tabelas_spark(tickers):\n",
    "    if isinstance(tickers, str):\n",
    "        tickers = (tickers,)\n",
    "    \n",
    "    # Esquema para a tabela geral\n",
    "    schema_geral = StructType([\n",
    "        StructField('ticker', StringType(), False),\n",
    "        StructField('setor', StringType(), True),\n",
    "        StructField('industria', StringType(), True),\n",
    "        StructField('funcionarios', IntegerType(), True),\n",
    "        StructField('cidade', StringType(), True),\n",
    "        StructField('estado', StringType(), True),\n",
    "        StructField('pais', StringType(), True),\n",
    "        StructField('website', StringType(), True),\n",
    "        StructField('resumo_negocios', StringType(), True),\n",
    "        StructField('exchange', StringType(), True)\n",
    "    ])\n",
    "    \n",
    "    # Esquema para a tabela financeira\n",
    "    schema_financeira = StructType([\n",
    "        StructField('ticker', StringType(), False),\n",
    "        StructField('capitalizacao_mercado', LongType(), True),\n",
    "        StructField('valor_empresa', LongType(), True),\n",
    "        StructField('receita', LongType(), True),\n",
    "        StructField('lucros_brutos', LongType(), True),\n",
    "        StructField('lucro_liquido', LongType(), True),\n",
    "        StructField('ebitda', LongType(), True),\n",
    "        StructField('divida_total', LongType(), True),\n",
    "        StructField('caixa_total', LongType(), True),\n",
    "        StructField('dividend_yield', DoubleType(), True)\n",
    "    ])\n",
    "    \n",
    "    # Esquema para a tabela de mercado\n",
    "    schema_mercado = StructType([\n",
    "        StructField('ticker', StringType(), False),\n",
    "        StructField('preco_atual', DoubleType(), True),\n",
    "        StructField('fechamento_anterior', DoubleType(), True),\n",
    "        StructField('abertura', DoubleType(), True),\n",
    "        StructField('minimo_dia', DoubleType(), True),\n",
    "        StructField('maximo_dia', DoubleType(), True),\n",
    "        StructField('minimo_52_semanas', DoubleType(), True),\n",
    "        StructField('maximo_52_semanas', DoubleType(), True),\n",
    "        StructField('volume', LongType(), True),\n",
    "        StructField('volume_medio', LongType(), True),\n",
    "        StructField('beta', DoubleType(), True)\n",
    "    ])\n",
    "    \n",
    "    # Esquema para a tabela de dividendos\n",
    "    schema_dividendos = StructType([\n",
    "        StructField('ticker', StringType(), False),\n",
    "        StructField('taxa_dividendo', DoubleType(), True),\n",
    "        StructField('data_exdividendo', StringType(), True),  # Temporariamente como StringType\n",
    "        StructField('indice_distribuicao', DoubleType(), True)\n",
    "    ])\n",
    "    \n",
    "    # Esquema para a tabela de valuation\n",
    "    schema_valuation = StructType([\n",
    "        StructField('ticker', StringType(), False),\n",
    "        StructField('pl_futuro', DoubleType(), True),\n",
    "        StructField('pl_retroativo', DoubleType(), True),\n",
    "        StructField('preco_booking', DoubleType(), True),\n",
    "        StructField('indice_preco_lucro_cresc', DoubleType(), True)\n",
    "    ])\n",
    "    \n",
    "    # Inicializa as listas de dicionários para cada tabela\n",
    "    geral = []\n",
    "    financeira = []\n",
    "    mercado = []\n",
    "    dividendos = []\n",
    "    valuation = []\n",
    "    \n",
    "    for ticker in tickers:\n",
    "        try:\n",
    "            empresa = yf.Ticker(ticker)\n",
    "            info = empresa.info\n",
    "            \n",
    "            # Filtra e trata valores infinitos\n",
    "            def safe_get(key, default=None):\n",
    "                value = info.get(key)\n",
    "                if isinstance(value, str) and value in ('Infinity', '-Infinity'):\n",
    "                    return default\n",
    "                return value\n",
    "            \n",
    "            # Preencher dados da tabela geral\n",
    "            geral.append({\n",
    "                'ticker': ticker,\n",
    "                'setor': info.get('sector'),\n",
    "                'industria': info.get('industry'),\n",
    "                'funcionarios': info.get('fullTimeEmployees'),\n",
    "                'cidade': info.get('city'),\n",
    "                'estado': info.get('state'),\n",
    "                'pais': info.get('country'),\n",
    "                'website': info.get('website'),\n",
    "                'resumo_negocios': info.get('longBusinessSummary'),\n",
    "                'exchange': info.get('exchange')\n",
    "            })\n",
    "            \n",
    "            # Preencher dados da tabela financeira\n",
    "            financeira.append({\n",
    "                'ticker': ticker,\n",
    "                'capitalizacao_mercado': safe_get('marketCap', 0),\n",
    "                'valor_empresa': safe_get('enterpriseValue', 0),\n",
    "                'receita': safe_get('revenue', 0),\n",
    "                'lucros_brutos': safe_get('grossProfits', 0),\n",
    "                'lucro_liquido': safe_get('netIncome', 0),\n",
    "                'ebitda': safe_get('ebitda', 0),\n",
    "                'divida_total': safe_get('totalDebt', 0),\n",
    "                'caixa_total': safe_get('totalCash', 0),\n",
    "                'dividend_yield': safe_get('dividendYield', 0.0)\n",
    "            })\n",
    "            \n",
    "            # Preencher dados da tabela de mercado\n",
    "            mercado.append({\n",
    "                'ticker': ticker,\n",
    "                'preco_atual': safe_get('currentPrice', 0.0),\n",
    "                'fechamento_anterior': safe_get('previousClose', 0.0),\n",
    "                'abertura': safe_get('open', 0.0),\n",
    "                'minimo_dia': safe_get('dayLow', 0.0),\n",
    "                'maximo_dia': safe_get('dayHigh', 0.0),\n",
    "                'minimo_52_semanas': safe_get('fiftyTwoWeekLow', 0.0),\n",
    "                'maximo_52_semanas': safe_get('fiftyTwoWeekHigh', 0.0),\n",
    "                'volume': safe_get('volume', 0),\n",
    "                'volume_medio': safe_get('averageVolume', 0),\n",
    "                'beta': safe_get('beta', 0.0)\n",
    "            })\n",
    "            \n",
    "            # Preencher dados da tabela de dividendos\n",
    "            dividendos.append({\n",
    "                'ticker': ticker,\n",
    "                'taxa_dividendo': safe_get('dividendRate', 0.0),\n",
    "                'data_exdividendo': safe_get('exDividendDate'),  # Unix timestamp\n",
    "                'indice_distribuicao': safe_get('payoutRatio', 0.0)\n",
    "            })\n",
    "            \n",
    "            # Preencher dados da tabela de valuation\n",
    "            valuation.append({\n",
    "                'ticker': ticker,\n",
    "                'pl_futuro': safe_get('forwardPE', 0.0),\n",
    "                'pl_retroativo': safe_get('trailingPE', 0.0),\n",
    "                'preco_booking': safe_get('priceToBook', 0.0),\n",
    "                'indice_preco_lucro_cresc': safe_get('pegRatio', 0.0)\n",
    "            })\n",
    "            \n",
    "        except Exception as e:\n",
    "            print(f\"Erro ao processar o ticker {ticker}: {e}\")\n",
    "    \n",
    "    # Criar DataFrames Spark com esquema definido\n",
    "    df_geral = spark.createDataFrame(geral, schema=schema_geral)\n",
    "    df_financeira = spark.createDataFrame(financeira, schema=schema_financeira)\n",
    "    df_mercado = spark.createDataFrame(mercado, schema=schema_mercado)\n",
    "    df_dividendos = spark.createDataFrame(dividendos, schema=schema_dividendos)\n",
    "    df_valuation = spark.createDataFrame(valuation, schema=schema_valuation)\n",
    "\n",
    "    # Converter Unix timestamp para data legível\n",
    "    df_dividendos = df_dividendos.withColumn('data_exdividendo', from_unixtime(col('data_exdividendo').cast('bigint')))\n",
    "    \n",
    "    # Adicionar colunas de timestamp\n",
    "    df_geral = df_geral.withColumn('dt_ptcao', date_format(current_timestamp(), 'yyyy-MM-dd'))\n",
    "    df_geral = df_geral.withColumn('dthr_igtao', current_timestamp())\n",
    "\n",
    "    df_financeira = df_financeira.withColumn('dt_ptcao', date_format(current_timestamp(), 'yyyy-MM-dd'))\n",
    "    df_financeira = df_financeira.withColumn('dthr_igtao', current_timestamp())\n",
    "\n",
    "    df_mercado = df_mercado.withColumn('dt_ptcao', date_format(current_timestamp(), 'yyyy-MM-dd'))\n",
    "    df_mercado = df_mercado.withColumn('dthr_igtao', current_timestamp())\n",
    "\n",
    "    df_dividendos = df_dividendos.withColumn('dt_ptcao', date_format(current_timestamp(), 'yyyy-MM-dd'))\n",
    "    df_dividendos = df_dividendos.withColumn('dthr_igtao', current_timestamp())\n",
    "\n",
    "    df_valuation = df_valuation.withColumn('dt_ptcao', date_format(current_timestamp(), 'yyyy-MM-dd'))\n",
    "    df_valuation = df_valuation.withColumn('dthr_igtao', current_timestamp())\n",
    "    \n",
    "    return df_geral, df_financeira, df_mercado, df_dividendos, df_valuation\n"
   ]
  },
  {
   "cell_type": "code",
   "execution_count": 13,
   "id": "1da7c178",
   "metadata": {
    "execution": {
     "iopub.execute_input": "2024-10-20T04:11:49.334399Z",
     "iopub.status.busy": "2024-10-20T04:11:49.334010Z",
     "iopub.status.idle": "2024-10-20T04:13:09.624310Z",
     "shell.execute_reply": "2024-10-20T04:13:09.623683Z"
    },
    "jupyter": {
     "source_hidden": true
    },
    "papermill": {
     "duration": 80.301014,
     "end_time": "2024-10-20T04:13:09.626007",
     "exception": false,
     "start_time": "2024-10-20T04:11:49.324993",
     "status": "completed"
    },
    "tags": []
   },
   "outputs": [
    {
     "name": "stdout",
     "output_type": "stream",
     "text": [
      "+------+--------------------+--------------------+------------+-------------+------+-------------+--------------------+--------------------+--------+----------+--------------------+\n",
      "|ticker|               setor|           industria|funcionarios|       cidade|estado|         pais|             website|     resumo_negocios|exchange|  dt_ptcao|          dthr_igtao|\n",
      "+------+--------------------+--------------------+------------+-------------+------+-------------+--------------------+--------------------+--------+----------+--------------------+\n",
      "|  AAPL|          Technology|Consumer Electronics|      161000|    Cupertino|    CA|United States|https://www.apple...|Apple Inc. design...|     NMS|2024-10-20|2024-10-20 01:13:...|\n",
      "|  NVDA|          Technology|      Semiconductors|       29600|  Santa Clara|    CA|United States|https://www.nvidi...|NVIDIA Corporatio...|     NMS|2024-10-20|2024-10-20 01:13:...|\n",
      "|  MSFT|          Technology|Software - Infras...|      228000|      Redmond|    WA|United States|https://www.micro...|Microsoft Corpora...|     NMS|2024-10-20|2024-10-20 01:13:...|\n",
      "|  GOOG|Communication Ser...|Internet Content ...|      179582|Mountain View|    CA|United States|     https://abc.xyz|Alphabet Inc. off...|     NMS|2024-10-20|2024-10-20 01:13:...|\n",
      "| GOOGL|Communication Ser...|Internet Content ...|      179582|Mountain View|    CA|United States|     https://abc.xyz|Alphabet Inc. off...|     NMS|2024-10-20|2024-10-20 01:13:...|\n",
      "|  AMZN|   Consumer Cyclical|     Internet Retail|     1525000|      Seattle|    WA|United States|https://www.about...|Amazon.com, Inc. ...|     NMS|2024-10-20|2024-10-20 01:13:...|\n",
      "|  META|Communication Ser...|Internet Content ...|       70799|   Menlo Park|    CA|United States|https://investor....|Meta Platforms, I...|     NMS|2024-10-20|2024-10-20 01:13:...|\n",
      "|   TSM|          Technology|      Semiconductors|        NULL| Hsinchu City|  NULL|       Taiwan|https://www.tsmc.com|Taiwan Semiconduc...|     NYQ|2024-10-20|2024-10-20 01:13:...|\n",
      "| BRK-B|  Financial Services|Insurance - Diver...|      396500|        Omaha|    NE|United States|https://www.berks...|Berkshire Hathawa...|     NYQ|2024-10-20|2024-10-20 01:13:...|\n",
      "|  AVGO|          Technology|      Semiconductors|       20000|    Palo Alto|    CA|United States|https://www.broad...|Broadcom Inc. des...|     NMS|2024-10-20|2024-10-20 01:13:...|\n",
      "|  TSLA|   Consumer Cyclical|  Auto Manufacturers|      140473|       Austin|    TX|United States|https://www.tesla...|Tesla, Inc. desig...|     NMS|2024-10-20|2024-10-20 01:13:...|\n",
      "|   WMT|  Consumer Defensive|     Discount Stores|     2100000|  Bentonville|    AR|United States|https://corporate...|Walmart Inc. enga...|     NYQ|2024-10-20|2024-10-20 01:13:...|\n",
      "|   JPM|  Financial Services| Banks - Diversified|      316043|     New York|    NY|United States|https://www.jpmor...|JPMorgan Chase & ...|     NYQ|2024-10-20|2024-10-20 01:13:...|\n",
      "|     V|  Financial Services|     Credit Services|        NULL|San Francisco|    CA|United States|https://www.visa.com|Visa Inc. operate...|     NYQ|2024-10-20|2024-10-20 01:13:...|\n",
      "|   XOM|              Energy|Oil & Gas Integrated|       62000|       Spring|    TX|United States|https://corporate...|Exxon Mobil Corpo...|     NYQ|2024-10-20|2024-10-20 01:13:...|\n",
      "|    PG|  Consumer Defensive|Household & Perso...|      108000|   Cincinnati|    OH|United States|https://www.pginv...|The Procter & Gam...|     NYQ|2024-10-20|2024-10-20 01:13:...|\n",
      "|  NFLX|Communication Ser...|       Entertainment|       13000|    Los Gatos|    CA|United States|https://www.netfl...|Netflix, Inc. pro...|     NMS|2024-10-20|2024-10-20 01:13:...|\n",
      "|   BAC|  Financial Services| Banks - Diversified|      213491|    Charlotte|    NC|United States|https://www.banko...|Bank of America C...|     NYQ|2024-10-20|2024-10-20 01:13:...|\n",
      "|    KO|  Consumer Defensive|Beverages - Non-A...|       79100|      Atlanta|    GA|United States|https://www.coca-...|The Coca-Cola Com...|     NYQ|2024-10-20|2024-10-20 01:13:...|\n",
      "|   MRK|          Healthcare|Drug Manufacturer...|       70000|       Rahway|    NJ|United States|https://www.merck...|Merck & Co., Inc....|     NYQ|2024-10-20|2024-10-20 01:13:...|\n",
      "+------+--------------------+--------------------+------------+-------------+------+-------------+--------------------+--------------------+--------+----------+--------------------+\n",
      "only showing top 20 rows\n",
      "\n",
      "+------+---------------------+-------------+-------+-------------+-------------+-------------+------------+-------------+--------------+----------+--------------------+\n",
      "|ticker|capitalizacao_mercado|valor_empresa|receita|lucros_brutos|lucro_liquido|       ebitda|divida_total|  caixa_total|dividend_yield|  dt_ptcao|          dthr_igtao|\n",
      "+------+---------------------+-------------+-------+-------------+-------------+-------------+------------+-------------+--------------+----------+--------------------+\n",
      "|  AAPL|        3572963475456|3612475129856|   NULL|         NULL|         NULL| 131781001216|101304000512|  61801000960|        0.0043|2024-10-20|2024-10-20 01:13:...|\n",
      "|  NVDA|        3385139920896|3360354992128|   NULL|         NULL|         NULL|  61184000000| 10014999552|  34800001024|  2.9999999E-4|2024-10-20|2024-10-20 01:13:...|\n",
      "|  MSFT|        3108199989248|3130520240128|   NULL|         NULL|         NULL| 129433001984| 97851998208|  75531001856|   0.007900001|2024-10-20|2024-10-20 01:13:...|\n",
      "|  GOOG|        2020806230016|1959759446016|   NULL|         NULL|         NULL| 115478003712| 28718999552| 100724998144|  0.0047999998|2024-10-20|2024-10-20 01:13:...|\n",
      "| GOOGL|        2020802691072|1939694157824|   NULL|         NULL|         NULL| 115478003712| 28718999552| 100724998144|        0.0049|2024-10-20|2024-10-20 01:13:...|\n",
      "|  AMZN|        1983563431936|2052307156992|   NULL|         NULL|         NULL| 104049000448|157841997824|  89091997696|          NULL|2024-10-20|2024-10-20 01:13:...|\n",
      "|  META|        1458365267968|1438274420736|   NULL|         NULL|         NULL|  74774003712| 37990998016|  58080002048|  0.0034999999|2024-10-20|2024-10-20 01:13:...|\n",
      "|   TSM|        1041261068288|4038635814912|   NULL|         NULL|         NULL|1797362417664|968509030400|2167600054272|  0.0123000005|2024-10-20|2024-10-20 01:13:...|\n",
      "| BRK-B|        1002383015936|-146372214784|   NULL|         NULL|         NULL| 100090003456|123628003328| 276941996032|          NULL|2024-10-20|2024-10-20 01:13:...|\n",
      "|  AVGO|         840190656512| 103313793024|   NULL|         NULL|         NULL|  22958000128| 40456998912|  11105000448|  0.0117999995|2024-10-20|2024-10-20 01:13:...|\n",
      "|  TSLA|         705056997376| 687647162368|   NULL|         NULL|         NULL|  12177999872| 12515000320|  30720000000|          NULL|2024-10-20|2024-10-20 01:13:...|\n",
      "|   WMT|         653590069248| 714274177024|   NULL|         NULL|         NULL|  40779001856| 63146000384|   8810999808|   0.010199999|2024-10-20|2024-10-20 01:13:...|\n",
      "|   JPM|         634484162560| -41944838144|   NULL|         NULL|         NULL|         NULL|914490982400|1612570034176|        0.0222|2024-10-20|2024-10-20 01:13:...|\n",
      "|     V|         565511651328| 667382710272|   NULL|         NULL|         NULL|  24384000000| 20601999360|  16643999744|  0.0072000003|2024-10-20|2024-10-20 01:13:...|\n",
      "|   XOM|         533184020480| 557770604544|   NULL|         NULL|         NULL|  70902996992| 43185999872|  26460000256|        0.0317|2024-10-20|2024-10-20 01:13:...|\n",
      "|    PG|         403371261952| 427361402880|   NULL|         NULL|         NULL|  23900999680| 36152999936|  12156000256|        0.0235|2024-10-20|2024-10-20 01:13:...|\n",
      "|  NFLX|         327834861568| 336659841024|   NULL|         NULL|         NULL|   9976898560| 18756288512|   9223926784|          NULL|2024-10-20|2024-10-20 01:13:...|\n",
      "|   BAC|         325388730368| 108892651520|   NULL|         NULL|         NULL|         NULL|776455979008|1017505972224|   0.024600001|2024-10-20|2024-10-20 01:13:...|\n",
      "|    KO|         303587262464| 331208097792|   NULL|         NULL|         NULL|  14906999808| 45063000064|  19000000512|        0.0275|2024-10-20|2024-10-20 01:13:...|\n",
      "|   MRK|         275533856768| 302033764352|   NULL|         NULL|         NULL|  23631998976| 37788000256|  11354000384|   0.028299998|2024-10-20|2024-10-20 01:13:...|\n",
      "+------+---------------------+-------------+-------+-------------+-------------+-------------+------------+-------------+--------------+----------+--------------------+\n",
      "only showing top 20 rows\n",
      "\n"
     ]
    },
    {
     "name": "stdout",
     "output_type": "stream",
     "text": [
      "+------+-----------+-------------------+--------+----------+----------+-----------------+-----------------+---------+------------+-----+----------+--------------------+\n",
      "|ticker|preco_atual|fechamento_anterior|abertura|minimo_dia|maximo_dia|minimo_52_semanas|maximo_52_semanas|   volume|volume_medio| beta|  dt_ptcao|          dthr_igtao|\n",
      "+------+-----------+-------------------+--------+----------+----------+-----------------+-----------------+---------+------------+-----+----------+--------------------+\n",
      "|  AAPL|      235.0|             232.15|  235.88|    234.02|    236.05|           164.08|           237.49| 46355816|    51190734|1.239|2024-10-20|2024-10-20 01:13:...|\n",
      "|  NVDA|      138.0|             136.93|  138.71|    137.28|     138.9|            39.23|           140.89|169234338|   324869965|1.669|2024-10-20|2024-10-20 01:13:...|\n",
      "|  MSFT|     418.16|             416.72| 417.225|  416.2601|   419.649|           324.39|           468.35| 15820564|    19741610|0.896|2024-10-20|2024-10-20 01:13:...|\n",
      "|  GOOG|     165.05|             164.51|  164.82|    164.75|  166.3699|           121.46|           193.31| 12718667|    17708400|1.038|2024-10-20|2024-10-20 01:13:...|\n",
      "| GOOGL|     163.42|             162.93|  163.13|    163.08|    164.71|           120.21|           191.75| 19738040|    25435364|1.038|2024-10-20|2024-10-20 01:13:...|\n",
      "|  AMZN|     188.99|             187.53|   187.0|    186.28|    190.74|           118.35|            201.2| 37345638|    38649995|1.147|2024-10-20|2024-10-20 01:13:...|\n",
      "|  META|     576.47|             576.93|   580.8|    575.25|  583.9675|            279.4|           602.95|  7664323|    12924395|1.216|2024-10-20|2024-10-20 01:13:...|\n",
      "|   TSM|     200.78|             205.84|  205.95|    200.76|    205.88|            84.95|            212.6| 20971967|    15362539|1.268|2024-10-20|2024-10-20 01:13:...|\n",
      "| BRK-B|      464.8|             465.85|   467.0|    463.28|     467.0|           330.58|           484.82|  5621685|     3761909|0.869|2024-10-20|2024-10-20 01:13:...|\n",
      "|  AVGO|     179.89|             181.53|  182.32|    178.68|    182.71|           81.834|           186.42| 17685598|    27023804|1.184|2024-10-20|2024-10-20 01:13:...|\n",
      "|  TSLA|      220.7|             220.89|  220.72|    219.23|    222.28|            138.8|            271.0| 49126022|    80743446|2.297|2024-10-20|2024-10-20 01:13:...|\n",
      "|   WMT|      81.31|              80.89|   80.87|     80.66|     81.69|         49.84667|            81.82|  9598132|    16500634|0.516|2024-10-20|2024-10-20 01:13:...|\n",
      "|   JPM|     225.37|             224.42|   225.0|     223.1|    225.92|           135.19|           225.92|  5364080|     8658057|1.102|2024-10-20|2024-10-20 01:13:...|\n",
      "|     V|     290.62|             290.39|  289.92|    288.08|   291.025|           228.03|           293.07|  5347302|     7676056|0.961|2024-10-20|2024-10-20 01:13:...|\n",
      "|   XOM|     120.01|             120.35|  120.44|    119.15|    120.53|            95.77|           126.34| 12827832|    14109864|0.877|2024-10-20|2024-10-20 01:13:...|\n",
      "|    PG|     171.28|            171.273|   170.3|    168.46|  172.2099|            142.5|           177.94|  6659210|     7087626|0.407|2024-10-20|2024-10-20 01:13:...|\n",
      "|  NFLX|     763.89|             687.65|  737.64|    736.23|   766.281|           395.62|          766.281| 15827594|     3210367|1.261|2024-10-20|2024-10-20 01:13:...|\n",
      "|   BAC|      42.32|               42.6|   42.43|     42.11|    42.645|            24.96|            44.44| 25717694|    38945489|1.338|2024-10-20|2024-10-20 01:13:...|\n",
      "|    KO|      70.44|               69.9|   69.87|    69.605|     70.55|            54.05|            73.53|  8988948|    13780365|0.608|2024-10-20|2024-10-20 01:13:...|\n",
      "|   MRK|      108.7|             109.75|   109.9|   108.555|    109.75|             99.8|           134.63|  9519439|     9600315|0.399|2024-10-20|2024-10-20 01:13:...|\n",
      "+------+-----------+-------------------+--------+----------+----------+-----------------+-----------------+---------+------------+-----+----------+--------------------+\n",
      "only showing top 20 rows\n",
      "\n",
      "+------+--------------+-------------------+-------------------+----------+--------------------+\n",
      "|ticker|taxa_dividendo|   data_exdividendo|indice_distribuicao|  dt_ptcao|          dthr_igtao|\n",
      "+------+--------------+-------------------+-------------------+----------+--------------------+\n",
      "|  AAPL|           1.0|2024-08-11 21:00:00|             0.1476|2024-10-20|2024-10-20 01:13:...|\n",
      "|  NVDA|          0.04|2024-09-11 21:00:00|        0.010299999|2024-10-20|2024-10-20 01:13:...|\n",
      "|  MSFT|          3.32|2024-11-20 21:00:00|             0.2483|2024-10-20|2024-10-20 01:13:...|\n",
      "|  GOOG|           0.8|2024-09-08 21:00:00|             0.0287|2024-10-20|2024-10-20 01:13:...|\n",
      "| GOOGL|           0.8|2024-09-08 21:00:00|             0.0287|2024-10-20|2024-10-20 01:13:...|\n",
      "|  AMZN|          NULL|               NULL|               NULL|2024-10-20|2024-10-20 01:13:...|\n",
      "|  META|           2.0|2024-09-15 21:00:00|             0.0512|2024-10-20|2024-10-20 01:13:...|\n",
      "|   TSM|          2.47|2024-12-11 21:00:00|         0.35900003|2024-10-20|2024-10-20 01:13:...|\n",
      "| BRK-B|          NULL|               NULL|               NULL|2024-10-20|2024-10-20 01:13:...|\n",
      "|  AVGO|          2.12|2024-09-18 21:00:00|             1.6438|2024-10-20|2024-10-20 01:13:...|\n",
      "|  TSLA|          NULL|               NULL|               NULL|2024-10-20|2024-10-20 01:13:...|\n",
      "|   WMT|          0.83|2024-12-11 21:00:00|             0.4141|2024-10-20|2024-10-20 01:13:...|\n",
      "|   JPM|           5.0|2024-10-03 21:00:00|             0.2557|2024-10-20|2024-10-20 01:13:...|\n",
      "|     V|          2.08|2024-08-08 21:00:00|             0.2152|2024-10-20|2024-10-20 01:13:...|\n",
      "|   XOM|           3.8|2024-08-14 21:00:00|         0.44979998|2024-10-20|2024-10-20 01:13:...|\n",
      "|    PG|          4.03|2024-10-17 21:00:00|             0.6714|2024-10-20|2024-10-20 01:13:...|\n",
      "|  NFLX|          NULL|               NULL|               NULL|2024-10-20|2024-10-20 01:13:...|\n",
      "|   BAC|          1.04|2024-12-05 21:00:00|         0.35509998|2024-10-20|2024-10-20 01:13:...|\n",
      "|    KO|          1.94|2024-09-12 21:00:00|             0.7683|2024-10-20|2024-10-20 01:13:...|\n",
      "|   MRK|          3.08|2024-09-15 21:00:00|         0.56299996|2024-10-20|2024-10-20 01:13:...|\n",
      "+------+--------------+-------------------+-------------------+----------+--------------------+\n",
      "only showing top 20 rows\n",
      "\n"
     ]
    },
    {
     "name": "stdout",
     "output_type": "stream",
     "text": [
      "+------+----------+-------------+-------------+------------------------+----------+--------------------+\n",
      "|ticker| pl_futuro|pl_retroativo|preco_booking|indice_preco_lucro_cresc|  dt_ptcao|          dthr_igtao|\n",
      "+------+----------+-------------+-------------+------------------------+----------+--------------------+\n",
      "|  AAPL| 31.417112|    35.714287|     53.62848|                    3.14|2024-10-20|2024-10-20 01:13:...|\n",
      "|  NVDA| 33.990147|     64.48598|    58.277027|                    0.84|2024-10-20|2024-10-20 01:13:...|\n",
      "|  MSFT| 27.456337|    35.467346|    11.578568|                    2.13|2024-10-20|2024-10-20 01:13:...|\n",
      "|  GOOG| 18.993097|     23.68006|     6.762127|                    1.04|2024-10-20|2024-10-20 01:13:...|\n",
      "| GOOGL| 18.805525|    23.412607|    6.6953454|                    1.03|2024-10-20|2024-10-20 01:13:...|\n",
      "|  AMZN|   32.5284|    44.997623|     8.384649|                    1.25|2024-10-20|2024-10-20 01:13:...|\n",
      "|  META| 23.625818|    29.502045|      9.31473|                    1.99|2024-10-20|2024-10-20 01:13:...|\n",
      "|   TSM| 25.003736|     35.72598|    1.3047152|                    1.54|2024-10-20|2024-10-20 01:13:...|\n",
      "| BRK-B| 22.975779|    14.769622| 0.0011101621|                     1.0|2024-10-20|2024-10-20 01:13:...|\n",
      "|  AVGO| 29.250406|    145.07259|    3.0376048|                    1.89|2024-10-20|2024-10-20 01:13:...|\n",
      "|  TSLA|  72.83828|    62.169014|    10.605478|                    63.6|2024-10-20|2024-10-20 01:13:...|\n",
      "|   WMT| 29.893381|    42.348957|    7.7386503|                    3.25|2024-10-20|2024-10-20 01:13:...|\n",
      "|   JPM|  13.47101|    12.534483|    1.9571692|                    4.56|2024-10-20|2024-10-20 01:13:...|\n",
      "|     V| 26.229242|    31.148981|    14.489705|                    2.32|2024-10-20|2024-10-20 01:13:...|\n",
      "|   XOM| 14.476478|    14.355264|    1.9864931|                    9.73|2024-10-20|2024-10-20 01:13:...|\n",
      "|    PG|  23.05249|    29.480207|     7.735874|                    3.83|2024-10-20|2024-10-20 01:13:...|\n",
      "|  NFLX| 33.054523|    43.108917|    14.397806|                    1.36|2024-10-20|2024-10-20 01:13:...|\n",
      "|   BAC|11.6584015|    15.333333|    1.1964604|                     1.3|2024-10-20|2024-10-20 01:13:...|\n",
      "|    KO| 23.171053|    28.634148|    11.740001|                    4.07|2024-10-20|2024-10-20 01:13:...|\n",
      "|   MRK| 11.183127|     20.12963|    6.3241796|                    0.16|2024-10-20|2024-10-20 01:13:...|\n",
      "+------+----------+-------------+-------------+------------------------+----------+--------------------+\n",
      "only showing top 20 rows\n",
      "\n"
     ]
    }
   ],
   "source": [
    "df_geral, df_financeira, df_mercado, df_dividendos, df_valuation = criar_tabelas_spark(df_tickers)\n",
    "# Exibir os DataFrames\n",
    "df_geral.show()\n",
    "df_financeira.show()\n",
    "df_mercado.show()\n",
    "df_dividendos.show()\n",
    "df_valuation.show()"
   ]
  },
  {
   "cell_type": "code",
   "execution_count": 14,
   "id": "ed98f832",
   "metadata": {
    "execution": {
     "iopub.execute_input": "2024-10-20T04:13:09.642733Z",
     "iopub.status.busy": "2024-10-20T04:13:09.642166Z",
     "iopub.status.idle": "2024-10-20T04:13:09.647084Z",
     "shell.execute_reply": "2024-10-20T04:13:09.646564Z"
    },
    "jupyter": {
     "source_hidden": true
    },
    "papermill": {
     "duration": 0.014228,
     "end_time": "2024-10-20T04:13:09.647963",
     "exception": false,
     "start_time": "2024-10-20T04:13:09.633735",
     "status": "completed"
    },
    "tags": []
   },
   "outputs": [
    {
     "name": "stdout",
     "output_type": "stream",
     "text": [
      "root\n",
      " |-- ticker: string (nullable = true)\n",
      " |-- data: timestamp (nullable = true)\n",
      " |-- abertura: double (nullable = true)\n",
      " |-- alta: double (nullable = true)\n",
      " |-- baixa: double (nullable = true)\n",
      " |-- fechamento: double (nullable = true)\n",
      " |-- volume: long (nullable = true)\n",
      " |-- dividendos: double (nullable = true)\n",
      " |-- desdobramentos: double (nullable = true)\n",
      " |-- fechamento_mes_anterior: double (nullable = true)\n",
      " |-- valor_retorno: double (nullable = true)\n",
      " |-- porcentagem_retorno: double (nullable = true)\n",
      " |-- dt_ptcao: string (nullable = false)\n",
      " |-- dthr_igtao: timestamp (nullable = false)\n",
      "\n",
      "root\n",
      " |-- ticker: string (nullable = true)\n",
      " |-- nome_curto: string (nullable = true)\n",
      " |-- nome_exibicao: string (nullable = true)\n",
      " |-- preco_mercado_regular: double (nullable = true)\n",
      " |-- mudanca_mercado_regular: double (nullable = true)\n",
      " |-- mudanca_percentual_mercado_regular: double (nullable = true)\n",
      " |-- volume_mercado_regular: long (nullable = true)\n",
      " |-- capitalizacao_mercado: long (nullable = true)\n",
      " |-- nome_exchange_completa: string (nullable = true)\n",
      " |-- nome_fonte_cotacao: string (nullable = true)\n",
      " |-- dt_ptcao: string (nullable = false)\n",
      " |-- dthr_igtao: timestamp (nullable = false)\n",
      "\n",
      "root\n",
      " |-- ticker: string (nullable = false)\n",
      " |-- setor: string (nullable = true)\n",
      " |-- industria: string (nullable = true)\n",
      " |-- funcionarios: integer (nullable = true)\n",
      " |-- cidade: string (nullable = true)\n",
      " |-- estado: string (nullable = true)\n",
      " |-- pais: string (nullable = true)\n",
      " |-- website: string (nullable = true)\n",
      " |-- resumo_negocios: string (nullable = true)\n",
      " |-- exchange: string (nullable = true)\n",
      " |-- dt_ptcao: string (nullable = false)\n",
      " |-- dthr_igtao: timestamp (nullable = false)\n",
      "\n",
      "root\n",
      " |-- ticker: string (nullable = false)\n",
      " |-- capitalizacao_mercado: long (nullable = true)\n",
      " |-- valor_empresa: long (nullable = true)\n",
      " |-- receita: long (nullable = true)\n",
      " |-- lucros_brutos: long (nullable = true)\n",
      " |-- lucro_liquido: long (nullable = true)\n",
      " |-- ebitda: long (nullable = true)\n",
      " |-- divida_total: long (nullable = true)\n",
      " |-- caixa_total: long (nullable = true)\n",
      " |-- dividend_yield: double (nullable = true)\n",
      " |-- dt_ptcao: string (nullable = false)\n",
      " |-- dthr_igtao: timestamp (nullable = false)\n",
      "\n",
      "root\n",
      " |-- ticker: string (nullable = false)\n",
      " |-- preco_atual: double (nullable = true)\n",
      " |-- fechamento_anterior: double (nullable = true)\n",
      " |-- abertura: double (nullable = true)\n",
      " |-- minimo_dia: double (nullable = true)\n",
      " |-- maximo_dia: double (nullable = true)\n",
      " |-- minimo_52_semanas: double (nullable = true)\n",
      " |-- maximo_52_semanas: double (nullable = true)\n",
      " |-- volume: long (nullable = true)\n",
      " |-- volume_medio: long (nullable = true)\n",
      " |-- beta: double (nullable = true)\n",
      " |-- dt_ptcao: string (nullable = false)\n",
      " |-- dthr_igtao: timestamp (nullable = false)\n",
      "\n",
      "root\n",
      " |-- ticker: string (nullable = false)\n",
      " |-- taxa_dividendo: double (nullable = true)\n",
      " |-- data_exdividendo: string (nullable = true)\n",
      " |-- indice_distribuicao: double (nullable = true)\n",
      " |-- dt_ptcao: string (nullable = false)\n",
      " |-- dthr_igtao: timestamp (nullable = false)\n",
      "\n",
      "root\n",
      " |-- ticker: string (nullable = false)\n",
      " |-- pl_futuro: double (nullable = true)\n",
      " |-- pl_retroativo: double (nullable = true)\n",
      " |-- preco_booking: double (nullable = true)\n",
      " |-- indice_preco_lucro_cresc: double (nullable = true)\n",
      " |-- dt_ptcao: string (nullable = false)\n",
      " |-- dthr_igtao: timestamp (nullable = false)\n",
      "\n"
     ]
    }
   ],
   "source": [
    "df_retorno_mensal.printSchema()\n",
    "df_ativas.printSchema()\n",
    "df_geral.printSchema()\n",
    "df_financeira.printSchema()\n",
    "df_mercado.printSchema()\n",
    "df_dividendos.printSchema()\n",
    "df_valuation.printSchema()\n"
   ]
  },
  {
   "cell_type": "markdown",
   "id": "b9832a21",
   "metadata": {
    "papermill": {
     "duration": 0.007376,
     "end_time": "2024-10-20T04:13:09.662910",
     "exception": false,
     "start_time": "2024-10-20T04:13:09.655534",
     "status": "completed"
    },
    "tags": []
   },
   "source": [
    "## postgree upsert"
   ]
  },
  {
   "cell_type": "code",
   "execution_count": 15,
   "id": "d61d45e2",
   "metadata": {
    "execution": {
     "iopub.execute_input": "2024-10-20T04:13:09.679949Z",
     "iopub.status.busy": "2024-10-20T04:13:09.679549Z",
     "iopub.status.idle": "2024-10-20T04:13:09.683179Z",
     "shell.execute_reply": "2024-10-20T04:13:09.682547Z"
    },
    "jupyter": {
     "source_hidden": true
    },
    "papermill": {
     "duration": 0.013543,
     "end_time": "2024-10-20T04:13:09.684188",
     "exception": false,
     "start_time": "2024-10-20T04:13:09.670645",
     "status": "completed"
    },
    "tags": []
   },
   "outputs": [],
   "source": [
    "SRVNAME = \"postgres\"\n",
    "USER = \"airflow\"\n",
    "PASSWORD = \"airflow\"\n",
    "HOST = \"postgres\"\n",
    "PORT = \"5432\"\n",
    "DBNAME = \"paxpedb\"\n",
    "\n",
    "# Parâmetros de conexão usando as variáveis\n",
    "conn_params = {\n",
    "    'dbname': DBNAME,\n",
    "    'user': USER,\n",
    "    'password': PASSWORD,\n",
    "    'host': HOST,\n",
    "    'port': PORT\n",
    "}"
   ]
  },
  {
   "cell_type": "code",
   "execution_count": 16,
   "id": "333bd8a5",
   "metadata": {
    "execution": {
     "iopub.execute_input": "2024-10-20T04:13:09.701480Z",
     "iopub.status.busy": "2024-10-20T04:13:09.700941Z",
     "iopub.status.idle": "2024-10-20T04:13:09.707632Z",
     "shell.execute_reply": "2024-10-20T04:13:09.707046Z"
    },
    "jupyter": {
     "source_hidden": true
    },
    "papermill": {
     "duration": 0.01648,
     "end_time": "2024-10-20T04:13:09.708639",
     "exception": false,
     "start_time": "2024-10-20T04:13:09.692159",
     "status": "completed"
    },
    "tags": []
   },
   "outputs": [
    {
     "name": "stdout",
     "output_type": "stream",
     "text": [
      "Conexão com postgres sucedida\n"
     ]
    }
   ],
   "source": [
    "def test_connection():\n",
    "    try:\n",
    "        # Connect to the PostgreSQL server using variables\n",
    "        connection = psycopg2.connect(\n",
    "            dbname=SRVNAME,\n",
    "            user=USER,\n",
    "            password=PASSWORD,\n",
    "            host=HOST,\n",
    "            port=PORT\n",
    "        )\n",
    "        print(\"Conexão com postgres sucedida\")\n",
    "        return True\n",
    "    except OperationalError as e:\n",
    "        print(f\"Error: {e}\")\n",
    "        return False\n",
    "    finally:\n",
    "        if connection:\n",
    "            connection.close()\n",
    "if not test_connection():\n",
    "    sys.exit(1)"
   ]
  },
  {
   "cell_type": "markdown",
   "id": "d7faf785",
   "metadata": {
    "papermill": {
     "duration": 0.008065,
     "end_time": "2024-10-20T04:13:09.724708",
     "exception": false,
     "start_time": "2024-10-20T04:13:09.716643",
     "status": "completed"
    },
    "tags": []
   },
   "source": [
    "### para inserir no postgres é necessário\n",
    "> 1. alimentar as tabelas em stage --- temp_nometabela\n",
    "> 2. realizar o upsert comparando as tabelas"
   ]
  },
  {
   "cell_type": "code",
   "execution_count": 17,
   "id": "17d5752e",
   "metadata": {
    "execution": {
     "iopub.execute_input": "2024-10-20T04:13:09.742487Z",
     "iopub.status.busy": "2024-10-20T04:13:09.741951Z",
     "iopub.status.idle": "2024-10-20T04:13:09.745490Z",
     "shell.execute_reply": "2024-10-20T04:13:09.744955Z"
    },
    "jupyter": {
     "source_hidden": true
    },
    "papermill": {
     "duration": 0.01394,
     "end_time": "2024-10-20T04:13:09.746525",
     "exception": false,
     "start_time": "2024-10-20T04:13:09.732585",
     "status": "completed"
    },
    "tags": []
   },
   "outputs": [],
   "source": [
    "def write_to_postgres(df, table_name, schema_name=\"paxpestg\"):\n",
    "  \n",
    "    df.write \\\n",
    "        .format(\"jdbc\") \\\n",
    "        .option(\"url\", f\"jdbc:postgresql://{HOST}:{PORT}/{DBNAME}\") \\\n",
    "        .option(\"dbtable\", f\"{schema_name}.{table_name}\") \\\n",
    "        .option(\"user\", USER) \\\n",
    "        .option(\"password\", PASSWORD) \\\n",
    "        .option(\"driver\", \"org.postgresql.Driver\") \\\n",
    "        .mode(\"overwrite\") \\\n",
    "        .save()"
   ]
  },
  {
   "cell_type": "code",
   "execution_count": 18,
   "id": "2952e3b0",
   "metadata": {
    "execution": {
     "iopub.execute_input": "2024-10-20T04:13:09.763836Z",
     "iopub.status.busy": "2024-10-20T04:13:09.763270Z",
     "iopub.status.idle": "2024-10-20T04:13:25.920467Z",
     "shell.execute_reply": "2024-10-20T04:13:25.919842Z"
    },
    "jupyter": {
     "source_hidden": true
    },
    "papermill": {
     "duration": 16.167356,
     "end_time": "2024-10-20T04:13:25.921834",
     "exception": false,
     "start_time": "2024-10-20T04:13:09.754478",
     "status": "completed"
    },
    "tags": []
   },
   "outputs": [
    {
     "name": "stderr",
     "output_type": "stream",
     "text": [
      "\r",
      "[Stage 400:>(6 + 18) / 24][Stage 401:> (0 + 7) / 24][Stage 402:> (0 + 0) / 24]\r",
      "\r",
      "[Stage 403:(13 + 11) / 24][Stage 404:>(0 + 13) / 24][Stage 405:> (0 + 0) / 24]\r"
     ]
    },
    {
     "name": "stderr",
     "output_type": "stream",
     "text": [
      "\r",
      "[Stage 407:>(3 + 21) / 24][Stage 408:> (0 + 3) / 24][Stage 409:> (0 + 0) / 24]\r",
      "\r",
      "[Stage 410:>(15 + 9) / 24][Stage 411:>(0 + 15) / 24][Stage 412:> (0 + 0) / 24]\r"
     ]
    },
    {
     "name": "stderr",
     "output_type": "stream",
     "text": [
      "\r",
      "[Stage 413:>(22 + 2) / 24][Stage 414:>(2 + 22) / 24][Stage 415:> (0 + 2) / 24]\r",
      "\r",
      "[Stage 417:>(18 + 6) / 24][Stage 418:>(0 + 18) / 24][Stage 419:> (0 + 0) / 24]\r"
     ]
    },
    {
     "name": "stderr",
     "output_type": "stream",
     "text": [
      "\r",
      "[Stage 419:>(22 + 2) / 24][Stage 420:>(0 + 22) / 24][Stage 421:> (0 + 0) / 24]\r",
      "\r",
      "[Stage 423:(11 + 13) / 24][Stage 424:>(0 + 11) / 24][Stage 425:> (0 + 0) / 24]\r"
     ]
    },
    {
     "name": "stderr",
     "output_type": "stream",
     "text": [
      "\r",
      "[Stage 427:>(2 + 22) / 24][Stage 428:> (0 + 6) / 24][Stage 429:> (0 + 0) / 24]\r",
      "\r",
      "[Stage 430:>(17 + 7) / 24][Stage 431:>(0 + 17) / 24][Stage 432:> (0 + 0) / 24]\r"
     ]
    },
    {
     "name": "stderr",
     "output_type": "stream",
     "text": [
      "\r",
      "[Stage 433:>(21 + 3) / 24][Stage 434:>(3 + 21) / 24][Stage 435:> (0 + 0) / 24]\r",
      "\r",
      "[Stage 437:>(6 + 18) / 24][Stage 438:> (0 + 6) / 24][Stage 439:> (0 + 0) / 24]\r"
     ]
    },
    {
     "name": "stderr",
     "output_type": "stream",
     "text": [
      "\r",
      "[Stage 440:>(19 + 5) / 24][Stage 441:>(0 + 19) / 24][Stage 442:> (0 + 0) / 24]\r"
     ]
    },
    {
     "name": "stderr",
     "output_type": "stream",
     "text": [
      "\r",
      "[Stage 444:(12 + 12) / 24][Stage 445:>(0 + 12) / 24][Stage 446:> (0 + 0) / 24]\r",
      "\r",
      "[Stage 448:>(0 + 24) / 24][Stage 449:> (0 + 0) / 24][Stage 450:> (0 + 0) / 24]\r"
     ]
    },
    {
     "name": "stderr",
     "output_type": "stream",
     "text": [
      "\r",
      "[Stage 451:(14 + 10) / 24][Stage 452:>(0 + 14) / 24][Stage 453:> (0 + 0) / 24]\r",
      "\r",
      "[Stage 454:>(15 + 9) / 24][Stage 455:>(0 + 15) / 24][Stage 456:> (0 + 0) / 24]\r"
     ]
    },
    {
     "name": "stderr",
     "output_type": "stream",
     "text": [
      "\r",
      "[Stage 458:>(5 + 19) / 24][Stage 459:> (0 + 5) / 24][Stage 460:> (0 + 0) / 24]\r",
      "\r",
      "[Stage 461:>(19 + 5) / 24][Stage 462:>(0 + 19) / 24][Stage 463:> (0 + 0) / 24]\r"
     ]
    },
    {
     "name": "stderr",
     "output_type": "stream",
     "text": [
      "\r",
      "[Stage 464:>(19 + 5) / 24][Stage 465:>(0 + 19) / 24][Stage 466:> (0 + 0) / 24]\r",
      "\r",
      "[Stage 468:>(19 + 5) / 24][Stage 469:>(0 + 19) / 24][Stage 470:> (0 + 0) / 24]\r"
     ]
    },
    {
     "name": "stderr",
     "output_type": "stream",
     "text": [
      "\r",
      "[Stage 472:>(0 + 24) / 24][Stage 473:> (0 + 0) / 24][Stage 474:> (0 + 0) / 24]\r",
      "\r",
      "[Stage 474:>(17 + 7) / 24][Stage 475:>(3 + 19) / 24][Stage 476:> (0 + 0) / 24]\r"
     ]
    },
    {
     "name": "stderr",
     "output_type": "stream",
     "text": [
      "\r",
      "[Stage 478:>(0 + 24) / 24][Stage 479:> (0 + 0) / 24][Stage 480:> (0 + 0) / 24]\r",
      "\r",
      "[Stage 481:>(8 + 16) / 24][Stage 482:> (0 + 8) / 24][Stage 483:> (0 + 0) / 24]\r"
     ]
    },
    {
     "name": "stderr",
     "output_type": "stream",
     "text": [
      "\r",
      "[Stage 484:>(23 + 1) / 24][Stage 485:>(0 + 23) / 24][Stage 486:> (0 + 0) / 24]\r",
      "\r",
      "[Stage 488:(10 + 14) / 24][Stage 489:>(0 + 10) / 24][Stage 490:> (0 + 0) / 24]\r"
     ]
    },
    {
     "name": "stderr",
     "output_type": "stream",
     "text": [
      "\r",
      "[Stage 491:(13 + 11) / 24][Stage 492:>(0 + 13) / 24][Stage 493:> (0 + 0) / 24]\r",
      "\r",
      "[Stage 495:>(7 + 17) / 24][Stage 496:> (0 + 7) / 24][Stage 497:> (0 + 0) / 24]\r"
     ]
    },
    {
     "name": "stderr",
     "output_type": "stream",
     "text": [
      "\r",
      "[Stage 499:>(0 + 24) / 24][Stage 500:> (0 + 0) / 24][Stage 501:> (0 + 0) / 24]\r",
      "\r",
      "[Stage 502:(10 + 14) / 24][Stage 503:>(0 + 10) / 24][Stage 504:> (0 + 0) / 24]\r"
     ]
    },
    {
     "name": "stderr",
     "output_type": "stream",
     "text": [
      "\r",
      "[Stage 506:>(4 + 20) / 24][Stage 507:> (0 + 4) / 24][Stage 508:> (0 + 0) / 24]\r",
      "\r",
      "[Stage 509:>(15 + 9) / 24][Stage 510:>(0 + 15) / 24][Stage 511:> (0 + 0) / 24]\r"
     ]
    },
    {
     "name": "stderr",
     "output_type": "stream",
     "text": [
      "\r",
      "[Stage 513:>(6 + 18) / 24][Stage 514:> (0 + 6) / 24][Stage 515:> (0 + 0) / 24]\r",
      "\r",
      "[Stage 516:>(21 + 3) / 24][Stage 517:>(0 + 21) / 24][Stage 518:> (0 + 0) / 24]\r"
     ]
    },
    {
     "name": "stderr",
     "output_type": "stream",
     "text": [
      "\r",
      "[Stage 520:(11 + 13) / 24][Stage 521:>(0 + 11) / 24][Stage 522:> (0 + 0) / 24]\r",
      "\r",
      "[Stage 523:>(22 + 2) / 24][Stage 524:>(0 + 22) / 24][Stage 525:> (0 + 0) / 24]\r"
     ]
    },
    {
     "name": "stderr",
     "output_type": "stream",
     "text": [
      "\r",
      "[Stage 527:(10 + 14) / 24][Stage 528:>(0 + 10) / 24][Stage 529:> (0 + 0) / 24]\r",
      "\r",
      "[Stage 531:>(1 + 23) / 24][Stage 532:> (0 + 1) / 24][Stage 533:> (0 + 0) / 24]\r"
     ]
    },
    {
     "name": "stderr",
     "output_type": "stream",
     "text": [
      "\r",
      "[Stage 533:>(23 + 1) / 24][Stage 534:>(18 + 6) / 24][Stage 535:>(0 + 17) / 24]\r",
      "\r",
      "[Stage 537:>(23 + 1) / 24][Stage 538:>(0 + 23) / 24][Stage 539:> (0 + 0) / 24]\r"
     ]
    },
    {
     "name": "stderr",
     "output_type": "stream",
     "text": [
      "\r",
      "[Stage 541:>(15 + 9) / 24][Stage 542:>(0 + 15) / 24][Stage 543:> (0 + 0) / 24]\r",
      "\r",
      "[Stage 544:>(21 + 3) / 24][Stage 545:>(0 + 21) / 24][Stage 546:> (0 + 0) / 24]\r"
     ]
    },
    {
     "name": "stderr",
     "output_type": "stream",
     "text": [
      "\r",
      "[Stage 548:>(6 + 18) / 24][Stage 549:> (0 + 6) / 24][Stage 550:> (0 + 0) / 24]\r",
      "\r",
      "[Stage 551:>(23 + 1) / 24][Stage 552:>(0 + 23) / 24][Stage 553:> (0 + 0) / 24]\r"
     ]
    },
    {
     "name": "stderr",
     "output_type": "stream",
     "text": [
      "\r",
      "[Stage 555:>(15 + 9) / 24][Stage 556:>(0 + 15) / 24][Stage 557:> (0 + 0) / 24]\r",
      "\r",
      "[Stage 558:>(21 + 3) / 24][Stage 559:>(4 + 20) / 24][Stage 560:> (0 + 1) / 24]\r"
     ]
    },
    {
     "name": "stderr",
     "output_type": "stream",
     "text": [
      "\r",
      "[Stage 562:>(17 + 7) / 24][Stage 563:>(0 + 17) / 24][Stage 564:> (0 + 0) / 24]\r",
      "\r",
      "[Stage 566:>(1 + 23) / 24][Stage 567:> (0 + 1) / 24][Stage 568:> (0 + 0) / 24]\r"
     ]
    },
    {
     "name": "stderr",
     "output_type": "stream",
     "text": [
      "\r",
      "[Stage 569:>(17 + 7) / 24][Stage 570:>(0 + 19) / 24][Stage 571:> (0 + 0) / 24]\r",
      "\r",
      "[Stage 573:>(6 + 18) / 24][Stage 574:> (0 + 6) / 24][Stage 575:> (0 + 0) / 24]\r"
     ]
    },
    {
     "name": "stderr",
     "output_type": "stream",
     "text": [
      "\r",
      "[Stage 576:>(15 + 9) / 24][Stage 577:>(0 + 15) / 24][Stage 578:> (0 + 0) / 24]\r"
     ]
    },
    {
     "name": "stderr",
     "output_type": "stream",
     "text": [
      "24/10/20 04:13:23 WARN DAGScheduler: Broadcasting large task binary with size 3.6 MiB\n"
     ]
    },
    {
     "name": "stderr",
     "output_type": "stream",
     "text": [
      "\r",
      "[Stage 768:================>                                    (57 + 25) / 188]\r"
     ]
    },
    {
     "name": "stderr",
     "output_type": "stream",
     "text": [
      "\r",
      "[Stage 768:=======================>                             (82 + 27) / 188]\r",
      "\r",
      "[Stage 768:===============================>                    (114 + 25) / 188]\r"
     ]
    },
    {
     "name": "stderr",
     "output_type": "stream",
     "text": [
      "\r",
      "[Stage 768:=======================================>            (144 + 26) / 188]\r",
      "\r",
      "                                                                                \r"
     ]
    }
   ],
   "source": [
    "# escrita das tabelas em stage\n",
    "write_to_postgres(df_retorno_mensal, \"temp_retorno_mensal\")\n",
    "write_to_postgres(df_ativas, \"temp_captacao_mercado\")\n",
    "write_to_postgres(df_geral, \"temp_cadastro\")\n",
    "write_to_postgres(df_financeira, \"temp_financas\")\n",
    "write_to_postgres(df_mercado, \"temp_mercado\")\n",
    "write_to_postgres(df_dividendos, \"temp_dividendos\")\n",
    "write_to_postgres(df_valuation, \"temp_valuation\")"
   ]
  },
  {
   "cell_type": "code",
   "execution_count": 19,
   "id": "c3c0797c",
   "metadata": {
    "execution": {
     "iopub.execute_input": "2024-10-20T04:13:25.940802Z",
     "iopub.status.busy": "2024-10-20T04:13:25.940255Z",
     "iopub.status.idle": "2024-10-20T04:13:25.946717Z",
     "shell.execute_reply": "2024-10-20T04:13:25.946195Z"
    },
    "jupyter": {
     "source_hidden": true
    },
    "papermill": {
     "duration": 0.016763,
     "end_time": "2024-10-20T04:13:25.947672",
     "exception": false,
     "start_time": "2024-10-20T04:13:25.930909",
     "status": "completed"
    },
    "tags": []
   },
   "outputs": [],
   "source": [
    "def upsert_data(table_name, temp_table_name, key_columns):\n",
    "    try:\n",
    "        # Conectar ao PostgreSQL\n",
    "        connection = psycopg2.connect(**conn_params)\n",
    "        cursor = connection.cursor()\n",
    "        \n",
    "        # Definir o fuso horário da sessão para UTC-3\n",
    "        cursor.execute(\"SET TIME ZONE 'America/Sao_Paulo';\")\n",
    "\n",
    "        # Definir esquemas\n",
    "        schema_fact = \"paxpe\"\n",
    "        schema_stg = \"paxpestg\"\n",
    "        \n",
    "        # Obter todas as colunas da tabela\n",
    "        cursor.execute(f\"\"\"\n",
    "        SELECT column_name\n",
    "        FROM information_schema.columns\n",
    "        WHERE table_schema = '{schema_fact}' AND table_name = '{table_name}'\n",
    "        \"\"\")\n",
    "        all_columns = [row[0] for row in cursor.fetchall()]\n",
    "\n",
    "        # Identificar colunas não chave e colunas de referência\n",
    "        non_key_columns = [col for col in all_columns if col not in key_columns and col not in ['dt_ptcao', 'dthr_igtao']]\n",
    "        reference_columns = ['dthr_igtao']\n",
    "\n",
    "        # Construir a declaração SQL de atualização col1, col2\n",
    "        key_columns_str = ', '.join(key_columns)\n",
    "        update_set_non_key = ', '.join([\n",
    "            f\"{col} = EXCLUDED.{col}\" \n",
    "            for col in non_key_columns\n",
    "        ])\n",
    "        \n",
    "        # Atualizar apenas as colunas não-chave se houver uma mudança\n",
    "        where_condition = ' OR '.join([\n",
    "            f\"target.{col} IS DISTINCT FROM EXCLUDED.{col}\" \n",
    "            for col in non_key_columns\n",
    "        ])\n",
    "        \n",
    "        # Para atualizar as colunas de referência se houver uma atualização nas colunas não-chave\n",
    "        update_set_reference = ', '.join([\n",
    "            f\"{col} = EXCLUDED.{col}\" \n",
    "            for col in reference_columns\n",
    "        ])\n",
    "        \n",
    "        sql = f\"\"\"\n",
    "        INSERT INTO {schema_fact}.{table_name} \n",
    "        (SELECT * FROM {schema_stg}.{temp_table_name})\n",
    "        ON CONFLICT ({key_columns_str}) \n",
    "        DO UPDATE SET\n",
    "        {update_set_non_key},\n",
    "        {update_set_reference}\n",
    "        WHERE EXISTS (\n",
    "            SELECT 1\n",
    "            FROM {schema_fact}.{table_name} AS target\n",
    "            WHERE { ' AND '.join([f\"target.{key} = EXCLUDED.{key}\" for key in key_columns]) }\n",
    "            AND ({where_condition})\n",
    "        );\n",
    "        \"\"\"\n",
    "        \n",
    "        # Executar a declaração SQL de upsert\n",
    "        cursor.execute(sql)\n",
    "        connection.commit()\n",
    "        print(f\"Upsert de {schema_stg}.{temp_table_name} realizado para {schema_fact}.{table_name}.\")\n",
    "    \n",
    "    except Exception as e:\n",
    "        print(f\"Error: {e}\")\n",
    "    \n",
    "    finally:\n",
    "        if connection:\n",
    "            cursor.close()\n",
    "            connection.close()"
   ]
  },
  {
   "cell_type": "code",
   "execution_count": 20,
   "id": "fb53cd4d",
   "metadata": {
    "execution": {
     "iopub.execute_input": "2024-10-20T04:13:25.965927Z",
     "iopub.status.busy": "2024-10-20T04:13:25.965622Z",
     "iopub.status.idle": "2024-10-20T04:13:25.968966Z",
     "shell.execute_reply": "2024-10-20T04:13:25.968429Z"
    },
    "jupyter": {
     "source_hidden": true
    },
    "papermill": {
     "duration": 0.013942,
     "end_time": "2024-10-20T04:13:25.970092",
     "exception": false,
     "start_time": "2024-10-20T04:13:25.956150",
     "status": "completed"
    },
    "tags": []
   },
   "outputs": [],
   "source": [
    "# colunas chave para cada tabela\n",
    "key_columns_retorno_mensal = [\"ticker\", \"data\"]\n",
    "key_columns_cadastro = [\"ticker\"]\n",
    "key_columns_cap_mercado = [\"ticker\"]\n",
    "key_columns_financas = [\"ticker\"]\n",
    "key_columns_mercado = [\"ticker\"]\n",
    "key_columns_dividendos = [\"ticker\",\"data_exdividendo\"]\n",
    "key_columns_valuation = [\"ticker\"]"
   ]
  },
  {
   "cell_type": "code",
   "execution_count": 21,
   "id": "704cc3dc",
   "metadata": {
    "execution": {
     "iopub.execute_input": "2024-10-20T04:13:25.989201Z",
     "iopub.status.busy": "2024-10-20T04:13:25.988689Z",
     "iopub.status.idle": "2024-10-20T04:13:26.224298Z",
     "shell.execute_reply": "2024-10-20T04:13:26.223684Z"
    },
    "jupyter": {
     "source_hidden": true
    },
    "papermill": {
     "duration": 0.246603,
     "end_time": "2024-10-20T04:13:26.225392",
     "exception": false,
     "start_time": "2024-10-20T04:13:25.978789",
     "status": "completed"
    },
    "tags": []
   },
   "outputs": [
    {
     "name": "stdout",
     "output_type": "stream",
     "text": [
      "Upsert de paxpestg.temp_retorno_mensal realizado para paxpe.retorno_mensal.\n",
      "Upsert de paxpestg.temp_cadastro realizado para paxpe.cadastro.\n",
      "Upsert de paxpestg.temp_captacao_mercado realizado para paxpe.captacao_mercado.\n",
      "Upsert de paxpestg.temp_financas realizado para paxpe.financas.\n",
      "Upsert de paxpestg.temp_mercado realizado para paxpe.mercado.\n",
      "Upsert de paxpestg.temp_dividendos realizado para paxpe.dividendos.\n",
      "Upsert de paxpestg.temp_valuation realizado para paxpe.valuation.\n"
     ]
    }
   ],
   "source": [
    "# realiza o upsert\n",
    "upsert_data(\"retorno_mensal\", \"temp_retorno_mensal\", key_columns_retorno_mensal)\n",
    "upsert_data(\"cadastro\", \"temp_cadastro\", key_columns_cadastro)\n",
    "upsert_data(\"captacao_mercado\", \"temp_captacao_mercado\", key_columns_cap_mercado)\n",
    "upsert_data(\"financas\", \"temp_financas\", key_columns_financas)\n",
    "upsert_data(\"mercado\", \"temp_mercado\", key_columns_mercado)\n",
    "upsert_data(\"dividendos\", \"temp_dividendos\", key_columns_dividendos)\n",
    "upsert_data(\"valuation\", \"temp_valuation\", key_columns_valuation)"
   ]
  }
 ],
 "metadata": {
  "kernelspec": {
   "display_name": "Python 3",
   "language": "python",
   "name": "python3"
  },
  "language_info": {
   "codemirror_mode": {
    "name": "ipython",
    "version": 3
   },
   "file_extension": ".py",
   "mimetype": "text/x-python",
   "name": "python",
   "nbconvert_exporter": "python",
   "pygments_lexer": "ipython3",
   "version": "3.8.18"
  },
  "papermill": {
   "default_parameters": {},
   "duration": 166.980331,
   "end_time": "2024-10-20T04:13:28.852559",
   "environment_variables": {},
   "exception": null,
   "input_path": "/opt/airflow/dags/utils/paxpe.ipynb",
   "output_path": "/opt/airflow/dags/utils/paxpe_log.ipynb",
   "parameters": {},
   "start_time": "2024-10-20T04:10:41.872228",
   "version": "2.6.0"
  }
 },
 "nbformat": 4,
 "nbformat_minor": 5
}