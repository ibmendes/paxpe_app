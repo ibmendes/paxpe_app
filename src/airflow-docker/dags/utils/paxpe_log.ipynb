{
 "cells": [
  {
   "cell_type": "markdown",
   "id": "c6be314e",
   "metadata": {
    "papermill": {
     "duration": 0.006157,
     "end_time": "2024-10-13T18:35:31.734222",
     "exception": false,
     "start_time": "2024-10-13T18:35:31.728065",
     "status": "completed"
    },
    "tags": []
   },
   "source": [
    "# PAXPE - Ingestão de dados para banco de dados SQL do Azure usando serviços do Azure\n",
    "\n",
    "## Visão geral\n",
    "\n",
    "Este notebook demonstra como agendar um script Python para ingerir dados em um Banco de Dados SQL do Postgres, orquestrado pelo airflow.\n",
    "\n",
    "# Documentação do Processo de Criação de Tabelas com Dados do Yahoo Finance\n",
    "\n",
    "## Objetivo\n",
    "O objetivo deste processo é obter dados financeiros, de mercado, dividendos, valuation e informações gerais de empresas listadas na bolsa, utilizando a API do Yahoo Finance. Os dados são coletados para um ou mais tickers e organizados em DataFrames utilizando PySpark para garantir performance e escalabilidade, especialmente ao lidar com uma grande quantidade de tickers.\n",
    "\n",
    "1. **Coleta de Dados**: \n",
    "   - Para cada ticker fornecido, as informações relevantes foram extraídas da API do Yahoo Finance utilizando a biblioteca `yfinance`. Os dados foram organizados em dicionários para posterior conversão em DataFrames.\n",
    "\n",
    "2. **Criação dos DataFrames**:\n",
    "   - **Tabela Geral** (`df_geral`): Contém informações gerais da empresa, como setor, indústria, número de empregados, localização e resumo das atividades.\n",
    "   - **Tabela Financeira** (`df_financeira`): Contém dados financeiros da empresa, como capitalização de mercado, receita, lucro líquido, EBITDA, dívida total, entre outros.\n",
    "   - **Tabela de Mercado** (`df_mercado`): Inclui dados relacionados ao mercado, como preço atual, preço de abertura, volume de negociação, beta, entre outros.\n",
    "   - **Tabela de Dividendos** (`df_dividendos`): Contém informações sobre dividendos, incluindo taxa de dividendos, data ex-dividendo e índice de distribuição.\n",
    "   - **Tabela de Valuation** (`df_valuation`): Inclui dados de valuation da empresa, como índices P/E (Price to Earnings), P/B (Price to Book) e PEG (Price/Earnings to Growth).\n",
    "   - **Tabela de Retorno Mensal** (`df_retorno_mensal`): Retorno mensal da ação com base em preço da ação, dividendos e percentual\n",
    "\n",
    "## Considerações Finais\n",
    "Este processo permite a coleta eficiente e escalável de dados financeiros de várias empresas, facilitando análises complexas em grandes volumes de dados. O uso do PySpark garante que mesmo listas extensas de tickers possam ser processadas rapidamente, gerando tabelas estruturadas e prontas para análise.\n",
    "\n",
    "\n",
    "# Changelog\n",
    "\n",
    "| Responsável | Data       | Change Log                                                                                      |\n",
    "|-------------|------------|--------------------------------------------------------------------------------------------------|\n",
    "| IGOR MENDES | 10-08-24 | Criação do script em spark                   |\n",
    "| IGOR MENDES | 28-08-24 | Criação da logica de upsert com o postgresSQL                |\n"
   ]
  },
  {
   "cell_type": "code",
   "execution_count": 1,
   "id": "5ef1540b",
   "metadata": {
    "execution": {
     "iopub.execute_input": "2024-10-13T18:35:31.746045Z",
     "iopub.status.busy": "2024-10-13T18:35:31.745642Z",
     "iopub.status.idle": "2024-10-13T18:35:44.771814Z",
     "shell.execute_reply": "2024-10-13T18:35:44.771076Z"
    },
    "jupyter": {
     "source_hidden": true
    },
    "papermill": {
     "duration": 13.034484,
     "end_time": "2024-10-13T18:35:44.773691",
     "exception": false,
     "start_time": "2024-10-13T18:35:31.739207",
     "status": "completed"
    },
    "tags": []
   },
   "outputs": [
    {
     "name": "stdout",
     "output_type": "stream",
     "text": [
      "Defaulting to user installation because normal site-packages is not writeable\r\n"
     ]
    },
    {
     "name": "stdout",
     "output_type": "stream",
     "text": [
      "Requirement already satisfied: yahoofinance in /home/airflow/.local/lib/python3.8/site-packages (0.0.2)\r\n",
      "Requirement already satisfied: beautifulsoup4>=4.6.3 in /home/airflow/.local/lib/python3.8/site-packages (from yahoofinance) (4.12.2)\r\n",
      "Requirement already satisfied: pandas>=0.23.4 in /home/airflow/.local/lib/python3.8/site-packages (from yahoofinance) (2.0.3)\r\n",
      "Requirement already satisfied: requests>=2.20.1 in /home/airflow/.local/lib/python3.8/site-packages (from yahoofinance) (2.31.0)\r\n",
      "Requirement already satisfied: soupsieve>1.2 in /home/airflow/.local/lib/python3.8/site-packages (from beautifulsoup4>=4.6.3->yahoofinance) (2.5)\r\n"
     ]
    },
    {
     "name": "stdout",
     "output_type": "stream",
     "text": [
      "Requirement already satisfied: tzdata>=2022.1 in /home/airflow/.local/lib/python3.8/site-packages (from pandas>=0.23.4->yahoofinance) (2023.3)\r\n",
      "Requirement already satisfied: pytz>=2020.1 in /home/airflow/.local/lib/python3.8/site-packages (from pandas>=0.23.4->yahoofinance) (2023.3.post1)\r\n",
      "Requirement already satisfied: python-dateutil>=2.8.2 in /home/airflow/.local/lib/python3.8/site-packages (from pandas>=0.23.4->yahoofinance) (2.8.2)\r\n",
      "Requirement already satisfied: numpy>=1.20.3 in /home/airflow/.local/lib/python3.8/site-packages (from pandas>=0.23.4->yahoofinance) (1.24.4)\r\n",
      "Requirement already satisfied: idna<4,>=2.5 in /home/airflow/.local/lib/python3.8/site-packages (from requests>=2.20.1->yahoofinance) (3.4)\r\n",
      "Requirement already satisfied: urllib3<3,>=1.21.1 in /home/airflow/.local/lib/python3.8/site-packages (from requests>=2.20.1->yahoofinance) (1.26.18)\r\n",
      "Requirement already satisfied: charset-normalizer<4,>=2 in /home/airflow/.local/lib/python3.8/site-packages (from requests>=2.20.1->yahoofinance) (3.3.2)\r\n",
      "Requirement already satisfied: certifi>=2017.4.17 in /home/airflow/.local/lib/python3.8/site-packages (from requests>=2.20.1->yahoofinance) (2023.7.22)\r\n",
      "Requirement already satisfied: six>=1.5 in /home/airflow/.local/lib/python3.8/site-packages (from python-dateutil>=2.8.2->pandas>=0.23.4->yahoofinance) (1.16.0)\r\n"
     ]
    },
    {
     "name": "stdout",
     "output_type": "stream",
     "text": [
      "\r\n",
      "\u001b[1m[\u001b[0m\u001b[34;49mnotice\u001b[0m\u001b[1;39;49m]\u001b[0m\u001b[39;49m A new release of pip is available: \u001b[0m\u001b[31;49m23.0.1\u001b[0m\u001b[39;49m -> \u001b[0m\u001b[32;49m24.2\u001b[0m\r\n",
      "\u001b[1m[\u001b[0m\u001b[34;49mnotice\u001b[0m\u001b[1;39;49m]\u001b[0m\u001b[39;49m To update, run: \u001b[0m\u001b[32;49mpip install --upgrade pip\u001b[0m\r\n"
     ]
    },
    {
     "name": "stdout",
     "output_type": "stream",
     "text": [
      "Defaulting to user installation because normal site-packages is not writeable\r\n"
     ]
    },
    {
     "name": "stdout",
     "output_type": "stream",
     "text": [
      "Requirement already satisfied: yahooquery in /home/airflow/.local/lib/python3.8/site-packages (2.3.7)\r\n",
      "Requirement already satisfied: requests-futures<2.0.0,>=1.0.1 in /home/airflow/.local/lib/python3.8/site-packages (from yahooquery) (1.0.1)\r\n",
      "Requirement already satisfied: tqdm<5.0.0,>=4.65.0 in /home/airflow/.local/lib/python3.8/site-packages (from yahooquery) (4.66.5)\r\n",
      "Requirement already satisfied: pandas<3.0.0,>=2.0.3 in /home/airflow/.local/lib/python3.8/site-packages (from yahooquery) (2.0.3)\r\n",
      "Requirement already satisfied: beautifulsoup4<5.0.0,>=4.12.2 in /home/airflow/.local/lib/python3.8/site-packages (from yahooquery) (4.12.2)\r\n",
      "Requirement already satisfied: requests<3.0.0,>=2.31.0 in /home/airflow/.local/lib/python3.8/site-packages (from yahooquery) (2.31.0)\r\n",
      "Requirement already satisfied: lxml<5.0.0,>=4.9.3 in /home/airflow/.local/lib/python3.8/site-packages (from yahooquery) (4.9.3)\r\n",
      "Requirement already satisfied: soupsieve>1.2 in /home/airflow/.local/lib/python3.8/site-packages (from beautifulsoup4<5.0.0,>=4.12.2->yahooquery) (2.5)\r\n"
     ]
    },
    {
     "name": "stdout",
     "output_type": "stream",
     "text": [
      "Requirement already satisfied: numpy>=1.20.3 in /home/airflow/.local/lib/python3.8/site-packages (from pandas<3.0.0,>=2.0.3->yahooquery) (1.24.4)\r\n",
      "Requirement already satisfied: pytz>=2020.1 in /home/airflow/.local/lib/python3.8/site-packages (from pandas<3.0.0,>=2.0.3->yahooquery) (2023.3.post1)\r\n",
      "Requirement already satisfied: python-dateutil>=2.8.2 in /home/airflow/.local/lib/python3.8/site-packages (from pandas<3.0.0,>=2.0.3->yahooquery) (2.8.2)\r\n",
      "Requirement already satisfied: tzdata>=2022.1 in /home/airflow/.local/lib/python3.8/site-packages (from pandas<3.0.0,>=2.0.3->yahooquery) (2023.3)\r\n",
      "Requirement already satisfied: urllib3<3,>=1.21.1 in /home/airflow/.local/lib/python3.8/site-packages (from requests<3.0.0,>=2.31.0->yahooquery) (1.26.18)\r\n",
      "Requirement already satisfied: idna<4,>=2.5 in /home/airflow/.local/lib/python3.8/site-packages (from requests<3.0.0,>=2.31.0->yahooquery) (3.4)\r\n",
      "Requirement already satisfied: charset-normalizer<4,>=2 in /home/airflow/.local/lib/python3.8/site-packages (from requests<3.0.0,>=2.31.0->yahooquery) (3.3.2)\r\n",
      "Requirement already satisfied: certifi>=2017.4.17 in /home/airflow/.local/lib/python3.8/site-packages (from requests<3.0.0,>=2.31.0->yahooquery) (2023.7.22)\r\n"
     ]
    },
    {
     "name": "stdout",
     "output_type": "stream",
     "text": [
      "Requirement already satisfied: six>=1.5 in /home/airflow/.local/lib/python3.8/site-packages (from python-dateutil>=2.8.2->pandas<3.0.0,>=2.0.3->yahooquery) (1.16.0)\r\n"
     ]
    },
    {
     "name": "stdout",
     "output_type": "stream",
     "text": [
      "\r\n",
      "\u001b[1m[\u001b[0m\u001b[34;49mnotice\u001b[0m\u001b[1;39;49m]\u001b[0m\u001b[39;49m A new release of pip is available: \u001b[0m\u001b[31;49m23.0.1\u001b[0m\u001b[39;49m -> \u001b[0m\u001b[32;49m24.2\u001b[0m\r\n",
      "\u001b[1m[\u001b[0m\u001b[34;49mnotice\u001b[0m\u001b[1;39;49m]\u001b[0m\u001b[39;49m To update, run: \u001b[0m\u001b[32;49mpip install --upgrade pip\u001b[0m\r\n"
     ]
    },
    {
     "name": "stdout",
     "output_type": "stream",
     "text": [
      "Defaulting to user installation because normal site-packages is not writeable\r\n"
     ]
    },
    {
     "name": "stdout",
     "output_type": "stream",
     "text": [
      "Requirement already satisfied: yfinance in /home/airflow/.local/lib/python3.8/site-packages (0.2.43)\r\n",
      "Requirement already satisfied: beautifulsoup4>=4.11.1 in /home/airflow/.local/lib/python3.8/site-packages (from yfinance) (4.12.2)\r\n",
      "Requirement already satisfied: html5lib>=1.1 in /home/airflow/.local/lib/python3.8/site-packages (from yfinance) (1.1)\r\n",
      "Requirement already satisfied: pandas>=1.3.0 in /home/airflow/.local/lib/python3.8/site-packages (from yfinance) (2.0.3)\r\n",
      "Requirement already satisfied: frozendict>=2.3.4 in /home/airflow/.local/lib/python3.8/site-packages (from yfinance) (2.4.4)\r\n",
      "Requirement already satisfied: requests>=2.31 in /home/airflow/.local/lib/python3.8/site-packages (from yfinance) (2.31.0)\r\n",
      "Requirement already satisfied: pytz>=2022.5 in /home/airflow/.local/lib/python3.8/site-packages (from yfinance) (2023.3.post1)\r\n",
      "Requirement already satisfied: lxml>=4.9.1 in /home/airflow/.local/lib/python3.8/site-packages (from yfinance) (4.9.3)\r\n",
      "Requirement already satisfied: numpy>=1.16.5 in /home/airflow/.local/lib/python3.8/site-packages (from yfinance) (1.24.4)\r\n",
      "Requirement already satisfied: peewee>=3.16.2 in /home/airflow/.local/lib/python3.8/site-packages (from yfinance) (3.17.6)\r\n",
      "Requirement already satisfied: multitasking>=0.0.7 in /home/airflow/.local/lib/python3.8/site-packages (from yfinance) (0.0.11)\r\n",
      "Requirement already satisfied: platformdirs>=2.0.0 in /home/airflow/.local/lib/python3.8/site-packages (from yfinance) (3.11.0)\r\n",
      "Requirement already satisfied: soupsieve>1.2 in /home/airflow/.local/lib/python3.8/site-packages (from beautifulsoup4>=4.11.1->yfinance) (2.5)\r\n",
      "Requirement already satisfied: six>=1.9 in /home/airflow/.local/lib/python3.8/site-packages (from html5lib>=1.1->yfinance) (1.16.0)\r\n",
      "Requirement already satisfied: webencodings in /home/airflow/.local/lib/python3.8/site-packages (from html5lib>=1.1->yfinance) (0.5.1)\r\n"
     ]
    },
    {
     "name": "stdout",
     "output_type": "stream",
     "text": [
      "Requirement already satisfied: tzdata>=2022.1 in /home/airflow/.local/lib/python3.8/site-packages (from pandas>=1.3.0->yfinance) (2023.3)\r\n",
      "Requirement already satisfied: python-dateutil>=2.8.2 in /home/airflow/.local/lib/python3.8/site-packages (from pandas>=1.3.0->yfinance) (2.8.2)\r\n",
      "Requirement already satisfied: certifi>=2017.4.17 in /home/airflow/.local/lib/python3.8/site-packages (from requests>=2.31->yfinance) (2023.7.22)\r\n",
      "Requirement already satisfied: idna<4,>=2.5 in /home/airflow/.local/lib/python3.8/site-packages (from requests>=2.31->yfinance) (3.4)\r\n",
      "Requirement already satisfied: charset-normalizer<4,>=2 in /home/airflow/.local/lib/python3.8/site-packages (from requests>=2.31->yfinance) (3.3.2)\r\n",
      "Requirement already satisfied: urllib3<3,>=1.21.1 in /home/airflow/.local/lib/python3.8/site-packages (from requests>=2.31->yfinance) (1.26.18)\r\n"
     ]
    },
    {
     "name": "stdout",
     "output_type": "stream",
     "text": [
      "\r\n",
      "\u001b[1m[\u001b[0m\u001b[34;49mnotice\u001b[0m\u001b[1;39;49m]\u001b[0m\u001b[39;49m A new release of pip is available: \u001b[0m\u001b[31;49m23.0.1\u001b[0m\u001b[39;49m -> \u001b[0m\u001b[32;49m24.2\u001b[0m\r\n",
      "\u001b[1m[\u001b[0m\u001b[34;49mnotice\u001b[0m\u001b[1;39;49m]\u001b[0m\u001b[39;49m To update, run: \u001b[0m\u001b[32;49mpip install --upgrade pip\u001b[0m\r\n"
     ]
    },
    {
     "name": "stdout",
     "output_type": "stream",
     "text": [
      "Defaulting to user installation because normal site-packages is not writeable\r\n"
     ]
    },
    {
     "name": "stdout",
     "output_type": "stream",
     "text": [
      "Requirement already satisfied: psycopg2-binary in /home/airflow/.local/lib/python3.8/site-packages (2.9.9)\r\n"
     ]
    },
    {
     "name": "stdout",
     "output_type": "stream",
     "text": [
      "\r\n",
      "\u001b[1m[\u001b[0m\u001b[34;49mnotice\u001b[0m\u001b[1;39;49m]\u001b[0m\u001b[39;49m A new release of pip is available: \u001b[0m\u001b[31;49m23.0.1\u001b[0m\u001b[39;49m -> \u001b[0m\u001b[32;49m24.2\u001b[0m\r\n",
      "\u001b[1m[\u001b[0m\u001b[34;49mnotice\u001b[0m\u001b[1;39;49m]\u001b[0m\u001b[39;49m To update, run: \u001b[0m\u001b[32;49mpip install --upgrade pip\u001b[0m\r\n"
     ]
    }
   ],
   "source": [
    "#fontes - yahoo finance api\n",
    "!pip install yahoofinance\n",
    "!pip install yahooquery\n",
    "!pip install yfinance\n",
    "\n",
    "\n",
    "!pip install psycopg2-binary\n"
   ]
  },
  {
   "cell_type": "code",
   "execution_count": 2,
   "id": "73d76293",
   "metadata": {
    "execution": {
     "iopub.execute_input": "2024-10-13T18:35:44.786671Z",
     "iopub.status.busy": "2024-10-13T18:35:44.786112Z",
     "iopub.status.idle": "2024-10-13T18:35:47.407494Z",
     "shell.execute_reply": "2024-10-13T18:35:47.406662Z"
    },
    "jupyter": {
     "source_hidden": true
    },
    "papermill": {
     "duration": 2.629221,
     "end_time": "2024-10-13T18:35:47.408749",
     "exception": false,
     "start_time": "2024-10-13T18:35:44.779528",
     "status": "completed"
    },
    "tags": []
   },
   "outputs": [
    {
     "name": "stderr",
     "output_type": "stream",
     "text": [
      "/home/airflow/.local/lib/python3.8/site-packages/pyspark/bin/load-spark-env.sh: line 68: ps: command not found\n"
     ]
    },
    {
     "name": "stderr",
     "output_type": "stream",
     "text": [
      "24/10/13 18:35:46 WARN NativeCodeLoader: Unable to load native-hadoop library for your platform... using builtin-java classes where applicable\n",
      "Setting default log level to \"WARN\".\n",
      "To adjust logging level use sc.setLogLevel(newLevel). For SparkR, use setLogLevel(newLevel).\n"
     ]
    },
    {
     "name": "stderr",
     "output_type": "stream",
     "text": [
      "24/10/13 18:35:46 WARN Utils: Service 'SparkUI' could not bind on port 4040. Attempting port 4041.\n"
     ]
    },
    {
     "data": {
      "text/html": [
       "\n",
       "            <div>\n",
       "                <p><b>SparkSession - in-memory</b></p>\n",
       "                \n",
       "        <div>\n",
       "            <p><b>SparkContext</b></p>\n",
       "\n",
       "            <p><a href=\"http://b4f1ef4dd1a1:4041\">Spark UI</a></p>\n",
       "\n",
       "            <dl>\n",
       "              <dt>Version</dt>\n",
       "                <dd><code>v3.5.2</code></dd>\n",
       "              <dt>Master</dt>\n",
       "                <dd><code>local[*]</code></dd>\n",
       "              <dt>AppName</dt>\n",
       "                <dd><code>PAXPE</code></dd>\n",
       "            </dl>\n",
       "        </div>\n",
       "        \n",
       "            </div>\n",
       "        "
      ],
      "text/plain": [
       "<pyspark.sql.session.SparkSession at 0x7f73749584f0>"
      ]
     },
     "execution_count": 2,
     "metadata": {},
     "output_type": "execute_result"
    }
   ],
   "source": [
    "import findspark\n",
    "findspark.init()  # Inicializa o Spark\n",
    "findspark.find()  # Verifica se o Spark está corretamente configurado\n",
    "\n",
    "from pyspark import SparkContext, SparkConf\n",
    "from pyspark.sql import SparkSession\n",
    "\n",
    "spark = (\n",
    "    SparkSession\n",
    "    .builder\n",
    "    .appName(\"PAXPE\")\n",
    "    .config(\"spark.sql.session.timeZone\", \"America/Sao_Paulo\")  # Define o fuso horário para São Paulo\n",
    "    .config(\"spark.driver.memory\", \"16g\")  # Memória do driver\n",
    "    .config(\"spark.executor.memory\", \"12g\")  # Memória para cada executor (ajuste conforme a carga)\n",
    "    .config(\"spark.executor.cores\", \"8\")  # Núcleos por executor\n",
    "    .config(\"spark.cores.max\", \"24\")  # Total de núcleos disponíveis\n",
    "    .config(\"spark.dynamicAllocation.enabled\", \"true\")\n",
    "    .config(\"spark.dynamicAllocation.minExecutors\", \"2\")\n",
    "    .config(\"spark.dynamicAllocation.maxExecutors\", \"10\")\n",
    "    .config(\"spark.dynamicAllocation.initialExecutors\", \"4\")\n",
    "    .config(\"spark.default.parallelism\", \"24\")  # Nível de paralelismo\n",
    "    .config(\"spark.memory.fraction\", \"0.8\")  # Memória usada para armazenamento e execução\n",
    "    .config(\"spark.memory.storageFraction\", \"0.5\")  # Memória usada para armazenamento\n",
    "    .config(\"spark.jars\", \"/opt/airflow/jars/postgresql-42.7.4.jar\")\n",
    "    .getOrCreate()\n",
    ")\n",
    "\n",
    "\n",
    "spark"
   ]
  },
  {
   "cell_type": "code",
   "execution_count": 3,
   "id": "27771520",
   "metadata": {
    "execution": {
     "iopub.execute_input": "2024-10-13T18:35:47.421886Z",
     "iopub.status.busy": "2024-10-13T18:35:47.421516Z",
     "iopub.status.idle": "2024-10-13T18:35:47.765204Z",
     "shell.execute_reply": "2024-10-13T18:35:47.764599Z"
    },
    "jupyter": {
     "source_hidden": true
    },
    "papermill": {
     "duration": 0.351778,
     "end_time": "2024-10-13T18:35:47.766454",
     "exception": false,
     "start_time": "2024-10-13T18:35:47.414676",
     "status": "completed"
    },
    "tags": []
   },
   "outputs": [],
   "source": [
    "import pandas as pd\n",
    "\n",
    "import yfinance as yf\n",
    "from yfinance import Ticker\n",
    "#api yahoo\n",
    "from yahooquery import Screener, Ticker\n",
    "\n",
    "\n",
    "#criar timestamps e automatizar a safra de tempo da análise\n",
    "# apagar depois que tiver usando a api do spark sql\n",
    "from datetime import datetime, timedelta\n",
    "\n",
    "from pyspark.sql.functions import col, lit, when, lag, current_timestamp , date_format, from_utc_timestamp\n",
    "from pyspark.sql.types import StructType, StructField, StringType, FloatType, LongType, DateType, DoubleType,IntegerType\n",
    "from pyspark.sql.window import Window\n",
    "\n",
    "\n",
    "import psycopg2\n",
    "from psycopg2 import OperationalError\n",
    "import sys\n"
   ]
  },
  {
   "cell_type": "code",
   "execution_count": 4,
   "id": "b457cba9",
   "metadata": {
    "execution": {
     "iopub.execute_input": "2024-10-13T18:35:47.779512Z",
     "iopub.status.busy": "2024-10-13T18:35:47.779100Z",
     "iopub.status.idle": "2024-10-13T18:35:47.784642Z",
     "shell.execute_reply": "2024-10-13T18:35:47.784013Z"
    },
    "jupyter": {
     "source_hidden": true
    },
    "papermill": {
     "duration": 0.013481,
     "end_time": "2024-10-13T18:35:47.785927",
     "exception": false,
     "start_time": "2024-10-13T18:35:47.772446",
     "status": "completed"
    },
    "tags": []
   },
   "outputs": [],
   "source": [
    "def obter_empresas_ativas():\n",
    "    screener = Screener()\n",
    "    dados = screener.get_screeners('most_actives', count=200)\n",
    "    # print(dados)  # Linha de depuração para inspecionar a estrutura dos dados retornados\n",
    "    empresas = dados['most_actives']['quotes']\n",
    "    \n",
    "    # Criar um DataFrame a partir dos dados\n",
    "    df = spark.createDataFrame(empresas)\n",
    "    \n",
    "    # Colunas para corresponder ao site\n",
    "    colunas = [\n",
    "        'symbol', 'shortName', 'displayName', 'regularMarketPrice', 'regularMarketChange', \n",
    "        'regularMarketChangePercent', 'regularMarketVolume', 'marketCap', \n",
    "        'fullExchangeName', 'quoteSourceName'\n",
    "    ]\n",
    "    df = df.select(*colunas)\n",
    "    \n",
    "    # Renomear colunas para português\n",
    "    df = df.withColumnRenamed('symbol', 'ticker') \\\n",
    "           .withColumnRenamed('shortName', 'nome_curto') \\\n",
    "           .withColumnRenamed('displayName', 'nome_exibicao') \\\n",
    "           .withColumnRenamed('regularMarketPrice', 'preco_mercado_regular') \\\n",
    "           .withColumnRenamed('regularMarketChange', 'mudanca_mercado_regular') \\\n",
    "           .withColumnRenamed('regularMarketChangePercent', 'mudanca_percentual_mercado_regular') \\\n",
    "           .withColumnRenamed('regularMarketVolume', 'volume_mercado_regular') \\\n",
    "           .withColumnRenamed('marketCap', 'capitalizacao_mercado') \\\n",
    "           .withColumnRenamed('fullExchangeName', 'nome_exchange_completa') \\\n",
    "           .withColumnRenamed('quoteSourceName', 'nome_fonte_cotacao')\n",
    "    \n",
    "    # Adicionar coluna com data e hora atual\n",
    "    df = df.withColumn('dt_ptcao', date_format(current_timestamp(), 'yyyy-MM-dd'))\n",
    "    df = df.withColumn('dthr_igtao', current_timestamp())\n",
    "    \n",
    "    # Garantir que 'ticker' não tenha valores nulos\n",
    "    df = df.withColumn('ticker', col('ticker').cast('string'))\n",
    "    df = df.dropna(subset=['ticker'])\n",
    "\n",
    "    # Ordenar por capitalizacaoMercado\n",
    "    df = df.orderBy(col('capitalizacao_mercado').desc())\n",
    "    \n",
    "    return df"
   ]
  },
  {
   "cell_type": "code",
   "execution_count": 5,
   "id": "c3f212bc",
   "metadata": {
    "execution": {
     "iopub.execute_input": "2024-10-13T18:35:47.799223Z",
     "iopub.status.busy": "2024-10-13T18:35:47.798623Z",
     "iopub.status.idle": "2024-10-13T18:35:47.802190Z",
     "shell.execute_reply": "2024-10-13T18:35:47.801523Z"
    },
    "jupyter": {
     "source_hidden": true
    },
    "papermill": {
     "duration": 0.01142,
     "end_time": "2024-10-13T18:35:47.803317",
     "exception": false,
     "start_time": "2024-10-13T18:35:47.791897",
     "status": "completed"
    },
    "tags": []
   },
   "outputs": [],
   "source": [
    "def obter_dados_historicos(symbols, start_date, end_date):\n",
    "    dados = {}\n",
    "    for symbol in symbols:\n",
    "        ticker = yf.Ticker(symbol)\n",
    "        historico = ticker.history(start=start_date, end=end_date, interval='1mo')\n",
    "        dados[symbol] = historico\n",
    "    \n",
    "    return dados"
   ]
  },
  {
   "cell_type": "code",
   "execution_count": 6,
   "id": "0e04fb70",
   "metadata": {
    "execution": {
     "iopub.execute_input": "2024-10-13T18:35:47.816531Z",
     "iopub.status.busy": "2024-10-13T18:35:47.816222Z",
     "iopub.status.idle": "2024-10-13T18:35:47.820498Z",
     "shell.execute_reply": "2024-10-13T18:35:47.819980Z"
    },
    "jupyter": {
     "source_hidden": true
    },
    "papermill": {
     "duration": 0.011896,
     "end_time": "2024-10-13T18:35:47.821423",
     "exception": false,
     "start_time": "2024-10-13T18:35:47.809527",
     "status": "completed"
    },
    "tags": []
   },
   "outputs": [],
   "source": [
    "\n",
    "from concurrent.futures import ThreadPoolExecutor, as_completed\n",
    "\n",
    "def obter_dados_historicos_ticker(symbol, start_date, end_date):\n",
    "    ticker = yf.Ticker(symbol)\n",
    "    historico = ticker.history(start=start_date, end=end_date, interval='1mo')\n",
    "    return (symbol, historico)\n",
    "\n",
    "def obter_dados_historicos(symbols, start_date, end_date):\n",
    "    dados = {}\n",
    "    \n",
    "    # Usar ThreadPoolExecutor para executar as solicitações em paralelo\n",
    "    with ThreadPoolExecutor(max_workers=10) as executor:\n",
    "        # Submit tarefas para o executor\n",
    "        futuros = [executor.submit(obter_dados_historicos_ticker, symbol, start_date, end_date) for symbol in symbols]\n",
    "        \n",
    "        # Coletar os resultados conforme as tarefas são concluídas\n",
    "        for futuro in as_completed(futuros):\n",
    "            symbol, historico = futuro.result()\n",
    "            dados[symbol] = historico\n",
    "    \n",
    "    return dados"
   ]
  },
  {
   "cell_type": "code",
   "execution_count": 7,
   "id": "a88a44ed",
   "metadata": {
    "execution": {
     "iopub.execute_input": "2024-10-13T18:35:47.833186Z",
     "iopub.status.busy": "2024-10-13T18:35:47.832722Z",
     "iopub.status.idle": "2024-10-13T18:35:47.839200Z",
     "shell.execute_reply": "2024-10-13T18:35:47.838546Z"
    },
    "jupyter": {
     "source_hidden": true
    },
    "papermill": {
     "duration": 0.013436,
     "end_time": "2024-10-13T18:35:47.840298",
     "exception": false,
     "start_time": "2024-10-13T18:35:47.826862",
     "status": "completed"
    },
    "tags": []
   },
   "outputs": [],
   "source": [
    "def retorno_mensal(dados):\n",
    "    # Inicializar uma lista vazia para armazenar dados estruturados\n",
    "    dados_estruturados = []\n",
    "    \n",
    "    # Iterar sobre os dados históricos de cada símbolo\n",
    "    for symbol, df in dados.items():\n",
    "        # Converter DataFrame do Pandas para PySpark\n",
    "        df['symbol'] = symbol\n",
    "\n",
    "        df_spark = spark.createDataFrame(df.reset_index())\n",
    "        \n",
    "        \n",
    "        # Renomear colunas para português\n",
    "        df_spark = df_spark.withColumnRenamed('symbol', 'ticker') \\\n",
    "                        .withColumnRenamed('Date', 'data') \\\n",
    "                        .withColumnRenamed('Open', 'abertura') \\\n",
    "                        .withColumnRenamed('High', 'alta') \\\n",
    "                        .withColumnRenamed('Low', 'baixa') \\\n",
    "                        .withColumnRenamed('Close', 'fechamento') \\\n",
    "                        .withColumnRenamed('Volume', 'volume') \\\n",
    "                        .withColumnRenamed('Dividends', 'dividendos') \\\n",
    "                        .withColumnRenamed('Stock Splits', 'desdobramentos')\n",
    "\n",
    "        janela = Window.partitionBy('ticker').orderBy('Data')\n",
    "\n",
    "\n",
    "        # Calcular preço de fechamento do mês anterior (deslocar uma linha para cima)\n",
    "        df_spark = df_spark.withColumn('fechamento_mes_anterior', lag('fechamento').over(janela))\n",
    "\n",
    "        # Calcular Retorno em valor (diferença absoluta)\n",
    "        df_spark = df_spark.withColumn('valor_retorno', col('fechamento') - col('fechamento_mes_anterior'))\n",
    "\n",
    "        # Calcular Retorno em porcentagem\n",
    "        df_spark = df_spark.withColumn('porcentagem_retorno', (col('valor_retorno') / col('fechamento_mes_anterior')) * 100)\n",
    "\n",
    "        # Adicionar coluna com data atual no formato desejado\n",
    "        df_spark = df_spark.withColumn('dt_ptcao', date_format(current_timestamp(), 'yyyy-MM-dd'))\n",
    "        df_spark = df_spark.withColumn('dthr_igtao', current_timestamp())\n",
    "\n",
    "        # Reordenar colunas\n",
    "        df_spark = df_spark.select(\n",
    "            'ticker',               # 'symbol' traduzido para 'ticker'\n",
    "            'data',                 # 'date' traduzido para 'Data'\n",
    "            'abertura',             # 'open' traduzido para 'Abertura'\n",
    "            'alta',                 # 'high' traduzido para 'Alta'\n",
    "            'baixa',                # 'low' traduzido para 'Baixa'\n",
    "            'fechamento',           # 'close' traduzido para 'Fechamento'\n",
    "            'volume',               # 'volume' mantido como 'Volume'\n",
    "            'dividendos',           # 'dividends' traduzido para 'Dividendos'\n",
    "            'desdobramentos',       # 'splits' traduzido para 'Desdobramentos'\n",
    "            'fechamento_mes_anterior', # 'Close_Last_Month' traduzido para 'Fechamento_Mes_Anterior'\n",
    "            'valor_retorno',        # 'Return_Value' traduzido para 'Valor_Retorno'\n",
    "            'porcentagem_retorno',  # 'Return_Percentage' traduzido para 'Porcentagem_Retorno'\n",
    "            'dt_ptcao',             # 'dt_ptcao' mantido como está\n",
    "            'dthr_igtao'            # 'DTHR_IGTAO' mantido como está\n",
    "        )\n",
    "        \n",
    "        # Adicionar o DataFrame à lista de dados estruturados\n",
    "        dados_estruturados.append(df_spark)\n",
    "\n",
    "    # Unir todos os DataFrames em um único DataFrame\n",
    "    df_final = dados_estruturados[0]\n",
    "    for df in dados_estruturados[1:]:\n",
    "        df_final = df_final.union(df)\n",
    "    \n",
    "    return df_final"
   ]
  },
  {
   "cell_type": "markdown",
   "id": "c4c9b74f",
   "metadata": {
    "papermill": {
     "duration": 0.005473,
     "end_time": "2024-10-13T18:35:47.851563",
     "exception": false,
     "start_time": "2024-10-13T18:35:47.846090",
     "status": "completed"
    },
    "tags": []
   },
   "source": [
    "# Tabela fato -  maiores empresas segundo a api do yahoo finance"
   ]
  },
  {
   "cell_type": "code",
   "execution_count": 8,
   "id": "16e49014",
   "metadata": {
    "execution": {
     "iopub.execute_input": "2024-10-13T18:35:47.863644Z",
     "iopub.status.busy": "2024-10-13T18:35:47.863102Z",
     "iopub.status.idle": "2024-10-13T18:35:53.363590Z",
     "shell.execute_reply": "2024-10-13T18:35:53.363001Z"
    },
    "jupyter": {
     "source_hidden": true
    },
    "papermill": {
     "duration": 5.507616,
     "end_time": "2024-10-13T18:35:53.364675",
     "exception": false,
     "start_time": "2024-10-13T18:35:47.857059",
     "status": "completed"
    },
    "tags": []
   },
   "outputs": [
    {
     "name": "stderr",
     "output_type": "stream",
     "text": [
      "24/10/13 18:35:51 WARN SparkStringUtils: Truncated the string representation of a plan since it was too large. This behavior can be adjusted by setting 'spark.sql.debug.maxToStringFields'.\n"
     ]
    },
    {
     "name": "stderr",
     "output_type": "stream",
     "text": [
      "\r",
      "[Stage 0:>                                                        (0 + 24) / 24]\r"
     ]
    },
    {
     "name": "stderr",
     "output_type": "stream",
     "text": [
      "\r",
      "                                                                                \r"
     ]
    },
    {
     "name": "stdout",
     "output_type": "stream",
     "text": [
      "+------+--------------------+--------------------+---------------------+-----------------------+----------------------------------+----------------------+---------------------+----------------------+--------------------+----------+--------------------+\n",
      "|ticker|          nome_curto|       nome_exibicao|preco_mercado_regular|mudanca_mercado_regular|mudanca_percentual_mercado_regular|volume_mercado_regular|capitalizacao_mercado|nome_exchange_completa|  nome_fonte_cotacao|  dt_ptcao|          dthr_igtao|\n",
      "+------+--------------------+--------------------+---------------------+-----------------------+----------------------------------+----------------------+---------------------+----------------------+--------------------+----------+--------------------+\n",
      "|  AAPL|          Apple Inc.|               Apple|               227.55|             -1.4899902|                       -0.65053713|              31759188|        3459693150208|              NasdaqGS|Nasdaq Real Time ...|2024-10-13|2024-10-13 15:35:...|\n",
      "|  NVDA|  NVIDIA Corporation|              NVIDIA|                134.8|           -0.009994507|                      -0.007413773|             170209474|        3306644045824|              NasdaqGS|Nasdaq Real Time ...|2024-10-13|2024-10-13 15:35:...|\n",
      "|  MSFT|Microsoft Corpora...|           Microsoft|               416.32|               0.480011|                        0.11543166|              14144944|        3094523150336|              NasdaqGS|Nasdaq Real Time ...|2024-10-13|2024-10-13 15:35:...|\n",
      "|  GOOG|       Alphabet Inc.|            Alphabet|               164.52|              1.3400116|                        0.82118624|              10945971|        2016636829696|              NasdaqGS|Nasdaq Real Time ...|2024-10-13|2024-10-13 15:35:...|\n",
      "| GOOGL|       Alphabet Inc.|                NULL|               163.24|              1.1600037|                         0.7156982|              15344251|        2016634470400|              NasdaqGS|Nasdaq Real Time ...|2024-10-13|2024-10-13 15:35:...|\n",
      "|  AMZN|    Amazon.com, Inc.|          Amazon.com|               188.82|              2.1700134|                          1.162611|              25751557|        1981779148800|              NasdaqGS|Nasdaq Real Time ...|2024-10-13|2024-10-13 15:35:...|\n",
      "|  META|Meta Platforms, Inc.|      Meta Platforms|               589.95|               6.119995|                         1.0482495|               8587051|        1492467318784|              NasdaqGS|Nasdaq Real Time ...|2024-10-13|2024-10-13 15:35:...|\n",
      "|   TSM|Taiwan Semiconduc...|Taiwan Semiconduc...|               190.81|                   5.03|                            2.7075|              12130677|         989555851264|                  NYSE|Nasdaq Real Time ...|2024-10-13|2024-10-13 15:35:...|\n",
      "|  AVGO|       Broadcom Inc.|            Broadcom|               181.48|             -4.2100067|                        -2.2672231|              23070023|         847616868352|              NasdaqGS|Nasdaq Real Time ...|2024-10-13|2024-10-13 15:35:...|\n",
      "|  TSLA|         Tesla, Inc.|               Tesla|                217.8|             -20.970001|                         -8.782511|             142628874|         695792566272|              NasdaqGS|Nasdaq Real Time ...|2024-10-13|2024-10-13 15:35:...|\n",
      "|   WMT|        Walmart Inc.|             Walmart|                 80.1|               0.489998|                          0.615498|               7176423|         643863805952|                  NYSE|       Delayed Quote|2024-10-13|2024-10-13 15:35:...|\n",
      "|   JPM|JP Morgan Chase &...|    JPMorgan Chase &|               222.29|                   9.45|                           4.43995|              16243847|         625813028864|                  NYSE|Nasdaq Real Time ...|2024-10-13|2024-10-13 15:35:...|\n",
      "|   XOM|Exxon Mobil Corpo...|         Exxon Mobil|               123.61|               0.470001|                           0.38168|               8162025|         549178212352|                  NYSE|       Delayed Quote|2024-10-13|2024-10-13 15:35:...|\n",
      "|  ORCL|  Oracle Corporation|              Oracle|               175.77|               0.360001|                          0.205234|               4834668|         487069220864|                  NYSE|       Delayed Quote|2024-10-13|2024-10-13 15:35:...|\n",
      "|    PG|Procter & Gamble ...|                NULL|               171.09|                   2.14|                           1.26665|               4365893|         402011881472|                  NYSE|       Delayed Quote|2024-10-13|2024-10-13 15:35:...|\n",
      "|   JNJ|   Johnson & Johnson|                NULL|               161.46|               0.950012|                          0.591871|               5252195|         388672978944|                  NYSE|Nasdaq Real Time ...|2024-10-13|2024-10-13 15:35:...|\n",
      "|   BAC|Bank of America C...|     Bank of America|                41.95|                   1.98|                           4.95371|              50569983|         325514395648|                  NYSE|       Delayed Quote|2024-10-13|2024-10-13 15:35:...|\n",
      "|    KO|Coca-Cola Company...|                NULL|                69.57|                   0.32|                          0.462093|               5790909|         299837652992|                  NYSE|       Delayed Quote|2024-10-13|2024-10-13 15:35:...|\n",
      "|   MRK|Merck & Company, ...|             Merck &|               109.73|               0.330002|                          0.301647|               8572149|         278144712704|                  NYSE|Nasdaq Real Time ...|2024-10-13|2024-10-13 15:35:...|\n",
      "|   AMD|Advanced Micro De...|Advanced Micro De...|               167.89|              3.7100067|                         2.2597191|              42136175|         271726608384|              NasdaqGS|Nasdaq Real Time ...|2024-10-13|2024-10-13 15:35:...|\n",
      "+------+--------------------+--------------------+---------------------+-----------------------+----------------------------------+----------------------+---------------------+----------------------+--------------------+----------+--------------------+\n",
      "only showing top 20 rows\n",
      "\n",
      "root\n",
      " |-- ticker: string (nullable = true)\n",
      " |-- nome_curto: string (nullable = true)\n",
      " |-- nome_exibicao: string (nullable = true)\n",
      " |-- preco_mercado_regular: double (nullable = true)\n",
      " |-- mudanca_mercado_regular: double (nullable = true)\n",
      " |-- mudanca_percentual_mercado_regular: double (nullable = true)\n",
      " |-- volume_mercado_regular: long (nullable = true)\n",
      " |-- capitalizacao_mercado: long (nullable = true)\n",
      " |-- nome_exchange_completa: string (nullable = true)\n",
      " |-- nome_fonte_cotacao: string (nullable = true)\n",
      " |-- dt_ptcao: string (nullable = false)\n",
      " |-- dthr_igtao: timestamp (nullable = false)\n",
      "\n"
     ]
    }
   ],
   "source": [
    "df_ativas = obter_empresas_ativas()\n",
    "\n",
    "df_ativas.show()\n",
    "df_ativas.printSchema()"
   ]
  },
  {
   "cell_type": "markdown",
   "id": "ec9740af",
   "metadata": {
    "papermill": {
     "duration": 0.005734,
     "end_time": "2024-10-13T18:35:53.376453",
     "exception": false,
     "start_time": "2024-10-13T18:35:53.370719",
     "status": "completed"
    },
    "tags": []
   },
   "source": [
    "# Dimensão - Retornos mensais 10 anos"
   ]
  },
  {
   "cell_type": "code",
   "execution_count": 9,
   "id": "6ea8eab8",
   "metadata": {
    "execution": {
     "iopub.execute_input": "2024-10-13T18:35:53.389155Z",
     "iopub.status.busy": "2024-10-13T18:35:53.388644Z",
     "iopub.status.idle": "2024-10-13T18:35:53.392225Z",
     "shell.execute_reply": "2024-10-13T18:35:53.391705Z"
    },
    "jupyter": {
     "source_hidden": true
    },
    "papermill": {
     "duration": 0.011022,
     "end_time": "2024-10-13T18:35:53.393230",
     "exception": false,
     "start_time": "2024-10-13T18:35:53.382208",
     "status": "completed"
    },
    "tags": []
   },
   "outputs": [
    {
     "name": "stdout",
     "output_type": "stream",
     "text": [
      "start_date: 2014-10-16\n",
      "end_date: 2024-10-13\n"
     ]
    }
   ],
   "source": [
    "# 10 anos passados\n",
    "start_date = datetime.today() - timedelta(days=10*365)\n",
    "\n",
    "# hoje\n",
    "end_date = datetime.today()\n",
    "\n",
    "# 'YYYY-MM-DD'\n",
    "start_date_str = start_date.strftime('%Y-%m-%d')\n",
    "end_date_str = end_date.strftime('%Y-%m-%d')\n",
    "\n",
    "print(f\"start_date: {start_date_str}\")\n",
    "print(f\"end_date: {end_date_str}\")\n"
   ]
  },
  {
   "cell_type": "code",
   "execution_count": 10,
   "id": "389066ad",
   "metadata": {
    "execution": {
     "iopub.execute_input": "2024-10-13T18:35:53.406232Z",
     "iopub.status.busy": "2024-10-13T18:35:53.405925Z",
     "iopub.status.idle": "2024-10-13T18:35:54.134985Z",
     "shell.execute_reply": "2024-10-13T18:35:54.134371Z"
    },
    "jupyter": {
     "source_hidden": true
    },
    "papermill": {
     "duration": 0.736789,
     "end_time": "2024-10-13T18:35:54.136095",
     "exception": false,
     "start_time": "2024-10-13T18:35:53.399306",
     "status": "completed"
    },
    "tags": []
   },
   "outputs": [
    {
     "name": "stdout",
     "output_type": "stream",
     "text": [
      "('AAPL', 'NVDA', 'MSFT', 'GOOG', 'GOOGL', 'AMZN', 'META', 'TSM', 'AVGO', 'TSLA', 'WMT', 'JPM', 'XOM', 'ORCL', 'PG', 'JNJ', 'BAC', 'KO', 'MRK', 'AMD', 'BABA', 'CSCO', 'WFC', 'PDD', 'UBER', 'VZ', 'MS', 'DIS', 'NEE', 'PFE', 'CMCSA', 'T', 'COP', 'BSX', 'C', 'SCHW', 'NKE', 'MU', 'LRCX', 'BMY', 'INTC', 'TD', 'PLTR', 'BA', 'PBR', 'DELL', 'BP', 'CVS', 'PYPL', 'CMG', 'GSK', 'CNQ', 'APH', 'USB', 'FCX', 'CSX', 'JD', 'NU', 'MRVL', 'SLB', 'NEM', 'WMB', 'TFC', 'ITUB', 'ET', 'KMI', 'BK', 'GM', 'PCG', 'MNST', 'OXY', 'LYG', 'TRP', 'VALE', 'CPNG', 'BCS', 'FAST', 'COIN', 'MSTR', 'VST', 'SQ', 'F', 'VRT', 'SNOW', 'KVUE', 'FLUT', 'LVS', 'STLA', 'ABEV', 'HPQ', 'GOLD', 'CVE', 'DAL', 'DVN', 'SMCI', 'CCL', 'HPE', 'BBD', 'TECK', 'BEKE', 'ERIC', 'NOK', 'PINS', 'HOOD', 'MRNA', 'HBAN', 'RF', 'ASX', 'TME', 'UAL', 'UMC', 'TEVA', 'DKNG', 'SNAP', 'WBD', 'DG', 'AMCR', 'KEY', 'TOST', 'MRO', 'FUTU', 'AFRM', 'GRAB', 'CNH', 'NIO', 'XPEV', 'AES', 'KGC', 'IPG', 'PR', 'AA', 'RIVN', 'MBLY', 'ALAB', 'NCLH', 'AUR', 'YMM', 'SOFI', 'BILI', 'EDR', 'CX', 'ROIV', 'FHN', 'U', 'SIRI', 'AGNC', 'WBA', 'LCID', 'AAL', 'CELH', 'ZETA', 'PATH', 'ASTS', 'GGB', 'TAL', 'LUMN', 'CLF', 'ALTM', 'LYFT', 'PSLV', 'DJT', 'NYCB', 'RKLB', 'MARA', 'VLY', 'UPST', 'BTG', 'HL', 'HIMS', 'ADMA', 'VRN', 'AQN', 'RIG', 'ZI', 'RUN', 'UAA', 'AI', 'FROG', 'CORZ', 'PTEN', 'PSNY', 'UEC', 'MPW', 'QS', 'IAG', 'GERN', 'BTE', 'IQ', 'RIOT', 'CDE', 'CLSK', 'JBLU', 'IONQ', 'ENVX', 'NGD', 'EVGO', 'KSS', 'KOS', 'CLOV', 'NVAX')\n"
     ]
    }
   ],
   "source": [
    "# Selecionar a coluna 'symbol' e coletar os valores como uma lista\n",
    "#100 maiores para dimensão das 100 maiores e retornos\n",
    "symbol_list = df_ativas.select('ticker').rdd.flatMap(lambda x: x).collect()\n",
    "\n",
    "# Converter a lista para uma tupla\n",
    "df_tickers = tuple(symbol_list)\n",
    "\n",
    "print(df_tickers)\n"
   ]
  },
  {
   "cell_type": "code",
   "execution_count": 11,
   "id": "f1140226",
   "metadata": {
    "execution": {
     "iopub.execute_input": "2024-10-13T18:35:54.149140Z",
     "iopub.status.busy": "2024-10-13T18:35:54.148869Z",
     "iopub.status.idle": "2024-10-13T18:36:39.858446Z",
     "shell.execute_reply": "2024-10-13T18:36:39.823520Z"
    },
    "jupyter": {
     "source_hidden": true
    },
    "papermill": {
     "duration": 45.730914,
     "end_time": "2024-10-13T18:36:39.873161",
     "exception": false,
     "start_time": "2024-10-13T18:35:54.142247",
     "status": "completed"
    },
    "tags": []
   },
   "outputs": [
    {
     "name": "stderr",
     "output_type": "stream",
     "text": [
      "\r",
      "[Stage 7:======================================================>  (23 + 1) / 24]\r"
     ]
    },
    {
     "name": "stderr",
     "output_type": "stream",
     "text": [
      "\r",
      "[Stage 8:==>(21 + 3) / 24][Stage 9:>  (0 + 21) / 24][Stage 10:>  (0 + 0) / 24]\r",
      "\r",
      "[Stage 9:>  (3 + 21) / 24][Stage 10:>  (0 + 3) / 24][Stage 11:>  (0 + 0) / 24]\r"
     ]
    },
    {
     "name": "stderr",
     "output_type": "stream",
     "text": [
      "\r",
      "[Stage 10:>(11 + 13) / 24][Stage 11:> (0 + 12) / 24][Stage 12:>  (0 + 0) / 24]\r"
     ]
    },
    {
     "name": "stderr",
     "output_type": "stream",
     "text": [
      "\r",
      "[Stage 11:=>(20 + 4) / 24][Stage 12:> (0 + 20) / 24][Stage 13:>  (0 + 0) / 24]\r",
      "\r",
      "[Stage 12:=>(21 + 3) / 24][Stage 13:> (0 + 21) / 24][Stage 14:>  (0 + 0) / 24]\r"
     ]
    },
    {
     "name": "stderr",
     "output_type": "stream",
     "text": [
      "\r",
      "[Stage 13:=>(22 + 2) / 24][Stage 14:> (4 + 20) / 24][Stage 15:>  (0 + 3) / 24]\r"
     ]
    },
    {
     "name": "stderr",
     "output_type": "stream",
     "text": [
      "\r",
      "[Stage 15:=>(22 + 2) / 24][Stage 16:> (0 + 22) / 24][Stage 17:>  (0 + 0) / 24]\r",
      "\r",
      "[Stage 18:==(24 + 0) / 24][Stage 19:> (0 + 24) / 24][Stage 20:>  (0 + 0) / 24]\r"
     ]
    },
    {
     "name": "stderr",
     "output_type": "stream",
     "text": [
      "\r",
      "[Stage 19:=>(21 + 3) / 24][Stage 20:> (0 + 21) / 24][Stage 21:>  (0 + 0) / 24]\r",
      "\r",
      "[Stage 20:> (5 + 19) / 24][Stage 21:>  (0 + 5) / 24][Stage 22:>  (0 + 0) / 24]\r"
     ]
    },
    {
     "name": "stderr",
     "output_type": "stream",
     "text": [
      "\r",
      "[Stage 21:> (6 + 18) / 24][Stage 22:>  (0 + 6) / 24][Stage 23:>  (0 + 0) / 24]\r"
     ]
    },
    {
     "name": "stderr",
     "output_type": "stream",
     "text": [
      "\r",
      "[Stage 22:=>(15 + 9) / 24][Stage 23:> (0 + 15) / 24][Stage 24:>  (0 + 0) / 24]\r",
      "\r",
      "[Stage 28:=>(16 + 8) / 24][Stage 29:> (0 + 16) / 24][Stage 30:>  (0 + 0) / 24]\r"
     ]
    },
    {
     "name": "stderr",
     "output_type": "stream",
     "text": [
      "\r",
      "[Stage 31:=>(19 + 5) / 24][Stage 32:> (0 + 19) / 24][Stage 33:>  (0 + 0) / 24]\r"
     ]
    },
    {
     "name": "stderr",
     "output_type": "stream",
     "text": [
      "\r",
      "[Stage 32:=>(21 + 3) / 24][Stage 33:=>(16 + 8) / 24][Stage 34:> (0 + 13) / 24]\r",
      "\r",
      "[Stage 35:=>(22 + 2) / 24][Stage 36:> (0 + 22) / 24][Stage 37:>  (0 + 0) / 24]\r"
     ]
    },
    {
     "name": "stderr",
     "output_type": "stream",
     "text": [
      "\r",
      "[Stage 37:> (7 + 17) / 24][Stage 38:>  (0 + 8) / 24][Stage 39:>  (0 + 0) / 24]\r",
      "\r",
      "[Stage 39:> (1 + 23) / 24][Stage 40:>  (0 + 1) / 24][Stage 41:>  (0 + 0) / 24]\r"
     ]
    },
    {
     "name": "stderr",
     "output_type": "stream",
     "text": [
      "\r",
      "[Stage 40:>(14 + 10) / 24][Stage 41:> (0 + 14) / 24][Stage 42:>  (0 + 0) / 24]\r",
      "\r",
      "[Stage 41:=>(23 + 1) / 24][Stage 42:>(12 + 12) / 24][Stage 43:> (0 + 14) / 24]\r"
     ]
    },
    {
     "name": "stderr",
     "output_type": "stream",
     "text": [
      "\r",
      "[Stage 44:> (3 + 21) / 24][Stage 45:>  (0 + 3) / 24][Stage 46:>  (0 + 0) / 24]\r",
      "\r",
      "[Stage 46:> (7 + 17) / 24][Stage 47:>  (0 + 7) / 24][Stage 48:>  (0 + 0) / 24]\r"
     ]
    },
    {
     "name": "stderr",
     "output_type": "stream",
     "text": [
      "\r",
      "[Stage 47:=>(16 + 8) / 24][Stage 48:> (0 + 24) / 24][Stage 49:>  (0 + 2) / 24]\r",
      "\r",
      "[Stage 49:=>(22 + 2) / 24][Stage 50:> (0 + 23) / 24][Stage 51:>  (0 + 0) / 24]\r"
     ]
    },
    {
     "name": "stderr",
     "output_type": "stream",
     "text": [
      "\r",
      "[Stage 52:> (7 + 17) / 24][Stage 53:>  (0 + 7) / 24][Stage 54:>  (0 + 0) / 24]\r"
     ]
    },
    {
     "name": "stderr",
     "output_type": "stream",
     "text": [
      "\r",
      "[Stage 53:>(13 + 11) / 24][Stage 54:> (0 + 14) / 24][Stage 55:>  (0 + 0) / 24]\r",
      "\r",
      "[Stage 55:=>(20 + 4) / 24][Stage 56:> (5 + 19) / 24][Stage 57:>  (0 + 1) / 24]\r"
     ]
    },
    {
     "name": "stderr",
     "output_type": "stream",
     "text": [
      "\r",
      "[Stage 57:=>(20 + 4) / 24][Stage 58:> (7 + 17) / 24][Stage 59:>  (0 + 2) / 24]\r",
      "\r",
      "[Stage 59:=>(23 + 1) / 24][Stage 60:> (3 + 21) / 24][Stage 61:>  (0 + 2) / 24]\r"
     ]
    },
    {
     "name": "stderr",
     "output_type": "stream",
     "text": [
      "\r",
      "[Stage 62:> (2 + 22) / 24][Stage 63:>  (0 + 3) / 24][Stage 64:>  (0 + 0) / 24]\r",
      "\r",
      "[Stage 64:> (7 + 17) / 24][Stage 65:>  (0 + 7) / 24][Stage 66:>  (0 + 0) / 24]\r"
     ]
    },
    {
     "name": "stderr",
     "output_type": "stream",
     "text": [
      "\r",
      "[Stage 66:>(14 + 10) / 24][Stage 67:> (0 + 14) / 24][Stage 68:>  (0 + 0) / 24]\r",
      "\r",
      "[Stage 68:=>(18 + 6) / 24][Stage 69:> (0 + 18) / 24][Stage 70:>  (0 + 0) / 24]\r"
     ]
    },
    {
     "name": "stderr",
     "output_type": "stream",
     "text": [
      "\r",
      "[Stage 71:> (2 + 22) / 24][Stage 72:>  (0 + 2) / 24][Stage 73:>  (0 + 0) / 24]\r",
      "\r",
      "[Stage 73:> (5 + 19) / 24][Stage 74:>  (0 + 5) / 24][Stage 75:>  (0 + 0) / 24]\r"
     ]
    },
    {
     "name": "stderr",
     "output_type": "stream",
     "text": [
      "\r",
      "[Stage 74:=>(17 + 7) / 24][Stage 75:> (7 + 17) / 24][Stage 76:>  (0 + 2) / 24]\r",
      "\r",
      "[Stage 77:=>(16 + 8) / 24][Stage 78:> (0 + 16) / 24][Stage 79:>  (0 + 0) / 24]\r"
     ]
    },
    {
     "name": "stderr",
     "output_type": "stream",
     "text": [
      "\r",
      "[Stage 79:> (6 + 18) / 24][Stage 80:>  (0 + 7) / 24][Stage 81:>  (0 + 0) / 24]\r",
      "\r",
      "[Stage 81:=>(20 + 4) / 24][Stage 82:> (3 + 20) / 24][Stage 83:>  (0 + 0) / 24]\r"
     ]
    },
    {
     "name": "stderr",
     "output_type": "stream",
     "text": [
      "\r",
      "[Stage 83:=>(22 + 2) / 24][Stage 84:> (6 + 18) / 24][Stage 85:> (0 + 12) / 24]\r",
      "\r",
      "[Stage 86:>(11 + 13) / 24][Stage 87:> (1 + 11) / 24][Stage 88:>  (0 + 0) / 24]\r"
     ]
    },
    {
     "name": "stderr",
     "output_type": "stream",
     "text": [
      "\r",
      "[Stage 89:> (0 + 24) / 24][Stage 90:>  (0 + 0) / 24][Stage 91:>  (0 + 0) / 24]\r",
      "\r",
      "[Stage 91:> (4 + 20) / 24][Stage 92:>  (0 + 4) / 24][Stage 93:>  (0 + 0) / 24]\r"
     ]
    },
    {
     "name": "stderr",
     "output_type": "stream",
     "text": [
      "\r",
      "[Stage 93:=>(15 + 9) / 24][Stage 94:> (0 + 15) / 24][Stage 95:>  (0 + 0) / 24]\r",
      "\r",
      "[Stage 95:=>(20 + 4) / 24][Stage 96:> (0 + 20) / 24][Stage 97:>  (0 + 0) / 24]\r"
     ]
    },
    {
     "name": "stderr",
     "output_type": "stream",
     "text": [
      "\r",
      "[Stage 96:=>(23 + 1) / 24][Stage 97:> (3 + 21) / 24][Stage 98:>  (0 + 2) / 24]\r",
      "\r",
      "[Stage 99:> (7 + 17) / 24][Stage 100:> (0 + 7) / 24][Stage 101:> (0 + 0) / 24]\r"
     ]
    },
    {
     "name": "stderr",
     "output_type": "stream",
     "text": [
      "\r",
      "[Stage 101:(10 + 14) / 24][Stage 102:>(0 + 10) / 24][Stage 103:> (0 + 0) / 24]\r",
      "\r",
      "[Stage 102:>(20 + 4) / 24][Stage 103:>(2 + 22) / 24][Stage 104:> (0 + 6) / 24]\r"
     ]
    },
    {
     "name": "stderr",
     "output_type": "stream",
     "text": [
      "\r",
      "[Stage 105:>(4 + 20) / 24][Stage 106:>(0 + 10) / 24][Stage 107:> (0 + 0) / 24]\r",
      "\r",
      "[Stage 107:>(7 + 17) / 24][Stage 108:> (0 + 9) / 24][Stage 109:> (0 + 0) / 24]\r"
     ]
    },
    {
     "name": "stderr",
     "output_type": "stream",
     "text": [
      "\r",
      "[Stage 109:>(19 + 5) / 24][Stage 110:>(0 + 20) / 24][Stage 111:> (0 + 0) / 24]\r",
      "\r",
      "[Stage 111:>(17 + 7) / 24][Stage 112:>(0 + 23) / 24][Stage 113:> (0 + 0) / 24]\r"
     ]
    },
    {
     "name": "stderr",
     "output_type": "stream",
     "text": [
      "\r",
      "[Stage 113:>(22 + 2) / 24][Stage 114:>(2 + 22) / 24][Stage 115:> (0 + 1) / 24]\r",
      "\r",
      "[Stage 116:>(9 + 15) / 24][Stage 117:> (0 + 9) / 24][Stage 118:> (0 + 0) / 24]\r"
     ]
    },
    {
     "name": "stderr",
     "output_type": "stream",
     "text": [
      "\r",
      "[Stage 119:>(6 + 18) / 24][Stage 120:> (0 + 6) / 24][Stage 121:> (0 + 0) / 24]\r",
      "\r",
      "[Stage 120:>(22 + 2) / 24][Stage 121:>(5 + 19) / 24][Stage 122:> (0 + 3) / 24]\r"
     ]
    },
    {
     "name": "stderr",
     "output_type": "stream",
     "text": [
      "\r",
      "[Stage 123:>(5 + 19) / 24][Stage 124:> (0 + 5) / 24][Stage 125:> (0 + 0) / 24]\r",
      "\r",
      "[Stage 125:>(9 + 15) / 24][Stage 126:> (0 + 9) / 24][Stage 127:> (0 + 0) / 24]\r"
     ]
    },
    {
     "name": "stderr",
     "output_type": "stream",
     "text": [
      "\r",
      "[Stage 127:>(16 + 8) / 24][Stage 128:>(3 + 16) / 24][Stage 129:> (0 + 0) / 24]\r",
      "\r",
      "[Stage 129:>(17 + 7) / 24][Stage 130:>(0 + 19) / 24][Stage 131:> (0 + 0) / 24]\r"
     ]
    },
    {
     "name": "stderr",
     "output_type": "stream",
     "text": [
      "\r",
      "[Stage 131:>(19 + 5) / 24][Stage 132:>(0 + 20) / 24][Stage 133:> (0 + 0) / 24]\r",
      "\r",
      "[Stage 133:>(23 + 1) / 24][Stage 134:>(2 + 22) / 24][Stage 135:> (0 + 1) / 24]\r"
     ]
    },
    {
     "name": "stderr",
     "output_type": "stream",
     "text": [
      "\r",
      "[Stage 136:>(5 + 19) / 24][Stage 137:> (0 + 5) / 24][Stage 138:> (0 + 0) / 24]\r",
      "\r",
      "[Stage 138:>(9 + 15) / 24][Stage 139:> (2 + 9) / 24][Stage 140:> (0 + 0) / 24]\r"
     ]
    },
    {
     "name": "stderr",
     "output_type": "stream",
     "text": [
      "\r",
      "[Stage 140:(12 + 12) / 24][Stage 141:>(1 + 12) / 24][Stage 142:> (0 + 0) / 24]\r",
      "\r",
      "[Stage 142:>(15 + 9) / 24][Stage 143:>(0 + 15) / 24][Stage 144:> (0 + 0) / 24]\r"
     ]
    },
    {
     "name": "stderr",
     "output_type": "stream",
     "text": [
      "\r",
      "[Stage 144:>(19 + 5) / 24][Stage 145:>(0 + 19) / 24][Stage 146:> (0 + 0) / 24]\r",
      "\r",
      "[Stage 147:>(3 + 21) / 24][Stage 148:> (0 + 3) / 24][Stage 149:> (0 + 0) / 24]\r"
     ]
    },
    {
     "name": "stderr",
     "output_type": "stream",
     "text": [
      "\r",
      "[Stage 149:(10 + 14) / 24][Stage 150:>(0 + 10) / 24][Stage 151:> (0 + 0) / 24]\r",
      "\r",
      "[Stage 152:>(0 + 24) / 24][Stage 153:> (0 + 0) / 24][Stage 154:> (0 + 0) / 24]\r"
     ]
    },
    {
     "name": "stderr",
     "output_type": "stream",
     "text": [
      "\r",
      "[Stage 153:(11 + 13) / 24][Stage 154:>(0 + 11) / 24][Stage 155:> (0 + 0) / 24]\r",
      "\r",
      "[Stage 156:(13 + 11) / 24][Stage 157:>(0 + 14) / 24][Stage 158:> (0 + 0) / 24]\r"
     ]
    },
    {
     "name": "stderr",
     "output_type": "stream",
     "text": [
      "\r",
      "[Stage 158:>(8 + 16) / 24][Stage 159:> (2 + 8) / 24][Stage 160:> (0 + 0) / 24]\r",
      "\r",
      "[Stage 160:>(15 + 9) / 24][Stage 161:>(3 + 15) / 24][Stage 162:> (0 + 0) / 24]\r"
     ]
    },
    {
     "name": "stderr",
     "output_type": "stream",
     "text": [
      "\r",
      "[Stage 162:>(20 + 4) / 24][Stage 163:(12 + 12) / 24][Stage 164:>(0 + 14) / 24]\r",
      "\r",
      "[Stage 165:>(7 + 17) / 24][Stage 166:> (0 + 7) / 24][Stage 167:> (0 + 0) / 24]\r"
     ]
    },
    {
     "name": "stderr",
     "output_type": "stream",
     "text": [
      "\r",
      "[Stage 167:(14 + 10) / 24][Stage 168:>(0 + 14) / 24][Stage 169:> (0 + 0) / 24]\r",
      "\r",
      "[Stage 169:>(19 + 5) / 24][Stage 170:>(0 + 21) / 24][Stage 171:> (0 + 0) / 24]\r"
     ]
    },
    {
     "name": "stderr",
     "output_type": "stream",
     "text": [
      "\r",
      "[Stage 172:>(6 + 18) / 24][Stage 173:> (0 + 6) / 24][Stage 174:> (0 + 0) / 24]\r",
      "\r",
      "[Stage 175:(10 + 14) / 24][Stage 176:>(0 + 10) / 24][Stage 177:> (0 + 0) / 24]\r"
     ]
    },
    {
     "name": "stderr",
     "output_type": "stream",
     "text": [
      "\r",
      "[Stage 178:(14 + 10) / 24][Stage 179:>(0 + 14) / 24][Stage 180:> (0 + 0) / 24]\r",
      "\r",
      "[Stage 182:>(0 + 24) / 24][Stage 183:> (0 + 0) / 24][Stage 184:> (0 + 0) / 24]\r"
     ]
    },
    {
     "name": "stderr",
     "output_type": "stream",
     "text": [
      "\r",
      "[Stage 185:(10 + 14) / 24][Stage 186:>(0 + 10) / 24][Stage 187:> (0 + 0) / 24]\r",
      "\r",
      "[Stage 189:>(1 + 23) / 24][Stage 190:> (0 + 1) / 24][Stage 191:> (0 + 0) / 24]\r"
     ]
    },
    {
     "name": "stderr",
     "output_type": "stream",
     "text": [
      "\r",
      "[Stage 192:>(15 + 9) / 24][Stage 193:>(0 + 15) / 24][Stage 194:> (0 + 0) / 24]\r",
      "\r",
      "[Stage 196:>(0 + 24) / 24][Stage 197:> (0 + 0) / 24][Stage 198:> (0 + 0) / 24]\r"
     ]
    },
    {
     "name": "stderr",
     "output_type": "stream",
     "text": [
      "\r",
      "[Stage 199:>(7 + 17) / 24][Stage 200:> (0 + 7) / 24][Stage 201:> (0 + 0) / 24]\r",
      "\r",
      "[Stage 202:>(20 + 4) / 24][Stage 203:>(0 + 20) / 24][Stage 204:> (0 + 0) / 24]\r"
     ]
    },
    {
     "name": "stderr",
     "output_type": "stream",
     "text": [
      "24/10/13 18:36:39 WARN DAGScheduler: Broadcasting large task binary with size 3.8 MiB\n"
     ]
    },
    {
     "name": "stdout",
     "output_type": "stream",
     "text": [
      "+------+-------------------+------------------+------------------+------------------+------------------+----------+----------+--------------+-----------------------+--------------------+-------------------+----------+--------------------+\n",
      "|ticker|               data|          abertura|              alta|             baixa|        fechamento|    volume|dividendos|desdobramentos|fechamento_mes_anterior|       valor_retorno|porcentagem_retorno|  dt_ptcao|          dthr_igtao|\n",
      "+------+-------------------+------------------+------------------+------------------+------------------+----------+----------+--------------+-----------------------+--------------------+-------------------+----------+--------------------+\n",
      "|  GOOG|2014-11-01 02:00:00|27.631096871909847|27.750474570742263| 26.36668113367571| 26.95113754272461| 570413781|       0.0|           0.0|                   NULL|                NULL|               NULL|2024-10-13|2024-10-13 15:36:...|\n",
      "|  GOOG|2014-12-01 03:00:00| 26.80539597299805|26.930245766237697|24.323322796009954| 26.18363380432129| 917297545|       0.0|           0.0|      26.95113754272461| -0.7675037384033203| -2.847760088740692|2024-10-13|2024-10-13 15:36:...|\n",
      "|  GOOG|2015-01-01 03:00:00| 26.31345726937265| 26.96804821152423|24.251694726370705|  26.5875301361084|1004562476|       0.0|           0.0|      26.18363380432129|  0.4038963317871094|  1.542552629652387|2024-10-13|2024-10-13 15:36:...|\n",
      "|  GOOG|2015-02-01 03:00:00|26.448753444337417|28.089210289370033|25.793167385532755|27.775344848632812| 651908915|       0.0|           0.0|       26.5875301361084|   1.187814712524414|  4.467563201409402|2024-10-13|2024-10-13 15:36:...|\n",
      "|  GOOG|2015-03-01 02:00:00|27.881291405920923|28.745789328285706| 27.07001703669872|27.258037567138672| 772972385|       0.0|           0.0|     27.775344848632812| -0.5173072814941406| -1.862469338592583|2024-10-13|2024-10-13 15:36:...|\n",
      "|  GOOG|2015-04-01 01:00:00| 27.28788251109641|28.409043863086858|25.915529872328964| 26.80118179321289| 847552576|       0.0|     1.0027455|     27.258037567138672|-0.45685577392578125| -1.676040590965178|2024-10-13|2024-10-13 15:36:...|\n",
      "|  GOOG|2015-05-01 01:00:00| 26.85554720086295|27.142841767552586| 25.99042324352014|26.540321350097656| 637318000|       0.0|           0.0|      26.80118179321289| -0.2608604431152344|-0.9733169422450412|2024-10-13|2024-10-13 15:36:...|\n",
      "|  GOOG|2015-06-01 01:00:00|26.773749354825068|27.120397901457736| 25.96124390000214|25.961742401123047| 686410000|       0.0|           0.0|     26.540321350097656| -0.5785789489746094| -2.179999787276428|2024-10-13|2024-10-13 15:36:...|\n",
      "|  GOOG|2015-07-01 01:00:00|26.172225125987367| 33.84887196994136| 25.69589590367327|31.203868865966797|1266380000|       0.0|           0.0|     25.961742401123047|    5.24212646484375|  20.19173591606466|2024-10-13|2024-10-13 15:36:...|\n",
      "|  GOOG|2015-08-01 01:00:00|31.190402375436435|  33.6623305135368|28.183287625257712| 30.83677101135254|1074348000|       0.0|           0.0|     31.203868865966797| -0.3670978546142578|-1.1764498056029244|2024-10-13|2024-10-13 15:36:...|\n",
      "|  GOOG|2015-09-01 01:00:00|30.044216490220368| 32.46526893123239|29.396806252979594|30.346473693847656| 959100000|       0.0|           0.0|      30.83677101135254| -0.4902973175048828|-1.5899761921388595|2024-10-13|2024-10-13 15:36:...|\n",
      "|  GOOG|2015-10-01 01:00:00| 30.34398205738413|36.410582780716275| 29.91902507293866|35.453433990478516| 988772000|       0.0|           0.0|     30.346473693847656|   5.106960296630859| 16.828842613322244|2024-10-13|2024-10-13 15:36:...|\n",
      "|  GOOG|2015-11-01 02:00:00| 35.46590329741339| 38.04197437464413| 35.20603961596543|37.039039611816406| 678696000|       0.0|           0.0|     35.453433990478516|  1.5856056213378906|  4.472361187251215|2024-10-13|2024-10-13 15:36:...|\n",
      "|  GOOG|2015-12-01 03:00:00| 37.26398821048021|38.903463350349625| 36.11979869530547| 37.85104751586914| 862006000|       0.0|           0.0|     37.039039611816406|  0.8120079040527344| 2.1923028041841643|2024-10-13|2024-10-13 15:36:...|\n",
      "|  GOOG|2016-01-01 03:00:00|37.058991977464586|  37.5078865295462| 33.58053106248926|37.056495666503906| 931224000|       0.0|           0.0|      37.85104751586914| -0.7945518493652344| -2.099154188618206|2024-10-13|2024-10-13 15:36:...|\n",
      "|  GOOG|2016-02-01 03:00:00| 37.43107664038258|39.396750341069364|33.071783137034316| 34.80303192138672|1287340000|       0.0|           0.0|     37.056495666503906| -2.2534637451171875|  -6.08115717524293|2024-10-13|2024-10-13 15:36:...|\n",
      "|  GOOG|2016-03-01 02:00:00| 35.09481463690502|37.801169677467065| 34.18305225922533|37.156253814697266| 834848000|       0.0|           0.0|      34.80303192138672|   2.353221893310547|  6.761542783473629|2024-10-13|2024-10-13 15:36:...|\n",
      "|  GOOG|2016-04-01 01:00:00|36.839531486567594| 38.40069627694537| 34.36560729301475|34.565616607666016| 843080000|       0.0|           0.0|     37.156253814697266|   -2.59063720703125|  -6.97227772194439|2024-10-13|2024-10-13 15:36:...|\n",
      "|  GOOG|2016-05-01 01:00:00| 34.79604748119498|36.895890191711786| 34.36610358932395| 36.69588088989258| 699930000|       0.0|           0.0|     34.565616607666016|  2.1302642822265625|  6.162957560994613|2024-10-13|2024-10-13 15:36:...|\n",
      "|  GOOG|2016-06-01 01:00:00| 36.63652622388235| 36.77019681460147|33.082951772469436| 34.52022171020508| 787250000|       0.0|           0.0|      36.69588088989258|    -2.1756591796875| -5.928892090683558|2024-10-13|2024-10-13 15:36:...|\n",
      "+------+-------------------+------------------+------------------+------------------+------------------+----------+----------+--------------+-----------------------+--------------------+-------------------+----------+--------------------+\n",
      "only showing top 20 rows\n",
      "\n"
     ]
    },
    {
     "name": "stderr",
     "output_type": "stream",
     "text": [
      "\r",
      "[Stage 405:>                                                        (0 + 1) / 1]\r",
      "\r",
      "                                                                                \r"
     ]
    }
   ],
   "source": [
    "historical_data = obter_dados_historicos(df_tickers, start_date_str, end_date_str)\n",
    "df_retorno_mensal = retorno_mensal(historical_data)\n",
    "\n",
    "# Mostrar o DataFrame final\n",
    "df_retorno_mensal.show()"
   ]
  },
  {
   "cell_type": "markdown",
   "id": "5f55679d",
   "metadata": {
    "papermill": {
     "duration": 0.017721,
     "end_time": "2024-10-13T18:36:39.988127",
     "exception": false,
     "start_time": "2024-10-13T18:36:39.970406",
     "status": "completed"
    },
    "tags": []
   },
   "source": [
    "# dimensões gerais \n",
    "\n",
    "2. **Criação dos DataFrames**:\n",
    "   - **Tabela Geral** (`df_financeira`): Contém informações gerais da empresa, como setor, indústria, número de empregados, localização e resumo das atividades.\n",
    "   - **Tabela Financeira** (`df_financeira`): Contém dados financeiros da empresa, como capitalização de mercado, receita, lucro líquido, EBITDA, dívida total, entre outros.\n",
    "   - **Tabela de Mercado** (`df_mercado`): Inclui dados relacionados ao mercado, como preço atual, preço de abertura, volume de negociação, beta, entre outros.\n",
    "   - **Tabela de Dividendos** (`df_dividendos`): Contém informações sobre dividendos, incluindo taxa de dividendos, data ex-dividendo e índice de distribuição.\n",
    "   - **Tabela de Valuation** (`df_valuation`): Inclui dados de valuation da empresa, como índices P/E (Price to Earnings), P/B (Price to Book) e PEG (Price/Earnings to Growth).\n",
    "   - **Tabela de Retorno Mensal** (`df_retorno_mensal`): Retorno mensal da ação com base em preço da ação, dividendos e percentual"
   ]
  },
  {
   "cell_type": "code",
   "execution_count": 12,
   "id": "d57a6af0",
   "metadata": {
    "execution": {
     "iopub.execute_input": "2024-10-13T18:36:40.092419Z",
     "iopub.status.busy": "2024-10-13T18:36:40.060120Z",
     "iopub.status.idle": "2024-10-13T18:36:40.272684Z",
     "shell.execute_reply": "2024-10-13T18:36:40.271808Z"
    },
    "jupyter": {
     "source_hidden": true
    },
    "papermill": {
     "duration": 0.274346,
     "end_time": "2024-10-13T18:36:40.275046",
     "exception": false,
     "start_time": "2024-10-13T18:36:40.000700",
     "status": "completed"
    },
    "tags": []
   },
   "outputs": [],
   "source": [
    "from pyspark.sql.functions import from_unixtime, col\n",
    "\n",
    "def criar_tabelas_spark(tickers):\n",
    "    if isinstance(tickers, str):\n",
    "        tickers = (tickers,)\n",
    "    \n",
    "    # Esquema para a tabela geral\n",
    "    schema_geral = StructType([\n",
    "        StructField('ticker', StringType(), False),\n",
    "        StructField('setor', StringType(), True),\n",
    "        StructField('industria', StringType(), True),\n",
    "        StructField('funcionarios', IntegerType(), True),\n",
    "        StructField('cidade', StringType(), True),\n",
    "        StructField('estado', StringType(), True),\n",
    "        StructField('pais', StringType(), True),\n",
    "        StructField('website', StringType(), True),\n",
    "        StructField('resumo_negocios', StringType(), True),\n",
    "        StructField('exchange', StringType(), True)\n",
    "    ])\n",
    "    \n",
    "    # Esquema para a tabela financeira\n",
    "    schema_financeira = StructType([\n",
    "        StructField('ticker', StringType(), False),\n",
    "        StructField('capitalizacao_mercado', LongType(), True),\n",
    "        StructField('valor_empresa', LongType(), True),\n",
    "        StructField('receita', LongType(), True),\n",
    "        StructField('lucros_brutos', LongType(), True),\n",
    "        StructField('lucro_liquido', LongType(), True),\n",
    "        StructField('ebitda', LongType(), True),\n",
    "        StructField('divida_total', LongType(), True),\n",
    "        StructField('caixa_total', LongType(), True),\n",
    "        StructField('dividend_yield', DoubleType(), True)\n",
    "    ])\n",
    "    \n",
    "    # Esquema para a tabela de mercado\n",
    "    schema_mercado = StructType([\n",
    "        StructField('ticker', StringType(), False),\n",
    "        StructField('preco_atual', DoubleType(), True),\n",
    "        StructField('fechamento_anterior', DoubleType(), True),\n",
    "        StructField('abertura', DoubleType(), True),\n",
    "        StructField('minimo_dia', DoubleType(), True),\n",
    "        StructField('maximo_dia', DoubleType(), True),\n",
    "        StructField('minimo_52_semanas', DoubleType(), True),\n",
    "        StructField('maximo_52_semanas', DoubleType(), True),\n",
    "        StructField('volume', LongType(), True),\n",
    "        StructField('volume_medio', LongType(), True),\n",
    "        StructField('beta', DoubleType(), True)\n",
    "    ])\n",
    "    \n",
    "    # Esquema para a tabela de dividendos\n",
    "    schema_dividendos = StructType([\n",
    "        StructField('ticker', StringType(), False),\n",
    "        StructField('taxa_dividendo', DoubleType(), True),\n",
    "        StructField('data_exdividendo', StringType(), True),  # Temporariamente como StringType\n",
    "        StructField('indice_distribuicao', DoubleType(), True)\n",
    "    ])\n",
    "    \n",
    "    # Esquema para a tabela de valuation\n",
    "    schema_valuation = StructType([\n",
    "        StructField('ticker', StringType(), False),\n",
    "        StructField('pl_futuro', DoubleType(), True),\n",
    "        StructField('pl_retroativo', DoubleType(), True),\n",
    "        StructField('preco_booking', DoubleType(), True),\n",
    "        StructField('indice_preco_lucro_cresc', DoubleType(), True)\n",
    "    ])\n",
    "    \n",
    "    # Inicializa as listas de dicionários para cada tabela\n",
    "    geral = []\n",
    "    financeira = []\n",
    "    mercado = []\n",
    "    dividendos = []\n",
    "    valuation = []\n",
    "    \n",
    "    for ticker in tickers:\n",
    "        try:\n",
    "            empresa = yf.Ticker(ticker)\n",
    "            info = empresa.info\n",
    "            \n",
    "            # Filtra e trata valores infinitos\n",
    "            def safe_get(key, default=None):\n",
    "                value = info.get(key)\n",
    "                if isinstance(value, str) and value in ('Infinity', '-Infinity'):\n",
    "                    return default\n",
    "                return value\n",
    "            \n",
    "            # Preencher dados da tabela geral\n",
    "            geral.append({\n",
    "                'ticker': ticker,\n",
    "                'setor': info.get('sector'),\n",
    "                'industria': info.get('industry'),\n",
    "                'funcionarios': info.get('fullTimeEmployees'),\n",
    "                'cidade': info.get('city'),\n",
    "                'estado': info.get('state'),\n",
    "                'pais': info.get('country'),\n",
    "                'website': info.get('website'),\n",
    "                'resumo_negocios': info.get('longBusinessSummary'),\n",
    "                'exchange': info.get('exchange')\n",
    "            })\n",
    "            \n",
    "            # Preencher dados da tabela financeira\n",
    "            financeira.append({\n",
    "                'ticker': ticker,\n",
    "                'capitalizacao_mercado': safe_get('marketCap', 0),\n",
    "                'valor_empresa': safe_get('enterpriseValue', 0),\n",
    "                'receita': safe_get('revenue', 0),\n",
    "                'lucros_brutos': safe_get('grossProfits', 0),\n",
    "                'lucro_liquido': safe_get('netIncome', 0),\n",
    "                'ebitda': safe_get('ebitda', 0),\n",
    "                'divida_total': safe_get('totalDebt', 0),\n",
    "                'caixa_total': safe_get('totalCash', 0),\n",
    "                'dividend_yield': safe_get('dividendYield', 0.0)\n",
    "            })\n",
    "            \n",
    "            # Preencher dados da tabela de mercado\n",
    "            mercado.append({\n",
    "                'ticker': ticker,\n",
    "                'preco_atual': safe_get('currentPrice', 0.0),\n",
    "                'fechamento_anterior': safe_get('previousClose', 0.0),\n",
    "                'abertura': safe_get('open', 0.0),\n",
    "                'minimo_dia': safe_get('dayLow', 0.0),\n",
    "                'maximo_dia': safe_get('dayHigh', 0.0),\n",
    "                'minimo_52_semanas': safe_get('fiftyTwoWeekLow', 0.0),\n",
    "                'maximo_52_semanas': safe_get('fiftyTwoWeekHigh', 0.0),\n",
    "                'volume': safe_get('volume', 0),\n",
    "                'volume_medio': safe_get('averageVolume', 0),\n",
    "                'beta': safe_get('beta', 0.0)\n",
    "            })\n",
    "            \n",
    "            # Preencher dados da tabela de dividendos\n",
    "            dividendos.append({\n",
    "                'ticker': ticker,\n",
    "                'taxa_dividendo': safe_get('dividendRate', 0.0),\n",
    "                'data_exdividendo': safe_get('exDividendDate'),  # Unix timestamp\n",
    "                'indice_distribuicao': safe_get('payoutRatio', 0.0)\n",
    "            })\n",
    "            \n",
    "            # Preencher dados da tabela de valuation\n",
    "            valuation.append({\n",
    "                'ticker': ticker,\n",
    "                'pl_futuro': safe_get('forwardPE', 0.0),\n",
    "                'pl_retroativo': safe_get('trailingPE', 0.0),\n",
    "                'preco_booking': safe_get('priceToBook', 0.0),\n",
    "                'indice_preco_lucro_cresc': safe_get('pegRatio', 0.0)\n",
    "            })\n",
    "            \n",
    "        except Exception as e:\n",
    "            print(f\"Erro ao processar o ticker {ticker}: {e}\")\n",
    "    \n",
    "    # Criar DataFrames Spark com esquema definido\n",
    "    df_geral = spark.createDataFrame(geral, schema=schema_geral)\n",
    "    df_financeira = spark.createDataFrame(financeira, schema=schema_financeira)\n",
    "    df_mercado = spark.createDataFrame(mercado, schema=schema_mercado)\n",
    "    df_dividendos = spark.createDataFrame(dividendos, schema=schema_dividendos)\n",
    "    df_valuation = spark.createDataFrame(valuation, schema=schema_valuation)\n",
    "\n",
    "    # Converter Unix timestamp para data legível\n",
    "    df_dividendos = df_dividendos.withColumn('data_exdividendo', from_unixtime(col('data_exdividendo').cast('bigint')))\n",
    "    \n",
    "    # Adicionar colunas de timestamp\n",
    "    df_geral = df_geral.withColumn('dt_ptcao', date_format(current_timestamp(), 'yyyy-MM-dd'))\n",
    "    df_geral = df_geral.withColumn('dthr_igtao', current_timestamp())\n",
    "\n",
    "    df_financeira = df_financeira.withColumn('dt_ptcao', date_format(current_timestamp(), 'yyyy-MM-dd'))\n",
    "    df_financeira = df_financeira.withColumn('dthr_igtao', current_timestamp())\n",
    "\n",
    "    df_mercado = df_mercado.withColumn('dt_ptcao', date_format(current_timestamp(), 'yyyy-MM-dd'))\n",
    "    df_mercado = df_mercado.withColumn('dthr_igtao', current_timestamp())\n",
    "\n",
    "    df_dividendos = df_dividendos.withColumn('dt_ptcao', date_format(current_timestamp(), 'yyyy-MM-dd'))\n",
    "    df_dividendos = df_dividendos.withColumn('dthr_igtao', current_timestamp())\n",
    "\n",
    "    df_valuation = df_valuation.withColumn('dt_ptcao', date_format(current_timestamp(), 'yyyy-MM-dd'))\n",
    "    df_valuation = df_valuation.withColumn('dthr_igtao', current_timestamp())\n",
    "    \n",
    "    return df_geral, df_financeira, df_mercado, df_dividendos, df_valuation\n"
   ]
  },
  {
   "cell_type": "code",
   "execution_count": 13,
   "id": "b8570c59",
   "metadata": {
    "execution": {
     "iopub.execute_input": "2024-10-13T18:36:40.480375Z",
     "iopub.status.busy": "2024-10-13T18:36:40.480027Z",
     "iopub.status.idle": "2024-10-13T18:38:33.157978Z",
     "shell.execute_reply": "2024-10-13T18:38:33.157319Z"
    },
    "jupyter": {
     "source_hidden": true
    },
    "papermill": {
     "duration": 112.743977,
     "end_time": "2024-10-13T18:38:33.159303",
     "exception": false,
     "start_time": "2024-10-13T18:36:40.415326",
     "status": "completed"
    },
    "tags": []
   },
   "outputs": [
    {
     "name": "stdout",
     "output_type": "stream",
     "text": [
      "+------+--------------------+--------------------+------------+-------------+------+-------------+--------------------+--------------------+--------+----------+--------------------+\n",
      "|ticker|               setor|           industria|funcionarios|       cidade|estado|         pais|             website|     resumo_negocios|exchange|  dt_ptcao|          dthr_igtao|\n",
      "+------+--------------------+--------------------+------------+-------------+------+-------------+--------------------+--------------------+--------+----------+--------------------+\n",
      "|  AAPL|          Technology|Consumer Electronics|      161000|    Cupertino|    CA|United States|https://www.apple...|Apple Inc. design...|     NMS|2024-10-13|2024-10-13 15:38:...|\n",
      "|  NVDA|          Technology|      Semiconductors|       29600|  Santa Clara|    CA|United States|https://www.nvidi...|NVIDIA Corporatio...|     NMS|2024-10-13|2024-10-13 15:38:...|\n",
      "|  MSFT|          Technology|Software - Infras...|      228000|      Redmond|    WA|United States|https://www.micro...|Microsoft Corpora...|     NMS|2024-10-13|2024-10-13 15:38:...|\n",
      "|  GOOG|Communication Ser...|Internet Content ...|      179582|Mountain View|    CA|United States|     https://abc.xyz|Alphabet Inc. off...|     NMS|2024-10-13|2024-10-13 15:38:...|\n",
      "| GOOGL|Communication Ser...|Internet Content ...|      179582|Mountain View|    CA|United States|     https://abc.xyz|Alphabet Inc. off...|     NMS|2024-10-13|2024-10-13 15:38:...|\n",
      "|  AMZN|   Consumer Cyclical|     Internet Retail|     1525000|      Seattle|    WA|United States|https://www.about...|Amazon.com, Inc. ...|     NMS|2024-10-13|2024-10-13 15:38:...|\n",
      "|  META|Communication Ser...|Internet Content ...|       70799|   Menlo Park|    CA|United States|https://investor....|Meta Platforms, I...|     NMS|2024-10-13|2024-10-13 15:38:...|\n",
      "|   TSM|          Technology|      Semiconductors|        NULL| Hsinchu City|  NULL|       Taiwan|https://www.tsmc.com|Taiwan Semiconduc...|     NYQ|2024-10-13|2024-10-13 15:38:...|\n",
      "|  AVGO|          Technology|      Semiconductors|       20000|    Palo Alto|    CA|United States|https://www.broad...|Broadcom Inc. des...|     NMS|2024-10-13|2024-10-13 15:38:...|\n",
      "|  TSLA|   Consumer Cyclical|  Auto Manufacturers|      140473|       Austin|    TX|United States|https://www.tesla...|Tesla, Inc. desig...|     NMS|2024-10-13|2024-10-13 15:38:...|\n",
      "|   WMT|  Consumer Defensive|     Discount Stores|     2100000|  Bentonville|    AR|United States|https://corporate...|Walmart Inc. enga...|     NYQ|2024-10-13|2024-10-13 15:38:...|\n",
      "|   JPM|  Financial Services| Banks - Diversified|      316043|     New York|    NY|United States|https://www.jpmor...|JPMorgan Chase & ...|     NYQ|2024-10-13|2024-10-13 15:38:...|\n",
      "|   XOM|              Energy|Oil & Gas Integrated|       62000|       Spring|    TX|United States|https://corporate...|Exxon Mobil Corpo...|     NYQ|2024-10-13|2024-10-13 15:38:...|\n",
      "|  ORCL|          Technology|Software - Infras...|      159000|       Austin|    TX|United States|https://www.oracl...|Oracle Corporatio...|     NYQ|2024-10-13|2024-10-13 15:38:...|\n",
      "|    PG|  Consumer Defensive|Household & Perso...|      108000|   Cincinnati|    OH|United States|https://www.pginv...|The Procter & Gam...|     NYQ|2024-10-13|2024-10-13 15:38:...|\n",
      "|   JNJ|          Healthcare|Drug Manufacturer...|      131900|New Brunswick|    NJ|United States| https://www.jnj.com|Johnson & Johnson...|     NYQ|2024-10-13|2024-10-13 15:38:...|\n",
      "|   BAC|  Financial Services| Banks - Diversified|      212000|    Charlotte|    NC|United States|https://www.banko...|Bank of America C...|     NYQ|2024-10-13|2024-10-13 15:38:...|\n",
      "|    KO|  Consumer Defensive|Beverages - Non-A...|       79100|      Atlanta|    GA|United States|https://www.coca-...|The Coca-Cola Com...|     NYQ|2024-10-13|2024-10-13 15:38:...|\n",
      "|   MRK|          Healthcare|Drug Manufacturer...|       70000|       Rahway|    NJ|United States|https://www.merck...|Merck & Co., Inc....|     NYQ|2024-10-13|2024-10-13 15:38:...|\n",
      "|   AMD|          Technology|      Semiconductors|       26000|  Santa Clara|    CA|United States| https://www.amd.com|Advanced Micro De...|     NMS|2024-10-13|2024-10-13 15:38:...|\n",
      "+------+--------------------+--------------------+------------+-------------+------+-------------+--------------------+--------------------+--------+----------+--------------------+\n",
      "only showing top 20 rows\n",
      "\n",
      "+------+---------------------+-------------+-------+-------------+-------------+-------------+-------------+-------------+--------------+----------+--------------------+\n",
      "|ticker|capitalizacao_mercado|valor_empresa|receita|lucros_brutos|lucro_liquido|       ebitda| divida_total|  caixa_total|dividend_yield|  dt_ptcao|          dthr_igtao|\n",
      "+------+---------------------+-------------+-------+-------------+-------------+-------------+-------------+-------------+--------------+----------+--------------------+\n",
      "|  AAPL|        3459693150208|3499204280320|   NULL|         NULL|         NULL| 131781001216| 101304000512|  61801000960|        0.0044|2024-10-13|2024-10-13 15:38:...|\n",
      "|  NVDA|        3306644045824|3281859117056|   NULL|         NULL|         NULL|  61184000000|  10014999552|  34800001024|  2.9999999E-4|2024-10-13|2024-10-13 15:38:...|\n",
      "|  MSFT|        3094523150336|3116843663360|   NULL|         NULL|         NULL| 129433001984|  97851998208|  75531001856|         0.008|2024-10-13|2024-10-13 15:38:...|\n",
      "|  GOOG|        2016636829696|1953235206144|   NULL|         NULL|         NULL| 115478003712|  28718999552| 100724998144|        0.0049|2024-10-13|2024-10-13 15:38:...|\n",
      "| GOOGL|        2016634470400|1937478385664|   NULL|         NULL|         NULL| 115478003712|  28718999552| 100724998144|        0.0049|2024-10-13|2024-10-13 15:38:...|\n",
      "|  AMZN|        1981779148800|2050522873856|   NULL|         NULL|         NULL| 104049000448| 157841997824|  89091997696|          NULL|2024-10-13|2024-10-13 15:38:...|\n",
      "|  META|        1492467318784|1472376340480|   NULL|         NULL|         NULL|  74774003712|  37990998016|  58080002048|        0.0034|2024-10-13|2024-10-13 15:38:...|\n",
      "|   TSM|         989555851264|3955882196992|   NULL|         NULL|         NULL|1638037716992|1028265410560|2048635568128|  0.0128999995|2024-10-13|2024-10-13 15:38:...|\n",
      "|  AVGO|         847616868352| 103967277056|   NULL|         NULL|         NULL|  22958000128|  40456998912|  11105000448|        0.0117|2024-10-13|2024-10-13 15:38:...|\n",
      "|  TSLA|         695792566272| 678382665728|   NULL|         NULL|         NULL|  12177999872|  12515000320|  30720000000|          NULL|2024-10-13|2024-10-13 15:38:...|\n",
      "|   WMT|         643863805952| 704547913728|   NULL|         NULL|         NULL|  40779001856|  63146000384|   8810999808|        0.0104|2024-10-13|2024-10-13 15:38:...|\n",
      "|   JPM|         625813028864| -50615963648|   NULL|         NULL|         NULL|         NULL| 914490982400|1612570034176|        0.0225|2024-10-13|2024-10-13 15:38:...|\n",
      "|   XOM|         549178212352| 573764796416|   NULL|         NULL|         NULL|  70902996992|  43185999872|  26460000256|        0.0307|2024-10-13|2024-10-13 15:38:...|\n",
      "|  ORCL|         487069220864| 561110056960|   NULL|         NULL|         NULL|  21802999808|  84514996224|  10910999552|        0.0091|2024-10-13|2024-10-13 15:38:...|\n",
      "|    PG|         402011881472| 428067586048|   NULL|         NULL|         NULL|  23843999744|  33724999680|   9482000384|        0.0235|2024-10-13|2024-10-13 15:38:...|\n",
      "|   JNJ|         388672978944| 404689551360|   NULL|         NULL|         NULL|  31036999680|  41491001344|  25475000320|        0.0307|2024-10-13|2024-10-13 15:38:...|\n",
      "|   BAC|         325514395648| 262824280064|   NULL|         NULL|         NULL|         NULL| 761600016384| 850838028288|        0.0248|2024-10-13|2024-10-13 15:38:...|\n",
      "|    KO|         299837652992| 327458521088|   NULL|         NULL|         NULL|  14906999808|  45063000064|  19000000512|        0.0279|2024-10-13|2024-10-13 15:38:...|\n",
      "|   MRK|         278144712704| 304644620288|   NULL|         NULL|         NULL|  23631998976|  37788000256|  11354000384|   0.028099999|2024-10-13|2024-10-13 15:38:...|\n",
      "|   AMD|         271726608384| 268631916544|   NULL|         NULL|         NULL|   4046000128|   2244999936|   5340000256|          NULL|2024-10-13|2024-10-13 15:38:...|\n",
      "+------+---------------------+-------------+-------+-------------+-------------+-------------+-------------+-------------+--------------+----------+--------------------+\n",
      "only showing top 20 rows\n",
      "\n"
     ]
    },
    {
     "name": "stdout",
     "output_type": "stream",
     "text": [
      "+------+-----------+-------------------+--------+----------+----------+-----------------+-----------------+---------+------------+-----+----------+--------------------+\n",
      "|ticker|preco_atual|fechamento_anterior|abertura|minimo_dia|maximo_dia|minimo_52_semanas|maximo_52_semanas|   volume|volume_medio| beta|  dt_ptcao|          dthr_igtao|\n",
      "+------+-----------+-------------------+--------+----------+----------+-----------------+-----------------+---------+------------+-----+----------+--------------------+\n",
      "|  AAPL|     227.55|             229.04|  229.32|    227.34|    229.41|           164.08|           237.23| 31759188|    52131056|1.239|2024-10-13|2024-10-13 15:38:...|\n",
      "|  NVDA|      134.8|             134.81|  134.02|    133.66|    135.78|            39.23|           140.76|170209474|   324770165|1.669|2024-10-13|2024-10-13 15:38:...|\n",
      "|  MSFT|     416.32|             415.84|  415.91|    413.27|  417.1099|           324.39|           468.35| 14144944|    19930348|0.896|2024-10-13|2024-10-13 15:38:...|\n",
      "|  GOOG|     164.52|             163.18|  163.33|     162.5|    165.27|           121.46|           193.31| 10945971|    17891218|1.038|2024-10-13|2024-10-13 15:38:...|\n",
      "| GOOGL|     163.24|             162.08|  162.13|   161.235|     163.9|           120.21|           191.75| 15344251|    25478684|1.038|2024-10-13|2024-10-13 15:38:...|\n",
      "|  AMZN|     188.82|             186.65|  186.63|     186.3|  189.9284|           118.35|            201.2| 25751557|    39839331|1.147|2024-10-13|2024-10-13 15:38:...|\n",
      "|  META|     589.95|             583.83|  584.54|    582.71|    591.21|            279.4|           602.95|  8587051|    13605935|1.216|2024-10-13|2024-10-13 15:38:...|\n",
      "|   TSM|     190.81|             185.78|  188.17|    188.01|  191.4899|            84.95|           193.47| 12130677|    15634181|1.268|2024-10-13|2024-10-13 15:38:...|\n",
      "|  AVGO|     181.48|             185.69|  181.14|     177.4|    182.55|           81.834|           186.42| 23070023|    27799742|1.184|2024-10-13|2024-10-13 15:38:...|\n",
      "|  TSLA|      217.8|             238.77|  220.12|     214.4|    223.34|            138.8|            271.0|142628874|    85236089|2.297|2024-10-13|2024-10-13 15:38:...|\n",
      "|   WMT|       80.1|              79.61|    79.7|    79.385|     80.13|         49.84667|             81.6|  7176423|    16498103|0.516|2024-10-13|2024-10-13 15:38:...|\n",
      "|   JPM|     222.29|             212.84|  215.67|    215.16|  224.6299|           135.19|           225.48| 16243847|     8911495|1.102|2024-10-13|2024-10-13 15:38:...|\n",
      "|   XOM|     123.61|             123.14|   123.1|  122.9504|  124.0339|            95.77|           126.34|  8162025|    14287645|0.877|2024-10-13|2024-10-13 15:38:...|\n",
      "|  ORCL|     175.77|             175.41| 175.495|     174.4|     177.0|            99.26|           178.61|  4834668|     8383640|1.008|2024-10-13|2024-10-13 15:38:...|\n",
      "|    PG|     171.09|             168.95|  169.46|    168.97|    171.41|            142.5|           177.94|  4365893|     7056696|0.407|2024-10-13|2024-10-13 15:38:...|\n",
      "|   JNJ|     161.46|             160.51|  162.18|     161.2|    162.66|           143.13|           168.85|  5252195|     6547184|0.518|2024-10-13|2024-10-13 15:38:...|\n",
      "|   BAC|      41.95|              39.97|    40.5|      40.4|     42.17|            24.96|            44.44| 50569983|    40139662|1.338|2024-10-13|2024-10-13 15:38:...|\n",
      "|    KO|      69.57|              69.25|   69.46|    68.995|     69.59|            52.84|            73.53|  5790909|    13763570|0.608|2024-10-13|2024-10-13 15:38:...|\n",
      "|   MRK|     109.73|              109.4|   109.1|     107.9|   109.915|            99.14|           134.63|  8572149|     9523098|0.399|2024-10-13|2024-10-13 15:38:...|\n",
      "|   AMD|     167.89|             164.18| 164.185|  163.0101|    169.35|            93.12|            227.3| 42136175|    44674215|1.695|2024-10-13|2024-10-13 15:38:...|\n",
      "+------+-----------+-------------------+--------+----------+----------+-----------------+-----------------+---------+------------+-----+----------+--------------------+\n",
      "only showing top 20 rows\n",
      "\n",
      "+------+--------------+-------------------+-------------------+----------+--------------------+\n",
      "|ticker|taxa_dividendo|   data_exdividendo|indice_distribuicao|  dt_ptcao|          dthr_igtao|\n",
      "+------+--------------+-------------------+-------------------+----------+--------------------+\n",
      "|  AAPL|           1.0|2024-08-11 21:00:00|             0.1476|2024-10-13|2024-10-13 15:38:...|\n",
      "|  NVDA|          0.04|2024-09-11 21:00:00|        0.010299999|2024-10-13|2024-10-13 15:38:...|\n",
      "|  MSFT|          3.32|2024-11-20 21:00:00|             0.2483|2024-10-13|2024-10-13 15:38:...|\n",
      "|  GOOG|           0.8|2024-09-08 21:00:00|             0.0287|2024-10-13|2024-10-13 15:38:...|\n",
      "| GOOGL|           0.8|2024-09-08 21:00:00|             0.0287|2024-10-13|2024-10-13 15:38:...|\n",
      "|  AMZN|          NULL|               NULL|               NULL|2024-10-13|2024-10-13 15:38:...|\n",
      "|  META|           2.0|2024-09-15 21:00:00|             0.0512|2024-10-13|2024-10-13 15:38:...|\n",
      "|   TSM|          2.47|2024-12-11 21:00:00|         0.35900003|2024-10-13|2024-10-13 15:38:...|\n",
      "|  AVGO|          2.12|2024-09-18 21:00:00|             1.6438|2024-10-13|2024-10-13 15:38:...|\n",
      "|  TSLA|          NULL|               NULL|               NULL|2024-10-13|2024-10-13 15:38:...|\n",
      "|   WMT|          0.83|2024-12-11 21:00:00|             0.4141|2024-10-13|2024-10-13 15:38:...|\n",
      "|   JPM|           5.0|2024-10-03 21:00:00|             0.2557|2024-10-13|2024-10-13 15:38:...|\n",
      "|   XOM|           3.8|2024-08-14 21:00:00|         0.44979998|2024-10-13|2024-10-13 15:38:...|\n",
      "|  ORCL|           1.6|2024-10-09 21:00:00|             0.4124|2024-10-13|2024-10-13 15:38:...|\n",
      "|    PG|          4.03|2024-10-17 21:00:00|              0.636|2024-10-13|2024-10-13 15:38:...|\n",
      "|   JNJ|          4.96|2024-08-26 21:00:00|             0.7277|2024-10-13|2024-10-13 15:38:...|\n",
      "|   BAC|          1.04|2024-09-05 21:00:00|             0.3368|2024-10-13|2024-10-13 15:38:...|\n",
      "|    KO|          1.94|2024-09-12 21:00:00|             0.7683|2024-10-13|2024-10-13 15:38:...|\n",
      "|   MRK|          3.08|2024-09-15 21:00:00|         0.56299996|2024-10-13|2024-10-13 15:38:...|\n",
      "|   AMD|          NULL|1995-04-26 21:00:00|               NULL|2024-10-13|2024-10-13 15:38:...|\n",
      "+------+--------------+-------------------+-------------------+----------+--------------------+\n",
      "only showing top 20 rows\n",
      "\n"
     ]
    },
    {
     "name": "stdout",
     "output_type": "stream",
     "text": [
      "+------+---------+-------------+-------------+------------------------+----------+--------------------+\n",
      "|ticker|pl_futuro|pl_retroativo|preco_booking|indice_preco_lucro_cresc|  dt_ptcao|          dthr_igtao|\n",
      "+------+---------+-------------+-------------+------------------------+----------+--------------------+\n",
      "|  AAPL|30.421124|     34.58207|    51.928345|                    3.09|2024-10-13|2024-10-13 15:38:...|\n",
      "|  NVDA| 33.44913|    63.286385|    56.925674|                     0.9|2024-10-13|2024-10-13 15:38:...|\n",
      "|  MSFT|27.353483|     35.34126|    11.527619|                    2.16|2024-10-13|2024-10-13 15:38:...|\n",
      "|  GOOG|18.888634|    23.570202|    6.7404127|                    1.04|2024-10-13|2024-10-13 15:38:...|\n",
      "| GOOGL|18.741676|    23.420374|     6.687971|                    1.03|2024-10-13|2024-10-13 15:38:...|\n",
      "|  AMZN| 32.49914|     45.06444|     8.377108|                    1.24|2024-10-13|2024-10-13 15:38:...|\n",
      "|  META|24.287773|    30.207373|     9.532543|                    2.01|2024-10-13|2024-10-13 15:38:...|\n",
      "|   TSM|23.016888|    34.134167|    1.3049246|                    1.31|2024-10-13|2024-10-13 15:38:...|\n",
      "|  AVGO|29.461039|    147.54471|    3.0644534|                    1.94|2024-10-13|2024-10-13 15:38:...|\n",
      "|  TSLA|70.944626|    61.352116|    10.466123|                   73.56|2024-10-13|2024-10-13 15:38:...|\n",
      "|   WMT|29.448528|     41.71875|     7.623489|                    3.19|2024-10-13|2024-10-13 15:38:...|\n",
      "|   JPM|13.399035|    12.363181|    1.9304217|                     7.0|2024-10-13|2024-10-13 15:38:...|\n",
      "|   XOM|14.750597|    14.785886|     2.046083|                    4.46|2024-10-13|2024-10-13 15:38:...|\n",
      "|  ORCL|24.548883|    45.301548|    45.034588|                    2.42|2024-10-13|2024-10-13 15:38:...|\n",
      "|    PG|23.026918|    28.420265|     8.148695|                    3.75|2024-10-13|2024-10-13 15:38:...|\n",
      "|   JNJ|15.362513|    24.463638|     5.432157|                    2.44|2024-10-13|2024-10-13 15:38:...|\n",
      "|   BAC|11.588398|    14.719299|    1.2199732|                    1.25|2024-10-13|2024-10-13 15:38:...|\n",
      "|    KO|22.809835|    28.280487|       11.595|                    4.03|2024-10-13|2024-10-13 15:38:...|\n",
      "|   MRK|11.312371|     20.32037|    6.3841057|                    0.16|2024-10-13|2024-10-13 15:38:...|\n",
      "|   AMD| 30.91897|    199.86905|     4.804682|                    1.46|2024-10-13|2024-10-13 15:38:...|\n",
      "+------+---------+-------------+-------------+------------------------+----------+--------------------+\n",
      "only showing top 20 rows\n",
      "\n"
     ]
    }
   ],
   "source": [
    "df_geral, df_financeira, df_mercado, df_dividendos, df_valuation = criar_tabelas_spark(df_tickers)\n",
    "# Exibir os DataFrames\n",
    "df_geral.show()\n",
    "df_financeira.show()\n",
    "df_mercado.show()\n",
    "df_dividendos.show()\n",
    "df_valuation.show()"
   ]
  },
  {
   "cell_type": "code",
   "execution_count": 14,
   "id": "a9796abf",
   "metadata": {
    "execution": {
     "iopub.execute_input": "2024-10-13T18:38:33.178180Z",
     "iopub.status.busy": "2024-10-13T18:38:33.177558Z",
     "iopub.status.idle": "2024-10-13T18:38:33.184600Z",
     "shell.execute_reply": "2024-10-13T18:38:33.184005Z"
    },
    "jupyter": {
     "source_hidden": true
    },
    "papermill": {
     "duration": 0.017255,
     "end_time": "2024-10-13T18:38:33.185583",
     "exception": false,
     "start_time": "2024-10-13T18:38:33.168328",
     "status": "completed"
    },
    "tags": []
   },
   "outputs": [
    {
     "name": "stdout",
     "output_type": "stream",
     "text": [
      "root\n",
      " |-- ticker: string (nullable = true)\n",
      " |-- data: timestamp (nullable = true)\n",
      " |-- abertura: double (nullable = true)\n",
      " |-- alta: double (nullable = true)\n",
      " |-- baixa: double (nullable = true)\n",
      " |-- fechamento: double (nullable = true)\n",
      " |-- volume: long (nullable = true)\n",
      " |-- dividendos: double (nullable = true)\n",
      " |-- desdobramentos: double (nullable = true)\n",
      " |-- fechamento_mes_anterior: double (nullable = true)\n",
      " |-- valor_retorno: double (nullable = true)\n",
      " |-- porcentagem_retorno: double (nullable = true)\n",
      " |-- dt_ptcao: string (nullable = false)\n",
      " |-- dthr_igtao: timestamp (nullable = false)\n",
      "\n",
      "root\n",
      " |-- ticker: string (nullable = true)\n",
      " |-- nome_curto: string (nullable = true)\n",
      " |-- nome_exibicao: string (nullable = true)\n",
      " |-- preco_mercado_regular: double (nullable = true)\n",
      " |-- mudanca_mercado_regular: double (nullable = true)\n",
      " |-- mudanca_percentual_mercado_regular: double (nullable = true)\n",
      " |-- volume_mercado_regular: long (nullable = true)\n",
      " |-- capitalizacao_mercado: long (nullable = true)\n",
      " |-- nome_exchange_completa: string (nullable = true)\n",
      " |-- nome_fonte_cotacao: string (nullable = true)\n",
      " |-- dt_ptcao: string (nullable = false)\n",
      " |-- dthr_igtao: timestamp (nullable = false)\n",
      "\n",
      "root\n",
      " |-- ticker: string (nullable = false)\n",
      " |-- setor: string (nullable = true)\n",
      " |-- industria: string (nullable = true)\n",
      " |-- funcionarios: integer (nullable = true)\n",
      " |-- cidade: string (nullable = true)\n",
      " |-- estado: string (nullable = true)\n",
      " |-- pais: string (nullable = true)\n",
      " |-- website: string (nullable = true)\n",
      " |-- resumo_negocios: string (nullable = true)\n",
      " |-- exchange: string (nullable = true)\n",
      " |-- dt_ptcao: string (nullable = false)\n",
      " |-- dthr_igtao: timestamp (nullable = false)\n",
      "\n",
      "root\n",
      " |-- ticker: string (nullable = false)\n",
      " |-- capitalizacao_mercado: long (nullable = true)\n",
      " |-- valor_empresa: long (nullable = true)\n",
      " |-- receita: long (nullable = true)\n",
      " |-- lucros_brutos: long (nullable = true)\n",
      " |-- lucro_liquido: long (nullable = true)\n",
      " |-- ebitda: long (nullable = true)\n",
      " |-- divida_total: long (nullable = true)\n",
      " |-- caixa_total: long (nullable = true)\n",
      " |-- dividend_yield: double (nullable = true)\n",
      " |-- dt_ptcao: string (nullable = false)\n",
      " |-- dthr_igtao: timestamp (nullable = false)\n",
      "\n",
      "root\n",
      " |-- ticker: string (nullable = false)\n",
      " |-- preco_atual: double (nullable = true)\n",
      " |-- fechamento_anterior: double (nullable = true)\n",
      " |-- abertura: double (nullable = true)\n",
      " |-- minimo_dia: double (nullable = true)\n",
      " |-- maximo_dia: double (nullable = true)\n",
      " |-- minimo_52_semanas: double (nullable = true)\n",
      " |-- maximo_52_semanas: double (nullable = true)\n",
      " |-- volume: long (nullable = true)\n",
      " |-- volume_medio: long (nullable = true)\n",
      " |-- beta: double (nullable = true)\n",
      " |-- dt_ptcao: string (nullable = false)\n",
      " |-- dthr_igtao: timestamp (nullable = false)\n",
      "\n",
      "root\n",
      " |-- ticker: string (nullable = false)\n",
      " |-- taxa_dividendo: double (nullable = true)\n",
      " |-- data_exdividendo: string (nullable = true)\n",
      " |-- indice_distribuicao: double (nullable = true)\n",
      " |-- dt_ptcao: string (nullable = false)\n",
      " |-- dthr_igtao: timestamp (nullable = false)\n",
      "\n",
      "root\n",
      " |-- ticker: string (nullable = false)\n",
      " |-- pl_futuro: double (nullable = true)\n",
      " |-- pl_retroativo: double (nullable = true)\n",
      " |-- preco_booking: double (nullable = true)\n",
      " |-- indice_preco_lucro_cresc: double (nullable = true)\n",
      " |-- dt_ptcao: string (nullable = false)\n",
      " |-- dthr_igtao: timestamp (nullable = false)\n",
      "\n"
     ]
    }
   ],
   "source": [
    "df_retorno_mensal.printSchema()\n",
    "df_ativas.printSchema()\n",
    "df_geral.printSchema()\n",
    "df_financeira.printSchema()\n",
    "df_mercado.printSchema()\n",
    "df_dividendos.printSchema()\n",
    "df_valuation.printSchema()\n"
   ]
  },
  {
   "cell_type": "markdown",
   "id": "fc60febe",
   "metadata": {
    "papermill": {
     "duration": 0.008566,
     "end_time": "2024-10-13T18:38:33.202300",
     "exception": false,
     "start_time": "2024-10-13T18:38:33.193734",
     "status": "completed"
    },
    "tags": []
   },
   "source": [
    "## postgree upsert"
   ]
  },
  {
   "cell_type": "code",
   "execution_count": 15,
   "id": "88bf7b54",
   "metadata": {
    "execution": {
     "iopub.execute_input": "2024-10-13T18:38:33.221554Z",
     "iopub.status.busy": "2024-10-13T18:38:33.220972Z",
     "iopub.status.idle": "2024-10-13T18:38:33.227320Z",
     "shell.execute_reply": "2024-10-13T18:38:33.226562Z"
    },
    "jupyter": {
     "source_hidden": true
    },
    "papermill": {
     "duration": 0.017835,
     "end_time": "2024-10-13T18:38:33.228297",
     "exception": false,
     "start_time": "2024-10-13T18:38:33.210462",
     "status": "completed"
    },
    "tags": []
   },
   "outputs": [],
   "source": [
    "SRVNAME = \"postgres\"\n",
    "USER = \"airflow\"\n",
    "PASSWORD = \"airflow\"\n",
    "HOST = \"postgres\"\n",
    "PORT = \"5432\"\n",
    "DBNAME = \"paxpedb\"\n",
    "\n",
    "# Parâmetros de conexão usando as variáveis\n",
    "conn_params = {\n",
    "    'dbname': DBNAME,\n",
    "    'user': USER,\n",
    "    'password': PASSWORD,\n",
    "    'host': HOST,\n",
    "    'port': PORT\n",
    "}"
   ]
  },
  {
   "cell_type": "code",
   "execution_count": 16,
   "id": "5d08a60b",
   "metadata": {
    "execution": {
     "iopub.execute_input": "2024-10-13T18:38:33.247514Z",
     "iopub.status.busy": "2024-10-13T18:38:33.247181Z",
     "iopub.status.idle": "2024-10-13T18:38:33.287024Z",
     "shell.execute_reply": "2024-10-13T18:38:33.286419Z"
    },
    "jupyter": {
     "source_hidden": true
    },
    "papermill": {
     "duration": 0.050863,
     "end_time": "2024-10-13T18:38:33.288111",
     "exception": false,
     "start_time": "2024-10-13T18:38:33.237248",
     "status": "completed"
    },
    "tags": []
   },
   "outputs": [
    {
     "name": "stdout",
     "output_type": "stream",
     "text": [
      "Conexão com postgres sucedida\n"
     ]
    }
   ],
   "source": [
    "def test_connection():\n",
    "    try:\n",
    "        # Connect to the PostgreSQL server using variables\n",
    "        connection = psycopg2.connect(\n",
    "            dbname=SRVNAME,\n",
    "            user=USER,\n",
    "            password=PASSWORD,\n",
    "            host=HOST,\n",
    "            port=PORT\n",
    "        )\n",
    "        print(\"Conexão com postgres sucedida\")\n",
    "        return True\n",
    "    except OperationalError as e:\n",
    "        print(f\"Error: {e}\")\n",
    "        return False\n",
    "    finally:\n",
    "        if connection:\n",
    "            connection.close()\n",
    "if not test_connection():\n",
    "    sys.exit(1)"
   ]
  },
  {
   "cell_type": "markdown",
   "id": "e8fcbbf6",
   "metadata": {
    "papermill": {
     "duration": 0.008609,
     "end_time": "2024-10-13T18:38:33.305139",
     "exception": false,
     "start_time": "2024-10-13T18:38:33.296530",
     "status": "completed"
    },
    "tags": []
   },
   "source": [
    "### para inserir no postgres é necessário\n",
    "> 1. alimentar as tabelas em stage --- temp_nometabela\n",
    "> 2. realizar o upsert comparando as tabelas"
   ]
  },
  {
   "cell_type": "code",
   "execution_count": 17,
   "id": "a697420a",
   "metadata": {
    "execution": {
     "iopub.execute_input": "2024-10-13T18:38:33.323224Z",
     "iopub.status.busy": "2024-10-13T18:38:33.322917Z",
     "iopub.status.idle": "2024-10-13T18:38:33.328004Z",
     "shell.execute_reply": "2024-10-13T18:38:33.327317Z"
    },
    "jupyter": {
     "source_hidden": true
    },
    "papermill": {
     "duration": 0.01593,
     "end_time": "2024-10-13T18:38:33.329115",
     "exception": false,
     "start_time": "2024-10-13T18:38:33.313185",
     "status": "completed"
    },
    "tags": []
   },
   "outputs": [],
   "source": [
    "def write_to_postgres(df, table_name, schema_name=\"paxpestg\"):\n",
    "  \n",
    "    df.write \\\n",
    "        .format(\"jdbc\") \\\n",
    "        .option(\"url\", f\"jdbc:postgresql://{HOST}:{PORT}/{DBNAME}\") \\\n",
    "        .option(\"dbtable\", f\"{schema_name}.{table_name}\") \\\n",
    "        .option(\"user\", USER) \\\n",
    "        .option(\"password\", PASSWORD) \\\n",
    "        .option(\"driver\", \"org.postgresql.Driver\") \\\n",
    "        .mode(\"overwrite\") \\\n",
    "        .save()"
   ]
  },
  {
   "cell_type": "code",
   "execution_count": 18,
   "id": "d566df51",
   "metadata": {
    "execution": {
     "iopub.execute_input": "2024-10-13T18:38:33.347736Z",
     "iopub.status.busy": "2024-10-13T18:38:33.347087Z",
     "iopub.status.idle": "2024-10-13T18:38:51.047703Z",
     "shell.execute_reply": "2024-10-13T18:38:51.047075Z"
    },
    "jupyter": {
     "source_hidden": true
    },
    "papermill": {
     "duration": 17.711508,
     "end_time": "2024-10-13T18:38:51.049397",
     "exception": false,
     "start_time": "2024-10-13T18:38:33.337889",
     "status": "completed"
    },
    "tags": []
   },
   "outputs": [
    {
     "name": "stderr",
     "output_type": "stream",
     "text": [
      "\r",
      "[Stage 418:>(6 + 18) / 24][Stage 419:> (0 + 6) / 24][Stage 420:> (0 + 0) / 24]\r"
     ]
    },
    {
     "name": "stderr",
     "output_type": "stream",
     "text": [
      "\r",
      "[Stage 421:>(16 + 8) / 24][Stage 422:>(0 + 17) / 24][Stage 423:> (0 + 0) / 24]\r"
     ]
    },
    {
     "name": "stderr",
     "output_type": "stream",
     "text": [
      "\r",
      "[Stage 422:(11 + 13) / 24][Stage 423:>(0 + 11) / 24][Stage 424:> (0 + 0) / 24]\r",
      "\r",
      "[Stage 427:>(23 + 1) / 24][Stage 428:>(5 + 19) / 24][Stage 429:> (0 + 4) / 24]\r"
     ]
    },
    {
     "name": "stderr",
     "output_type": "stream",
     "text": [
      "\r",
      "[Stage 433:>(17 + 7) / 24][Stage 434:>(0 + 19) / 24][Stage 435:> (0 + 0) / 24]\r"
     ]
    },
    {
     "name": "stderr",
     "output_type": "stream",
     "text": [
      "\r",
      "[Stage 437:(13 + 11) / 24][Stage 438:>(0 + 13) / 24][Stage 439:> (0 + 0) / 24]\r",
      "\r",
      "[Stage 440:(14 + 10) / 24][Stage 441:>(0 + 19) / 24][Stage 442:> (0 + 0) / 24]\r"
     ]
    },
    {
     "name": "stderr",
     "output_type": "stream",
     "text": [
      "\r",
      "[Stage 444:>(1 + 23) / 24][Stage 445:> (0 + 1) / 24][Stage 446:> (0 + 0) / 24]\r"
     ]
    },
    {
     "name": "stderr",
     "output_type": "stream",
     "text": [
      "\r",
      "[Stage 447:(14 + 10) / 24][Stage 448:>(0 + 15) / 24][Stage 449:> (0 + 0) / 24]\r",
      "\r",
      "[Stage 449:>(19 + 5) / 24][Stage 450:>(8 + 16) / 24][Stage 451:> (0 + 3) / 24]\r"
     ]
    },
    {
     "name": "stderr",
     "output_type": "stream",
     "text": [
      "\r",
      "[Stage 453:(10 + 14) / 24][Stage 454:>(0 + 10) / 24][Stage 455:> (0 + 0) / 24]\r"
     ]
    },
    {
     "name": "stderr",
     "output_type": "stream",
     "text": [
      "\r",
      "[Stage 456:>(16 + 8) / 24][Stage 457:>(0 + 23) / 24][Stage 458:> (0 + 0) / 24]\r",
      "\r",
      "[Stage 460:(10 + 14) / 24][Stage 461:>(0 + 17) / 24][Stage 462:> (0 + 0) / 24]\r"
     ]
    },
    {
     "name": "stderr",
     "output_type": "stream",
     "text": [
      "\r",
      "[Stage 464:>(7 + 17) / 24][Stage 465:> (0 + 7) / 24][Stage 466:> (0 + 0) / 24]\r",
      "\r",
      "[Stage 467:>(16 + 8) / 24][Stage 468:>(0 + 16) / 24][Stage 469:> (0 + 0) / 24]\r"
     ]
    },
    {
     "name": "stderr",
     "output_type": "stream",
     "text": [
      "\r",
      "[Stage 469:>(4 + 20) / 24][Stage 470:> (1 + 4) / 24][Stage 471:> (0 + 0) / 24]\r",
      "\r",
      "[Stage 472:>(20 + 4) / 24][Stage 473:>(0 + 20) / 24][Stage 474:> (0 + 0) / 24]\r"
     ]
    },
    {
     "name": "stderr",
     "output_type": "stream",
     "text": [
      "\r",
      "[Stage 476:>(15 + 9) / 24][Stage 477:>(0 + 15) / 24][Stage 478:> (0 + 0) / 24]\r",
      "\r",
      "[Stage 480:>(9 + 15) / 24][Stage 481:> (0 + 9) / 24][Stage 482:> (0 + 0) / 24]\r"
     ]
    },
    {
     "name": "stderr",
     "output_type": "stream",
     "text": [
      "\r",
      "[Stage 482:>(23 + 1) / 24][Stage 483:>(0 + 23) / 24][Stage 484:> (0 + 0) / 24]\r",
      "\r",
      "[Stage 486:(12 + 12) / 24][Stage 487:>(0 + 12) / 24][Stage 488:> (0 + 0) / 24]\r"
     ]
    },
    {
     "name": "stderr",
     "output_type": "stream",
     "text": [
      "\r",
      "[Stage 490:>(7 + 17) / 24][Stage 491:> (0 + 7) / 24][Stage 492:> (0 + 0) / 24]\r",
      "\r",
      "[Stage 494:>(5 + 19) / 24][Stage 495:> (0 + 5) / 24][Stage 496:> (0 + 0) / 24]\r"
     ]
    },
    {
     "name": "stderr",
     "output_type": "stream",
     "text": [
      "\r",
      "[Stage 498:>(0 + 24) / 24][Stage 499:> (0 + 0) / 24][Stage 500:> (0 + 0) / 24]\r"
     ]
    },
    {
     "name": "stderr",
     "output_type": "stream",
     "text": [
      "\r",
      "[Stage 501:>(15 + 9) / 24][Stage 502:>(0 + 15) / 24][Stage 503:> (0 + 0) / 24]\r",
      "\r",
      "[Stage 505:>(8 + 16) / 24][Stage 506:> (0 + 8) / 24][Stage 507:> (0 + 0) / 24]\r"
     ]
    },
    {
     "name": "stderr",
     "output_type": "stream",
     "text": [
      "\r",
      "[Stage 508:>(20 + 4) / 24][Stage 509:>(0 + 20) / 24][Stage 510:> (0 + 0) / 24]\r",
      "\r",
      "[Stage 512:(13 + 11) / 24][Stage 513:>(0 + 13) / 24][Stage 514:> (0 + 0) / 24]\r"
     ]
    },
    {
     "name": "stderr",
     "output_type": "stream",
     "text": [
      "\r",
      "[Stage 516:>(7 + 17) / 24][Stage 517:> (0 + 7) / 24][Stage 518:> (0 + 0) / 24]\r",
      "\r",
      "[Stage 519:>(17 + 7) / 24][Stage 520:>(0 + 20) / 24][Stage 521:> (0 + 0) / 24]\r"
     ]
    },
    {
     "name": "stderr",
     "output_type": "stream",
     "text": [
      "\r",
      "[Stage 523:>(7 + 17) / 24][Stage 524:> (0 + 7) / 24][Stage 525:> (0 + 0) / 24]\r",
      "\r",
      "[Stage 526:>(22 + 2) / 24][Stage 527:>(1 + 22) / 24][Stage 528:> (0 + 0) / 24]\r"
     ]
    },
    {
     "name": "stderr",
     "output_type": "stream",
     "text": [
      "\r",
      "[Stage 530:(12 + 12) / 24][Stage 531:>(0 + 12) / 24][Stage 532:> (0 + 0) / 24]\r",
      "\r",
      "[Stage 534:>(9 + 15) / 24][Stage 535:> (0 + 9) / 24][Stage 536:> (0 + 0) / 24]\r"
     ]
    },
    {
     "name": "stderr",
     "output_type": "stream",
     "text": [
      "\r",
      "[Stage 538:>(6 + 18) / 24][Stage 539:> (0 + 6) / 24][Stage 540:> (0 + 0) / 24]\r",
      "\r",
      "[Stage 542:>(6 + 18) / 24][Stage 543:> (0 + 6) / 24][Stage 544:> (0 + 0) / 24]\r"
     ]
    },
    {
     "name": "stderr",
     "output_type": "stream",
     "text": [
      "\r",
      "[Stage 545:>(18 + 6) / 24][Stage 546:>(0 + 18) / 24][Stage 547:> (0 + 0) / 24]\r",
      "\r",
      "[Stage 549:>(6 + 18) / 24][Stage 550:> (0 + 6) / 24][Stage 551:> (0 + 0) / 24]\r"
     ]
    },
    {
     "name": "stderr",
     "output_type": "stream",
     "text": [
      "\r",
      "[Stage 552:>(23 + 1) / 24][Stage 553:>(5 + 19) / 24][Stage 554:> (0 + 4) / 24]\r",
      "\r",
      "[Stage 556:(13 + 11) / 24][Stage 557:>(0 + 13) / 24][Stage 558:> (0 + 0) / 24]\r"
     ]
    },
    {
     "name": "stderr",
     "output_type": "stream",
     "text": [
      "\r",
      "[Stage 560:>(4 + 20) / 24][Stage 561:> (0 + 4) / 24][Stage 562:> (0 + 0) / 24]\r",
      "\r",
      "[Stage 563:>(21 + 3) / 24][Stage 564:>(0 + 21) / 24][Stage 565:> (0 + 0) / 24]\r"
     ]
    },
    {
     "name": "stderr",
     "output_type": "stream",
     "text": [
      "\r",
      "[Stage 567:>(9 + 15) / 24][Stage 568:> (0 + 9) / 24][Stage 569:> (0 + 0) / 24]\r"
     ]
    },
    {
     "name": "stderr",
     "output_type": "stream",
     "text": [
      "\r",
      "[Stage 571:>(3 + 21) / 24][Stage 572:> (0 + 3) / 24][Stage 573:> (0 + 0) / 24]\r",
      "\r",
      "[Stage 574:>(18 + 6) / 24][Stage 575:>(0 + 19) / 24][Stage 576:> (0 + 0) / 24]\r"
     ]
    },
    {
     "name": "stderr",
     "output_type": "stream",
     "text": [
      "\r",
      "[Stage 578:(12 + 12) / 24][Stage 579:>(0 + 12) / 24][Stage 580:> (0 + 0) / 24]\r",
      "\r",
      "[Stage 582:>(3 + 21) / 24][Stage 583:> (0 + 3) / 24][Stage 584:> (0 + 0) / 24]\r"
     ]
    },
    {
     "name": "stderr",
     "output_type": "stream",
     "text": [
      "\r",
      "[Stage 585:>(7 + 17) / 24][Stage 586:> (0 + 8) / 24][Stage 587:> (0 + 0) / 24]\r",
      "\r",
      "[Stage 589:>(5 + 19) / 24][Stage 590:> (0 + 5) / 24][Stage 591:> (0 + 0) / 24]\r"
     ]
    },
    {
     "name": "stderr",
     "output_type": "stream",
     "text": [
      "\r",
      "[Stage 592:>(16 + 8) / 24][Stage 593:>(1 + 16) / 24][Stage 594:> (0 + 0) / 24]\r",
      "\r",
      "[Stage 596:>(9 + 15) / 24][Stage 597:>(0 + 10) / 24][Stage 598:> (0 + 0) / 24]\r"
     ]
    },
    {
     "name": "stderr",
     "output_type": "stream",
     "text": [
      "\r",
      "[Stage 600:>(2 + 22) / 24][Stage 601:> (0 + 2) / 24][Stage 602:> (0 + 0) / 24]\r",
      "\r",
      "[Stage 603:>(15 + 9) / 24][Stage 604:>(0 + 15) / 24][Stage 605:> (0 + 0) / 24]\r"
     ]
    },
    {
     "name": "stderr",
     "output_type": "stream",
     "text": [
      "\r",
      "[Stage 607:>(15 + 9) / 24][Stage 608:>(0 + 15) / 24][Stage 609:> (0 + 0) / 24]\r",
      "\r",
      "[Stage 611:>(6 + 18) / 24][Stage 612:> (0 + 9) / 24][Stage 613:> (0 + 0) / 24]\r"
     ]
    },
    {
     "name": "stderr",
     "output_type": "stream",
     "text": [
      "\r",
      "[Stage 615:=========>                                             (4 + 20) / 24]\r"
     ]
    },
    {
     "name": "stderr",
     "output_type": "stream",
     "text": [
      "24/10/13 18:38:48 WARN DAGScheduler: Broadcasting large task binary with size 3.8 MiB\n"
     ]
    },
    {
     "name": "stderr",
     "output_type": "stream",
     "text": [
      "\r",
      "[Stage 816:=========>                                           (35 + 28) / 200]\r"
     ]
    },
    {
     "name": "stderr",
     "output_type": "stream",
     "text": [
      "\r",
      "[Stage 816:=================>                                   (66 + 24) / 200]\r",
      "\r",
      "[Stage 816:===========================>                        (106 + 24) / 200]\r"
     ]
    },
    {
     "name": "stderr",
     "output_type": "stream",
     "text": [
      "\r",
      "[Stage 816:===================================>                (135 + 25) / 200]\r",
      "\r",
      "[Stage 816:===========================================>        (168 + 24) / 200]\r"
     ]
    },
    {
     "name": "stderr",
     "output_type": "stream",
     "text": [
      "\r",
      "                                                                                \r"
     ]
    }
   ],
   "source": [
    "# escrita das tabelas em stage\n",
    "write_to_postgres(df_retorno_mensal, \"temp_retorno_mensal\")\n",
    "write_to_postgres(df_ativas, \"temp_captacao_mercado\")\n",
    "write_to_postgres(df_geral, \"temp_cadastro\")\n",
    "write_to_postgres(df_financeira, \"temp_financas\")\n",
    "write_to_postgres(df_mercado, \"temp_mercado\")\n",
    "write_to_postgres(df_dividendos, \"temp_dividendos\")\n",
    "write_to_postgres(df_valuation, \"temp_valuation\")"
   ]
  },
  {
   "cell_type": "code",
   "execution_count": 19,
   "id": "a4486129",
   "metadata": {
    "execution": {
     "iopub.execute_input": "2024-10-13T18:38:51.070638Z",
     "iopub.status.busy": "2024-10-13T18:38:51.070235Z",
     "iopub.status.idle": "2024-10-13T18:38:51.122675Z",
     "shell.execute_reply": "2024-10-13T18:38:51.122037Z"
    },
    "jupyter": {
     "source_hidden": true
    },
    "papermill": {
     "duration": 0.063983,
     "end_time": "2024-10-13T18:38:51.123808",
     "exception": false,
     "start_time": "2024-10-13T18:38:51.059825",
     "status": "completed"
    },
    "tags": []
   },
   "outputs": [],
   "source": [
    "def upsert_data(table_name, temp_table_name, key_columns):\n",
    "    try:\n",
    "        # Conectar ao PostgreSQL\n",
    "        connection = psycopg2.connect(**conn_params)\n",
    "        cursor = connection.cursor()\n",
    "        \n",
    "        # Definir o fuso horário da sessão para UTC-3\n",
    "        cursor.execute(\"SET TIME ZONE 'America/Sao_Paulo';\")\n",
    "\n",
    "        # Definir esquemas\n",
    "        schema_fact = \"paxpe\"\n",
    "        schema_stg = \"paxpestg\"\n",
    "        \n",
    "        # Obter todas as colunas da tabela\n",
    "        cursor.execute(f\"\"\"\n",
    "        SELECT column_name\n",
    "        FROM information_schema.columns\n",
    "        WHERE table_schema = '{schema_fact}' AND table_name = '{table_name}'\n",
    "        \"\"\")\n",
    "        all_columns = [row[0] for row in cursor.fetchall()]\n",
    "\n",
    "        # Identificar colunas não chave e colunas de referência\n",
    "        non_key_columns = [col for col in all_columns if col not in key_columns and col not in ['dt_ptcao', 'dthr_igtao']]\n",
    "        reference_columns = ['dthr_igtao']\n",
    "\n",
    "        # Construir a declaração SQL de atualização col1, col2\n",
    "        key_columns_str = ', '.join(key_columns)\n",
    "        update_set_non_key = ', '.join([\n",
    "            f\"{col} = EXCLUDED.{col}\" \n",
    "            for col in non_key_columns\n",
    "        ])\n",
    "        \n",
    "        # Atualizar apenas as colunas não-chave se houver uma mudança\n",
    "        where_condition = ' OR '.join([\n",
    "            f\"target.{col} IS DISTINCT FROM EXCLUDED.{col}\" \n",
    "            for col in non_key_columns\n",
    "        ])\n",
    "        \n",
    "        # Para atualizar as colunas de referência se houver uma atualização nas colunas não-chave\n",
    "        update_set_reference = ', '.join([\n",
    "            f\"{col} = EXCLUDED.{col}\" \n",
    "            for col in reference_columns\n",
    "        ])\n",
    "        \n",
    "        sql = f\"\"\"\n",
    "        INSERT INTO {schema_fact}.{table_name} \n",
    "        (SELECT * FROM {schema_stg}.{temp_table_name})\n",
    "        ON CONFLICT ({key_columns_str}) \n",
    "        DO UPDATE SET\n",
    "        {update_set_non_key},\n",
    "        {update_set_reference}\n",
    "        WHERE EXISTS (\n",
    "            SELECT 1\n",
    "            FROM {schema_fact}.{table_name} AS target\n",
    "            WHERE { ' AND '.join([f\"target.{key} = EXCLUDED.{key}\" for key in key_columns]) }\n",
    "            AND ({where_condition})\n",
    "        );\n",
    "        \"\"\"\n",
    "        \n",
    "        # Executar a declaração SQL de upsert\n",
    "        cursor.execute(sql)\n",
    "        connection.commit()\n",
    "        print(f\"Upsert de {schema_stg}.{temp_table_name} realizado para {schema_fact}.{table_name}.\")\n",
    "    \n",
    "    except Exception as e:\n",
    "        print(f\"Error: {e}\")\n",
    "    \n",
    "    finally:\n",
    "        if connection:\n",
    "            cursor.close()\n",
    "            connection.close()"
   ]
  },
  {
   "cell_type": "code",
   "execution_count": 20,
   "id": "2e4f5c0d",
   "metadata": {
    "execution": {
     "iopub.execute_input": "2024-10-13T18:38:51.144496Z",
     "iopub.status.busy": "2024-10-13T18:38:51.143916Z",
     "iopub.status.idle": "2024-10-13T18:38:51.148294Z",
     "shell.execute_reply": "2024-10-13T18:38:51.147611Z"
    },
    "jupyter": {
     "source_hidden": true
    },
    "papermill": {
     "duration": 0.016003,
     "end_time": "2024-10-13T18:38:51.149574",
     "exception": false,
     "start_time": "2024-10-13T18:38:51.133571",
     "status": "completed"
    },
    "tags": []
   },
   "outputs": [],
   "source": [
    "# colunas chave para cada tabela\n",
    "key_columns_retorno_mensal = [\"ticker\", \"data\"]\n",
    "key_columns_cadastro = [\"ticker\"]\n",
    "key_columns_cap_mercado = [\"ticker\"]\n",
    "key_columns_financas = [\"ticker\"]\n",
    "key_columns_mercado = [\"ticker\"]\n",
    "key_columns_dividendos = [\"ticker\",\"data_exdividendo\"]\n",
    "key_columns_valuation = [\"ticker\"]"
   ]
  },
  {
   "cell_type": "code",
   "execution_count": 21,
   "id": "fb96777e",
   "metadata": {
    "execution": {
     "iopub.execute_input": "2024-10-13T18:38:51.171845Z",
     "iopub.status.busy": "2024-10-13T18:38:51.171511Z",
     "iopub.status.idle": "2024-10-13T18:38:51.301314Z",
     "shell.execute_reply": "2024-10-13T18:38:51.300598Z"
    },
    "jupyter": {
     "source_hidden": true
    },
    "papermill": {
     "duration": 0.142484,
     "end_time": "2024-10-13T18:38:51.302706",
     "exception": false,
     "start_time": "2024-10-13T18:38:51.160222",
     "status": "completed"
    },
    "tags": []
   },
   "outputs": [
    {
     "name": "stdout",
     "output_type": "stream",
     "text": [
      "Upsert de paxpestg.temp_retorno_mensal realizado para paxpe.retorno_mensal.\n",
      "Upsert de paxpestg.temp_cadastro realizado para paxpe.cadastro.\n",
      "Upsert de paxpestg.temp_captacao_mercado realizado para paxpe.captacao_mercado.\n",
      "Upsert de paxpestg.temp_financas realizado para paxpe.financas.\n",
      "Upsert de paxpestg.temp_mercado realizado para paxpe.mercado.\n",
      "Upsert de paxpestg.temp_dividendos realizado para paxpe.dividendos.\n",
      "Upsert de paxpestg.temp_valuation realizado para paxpe.valuation.\n"
     ]
    }
   ],
   "source": [
    "# realiza o upsert\n",
    "upsert_data(\"retorno_mensal\", \"temp_retorno_mensal\", key_columns_retorno_mensal)\n",
    "upsert_data(\"cadastro\", \"temp_cadastro\", key_columns_cadastro)\n",
    "upsert_data(\"captacao_mercado\", \"temp_captacao_mercado\", key_columns_cap_mercado)\n",
    "upsert_data(\"financas\", \"temp_financas\", key_columns_financas)\n",
    "upsert_data(\"mercado\", \"temp_mercado\", key_columns_mercado)\n",
    "upsert_data(\"dividendos\", \"temp_dividendos\", key_columns_dividendos)\n",
    "upsert_data(\"valuation\", \"temp_valuation\", key_columns_valuation)"
   ]
  }
 ],
 "metadata": {
  "kernelspec": {
   "display_name": "Python 3",
   "language": "python",
   "name": "python3"
  },
  "language_info": {
   "codemirror_mode": {
    "name": "ipython",
    "version": 3
   },
   "file_extension": ".py",
   "mimetype": "text/x-python",
   "name": "python",
   "nbconvert_exporter": "python",
   "pygments_lexer": "ipython3",
   "version": "3.8.18"
  },
  "papermill": {
   "default_parameters": {},
   "duration": 203.251167,
   "end_time": "2024-10-13T18:38:53.968352",
   "environment_variables": {},
   "exception": null,
   "input_path": "/opt/airflow/dags/utils/paxpe.ipynb",
   "output_path": "/opt/airflow/dags/utils/paxpe_log.ipynb",
   "parameters": {},
   "start_time": "2024-10-13T18:35:30.717185",
   "version": "2.6.0"
  }
 },
 "nbformat": 4,
 "nbformat_minor": 5
}